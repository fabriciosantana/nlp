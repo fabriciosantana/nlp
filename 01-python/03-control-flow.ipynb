{
  "cells": [
    {
      "cell_type": "markdown",
      "metadata": {
        "colab_type": "text",
        "id": "view-in-github"
      },
      "source": [
        "<a href=\"https://colab.research.google.com/github/fabriciosantana/nlp/blob/main/01-python/03-control-flow.ipynb\" target=\"_parent\"><img src=\"https://colab.research.google.com/assets/colab-badge.svg\" alt=\"Open In Colab\"/></a>"
      ]
    },
    {
      "cell_type": "markdown",
      "id": "AIBWQhLqGeae",
      "metadata": {
        "id": "AIBWQhLqGeae"
      },
      "source": [
        "# Objetivos de Aprendizagem\n",
        "\n",
        "*  Dominar a utilização de estruturas condicionais para implementar lógica de decisão no programa, permitindo que o código responda de maneira dinâmica a diferentes situações e entradas;\n",
        "* Entender e aplicar estruturas de repetição para automatizar tarefas repetitivas e iterar sobre estruturas de dados, melhorando a eficiência e reduzindo a duplicação de código;\n",
        "* Aprender a aplicar técnicas avançadas de controle de fluxo para melhorar a clareza, a manutenção e a eficiência do código, utilizando tratamento de exceções e compreensões de estruturas de dados."
      ]
    },
    {
      "cell_type": "markdown",
      "id": "RR1_ewZ7P8lF",
      "metadata": {
        "id": "RR1_ewZ7P8lF"
      },
      "source": [
        "# 4.2 Estruturas de Controle de Fluxo\n",
        "\n",
        "Este *notebook* abrange estruturas condicionais, estruturas de repetição, e as instruções `break`, `continue`, `pass`, `match` e `try-except` em Python. Para cada tema, apresentaremos uma explicação teórica seguida de exemplos práticos com comentários.\n",
        "\n",
        "Para aprender mais sobre estruturas de controle de fluxo, acesse https://docs.python.org/pt-br/3/tutorial/controlflow.html."
      ]
    },
    {
      "cell_type": "markdown",
      "id": "JkDbWbeVP8lF",
      "metadata": {
        "id": "JkDbWbeVP8lF"
      },
      "source": [
        "## 4.2.1 Estruturas Condicionais\n",
        "\n",
        "###Conceito\n",
        "Estruturas condicionais permitem que o código execute diferentes blocos de instruções com base em condições específicas. Em Python, usamos `if`, `elif` e `else` para criar essas estruturas.\n",
        "\n",
        "###Aplicações\n",
        "Estruturas condicionais são usadas para tomar decisões no código, executando certas instruções apenas quando determinadas condições são atendidas.\n",
        "\n",
        "#### Condicional `if`"
      ]
    },
    {
      "cell_type": "markdown",
      "id": "L3Wgmttf3fH8",
      "metadata": {
        "id": "L3Wgmttf3fH8"
      },
      "source": [
        "A estrutura condicional `if` é uma das ferramentas mais fundamentais em programação, permitindo que o código tome decisões com base em condições específicas. Em Python, a estrutura `if` é usada para executar um bloco de código se uma condição for verdadeira."
      ]
    },
    {
      "cell_type": "code",
      "execution_count": null,
      "id": "YdBJsvNYP8lG",
      "metadata": {
        "id": "YdBJsvNYP8lG"
      },
      "outputs": [],
      "source": [
        "idade = 18 # Inicializa o valor de idade com 18\n",
        "\n",
        "if idade >= 18: # Se idade for maior ou igual a 18, exibe 'Pode votar e obter a CNH'\n",
        "    print('Pode votar e obter a CNH')  # Essa linha será executada porque idade é 18"
      ]
    },
    {
      "cell_type": "markdown",
      "id": "464uW_zX3qC4",
      "metadata": {
        "id": "464uW_zX3qC4"
      },
      "source": [
        "A estrutura condicional `if-elif` em Python permite que você execute diferentes blocos de código com base em várias condições. O `if` é usado para a primeira condição, `elif` (abreviação de `else if`) para condições adicionais."
      ]
    },
    {
      "cell_type": "code",
      "execution_count": null,
      "id": "LPmit5zv12mQ",
      "metadata": {
        "id": "LPmit5zv12mQ"
      },
      "outputs": [],
      "source": [
        "idade = 17 # Inicializa o valor de idade com 17\n",
        "\n",
        "if idade >= 18: # Se idade for maior ou igual a 18, exibe 'Pode votar e obter a CNH'\n",
        "    print('Pode votar e obter a CNH')  # Essa linha não será executada porque idade é 17\n",
        "elif idade >= 16 and idade < 18: # Se idade for maior ou igual a 16 e menor que 18, exibe 'Pode apenas votar'\n",
        "    print('Pode apenas votar')  # Essa linha será executada"
      ]
    },
    {
      "cell_type": "markdown",
      "id": "DhTFm_vn4Z9_",
      "metadata": {
        "id": "DhTFm_vn4Z9_"
      },
      "source": [
        "A estrutura condicional `else` em Python é usada em conjunto com `if` (e opcionalmente com `elif`) para executar um bloco de código quando nenhuma das condições anteriores for verdadeira. O `else` fornece um caminho padrão ou alternativo de execução quando todas as outras condições falharem, ou seja, quando todas as condicionais anteriores retornarem `False` para o teste."
      ]
    },
    {
      "cell_type": "code",
      "execution_count": null,
      "id": "TICYyMUP12WW",
      "metadata": {
        "id": "TICYyMUP12WW"
      },
      "outputs": [],
      "source": [
        "idade = 15 # Inicializa o valor de idade com 15\n",
        "\n",
        "if idade >= 18: # Se idade for maior ou igual a 18, exibe 'Pode votar e obter a CNH'\n",
        "    print('Pode votar e obter a CNH')  # Essa linha não será executada\n",
        "elif idade >= 16 and idade < 18: # Se idade for maior ou igual a 16 e menor que 18, exibe 'Pode apenas votar'\n",
        "    print('Pode apenas votar')  # Essa linha não será executada\n",
        "else: # Se idade for menor que 16 (última possibilidade), exibe 'Não pode votar e obter a CNH'\n",
        "    print('Não pode votar e obter a CNH')  # Essa linha será executada"
      ]
    },
    {
      "cell_type": "markdown",
      "id": "_-it5bKBWFfw",
      "metadata": {
        "id": "_-it5bKBWFfw"
      },
      "source": [
        "#### Bloco `match-case`\n",
        "\n",
        "A instrução `match` em Python é usada para correspondência de padrões, introduzida recentemente no Python 3.10. Ela é semelhante à instrução `switch` encontrada em outras linguagens de programação. De maneira simplificada, ela pode ser utilizada para testar valores para uma única variável (teste de igualdade `==`) e também permite o uso de operadores lógicos no teste."
      ]
    },
    {
      "cell_type": "code",
      "execution_count": null,
      "id": "64UTPSxSXt82",
      "metadata": {
        "id": "64UTPSxSXt82"
      },
      "outputs": [],
      "source": [
        "dia = 'sexta'\n",
        "\n",
        "match dia: # Variável a ser testada\n",
        "    case \"segunda\": # Possível valor\n",
        "        print('Início da semana')\n",
        "    case \"sexta\": # Possível valor\n",
        "        print('Quase fim de semana') # Será exibido 'Quase fim de semana'\n",
        "    case \"sábado\" | \"domingo\": # Possível valor sábado ou domingo\n",
        "        print('Fim de semana')\n",
        "    case _: # Valor padrão caso nenhum dos valores acima seja verdadeiro\n",
        "        print('Dia comum')"
      ]
    },
    {
      "cell_type": "markdown",
      "id": "z-Q4q54_P8lH",
      "metadata": {
        "id": "z-Q4q54_P8lH"
      },
      "source": [
        "## 4.2.2 Estruturas de Repetição\n",
        "\n",
        "###Conceito\n",
        "Estruturas de repetição, também conhecidas como *loop* ou laço de repetição, permitem que um bloco de código seja executado várias vezes. Em Python, usamos `for` e `while` para criar essas estruturas.\n",
        "\n",
        "###Aplicações\n",
        "Estruturas de repetição são usadas para iterar sobre coleções de dados ou executar um bloco de código, enquanto uma condição é verdadeira."
      ]
    },
    {
      "cell_type": "markdown",
      "id": "khKAkebdRnG9",
      "metadata": {
        "id": "khKAkebdRnG9"
      },
      "source": [
        "####Repetição `for`\n",
        "\n",
        "Para o uso básico do `for` em Python utilizamos a função `range()`. Ela gera um objeto iterável com um intervalo de números inteiros de `0` até o limite superior definido pelo parâmetro informado. A atualização da variável controladora `i` (variável que conta o número de repetições) é realizada por meio do operador `in`. Lembrando que em Python toda função ou indexação que utiliza intervalos possui o limite superior aberto, ou seja, itera até o `limite-1`. Veja o exemplo a seguir."
      ]
    },
    {
      "cell_type": "code",
      "execution_count": null,
      "id": "SO4SyKK7P8lH",
      "metadata": {
        "colab": {
          "base_uri": "https://localhost:8080/"
        },
        "id": "SO4SyKK7P8lH",
        "outputId": "2674b4f2-dd09-40ba-9619-5ad4811de72c"
      },
      "outputs": [
        {
          "name": "stdout",
          "output_type": "stream",
          "text": [
            "0\n",
            "1\n",
            "2\n",
            "3\n",
            "4\n"
          ]
        }
      ],
      "source": [
        "for i in range(5):  # Repete o bloco de código 5 vezes\n",
        "    print(i)  # Exibe o valor de i a cada iteração, de 0 a 4"
      ]
    },
    {
      "cell_type": "markdown",
      "id": "7nsWLnalTFNn",
      "metadata": {
        "id": "7nsWLnalTFNn"
      },
      "source": [
        "Também podemos definir o limite inferior para a função `range()`, ou seja, de qual número inteiro o intervalo será iniciado. Em Python, o padrão é `0` e esse limite inferior é fechado, ou seja, é considerado no início da contagem."
      ]
    },
    {
      "cell_type": "code",
      "execution_count": null,
      "id": "LcJg1laBTay-",
      "metadata": {
        "colab": {
          "base_uri": "https://localhost:8080/"
        },
        "id": "LcJg1laBTay-",
        "outputId": "2e7a2ac5-cfb1-46e8-c3c4-7143be7828f4"
      },
      "outputs": [
        {
          "name": "stdout",
          "output_type": "stream",
          "text": [
            "2\n",
            "3\n",
            "4\n"
          ]
        }
      ],
      "source": [
        "for i in range(2,5):  # Repete o bloco de código 3 vezes, iniciando no 2 até o 4\n",
        "    print(i)  # Exibe o valor de i a cada iteração, de 2 a 4"
      ]
    },
    {
      "cell_type": "markdown",
      "id": "EOTiJeZ_T0Sg",
      "metadata": {
        "id": "EOTiJeZ_T0Sg"
      },
      "source": [
        "Adicionalmente podemos especificar o passo do intervalo gerado pela função `range()`. Para isso, especificamos um terceiro parâmetro indicando o \"salto\" da sequência."
      ]
    },
    {
      "cell_type": "code",
      "execution_count": null,
      "id": "ILIrif5dUXU6",
      "metadata": {
        "colab": {
          "base_uri": "https://localhost:8080/"
        },
        "id": "ILIrif5dUXU6",
        "outputId": "84c28cab-ba2d-4ac1-9b6d-f6d0956558c5"
      },
      "outputs": [
        {
          "name": "stdout",
          "output_type": "stream",
          "text": [
            "1\n",
            "3\n",
            "5\n",
            "7\n",
            "9\n"
          ]
        }
      ],
      "source": [
        "for i in range(1,10,2):  # Repete o bloco de código 5 vezes, iniciando no 1 até o 9, de 2 em 2\n",
        "    print(i)  # Exibe 1 3 5 7 9"
      ]
    },
    {
      "cell_type": "markdown",
      "id": "B09IpBoDRo3X",
      "metadata": {
        "id": "B09IpBoDRo3X"
      },
      "source": [
        "Também podemos utilizar o operador `in` para iterar em uma lista."
      ]
    },
    {
      "cell_type": "code",
      "execution_count": null,
      "id": "sCmVu3zSZrFf",
      "metadata": {
        "colab": {
          "base_uri": "https://localhost:8080/"
        },
        "id": "sCmVu3zSZrFf",
        "outputId": "1079fcae-a445-4925-f841-0753528669a1"
      },
      "outputs": [
        {
          "name": "stdout",
          "output_type": "stream",
          "text": [
            "cachorro, gato, coelho, peixe, "
          ]
        }
      ],
      "source": [
        "animais = ['cachorro', 'gato', 'coelho', 'peixe'] # Criar uma lista de animais\n",
        "for animal in animais: # Itera na lista\n",
        "  print(animal, end=', ') # Exibe cachorro, gato, coelho, peixe,"
      ]
    },
    {
      "cell_type": "markdown",
      "id": "xZMemu-ZaMhc",
      "metadata": {
        "id": "xZMemu-ZaMhc"
      },
      "source": [
        "Caso seja necessário enumerar os itens da lista que será iterada, podemos passá-la como parâmetro para a função `enumerate()`. Nesse caso, a função retorna um objeto iterável de tuplas com dois valores que devem ser recebidos por, também, duas variáveis controladoras: uma do tipo `int` para receber a contagem e outra para o elemento da lista."
      ]
    },
    {
      "cell_type": "code",
      "execution_count": null,
      "id": "6Jr5EcNycfG1",
      "metadata": {
        "colab": {
          "base_uri": "https://localhost:8080/"
        },
        "id": "6Jr5EcNycfG1",
        "outputId": "8d994797-b388-44f2-ac59-dda11e699cad"
      },
      "outputs": [
        {
          "name": "stdout",
          "output_type": "stream",
          "text": [
            "O 1º animal é o cachorro.\n",
            "O 2º animal é o gato.\n",
            "O 3º animal é o coelho.\n",
            "O 4º animal é o peixe.\n"
          ]
        }
      ],
      "source": [
        "animais = ['cachorro', 'gato', 'coelho', 'peixe'] # Criar uma lista de animais\n",
        "for i, animal in enumerate(animais): # Itera na lista\n",
        "  print('O ' + str(i+1) + 'º animal é o ' + animal + '.') # Exibe O 1º animal é o cachorro... O 2º animal é o gato... e assim por diante"
      ]
    },
    {
      "cell_type": "markdown",
      "id": "-YjHuZLzeGHh",
      "metadata": {
        "id": "-YjHuZLzeGHh"
      },
      "source": [
        "No exemplo acima, somamos `i+1` (convertido para *string* para ser possível concatenar com outras *strings*) para dar o efeito de sequência ordinal sem alterar o valor da variável `i`, apenas com efeito de saída utilizando o `print()`."
      ]
    },
    {
      "cell_type": "markdown",
      "id": "YPSrYa_KlLxZ",
      "metadata": {
        "id": "YPSrYa_KlLxZ"
      },
      "source": [
        "#### *Comprehensions*\n",
        "\n",
        "Compreensões (*comprehensions*) em Python são uma maneira concisa e eficiente de criar listas, conjuntos e dicionários. Elas permitem a construção de novas coleções a partir de iteráveis existentes de forma mais legível e compacta. Construímos essas *comprehensions* utilizando a estrutura de repetição `for`."
      ]
    },
    {
      "cell_type": "markdown",
      "id": "BJScwAZHoAQp",
      "metadata": {
        "id": "BJScwAZHoAQp"
      },
      "source": [
        "##### *List comprehension*\n",
        "\n",
        "*List comprehension* é uma forma concisa de criar listas. A sintaxe básica é:\n",
        "```python\n",
        "[expression for item in iterable if condition]\n",
        "```\n",
        "onde `expression` é a expressão que produz os elementos da lista, `item` é a variável que toma cada valor do `iterable` e `if condition` é opcional, usada para filtrar os elementos.\n",
        "\n",
        "No exemplo a seguir, utilizaremos *list comprehension* para criar uma lista de quadrados de 0 a 9."
      ]
    },
    {
      "cell_type": "code",
      "execution_count": null,
      "id": "W0gqCbATmABb",
      "metadata": {
        "colab": {
          "base_uri": "https://localhost:8080/"
        },
        "id": "W0gqCbATmABb",
        "outputId": "dc43ddf1-883f-402a-da79-ad19f6645051"
      },
      "outputs": [
        {
          "name": "stdout",
          "output_type": "stream",
          "text": [
            "[0, 1, 4, 9, 16, 25, 36, 49, 64, 81]\n"
          ]
        }
      ],
      "source": [
        "quadrados = [x**2 for x in range(10)]\n",
        "print(quadrados) # Exibe [0, 1, 4, 9, 16, 25, 36, 49, 64, 81]"
      ]
    },
    {
      "cell_type": "markdown",
      "id": "PWP_p7PZmB1C",
      "metadata": {
        "id": "PWP_p7PZmB1C"
      },
      "source": [
        "Acima, `x**2` é a expressão que calcula o quadrado do item `x`, gerado a partir de um intervalo de números pelo iterável `range(10)`.\n",
        "\n",
        "No exemplo a seguir, também geramos uma lista de `0` a `9` filtrando apenas os números pares por meio do `if`."
      ]
    },
    {
      "cell_type": "code",
      "execution_count": null,
      "id": "SuBbXSudmDoI",
      "metadata": {
        "colab": {
          "base_uri": "https://localhost:8080/"
        },
        "id": "SuBbXSudmDoI",
        "outputId": "17781edf-a05b-4597-f27a-d133d25e8f20"
      },
      "outputs": [
        {
          "name": "stdout",
          "output_type": "stream",
          "text": [
            "[0, 2, 4, 6, 8]\n"
          ]
        }
      ],
      "source": [
        "pares = [x for x in range(10) if x % 2 == 0] # O if filtra os valores de x cujo o resto da divisão (%) destes números por 2 resulta em 0\n",
        "print(pares) # Exibe [0, 2, 4, 6, 8]"
      ]
    },
    {
      "cell_type": "markdown",
      "id": "GZFmMsVqmD7u",
      "metadata": {
        "id": "GZFmMsVqmD7u"
      },
      "source": [
        "As variáveis utilizadas em uma operação de *list comprehension* (e outras de *dict comprehension* e *set comprehension* que veremos mais adiante) possuem validade (ou escopo, como também veremos mais adiante) apenas dentro da *comprehension*, não podendo ser acessadas fora desse contexto."
      ]
    },
    {
      "cell_type": "markdown",
      "id": "oTQwdlJamVuH",
      "metadata": {
        "id": "oTQwdlJamVuH"
      },
      "source": [
        "##### Dict comprehension\n",
        "\n",
        "*Dict comprehension* é semelhante a *list comprehension*, mas cria um dicionário. A sintaxe básica é:\n",
        "```python\n",
        "{key: value for item in iterable if condition}\n",
        "```\n",
        "Onde `key` é a chave e `value` é o valor no dicionário.\n"
      ]
    },
    {
      "cell_type": "code",
      "execution_count": null,
      "id": "gjdluDd3mn-c",
      "metadata": {
        "colab": {
          "base_uri": "https://localhost:8080/"
        },
        "id": "gjdluDd3mn-c",
        "outputId": "7f68e94d-ac21-44f3-be10-717d08865b9c"
      },
      "outputs": [
        {
          "name": "stdout",
          "output_type": "stream",
          "text": [
            "{0: 0, 1: 1, 2: 4, 3: 9, 4: 16, 5: 25, 6: 36, 7: 49, 8: 64, 9: 81}\n"
          ]
        }
      ],
      "source": [
        "quadrados_dict = {x: x**2 for x in range(10)}\n",
        "print(quadrados_dict) # Exibe {0: 0, 1: 1, 2: 4, 3: 9, 4: 16, 5: 25, 6: 36, 7: 49, 8: 64, 9: 81}"
      ]
    },
    {
      "cell_type": "markdown",
      "id": "UlqI_729mv4a",
      "metadata": {
        "id": "UlqI_729mv4a"
      },
      "source": [
        "No exemplo acima, geramos um dicionário em que os valores de cada par são obtidos a partir dos valores das respectivas chaves elevados ao quadrado `x**2`."
      ]
    },
    {
      "cell_type": "code",
      "execution_count": null,
      "id": "ZZUfYH6GmnqY",
      "metadata": {
        "id": "ZZUfYH6GmnqY"
      },
      "outputs": [],
      "source": [
        "pares_dict = {x: x**2 for x in range(10) if x % 2 == 0}\n",
        "print(pares_dict) # Exibe {0: 0, 2: 4, 4: 16, 6: 36, 8: 64}"
      ]
    },
    {
      "cell_type": "markdown",
      "id": "I_pvnlmUnEBI",
      "metadata": {
        "id": "I_pvnlmUnEBI"
      },
      "source": [
        "Nesse exemplo, adicionamos um filtro `if x % 2 == 0` para que fossem geradas apenas chaves com números pares (divisível naturalmente por 2)."
      ]
    },
    {
      "cell_type": "markdown",
      "id": "kUpnK_8EniGr",
      "metadata": {
        "id": "kUpnK_8EniGr"
      },
      "source": [
        "#####Set comprehension\n",
        "\n",
        "*Set comprehension* é semelhante a *dict comprehension*, mas cria um conjunto. A sintaxe básica é:\n",
        "```python\n",
        "{expression for item in iterable if condition}\n",
        "```\n",
        "\n",
        "Veja, a seguir, os mesmos exemplos utilizados em *list comprehension*."
      ]
    },
    {
      "cell_type": "code",
      "execution_count": null,
      "id": "wUjjhjIznr5q",
      "metadata": {
        "colab": {
          "base_uri": "https://localhost:8080/"
        },
        "id": "wUjjhjIznr5q",
        "outputId": "2c034122-b309-45e4-914b-62f65954bb73"
      },
      "outputs": [
        {
          "name": "stdout",
          "output_type": "stream",
          "text": [
            "{0, 1, 64, 4, 36, 9, 16, 49, 81, 25}\n"
          ]
        }
      ],
      "source": [
        "# Set comprehension para criar um conjunto de quadrados de 0 a 9\n",
        "quadrados_set = {x**2 for x in range(10)}\n",
        "print(quadrados_set)"
      ]
    },
    {
      "cell_type": "code",
      "execution_count": null,
      "id": "pp71q_uBnsNp",
      "metadata": {
        "colab": {
          "base_uri": "https://localhost:8080/"
        },
        "id": "pp71q_uBnsNp",
        "outputId": "7283e298-b359-48e4-b829-8db422373810"
      },
      "outputs": [
        {
          "name": "stdout",
          "output_type": "stream",
          "text": [
            "{0, 2, 4, 6, 8}\n"
          ]
        }
      ],
      "source": [
        "# Set comprehension para criar um conjunto de números pares de 0 a 9\n",
        "pares_set = {x for x in range(10) if x % 2 == 0}\n",
        "print(pares_set)"
      ]
    },
    {
      "cell_type": "markdown",
      "id": "ZzwLoYbEnxhK",
      "metadata": {
        "id": "ZzwLoYbEnxhK"
      },
      "source": [
        "Observe que como os conjuntos são objetos que não mantém a ordem dos elementos, os valores podem ser mostrados de maneira desordenada."
      ]
    },
    {
      "cell_type": "markdown",
      "id": "Xy0bLG1Kf6p1",
      "metadata": {
        "id": "Xy0bLG1Kf6p1"
      },
      "source": [
        "####Repetição `while`\n",
        "\n",
        "A estrutura `while` executa um teste condicional no início de cada repetição. As repetições são realizadas enquanto a condição retornar `True`. Isso quer dizer que o `while` permite executar repetidamente um bloco de código enquanto uma condição específica for verdadeira. É uma maneira eficiente de criar *loops* que continuam até que a condição definida seja falsa e, consequentemente, a repetição seja interrompida."
      ]
    },
    {
      "cell_type": "code",
      "execution_count": null,
      "id": "QXr1RNhrRpii",
      "metadata": {
        "colab": {
          "base_uri": "https://localhost:8080/"
        },
        "id": "QXr1RNhrRpii",
        "outputId": "144b9d23-4de7-4e28-ef7a-6504563d0e94"
      },
      "outputs": [
        {
          "name": "stdout",
          "output_type": "stream",
          "text": [
            "0\n",
            "1\n",
            "2\n",
            "3\n",
            "4\n"
          ]
        }
      ],
      "source": [
        "cont = 0 # Inicializa uma variável contadora por meio da atribuição do valor 0\n",
        "while cont < 5:  # Continua executando enquanto cont for menor que 5 (enquanto verdadeiro)\n",
        "    print(cont)  # Exibe o valor de cont a cada iteração\n",
        "    cont += 1  # Incrementa cont em 1 a cada iteração. Equivalente a cont = cont + 1"
      ]
    },
    {
      "cell_type": "markdown",
      "id": "OpfTDCLl7vAQ",
      "metadata": {
        "id": "OpfTDCLl7vAQ"
      },
      "source": [
        "No exemplo acima, enquanto a condição `cont < 5` for verdadeira, o bloco de comandos do `while` a seguir será repetido. Em outras palavras, a repetição acontece enquanto a variável `cont` tiver seu valor menor que `5`. Quando o valor de `cont` atingir 5, o comando de repetição `while` será encerrado."
      ]
    },
    {
      "cell_type": "markdown",
      "id": "ZDoOTDgcP8lH",
      "metadata": {
        "id": "ZDoOTDgcP8lH"
      },
      "source": [
        "## 4.2.3 Instruções de Salto\n",
        "\n",
        "### Instrução `break`\n",
        "\n",
        "A instrução `break` é usada para interromper a execução de um *loop* prematuramente. Quando o `break` é executado, o *loop* termina imediatamente. O comando `break` é util como recurso para garantir que uma estrutura de repetição não continue sendo executada, caso ocorra alguma situação. Normalmente, é utilizado em conjunto com uma condicional `if` no teste de situações para efetuar a tomada de decisão para uma parada repentina. Algumas dessas situações incluem:\n",
        "\n",
        "* **Encerrar um loop ao encontrar um valor**: se você estiver procurando por um valor específico em uma lista, por exemplo, pode usar o `break` para sair do *loop* assim que encontrar o valor desejado, evitando iterações desnecessárias.\n",
        "* **Sair de um loop infinito**: *loops* infinitos são úteis em certas situações, como servidores que aguardam conexões. O `break` pode ser usado para sair do *loop* quando uma condição de parada for atendida.\n"
      ]
    },
    {
      "cell_type": "code",
      "execution_count": null,
      "id": "ZL5PLM7GP8lI",
      "metadata": {
        "id": "ZL5PLM7GP8lI"
      },
      "outputs": [],
      "source": [
        "for i in range(10):  # Repetiria de 0 a 9 se não houvesse o break\n",
        "    if i == 5:  # Condição para interromper o loop\n",
        "        break  # Interrompe o loop quando i é 5\n",
        "    print(i)  # Exibe os valores de 0 a 4"
      ]
    },
    {
      "cell_type": "markdown",
      "id": "VDaypIW6P8lI",
      "metadata": {
        "id": "VDaypIW6P8lI"
      },
      "source": [
        "#### Instrução `continue`\n",
        "\n",
        "A instrução `continue` é usada para pular a iteração atual de um *loop* e continuar com a próxima iteração. Enquanto o `break` interrompe todas as próximas iterações após sua ocorrência, o `continue` passa para a próxima iteração, ignorando o código subsequente da iteração atual após a sua ocorrência."
      ]
    },
    {
      "cell_type": "code",
      "execution_count": null,
      "id": "fY7hTkCCP8lI",
      "metadata": {
        "colab": {
          "base_uri": "https://localhost:8080/"
        },
        "id": "fY7hTkCCP8lI",
        "outputId": "ea65ddb3-f054-48f0-a4d1-6b5d78a8792a"
      },
      "outputs": [
        {
          "name": "stdout",
          "output_type": "stream",
          "text": [
            "1\n",
            "3\n",
            "5\n",
            "7\n",
            "9\n"
          ]
        }
      ],
      "source": [
        "for i in range(10):  # Repete de 0 a 9\n",
        "    if i % 2 == 0:  # Condição para pular a iteração\n",
        "        continue  # Pula a iteração quando i é par não executando os códigos abaixo dessa linha\n",
        "    print(i)  # Exibe os valores ímpares de 1, 3, 5, 7 e 9"
      ]
    },
    {
      "cell_type": "markdown",
      "id": "aVCyTU9gP8lI",
      "metadata": {
        "id": "aVCyTU9gP8lI"
      },
      "source": [
        "## 4.2.4 Outras Instruções de Controle\n",
        "\n",
        "Além do `break` e do `continue`, existem outras instruções que podem ser utilizadas para dar fluidez e maior controle na implementação de códigos, mas que não são aplicadas exclusivamente em estruturas de repetição, podendo ser usadas em outros contextos.\n",
        "\n",
        "### Instrução `pass`\n",
        "\n",
        "A instrução `pass` é um *placeholder* (espaço reservado). É usada quando uma instrução é necessária sintaticamente, mas não há necessidade de nenhuma ação ou código. Seu uso não é comum, mas necessário em algumas situações, principalmente quando precisamos estruturar um bloco de código, mas não temos os códigos que serão inseridos nesse bloco; nesse caso, `pass` evita um `SyntaxError` de um bloco vazio e permite uma implementação futura à medida que o código amadurece."
      ]
    },
    {
      "cell_type": "code",
      "execution_count": null,
      "id": "XFl9i_MCP8lI",
      "metadata": {
        "id": "XFl9i_MCP8lI"
      },
      "outputs": [],
      "source": [
        "for i in range(10):  # Repete de 0 a 9\n",
        "    if i % 2 == 0:\n",
        "        pass # Futura implementação\n",
        "    else:\n",
        "        pass # Futura implementação"
      ]
    },
    {
      "cell_type": "markdown",
      "id": "jL3l3WNGP8lJ",
      "metadata": {
        "id": "jL3l3WNGP8lJ"
      },
      "source": [
        "## 4.2.5 Estrutura `try-except`\n",
        "\n",
        "A estrutura `try-except` é usada para capturar e tratar exceções em Python. Isso permite que o programa lide com erros de maneira controlada. O uso dessa estrutura é util quando o programador consegue prever possíveis erros de execução e deseja manter a execução do algoritmo. A maioria desses erros é proveniente de entradas realizadas por usuários ou outros sistemas que não podem ser controladas. Portanto, é uma estrutura que também pode ser utilizada para validação de dados de entrada.\n",
        "\n",
        "No exemplo a seguir, recebemos um número digitado pelo usuário e usamos esse valor como divisor em uma operação de divisão. Caso o valor informado pelo usuário seja `0`, precisamos controlar o erro gerado por uma divisão por zero; caso contrário, mostramos o resultado. No `except` não informamos o tipo de erro que estamos monitorando, portanto, na ocorrência de qualquer erro, o `expect` será executado."
      ]
    },
    {
      "cell_type": "code",
      "execution_count": null,
      "id": "n2jZlHaeP8lJ",
      "metadata": {
        "colab": {
          "base_uri": "https://localhost:8080/",
          "height": 245
        },
        "id": "n2jZlHaeP8lJ",
        "outputId": "cbe9ae0d-08d8-4a5e-807a-fdd62fe3e7ee"
      },
      "outputs": [
        {
          "name": "stdout",
          "output_type": "stream",
          "text": [
            "Informe um número inteiro diferente de 0 para efetuar a operação de divisão:a\n"
          ]
        },
        {
          "ename": "ValueError",
          "evalue": "invalid literal for int() with base 10: 'a'",
          "output_type": "error",
          "traceback": [
            "\u001b[0;31m---------------------------------------------------------------------------\u001b[0m",
            "\u001b[0;31mValueError\u001b[0m                                Traceback (most recent call last)",
            "\u001b[0;32m<ipython-input-23-ace9b6e7fd2e>\u001b[0m in \u001b[0;36m<cell line: 1>\u001b[0;34m()\u001b[0m\n\u001b[0;32m----> 1\u001b[0;31m \u001b[0mnum\u001b[0m \u001b[0;34m=\u001b[0m \u001b[0mint\u001b[0m\u001b[0;34m(\u001b[0m\u001b[0minput\u001b[0m\u001b[0;34m(\u001b[0m\u001b[0;34m'Informe um número inteiro diferente de 0 para efetuar a operação de divisão:'\u001b[0m\u001b[0;34m)\u001b[0m\u001b[0;34m)\u001b[0m \u001b[0;31m# Digite 0 para simular o erro\u001b[0m\u001b[0;34m\u001b[0m\u001b[0;34m\u001b[0m\u001b[0m\n\u001b[0m\u001b[1;32m      2\u001b[0m \u001b[0;34m\u001b[0m\u001b[0m\n\u001b[1;32m      3\u001b[0m \u001b[0;32mtry\u001b[0m\u001b[0;34m:\u001b[0m\u001b[0;34m\u001b[0m\u001b[0;34m\u001b[0m\u001b[0m\n\u001b[1;32m      4\u001b[0m     \u001b[0mresult\u001b[0m \u001b[0;34m=\u001b[0m \u001b[0;36m10\u001b[0m \u001b[0;34m/\u001b[0m \u001b[0mnum\u001b[0m  \u001b[0;31m# Esta linha causará um erro se o usuário informar 0 para num\u001b[0m\u001b[0;34m\u001b[0m\u001b[0;34m\u001b[0m\u001b[0m\n\u001b[1;32m      5\u001b[0m     \u001b[0mprint\u001b[0m\u001b[0;34m(\u001b[0m\u001b[0mresult\u001b[0m\u001b[0;34m)\u001b[0m\u001b[0;34m\u001b[0m\u001b[0;34m\u001b[0m\u001b[0m\n",
            "\u001b[0;31mValueError\u001b[0m: invalid literal for int() with base 10: 'a'"
          ]
        }
      ],
      "source": [
        "num = int(input('Informe um número inteiro diferente de 0 para efetuar a operação de divisão:')) # Digite 0 para simular o erro\n",
        "\n",
        "try:\n",
        "    result = 10 / num  # Essa linha causará um erro se o usuário informar 0 para num\n",
        "    print(result)\n",
        "except:  # Em caso de QUALQUER TIPO DE ERRO\n",
        "    print('Erro: divisão por zero não é permitida.') # Exibe 'Erro: divisão por zero não é permitida.' se usuário informar 0"
      ]
    },
    {
      "cell_type": "markdown",
      "id": "VM5ZEFqgEKUM",
      "metadata": {
        "id": "VM5ZEFqgEKUM"
      },
      "source": [
        "Além de podermos tratar erros genéricos, como no exemplo acima, podemos especificar o que deve ser feito na ocorrência de um erro específico para cada caso. No exemplo a seguir, o `except` somente será executado se o `try` reportar uma classe de erro `ZeroDivisionError`. Qualquer outra classe de erro será ignorada, gerando uma exceção.\n",
        "\n",
        "Você pode consultar todas as classes de erros em https://docs.python.org/3/library/exceptions.html."
      ]
    },
    {
      "cell_type": "code",
      "execution_count": null,
      "id": "q-LxRXK7GMT6",
      "metadata": {
        "colab": {
          "base_uri": "https://localhost:8080/",
          "height": 245
        },
        "id": "q-LxRXK7GMT6",
        "outputId": "50468295-027e-4c53-8792-a7172354162e"
      },
      "outputs": [
        {
          "name": "stdout",
          "output_type": "stream",
          "text": [
            "Informe um número inteiro diferente de 0 para efetuar a operação de divisão:a\n"
          ]
        },
        {
          "ename": "ValueError",
          "evalue": "invalid literal for int() with base 10: 'a'",
          "output_type": "error",
          "traceback": [
            "\u001b[0;31m---------------------------------------------------------------------------\u001b[0m",
            "\u001b[0;31mValueError\u001b[0m                                Traceback (most recent call last)",
            "\u001b[0;32m<ipython-input-22-afca73497f5f>\u001b[0m in \u001b[0;36m<cell line: 1>\u001b[0;34m()\u001b[0m\n\u001b[0;32m----> 1\u001b[0;31m \u001b[0mnum\u001b[0m \u001b[0;34m=\u001b[0m \u001b[0mint\u001b[0m\u001b[0;34m(\u001b[0m\u001b[0minput\u001b[0m\u001b[0;34m(\u001b[0m\u001b[0;34m'Informe um número inteiro diferente de 0 para efetuar a operação de divisão:'\u001b[0m\u001b[0;34m)\u001b[0m\u001b[0;34m)\u001b[0m \u001b[0;31m# Digite 0 para simular o erro\u001b[0m\u001b[0;34m\u001b[0m\u001b[0;34m\u001b[0m\u001b[0m\n\u001b[0m\u001b[1;32m      2\u001b[0m \u001b[0;34m\u001b[0m\u001b[0m\n\u001b[1;32m      3\u001b[0m \u001b[0;32mtry\u001b[0m\u001b[0;34m:\u001b[0m\u001b[0;34m\u001b[0m\u001b[0;34m\u001b[0m\u001b[0m\n\u001b[1;32m      4\u001b[0m     \u001b[0mresult\u001b[0m \u001b[0;34m=\u001b[0m \u001b[0;36m10\u001b[0m \u001b[0;34m/\u001b[0m \u001b[0mnum\u001b[0m  \u001b[0;31m# Esta linha causará uma exceção ZeroDivisionError se o usuário informar 0 para num\u001b[0m\u001b[0;34m\u001b[0m\u001b[0;34m\u001b[0m\u001b[0m\n\u001b[1;32m      5\u001b[0m     \u001b[0mprint\u001b[0m\u001b[0;34m(\u001b[0m\u001b[0mresult\u001b[0m\u001b[0;34m)\u001b[0m\u001b[0;34m\u001b[0m\u001b[0;34m\u001b[0m\u001b[0m\n",
            "\u001b[0;31mValueError\u001b[0m: invalid literal for int() with base 10: 'a'"
          ]
        }
      ],
      "source": [
        "num = int(input('Informe um número inteiro diferente de 0 para efetuar a operação de divisão:')) # Digite 0 para simular o erro\n",
        "\n",
        "try:\n",
        "    result = 10 / num  # Essa linha causará uma exceção ZeroDivisionError se o usuário informar 0 para num\n",
        "    print(result)\n",
        "except ZeroDivisionError:  # Captura a exceção ZeroDivisionError\n",
        "    print('Erro: divisão por zero não é permitida.') # Exibe 'Erro: divisão por zero não é permitida.' se usuário informar 0"
      ]
    },
    {
      "cell_type": "markdown",
      "id": "fPNbHtm6IAw1",
      "metadata": {
        "id": "fPNbHtm6IAw1"
      },
      "source": [
        "Observe que no exemplo acima fizemos o *casting* `int(input(...)`, pois todos os valores digitados pelo usuário são recebidos pelo comando `input()` como uma *string*. Sempre ao receber um valor numérico, deve ser realizada a conversão antes de realizar operações.\n",
        "\n",
        "Em outro exemplo, a seguir, tentamos abrir um arquivo inexistente, gerando um erro da classe `FileNotFoundError`."
      ]
    },
    {
      "cell_type": "code",
      "execution_count": null,
      "id": "DRdg00yQIAD9",
      "metadata": {
        "id": "DRdg00yQIAD9"
      },
      "outputs": [],
      "source": [
        "try:\n",
        "    with open('arquivo_inexistente.txt', 'r') as file:  # Tentativa de abrir um arquivo inexistente\n",
        "        content = file.read()\n",
        "except FileNotFoundError:  # Captura a exceção FileNotFoundError\n",
        "    print('Erro: arquivo não encontrado.') # Exibe 'Erro: divisão por zero não é permitida.'"
      ]
    },
    {
      "cell_type": "markdown",
      "id": "uuSE8x5WJ8Ip",
      "metadata": {
        "id": "uuSE8x5WJ8Ip"
      },
      "source": [
        "Mesmo não especificando a classe de erro no `except`, podemos capturá-la por meio do `Exception as e`, armazendo o texto do erro no *alias* `e` para exibí-lo, caso seja necessário."
      ]
    },
    {
      "cell_type": "code",
      "execution_count": null,
      "id": "zwZJC9joKY3C",
      "metadata": {
        "colab": {
          "base_uri": "https://localhost:8080/"
        },
        "id": "zwZJC9joKY3C",
        "outputId": "68d675b5-b1e8-42b7-e50e-41b016178bee"
      },
      "outputs": [
        {
          "name": "stdout",
          "output_type": "stream",
          "text": [
            "Informe um número inteiro diferente de 0 para efetuar a operação de divisão:0\n",
            "O script retornou o seguinte erro: division by zero\n"
          ]
        }
      ],
      "source": [
        "num = int(input('Informe um número inteiro diferente de 0 para efetuar a operação de divisão:')) # Digite 0 para simular o erro\n",
        "\n",
        "try:\n",
        "    result = 10 / num  # Essa linha causará um erro se o usuário informar 0 para num\n",
        "    print(result)\n",
        "except Exception as e:  # Captura e armazena o texto do erro no Exception e utilizamos o alias e para exibir no print abaixo\n",
        "    print('O script retornou o seguinte erro:', e) # Exibe 'O script retornou o seguinte erro: division by zero'"
      ]
    },
    {
      "cell_type": "markdown",
      "id": "ZBsU_1zPF4s3",
      "metadata": {
        "id": "ZBsU_1zPF4s3"
      },
      "source": [
        "Dentro de um `try-except` podemos encadear várias classes de erros e definir ações para cada uma delas, especificando um `except` para cada erro."
      ]
    },
    {
      "cell_type": "code",
      "execution_count": null,
      "id": "sa_I3ZEpGtGO",
      "metadata": {
        "id": "sa_I3ZEpGtGO"
      },
      "outputs": [],
      "source": [
        "try:\n",
        "  num = int(input('Informe um número inteiro diferente de 0 para efetuar a operação de divisão:')) # Digite 0, ou um float ou um texto para simular o erro\n",
        "  result = 10 / num  # Essa linha causará um ZeroDivisionError se o usuário informar 0 para num ou ValueError se a entrada não for um número inteiro\n",
        "  print(result)\n",
        "except ValueError: # Caso a entrada não seja um número inteiro resultará na exceção ValueError\n",
        "  print(\"Erro: Informe um número inteiro.\")\n",
        "except ZeroDivisionError:  # Caso ocorra erro no cálculo por divisão por 0 resultará na exceção ZeroDivisionError\n",
        "  print('Erro: Informe um número inteiro maior que 0.')"
      ]
    },
    {
      "cell_type": "markdown",
      "id": "snSLCzc6EKRV",
      "metadata": {
        "id": "snSLCzc6EKRV"
      },
      "source": [
        "Para finalizar, o `try-catch` permite o uso da claúsulas `else` e `finally`.\n",
        "\n",
        "O comando `else` é executado quando não ocorre nenhum erro, enquanto o `finally` é executado independentemente do resultado do `try-catch`, ou seja, sempre."
      ]
    },
    {
      "cell_type": "code",
      "execution_count": null,
      "id": "R_Uiw8c5Hf-C",
      "metadata": {
        "id": "R_Uiw8c5Hf-C"
      },
      "outputs": [],
      "source": [
        "try:\n",
        "  num = int(input('Informe um número inteiro diferente de 0 para efetuar a operação de divisão:')) # Digite 0, ou um float ou um texto para simular o erro\n",
        "  result = 10 / num  # Essa linha causará um ZeroDivisionError se o usuário informar 0 para num ou ValueError se a entrada não for um número inteiro\n",
        "except ValueError: # Caso a entrada não seja um número inteiro resultará na exceção ValueError\n",
        "  print(\"Erro: Informe um número inteiro.\")\n",
        "except ZeroDivisionError:  # Caso ocorra erro no cálculo por divisão por 0 resultará na exceção ZeroDivisionError\n",
        "  print('Erro: Informe um número inteiro diferente de 0.')\n",
        "else: # Caso não ocorra nenhum erro\n",
        "  print('O resultado é ', result) # Colocamos o print do resultado aqui visualizarmos o else executando\n",
        "finally:\n",
        "  print('Fim!')\n",
        "#print('Fim!') poderia ser escrito aqui com o mesmo efeito. Observem que pela indentação, esse comando está fora do try-catch"
      ]
    },
    {
      "cell_type": "markdown",
      "id": "n9wJ5PzIV74c",
      "metadata": {
        "id": "n9wJ5PzIV74c"
      },
      "source": [
        "Como o `finally` é executado de qualquer forma, sintaticamente, ele é opcional e serve apenas para manter a coerência de contexto dos códigos, ou seja, apenas para receber códigos referentes ao contexto do `try-catch` que devem ser executados ao final do bloco."
      ]
    }
  ],
  "metadata": {
    "colab": {
      "include_colab_link": true,
      "provenance": []
    },
    "kernelspec": {
      "display_name": "base",
      "language": "python",
      "name": "python3"
    },
    "language_info": {
      "name": "python",
      "version": "3.12.3"
    }
  },
  "nbformat": 4,
  "nbformat_minor": 5
}
