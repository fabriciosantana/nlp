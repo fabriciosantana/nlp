{
  "cells": [
    {
      "cell_type": "markdown",
      "metadata": {
        "colab_type": "text",
        "id": "view-in-github"
      },
      "source": [
        "<a href=\"https://colab.research.google.com/github/fabriciosantana/nlp/blob/main/01-python/02-data-structure.ipynb\" target=\"_parent\"><img src=\"https://colab.research.google.com/assets/colab-badge.svg\" alt=\"Open In Colab\"/></a>"
      ]
    },
    {
      "cell_type": "markdown",
      "id": "AIBWQhLqGeae",
      "metadata": {
        "id": "AIBWQhLqGeae"
      },
      "source": [
        "# Objetivos de Aprendizagem\n",
        "\n",
        "*   Entender e diferenciar as principais estruturas de dados em Python, incluindo listas, tuplas, dicionários e conjuntos, compreendendo suas características, vantagens e desvantagens;\n",
        "* Aprender a criar, acessar, modificar e excluir elementos dentro dessas estruturas de dados, aplicando métodos e funções específicas de cada uma para manipulação eficiente dos dados;\n",
        "* Aplicar as estruturas de dados em exemplos práticos e problemas do mundo real, utilizando-as para armazenar e manipular dados de forma organizada e eficiente, desenvolvendo a habilidade de escolher a estrutura de dados mais adequada para cada situação.\n"
      ]
    },
    {
      "cell_type": "markdown",
      "id": "PqZqF1fI5_dl",
      "metadata": {
        "id": "PqZqF1fI5_dl"
      },
      "source": [
        "# 3.2 Estrutura de Dados\n",
        "\n",
        "## 3.2.1 Objetos Mutáveis e Imutáveis\n",
        "\n",
        "Em Python, os dados são armazenados em objetos. Esses objetos podem ser classificados como mutáveis ou imutáveis, dependendo de sua capacidade de serem modificados após a criação. Compreender a diferença entre esses tipos de objetos é fundamental para a manipulação eficiente de dados e para evitar erros comuns no desenvolvimento de *software*.\n",
        "\n",
        "###Objetos mutáveis\n",
        "\n",
        "Objetos mutáveis são aqueles cujo estado ou conteúdo pode ser alterado após sua criação. Em outras palavras, é possível modificar, adicionar ou remover elementos desses objetos sem criar um novo objeto.\n",
        "\n",
        "Listas, dicionários e conjuntos (que serão abordados nesta Unidade) são exemplos de estruturas de dados mutáveis.\n",
        "\n",
        "####Vantagens e desvantagens dos objetos mutáveis\n",
        "\n",
        "#####Vantagens:\n",
        "\n",
        "* Eficiência na modificação de grandes volumes de dados sem a necessidade de criar novos objetos.\n",
        "* Flexibilidade na manipulação de dados.\n",
        "\n",
        "#####Desvantagens:\n",
        "\n",
        "* Pode levar a efeitos colaterais indesejados se não forem manipulados corretamente.\n",
        "* Maior potencial para erros difíceis de rastrear em programas complexos.\n",
        "\n",
        "###Objetos imutáveis\n",
        "\n",
        "Objetos imutáveis são aqueles cujo estado ou conteúdo não pode ser alterado após a criação. Qualquer operação que modifique um objeto imutável resultará na criação de um novo objeto, deixando o original inalterado.\n",
        "\n",
        "Tuplas (que também será abordada nesta Unidade), *strings* e números são exemplos de objetos imutáveis.\n",
        "\n",
        "####Vantagens e desvantagens dos objetos imutáveis\n",
        "\n",
        "#####Vantagens:\n",
        "\n",
        "* Simplicidade e segurança, evitando efeitos colaterais indesejados como a alteração de um valor por acidente.\n",
        "* Melhor desempenho em algumas operações devido à sua natureza imutável.\n",
        "* Facilita a implementação de estruturas de dados imutáveis, que são inerentemente *thread-safe*.\n",
        "\n",
        "Antes de apresentarmos o conceito de *thread-safe*, vamos entender que *threads* são unidades básicas de execução dentro de um processo (um programa em execução). Um processo pode conter várias *threads*, que compartilham o mesmo espaço de memória, mas executam de forma independente. Em programação, *threads* são usadas para executar múltiplas tarefas simultaneamente dentro de um único processo, permitindo que um programa faça várias coisas ao mesmo tempo (paralelismo).\n",
        "\n",
        "O conceito de *thread-safe* em programação refere-se à propriedade de um pedaço de código, uma função, ou um objeto que pode ser utilizado simultaneamente por múltiplas *threads* sem causar comportamentos inesperados ou erros. Em outras palavras, um código é considerado *thread-safe* se ele funciona corretamente e de forma consistente quando acessado por várias *threads* ao mesmo tempo.\n",
        "\n",
        "#####Desvantagens:\n",
        "\n",
        "* Pode ser menos eficiente em termos de memória e processamento ao realizar muitas operações de modificação, pois novos objetos precisam ser criados.\n",
        "\n",
        "Para saber mais sobre objetos mutáveis e imutáveis, acesse https://www.geeksforgeeks.org/mutable-vs-immutable-objects-in-python/."
      ]
    },
    {
      "cell_type": "markdown",
      "id": "OhrLbvdsWsXK",
      "metadata": {
        "id": "OhrLbvdsWsXK"
      },
      "source": [
        "## 3.2.2 Estruturas básicas de dados\n",
        "\n",
        "Este _notebook_ aborda as estruturas de dados básicas do Python: listas, tuplas, dicionários e conjuntos. Cada seção contém uma explicação detalhada, seguida de exemplos de código com comentários."
      ]
    },
    {
      "cell_type": "markdown",
      "id": "qesV1PhAWsXL",
      "metadata": {
        "id": "qesV1PhAWsXL"
      },
      "source": [
        "### 3.2.2.1 Listas\n",
        "\n",
        "### Conceito\n",
        "Listas são coleções ordenadas e mutáveis de elementos. Elas são extremamente versáteis e permitem a manipulação de dados de várias formas.\n",
        "\n",
        "Dizemos que uma coleção de dados é ordenada quando a ordem de inserção dos elementos nessa estrutura não se altera dinamicamente, ou seja, quando a ordem de inserção dos elementos é mantida no decorrer do seu uso.\n",
        "\n",
        "### Aplicações\n",
        "Listas são usadas quando precisamos de uma coleção de itens ordenada e que pode ser modificada. Elas são úteis para armazenar sequências de dados, como registros de dados, filas de tarefas e muito mais.\n",
        "\n",
        "Em Python, uma lista é criada usando os colchetes `[` e `]` e separando os elementos por vírgula. Importante ressaltar que esses elementos devem respeitar sua tipagem, por exemplo, *strings* devem ser colocadas entre aspas (`\"`) ou apóstrofos (`'`).\n",
        "\n",
        "Por serem uma estrutura de dados, as listas possuem métodos e funções capazes de realizar inúmeras operações que facilitam a manipulação de dados, apresentadas a seguir.\n",
        "\n",
        "Para saber mais sobre listas, acesse https://www.w3schools.com/python/python_lists.asp."
      ]
    },
    {
      "cell_type": "markdown",
      "id": "FNCPQgcQmPYT",
      "metadata": {
        "id": "FNCPQgcQmPYT"
      },
      "source": [
        "#### Criar uma lista\n",
        "\n",
        "Podemos criar listas vazias apenas atribuindo `[]` a um identificador ou informando os elementos separados por vírgula entre `[` e `]`."
      ]
    },
    {
      "cell_type": "code",
      "execution_count": 1,
      "id": "ylNLrkFLWsXM",
      "metadata": {
        "colab": {
          "base_uri": "https://localhost:8080/"
        },
        "id": "ylNLrkFLWsXM",
        "outputId": "9e99e8a1-33c4-4f84-e1b3-71262f37a9aa"
      },
      "outputs": [
        {
          "name": "stdout",
          "output_type": "stream",
          "text": [
            "['maçã', 'banana', 'cereja']\n"
          ]
        }
      ],
      "source": [
        "lista_vazia = [] # Define uma lista sem elementos\n",
        "frutas = ['maçã', 'banana', 'cereja']  # Define uma lista de frutas\n",
        "print(frutas)  # Exibe a lista ['maçã', 'banana', 'cereja']"
      ]
    },
    {
      "cell_type": "markdown",
      "id": "1OWXfTQTmTsK",
      "metadata": {
        "id": "1OWXfTQTmTsK"
      },
      "source": [
        "#### Acessar elementos da lista\n",
        "\n",
        "Para acessar um elemento específico da lista, chamamos o identificador da lista seguido do índice desejado entre `[` e `]`. Lembrando que em Python todos os índices de elementos iteráveis começam com `0` (zero)."
      ]
    },
    {
      "cell_type": "code",
      "execution_count": null,
      "id": "N7inehwIYtLY",
      "metadata": {
        "colab": {
          "base_uri": "https://localhost:8080/"
        },
        "id": "N7inehwIYtLY",
        "outputId": "8e506a4f-4b64-4e91-a37e-c3a13462d799"
      },
      "outputs": [
        {
          "name": "stdout",
          "output_type": "stream",
          "text": [
            "maçã\n",
            "cereja\n"
          ]
        }
      ],
      "source": [
        "print(frutas[0])  # Exibe o primeiro elemento da lista maçã\n",
        "print(frutas[-1])  # Exibe o último elemento da lista cereja"
      ]
    },
    {
      "cell_type": "markdown",
      "id": "YQRqjSt_mXMv",
      "metadata": {
        "id": "YQRqjSt_mXMv"
      },
      "source": [
        "#### Modificar elementos da lista diretamente\n",
        "\n",
        "A modificação direta também é permitida quando atribuímos o novo valor à posição desejada (índice)."
      ]
    },
    {
      "cell_type": "code",
      "execution_count": null,
      "id": "gHkst_V0YtCm",
      "metadata": {
        "colab": {
          "base_uri": "https://localhost:8080/"
        },
        "id": "gHkst_V0YtCm",
        "outputId": "988fac90-c143-4fa6-99f8-fcd6d3acc420"
      },
      "outputs": [
        {
          "name": "stdout",
          "output_type": "stream",
          "text": [
            "['maçã', 'laranja', 'cereja']\n"
          ]
        }
      ],
      "source": [
        "frutas[1] = 'laranja'  # Substitui 'banana' por 'laranja'\n",
        "print(frutas)  # Exibe a lista modificada"
      ]
    },
    {
      "cell_type": "markdown",
      "id": "DLqzL-IsmybP",
      "metadata": {
        "id": "DLqzL-IsmybP"
      },
      "source": [
        "#### Adicionar elementos no final da lista\n",
        "\n",
        "O método `.append()` adiciona novos elementos ao final da lista."
      ]
    },
    {
      "cell_type": "code",
      "execution_count": null,
      "id": "ME_e35ogYs3l",
      "metadata": {
        "colab": {
          "base_uri": "https://localhost:8080/"
        },
        "id": "ME_e35ogYs3l",
        "outputId": "94448dbb-f126-4940-c44c-19e779e20e8e"
      },
      "outputs": [
        {
          "name": "stdout",
          "output_type": "stream",
          "text": [
            "['maçã', 'laranja', 'cereja', 'kiwi']\n"
          ]
        }
      ],
      "source": [
        "frutas.append('kiwi')  # Adiciona 'kiwi' ao final da lista\n",
        "print(frutas)  # Exibe a lista após adicionar 'kiwi' ['maçã', 'banana', 'cereja', 'kiwi']"
      ]
    },
    {
      "cell_type": "markdown",
      "id": "Dfd64jZ1m2jN",
      "metadata": {
        "id": "Dfd64jZ1m2jN"
      },
      "source": [
        "#### Remover elementos da lista\n",
        "\n",
        "O método `.remove()` recebe o elemento a ser removido e, se não encontrado, retorna um `ValueError`. O `ValueError` ocorre quando uma função recebe um argumento do tipo correto, mas com um valor impróprio, como é o caso de um elemento não encontrado."
      ]
    },
    {
      "cell_type": "code",
      "execution_count": null,
      "id": "5POQVRvZYsqq",
      "metadata": {
        "colab": {
          "base_uri": "https://localhost:8080/",
          "height": 158
        },
        "id": "5POQVRvZYsqq",
        "outputId": "35b67fc4-7dd6-4826-b6c6-b04c63ae19ee"
      },
      "outputs": [
        {
          "ename": "ValueError",
          "evalue": "list.remove(x): x not in list",
          "output_type": "error",
          "traceback": [
            "\u001b[0;31m---------------------------------------------------------------------------\u001b[0m",
            "\u001b[0;31mValueError\u001b[0m                                Traceback (most recent call last)",
            "\u001b[0;32m<ipython-input-14-00ebf1e89d24>\u001b[0m in \u001b[0;36m<cell line: 1>\u001b[0;34m()\u001b[0m\n\u001b[0;32m----> 1\u001b[0;31m \u001b[0mfrutas\u001b[0m\u001b[0;34m.\u001b[0m\u001b[0mremove\u001b[0m\u001b[0;34m(\u001b[0m\u001b[0;34m'maçã'\u001b[0m\u001b[0;34m)\u001b[0m  \u001b[0;31m# Remove 'maçã' da lista. Caso o elemento não exista será retornado um ValueError\u001b[0m\u001b[0;34m\u001b[0m\u001b[0;34m\u001b[0m\u001b[0m\n\u001b[0m\u001b[1;32m      2\u001b[0m \u001b[0mprint\u001b[0m\u001b[0;34m(\u001b[0m\u001b[0mfrutas\u001b[0m\u001b[0;34m)\u001b[0m  \u001b[0;31m# Exibe a lista após remover 'maçã' ['banana', 'cereja', 'kiwi']\u001b[0m\u001b[0;34m\u001b[0m\u001b[0;34m\u001b[0m\u001b[0m\n",
            "\u001b[0;31mValueError\u001b[0m: list.remove(x): x not in list"
          ]
        }
      ],
      "source": [
        "frutas.remove('maçã')  # Remove 'maçã' da lista. Caso o elemento não exista será retornado um ValueError\n",
        "print(frutas)  # Exibe a lista após remover 'maçã' ['banana', 'cereja', 'kiwi']"
      ]
    },
    {
      "cell_type": "markdown",
      "id": "YeVJ2f8QdHtZ",
      "metadata": {
        "id": "YeVJ2f8QdHtZ"
      },
      "source": [
        "Ao executar novamente o código anterior, será retornado um erro pois `maçã` não será encontrada na lista."
      ]
    },
    {
      "cell_type": "markdown",
      "id": "L2bVrMzQm_qK",
      "metadata": {
        "id": "L2bVrMzQm_qK"
      },
      "source": [
        "#### Adicionar um elemento a uma posição específica\n",
        "\n",
        "O método `.insert()` insere um novo elemento em uma posição específica da lista. Ele recebe dois parâmetros: primeiro, a posição, e, segundo, o elemento."
      ]
    },
    {
      "cell_type": "code",
      "execution_count": null,
      "id": "OnfaTdExZGRw",
      "metadata": {
        "colab": {
          "base_uri": "https://localhost:8080/"
        },
        "id": "OnfaTdExZGRw",
        "outputId": "2db9bf2a-aa5b-4298-904c-473c2a619edd"
      },
      "outputs": [
        {
          "name": "stdout",
          "output_type": "stream",
          "text": [
            "['laranja', 'maçã', 'cereja', 'kiwi']\n"
          ]
        }
      ],
      "source": [
        "frutas.insert(1, 'maçã') # Adiciona 'maçã' na segunda posição da lista e desloca 'cereja' e 'kiwi' para as posições 2 e 3, respectivamente.\n",
        "print(frutas) # Exibe ['banana', 'maçã', 'cereja', 'kiwi']"
      ]
    },
    {
      "cell_type": "markdown",
      "id": "Puo8gSKqnC4d",
      "metadata": {
        "id": "Puo8gSKqnC4d"
      },
      "source": [
        "#### Remover e retornar o último elemento da lista\n",
        "\n",
        "O método `.pop()` remove o último elemento da lista e o retorna para ser armazenado ou exibido."
      ]
    },
    {
      "cell_type": "code",
      "execution_count": null,
      "id": "kTZmQgRtYscS",
      "metadata": {
        "colab": {
          "base_uri": "https://localhost:8080/"
        },
        "id": "kTZmQgRtYscS",
        "outputId": "cd55f851-8b06-4ae2-a474-c927ccbcbba3"
      },
      "outputs": [
        {
          "name": "stdout",
          "output_type": "stream",
          "text": [
            "kiwi\n",
            "['laranja', 'maçã', 'cereja']\n"
          ]
        }
      ],
      "source": [
        "removido = frutas.pop() # Remove 'kiwi' e o armazena em uma variável\n",
        "print(removido) # Exibe o elemento removido kiwi, armazenado em removido\n",
        "print(frutas) # Exibe ['banana', 'maçã', 'cereja']"
      ]
    },
    {
      "cell_type": "markdown",
      "id": "OSt1-iZgnGGx",
      "metadata": {
        "id": "OSt1-iZgnGGx"
      },
      "source": [
        "#### Acessar um elemento por um índice inexistente"
      ]
    },
    {
      "cell_type": "code",
      "execution_count": null,
      "id": "4xUHTYeHZNJE",
      "metadata": {
        "colab": {
          "base_uri": "https://localhost:8080/",
          "height": 141
        },
        "id": "4xUHTYeHZNJE",
        "outputId": "cbc14767-4943-4d26-b207-207e56d9d374"
      },
      "outputs": [
        {
          "ename": "IndexError",
          "evalue": "list index out of range",
          "output_type": "error",
          "traceback": [
            "\u001b[0;31m---------------------------------------------------------------------------\u001b[0m",
            "\u001b[0;31mIndexError\u001b[0m                                Traceback (most recent call last)",
            "\u001b[0;32m<ipython-input-17-67dfc58dc835>\u001b[0m in \u001b[0;36m<cell line: 1>\u001b[0;34m()\u001b[0m\n\u001b[0;32m----> 1\u001b[0;31m \u001b[0mprint\u001b[0m\u001b[0;34m(\u001b[0m\u001b[0mfrutas\u001b[0m\u001b[0;34m[\u001b[0m\u001b[0;36m5\u001b[0m\u001b[0;34m]\u001b[0m\u001b[0;34m)\u001b[0m \u001b[0;31m# Retorna um IndexError\u001b[0m\u001b[0;34m\u001b[0m\u001b[0;34m\u001b[0m\u001b[0m\n\u001b[0m",
            "\u001b[0;31mIndexError\u001b[0m: list index out of range"
          ]
        }
      ],
      "source": [
        "print(frutas[5]) # Retorna um IndexError"
      ]
    },
    {
      "cell_type": "markdown",
      "id": "Fx1ij0mEdUFF",
      "metadata": {
        "id": "Fx1ij0mEdUFF"
      },
      "source": [
        "O `IndexError` ocorre quando você tenta acessar um índice que não existe em uma lista, tupla ou outra sequência."
      ]
    },
    {
      "cell_type": "markdown",
      "id": "Uv5A-Y81nOTM",
      "metadata": {
        "id": "Uv5A-Y81nOTM"
      },
      "source": [
        "#### Remover um elemento usando o índice\n",
        "\n",
        "O comando `del` remove elementos de uma lista por meio do seu índice."
      ]
    },
    {
      "cell_type": "code",
      "execution_count": null,
      "id": "_ND1WDoNZTBs",
      "metadata": {
        "colab": {
          "base_uri": "https://localhost:8080/"
        },
        "id": "_ND1WDoNZTBs",
        "outputId": "14c80e7a-358f-4786-b3d8-e37949a93fcf"
      },
      "outputs": [
        {
          "name": "stdout",
          "output_type": "stream",
          "text": [
            "['laranja', 'maçã']\n"
          ]
        }
      ],
      "source": [
        "del frutas[2] # Remove 'cereja' que está no índice 3\n",
        "print(frutas) # Exibe ['laranja', 'maçã']"
      ]
    },
    {
      "cell_type": "markdown",
      "id": "xDe2vJiEnVo5",
      "metadata": {
        "id": "xDe2vJiEnVo5"
      },
      "source": [
        "#### Obter o índice de um elemento\n",
        "\n",
        "Também podemos efetuar uma busca por um elemento em uma lista e, se encontrado, mostar a posição em que ele se encontra. Caso contrário, retornará um `ValueError`."
      ]
    },
    {
      "cell_type": "code",
      "execution_count": null,
      "id": "2sPr28qSZZZA",
      "metadata": {
        "colab": {
          "base_uri": "https://localhost:8080/"
        },
        "id": "2sPr28qSZZZA",
        "outputId": "91cb1b1d-6651-4b4c-9d7f-a170459c111a"
      },
      "outputs": [
        {
          "data": {
            "text/plain": [
              "1"
            ]
          },
          "execution_count": 19,
          "metadata": {},
          "output_type": "execute_result"
        }
      ],
      "source": [
        "frutas.index('maçã') # Busca por 'maçã' na lista e retorna o índice 1 onde ele está localizado"
      ]
    },
    {
      "cell_type": "markdown",
      "id": "HfGZ3jGMj0ib",
      "metadata": {
        "id": "HfGZ3jGMj0ib"
      },
      "source": [
        "#### Verificar se um elemento está contido em uma lista\n",
        "O operador `in` é utilizado para testar se um elemento está contido em uma lista e é bem útil quando utilizado em estruturas condicionais (que serão discutidas mais adiante), pois é retornado `True`, se o elemento for encontrado, ou `False`, caso contrário."
      ]
    },
    {
      "cell_type": "code",
      "execution_count": null,
      "id": "vndVrF8iZnm6",
      "metadata": {
        "colab": {
          "base_uri": "https://localhost:8080/"
        },
        "id": "vndVrF8iZnm6",
        "outputId": "62b49ba7-4670-41cc-8e2b-c04c04ed448a"
      },
      "outputs": [
        {
          "data": {
            "text/plain": [
              "True"
            ]
          },
          "execution_count": 20,
          "metadata": {},
          "output_type": "execute_result"
        }
      ],
      "source": [
        "'laranja' in frutas # Retorna True"
      ]
    },
    {
      "cell_type": "markdown",
      "id": "HlNPeBnIoM_e",
      "metadata": {
        "id": "HlNPeBnIoM_e"
      },
      "source": [
        "####Concatenar listas\n",
        "\n",
        "Existem duas formas para se concatenar listas:\n",
        "\n",
        "\n",
        "1.   Usando o operador `+`: é necessário que o resultado seja armazenado em uma outra lista (ou em uma das listas a serem concatenadas); ou\n",
        "2.   Usando o método `.extend()`: é considerada uma operação *in place*¹, pois o resultado é armazenado na lista que invocou a extensão.\n",
        "\n",
        "¹ Uma operação *in-place* é uma operação que modifica diretamente os dados de uma estrutura, em vez de criar uma nova cópia da estrutura com as modificações. Em outras palavras, a operação *in-place* altera os dados no próprio local (ou memória) onde eles estão armazenados. Esse tipo de operação é eficiente em termos de uso de memória, pois não requer alocação de espaço adicional para armazenar uma cópia modificada dos dados."
      ]
    },
    {
      "cell_type": "code",
      "execution_count": null,
      "id": "apJqStjwZhxj",
      "metadata": {
        "colab": {
          "base_uri": "https://localhost:8080/"
        },
        "id": "apJqStjwZhxj",
        "outputId": "a599fede-f689-4d88-da6f-6bea572ca00f"
      },
      "outputs": [
        {
          "name": "stdout",
          "output_type": "stream",
          "text": [
            "['laranja', 'maçã', 'uva', 'banana', 'mexerica']\n"
          ]
        }
      ],
      "source": [
        "novas_frutas = ['uva', 'banana', 'mexerica']\n",
        "frutas += novas_frutas\n",
        "#frutas = frutas + novas_frutas # Também pode ser escrito na forma abreviada frutas += novas_frutas\n",
        "print(frutas) # Exibe ['laranja', 'maçã', 'uva', 'banana', 'mexerica']"
      ]
    },
    {
      "cell_type": "code",
      "execution_count": null,
      "id": "4zO3ruvgZkFB",
      "metadata": {
        "colab": {
          "base_uri": "https://localhost:8080/"
        },
        "id": "4zO3ruvgZkFB",
        "outputId": "b806bbd2-323b-4f25-9487-beb7a6f3304d"
      },
      "outputs": [
        {
          "name": "stdout",
          "output_type": "stream",
          "text": [
            "['caqui', 'manga', 'laranja', 'maçã', 'uva', 'banana', 'mexerica']\n"
          ]
        }
      ],
      "source": [
        "outras_frutas = ['caqui', 'manga']\n",
        "outras_frutas.extend(frutas) # Extende outras_frutas adicionando à ela a lista frutas\n",
        "print(outras_frutas) # Exibe ['caqui', 'manga', 'laranja', 'maçã', 'uva', 'banana', 'mexerica']"
      ]
    },
    {
      "cell_type": "markdown",
      "id": "wd20te4ssm_1",
      "metadata": {
        "id": "wd20te4ssm_1"
      },
      "source": [
        "#### Obter o tamanho de uma lista"
      ]
    },
    {
      "cell_type": "code",
      "execution_count": null,
      "id": "PvsoSkaiZodM",
      "metadata": {
        "colab": {
          "base_uri": "https://localhost:8080/"
        },
        "id": "PvsoSkaiZodM",
        "outputId": "d293f42c-454f-4fe6-b41e-b3281f48641d"
      },
      "outputs": [
        {
          "name": "stdout",
          "output_type": "stream",
          "text": [
            "A lista contém 7 elementos.\n"
          ]
        }
      ],
      "source": [
        "tamanho = len(outras_frutas)\n",
        "print('A lista contém', tamanho, 'elementos.') # Mostra a quantidade de elementos de uma lista 'A lista contém 7 elementos.'. Não confunda com o último índice da lista que é sempre len-1"
      ]
    },
    {
      "cell_type": "markdown",
      "id": "6dDImhBQtGJv",
      "metadata": {
        "id": "6dDImhBQtGJv"
      },
      "source": [
        "#### *Deep copy*\n",
        "\n",
        "As listas são vetores em forma de estruturas de dados, pois, além dos dados, elas possuem métodos próprios que manipulam esses dados. Assim, a cópia de seus dados não pode ser realizada diretamente usando o operador de atribuição `=`. Ao executar o exemplo a seguir, estamos apenas criando um novo identificador (referência na memória) para a mesma estrutura de dados."
      ]
    },
    {
      "cell_type": "code",
      "execution_count": null,
      "id": "URLzwA66ZTzY",
      "metadata": {
        "colab": {
          "base_uri": "https://localhost:8080/"
        },
        "id": "URLzwA66ZTzY",
        "outputId": "02e44eee-712c-46ab-c786-3d4d6f850455"
      },
      "outputs": [
        {
          "name": "stdout",
          "output_type": "stream",
          "text": [
            "a está alocada na posição de memória 0x791a6bef2180\n",
            "b está alocada também na posição de memória 0x791a6bef2180\n"
          ]
        }
      ],
      "source": [
        "a = [1, 2, 3]\n",
        "b = a\n",
        "print('a está alocada na posição de memória', hex(id(a)))\n",
        "print('b está alocada também na posição de memória', hex(id(b)))"
      ]
    },
    {
      "cell_type": "markdown",
      "id": "EPIq5JRU6QIr",
      "metadata": {
        "id": "EPIq5JRU6QIr"
      },
      "source": [
        "A função `id()` retorna o identificador único da variável passada como parâmetro, no exemplo as listas `a` e `b`; e a função `hex()` converte o identificador para hexadecimal, uma base numérica utilizada para referenciar posição na memória RAM. É importante lembrar que a cada execução a variável é alocada em um espaço diferente, liberando a posição anterior para outras aplicações.\n",
        "\n",
        "Vamos executar um novo experimento. Vamos fazer uma cópia simples (apenas da referência como fizemos anteriormente) e, ao alterar um valor em uma lista, a outra também será alterada, pois, como já discutimos, são a mesma lista com identificadores diferentes."
      ]
    },
    {
      "cell_type": "code",
      "execution_count": null,
      "id": "eMHsKdDhBuNY",
      "metadata": {
        "colab": {
          "base_uri": "https://localhost:8080/"
        },
        "id": "eMHsKdDhBuNY",
        "outputId": "9f75e41b-cad7-49a3-fc0d-de70382096a2"
      },
      "outputs": [
        {
          "name": "stdout",
          "output_type": "stream",
          "text": [
            "[1, 4, 3]\n",
            "[1, 4, 3]\n"
          ]
        }
      ],
      "source": [
        "a = [1, 2, 3]\n",
        "b = a # Copia apenas a referência\n",
        "b[1] = 4 # Altera o valor usando a referência b mas também altera em a\n",
        "print(b) # Exibe [1, 4, 3]\n",
        "print(a) # Exibe também [1, 4, 3]"
      ]
    },
    {
      "cell_type": "markdown",
      "id": "uu_KPcdmBulV",
      "metadata": {
        "id": "uu_KPcdmBulV"
      },
      "source": [
        "No exemplo a seguir, efetuamos uma *deep copy* (cópia profunda) passando o índice `:` que significa *all* (todos os elementos). Exploraremos melhor esse recurso a seguir."
      ]
    },
    {
      "cell_type": "code",
      "execution_count": null,
      "id": "jjsRd5cPBYT6",
      "metadata": {
        "colab": {
          "base_uri": "https://localhost:8080/"
        },
        "id": "jjsRd5cPBYT6",
        "outputId": "8d7070c4-5423-4bff-8b16-9be9ee248507"
      },
      "outputs": [
        {
          "name": "stdout",
          "output_type": "stream",
          "text": [
            "a está alocada na posição de memória 0x791a68cff940\n",
            "b agora é uma outra lista independente e está alocada na posição de memória 0x791a68d9e000\n"
          ]
        }
      ],
      "source": [
        "a = [1, 2, 3]\n",
        "b = a[:]\n",
        "print('a está alocada na posição de memória', hex(id(a)))\n",
        "print('b agora é uma outra lista independente e está alocada na posição de memória', hex(id(b)))"
      ]
    },
    {
      "cell_type": "markdown",
      "id": "XRE_HPbLBGcX",
      "metadata": {
        "id": "XRE_HPbLBGcX"
      },
      "source": [
        "#### Intervalos em listas\n",
        "\n",
        "A partir de uma lista, podemos seguimentá-la em intervalos para obter um trecho específico. No Python, todo intervalo segue o padrão `[início:fim)`, ou seja, fechado no início e aberto no fim.\n",
        "\n",
        "Por exemplo, o intervalo `3:7` vai de 3 (inclusive) até 6 (inclusive). Vamos exemplicar as aplicações de intervalos em listas, lembrando que o índice das listas se inicia com `0` (zero)."
      ]
    },
    {
      "cell_type": "code",
      "execution_count": null,
      "id": "EOg1rPSnG7dg",
      "metadata": {
        "colab": {
          "base_uri": "https://localhost:8080/"
        },
        "id": "EOg1rPSnG7dg",
        "outputId": "ca90a8dc-4fcc-45a2-d5c3-f9a14994c0a3"
      },
      "outputs": [
        {
          "name": "stdout",
          "output_type": "stream",
          "text": [
            "['caqui', 'manga', 'laranja', 'maçã', 'uva', 'banana', 'mexerica']\n",
            "['manga', 'laranja']\n",
            "['laranja', 'maçã', 'uva', 'banana', 'mexerica']\n",
            "['caqui', 'manga', 'laranja']\n"
          ]
        }
      ],
      "source": [
        "print(outras_frutas[:]) # Exibe todas as frutas ['caqui', 'manga', 'banana', 'maçã', 'uva', 'banana', 'mexerica'], equivalente a print(outras_frutas)\n",
        "print(outras_frutas[1:3]) # Exibe da segunda (índice 1) até a terceira fruta (índice 2) ['manga', 'banana']\n",
        "print(outras_frutas[2:]) # Exibe todas as frutas a partir da terceira (índice 2) ['banana', 'maçã', 'uva', 'banana', 'mexerica']\n",
        "print(outras_frutas[:3]) # Exibe todas as frutas até a terceira (índice 2) ['caqui', 'manga', 'banana']"
      ]
    },
    {
      "cell_type": "markdown",
      "id": "3TYhn-tLwujJ",
      "metadata": {
        "id": "3TYhn-tLwujJ"
      },
      "source": [
        "Podemos também informar o passo (*step*) do intervalo desejado na forma `início:fim:passo`, como no exemplo a seguir."
      ]
    },
    {
      "cell_type": "code",
      "execution_count": null,
      "id": "tkz7hV8vwt6g",
      "metadata": {
        "colab": {
          "base_uri": "https://localhost:8080/"
        },
        "id": "tkz7hV8vwt6g",
        "outputId": "b388c9c3-be65-4f2f-9f57-0a04d774fa72"
      },
      "outputs": [
        {
          "name": "stdout",
          "output_type": "stream",
          "text": [
            "['caqui', 'laranja', 'uva', 'mexerica']\n",
            "['mexerica', 'banana', 'uva', 'maçã', 'laranja', 'manga', 'caqui']\n"
          ]
        }
      ],
      "source": [
        "print(outras_frutas[0:7:2]) # Exibe todas as frutas, alternando de 2 em 2, ou seja, uma sim e outra não ['caqui', 'banana', 'uva', 'mexerica'], equivalente a print(outras_frutas[::2])\n",
        "print(outras_frutas[::-1]) # Exibe todas as frutas, em ordem invertida, do final para o início ['mexerica', 'banana', 'uva', 'maçã', 'banana', 'manga', 'caqui']"
      ]
    },
    {
      "cell_type": "markdown",
      "id": "qim7KtjIyNF8",
      "metadata": {
        "id": "qim7KtjIyNF8"
      },
      "source": [
        "####Encadeamento de listas\n",
        "\n",
        "Como já dissemos, uma lista pode armazenar elementos de qualquer tipo, inclusive outras listas, sem limite de profundidade. No caso de uma lista de listas, temos duas dimensões, ou seja, duas listas encadeadas. Para fins de exemplificação, isso seria equivalente a matrizes (com linhas e colunas) mas, na prática, temos bibliotecas específicas para cálculo matricial que disponibilizam vetores bidimensonais. Isso não faz parte do escopo deste Microcurso.\n",
        "\n",
        "No exemplo a seguir, é mostrada a criação de uma lista de listas e como seus elementos são acessados, informando dois índices: o primeiro índice se refere aos elementos da lista principal e o segundo se refere aos elementos da lista mais interna, por exemplo `[1][2]`. Lembrando que, em Python, todos os índices de elementos iteráveis começam com `0` (zero)."
      ]
    },
    {
      "cell_type": "code",
      "execution_count": null,
      "id": "fCZWnbU8yeZg",
      "metadata": {
        "colab": {
          "base_uri": "https://localhost:8080/"
        },
        "id": "fCZWnbU8yeZg",
        "outputId": "f78ff4d8-9332-4ea6-9705-3868e1142719"
      },
      "outputs": [
        {
          "name": "stdout",
          "output_type": "stream",
          "text": [
            "[['Ana', 'João', 'Clara'], ['Pedro', 'Júlio', 'Luiz'], ['Henrique', 'Carlos', 'Vitória']]\n",
            "Luiz\n"
          ]
        }
      ],
      "source": [
        "grupos = [['Ana', 'João', 'Clara'], ['Pedro', 'Júlio', 'Luiz'], ['Henrique', 'Carlos', 'Vitória']] # Cria duas listas encadeadas (produndidade 2)\n",
        "print(grupos) # Exibe [['Ana', 'João', 'Clara'], ['Pedro', 'Júlio', 'Luiz'], ['Henrique', 'Carlos', 'Vitória']]\n",
        "print(grupos[1][2]) # Exibe o 3º participante do 2º grupo Luiz"
      ]
    },
    {
      "cell_type": "markdown",
      "id": "2zHRE0nS0-Nm",
      "metadata": {
        "id": "2zHRE0nS0-Nm"
      },
      "source": [
        "No caso do encadeamento de mais listas, a quantidade de índices é equivalente à profundidade do encadeamento. Por exemplo, para acessarmos um elemento de três listas encadeadas, devemos informar três índices, por exemplo, `[1][0][2]`.\n",
        "\n",
        "Quando lidamos com listas de listas encadeadas em múltiplos níveis (ou seja, listas dentro de listas dentro de listas), a quantidade de índices que usamos para acessar um elemento é equivalente à profundidade do encadeamento. Para acessar um elemento específico, você deve fornecer um índice para cada nível de profundidade.\n",
        "\n",
        "Pode parecer um pouco confuso, mas vamos pensar de outra forma: quando criamos listas encadeadas, estamos basicamente colocando listas dentro de outras listas. A profundidade do encadeamento se refere ao número de níveis de listas aninhadas. Cada nível adicional de listas requer um índice adicional para acessar os elementos dentro da estrutura.\n",
        "\n",
        "Pense em uma lista como uma matriz bidimensional ou tridimensional. Cada dimensão adicional representa um nível de encadeamento e, para acessar um elemento específico, você precisa especificar a posição em cada dimensão."
      ]
    },
    {
      "cell_type": "markdown",
      "id": "k87hPLlsWsXN",
      "metadata": {
        "id": "k87hPLlsWsXN"
      },
      "source": [
        "### 3.2.2.2 Tuplas\n",
        "\n",
        "###Conceito\n",
        "Tuplas são coleções ordenadas e imutáveis de elementos. Elas são semelhantes às listas, mas, uma vez criadas, não podem ser modificadas.\n",
        "\n",
        "###Aplicações\n",
        "Tuplas são usadas quando queremos garantir que a coleção de itens não será alterada. Elas são úteis para armazenar dados heterogêneos, como coordenadas geográficas, registros de banco de dados e mais. Por ser imutáveis, são mais eficientes que as listas, ou seja, consomem menos recursos computacionais e executam mais rapidamente, embora também sejam mais restritas em relação aos métodos para manipulação um vez criadas.\n",
        "\n",
        "Em Python, uma tupla é criada usando os parênteses `(` e `)` e separando os elementos por vírgula. Importante ressaltar que esses elementos devem respeitar sua tipagem, por exemplo, *strings* devem ser colocadas entre aspas (\") ou apóstrofos (').\n",
        "\n",
        "Para saber mais sobre tuplas, acesse https://www.w3schools.com/python/python_tuples.asp."
      ]
    },
    {
      "cell_type": "markdown",
      "id": "mRtmZv-521iG",
      "metadata": {
        "id": "mRtmZv-521iG"
      },
      "source": [
        "#### Criar uma tupla com mais de um elemento\n",
        "\n",
        "Tuplas são criadas com elementos entre `(` e `)` e são separados por vírgula. Veremos, mais adiante, o caso de tuplas com apenas um elemento."
      ]
    },
    {
      "cell_type": "code",
      "execution_count": null,
      "id": "1m5aYqZtWsXO",
      "metadata": {
        "colab": {
          "base_uri": "https://localhost:8080/"
        },
        "id": "1m5aYqZtWsXO",
        "outputId": "883aadaf-74a6-48b0-8f79-8353525a1eff"
      },
      "outputs": [
        {
          "name": "stdout",
          "output_type": "stream",
          "text": [
            "(10.0, 20.0)\n"
          ]
        }
      ],
      "source": [
        "coordenadas = (10.0, 20.0)\n",
        "print(coordenadas)  # Exibe a tupla (10.0, 20.0)"
      ]
    },
    {
      "cell_type": "markdown",
      "id": "db7TxF0n29nu",
      "metadata": {
        "id": "db7TxF0n29nu"
      },
      "source": [
        "#### Acessar elementos da tupla\n",
        "\n",
        "Os elementos de uma tupla são acessados da mesmo forma que os elementos de uma lista."
      ]
    },
    {
      "cell_type": "code",
      "execution_count": null,
      "id": "JXU07jQk2OLC",
      "metadata": {
        "colab": {
          "base_uri": "https://localhost:8080/"
        },
        "id": "JXU07jQk2OLC",
        "outputId": "5213716c-1d9a-4dda-d352-9052b1c7fa85"
      },
      "outputs": [
        {
          "name": "stdout",
          "output_type": "stream",
          "text": [
            "10.0\n",
            "20.0\n"
          ]
        }
      ],
      "source": [
        "latitude = coordenadas[0]  # Acessa e atribui à variável latitude o primeiro elemento da tupla\n",
        "longitude = coordenadas[-1]  # Acessa e atribui à variável longitude o segundo elemento da tupla\n",
        "\n",
        "print(coordenadas[0])  # Exibe 10.0\n",
        "print(coordenadas[-1])  # Exibe 20.0"
      ]
    },
    {
      "cell_type": "markdown",
      "id": "IdvgTr_X33t8",
      "metadata": {
        "id": "IdvgTr_X33t8"
      },
      "source": [
        "####Criar uma tupla com apenas um elemento\n",
        "\n",
        "Embora pouco usual, mas possível, para criar uma tupla com apenas um elemento, precisamos acrescentar uma vírgula (,) após o elemento. Caso contrário, o Python converterá o elemento para seu tipo primitivo."
      ]
    },
    {
      "cell_type": "code",
      "execution_count": null,
      "id": "IEGeoYjY4XPs",
      "metadata": {
        "colab": {
          "base_uri": "https://localhost:8080/"
        },
        "id": "IEGeoYjY4XPs",
        "outputId": "136aee5f-f561-4ad9-d143-eca61208e5e2"
      },
      "outputs": [
        {
          "name": "stdout",
          "output_type": "stream",
          "text": [
            "<class 'int'>\n",
            "<class 'tuple'>\n",
            "<class 'tuple'>\n"
          ]
        }
      ],
      "source": [
        "print(type((1)) # Será exibido <class 'int'>\n",
        "print(type((1,))) # Será exibido <class 'tuple'>\n",
        "print(type(())) # Será exibido <class 'tuple'>"
      ]
    },
    {
      "cell_type": "markdown",
      "id": "3M1rRjTC4qYd",
      "metadata": {
        "id": "3M1rRjTC4qYd"
      },
      "source": [
        "Como você deve ter percebido acima, essa questão não se aplica à criação de tuplas vazias (sem elementos), criadas apenas com `()`, embora ainda menos usual em aplicações práticas."
      ]
    },
    {
      "cell_type": "markdown",
      "id": "geYTtOfw5GNr",
      "metadata": {
        "id": "geYTtOfw5GNr"
      },
      "source": [
        "#### Modificar elementos de uma tupla\n",
        "\n",
        "Como discutimos anteriormente, as tuplas são objetos imutáveis e, portanto, não podem ser alteradas após criadas."
      ]
    },
    {
      "cell_type": "code",
      "execution_count": null,
      "id": "e1KilqJq2OC6",
      "metadata": {
        "colab": {
          "base_uri": "https://localhost:8080/",
          "height": 141
        },
        "id": "e1KilqJq2OC6",
        "outputId": "f530731f-e4ab-4c56-ff33-8991979fa460"
      },
      "outputs": [
        {
          "ename": "TypeError",
          "evalue": "'tuple' object does not support item assignment",
          "output_type": "error",
          "traceback": [
            "\u001b[0;31m---------------------------------------------------------------------------\u001b[0m",
            "\u001b[0;31mTypeError\u001b[0m                                 Traceback (most recent call last)",
            "\u001b[0;32m<ipython-input-34-ee344a749195>\u001b[0m in \u001b[0;36m<cell line: 1>\u001b[0;34m()\u001b[0m\n\u001b[0;32m----> 1\u001b[0;31m \u001b[0mcoordenadas\u001b[0m\u001b[0;34m[\u001b[0m\u001b[0;36m1\u001b[0m\u001b[0;34m]\u001b[0m \u001b[0;34m=\u001b[0m \u001b[0;36m15.0\u001b[0m \u001b[0;31m# Resultará em um TypeError\u001b[0m\u001b[0;34m\u001b[0m\u001b[0;34m\u001b[0m\u001b[0m\n\u001b[0m",
            "\u001b[0;31mTypeError\u001b[0m: 'tuple' object does not support item assignment"
          ]
        }
      ],
      "source": [
        "coordenadas[1] = 15.0 # Resultará em um TypeError"
      ]
    },
    {
      "cell_type": "markdown",
      "id": "ejtydPqe8xD6",
      "metadata": {
        "id": "ejtydPqe8xD6"
      },
      "source": [
        "####Operações com tuplas\n",
        "\n",
        "Você também pode aplicar a maioria das operações de listas em tuplas, respeitando a característica imutável da estrutura."
      ]
    },
    {
      "cell_type": "code",
      "execution_count": null,
      "id": "jllJXm6987-m",
      "metadata": {
        "colab": {
          "base_uri": "https://localhost:8080/"
        },
        "id": "jllJXm6987-m",
        "outputId": "153654b9-10b1-4abe-9661-c1cbcae45c2a"
      },
      "outputs": [
        {
          "name": "stdout",
          "output_type": "stream",
          "text": [
            "6\n",
            "(1, 2)\n",
            "True\n"
          ]
        }
      ],
      "source": [
        "tup = () # Cria uma tupla vazia. Use print(hex(id(tup))) para visualizar o endereço de memória\n",
        "tup = (1, 2, 3) # Cria uma NOVA tupla, liberando a memória da anterior. O comando print(hex(id(tup))) resultará em outro endereço\n",
        "tup = tup + (4, 5, 6)  # Cria uma NOVA tupla a partir da concatenação de (1, 2, 3) e (4, 5, 6). O comando print(hex(id(tup))) resultará em outro endereço\n",
        "print(len(tup)) # Mostra o tamanho da tupla 6\n",
        "print(tup[:2]) # Intervalo de elementos de uma tupla (1, 2)\n",
        "print(2 in tup) # Verifica se um elemento está contido na tupla True"
      ]
    },
    {
      "cell_type": "markdown",
      "id": "pir2QS6zC5iA",
      "metadata": {
        "id": "pir2QS6zC5iA"
      },
      "source": [
        "Também é possível fazer *casting* de tuplas para listas e vice-versa."
      ]
    },
    {
      "cell_type": "code",
      "execution_count": null,
      "id": "H-sOrE4QDHEb",
      "metadata": {
        "colab": {
          "base_uri": "https://localhost:8080/"
        },
        "id": "H-sOrE4QDHEb",
        "outputId": "12a8a92b-ca69-4a03-e463-c778b89a0b6c"
      },
      "outputs": [
        {
          "name": "stdout",
          "output_type": "stream",
          "text": [
            "<class 'list'>\n"
          ]
        }
      ],
      "source": [
        "tup = (1, 2, 3, 4, 5, 6)\n",
        "lista = list(tup) # Converte uma tupla para uma lista\n",
        "print(type(lista)) # Exibe <class 'list'>"
      ]
    },
    {
      "cell_type": "markdown",
      "id": "02qGj5qkGGkr",
      "metadata": {
        "id": "02qGj5qkGGkr"
      },
      "source": [
        "Tuplas podem ser descompactadas diretamente, elemento a elemento, ou de forma estendida.\n",
        "\n",
        "A descompactação direta ocorre quando informamos uma variável correspondente para cada elemento da tupla. Já a estendida ocorre quando o número de elementos é superior ao número de variáveis que receberão esses elementos. Nesse último caso, usamos o asterisco (*) para indicar qual das variáveis receberá uma lista com os valores excedentes."
      ]
    },
    {
      "cell_type": "code",
      "execution_count": null,
      "id": "zaZMMG6LGx5S",
      "metadata": {
        "id": "zaZMMG6LGx5S"
      },
      "outputs": [],
      "source": [
        "a, b, c = (1, 2, 3) # Resultará a = 1, b = 2, c = 3\n",
        "*a, b, c = (1, 2, 3, 4) # Resultará a = [1, 2], b = 3, c = 4\n",
        "a, *b, c = (1, 2, 3, 4) # Resultará a = 1, b = [2, 3], c = 4\n",
        "a, b, *c = (1, 2, 3, 4) # Resultará a = 1, b = 2, c = [3, 4]"
      ]
    },
    {
      "cell_type": "markdown",
      "id": "X8oQ8oz9WsXO",
      "metadata": {
        "id": "X8oQ8oz9WsXO"
      },
      "source": [
        "### 3.2.2.3 Dicionários\n",
        "\n",
        "###Conceito\n",
        "Dicionários são coleções de pares chave-valor. Eles são desordenados e mutáveis, permitindo acesso rápido aos valores por meio das chaves.\n",
        "\n",
        "###Aplicações\n",
        "Dicionários são usados quando precisamos de uma associação entre pares chave-valor. Eles são úteis para armazenar dados indexados, como registros de usuários, inventários de produtos e mais.\n",
        "\n",
        "Em Python, um dicionário é criado usando chaves `{` e `}` e separando os pares `chave:valor` por vírgula. Importante ressaltar que as chaves devem ser sempre elementos imutáveis (*string*, *int*, tuplas etc.) e tanto as chaves quanto os valores devem respeitar sua tipagem, por exemplo, *strings* devem ser colocadas entre aspas (\") ou apóstrofos (').\n",
        "\n",
        "Para saber mais sobre dicionários, acesse https://www.w3schools.com/python/python_dictionaries.asp."
      ]
    },
    {
      "cell_type": "markdown",
      "id": "bcA2VwEOCv1Y",
      "metadata": {
        "id": "bcA2VwEOCv1Y"
      },
      "source": [
        "#### Criar um dicionário vazio\n",
        "\n",
        "Usamos a função `dict()` para criarmos dicionários vazios, pois chaves vazias `{}` remetem a conjuntos, que serão discutidos a seguir."
      ]
    },
    {
      "cell_type": "code",
      "execution_count": null,
      "id": "Q4oHM2f8I0Yi",
      "metadata": {
        "id": "Q4oHM2f8I0Yi"
      },
      "outputs": [],
      "source": [
        "aluno = dict() # Cria um dicionário vazio"
      ]
    },
    {
      "cell_type": "markdown",
      "id": "hOapHnn9JGF0",
      "metadata": {
        "id": "hOapHnn9JGF0"
      },
      "source": [
        "####Criar um dicionário com chaves e valores do tipo `string`"
      ]
    },
    {
      "cell_type": "code",
      "execution_count": null,
      "id": "Hjx2ZOozWsXP",
      "metadata": {
        "colab": {
          "base_uri": "https://localhost:8080/"
        },
        "id": "Hjx2ZOozWsXP",
        "outputId": "a7ee2b81-764c-4534-a3ef-176c93fc7f47"
      },
      "outputs": [
        {
          "name": "stdout",
          "output_type": "stream",
          "text": [
            "{'nome': 'João', 'idade': 20, 'curso': 'Engenharia'}\n"
          ]
        }
      ],
      "source": [
        "aluno = {'nome': 'João', 'idade': 20, 'curso': 'Engenharia'}  # Define um dicionário com informações de um aluno\n",
        "print(aluno)  # Exibe {'nome': 'João', 'idade': 20, 'curso': 'Engenharia'}"
      ]
    },
    {
      "cell_type": "markdown",
      "id": "D-gILmL1vI9f",
      "metadata": {
        "id": "D-gILmL1vI9f"
      },
      "source": [
        "#### Acessando valores do dicionário"
      ]
    },
    {
      "cell_type": "code",
      "execution_count": null,
      "id": "aI7TP0i2CEFW",
      "metadata": {
        "colab": {
          "base_uri": "https://localhost:8080/"
        },
        "id": "aI7TP0i2CEFW",
        "outputId": "3e167541-f361-4021-fa36-87de677d99ab"
      },
      "outputs": [
        {
          "name": "stdout",
          "output_type": "stream",
          "text": [
            "João\n",
            "None\n"
          ]
        }
      ],
      "source": [
        "print(aluno['nome'])  # Exibe o valor associado à chave 'nome'\n",
        "print(aluno.get('cidade'))  # Exibe o valor associado à chave 'cidade' usando o método get se ela existir"
      ]
    },
    {
      "cell_type": "markdown",
      "id": "bBvmxG52kTsd",
      "metadata": {
        "id": "bBvmxG52kTsd"
      },
      "source": [
        "No exemplo acima, apresentamos duas formas de acessar diretamente um elemento. Na primeira, caso o índice não seja localizado, é retornado um `KeyError`. Para contornar esse problema, usamos o método `.get()` que retorna `None`, caso o índice passado como parâmetro não exista. Falaremos desse assunto mais adiante."
      ]
    },
    {
      "cell_type": "markdown",
      "id": "VUp0oqqnvJim",
      "metadata": {
        "id": "VUp0oqqnvJim"
      },
      "source": [
        "####Modicando valores do dicionário"
      ]
    },
    {
      "cell_type": "code",
      "execution_count": null,
      "id": "VUJu5eIECD7I",
      "metadata": {
        "colab": {
          "base_uri": "https://localhost:8080/"
        },
        "id": "VUJu5eIECD7I",
        "outputId": "f3033b58-9db6-48c8-ee86-ab48d54d7296"
      },
      "outputs": [
        {
          "name": "stdout",
          "output_type": "stream",
          "text": [
            "{'nome': 'João', 'idade': 21, 'curso': 'Engenharia'}\n"
          ]
        }
      ],
      "source": [
        "aluno['idade'] = 21  # Atualiza o valor associado à chave 'idade'\n",
        "print(aluno)  # Exibe o dicionário após a atualização KeyError"
      ]
    },
    {
      "cell_type": "markdown",
      "id": "MNcxoorUvKOq",
      "metadata": {
        "id": "MNcxoorUvKOq"
      },
      "source": [
        "#### Adicionando novos pares chave-valor"
      ]
    },
    {
      "cell_type": "code",
      "execution_count": null,
      "id": "V_KJ3sLhCDtQ",
      "metadata": {
        "colab": {
          "base_uri": "https://localhost:8080/"
        },
        "id": "V_KJ3sLhCDtQ",
        "outputId": "a0fa259a-787a-4c49-d1b7-3c9fc6fc1b29"
      },
      "outputs": [
        {
          "name": "stdout",
          "output_type": "stream",
          "text": [
            "{'nome': 'João', 'idade': 21, 'curso': 'Engenharia', 'cidade': 'Goiânia'}\n"
          ]
        }
      ],
      "source": [
        "aluno['cidade'] = 'Goiânia'  # Adiciona uma nova chave 'cidade' com seu valor\n",
        "print(aluno)  # Exibe o dicionário após adicionar a nova chave {'nome': 'João', 'idade': 21, 'curso': 'Engenharia', 'cidade': 'Goiânia'}"
      ]
    },
    {
      "cell_type": "markdown",
      "id": "D5_4BhacvLOB",
      "metadata": {
        "id": "D5_4BhacvLOB"
      },
      "source": [
        "#### Removendo pares chave-valor"
      ]
    },
    {
      "cell_type": "code",
      "execution_count": null,
      "id": "v0kpAgcjCDYG",
      "metadata": {
        "colab": {
          "base_uri": "https://localhost:8080/"
        },
        "id": "v0kpAgcjCDYG",
        "outputId": "a4357ca1-6861-4d31-c722-bc3391707639"
      },
      "outputs": [
        {
          "name": "stdout",
          "output_type": "stream",
          "text": [
            "{'nome': 'João', 'idade': 21, 'cidade': 'Goiânia'}\n"
          ]
        }
      ],
      "source": [
        "del aluno['curso']  # Remove a chave 'curso' e seu valor associado\n",
        "print(aluno)  # Exibe o dicionário após a remoção {'nome': 'João', 'idade': 21, 'cidade': 'Goiânia'}"
      ]
    },
    {
      "cell_type": "markdown",
      "id": "VOQ9zANlJUAD",
      "metadata": {
        "id": "VOQ9zANlJUAD"
      },
      "source": [
        "#### Tentando criar um dicionário com chaves mutáveis"
      ]
    },
    {
      "cell_type": "code",
      "execution_count": null,
      "id": "xXaNCuxHJi3n",
      "metadata": {
        "colab": {
          "base_uri": "https://localhost:8080/",
          "height": 158
        },
        "id": "xXaNCuxHJi3n",
        "outputId": "d6d7ff0a-915b-4331-931c-8b6ce043f698"
      },
      "outputs": [
        {
          "ename": "TypeError",
          "evalue": "unhashable type: 'list'",
          "output_type": "error",
          "traceback": [
            "\u001b[0;31m---------------------------------------------------------------------------\u001b[0m",
            "\u001b[0;31mTypeError\u001b[0m                                 Traceback (most recent call last)",
            "\u001b[0;32m<ipython-input-45-4fa30c37dd4b>\u001b[0m in \u001b[0;36m<cell line: 1>\u001b[0;34m()\u001b[0m\n\u001b[0;32m----> 1\u001b[0;31m \u001b[0malunos\u001b[0m \u001b[0;34m=\u001b[0m \u001b[0;34m{\u001b[0m\u001b[0;34m[\u001b[0m\u001b[0;34m'João'\u001b[0m\u001b[0;34m,\u001b[0m \u001b[0;34m'1º período'\u001b[0m\u001b[0;34m,\u001b[0m \u001b[0;34m'Lógica de programação'\u001b[0m\u001b[0;34m]\u001b[0m\u001b[0;34m:\u001b[0m \u001b[0;36m6.5\u001b[0m\u001b[0;34m,\u001b[0m \u001b[0;34m[\u001b[0m\u001b[0;34m'Júlia'\u001b[0m\u001b[0;34m,\u001b[0m \u001b[0;34m'1º período'\u001b[0m\u001b[0;34m,\u001b[0m \u001b[0;34m'Lógica de programação'\u001b[0m\u001b[0;34m]\u001b[0m\u001b[0;34m:\u001b[0m \u001b[0;36m8.9\u001b[0m\u001b[0;34m,\u001b[0m \u001b[0;34m[\u001b[0m\u001b[0;34m'Felipe'\u001b[0m\u001b[0;34m,\u001b[0m \u001b[0;34m'1º período'\u001b[0m\u001b[0;34m,\u001b[0m \u001b[0;34m'Lógica de programação'\u001b[0m\u001b[0;34m]\u001b[0m\u001b[0;34m:\u001b[0m \u001b[0;36m7.5\u001b[0m\u001b[0;34m}\u001b[0m \u001b[0;31m# Resulta em um TypeError\u001b[0m\u001b[0;34m\u001b[0m\u001b[0;34m\u001b[0m\u001b[0m\n\u001b[0m",
            "\u001b[0;31mTypeError\u001b[0m: unhashable type: 'list'"
          ]
        }
      ],
      "source": [
        "alunos = {['João', '1º período', 'Lógica de programação']: 6.5, ['Júlia', '1º período', 'Lógica de programação']: 8.9, ['Felipe', '1º período', 'Lógica de programação']: 7.5} # Resulta em um TypeError"
      ]
    },
    {
      "cell_type": "markdown",
      "id": "1sXQyUybKVrq",
      "metadata": {
        "id": "1sXQyUybKVrq"
      },
      "source": [
        "O código acima resulta em um `TypeError`, pois tentamos informar nas chaves os dados de alunos em listas (nome, período e disciplina) e nos valores as respectivas notas. Listas são mutáveis e, portanto, não podem ser utilizadas como chaves em dicionários. Entretanto, listas podem ser utilizadas como valores em dicionários. Caso assim desejássemos, poderíamos usar tuplas para manter a forma de armazenar os valores, da seguinte forma:"
      ]
    },
    {
      "cell_type": "code",
      "execution_count": null,
      "id": "hn59LotRLyrt",
      "metadata": {
        "colab": {
          "base_uri": "https://localhost:8080/"
        },
        "id": "hn59LotRLyrt",
        "outputId": "7da525f7-587c-4d72-da20-df4f27200498"
      },
      "outputs": [
        {
          "name": "stdout",
          "output_type": "stream",
          "text": [
            "{('João', '1º período', 'Lógica de programação'): 6.5, ('Júlia', '1º período', 'Lógica de programação'): 8.9, ('Felipe', '1º período', 'Lógica de programação'): 7.5}\n"
          ]
        }
      ],
      "source": [
        "alunos = {('João', '1º período', 'Lógica de programação'): 6.5, ('Júlia', '1º período', 'Lógica de programação'): 8.9, ('Felipe', '1º período', 'Lógica de programação'): 7.5} # Dicionário válido\n",
        "print(alunos) # Será exibido {('João', '1º período', 'Lógica de programação'): 6.5, ('Júlia', '1º período', 'Lógica de programação'): 8.9, ('Felipe', '1º período', 'Lógica de programação'): 7.5}"
      ]
    },
    {
      "cell_type": "markdown",
      "id": "Uk_DHxk7121g",
      "metadata": {
        "id": "Uk_DHxk7121g"
      },
      "source": [
        "#### Extrair chaves e valores de um dicionário\n",
        "\n",
        "A partir de um dicionário, podemos extrair as chaves utilizando o método `.keys()` e os valores utilizando o método `.values()`, separando-os em um objeto iterável. Objeto iterável significa que podemos acessar valores individualmente utilizando o índice entre chaves `[` e `]` ou  percorrê-lo, utilizando estruturas de repetição. Entretanto, fica difícil utilizar esse tipo de estrutura, pois ela não possui suporte a todas as funções e métodos de uma `list`. Portanto, a partir da extração das chaves/valores de um dicionário, é usual fazer o *casting* para uma lista."
      ]
    },
    {
      "cell_type": "code",
      "execution_count": null,
      "id": "V8XjHpZA2BmM",
      "metadata": {
        "colab": {
          "base_uri": "https://localhost:8080/"
        },
        "id": "V8XjHpZA2BmM",
        "outputId": "13017d70-34dc-48a2-f8a5-ca2eaa86f9e8"
      },
      "outputs": [
        {
          "name": "stdout",
          "output_type": "stream",
          "text": [
            "[('João', '1º período', 'Lógica de programação'), ('Júlia', '1º período', 'Lógica de programação'), ('Felipe', '1º período', 'Lógica de programação')]\n",
            "[6.5, 8.9, 7.5]\n"
          ]
        }
      ],
      "source": [
        "chaves_alunos = list(alunos.keys()) # Extrai as chaves do dicionário usando o método keys() e faz a conversão para uma lista\n",
        "valores_alunos = list(alunos.values()) # Extrai os valores do dicionário usando o método values() e faz a conversão para uma lista\n",
        "print(chaves_alunos) # Exibe [('João', '1º período', 'Lógica de programação'), ('Júlia', '1º período', 'Lógica de programação'), ('Felipe', '1º período', 'Lógica de programação')]\n",
        "print(valores_alunos) # Exibe [6.5, 8.9, 7.5]"
      ]
    },
    {
      "cell_type": "markdown",
      "id": "7xp5k_6l4JbN",
      "metadata": {
        "id": "7xp5k_6l4JbN"
      },
      "source": [
        "#### Busca em dicionários\n",
        "\n",
        "Podemos verificar se uma determinada chave existe em um dicionário utilizando o operador `in`. Entretanto, esse tipo de busca não funciona para os valores, pois os dicionários são estruturas de dados projetadas para indexar valores com suas respectivas chaves que são os objetos de busca em situações reais."
      ]
    },
    {
      "cell_type": "code",
      "execution_count": null,
      "id": "Y9LRvcNm4aC4",
      "metadata": {
        "colab": {
          "base_uri": "https://localhost:8080/"
        },
        "id": "Y9LRvcNm4aC4",
        "outputId": "28b61ae2-aff7-44b4-8c54-39f64f3dd57e"
      },
      "outputs": [
        {
          "name": "stdout",
          "output_type": "stream",
          "text": [
            "True\n",
            "False\n"
          ]
        }
      ],
      "source": [
        "print('idade' in aluno) # Retorna True pois existe uma chave 'idade' no dicionário\n",
        "print(21 in aluno)  # Retorna False pois existe um valor 21 no dicionário mas não em uma chave"
      ]
    },
    {
      "cell_type": "markdown",
      "id": "s2oXN7C-4qkW",
      "metadata": {
        "id": "s2oXN7C-4qkW"
      },
      "source": [
        "Embora pouco usual para buscar valores, podemos utilizar o método `.values()` em tempo real."
      ]
    },
    {
      "cell_type": "code",
      "execution_count": null,
      "id": "AQEZQCTg5gfY",
      "metadata": {
        "colab": {
          "base_uri": "https://localhost:8080/"
        },
        "id": "AQEZQCTg5gfY",
        "outputId": "b669265d-3370-4613-905b-ce82ca7c4efa"
      },
      "outputs": [
        {
          "data": {
            "text/plain": [
              "True"
            ]
          },
          "execution_count": 49,
          "metadata": {},
          "output_type": "execute_result"
        }
      ],
      "source": [
        "21 in aluno.values()  # Retorna True pois a busca por 21 é realizada em um objeto iterável obtido a partir dos valores do dicionário"
      ]
    },
    {
      "cell_type": "markdown",
      "id": "hAQxxl2P51Oa",
      "metadata": {
        "id": "hAQxxl2P51Oa"
      },
      "source": [
        "Ao tentar mostrar um valor a partir de uma chave inexistente é retornado um `KeyError`."
      ]
    },
    {
      "cell_type": "code",
      "execution_count": null,
      "id": "cl2BBAp06B7r",
      "metadata": {
        "colab": {
          "base_uri": "https://localhost:8080/",
          "height": 141
        },
        "id": "cl2BBAp06B7r",
        "outputId": "36f17936-dbd3-41d2-e714-e0cff9394614"
      },
      "outputs": [
        {
          "ename": "KeyError",
          "evalue": "'matrícula'",
          "output_type": "error",
          "traceback": [
            "\u001b[0;31m---------------------------------------------------------------------------\u001b[0m",
            "\u001b[0;31mKeyError\u001b[0m                                  Traceback (most recent call last)",
            "\u001b[0;32m<ipython-input-50-d2b23c8e7347>\u001b[0m in \u001b[0;36m<cell line: 1>\u001b[0;34m()\u001b[0m\n\u001b[0;32m----> 1\u001b[0;31m \u001b[0maluno\u001b[0m\u001b[0;34m[\u001b[0m\u001b[0;34m'matrícula'\u001b[0m\u001b[0;34m]\u001b[0m \u001b[0;31m# Retorna um KeyError\u001b[0m\u001b[0;34m\u001b[0m\u001b[0;34m\u001b[0m\u001b[0m\n\u001b[0m",
            "\u001b[0;31mKeyError\u001b[0m: 'matrícula'"
          ]
        }
      ],
      "source": [
        "aluno['matrícula'] # Retorna um KeyError"
      ]
    },
    {
      "cell_type": "markdown",
      "id": "nkVA1J2U6JwM",
      "metadata": {
        "id": "nkVA1J2U6JwM"
      },
      "source": [
        "Entretanto, podemos utilizar o método `.get()` para evitar o `KeyError` que possui dois tipos de retorno:\n",
        "\n",
        "*   Retorna o valor, se a chave for localizada no dicionário; ou\n",
        "*   `None`, se a chave não existir, evitando erros de execução."
      ]
    },
    {
      "cell_type": "code",
      "execution_count": null,
      "id": "bOxNtmM66q4R",
      "metadata": {
        "colab": {
          "base_uri": "https://localhost:8080/"
        },
        "id": "bOxNtmM66q4R",
        "outputId": "76567c35-92c3-4dd2-a8a7-50774a0ff245"
      },
      "outputs": [
        {
          "name": "stdout",
          "output_type": "stream",
          "text": [
            "João\n",
            "None\n"
          ]
        }
      ],
      "source": [
        "print(aluno.get('nome')) # Encontra e retorna João\n",
        "print(aluno.get('matrícula')) # Não encontra e retorna None"
      ]
    },
    {
      "cell_type": "markdown",
      "id": "rrqmQDQl7CPO",
      "metadata": {
        "id": "rrqmQDQl7CPO"
      },
      "source": [
        "É possível personalizar o retorno caso a chave não seja localizada informando o retorno desejado no segundo parâmetro do método `.get()`."
      ]
    },
    {
      "cell_type": "code",
      "execution_count": null,
      "id": "-_Hd3p7X7TXy",
      "metadata": {
        "colab": {
          "base_uri": "https://localhost:8080/"
        },
        "id": "-_Hd3p7X7TXy",
        "outputId": "0d8294f3-b54a-4b0d-9fe7-0cf74740b789"
      },
      "outputs": [
        {
          "name": "stdout",
          "output_type": "stream",
          "text": [
            "Valor não encontrado.\n"
          ]
        }
      ],
      "source": [
        "print(aluno.get('matricula', 'Valor não encontrado.')) # Exibe 'Valor não encontrado.'"
      ]
    },
    {
      "cell_type": "markdown",
      "id": "VrQd-Ioc9Ze3",
      "metadata": {
        "id": "VrQd-Ioc9Ze3"
      },
      "source": [
        "####Outras formas de adicionar valores\n",
        "\n",
        "Vimos anteriormente que para adicionar um valor em um dicionário basta informar o nome do dicionário, seguido pela nova chave e o valor, por exemplo, `aluno['cidade'] = 'Goiânia'`. Entretanto, se a chave já existir no dicionário, o valor será substituído. Caso não desejemos essa substituição, podemos utilizar o método `.setdefault()`, passando a chave e o valor como parâmetros. Assim, se a chave não existir, será adicionada; caso contrário, se existir, o dicionário não será alterado."
      ]
    },
    {
      "cell_type": "code",
      "execution_count": null,
      "id": "85djedzG-6Ba",
      "metadata": {
        "colab": {
          "base_uri": "https://localhost:8080/"
        },
        "id": "85djedzG-6Ba",
        "outputId": "860ce424-3b8b-426b-ce31-fd342ad96084"
      },
      "outputs": [
        {
          "name": "stdout",
          "output_type": "stream",
          "text": [
            "{'nome': 'João', 'idade': 21, 'cidade': 'Goiânia', 'matrícula': 2024001001}\n",
            "{'nome': 'João', 'idade': 21, 'cidade': 'Goiânia', 'matrícula': 2024001001}\n"
          ]
        }
      ],
      "source": [
        "aluno.setdefault('matrícula', 2024001001) # Adiciona a chave e o valor da matrícula\n",
        "print(aluno) # Exibe {'nome': 'João', 'idade': 20, 'curso': 'Engenharia', 'matrícula': 2024001001}\n",
        "aluno.setdefault('matrícula', 2024001001000) # Tenta adicionar novamente a chave com outro valor sem sucesso\n",
        "print(aluno)  # Exibe o dicionário inalterado {'nome': 'João', 'idade': 20, 'curso': 'Engenharia', 'matrícula': 2024001001}"
      ]
    },
    {
      "cell_type": "markdown",
      "id": "H4fqPvuD_qFI",
      "metadata": {
        "id": "H4fqPvuD_qFI"
      },
      "source": [
        "O método `.update()` permite adicionar vários pares de chave-valor a um dicionário existente. Passamos como parâmetro para esse método um dicionário. O efeito é semelhante ao método `.extend()` utilizado em listas, como vimos anteriormente."
      ]
    },
    {
      "cell_type": "code",
      "execution_count": null,
      "id": "SenaPWtBANWs",
      "metadata": {
        "colab": {
          "base_uri": "https://localhost:8080/"
        },
        "id": "SenaPWtBANWs",
        "outputId": "5f4e5074-e537-40ee-ef6e-900884f31cd6"
      },
      "outputs": [
        {
          "name": "stdout",
          "output_type": "stream",
          "text": [
            "{'nome': 'João', 'idade': 21, 'cidade': 'Goiânia', 'matrícula': 2024001001, 'estado': 'Goiás'}\n"
          ]
        }
      ],
      "source": [
        "aluno.update({'cidade': 'Goiânia', 'estado': 'Goiás'}) # Adiciona 2 novas entradas no dicionário\n",
        "print(aluno) # Exibe {'nome': 'João', 'idade': 21, 'curso': 'Engenharia', 'matrícula': 2024001001, 'cidade': 'Goiânia', 'estado': 'Goiás'}"
      ]
    },
    {
      "cell_type": "markdown",
      "id": "LRPIDsHmWsXP",
      "metadata": {
        "id": "LRPIDsHmWsXP"
      },
      "source": [
        "### 3.2.2.4 Conjuntos\n",
        "\n",
        "###Conceito\n",
        "Conjuntos são coleções não ordenadas de elementos únicos, ou seja, não permitem elementos duplicados. Apesar de ser uma estrutura de dados mutável, seus elementos devem ser imutáveis.\n",
        "\n",
        "###Aplicações\n",
        "Conjuntos são usados para armazenar coleções de itens únicos. Eles são úteis para operações de conjunto, como união, interseção e diferença.\n",
        "\n",
        "Em Python, um conjunto é criado usando chaves `{}` ou a função `set()`. A diferença entre os dicionários e os conjuntos é que os conjuntos não possuem valores, apenas chaves, por isso não permitem que sejam duplicadas. As chaves devem respeitar sua tipagem, por exemplo, strings devem ser colocadas entre aspas (\") ou apóstrofos (').\n",
        "\n",
        "Para saber mais sobre conjuntos acesse w3schools.com/python/python_sets.asp"
      ]
    },
    {
      "cell_type": "markdown",
      "id": "RKJjR7BJESMB",
      "metadata": {
        "id": "RKJjR7BJESMB"
      },
      "source": [
        "#### Criando um conjunto\n",
        "\n",
        "A função `set()` é utilizada para criar um conjunto vazio. Ao tentarmos criar um conjunto com elementos repetidos, esses serão ignorados e apenas a primeira ocorrência será mantida."
      ]
    },
    {
      "cell_type": "code",
      "execution_count": null,
      "id": "CQ6vXDKcWsXQ",
      "metadata": {
        "colab": {
          "base_uri": "https://localhost:8080/"
        },
        "id": "CQ6vXDKcWsXQ",
        "outputId": "0ab0925e-6889-4471-8a92-af095c032c5f"
      },
      "outputs": [
        {
          "name": "stdout",
          "output_type": "stream",
          "text": [
            "{'maçã', 'banana', 'cereja'}\n"
          ]
        }
      ],
      "source": [
        "frutas = set() # Cria um conjunto vazio\n",
        "frutas = {'maçã', 'banana', 'cereja', 'banana', 'cereja'}  # Altera o conjunto com novas chaves, com algumas repetições sem efeito\n",
        "print(frutas)  # Exibe {'banana', 'maçã', 'cereja'}"
      ]
    },
    {
      "cell_type": "markdown",
      "id": "QcYIZP1tEVhb",
      "metadata": {
        "id": "QcYIZP1tEVhb"
      },
      "source": [
        "#### Adicionar elementos ao conjunto\n",
        "\n",
        "O método `.add()` adiciona novos elementos, se não existirem, ao conjunto."
      ]
    },
    {
      "cell_type": "code",
      "execution_count": null,
      "id": "WADe0TfXEJno",
      "metadata": {
        "colab": {
          "base_uri": "https://localhost:8080/"
        },
        "id": "WADe0TfXEJno",
        "outputId": "40d4fbc4-bec3-4687-ae11-a7edf33b1306"
      },
      "outputs": [
        {
          "name": "stdout",
          "output_type": "stream",
          "text": [
            "{'laranja', 'maçã', 'banana', 'cereja'}\n"
          ]
        }
      ],
      "source": [
        "frutas.add('laranja')  # Adiciona 'laranja' ao conjunto\n",
        "print(frutas)  # Exibe {'banana', 'maçã', 'cereja', 'laranja'}"
      ]
    },
    {
      "cell_type": "markdown",
      "id": "Du4cJfdiEYE_",
      "metadata": {
        "id": "Du4cJfdiEYE_"
      },
      "source": [
        "#### Remover elementos do conjunto\n",
        "\n",
        "O método `.remove()` remove um elemento existente no conjunto. Caso a chave não seja localizada, será retornado um `KeyError`."
      ]
    },
    {
      "cell_type": "code",
      "execution_count": null,
      "id": "4TMY_pcAELnq",
      "metadata": {
        "colab": {
          "base_uri": "https://localhost:8080/"
        },
        "id": "4TMY_pcAELnq",
        "outputId": "3dbfbce0-da0a-4498-9656-780e117a6e67"
      },
      "outputs": [
        {
          "name": "stdout",
          "output_type": "stream",
          "text": [
            "{'maçã', 'banana', 'cereja'}\n"
          ]
        }
      ],
      "source": [
        "frutas.remove('laranja')  # Remove 'laranja' do conjunto\n",
        "print(frutas)  # Exibe o conjunto após remover 'laranja'"
      ]
    },
    {
      "cell_type": "markdown",
      "id": "Q-WuHYsREc2-",
      "metadata": {
        "id": "Q-WuHYsREc2-"
      },
      "source": [
        "#### Operações com conjuntos\n",
        "\n",
        "Podemos efetuar operações equivalentes às operações matemáticas em conjuntos numéricos:\n",
        "\n",
        "*   **União**: obtém a união (junção) de dois conjuntos utilizando o operador `|` ou o método `.union()`.\n",
        "*   **Interseção**: obtém a intersecção (elementos que se repetem) de dois conjuntos utilizando o operador `&` ou o método `.intersection()`.\n",
        "*   **Diferença**: obtém a diferença (elementos encontrados no primeiro conjunto, mas que não estão no segundo conjunto) utilizando o operador `-` ou o método `.difference()`.\n",
        "*   **Diferença simétrica**: obtém a diferença simétrica (elementos que não se repetem entre os conjuntos) utilizando o operador `^` ou o método `.symmetric_difference()`.\n",
        "*   **Subconjunto**: obtém o subconjunto (se todos os elementos do primeiro conjunto estão contidos no segundo conjunto) utilizando o operador `<=` ou o método `.issubset()`.\n",
        "*   **Superconjunto**: obtém o superconjunto (se todos os elementos do segundo conjunto estão contidos no primeiro conjunto) utilizando o operador `>=` ou o método `.issuperset()`."
      ]
    },
    {
      "cell_type": "code",
      "execution_count": null,
      "id": "kRu_Yv1GEPuQ",
      "metadata": {
        "colab": {
          "base_uri": "https://localhost:8080/"
        },
        "id": "kRu_Yv1GEPuQ",
        "outputId": "f3376378-6330-4312-b375-00eff62813c2"
      },
      "outputs": [
        {
          "name": "stdout",
          "output_type": "stream",
          "text": [
            "União: {'limão', 'laranja', 'manga', 'goiaba', 'abacaxi', 'mamão', 'banana'}\n",
            "Interseção: {'laranja', 'limão'}\n",
            "Diferença: {'manga', 'banana', 'mamão', 'goiaba'}\n",
            "Diferença simétrica: {'manga', 'abacaxi', 'goiaba', 'mamão', 'banana'}\n"
          ]
        }
      ],
      "source": [
        "tropicais = {'goiaba', 'banana', 'manga', 'mamão', 'laranja', 'limão'}\n",
        "citricas = {'laranja', 'limão', 'abacaxi'}\n",
        "print('União:', tropicais | citricas)  # União equivalente a tropicais.union(citricas)\n",
        "print('Interseção:', tropicais & citricas)  # Interseção equivalente a tropicais.intersection(citricas)\n",
        "print('Diferença:', tropicais - citricas)  # Diferença equivalente a tropicais.difference(citricas)\n",
        "print('Diferença simétrica:', tropicais ^ citricas)  # Diferença simétrica equivalente a tropicais.symmetric_difference(citricas)"
      ]
    }
  ],
  "metadata": {
    "colab": {
      "collapsed_sections": [
        "X8oQ8oz9WsXO"
      ],
      "include_colab_link": true,
      "provenance": []
    },
    "kernelspec": {
      "display_name": "base",
      "language": "python",
      "name": "python3"
    },
    "language_info": {
      "codemirror_mode": {
        "name": "ipython",
        "version": 3
      },
      "file_extension": ".py",
      "mimetype": "text/x-python",
      "name": "python",
      "nbconvert_exporter": "python",
      "pygments_lexer": "ipython3",
      "version": "3.12.3"
    }
  },
  "nbformat": 4,
  "nbformat_minor": 5
}
