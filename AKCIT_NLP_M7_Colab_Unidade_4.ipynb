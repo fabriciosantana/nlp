{
  "nbformat": 4,
  "nbformat_minor": 0,
  "metadata": {
    "colab": {
      "provenance": [],
      "include_colab_link": true
    },
    "kernelspec": {
      "name": "python3",
      "display_name": "Python 3"
    },
    "language_info": {
      "name": "python"
    },
    "widgets": {
      "application/vnd.jupyter.widget-state+json": {
        "3734fa13ed0e48ada22ad723614b5352": {
          "model_module": "@jupyter-widgets/controls",
          "model_name": "HBoxModel",
          "model_module_version": "1.5.0",
          "state": {
            "_dom_classes": [],
            "_model_module": "@jupyter-widgets/controls",
            "_model_module_version": "1.5.0",
            "_model_name": "HBoxModel",
            "_view_count": null,
            "_view_module": "@jupyter-widgets/controls",
            "_view_module_version": "1.5.0",
            "_view_name": "HBoxView",
            "box_style": "",
            "children": [
              "IPY_MODEL_90f521022c0b46798be9d1addb077d46",
              "IPY_MODEL_6620d2a01b9b4f789ac1cdaed57ca971",
              "IPY_MODEL_225fe95ef9ea447f85ae1cc30f280386"
            ],
            "layout": "IPY_MODEL_b0a2bcc87df3421e8cb14725a5332f1d"
          }
        },
        "90f521022c0b46798be9d1addb077d46": {
          "model_module": "@jupyter-widgets/controls",
          "model_name": "HTMLModel",
          "model_module_version": "1.5.0",
          "state": {
            "_dom_classes": [],
            "_model_module": "@jupyter-widgets/controls",
            "_model_module_version": "1.5.0",
            "_model_name": "HTMLModel",
            "_view_count": null,
            "_view_module": "@jupyter-widgets/controls",
            "_view_module_version": "1.5.0",
            "_view_name": "HTMLView",
            "description": "",
            "description_tooltip": null,
            "layout": "IPY_MODEL_c9419f18d5204193805e0fd674a52bff",
            "placeholder": "​",
            "style": "IPY_MODEL_f4b9b93ba3d4447d8557cf7255e14235",
            "value": "Downloading readme: 100%"
          }
        },
        "6620d2a01b9b4f789ac1cdaed57ca971": {
          "model_module": "@jupyter-widgets/controls",
          "model_name": "FloatProgressModel",
          "model_module_version": "1.5.0",
          "state": {
            "_dom_classes": [],
            "_model_module": "@jupyter-widgets/controls",
            "_model_module_version": "1.5.0",
            "_model_name": "FloatProgressModel",
            "_view_count": null,
            "_view_module": "@jupyter-widgets/controls",
            "_view_module_version": "1.5.0",
            "_view_name": "ProgressView",
            "bar_style": "success",
            "description": "",
            "description_tooltip": null,
            "layout": "IPY_MODEL_238b7478e54544978fe1210e5029a9be",
            "max": 579,
            "min": 0,
            "orientation": "horizontal",
            "style": "IPY_MODEL_2c00a236beb44a1ebb7dc9bbeee33acd",
            "value": 579
          }
        },
        "225fe95ef9ea447f85ae1cc30f280386": {
          "model_module": "@jupyter-widgets/controls",
          "model_name": "HTMLModel",
          "model_module_version": "1.5.0",
          "state": {
            "_dom_classes": [],
            "_model_module": "@jupyter-widgets/controls",
            "_model_module_version": "1.5.0",
            "_model_name": "HTMLModel",
            "_view_count": null,
            "_view_module": "@jupyter-widgets/controls",
            "_view_module_version": "1.5.0",
            "_view_name": "HTMLView",
            "description": "",
            "description_tooltip": null,
            "layout": "IPY_MODEL_741af09776c14e988025ca48b2eb2e71",
            "placeholder": "​",
            "style": "IPY_MODEL_f4e42b88f24b4bfaa3657ebdbe4c8b01",
            "value": " 579/579 [00:00&lt;00:00, 4.80kB/s]"
          }
        },
        "b0a2bcc87df3421e8cb14725a5332f1d": {
          "model_module": "@jupyter-widgets/base",
          "model_name": "LayoutModel",
          "model_module_version": "1.2.0",
          "state": {
            "_model_module": "@jupyter-widgets/base",
            "_model_module_version": "1.2.0",
            "_model_name": "LayoutModel",
            "_view_count": null,
            "_view_module": "@jupyter-widgets/base",
            "_view_module_version": "1.2.0",
            "_view_name": "LayoutView",
            "align_content": null,
            "align_items": null,
            "align_self": null,
            "border": null,
            "bottom": null,
            "display": null,
            "flex": null,
            "flex_flow": null,
            "grid_area": null,
            "grid_auto_columns": null,
            "grid_auto_flow": null,
            "grid_auto_rows": null,
            "grid_column": null,
            "grid_gap": null,
            "grid_row": null,
            "grid_template_areas": null,
            "grid_template_columns": null,
            "grid_template_rows": null,
            "height": null,
            "justify_content": null,
            "justify_items": null,
            "left": null,
            "margin": null,
            "max_height": null,
            "max_width": null,
            "min_height": null,
            "min_width": null,
            "object_fit": null,
            "object_position": null,
            "order": null,
            "overflow": null,
            "overflow_x": null,
            "overflow_y": null,
            "padding": null,
            "right": null,
            "top": null,
            "visibility": null,
            "width": null
          }
        },
        "c9419f18d5204193805e0fd674a52bff": {
          "model_module": "@jupyter-widgets/base",
          "model_name": "LayoutModel",
          "model_module_version": "1.2.0",
          "state": {
            "_model_module": "@jupyter-widgets/base",
            "_model_module_version": "1.2.0",
            "_model_name": "LayoutModel",
            "_view_count": null,
            "_view_module": "@jupyter-widgets/base",
            "_view_module_version": "1.2.0",
            "_view_name": "LayoutView",
            "align_content": null,
            "align_items": null,
            "align_self": null,
            "border": null,
            "bottom": null,
            "display": null,
            "flex": null,
            "flex_flow": null,
            "grid_area": null,
            "grid_auto_columns": null,
            "grid_auto_flow": null,
            "grid_auto_rows": null,
            "grid_column": null,
            "grid_gap": null,
            "grid_row": null,
            "grid_template_areas": null,
            "grid_template_columns": null,
            "grid_template_rows": null,
            "height": null,
            "justify_content": null,
            "justify_items": null,
            "left": null,
            "margin": null,
            "max_height": null,
            "max_width": null,
            "min_height": null,
            "min_width": null,
            "object_fit": null,
            "object_position": null,
            "order": null,
            "overflow": null,
            "overflow_x": null,
            "overflow_y": null,
            "padding": null,
            "right": null,
            "top": null,
            "visibility": null,
            "width": null
          }
        },
        "f4b9b93ba3d4447d8557cf7255e14235": {
          "model_module": "@jupyter-widgets/controls",
          "model_name": "DescriptionStyleModel",
          "model_module_version": "1.5.0",
          "state": {
            "_model_module": "@jupyter-widgets/controls",
            "_model_module_version": "1.5.0",
            "_model_name": "DescriptionStyleModel",
            "_view_count": null,
            "_view_module": "@jupyter-widgets/base",
            "_view_module_version": "1.2.0",
            "_view_name": "StyleView",
            "description_width": ""
          }
        },
        "238b7478e54544978fe1210e5029a9be": {
          "model_module": "@jupyter-widgets/base",
          "model_name": "LayoutModel",
          "model_module_version": "1.2.0",
          "state": {
            "_model_module": "@jupyter-widgets/base",
            "_model_module_version": "1.2.0",
            "_model_name": "LayoutModel",
            "_view_count": null,
            "_view_module": "@jupyter-widgets/base",
            "_view_module_version": "1.2.0",
            "_view_name": "LayoutView",
            "align_content": null,
            "align_items": null,
            "align_self": null,
            "border": null,
            "bottom": null,
            "display": null,
            "flex": null,
            "flex_flow": null,
            "grid_area": null,
            "grid_auto_columns": null,
            "grid_auto_flow": null,
            "grid_auto_rows": null,
            "grid_column": null,
            "grid_gap": null,
            "grid_row": null,
            "grid_template_areas": null,
            "grid_template_columns": null,
            "grid_template_rows": null,
            "height": null,
            "justify_content": null,
            "justify_items": null,
            "left": null,
            "margin": null,
            "max_height": null,
            "max_width": null,
            "min_height": null,
            "min_width": null,
            "object_fit": null,
            "object_position": null,
            "order": null,
            "overflow": null,
            "overflow_x": null,
            "overflow_y": null,
            "padding": null,
            "right": null,
            "top": null,
            "visibility": null,
            "width": null
          }
        },
        "2c00a236beb44a1ebb7dc9bbeee33acd": {
          "model_module": "@jupyter-widgets/controls",
          "model_name": "ProgressStyleModel",
          "model_module_version": "1.5.0",
          "state": {
            "_model_module": "@jupyter-widgets/controls",
            "_model_module_version": "1.5.0",
            "_model_name": "ProgressStyleModel",
            "_view_count": null,
            "_view_module": "@jupyter-widgets/base",
            "_view_module_version": "1.2.0",
            "_view_name": "StyleView",
            "bar_color": null,
            "description_width": ""
          }
        },
        "741af09776c14e988025ca48b2eb2e71": {
          "model_module": "@jupyter-widgets/base",
          "model_name": "LayoutModel",
          "model_module_version": "1.2.0",
          "state": {
            "_model_module": "@jupyter-widgets/base",
            "_model_module_version": "1.2.0",
            "_model_name": "LayoutModel",
            "_view_count": null,
            "_view_module": "@jupyter-widgets/base",
            "_view_module_version": "1.2.0",
            "_view_name": "LayoutView",
            "align_content": null,
            "align_items": null,
            "align_self": null,
            "border": null,
            "bottom": null,
            "display": null,
            "flex": null,
            "flex_flow": null,
            "grid_area": null,
            "grid_auto_columns": null,
            "grid_auto_flow": null,
            "grid_auto_rows": null,
            "grid_column": null,
            "grid_gap": null,
            "grid_row": null,
            "grid_template_areas": null,
            "grid_template_columns": null,
            "grid_template_rows": null,
            "height": null,
            "justify_content": null,
            "justify_items": null,
            "left": null,
            "margin": null,
            "max_height": null,
            "max_width": null,
            "min_height": null,
            "min_width": null,
            "object_fit": null,
            "object_position": null,
            "order": null,
            "overflow": null,
            "overflow_x": null,
            "overflow_y": null,
            "padding": null,
            "right": null,
            "top": null,
            "visibility": null,
            "width": null
          }
        },
        "f4e42b88f24b4bfaa3657ebdbe4c8b01": {
          "model_module": "@jupyter-widgets/controls",
          "model_name": "DescriptionStyleModel",
          "model_module_version": "1.5.0",
          "state": {
            "_model_module": "@jupyter-widgets/controls",
            "_model_module_version": "1.5.0",
            "_model_name": "DescriptionStyleModel",
            "_view_count": null,
            "_view_module": "@jupyter-widgets/base",
            "_view_module_version": "1.2.0",
            "_view_name": "StyleView",
            "description_width": ""
          }
        },
        "da82c5634f2d495a829f8059e40caff6": {
          "model_module": "@jupyter-widgets/controls",
          "model_name": "HBoxModel",
          "model_module_version": "1.5.0",
          "state": {
            "_dom_classes": [],
            "_model_module": "@jupyter-widgets/controls",
            "_model_module_version": "1.5.0",
            "_model_name": "HBoxModel",
            "_view_count": null,
            "_view_module": "@jupyter-widgets/controls",
            "_view_module_version": "1.5.0",
            "_view_name": "HBoxView",
            "box_style": "",
            "children": [
              "IPY_MODEL_7bb5ea46311242ee83bf9b66c1aa3e23",
              "IPY_MODEL_baf8a41acde84e44bfd0093b23cf8c1c",
              "IPY_MODEL_f3b15b71dc174f95b87d655ebe2e47ea"
            ],
            "layout": "IPY_MODEL_21394a0bd3af4194921f4304ac11dbb6"
          }
        },
        "7bb5ea46311242ee83bf9b66c1aa3e23": {
          "model_module": "@jupyter-widgets/controls",
          "model_name": "HTMLModel",
          "model_module_version": "1.5.0",
          "state": {
            "_dom_classes": [],
            "_model_module": "@jupyter-widgets/controls",
            "_model_module_version": "1.5.0",
            "_model_name": "HTMLModel",
            "_view_count": null,
            "_view_module": "@jupyter-widgets/controls",
            "_view_module_version": "1.5.0",
            "_view_name": "HTMLView",
            "description": "",
            "description_tooltip": null,
            "layout": "IPY_MODEL_54f55f644bec4c8888c42390617c2a57",
            "placeholder": "​",
            "style": "IPY_MODEL_a2988c508bc4406081ec2b2dcfb33f53",
            "value": "Downloading data: 100%"
          }
        },
        "baf8a41acde84e44bfd0093b23cf8c1c": {
          "model_module": "@jupyter-widgets/controls",
          "model_name": "FloatProgressModel",
          "model_module_version": "1.5.0",
          "state": {
            "_dom_classes": [],
            "_model_module": "@jupyter-widgets/controls",
            "_model_module_version": "1.5.0",
            "_model_name": "FloatProgressModel",
            "_view_count": null,
            "_view_module": "@jupyter-widgets/controls",
            "_view_module_version": "1.5.0",
            "_view_name": "ProgressView",
            "bar_style": "success",
            "description": "",
            "description_tooltip": null,
            "layout": "IPY_MODEL_0ed22630dfd442bd81d816c6b468b0f7",
            "max": 1561463,
            "min": 0,
            "orientation": "horizontal",
            "style": "IPY_MODEL_0f3d39d1c89745dda4b6944ef1bbba08",
            "value": 1561463
          }
        },
        "f3b15b71dc174f95b87d655ebe2e47ea": {
          "model_module": "@jupyter-widgets/controls",
          "model_name": "HTMLModel",
          "model_module_version": "1.5.0",
          "state": {
            "_dom_classes": [],
            "_model_module": "@jupyter-widgets/controls",
            "_model_module_version": "1.5.0",
            "_model_name": "HTMLModel",
            "_view_count": null,
            "_view_module": "@jupyter-widgets/controls",
            "_view_module_version": "1.5.0",
            "_view_name": "HTMLView",
            "description": "",
            "description_tooltip": null,
            "layout": "IPY_MODEL_686c66e4b3414cbba7a4e3a02d49525c",
            "placeholder": "​",
            "style": "IPY_MODEL_40fbfe97194847a9bc5b4eabd3f21377",
            "value": " 1.56M/1.56M [00:00&lt;00:00, 3.16MB/s]"
          }
        },
        "21394a0bd3af4194921f4304ac11dbb6": {
          "model_module": "@jupyter-widgets/base",
          "model_name": "LayoutModel",
          "model_module_version": "1.2.0",
          "state": {
            "_model_module": "@jupyter-widgets/base",
            "_model_module_version": "1.2.0",
            "_model_name": "LayoutModel",
            "_view_count": null,
            "_view_module": "@jupyter-widgets/base",
            "_view_module_version": "1.2.0",
            "_view_name": "LayoutView",
            "align_content": null,
            "align_items": null,
            "align_self": null,
            "border": null,
            "bottom": null,
            "display": null,
            "flex": null,
            "flex_flow": null,
            "grid_area": null,
            "grid_auto_columns": null,
            "grid_auto_flow": null,
            "grid_auto_rows": null,
            "grid_column": null,
            "grid_gap": null,
            "grid_row": null,
            "grid_template_areas": null,
            "grid_template_columns": null,
            "grid_template_rows": null,
            "height": null,
            "justify_content": null,
            "justify_items": null,
            "left": null,
            "margin": null,
            "max_height": null,
            "max_width": null,
            "min_height": null,
            "min_width": null,
            "object_fit": null,
            "object_position": null,
            "order": null,
            "overflow": null,
            "overflow_x": null,
            "overflow_y": null,
            "padding": null,
            "right": null,
            "top": null,
            "visibility": null,
            "width": null
          }
        },
        "54f55f644bec4c8888c42390617c2a57": {
          "model_module": "@jupyter-widgets/base",
          "model_name": "LayoutModel",
          "model_module_version": "1.2.0",
          "state": {
            "_model_module": "@jupyter-widgets/base",
            "_model_module_version": "1.2.0",
            "_model_name": "LayoutModel",
            "_view_count": null,
            "_view_module": "@jupyter-widgets/base",
            "_view_module_version": "1.2.0",
            "_view_name": "LayoutView",
            "align_content": null,
            "align_items": null,
            "align_self": null,
            "border": null,
            "bottom": null,
            "display": null,
            "flex": null,
            "flex_flow": null,
            "grid_area": null,
            "grid_auto_columns": null,
            "grid_auto_flow": null,
            "grid_auto_rows": null,
            "grid_column": null,
            "grid_gap": null,
            "grid_row": null,
            "grid_template_areas": null,
            "grid_template_columns": null,
            "grid_template_rows": null,
            "height": null,
            "justify_content": null,
            "justify_items": null,
            "left": null,
            "margin": null,
            "max_height": null,
            "max_width": null,
            "min_height": null,
            "min_width": null,
            "object_fit": null,
            "object_position": null,
            "order": null,
            "overflow": null,
            "overflow_x": null,
            "overflow_y": null,
            "padding": null,
            "right": null,
            "top": null,
            "visibility": null,
            "width": null
          }
        },
        "a2988c508bc4406081ec2b2dcfb33f53": {
          "model_module": "@jupyter-widgets/controls",
          "model_name": "DescriptionStyleModel",
          "model_module_version": "1.5.0",
          "state": {
            "_model_module": "@jupyter-widgets/controls",
            "_model_module_version": "1.5.0",
            "_model_name": "DescriptionStyleModel",
            "_view_count": null,
            "_view_module": "@jupyter-widgets/base",
            "_view_module_version": "1.2.0",
            "_view_name": "StyleView",
            "description_width": ""
          }
        },
        "0ed22630dfd442bd81d816c6b468b0f7": {
          "model_module": "@jupyter-widgets/base",
          "model_name": "LayoutModel",
          "model_module_version": "1.2.0",
          "state": {
            "_model_module": "@jupyter-widgets/base",
            "_model_module_version": "1.2.0",
            "_model_name": "LayoutModel",
            "_view_count": null,
            "_view_module": "@jupyter-widgets/base",
            "_view_module_version": "1.2.0",
            "_view_name": "LayoutView",
            "align_content": null,
            "align_items": null,
            "align_self": null,
            "border": null,
            "bottom": null,
            "display": null,
            "flex": null,
            "flex_flow": null,
            "grid_area": null,
            "grid_auto_columns": null,
            "grid_auto_flow": null,
            "grid_auto_rows": null,
            "grid_column": null,
            "grid_gap": null,
            "grid_row": null,
            "grid_template_areas": null,
            "grid_template_columns": null,
            "grid_template_rows": null,
            "height": null,
            "justify_content": null,
            "justify_items": null,
            "left": null,
            "margin": null,
            "max_height": null,
            "max_width": null,
            "min_height": null,
            "min_width": null,
            "object_fit": null,
            "object_position": null,
            "order": null,
            "overflow": null,
            "overflow_x": null,
            "overflow_y": null,
            "padding": null,
            "right": null,
            "top": null,
            "visibility": null,
            "width": null
          }
        },
        "0f3d39d1c89745dda4b6944ef1bbba08": {
          "model_module": "@jupyter-widgets/controls",
          "model_name": "ProgressStyleModel",
          "model_module_version": "1.5.0",
          "state": {
            "_model_module": "@jupyter-widgets/controls",
            "_model_module_version": "1.5.0",
            "_model_name": "ProgressStyleModel",
            "_view_count": null,
            "_view_module": "@jupyter-widgets/base",
            "_view_module_version": "1.2.0",
            "_view_name": "StyleView",
            "bar_color": null,
            "description_width": ""
          }
        },
        "686c66e4b3414cbba7a4e3a02d49525c": {
          "model_module": "@jupyter-widgets/base",
          "model_name": "LayoutModel",
          "model_module_version": "1.2.0",
          "state": {
            "_model_module": "@jupyter-widgets/base",
            "_model_module_version": "1.2.0",
            "_model_name": "LayoutModel",
            "_view_count": null,
            "_view_module": "@jupyter-widgets/base",
            "_view_module_version": "1.2.0",
            "_view_name": "LayoutView",
            "align_content": null,
            "align_items": null,
            "align_self": null,
            "border": null,
            "bottom": null,
            "display": null,
            "flex": null,
            "flex_flow": null,
            "grid_area": null,
            "grid_auto_columns": null,
            "grid_auto_flow": null,
            "grid_auto_rows": null,
            "grid_column": null,
            "grid_gap": null,
            "grid_row": null,
            "grid_template_areas": null,
            "grid_template_columns": null,
            "grid_template_rows": null,
            "height": null,
            "justify_content": null,
            "justify_items": null,
            "left": null,
            "margin": null,
            "max_height": null,
            "max_width": null,
            "min_height": null,
            "min_width": null,
            "object_fit": null,
            "object_position": null,
            "order": null,
            "overflow": null,
            "overflow_x": null,
            "overflow_y": null,
            "padding": null,
            "right": null,
            "top": null,
            "visibility": null,
            "width": null
          }
        },
        "40fbfe97194847a9bc5b4eabd3f21377": {
          "model_module": "@jupyter-widgets/controls",
          "model_name": "DescriptionStyleModel",
          "model_module_version": "1.5.0",
          "state": {
            "_model_module": "@jupyter-widgets/controls",
            "_model_module_version": "1.5.0",
            "_model_name": "DescriptionStyleModel",
            "_view_count": null,
            "_view_module": "@jupyter-widgets/base",
            "_view_module_version": "1.2.0",
            "_view_name": "StyleView",
            "description_width": ""
          }
        },
        "7185c8f7edc64fd9901b21e0b0318f49": {
          "model_module": "@jupyter-widgets/controls",
          "model_name": "HBoxModel",
          "model_module_version": "1.5.0",
          "state": {
            "_dom_classes": [],
            "_model_module": "@jupyter-widgets/controls",
            "_model_module_version": "1.5.0",
            "_model_name": "HBoxModel",
            "_view_count": null,
            "_view_module": "@jupyter-widgets/controls",
            "_view_module_version": "1.5.0",
            "_view_name": "HBoxView",
            "box_style": "",
            "children": [
              "IPY_MODEL_6c4cf62fbc0b4c2ab851c4f0ea4199bb",
              "IPY_MODEL_e1c18f2a183443aaad10406439a3f929",
              "IPY_MODEL_b86f12ec1bcc4c77b82fa2cc8b03bbbd"
            ],
            "layout": "IPY_MODEL_ae61fb5c621042a3b0721b38a352bfa9"
          }
        },
        "6c4cf62fbc0b4c2ab851c4f0ea4199bb": {
          "model_module": "@jupyter-widgets/controls",
          "model_name": "HTMLModel",
          "model_module_version": "1.5.0",
          "state": {
            "_dom_classes": [],
            "_model_module": "@jupyter-widgets/controls",
            "_model_module_version": "1.5.0",
            "_model_name": "HTMLModel",
            "_view_count": null,
            "_view_module": "@jupyter-widgets/controls",
            "_view_module_version": "1.5.0",
            "_view_name": "HTMLView",
            "description": "",
            "description_tooltip": null,
            "layout": "IPY_MODEL_197ebe3c9cb34159862dc14195ec0258",
            "placeholder": "​",
            "style": "IPY_MODEL_1265c76ad3e04cedbac5f141b966e1e3",
            "value": "Downloading data: 100%"
          }
        },
        "e1c18f2a183443aaad10406439a3f929": {
          "model_module": "@jupyter-widgets/controls",
          "model_name": "FloatProgressModel",
          "model_module_version": "1.5.0",
          "state": {
            "_dom_classes": [],
            "_model_module": "@jupyter-widgets/controls",
            "_model_module_version": "1.5.0",
            "_model_name": "FloatProgressModel",
            "_view_count": null,
            "_view_module": "@jupyter-widgets/controls",
            "_view_module_version": "1.5.0",
            "_view_name": "ProgressView",
            "bar_style": "success",
            "description": "",
            "description_tooltip": null,
            "layout": "IPY_MODEL_9174f392e2564febbdc9db03dacd5195",
            "max": 396707,
            "min": 0,
            "orientation": "horizontal",
            "style": "IPY_MODEL_ee2ddaffe9ab42dca64a238700f671d3",
            "value": 396707
          }
        },
        "b86f12ec1bcc4c77b82fa2cc8b03bbbd": {
          "model_module": "@jupyter-widgets/controls",
          "model_name": "HTMLModel",
          "model_module_version": "1.5.0",
          "state": {
            "_dom_classes": [],
            "_model_module": "@jupyter-widgets/controls",
            "_model_module_version": "1.5.0",
            "_model_name": "HTMLModel",
            "_view_count": null,
            "_view_module": "@jupyter-widgets/controls",
            "_view_module_version": "1.5.0",
            "_view_name": "HTMLView",
            "description": "",
            "description_tooltip": null,
            "layout": "IPY_MODEL_1ae709c653754a759ee9290b488a6470",
            "placeholder": "​",
            "style": "IPY_MODEL_b555c5e2e5f5416f9ec788a1dbcdddf2",
            "value": " 397k/397k [00:00&lt;00:00, 826kB/s]"
          }
        },
        "ae61fb5c621042a3b0721b38a352bfa9": {
          "model_module": "@jupyter-widgets/base",
          "model_name": "LayoutModel",
          "model_module_version": "1.2.0",
          "state": {
            "_model_module": "@jupyter-widgets/base",
            "_model_module_version": "1.2.0",
            "_model_name": "LayoutModel",
            "_view_count": null,
            "_view_module": "@jupyter-widgets/base",
            "_view_module_version": "1.2.0",
            "_view_name": "LayoutView",
            "align_content": null,
            "align_items": null,
            "align_self": null,
            "border": null,
            "bottom": null,
            "display": null,
            "flex": null,
            "flex_flow": null,
            "grid_area": null,
            "grid_auto_columns": null,
            "grid_auto_flow": null,
            "grid_auto_rows": null,
            "grid_column": null,
            "grid_gap": null,
            "grid_row": null,
            "grid_template_areas": null,
            "grid_template_columns": null,
            "grid_template_rows": null,
            "height": null,
            "justify_content": null,
            "justify_items": null,
            "left": null,
            "margin": null,
            "max_height": null,
            "max_width": null,
            "min_height": null,
            "min_width": null,
            "object_fit": null,
            "object_position": null,
            "order": null,
            "overflow": null,
            "overflow_x": null,
            "overflow_y": null,
            "padding": null,
            "right": null,
            "top": null,
            "visibility": null,
            "width": null
          }
        },
        "197ebe3c9cb34159862dc14195ec0258": {
          "model_module": "@jupyter-widgets/base",
          "model_name": "LayoutModel",
          "model_module_version": "1.2.0",
          "state": {
            "_model_module": "@jupyter-widgets/base",
            "_model_module_version": "1.2.0",
            "_model_name": "LayoutModel",
            "_view_count": null,
            "_view_module": "@jupyter-widgets/base",
            "_view_module_version": "1.2.0",
            "_view_name": "LayoutView",
            "align_content": null,
            "align_items": null,
            "align_self": null,
            "border": null,
            "bottom": null,
            "display": null,
            "flex": null,
            "flex_flow": null,
            "grid_area": null,
            "grid_auto_columns": null,
            "grid_auto_flow": null,
            "grid_auto_rows": null,
            "grid_column": null,
            "grid_gap": null,
            "grid_row": null,
            "grid_template_areas": null,
            "grid_template_columns": null,
            "grid_template_rows": null,
            "height": null,
            "justify_content": null,
            "justify_items": null,
            "left": null,
            "margin": null,
            "max_height": null,
            "max_width": null,
            "min_height": null,
            "min_width": null,
            "object_fit": null,
            "object_position": null,
            "order": null,
            "overflow": null,
            "overflow_x": null,
            "overflow_y": null,
            "padding": null,
            "right": null,
            "top": null,
            "visibility": null,
            "width": null
          }
        },
        "1265c76ad3e04cedbac5f141b966e1e3": {
          "model_module": "@jupyter-widgets/controls",
          "model_name": "DescriptionStyleModel",
          "model_module_version": "1.5.0",
          "state": {
            "_model_module": "@jupyter-widgets/controls",
            "_model_module_version": "1.5.0",
            "_model_name": "DescriptionStyleModel",
            "_view_count": null,
            "_view_module": "@jupyter-widgets/base",
            "_view_module_version": "1.2.0",
            "_view_name": "StyleView",
            "description_width": ""
          }
        },
        "9174f392e2564febbdc9db03dacd5195": {
          "model_module": "@jupyter-widgets/base",
          "model_name": "LayoutModel",
          "model_module_version": "1.2.0",
          "state": {
            "_model_module": "@jupyter-widgets/base",
            "_model_module_version": "1.2.0",
            "_model_name": "LayoutModel",
            "_view_count": null,
            "_view_module": "@jupyter-widgets/base",
            "_view_module_version": "1.2.0",
            "_view_name": "LayoutView",
            "align_content": null,
            "align_items": null,
            "align_self": null,
            "border": null,
            "bottom": null,
            "display": null,
            "flex": null,
            "flex_flow": null,
            "grid_area": null,
            "grid_auto_columns": null,
            "grid_auto_flow": null,
            "grid_auto_rows": null,
            "grid_column": null,
            "grid_gap": null,
            "grid_row": null,
            "grid_template_areas": null,
            "grid_template_columns": null,
            "grid_template_rows": null,
            "height": null,
            "justify_content": null,
            "justify_items": null,
            "left": null,
            "margin": null,
            "max_height": null,
            "max_width": null,
            "min_height": null,
            "min_width": null,
            "object_fit": null,
            "object_position": null,
            "order": null,
            "overflow": null,
            "overflow_x": null,
            "overflow_y": null,
            "padding": null,
            "right": null,
            "top": null,
            "visibility": null,
            "width": null
          }
        },
        "ee2ddaffe9ab42dca64a238700f671d3": {
          "model_module": "@jupyter-widgets/controls",
          "model_name": "ProgressStyleModel",
          "model_module_version": "1.5.0",
          "state": {
            "_model_module": "@jupyter-widgets/controls",
            "_model_module_version": "1.5.0",
            "_model_name": "ProgressStyleModel",
            "_view_count": null,
            "_view_module": "@jupyter-widgets/base",
            "_view_module_version": "1.2.0",
            "_view_name": "StyleView",
            "bar_color": null,
            "description_width": ""
          }
        },
        "1ae709c653754a759ee9290b488a6470": {
          "model_module": "@jupyter-widgets/base",
          "model_name": "LayoutModel",
          "model_module_version": "1.2.0",
          "state": {
            "_model_module": "@jupyter-widgets/base",
            "_model_module_version": "1.2.0",
            "_model_name": "LayoutModel",
            "_view_count": null,
            "_view_module": "@jupyter-widgets/base",
            "_view_module_version": "1.2.0",
            "_view_name": "LayoutView",
            "align_content": null,
            "align_items": null,
            "align_self": null,
            "border": null,
            "bottom": null,
            "display": null,
            "flex": null,
            "flex_flow": null,
            "grid_area": null,
            "grid_auto_columns": null,
            "grid_auto_flow": null,
            "grid_auto_rows": null,
            "grid_column": null,
            "grid_gap": null,
            "grid_row": null,
            "grid_template_areas": null,
            "grid_template_columns": null,
            "grid_template_rows": null,
            "height": null,
            "justify_content": null,
            "justify_items": null,
            "left": null,
            "margin": null,
            "max_height": null,
            "max_width": null,
            "min_height": null,
            "min_width": null,
            "object_fit": null,
            "object_position": null,
            "order": null,
            "overflow": null,
            "overflow_x": null,
            "overflow_y": null,
            "padding": null,
            "right": null,
            "top": null,
            "visibility": null,
            "width": null
          }
        },
        "b555c5e2e5f5416f9ec788a1dbcdddf2": {
          "model_module": "@jupyter-widgets/controls",
          "model_name": "DescriptionStyleModel",
          "model_module_version": "1.5.0",
          "state": {
            "_model_module": "@jupyter-widgets/controls",
            "_model_module_version": "1.5.0",
            "_model_name": "DescriptionStyleModel",
            "_view_count": null,
            "_view_module": "@jupyter-widgets/base",
            "_view_module_version": "1.2.0",
            "_view_name": "StyleView",
            "description_width": ""
          }
        },
        "4a0975a43b554bf7afbb493dc6f11cc4": {
          "model_module": "@jupyter-widgets/controls",
          "model_name": "HBoxModel",
          "model_module_version": "1.5.0",
          "state": {
            "_dom_classes": [],
            "_model_module": "@jupyter-widgets/controls",
            "_model_module_version": "1.5.0",
            "_model_name": "HBoxModel",
            "_view_count": null,
            "_view_module": "@jupyter-widgets/controls",
            "_view_module_version": "1.5.0",
            "_view_name": "HBoxView",
            "box_style": "",
            "children": [
              "IPY_MODEL_e3a4821c665b4115b9cee40a3b27ef6f",
              "IPY_MODEL_06fc57f00e884eab817de9046eb526ed",
              "IPY_MODEL_dc17e8d3d48e46a4842ed33236a79bc7"
            ],
            "layout": "IPY_MODEL_582f69f771104b8cad2867371feb1a08"
          }
        },
        "e3a4821c665b4115b9cee40a3b27ef6f": {
          "model_module": "@jupyter-widgets/controls",
          "model_name": "HTMLModel",
          "model_module_version": "1.5.0",
          "state": {
            "_dom_classes": [],
            "_model_module": "@jupyter-widgets/controls",
            "_model_module_version": "1.5.0",
            "_model_name": "HTMLModel",
            "_view_count": null,
            "_view_module": "@jupyter-widgets/controls",
            "_view_module_version": "1.5.0",
            "_view_name": "HTMLView",
            "description": "",
            "description_tooltip": null,
            "layout": "IPY_MODEL_9e07d1e2f9ec4766bd34126ef86f35f8",
            "placeholder": "​",
            "style": "IPY_MODEL_4ace85dd429e48fe83ae109e710eeece",
            "value": "Generating train split: 100%"
          }
        },
        "06fc57f00e884eab817de9046eb526ed": {
          "model_module": "@jupyter-widgets/controls",
          "model_name": "FloatProgressModel",
          "model_module_version": "1.5.0",
          "state": {
            "_dom_classes": [],
            "_model_module": "@jupyter-widgets/controls",
            "_model_module_version": "1.5.0",
            "_model_name": "FloatProgressModel",
            "_view_count": null,
            "_view_module": "@jupyter-widgets/controls",
            "_view_module_version": "1.5.0",
            "_view_name": "ProgressView",
            "bar_style": "success",
            "description": "",
            "description_tooltip": null,
            "layout": "IPY_MODEL_5a4f2158d09049a78a355ff8b2d7a9c6",
            "max": 33395,
            "min": 0,
            "orientation": "horizontal",
            "style": "IPY_MODEL_1238e8f15a964577ab1b1c6a90df829a",
            "value": 33395
          }
        },
        "dc17e8d3d48e46a4842ed33236a79bc7": {
          "model_module": "@jupyter-widgets/controls",
          "model_name": "HTMLModel",
          "model_module_version": "1.5.0",
          "state": {
            "_dom_classes": [],
            "_model_module": "@jupyter-widgets/controls",
            "_model_module_version": "1.5.0",
            "_model_name": "HTMLModel",
            "_view_count": null,
            "_view_module": "@jupyter-widgets/controls",
            "_view_module_version": "1.5.0",
            "_view_name": "HTMLView",
            "description": "",
            "description_tooltip": null,
            "layout": "IPY_MODEL_231ae48ad7854ee4b26df5eef89e9f4a",
            "placeholder": "​",
            "style": "IPY_MODEL_5b566c9256c44099a1ac8fc490bd9e59",
            "value": " 33395/33395 [00:00&lt;00:00, 499942.11 examples/s]"
          }
        },
        "582f69f771104b8cad2867371feb1a08": {
          "model_module": "@jupyter-widgets/base",
          "model_name": "LayoutModel",
          "model_module_version": "1.2.0",
          "state": {
            "_model_module": "@jupyter-widgets/base",
            "_model_module_version": "1.2.0",
            "_model_name": "LayoutModel",
            "_view_count": null,
            "_view_module": "@jupyter-widgets/base",
            "_view_module_version": "1.2.0",
            "_view_name": "LayoutView",
            "align_content": null,
            "align_items": null,
            "align_self": null,
            "border": null,
            "bottom": null,
            "display": null,
            "flex": null,
            "flex_flow": null,
            "grid_area": null,
            "grid_auto_columns": null,
            "grid_auto_flow": null,
            "grid_auto_rows": null,
            "grid_column": null,
            "grid_gap": null,
            "grid_row": null,
            "grid_template_areas": null,
            "grid_template_columns": null,
            "grid_template_rows": null,
            "height": null,
            "justify_content": null,
            "justify_items": null,
            "left": null,
            "margin": null,
            "max_height": null,
            "max_width": null,
            "min_height": null,
            "min_width": null,
            "object_fit": null,
            "object_position": null,
            "order": null,
            "overflow": null,
            "overflow_x": null,
            "overflow_y": null,
            "padding": null,
            "right": null,
            "top": null,
            "visibility": null,
            "width": null
          }
        },
        "9e07d1e2f9ec4766bd34126ef86f35f8": {
          "model_module": "@jupyter-widgets/base",
          "model_name": "LayoutModel",
          "model_module_version": "1.2.0",
          "state": {
            "_model_module": "@jupyter-widgets/base",
            "_model_module_version": "1.2.0",
            "_model_name": "LayoutModel",
            "_view_count": null,
            "_view_module": "@jupyter-widgets/base",
            "_view_module_version": "1.2.0",
            "_view_name": "LayoutView",
            "align_content": null,
            "align_items": null,
            "align_self": null,
            "border": null,
            "bottom": null,
            "display": null,
            "flex": null,
            "flex_flow": null,
            "grid_area": null,
            "grid_auto_columns": null,
            "grid_auto_flow": null,
            "grid_auto_rows": null,
            "grid_column": null,
            "grid_gap": null,
            "grid_row": null,
            "grid_template_areas": null,
            "grid_template_columns": null,
            "grid_template_rows": null,
            "height": null,
            "justify_content": null,
            "justify_items": null,
            "left": null,
            "margin": null,
            "max_height": null,
            "max_width": null,
            "min_height": null,
            "min_width": null,
            "object_fit": null,
            "object_position": null,
            "order": null,
            "overflow": null,
            "overflow_x": null,
            "overflow_y": null,
            "padding": null,
            "right": null,
            "top": null,
            "visibility": null,
            "width": null
          }
        },
        "4ace85dd429e48fe83ae109e710eeece": {
          "model_module": "@jupyter-widgets/controls",
          "model_name": "DescriptionStyleModel",
          "model_module_version": "1.5.0",
          "state": {
            "_model_module": "@jupyter-widgets/controls",
            "_model_module_version": "1.5.0",
            "_model_name": "DescriptionStyleModel",
            "_view_count": null,
            "_view_module": "@jupyter-widgets/base",
            "_view_module_version": "1.2.0",
            "_view_name": "StyleView",
            "description_width": ""
          }
        },
        "5a4f2158d09049a78a355ff8b2d7a9c6": {
          "model_module": "@jupyter-widgets/base",
          "model_name": "LayoutModel",
          "model_module_version": "1.2.0",
          "state": {
            "_model_module": "@jupyter-widgets/base",
            "_model_module_version": "1.2.0",
            "_model_name": "LayoutModel",
            "_view_count": null,
            "_view_module": "@jupyter-widgets/base",
            "_view_module_version": "1.2.0",
            "_view_name": "LayoutView",
            "align_content": null,
            "align_items": null,
            "align_self": null,
            "border": null,
            "bottom": null,
            "display": null,
            "flex": null,
            "flex_flow": null,
            "grid_area": null,
            "grid_auto_columns": null,
            "grid_auto_flow": null,
            "grid_auto_rows": null,
            "grid_column": null,
            "grid_gap": null,
            "grid_row": null,
            "grid_template_areas": null,
            "grid_template_columns": null,
            "grid_template_rows": null,
            "height": null,
            "justify_content": null,
            "justify_items": null,
            "left": null,
            "margin": null,
            "max_height": null,
            "max_width": null,
            "min_height": null,
            "min_width": null,
            "object_fit": null,
            "object_position": null,
            "order": null,
            "overflow": null,
            "overflow_x": null,
            "overflow_y": null,
            "padding": null,
            "right": null,
            "top": null,
            "visibility": null,
            "width": null
          }
        },
        "1238e8f15a964577ab1b1c6a90df829a": {
          "model_module": "@jupyter-widgets/controls",
          "model_name": "ProgressStyleModel",
          "model_module_version": "1.5.0",
          "state": {
            "_model_module": "@jupyter-widgets/controls",
            "_model_module_version": "1.5.0",
            "_model_name": "ProgressStyleModel",
            "_view_count": null,
            "_view_module": "@jupyter-widgets/base",
            "_view_module_version": "1.2.0",
            "_view_name": "StyleView",
            "bar_color": null,
            "description_width": ""
          }
        },
        "231ae48ad7854ee4b26df5eef89e9f4a": {
          "model_module": "@jupyter-widgets/base",
          "model_name": "LayoutModel",
          "model_module_version": "1.2.0",
          "state": {
            "_model_module": "@jupyter-widgets/base",
            "_model_module_version": "1.2.0",
            "_model_name": "LayoutModel",
            "_view_count": null,
            "_view_module": "@jupyter-widgets/base",
            "_view_module_version": "1.2.0",
            "_view_name": "LayoutView",
            "align_content": null,
            "align_items": null,
            "align_self": null,
            "border": null,
            "bottom": null,
            "display": null,
            "flex": null,
            "flex_flow": null,
            "grid_area": null,
            "grid_auto_columns": null,
            "grid_auto_flow": null,
            "grid_auto_rows": null,
            "grid_column": null,
            "grid_gap": null,
            "grid_row": null,
            "grid_template_areas": null,
            "grid_template_columns": null,
            "grid_template_rows": null,
            "height": null,
            "justify_content": null,
            "justify_items": null,
            "left": null,
            "margin": null,
            "max_height": null,
            "max_width": null,
            "min_height": null,
            "min_width": null,
            "object_fit": null,
            "object_position": null,
            "order": null,
            "overflow": null,
            "overflow_x": null,
            "overflow_y": null,
            "padding": null,
            "right": null,
            "top": null,
            "visibility": null,
            "width": null
          }
        },
        "5b566c9256c44099a1ac8fc490bd9e59": {
          "model_module": "@jupyter-widgets/controls",
          "model_name": "DescriptionStyleModel",
          "model_module_version": "1.5.0",
          "state": {
            "_model_module": "@jupyter-widgets/controls",
            "_model_module_version": "1.5.0",
            "_model_name": "DescriptionStyleModel",
            "_view_count": null,
            "_view_module": "@jupyter-widgets/base",
            "_view_module_version": "1.2.0",
            "_view_name": "StyleView",
            "description_width": ""
          }
        },
        "828a7b321422436bb1eca224653d47cf": {
          "model_module": "@jupyter-widgets/controls",
          "model_name": "HBoxModel",
          "model_module_version": "1.5.0",
          "state": {
            "_dom_classes": [],
            "_model_module": "@jupyter-widgets/controls",
            "_model_module_version": "1.5.0",
            "_model_name": "HBoxModel",
            "_view_count": null,
            "_view_module": "@jupyter-widgets/controls",
            "_view_module_version": "1.5.0",
            "_view_name": "HBoxView",
            "box_style": "",
            "children": [
              "IPY_MODEL_6ccbfeaf640c4b3891d998b13456e62e",
              "IPY_MODEL_fe936a62c94043ce9fa9067681bdacb6",
              "IPY_MODEL_524d4aa21d294e53bc45f248ba69fbfe"
            ],
            "layout": "IPY_MODEL_ac814aeae3c848d8adae0f0e200c0e0e"
          }
        },
        "6ccbfeaf640c4b3891d998b13456e62e": {
          "model_module": "@jupyter-widgets/controls",
          "model_name": "HTMLModel",
          "model_module_version": "1.5.0",
          "state": {
            "_dom_classes": [],
            "_model_module": "@jupyter-widgets/controls",
            "_model_module_version": "1.5.0",
            "_model_name": "HTMLModel",
            "_view_count": null,
            "_view_module": "@jupyter-widgets/controls",
            "_view_module_version": "1.5.0",
            "_view_name": "HTMLView",
            "description": "",
            "description_tooltip": null,
            "layout": "IPY_MODEL_3cb8d4edf8844fdf8a8cef0c0fdf4e8a",
            "placeholder": "​",
            "style": "IPY_MODEL_8f02b0b9930244a7a0c45ae986ab85bc",
            "value": "Generating test split: 100%"
          }
        },
        "fe936a62c94043ce9fa9067681bdacb6": {
          "model_module": "@jupyter-widgets/controls",
          "model_name": "FloatProgressModel",
          "model_module_version": "1.5.0",
          "state": {
            "_dom_classes": [],
            "_model_module": "@jupyter-widgets/controls",
            "_model_module_version": "1.5.0",
            "_model_name": "FloatProgressModel",
            "_view_count": null,
            "_view_module": "@jupyter-widgets/controls",
            "_view_module_version": "1.5.0",
            "_view_name": "ProgressView",
            "bar_style": "success",
            "description": "",
            "description_tooltip": null,
            "layout": "IPY_MODEL_4b99409a87c4494e9ebe72d0f434f22a",
            "max": 8349,
            "min": 0,
            "orientation": "horizontal",
            "style": "IPY_MODEL_00d38cdd57ce4d32810af0ce38d57f3f",
            "value": 8349
          }
        },
        "524d4aa21d294e53bc45f248ba69fbfe": {
          "model_module": "@jupyter-widgets/controls",
          "model_name": "HTMLModel",
          "model_module_version": "1.5.0",
          "state": {
            "_dom_classes": [],
            "_model_module": "@jupyter-widgets/controls",
            "_model_module_version": "1.5.0",
            "_model_name": "HTMLModel",
            "_view_count": null,
            "_view_module": "@jupyter-widgets/controls",
            "_view_module_version": "1.5.0",
            "_view_name": "HTMLView",
            "description": "",
            "description_tooltip": null,
            "layout": "IPY_MODEL_a78a77702a9f40238041986f1b649834",
            "placeholder": "​",
            "style": "IPY_MODEL_00ed917f074d444aa6de48920c06e8d0",
            "value": " 8349/8349 [00:00&lt;00:00, 206939.16 examples/s]"
          }
        },
        "ac814aeae3c848d8adae0f0e200c0e0e": {
          "model_module": "@jupyter-widgets/base",
          "model_name": "LayoutModel",
          "model_module_version": "1.2.0",
          "state": {
            "_model_module": "@jupyter-widgets/base",
            "_model_module_version": "1.2.0",
            "_model_name": "LayoutModel",
            "_view_count": null,
            "_view_module": "@jupyter-widgets/base",
            "_view_module_version": "1.2.0",
            "_view_name": "LayoutView",
            "align_content": null,
            "align_items": null,
            "align_self": null,
            "border": null,
            "bottom": null,
            "display": null,
            "flex": null,
            "flex_flow": null,
            "grid_area": null,
            "grid_auto_columns": null,
            "grid_auto_flow": null,
            "grid_auto_rows": null,
            "grid_column": null,
            "grid_gap": null,
            "grid_row": null,
            "grid_template_areas": null,
            "grid_template_columns": null,
            "grid_template_rows": null,
            "height": null,
            "justify_content": null,
            "justify_items": null,
            "left": null,
            "margin": null,
            "max_height": null,
            "max_width": null,
            "min_height": null,
            "min_width": null,
            "object_fit": null,
            "object_position": null,
            "order": null,
            "overflow": null,
            "overflow_x": null,
            "overflow_y": null,
            "padding": null,
            "right": null,
            "top": null,
            "visibility": null,
            "width": null
          }
        },
        "3cb8d4edf8844fdf8a8cef0c0fdf4e8a": {
          "model_module": "@jupyter-widgets/base",
          "model_name": "LayoutModel",
          "model_module_version": "1.2.0",
          "state": {
            "_model_module": "@jupyter-widgets/base",
            "_model_module_version": "1.2.0",
            "_model_name": "LayoutModel",
            "_view_count": null,
            "_view_module": "@jupyter-widgets/base",
            "_view_module_version": "1.2.0",
            "_view_name": "LayoutView",
            "align_content": null,
            "align_items": null,
            "align_self": null,
            "border": null,
            "bottom": null,
            "display": null,
            "flex": null,
            "flex_flow": null,
            "grid_area": null,
            "grid_auto_columns": null,
            "grid_auto_flow": null,
            "grid_auto_rows": null,
            "grid_column": null,
            "grid_gap": null,
            "grid_row": null,
            "grid_template_areas": null,
            "grid_template_columns": null,
            "grid_template_rows": null,
            "height": null,
            "justify_content": null,
            "justify_items": null,
            "left": null,
            "margin": null,
            "max_height": null,
            "max_width": null,
            "min_height": null,
            "min_width": null,
            "object_fit": null,
            "object_position": null,
            "order": null,
            "overflow": null,
            "overflow_x": null,
            "overflow_y": null,
            "padding": null,
            "right": null,
            "top": null,
            "visibility": null,
            "width": null
          }
        },
        "8f02b0b9930244a7a0c45ae986ab85bc": {
          "model_module": "@jupyter-widgets/controls",
          "model_name": "DescriptionStyleModel",
          "model_module_version": "1.5.0",
          "state": {
            "_model_module": "@jupyter-widgets/controls",
            "_model_module_version": "1.5.0",
            "_model_name": "DescriptionStyleModel",
            "_view_count": null,
            "_view_module": "@jupyter-widgets/base",
            "_view_module_version": "1.2.0",
            "_view_name": "StyleView",
            "description_width": ""
          }
        },
        "4b99409a87c4494e9ebe72d0f434f22a": {
          "model_module": "@jupyter-widgets/base",
          "model_name": "LayoutModel",
          "model_module_version": "1.2.0",
          "state": {
            "_model_module": "@jupyter-widgets/base",
            "_model_module_version": "1.2.0",
            "_model_name": "LayoutModel",
            "_view_count": null,
            "_view_module": "@jupyter-widgets/base",
            "_view_module_version": "1.2.0",
            "_view_name": "LayoutView",
            "align_content": null,
            "align_items": null,
            "align_self": null,
            "border": null,
            "bottom": null,
            "display": null,
            "flex": null,
            "flex_flow": null,
            "grid_area": null,
            "grid_auto_columns": null,
            "grid_auto_flow": null,
            "grid_auto_rows": null,
            "grid_column": null,
            "grid_gap": null,
            "grid_row": null,
            "grid_template_areas": null,
            "grid_template_columns": null,
            "grid_template_rows": null,
            "height": null,
            "justify_content": null,
            "justify_items": null,
            "left": null,
            "margin": null,
            "max_height": null,
            "max_width": null,
            "min_height": null,
            "min_width": null,
            "object_fit": null,
            "object_position": null,
            "order": null,
            "overflow": null,
            "overflow_x": null,
            "overflow_y": null,
            "padding": null,
            "right": null,
            "top": null,
            "visibility": null,
            "width": null
          }
        },
        "00d38cdd57ce4d32810af0ce38d57f3f": {
          "model_module": "@jupyter-widgets/controls",
          "model_name": "ProgressStyleModel",
          "model_module_version": "1.5.0",
          "state": {
            "_model_module": "@jupyter-widgets/controls",
            "_model_module_version": "1.5.0",
            "_model_name": "ProgressStyleModel",
            "_view_count": null,
            "_view_module": "@jupyter-widgets/base",
            "_view_module_version": "1.2.0",
            "_view_name": "StyleView",
            "bar_color": null,
            "description_width": ""
          }
        },
        "a78a77702a9f40238041986f1b649834": {
          "model_module": "@jupyter-widgets/base",
          "model_name": "LayoutModel",
          "model_module_version": "1.2.0",
          "state": {
            "_model_module": "@jupyter-widgets/base",
            "_model_module_version": "1.2.0",
            "_model_name": "LayoutModel",
            "_view_count": null,
            "_view_module": "@jupyter-widgets/base",
            "_view_module_version": "1.2.0",
            "_view_name": "LayoutView",
            "align_content": null,
            "align_items": null,
            "align_self": null,
            "border": null,
            "bottom": null,
            "display": null,
            "flex": null,
            "flex_flow": null,
            "grid_area": null,
            "grid_auto_columns": null,
            "grid_auto_flow": null,
            "grid_auto_rows": null,
            "grid_column": null,
            "grid_gap": null,
            "grid_row": null,
            "grid_template_areas": null,
            "grid_template_columns": null,
            "grid_template_rows": null,
            "height": null,
            "justify_content": null,
            "justify_items": null,
            "left": null,
            "margin": null,
            "max_height": null,
            "max_width": null,
            "min_height": null,
            "min_width": null,
            "object_fit": null,
            "object_position": null,
            "order": null,
            "overflow": null,
            "overflow_x": null,
            "overflow_y": null,
            "padding": null,
            "right": null,
            "top": null,
            "visibility": null,
            "width": null
          }
        },
        "00ed917f074d444aa6de48920c06e8d0": {
          "model_module": "@jupyter-widgets/controls",
          "model_name": "DescriptionStyleModel",
          "model_module_version": "1.5.0",
          "state": {
            "_model_module": "@jupyter-widgets/controls",
            "_model_module_version": "1.5.0",
            "_model_name": "DescriptionStyleModel",
            "_view_count": null,
            "_view_module": "@jupyter-widgets/base",
            "_view_module_version": "1.2.0",
            "_view_name": "StyleView",
            "description_width": ""
          }
        }
      }
    }
  },
  "cells": [
    {
      "cell_type": "markdown",
      "metadata": {
        "id": "view-in-github",
        "colab_type": "text"
      },
      "source": [
        "<a href=\"https://colab.research.google.com/github/fabriciosantana/nlp/blob/main/AKCIT_NLP_M7_Colab_Unidade_4.ipynb\" target=\"_parent\"><img src=\"https://colab.research.google.com/assets/colab-badge.svg\" alt=\"Open In Colab\"/></a>"
      ]
    },
    {
      "cell_type": "markdown",
      "source": [
        "![Horizontal Preta.png](data:image/png;base64,iVBORw0KGgoAAAANSUhEUgAAA7kAAAFZCAYAAABdfOhrAAAAkmVYSWZNTQAqAAAACAAEAQAAAwAAAAEAAAAAAQEAAwAAAAEAAAAAh2kABAAAAAEAAAA+ARIAAwAAAAEAAQAAAAAAAAADoAIAAwAAAAEDuQAAoAMAAwAAAAEBWQAAkggAAwAAAAEAAAAAAAAAAAADAQAAAwAAAAEAAAAAAQEAAwAAAAEAAAAAARIAAwAAAAEAAQAAAAAAAKjpVrAAAAABc1JHQgCuzhzpAAAABHNCSVQICAgIfAhkiAAAIABJREFUeJzsvXmcHMV5//95qnpu7UpaCSSBAIGEMMJgsDCnwAt7GDBWvo69sn924gQbS45t8EEwcezYg+PYccDg4K9ji4SA/Y3jROsj4RKRAG2QQA5mw2EQl8QhIRAIXXvPTHc9vz+6Z6an59zd2VPP+/WSemuq6qmnqnum++mnnipAEARBEARBEARBEARBEARBEARBEARBEARBEARBEARBEARBEARBEARBEARBEARBEARBEARBEARBEARBEARBEARBEARBEARBEARBEARBEARBEARBEARBEARBEARBEARBEARBEARBEARBEARBEARBEARBEARBEARBEARBEARBEARBEARBEARBEARBEARBEARBEARBEARBEARBEARBEARBEARBEARBEARBEARBEARBEARBEARBEARBEARBEARBEARBEARBEARBEARBEARBEARBEARBEARBEARBEARBEARBEARBEARBEARBEARBEARBEARBEARBEARBEARBEARBEARBEARBEARBEARBEARBEARBEARBEARBEARBEARBEARBEARBEARBEARBEARBEARBEARBEARBEARBEARBEARBEARBEARBEARhkkITrYAwuVm2iWf0GyzVaTtuDwKWDRibFusUH0lpaGUDSAEzD9h73n/PCzuP2dOTtjOAFQJsABaAYHooo/ccccTMnau2nZKe0M4JgiAIgiAIgjDtECNXKMmC/xl6nwbN4X71ZgiWjX6bAGtPGtgZ13DsN71r51Vg0XHAa/+7na995JB5o7uX39vcjP/u6sL8BaHTmXmGVmo+GxyrFM92GCcpUscZwwtJIQxmENQThrmPFPoAPA9FQ2zb25Vl7c2kUs8f0dy8d1UnORM7IoIgCIIgCIIgTAXEyBVKsvwxDnXHQMsHwd294GYAXXs7GatW1WxsrsM6fUTzEfTfXXvVcYuOUAfsCEVSKe04MdXQGFEDmUNnWBRZzMZZSqzeyQrnEBBjMAjKYRgGKQdsmIDHmbGdNO0ywKOGsWPva6/tTGKVeIMFQRAEQRAEQcghRq4wYazrYL2ts1M3LlyoI6mUjidmWQOZ/jMU9OkAn0OK3seGZ4IAMDuklMNsDEA2A4ZAPYb5OVL8W2I8EU7w1vuef/3NTtRuiAuCIAiCIAiCML0QI1eYVKwD6z1L1luzeo+29sX2h8ImegEZvpCJLiFgKQPhbFkCmAEHgA2QA7AN4HUGP0pED4OwZW9i147kNvH2CoIgCIIgCMLhghi5wqQmiU3WsoWR0J6BgyE9a+ZJ7Kj/Q4yVhmgpAWEw3Ks4fzRQZMOwDQXbGH6elH4E7PzXzJnxhz7x1Lv6J7ZHgiAIgiAIgiCMJWLkClOGDqzTly16T6jXejOsHfVexzgfAdEHADSWq0OAwyAbxBliHGBCl2Lcayzce/X2c3rGUX1BEARBEARBEMYBMXKFKUkSm6wTTmuK7Dt08FhLx/7AMebTStFxzKxB7mXthvIy8mliA84QKEPg/Uzochy+1xKDVxAEQRAEQRCmDWLkClOaJJIKi94bnheePSflpD7GwB8B9A74YndL4cXzZkDIgGknk3mAbLotPkc9s6b7zMw4qS8IgiAIgiAIQp0RI1eYLtC9S14Mb8e+iAO60gCfU6SOY0ADyMfsZilIkwE4AyAF5sdIWXekaeA/rnt+Re+49kAQBEEQBEEQhFEjRq4w7bhlyYsRW/XPBWc+Zoj+HOAja65MsMFIMWinIvOTkBP59ebtz78h2xIJgiAIgiAIwtRAjFxhukK3N78ceW33nuNjKvxNJr6cgERhjG4wZteXdldpHjLG7Cel/pWM/ZPjTjtr56pOEmNXEARBEARBECYxYuQK05okWGFZVzxGMy9mw99VjJOYvCnMNUCu3ZsC6G0i/lcKWT959Knnd4pnVxAEQRAEQRAmJ2LkCocFq7E29I53nX1kyna+QaCPgtFYuL9u0KOL4P67DEKKgbdJ0b9m0umfnHTaqztXdYqxKwiCIAiCIAiTCTFyhcMIphtOeypu2/bHWdG1RDg+tzBVjeQ8u8SvGKYfW5GZP/2L7sWHxkpjQRAEQRAEQRCGhxi5wmHHLUtejPREe08lTT9gw2eBKARUidENphkGCkMwtJUs+m7mwP6Hk69cNDRBXRIEQRAEQRAEwUOMXOGwZF0H623bH5+nmW4EaCWAxAhF2QAGmOhfSakbnzrh2Vc6ZQqzIAiCIAiCIEwYYuQKhy3MTNef0pVAtOmbxHwlEc3KOWp9++j6Q3Yr5Keg6CWHzQ2JWPSX1z38DtljVxAEQRAEQRAmADFyhcOe5PLH4gTrzxzQdUR0xIgFMQwIgwB+Y9nWt5564umXZBVmQRAEQRAEQRhfxMgVBADJRZuiOPLIP3TYuQFERwHDjNEtTKcZ2GFZ6huvpwbvvbX7zIEJ6JIgCIIgCIIgHJaIkSsIHsllz4Sdmc6HHaNuIOCo0UkjA6AfMGuH7NT3vt995tt1UVIQBEEQBEEQhIqIkSsIPlxDV33YhnEN3Zr30S2TDwyB6GF2hq7+zqVnPEdJMuPdJ0EQBEEQBEE4nBAjVxACJJc9Ex6aTd8m8KcZNGv0EtkG6A0H+MwxjaEHrl5/Ymr0MgVBEARBEARBKIUYuYJQguTyx+KDicT1hs2V5Bm6AQ/tsNLMYEXU67BzvY7Gbvve/YsPjWd/BEEQBEEQBOFwQYxcQSjDn5/35JEIhf8JQBuAaJ3E9hvQz1TESt64YclbdZIpCIIgCIIgCIKHGLmCUAZmpqtWPL8gHMZ/AjiDAD2KfXT9n6eY0WnFI9fecO/xeyaib4IgCIIgCIIwXREjVxAqwGD6Uutz7wXTHQAdV0fRaWY8zkZf2dS8eFtSFqQSBEEQBEEQhLqgJloBQZjMEIhn2e/Y4ij+IWu11xBgFMEoAivCKNJh1upMEzK37X9kx7IkWL6LgiAIgiAIglAHxJMrCDXwpY5dMbtn6BcMvA/1i88FAIeBbm3Rp5reIx5dQRAEQRAEQRgtYuQKQo187vIX380OOgl0QnEMbvE+ubXmg+AY5u6wpk813bN4WxJi6AqCIAiCIAjCSJEpkoJQI2/FljxplP4HR+FtowmOIuSPKjctufDz6vlGkYZWy1Og23a9f8eyZFKmLguCIAiCIAjCSJGHaUGokc5Ocvbt3/MPRqknjUJmlDG5wbRmRctJ0W27f7/zZInRFQRBEARBEISRIdOVBWGYXPl/Xm4G4w4A9VxtOYvD4C4Dc8Xt/7lk1xjIFwRBEARBEIRpjXiLBGGYLDx90RaHaLPRNFB6avKojpotdSFr62/+tOPl+RPdV0EQBEEQBEGYaognVxBGwBV/+Mq7jaJOgE4YC/kEpMB8izH6ez/7zcJ9Y9GGIAiCIAiCIExHxJMrCCOgTx/3JCv1a4dwqE4xuQVpR1HE0erzrMwnPv7xfY0T3V9BEARBEARBmCqIJ1cQRkhHx/YlYR29F8CJY9YI0x7AfLLpyIUP/vCHlBqzdgRBEARhmpAEqxMXPHLMoG0fp1ifbNiZZYEWGvDRREQMzAZwcnHNEo/F3kfsS3Igu2zaq+vfF1CVTVNhmnIi+pjMjZ/ec+GPy/X3nxY+0oQM/8yA30OK02zod0xIs+FHldYvpzLmf656e8Xr5eoLwnTEmmgFphTMhOsROvVIJFJDg3GtY3HHzsQVKOEYxJWiuHGchGXpONsUNwoJZsS1RpwdxAlIMCgOIA6YBEjFwRyDojgMxzRDkTGkDUCOA20AMgaaAeUYN+0wFDO0Y6AYINuBZoAcA8s7ZtNufYZmBtkMywBk8uULyjkGmhnKYfdz28s3DpRx23fle/L8RwdQxnH1yZbL1vf0zdZnxzypNP2kd9+bGz6HVX3jdu6Sm6yTZzYfkR7CUaGws8Aw5muiBcbwAlJqvmGzgKDmacfEQhmjrLSNsGNgpRxEbIaVyrjHtIOwzbDSGYRtqAw7s+2QBcbI98mtlG8Y84jUTW+//fJHkkl+OpmUPXQFQRAEIUsSSXXCvIuOG3JwXpjoFMP8TqLNZ6fSrBWRZjiWJiID1gSlvP3pFXLPwPn7r5eqSDCfAYDcI6HQgM1Cvv+z5XIGcOD+H6zPjJgiHa+kk2PCChhqUoQjmYlJ0ZFgBim6HIbtiKWGbl2w5UUA99qEX3/29RXPV+mmIEx5xMgdJkuaQAeGQLMiMZUehFahkGWn7FBIU9g4iChLRx1QTGsVJzYJpVXCGJNQCgk2NIOIEgxOEGgGgxNESDBzHECcwVoRwGAoovzRuD+AbhqAYfcH1TCUIrCTL1dw9MqzAQrklioH5H/nDYMUcnIBBoHAnG3fM8yM+8aRsz/Z7JU3DFIEtv3laQezuZlI3+Xss9/6LDpSnxvPE5e8yH52Lb/9zjAsZ0jPUzAxw5gBokZmM5tAcwA+AuAEwETk3rHIHWgQKTAc7zwYwEuHbCAdBoyuNvO/2qSJsvkEYClT5KanXtz9pwBeG27XBUEQBGG6wGC6taFrjorpSyyHzzVE59o2HxsiFTIMC6AQM0J5w5HAnlXp95DmqXJ/DnhyK+sWkFVL3VIGtr8eAXZJ09lPL6DDYFcAGSDsyQ27sngmQHMAOkODr1q7YMsmIvz76tdX3Fm1UzVwy/yHjgjp0B0EXp59HvS/yWd4z4WG3QfSske4R++B1H0B4A0EFctFNh/5fM5XQMHI++v5qOW8+k9r1fLDeGESvFwql6eKepSaQeAvGxyVgmENvIApe6TimQtA8bAyAFIADIEJ/cz4j2tfOPOait0bA8TIHSbbAZzSCAweAuIRYCAFhCwLju2AtIZxHGitYIwBvKNSCmxcS9MYz/AE3C+wY0BaAcw5D57KGZR5QxSGQVT8eS6fvXzjN2x95Srlg7wLPWtQB/NRPj9r+JbLd7hPK/w0k7H/79KGRa9c9MrxKQB8xUScvDWUeTrJu09LYH/KmEFlWUcYNiClwI77A+z1BFnD3v8Vp+wPty+tMzYsRyNlafeHvMgjW5e0AuhCHcLVH/zEs9/7zc9OloWoBEEQhMMGZqZbG++eE4o1XXKb2XJpmEJt7HCEFYWJEYIizTmDKj8jyjflt4qhWaJ8IB38q8gD7DO4cvVH0V62OjOxUlZvJfWBBsCkPGO+uC1XDiwQWwDipOhDhrn9J0c9sjnDqe9c9cZFj1WWX5lYLKwyaacJRPMYnJ+h5nlQXP+Jz2BV3gAo73wp7/lJUa48ZwfQf0I9h01+Bly+i7ny2fNSdD0Enq+CY5T116CG62c48vPjX/b6yJWnfIWSz4PZOQH+x1MPU0XfrDzj5Zug/sj33y8vN0PBfzoKrl/X8i2akZA9P4Q+UpiQtWXEyB0mSwAc6gFmRYGUAUIhwE7ZCGkLBo4bS+EYaJU1cOEeSeU9q2zcLzQ8Tyxz7oLNXshZj202nfOwEnKGasl85H43CvJVtl7ZfAIbUyYf5et7Bm2p9pn5KdL0Te6jh97oaT64Zt8kmGqbJPMU0L98LW/pO4jXoXAlG7Mg+wLBxf3mcv6nIJ+mwjSBEBlykIpYcBSh6PVZ/dIhAJ+Dnv3QpZe+uHH9+hMlPlcQBEGY1qzF2lBo3smX/fMRD3eEorPawSZCChHDHMktnZp7P+0zOP2fAznjr5qhm/2joL73oF9cN3C/DravqrRZqj2fnnkjiTKA/Wwl1YFeQIVr6J/7HwMREEUAvN9SkbN/cswj6w7FzTeue35FFWO6NIODaRPSujf/FEUFS9uWfPgrGq98unT5/J+1lR+FfKLS56KU/Kxh6KXLl8/XCxqUJcurQv25wvXtXjvV2i/Wt3L7eeFu+/ms2trPFXBgePzCE32IkTtMCjy5YWAgE/DkwvPkOiU8uaRgmF2DN/dGxZsK670icV9wBaco+9LMpfO5THkEPLnl8o2pkl+mfjl9DP8EkdAP3nj55Ze/iY4MgSr+9o433Wso07GOtz++feDvwvEZJ2RsNIaB3cZWB6IE05/phwaQygxiFhLoT/cjhAQyqX6EExbs3n5EEgk4Pf2gI2NIZfqRCCfQ3w8kEhiz48HdPQfvvXdJOjDbRhAEQRCmC7Ru/kNzex18mqA/ZBxnMSmOMiMCoLzVWM5jVqmwv142XasHuJzhHPCwFbWHEh60CjCzQxTfWblUA9ikCgyTsvoVEgZjATOubOyjU/7hqC1XjSRetyHakBlwBp8HqK3i+FGt5yffh+LxHabHtKz4vFFWFb+BV6V/OVdntnytcv1/BOX7X4jU6JEeXvvka7+E/BH0P+cBBg8pbW2vpMZYIUbuMCnw5A76PbkE4zhuSIFjoLMeXKVg4HlyfTGwOQ9q9oKFbwYHfJ5X74hAerj5FY8+Q7d8fvn6KGy/zzHmm0ZlfnHo5f96M4mkSU7g+apE5ypywPw2rseB5QtA3W/AwRRY2EkMXGGy0d7e/g7HcWZrrcm2bViWhUpHpVTv7Nmzt3V2djoTrftU5tJLL21Mp9On+Ma9Z8OGDc+gxuc2QZhMMJhun7F5LhK0usfBFQTMZ5goEWn/g3vVizvvsSw2gGpRZLge4GAlnwezmoEd1K9EHQbh4H+9vr3Kehy9YB0uFFShaS7+dAaImsF094+OffTLn9t51l2VBRWSVg6TUTZnpySiBo8mSngnq1GTxzJ7rOKpLKNT1fLVdAh6OIcjN2DYl/XIVhrjku3XYNDXOm5BD29ZOZ5dA2UbNocqNT1WiJE7TKrG5Joynlw2gFIjjMlFdvGmMjG58F4MllhUKttepXwgELNbKr9M/eyce1e/PmPw5RkzGn915TPLDgAX1u1B66KLLnpXKBRK2LaNcDjcNzQ09EJXV9fQqAUTMQC7e/QqCsK05fzzz29IJBLLjDGnADgWwDIAs5n5ZCKyjDGWUoqMMdBao9qRmfnAgQN2S0sLiOhZZj5ARI8y8wHLsralUqmtXV1d9gR3e9KTSqXeqZT6jTHG8saXW1tbbQC7AGw1xmyNx+MP33333bsghq8weaF18x+a+0/OltVaqSuYzXwiinN2aQyU8sgFXFaEkrsUVPXoVfJQVXKRDbc9X3WupXz2E0LaAI92YlXlF4IzGoC+VKGBXWt/ch5QDoHUCWDnRz9e9D9H/dkrZ6+t2KaPsJmT6sOb3T77Jv9XXn5gvNhfKlixagyr+4fPSB6uh7Pi+co9OPvO1zA9yAF98x5RKqNviQq16OvJrBbDy8OSl22/Sv9rkMcwQ9oKvYgJQIzcYeL35KLOMbm+WNaimFh/LG5xTC4CMbHF+YUxtaXy/TG5w6hPABsARH0g8+VwOvXLK595z0GMcHryypUr5/X39zcDOIOITmHmdwKIElHIGENKKdi2zZZl2a2trQzgSWZ+Smv9TDqdfuCII454Q7xDgjA6Lr/88qOHhobOZubzAJxHRMcbY8Jw7xmaiELMTEQUytbJzUip8Qi4L84AzFFKGWZuJyLjOI5tWVa6tbX1WQBPM/NvtdaPbNiw4VWUCaU6XLEsy3IcZ7Z3PvxZcwGcopT6xODgYKa1tXULEa07//zz/z2ZTMoYjiPNzc2zwuHwMtvOv7PJzmgYi7RSytx///2/HZPOjAHr8Ey4d97BNYeM+QIR5hvmeP5JOuDl83mvXAJusnIxi1TB61euPo2gvaoxqPk/OWv8+doo1o8AYIigNlRTHX29MCpcqGHWoKL8eBQb0v4kAWAFwkLHmOt/eOzWBVftPLemyXivvrIo3XTcG89kB6GsB9KvRzWPIeXrMFAcExokGMNaSl6Z8hVjen36lpWd09f9Y7j6+vdJLtI3d6zWPhVeT1VjePMflr1e/d+BSufLVxagQnmEwX3c80KpJsaa4CkXKsFM+CHCp8SRGDqERDyMxEAKiZDCDGM7CdI6YYwzQ2udYMckoNUMNiahlEqwMQmQmsGGE4qQYPAMECXYMQnSKg7Dcc2sybBv39r8UWXTtvH2pw3k26Z4/1v/0S6xj2726O3LWzm/TH233T5yMtfEo/HOz/7+tIMYpsegubl5htb6EqXUR5j5LCKaycwhACFmtojKT9Bl5oxSKsPMNhGlmHmz1vq+VCrV2dXVdXC0p1wQDhfa2tpajDHnEdH7mHkJEUWZOUxEYQB6AlSys99vY0wawKsANmit70un04+Ipxe4+OKLL1RK3Q93YbpKpAEMMvOLSqnOjRs33gh5YTAeqNbW1gsB/Co7E2usjwAG77///oUT3O+qbGreZG1/Vl2oof/KMJYDmJH12xY9QNTokeVK+f6CgT8regDLVC8oU1Y/n0us1hjc4NMO0ZuZTObUq/dcuLdStbVLH5trD6TvJKJza3oA8/ejhP4EYga/oYiv/eyr5/1rLSJvWvjI0SFLPQhgafazcvKL9QkYZFX0Lig3XA9nrXLLqMlehXz7lT2cRR78iu1TifyARzaoZ6n+++XVK4bXZ8AXqueTX6zfEDPf85dPv7uDaPzX5hFP7jCpGpNrAQZ+T653zHlgAzG5ivIeDkxgTG5WnwIPbfV8Iupjtq+xo/HOz/7+1GEZuC0tLfMAfJKIPgFgATPH4Bq2+a9nlQBUz4MRgqcfEV1u23abZVmfb21tvUspdcuGDRveGsYpFoTDhpaWlvcA+DARXcbMR5G72maEiCyg+vdvjLGIyGLmmKfHbAAnG2M+Y1nW2y0tLRuZ+bY5c+Y8ebjO3rAsy92urjphAGEiOoOZ39Ha2toBILlx48Z7J+LB43AhmUxi8+bNISJqGu5Mh5EeAQyMVX/qA9OP5204Ysez4S+DeLVt0EBU5VnU5yWqdrUX7FNbo+FS5MGtpY6/gWoeXJ8iHPioShuDbJz/uGrPBW9fXUWT3r5exKxIforscPoR9Ji6/whQ8x2Y79xy/Nbeq18+t2qMbiMwOMD4H1DeyAVQ3WMa1MVHTd53v/eyhjJV5fo8nMFypT2YtXp489fn8Az5Mi8AavXw1urhpsIPKxu7Ph3LvaAggBl9INU9UfcZ8eQOl7UcWpJCzOntj0VnJqKDQ4hZhJiVsWM6YkXTthNThBjDxBSFomwyMQUdcxSipFQMth0jpWKGEVVQMcNOjJSKwiCiAKUcB4oZynZ/N8l2oJmhHXbvAhkH2gDKMBQbKMdAMYEchmUYcBxYTIDnec2m855cB5qVd/TSFT21DM0GZLvtk+1Aw/scABx7o4roW697/N1vYBgG7sUXX/zHWuvPMvMyIprBzKp6rWFhiGjIGLNDKXXTwMDArx5++OERLY0vCNOJlStXNgwMDHyQiD7lxdQmmDmKgke1yQ27c6WHAAww8ysAbncc59+7urr2YZgzSaYyw/DkBnEA9BLRf4bD4S/dc889B8ZAPQFQ7e3tLcaY6tNN6wQRDWzcuDExXu0Nh3VYp3vmzW9mVjdA0Ulgjucy3QfiQo9UjR7SLDV7ZHMe3Fray38wdjG4lC/gX5WWeT+z7rhq99kPlutKlrVLH5ubHkjfSYrOLa0PFcmv0cPnMOMJpaMf+/xLp1eccnoV7o0sWTznMhj8uqL84Yy/3+AsFXPq9yAGPZIVz0+N41FJnj9d0H4ZfbMt+S7fstdHUX9KeWQDHt5arrda5FFh/VHpR/QijPnw155e/hQmAPHkDpc1sLcDvclkoi95JKh5G6gLwPIFFg2+AeImTan9r9CCxkW0C8C8xhC91gOaEwU5fW8TMBd2BGQGQCYCahjqo0OYiYaId6loC6YHmNEI9PQAjRQCqAdQjXDQAwy4TyfursoK0AroAbgRyPQAjQihBz1oVI0AegANOD1Ao5cEKffqU9p9o9aj8/KoB7AA7gG4sRGmpwczARwCYablXcmWcuV5w+FYKtX/+G8GUeOD5cUXX7yYiL5ORJcy8xwAViCWrF4oZo57cb1/H4/HP9Da2vr12bNnv3C4en2Ew5u2trajjDGfHxgY+DiAWew+YI7V929M8UIYYgBiRDQLwHdDodAXW1pa/suyrB+ce+65Lx0OsaeWZcFxnJF43DXca+CjQ0ND77zkkks+ed999/0eh9ELgvFihOdnxEzW7/PtizZFDw6GkyBeTYRGBusiN4v/gTmbruilCwgIxlCWrBOs7hkkVdvyyc/mq2rl838Od99YgNJK4WG9U28u3wEffQCF8g3Ucd9YDcIyw6lvA1hVSYUf4rL0D3hzt6LwCwwsHfYqyNXO2/TZN9ZXJlufivtfRh5QHMNb6vtSPYZ2lPKq9ZcxxODfO3N7tgWbHy/G75dXOOxpb29vM8b8FRG92xgTrxRrOwakAbxgjPnKscceu+mOO+4Y/crMgjAFWLly5VH9/f2fV0r9kfdiKYbp+dvPzDyklOozxnSGw+Gb1q9f/zKmcezpKDy5OYjIYeZXLcv6+n333ffvmMbjNQEc9p7cZJLV3P+7ZUnYorUAzgLgeW99P0H+B+nsH+U8cIE6KJdfqnDOgzg8j29RG1U8vmDOGWAV5ft1KpJP+4xjX3717hU1LSK2duljc9ND9p0gnDsy/ZE3Uoo91gyFfTD8tS+8cs6tlfS47aTnGnrSB79IRN8q1CFvAJWMYfUXC3oQyzXmvaQozg90MJhbkwe+Sgx1rdcfFSYq9j93fdaiX75Cyf7XGONcHENLpfXz97fW8WO8RoQ///qTp/97BRXGlOn4oCNMQtra2tYw8zUAjsfEzSBwiOh1x3G+pZR6zhhjxnKVS0mXT1uW9UY6nd4liweNHVnPLRH9EYDpbNyWYhBAHzN3hsPhm84+++yXp6Nnt729/UJjzKiMXAAgIsPMvUT0Zxs3bvw3iEe3LiSTSbV58+YWIho3IxfAwP333z8pjNx1YL1/3tZmIr4V4GOJyKr5whqFEVtbncKqtZWn4bcx7PIEAANk8A/LFg9+9aKui2q6R9541Ka54XDsTsBn5JaWXZsugTsFu1W2pzKZ5ut2rXi9XDUG082Lty4mWA8BWFCD3Co6lDPkysutzeisQW69ZdZOdzacAAAgAElEQVTa91KG8TjLq73NMo8UxBkCbWrsS6y8evuJqXLixprD5YFHmEDa2tquMcZcpZQ6ptbYW2Z+k4i6jDFbtNZvZjKZxyORSP/AwADi8XginU4vDYVCixzHWa6UamfmBahhBVhmZqVUr7cac9F2JpIet7QD4DVjzAORSOT2wcHBF8TgrQ8rV65s6O/v/4RSao0x5ngiSuAw/a1n5kEiep2Zb2tqavp+Z2dneqJ1qif18OQGOCSGbl05bD25a5c/FsLuoY+RUjcx82xCYF/BUh67ih5c75PhxuBW8kCxP9+nUDmPb1kPaHX5BR7fsvIZILKZzVaKRT961fPvLmtMBlm79LG5gyn7TuXF5JaUHxyXgv5X89ARGNxLpG/+4vYzv1lJlxvmPZmwGobWMNP3q46H35CtEHM6LH2zHt56xfBmywQ9vKPweObbLyOPCtPV9POPb3Z76dHIq9rfKvJAtJOM/bm/enL53ZhADssHH2H8aGtr+6Ax5rtKqRNrMHD7mHkLgJ8y81al1MH+/v703r17zYsvvpj2rc5Gq1evtn7/+99bs2bNCjmOEzXGXMDMf0JEFwOY8Bu8UBMOgBQzDxDRvwC4ecWKFa9NR4/beOGtlvw9IjoDQAMmZuufSYW3SFU/Mz/PzF+ZM2fOf0+XuPz29vYLHce5379fcR04BODj999//70QQ3e0qJaWlsPOk3v7opejqfTr3yfQxwGeCRyW3tiRyGcGXg1z+GNrXj3jt4TaV6S9celjc8MZ505G6enKNelSRW/PLnspHlYXrHn2zDfKiWEwff/4R47VOvQrJizPGbFV269RV/HGjpM3tgbdSsgioJ+BX3PKujK57ZQJfbEsRq4wZlx88cXnKaV+RESnMnPFh21m3khE37Ft++lYLNa7fv36NIZxj1u2bFn4+OOPTwwMDJyltf4zAK0QY3cqMcDMLxLRF2fPnv3IdPO4jTXnn39+Qzwe/zYzfxjAEaifZ2864cD1VP5iaGjo+oceeujtqb59zhh4crO8alnWSlmMatQcdp7crIEL0BUAxwpzCw3Z3IU1XI9sRQ1KtDF15Pco4mvefnnojiRqm6acZe3Sx+YOZpw7iVB+n1y/19T/+TA8kiD0gnHzl7efVdGbu27ZM+Gd6b6LSKlOMBry7fvk+v8o6eF1/6jLPq9+ecG8oIdyQvXzefzHUj//uQjOqKiof5kY6Lx+Dhv+Xx3FB7++9fTdpbo6nkyZLSOEqcXKlSvnKaW+AWBZFQO3j5mv0Vp/yrbtLV1dXW+vX78+hWE+WG3bti19zz33HDjxxBMfHBoauoKZv8LMe0bVCWE8iRPROwHccejQoRUdHR3hiVZoqtDW1nZmLBZ7gJk/BTcGSgzc0mgATcaYT4bD4ftaW1ubOzo6prSn27LGZnkDIjrGtu1bVqxYMWtMGjhMSCaTcJzxnTQwgasr0+2LNs1PpffcC6IrQIiBCFzwD+4/FE+FBQEgwGTLBP/BX4+8Ou6/qm345JeUXSQfYyu/tOweBXVtOsM/H66BCwC9AKBcWaX1JrBnoOSMnOw/le+XKaWvyuvMTHEm+sD35m5pqKTPqm2npG2jf8ug60uNQW41a6Kc3kwEU6CrZ1CpCtcHAseszJJ9p+K+E8D+/hecp+z4ICevmn4lz3uRfqigHxVfT6X0o0L9yo4flRk//7lQeXluOwG9/Ef/uPnLe7IMaDdr+vbXtr6r5qn2Y4kYucKY0N/ffy0RncXMlYyVHcaYVYlE4h83bNjwWj1iMm+99dbMli1bDgwMDNyutf4QMz9FRNNiauJhgGbmY40x/3zgwIHFyWRSfp+q0Nraei2AXwN4N9yZC1S5hkBEMSJ6l1Lql/v37//rSy+9NDLROo0U/6Ju9cQLLTkvGo1eI9/DkZNMJqH1+L5HGd9NC/LN/mjRo/OGMpFfQGEFu4vcFXuEvGPugRq+B/+C8pTzDGWNgWxsYO5BG0FDszb5BYZpWfk0tvIR6C+hRzNdu8N+5f99+bXzBotGtwYaABjDhQZa9lhF35zhXVbf/HhAQQNYaM2JXFRNp7946cweK2z/iwFuLh7fvGHk376p5Pgin873JyAvZ2hRUf9Lygu2XUle1uisQb96yyvbXwTlFxvShee3gjwUnu+S10spQz2nP2Wvmz0AfRcD1n3DmWo/lsjNS6g7LS0tbUR0OTPPqnDD3WGM+awxZtOdd97Zi8D9cLRs3bp1MJ1OP0pEawA8LYbu1ICIiJmPZeavbN68efZE6zNZOf/88xtaW1vXEdFXmXkhJPZ2uGhmbiKiq9Pp9L0tLS3zMAVfEFiWNZaeuxCAL27ZsuU8TMGxmSwcBp5c+tGiTfN0xvkFiM5ncKjAI+j3HBUYGOR5mNx/OQ9U1luKEgZhjR69wvKl5JcxOIcjn/L6czX5WcPAkx8Ynx4QXZu27f9382urRmTgAp4nV+f1NT59c8bXCPQt5eEFUYyZy6/inIe/8PTZbymt/x6Mu4v7T0U65j2KVOjh9XsUy3ooqbj/OXmo7DGuJA81yKugX6n+GqDYg1pOHlWQV3B+4dOfSsujQnmF40WF50Hlz0VwvPzyvfE6CNC/HAr3/nSi43D9iJEr1JX29vaEUupLcLcKKvdglDVwH+rq6hqz/Wq7urps27YfY+bPGGOeEUN3auDtn/zRUCi0tLm5eaK2m5q0XHLJJSfFYrGNAD7AzLMhBshoSBDRBUS0ua2tbTmm2D3Rtu2x9twlAFyHKTYuk4lp7smlHy16dB7ZkV+wgmvg5rOQ88iWNKgCBqm/GooNipJTiivKL+kxHZ58qiC/lN5ZeUH5KJZNRMzAq0rRSidlj9iD68d4Ohd5EHPGSYmxCBrzwXHIlfMbiIiA1Dm16EQg7nv2zl0mjC8ycHfWi5yVWXrars9wq0G/oinA/v7njE4qPB/B8+9rs1y/C/Tzy6ukI5WQla2Pwv7X4kH1j1/x+SWf3Crnt+j6L/H9CepVon+ufnxQEd022HfoWzdvHf11XE/kxiXUFWZuN8acDKDcNOV+pdTXLct6eCwN3CxZQ5eIvsHMkyJGQKgOEUUzmcwarfXMidZlMtHW1rbStu17AJwJIDrR+kwTQkS0mJnXt7a2/tFUerEyVjG5Adrb2tpWQV6mDJvpHpN708JHojDOjVB0PgOhoKeo4GE4S0mPVPEDeK4/5QzNgBewJvkIyA8agpWMWb+xUi2GtZwBl/unUgb8S610y/7t/Q/Xw8AFAJXzxJYxTCoaYWX0zRpPhWMQMoQTbj55W/E+uCVIImkGnr77ZQf6KkD9U95DWWgE5vULnNugoRj0UPq9p+XOv//8KH+bJfob9KAWjV+xIV5RXkBWkQfVJ6uaB5VR6EGtZMAGPeOl+0e566Vc/yoZxAbYy0p/dyAcuv7vnl/RO4LLdkyZMjdzYWpgjPkIEc2rkH+jUurBDRs2DNQir6WlZZ5lWWc6jnMCEYWNMQDwJIDfNzU1vV3LViBdXV32kiVL7lu0aNFtAK4CMKfG7ggTCBGtYua1zc3Nv5M9dIG2trbPGGO+ppQ6qtb9poXa8MZzLjPforU+etmyZd/ftm3bpJlyVQ7btqHUmF8KYWPMH3d0dKybLlsvjRfJZBKtra2N49nmeHlyb1+0Kdpv4wZifIiBUEGrXqLkvrGFRdy/cuUZBavA+vdZL65Ym3zfeNR739jsqrfZYmXlZ2UyOyD1gjLm242N4XuveOL0Q6hj7KKDfHeL26cy40sF3amp/67BE0nbB48BUHYrIT9JJA2ew86bl6/6xtDg4G4FfJmB3OJVlBv/MuNJ2XRt+hGQO5+V942tsb85eQH9MEx5Rfn+64Vzyhfq77u+s/KKzheV6Z//+h/BeBX1z00zwWHmHQrqbwaHnF/d+Og7+zEJESNXqBstLS3nEtG7UN7D9BQR/XrDhg1vI3C/CHLJJZecZtv2GgDvcxxnNhFZxhhvJisyAA4cOHDgvy+66KK/27Rp03a4v+9l2b59e2rhwoVrLct6P4BZkBjGqUAMwBqt9QsA9k20MhNJS0vL9cz8GSI6gtnv5xDqCRHNZOa/XLBgwdHHHXfcNd5K75MWy7LgOM6YGzZE1LJ///5TAMiWQsOgo6OD9u/ff8p4TiEeD0/uumXPhPf09nxZK3zSePf7kq1mu53zMObLlS6ffwJnf71K8rMP3fB5aMuVV1SQX1QmeJp85Utu3l5C31KyCXCYsR0KP3BM+tcRdeShK544se6/LaRc67Nk37L6ZV8owPXIZQkaYDnvpPdhsP/EiFAo8h4Aj9auYdJ8qfube/52+Us381DvVsPOd4jo3QXt+/QrOv/+75GvLEBF+pWSV9xfn8UHf1kqc/0Uyi8pLzCGBYt2oTDPX9YUKOLzOFdsD4H2yoxXUf/yeuXkldIn2F7u+0D9gFmvNL6l39j74o2vXDTmszJHingDhLpBRO+F6yUtd0e/g4heRZn7RZa2trY1tm3/G4ArmPkEAE3M3EhEDXDf/DV5n39Ma72+vb39T88+++yqb8s3bdr0JjP/GxHtH1bHhAmDiC4DMA+H8W9VS0vL9QA+C3f/WzFwxxgimgHgk+l0+vtLliyZ1Csvj0NMbpawt4ifXH/DoLOzE0Q0rlt6jfX1sKmZrb2HDn1UEb7K3irKXsO5fxWn/QL5h3MqnmKZNRiLpyGXkV9Ntl++VyQ4rThrQBRNXS4qG5Drlx8oR0QMor1KqZ8Z0B86iFyIQeen1+44/62rt9ffwAWyhkkJXeEbX+TT8I93sP8ojI8NyjQEcowZwVZ/xH/RvfjQ7Oi7HnQc+8ME3MTg3lL6cS36+V6glDw/Rf0td30WTt0te/1QoW6lVz0ujGct6k8JHVFKP1//qsXGVo2xLegfFfcPhf0rkOO1bwCHiXYY4LpECKuf2/rctuQkNnCBw/jBURgT3gvXS1qKpwDcv3Hjxp5KAlpaWq4xxnyViE4CEKMyd2zv8yiARcaY7zc2Nn66ubm54p6ORMQAfs7Mr6CK51eYNMwlopb29vZY9aLTj5aWluuJ6LNEVOnlkVBniCgG4JOLFi26cTJvMTROMbkAAGZu7ejokGtwGDQ3NxOAo8ezzbH05CbB6ukdj57OWn2biWYM29gs9VANVF4FOSi/lBFXSTZR+VWFsx67gAFRmyFbYBBnQNgKwmYDWguirylDLZEQn8bp3i/0huP3XbvjXW/VK/a2LKSKYjxBKN1/5P9V3Oe1lKHs/gooKD1jpKqu6abM158/6xUMmm8ZoosN8T8yUV81/cqueh0wPsvHxqLE9ZOPAQ6uogxChRhgT16lGGBC8arHgf755ZcedyrRv6AhWyXGNts/qqF/QTlKOQZ4BYRvhizTHraHbv/qltMOdGLVpH+OlunKQl1oaWk5gYiONsaEStmlzLw+HA7v8QzNkrS1tX3QGLNaKXXMMGIOCcBMZr4mHA4/vnz58s3d3d2ZcoUfeOCBt9ra2jYZY04koopGsTApIACfGBwc/CWASRnzMVb4PLhi4E4AWUM3k8lgyZIlf759+/ZJN3V5nGJyAQBKqcUyZXl49Pb2UlNT03HjuBiUYeZnx0IwM9MNx//uSGL8IwNHg+BeBZQ71D2GtVrMbX6KLWV1LJSXrcDsEKlnGLyNwDth1O8QIrt/IP27eBzAAIB4HAMDA6gpDQDIpuPIUB/P4mj6jb5eRKMNGd0fshMLM+k13WeVfRapOw0N4P6+wHjmB5BqPV+5O02JGN5sTdc4CjH4pNGoTCDGSzjUgXWPL19+wrVDQ+bvwlqtMow2EM4EY0ZOP0LlGNSsfv4ptpWun2ryCLXFtPrS+fENxLSS/3pHaXn16F++akAfgLLyUFv/QOTA8Fuk6SHD+JXi+EPpgd6+v3nytIFKz/GTDTFyhbqgtX63Maax3FQpItr01ltvHSxXv729PWGMWaOUWjTCRXXmM/PX5syZcyWAlyuUY2PMJiL6CMp7nYXJxemJRGJRc3Pz3sNlAarW1tYkxMCdDMThenRx4okn/vlki9Edr5hcAGBmrZS6AK6RK9TACSecQAcPHjx1PNskojFZv+CO47siEYrdYJhPBZF7j/Y/sGe9oQh4UguVQ7aeP2awfPl8PfbXK1c+HzNoGPwKAxuIzCOWFX6AHWTYpkw60u/EnHnp/Vaak6+dOXaLy705ZpJL09sL0p5nEWViPAkF56hizDOhwAAKyvMK1cWG6MQqp7Mbhxjcc+NpT/19JhZe6wylG1nZ5yvo9zCw0Hux0gTgRP91kdWdg/pRYdKACq/XEmVqj2ktjtkdXkyrrw7yfaiqD0rrk+vfCPUh0JCBeZEIBwxhlwa9bBxnq230/+oBJ3XUwtjA1etPSAHAjVPsaUSMXKEuOI5zNBGVm9b3FICdlTysmUzmfZZlncTMI4jxAAAQM18A4MTVq1e/duutt1Z6g/o7Zu4b5/0EhZFj2bZ9cWNj49Pw9ryfzrS2tiaZ+XMyRXnSEMck9eiOpycXAIwxpyeTSUomk1PmTf5Esnfv3sZQKDSeq/kzER2qt9AkNlm9NGMVwfkwlNJgBhd4mEpQzmMVKJ93XPk9SmU8vP4PAh5Jd99Zs5+g7jUm81Mdb3g6NbBnaJ6zJHXF9uMnddxgXWgAnAF3ZmxVD3fAIwhGzjiu1eNJpACquLzKsCEQ4yn0A+hn5v3XH9/1xqx5C+/sHxjUoXBE708d0HEdtQbZHwwODMFND/qPMWBwAIjFs0f2jjEMDgz6Pi+fHkrraAjqMgP7luB4FVx//j6M1kNMeM1hfCauw0+4erj6IB4DakgXHH0jQsUjlDtmhvo5HtN2bypjGhrm2G+9NWAfeYpOf7fzFPcl0BR+rSlGrlAXlFInMnO8TPbzqDLVVGt9ETM3jVKNEDNfuGPHjm5UWI33gQce2N/S0vICgMWQvUanBMz8wVQq9c+Y5kZua2vrx5h5jRi4k46sR3f3zJkzv1/phd14YlkWvG3VxgUiOn7cGpv6qFAodN44b/dlmHlbPQUymH50wqMnOGz+GiD3fhnw2vqPJfF5BYNe29o8iCXKeEdmMqTwsiFaBztyBxl+a8Yc6l/Tfeqk+I6OF329QMQimAJPYPZYweMJBFbxzXuDs3WKPIdEMByoWGe8KbFDeAUT9oLipnN3xXrsgwcKNjQo5SENeswDw1LLKsxuHoEBh7S99+tbT9pdhy6MnLr+ikwcsvCUUBeMMRbKPJQz8yEiqjbN9Ez49kwbhR4na63LGds5lYjoAGTxqanEu4hoUXNz87R9Mdfe3v4BZv6OUupIiIE7GYkz8182NTV9dLJch7Y97rP3VzzzzDNybdZAR0cHOY5zwTg3y0qpSuE6w+bmhVujGcaNIFpYsPgQ8kZToSHkWwUX+cVxECzrecIqraqcL1tCHilmYC8U/pZs5/xZNOO717z0H9u/9MoZB9d0n3lYGbgAMKMBMIpLj6ffMCMUnx/406h+fghwJ6yP3wu2iWDXrl0AVOF4oXC8ChYtA3ILPPnThfn+VZj917NP3mF39Y4dYuQKdUEpdSqAkivtEdGTlmX1VRERRh0e7JVSR9u2XXXKMzNvhztXQ5gCePskvyccDk/alW5HwyWXXHKSMeZ6Ilo4zp4fYRgQUYMx5pZQKHR6Mpmc8PNkWda47IvqY1p+/8aCl156SWmtLxznZtlxnJ31EpZs3mSpkO5QRO0MVhVXQUbhdi5lV531GUs5r1hWhn+V18AKyLkYQrd8GoSfwQmvyFDqb7/48jlvfur5d/QCyeltdVWgr9dz2HrjGVxFunDVXO88qPyqve6qwlRo2HqrApdaldqAwHrCfwLHlGOOOQaOMkD2+g2Oly+dHa9SqxTnxt1fnwrH2+TqMxAa113HpjWT4m20MPXxYmlLGqlElOnp6an4JObGeNTFQaBDoVAtgg5BPLlTCmPM2cz8c0yzVZZXrlzZMDAwcAsRLWNmPdH6jBQieo6ZDwJgY8xjSinbGJONGZ0B4GQAGsBRAI7BFH3JSkSzmPnfNm/efD6At1BlpuZYMt4xuULN0Pz5848ZGho6Y5zXfnDC4fAj9RDEYPrOy5uPgEV/bZgjRTGy/imtFWJucwSnbJYsE9TB94cr2EBhO9i5TsXDXT1P/EdP8jA2bP3MaABSaQL5FisCvDGssCowkD1/gfPrL1MiBpUIGMdIiQlhF3ZhBmaCYQpjbP2FCNmg8NxHVWPUgx/4YqQJQIbFlVsvxMgVxpxaYsaUUn3M7MB9CB4NO1KpVNUYjqm0BLrgwsznMPO0i6Hu7++/iYjOZ+ap5CX7HYDfMvPTRLQNwE5jTCocDpu+vj7MmDGjYHGmTCZDtm2HYrEYDQ4OagCW1vodWutljuMsA3AOEb0To//+jwtebOra5ubmj3Z1dU1YzNh4x+QKtdHR0aEOHjx4KRGNp0uGAeyu1wrg1y/bFpqVjl7NoIXVVzUGsg/tVa/Goof9auUoa2BloHC3ztBXFkbiO1c9ccrYrYw8BenrBUIRyo9/IOaT/av4ojCvOMY0QEHMbn7KrpoSv9Yj5xgcg7dxEBRcFTlYMBhji1KGbHGSgxnZ79k0H9fxRIxcoV48BeAdKDFlWSl1glIqigqLBjHzk0R0OjM3jkYJZn5Ba13LNORT4S4mI0wRlFLHGWOObW5ufnO6bCXU2tr6MQArMcmvRWbuJaIHjDEbmPkRpdQeIhoaGBhIRyKRzEjOx+rVq9/s7u5+ZPbs2SGlVISIFtm2fQ4RtTHz+8bZQBgWzKyI6BKl1BdXr179/SqruY8Z4smdnLz00ktq9uzZHx/PNonIMHOd1kFlmuU8drwBfx5ZE6fWfW4reXgDq/bmPYyeAVZyX1YAwJAi3Nzbl74Rr517cFW9l/WdBsxoaMBAZiA3Iy43fmO0bywR4Ezzs5D15DrgEuMT8IAHxief7/4d/H4QEPCQExjeDrv2pL31TTnEyBXqAhFljDFcamqWMWZmPB6veK0ppR4yxvwBgNEYuX0ANh08eLCnWkEiCnPBknnCZIeZNRGdnEqlngAw5Y3clpaWpUR0PTPPRR3i0ceI1wH8A4C7mHl3IpEYvOuuu4ZQhxVHPMMwZxx2dHTsGxoaenpgYODnlmUttm37D5VSn5ys48PMESL6yx07dvxPMpn872Ry/KdNjuc+uULN0Pz5849JpVJnjmejzGyI6OF6yLp9UVdkv5P4K5AqfGldYp/b6h5et0JuER5/+YC3seQqwMyDUOpa2wz+LPnaimm9uv5o6EMvlOdaLbmKcpHHttD7yCXKVNo31mffTWOOQRoHoUiVGR8Uj0/wmkbe+11Ur8iDTq5hLJZZ3ZChFOqCMeZNIio5fYiIThscHCy5KFWW3t7eexKJxP/HzEcS0UinpP7GcZwXa9neg5nfBSAxwnaEiePkefPmRTANFg1TSn2bmSdlbCozP09EPzLG3Dlnzpx9nZ2dAxjjpTQ7OzsdAAMABjo6Og729fU9Z9v2LVrrP3Qc5wtEdMJkW5SLiBoA3LRhw4b3MfPe8Q6DEE/u5KOjo0Pt37//yxMwE8ExxmwerZB1HaxfferR8xTTh7KfVYy59QVp1urhBecN3nIeXiJiw2aPpfUf9x40W5OvrxgYbd+mNw1g8oYo5yEkn0c86HHM16zkccznF3qISRGc8V30bgLYBR2eCWMjPz5lPboA/OPtH68qHl3OnS/3OP6L5k9f5O4o1AWl1BsAysXILLcsq+L2QFu3bh1k5r8lol0jVGGH4zi3LV269M1qBVtaWk4DMAuT0DskVIaIzurt7Z1KsaslaWlpWc3MF8NdVXwy8TqArxNR+4EDB2578MEHd3Z2dvZhnPeK6OzsdNavX9+zcePG18Ph8D8T0WXGmBsAvI0JXOipDKcmEokvnnnmmeP+0tiy5D31ZGP//v2ziPIG4jjBAA4tXrz4idEK2va7rhCx+jQD0Zz3VQHDXVW5cBXZvHeRAbC3am/JVZVBABE7zHugQx+fETMPJV8/UwzcqvSCoNzzoQKrKFOJVZRzeShcFTh4Xr1VgVFwPr19cqf5E9QxOAaOA298UHHVZHhjWm7V5OD4ZcfXkP98edsTyc963RAjV6gLxpgnUT7mNgzgvEsvvbTiVOQLLrjgcSL6ayJ6bZjN9zHzd6PR6OM1xsY1Y3TTooUJwhhzXDgcntIBK5dddtlSIroOQBMm12PCz9Pp9OXxePyW+++/f1d3d/cAJoFBeddddw1s3LhxRzgc/g4zX0ZEmzC5VkbXxpir5s6duwLjfE+dgH1yhcpopdSVAI4c53YNgK2jjw1nikWajmPQHxTtC4rAlNas4Zo1lPyGrH9aZ2Af0Ny+rP4pzL76IGIHvCekrY/veMbecjjueTsyGjwDNn+eCse39L6sBdsKoZbziZxhZ6a5CbELuwCtA+MVGJ+y6eLxBpAzhsvVl0Wn6svEvi9gpubroV9rgo6nYA30Q0caYQ05sCwDy7agLQNLMSw7BMuyoW2GpRU0USZknJAmy7YM25ZiyzJkaYJjGYalSGtixzKARQyLSWuCsRQpbdhYClBsG1IAtO1AKQAGUMZAGUA7gIJxbx3GuAOVcdzrz7hPMtmygIF2VD5tDEJwn8K040AZ5MopAyjHQJusHOOT50A7bn0FnzzHFLZrez8tjquP8vTOyXOAEABky2Xl5dp1oKChjFNCvsnLc9zvm8nw/TMXzHlu1bbyqxk2NTV179+/v7dcbJjW+r2ZTOZOAGXjZZPJpH3uuef+MpFIvAUgCeDdqO7pegrAVxzHeXj9+vU1bS2jlLqcmWfXUlaYXBDRwsHBwSn9njOdTl8HdxudyWLg9jLzl7TWd82bN2+fN214smHWr1/f09HR8b979+79SCgUWg3gi5MlXpeIZti2fX1zc3P7eK62LDG5kwpqb28/ltm3WNN4NUzkMPO9o5Vzy5Lt4RQyX4BCLPuAnqX8qrbWkCsAACAASURBVLxumZJTPXzGUdUYXq+sAQ9aoK/MiNpbboUYuLXTC1A4Nw18uDG2/mNRDCkChi7GeWrPhHEMgJ7894DgGz8qcX3n/y6IiabAeMM/fuTLd2vLNrn1Y8IfFrv2bddnNy2JvA1EI7MQdRxEYyFE0ylEw4xohlNRhCNRlXGiUIjCoSizijpGR7VlosZRUaWiETZOTCkTNUBUk4oa40RBiBIQIaWizCYKQtRhE1GgqGFjaUVEDgNKwRiGzs2jAQw5udn1mhSMMVBagx2GJngbhCkwDBRrbx8tgiGGVgqOYSjDOXkMhmIFMINIw5CBVgAbcmc62AbkmpQg0p58d7U1rRTYGLddx42FgMMgUnDnjAAMd592GEATYBzj1rNdAxfGDYJhGChSgDHuam5soBWBHfbqE8AMZvL6ydCKmvbtfO0WuHtClqSzszPd3t7+iDHmRJTwkhpj3m9Z1m3Lli3bs23btrLG8tatWwc7Ojo2vfnmmy9EIpGVzNwBYDmAYJzuViL6mTFmQ1NT02udnZ01bSfQ0tLSBmAJvPcAwpRDh8PhE5cvX767ltjryUZzc3MzEV1qjIlMEsPkMaXU5/ft2/f77u7uQUwCz20lPAP87ebm5lvC4fBvjTE/VkotmQyxukR0TigU+nBzc/O/jdfq3xKTO3no6OhQBw4c+DIRHTXebRtjnEgkctdoZDCYfhDqbmLgT3whnNnM3IO++1RUAiooXhrK/1FQJhe0yIME9ZX+gYO/vHbbRVPu931iaYBRQ+5zXanswO2GgyfYM7aCnxb+4cWkZo+T+m5RJ7QGO6bAQC0dk16YLCpQ4vtTJAduVG9Grvy6MeFG7pITl2DvACiqoAxDWQraONDKgmWMbYW0ZbHjhJgQchhhTQgzTERpRAwjqghRNiZKimIAokQqxu7nMQaiAEWZOUaukRQlIMrgGAEWszuVHr6ju+gBuxtqG4bKHkH5z9n9PJv2Fknwyrlf/OxjR15eXn5WHrNPriL31Y5frmHPEPWVz+kFUE5f72g4F8SeK6dcOYrIm3TkyQ/KgycH7r+swexNKjolajVW3eLEcZyHiGglShi5RBSzbftPFi5c+My2bdsqxt16Busr7e3t/0REv8hkMrMtyzqJmaNE1AfgRSI6tG/fvr7HHntscDiLvRDRp5l5fq3lhcmH4zhNDQ0NGr6VeacKlmV9lZnn0uSwcO9k5i+l0+md3d3dU2rea1dXV9/y5cs3z5o16wPM/C9wZ31M9ESvEDN/W2u9Ee4LwTF/BJR9cicNtH///vOI6IoJeOHiKKU23nvvvWVfQtfCmuXd1uJB+hAY8aK5EUX7pJaBChO1lcsa0JwhpnVDUef25DMXTdje01MXz5PrpYpWVy6R5BIZpfacKPLo5zyP0/8FmwOg1D64gG/8fPlcKj/o0S3K9zLJdYiJC6Z+TPgVuv3F7ZgNYGDAnWmaSrsOuUzGBmDBcdxnLwfe1FnjzqQz3tRd4zn9Tdaj6d3wvSSyi8j5v/humnNvpHJTOLJvpoi87eB8R+SP2fz8EYFyKFOutDwKyCko7+XDVy5ryAbbh7/9oP4c6CcK8+Grh5z83Bu7FcDQrGrnsqmp6R5m3klEJac7EtEfGGMuam9vr2VVY96wYUP/hg0b3nrwwQdf2L17932hUOg/d+/eff+GDRu2b9iw4a3u7u6B4Ri4bW1tfwTgHBR7hYUphNb6KEyCF3TDpb29/XIAZ2AS3MKI6JtE9GcPPPDAK1N1z+Hu7u7MAw88sN0LP/g5JsdLj2MAfHL58uXjcn1KTO7koLm5WSul/hoTsGK/N1X5boxyBulyIATwZ3KLR5EvZtArU1OMJ/Ixnq6CZeRRgTwHSj0+xOYbyW5ZZGpENDSUibkNjD8CU49z+YEYbN/5LYrBhlt++r9ec/0xpWOY/WkUjk+ptKotJhpEU39/xEnEhBu5S05cggMA4nH33hAJuyGYoZAFwIbWVi721AHcfcCMgVLuL7r6/9l78zi5jups+DlVt7tnUc9IsmQhe2wJs9iWAyQomICxGTSjkW2wCB8Zh4AhYIJZDGSBJCQE3CYQyGe2GDDBYGIMgffVAOG1sIU2u7Es+2PRazYrxjFG2ONNstbRbN236nx/3P327e4Zqfep5/eT7lTf2u6pu9Spp8457iUI4Spq7tYt4S2ceIqa216wsyBQGB1mEzEmF+DwEcExYGajDC04YFKT80XriRy9euLl3PMI9dNTZBP77bUfby+eH7H6Q+0H9fsK9SksxNmbBu7prjSWY2Nj00T0XWZ+ukyWbgD/UCgUzh0dHZ0z60JEvHfv3sKWLVtm9+7dWziRMB2XXHLJs7TWf4XWsoU0OAEopQbQhkquUuov4Xj1biqI6Jqurq4btm/f/gTa37RKb9u2bX9XV9dfAfgWmq/oCiHEuxYvXtwQp2KWZQXfB4OmYHR0VKZSqQ8x80ub0b7WWqXT6ZPaqpzLsTgyK9Yw0dn+BN2bmFOC112Qf95TgHyvse6cy3eCVK4++PUxQPsF89/S3u/P1+mkgYeJCXdswooVQuMT9Ygd9+qrCW4agRfmUJoJ4JAXZgYFE+2OxRn+fRz3Sq39+zl+PnheAq/LVLY8QmkmR8+x2m9607JoupL7EFCFyQUgZcDkAq4NrcfkOmgFJjfCpCbmS2BwEbSDpHLxdiP5E/rttR8vH8lfrj6U6w8J8IbC1Owp1caTmb8F4GGU9376HMuyPnjw4MGBanXVCoODg4sKhcLHhBDnovlbGg1OEsKLeN9GGBoaepUQ4gVoPoub6+rqumHz5s0HEbwW2x633Xbb4Uwm81fu+6fZiu5pAK686qqr6j5TsW3bOJ1qLujYsWMv1Vr/NZrzbCsi+u7JblXGpr0WNF3OIAu+ohQwVEAZRhAIzRO8fzGGqkp9TDSrwP+2JP0H9+aQa/dFt+Yhm3UUpxJGPTRPnNP4IRivEkaXQuc76ANSAUKGGdkkBnaejG7F8gSQMExuDdF0JffZQBUm18nnM7luuYDJ9dLOm7OZTG6QrwKTm1Afx+qpyPxSOH8FJjnefwpfZ3J98XJhxhckXlnUWFZtPHfs2LEfwBiceJZJkAAuEUJ8ZHBwsO6K7uDg4CLLsj5FRBuYuSITbdAeaEcbRCL6S2ZuKovLzJ9KpVIdp+B6uO222w63AqPLzEII8a7f/OY3dWdzTZzcpoIuvvjiVVrrrxJRxTjwdYTt2qSf3Euxe9qyhd5YEufT+xdiBJPi2kbjqiIhTm6oPgrqIwHFxD9XKvOFt++hZi9OtTUmJiYCRjbMqFPAyPqMe3z8QulgfMszuhAuE9np62sDHrEW3NvJ8kiS14kxutz2m6taC01Xcudtk4uYTa6uZpOr68/kArF8MUYWpfUCsfxxRjiBGU60sY3XDwQKqpc/dj7O4EYV4yQmFwDzckHi4q/0/WBppfEkIrZt+8vM/DMiKufxOMPMo5Zlfayeiu7IyEivlPJTAP6EmfvR+a/kBQEhxB9IKTPN7sdc4driNpXFZebN3d3dn9myZcvT6EAF18Ntt912WGv9YQA/I6KmzRaY+TTLskZQ52+sscltHjZs2LCkUCh8BcBZTeoCa60fTafTd55MJbkcC+u4WCOEeBYAX5GNMEyuhuspqSU2mnGGMKwAxRmrkM2nZpoB6KO5vecdP5lrMACy2SxYcIixLcfoUun4IZquxugyEUgQVOd+ShyMPwqIBEY2QR7R5wUlzweXPC/R8v5CkJQoNnu/Vweh6UpuNZtcSCcOYMDkOqquz+SKaja54oSZ3HI2tPHzTjtlmNzQ+TCTC4TrDyumSe0jaD+JmQ3Xj0BhLm/DG2N0EWof4foRyAUgMF/ZYy1aWW1M8/n8cSnlNcy8r1weIuoGMGpZ1rfWr19/wejoaLV4uPPC0NDQ87XW3yai1zPzkhbxZmtQAzBzOpPJtM14aq1HATSL6QEz72Hmv/7+97//BDpYwfVwxx13PCqlfD0zP4nmXa9QSv3t4OBgXacrxia3ORgdHZVKqU9KKS9sYvgqW0r52S1btsyeTCUrN++RsktcohlWxAlOiAEsYWRDjJ6nFMdtPtlnCJFcH1AE0bf3T/Zur4UwFjomJhBZUIjY2AIlNrdxG9skRjfZ5jRQ2KjTbXIHzoDSMiaPuTK65eQZYnSTyoObbtPUSWi6klvNJhcKkHGbXDTGJrecDW38vFcukcmN5+dYPV69FZncGPNapv0I8xsvn8DkJrafkPbyCcJZShVftWngnopsLgAcPHjw/xLRZwA8XiFbNzO/GMAthw4dev9rXvOaqja/1TAyMtI7PDz8TgDfJKJ1ABYZBbezQESYmmoPB5wbNmxYCWCQmZvCPDPz48z8rjvuuGMf2t/J1Fyht27d+jARvQnAdBP7ca5lWX+Uy+Xq9p01NrmNx+joqDx48OB1AF7HzDVdnJ0rmJmJ6BAR3XyydaWzp0hb64v8iTZKGT0ggbHytyd7jEIS45VcHwOAEDNK45Ofe+g5J6WkGzjIZqOMbImNbYhB9xhEj9Utx+iW2pRGy3f88to4IEU5eSQwuH6a5iZPoLS8EE13KtFJaLqSa2xyY8xpPH9CvrrY5IbKReqN5IckprfaR2aqsrl79uwpEtHXAXzTHeJEEFGKmVcT0d8fO3Zs28jIyLsGBwcH5uN9GQCGhoZWDA8Pv0VrvQXAPxPROc2agBjUF8yMnp6qYZtbAkqpNzRzJwERfWh6evqXKO8IrlOhDx06dBcRfQxAsybRFjO/btOmTXUznDU2uY2Fp+AKIa6CEy2gKSAipbW+edu2bZMnW9fTh45JEnRheS/KDiPlKUxxm0+Gxwgixtgm1BcwWkVm/i6WHnrgZPtv4GBiYgKaRMRr8lxtbL3xq8zohhhMIjAxOj5O7gBQAMrLE5UYclfeZcfDez5i5Q2TW1M09wtJxA/luLh2JfTBJzDbdxbk1MOQ3RlIe3ZCdvVmRXEG0s5Cpgoz0pJdcrII2Ssgp4sFKbvSUhUgpIDUqihFOiVZ2VIISxYVyzRZsujov1JoJQlS2gpCWJBaF0SaJJTWkCQBXYAgCRQ1hJRQWiFNBGgF4S5XCUHggoKTXUFKCV3QkJDQuoCgPgAaEESAtiHIq09C6QLSQgJKOeGQCgpCErjgtMtKQTCBlYYAwFqB3HbSElAFBQkJxdqvz+m/s4UbSkMICeXlVxpp4dYLh+kWUoILyj0WnN/ZuRmU1iCvHXLbERJKFZEWAoq1Qrrn6CZskpfj8ooT523btk0ODw9/1Fl0pivhkPZJEAD6hBAvUEp9zLKsvzx8+PAPR0ZGdtu2/cszzzxz780331wSHP7iiy9+frFYfJ4QYpCZLyKi5VrrLBFVva+Z+b+IaByhyb8QIuLUqBZppdSziGgNM59JRObdVSO0C5PLzK90t+Y3Azfatn3rvffeW/LsLATs2bOneMEFF3yup6dnHTMPogme1Ylo48qVK6/Zu3fvfqD2xIdt277JjkF9EVNwGx4PNwQGcCidTn/+ZCsaxSZZSMnzWTk7TTjECHgL3x6CHWL+L85WeXf9zlsw99KJ9bl/MKMgUvytXP4Vxqi8Rshms5gsFgEI174sPl7BDj9gDuNVMt7hNLlbojucyx0H0C/BrMrLEwCIfOIoKk83Q6XxiJUnImOTW0M0fxk4R3oPoMEcvOyuvZaAawBvjfIQMLqmi8YAjAIY25unQQwC7tRt4vE9hLVr3cwWpp/YSxmsAQCk1wCFXQ+Rfs6z/epnD+0jYDWcjdESwD6sxmrswz6sFquxj50jsM9Rvx4DsNpNdzkHrAaUa3HqaUlhL0urg2zO0aecAexTzgkooAtgN6O9z6nJBoDV0ikY7p+vjkX7tw/A6pTXklOfWL0a9j4nPQu3//sCE9lVAH4XUlFXedM/CfwOwKpuwNvdqPdp0GqguE8Dq4HufY8Uqym4Hnbs2HF0eHj4n92Ht5KiC2aWRLQYQB8RDWitXyuEKIyPjxeGh4ePA/gfOKP+PAC9tm2niSjDzF1wtj7PiTAjok+nUqkbpqenD1qW5b+l4157a5FWSqVSqVRaSnm2UurPAPwpgL6qnTSoiHZgcoeGhp5LRM9Fc96zjzPzv+bz+Y70pDxX7N69e2L9+vXvB3A3mqCYENEKIhoZHR395tjYWM3ZdMtyfFaYLcv1xcte9rIlR44cuU4I8To0V8EFnCnC9Vu2bKlkCjQnDK8dFU/pn18IILI1GXBsCiMT8oQ8vumTfz6k0YaOXvxW9ydFhF8tOdSTP9n+GwSYgLOw7nlq4fhYeb95fwOlcW4JofGk0r2eFP+YdPh7ZwDAhAq2Zic9D+4xcv8j/jzMvfyC/VjXCc1Xcj1QZEmIgVzk9FjsWOu3474yx7ZF/AJO9oJOQjCeoktEk1rrdxFRtVBEgpl7AIQ1GU1Ez2JnaSyDE3u7TgK4IZVKfeH2229/FA20UVy7du2BZzzjGT8rFAo3MvMHmXlDExm+tka72OQKIf7Y3VnQ8LaZ+cPpdPoxLGAF10OxWPyVlPLzQoi/brQJAzMLIrro/vvv/9+ow5Zxw+TWH5deeumqQqFwI4CXIfpNajhcW9zfTU9PX48afL+eOLhPiiXiQidsSZzhC7frn44wskEG+La5zvkQw+ueD03ki1rrb7/X2OLWFFm4vJDHwLp/nxijG4x/ZUa3w+ExudClOxzIv60jCm2Y0Y2en3v5ojHKrRnM19GgIdixY8dRy7I+xczvArAX85/wCdd5TxdO7PX6MID3MPOnGq3gAs7Wydtuu+3w4sWL77Nt+21CiM8y85FG9qFTwMzH0+l0yztR0lpf0oyFDGbeY1nW7Vu2bCkXwmtBIZ/P20qpz2utf9uMsELM/Mr+/v66bJU2Nrl1Ba1bt+6SQqGwhYgG3YXXpkIIUQTwz7t3756oSYWnHBSa+KwSm02K2hgi7IU3wcbWs9lNiourQzaKIECDi2nC5pr038DHBEK2nZ5NKOgEbXTn4iUY0J2uQgwACsq3V/bv/ySb8/D9X+KVPGTzXK08gFTK7FeuFTr8DjVoJWzZsuWY1nozEf0xgK8R0bEGNf2fSqn/Z8mSJf9r586d+9FEL7NjY2Mqn88/zcz/SkSfBHCoWX1pYzw4NTXV0mudQ0NDzxVCPJeZG66FCCH+8emnn+7oeLjzRT6ff1xKeT0zN1zxJ6IVvb29L66Hl2UTJ7c+GBwcXDw8PPxhIcTXiOjsVnBiSESame9dsmTJWPXc1cHMVJhCPwhnRrzwRrzEhtNuOQoUVt/xVHhrrDuZj3hh9m04oSDEXrXo0G9qcQ0GUUS9JlPJ+CR5uU4a70h5n4EPygdxXlt+rfmkMD4OQEr//i/vdRoJz0u5dJXykox35RrCKLkGDUU+n5/Zvn37b6SUfwvgzwDcisD6uqZg5h1CiNfYtv3+ZcuW/WpsbGwaLTLx37Fjx1F3y9n3ABxvdn/aCcxcXLZsWUuMYzkIIV7MzD2N3qrMzJu11nv27NljvpNRaABfA7CPGxxY1o2jeunmzZtrzuaaOLk1Bw0NDV1sWdbtAP4GwPImxsGNgJmLRHSN+x07aVx++ZjILEqtYSIrztBFGF2EGT6EGNsQuxdjDH0vzLH6ALIBbDUOp+oDLeOM4hwZXZTzEhyur9QrMGRLPBp1w8AAoF0m12G8o4xupbi3mhB9nqhKeU/eQCsZkrY9OvsONWhV6K1btx5avHjxjtnZ2b8A8Kda6y8TUdlQQ3MFMz9FRGNE9Oru7u43Sym33HnnnU/Vw+nLyWL37t0T09PT1xLRQ1g4MUxPGkIIHDnS2ju9mfmP4NiONxqb0um0WTRJwLZt2ya11jcLIRrO5jLzy7PZbM2VXBMnt2agkZGRlw4PD39LCHELgBehtRwE2gA+99hjj91bqwrPOzBKRRargVKGCkhgoBCkAfjKboTRRZD2nVSFGUPAZtK7anUNBjFohJwcxcevCqOLWP6qjDBBd/i0ZXwcEDJdsqPhhBhdVCgf+gdBrvdZg1rArBcYNA1jY2MFAAdGR0e3T01N3TMxMfGZVCr1QiJaB+D3AayBY4NbDb90/+VTqdRdMzMzB7u7uye+//3vFwBwK08C169fP37XXXf9LyHEGQBOaXZ/2gHM/GRfX1/LLVrE8FIAjXZy9CAz32lscctDSvl1Zv4nNHgBQgjx+0eOHKn5orJlWSVe3Q3mBVq3bt1LhBDv1Vq/HMBi11t/y8B1NvVLAB/du3dv7Z7t/XuF6KVVkbuHokdfcQ25wfAm8n4arkIUSsfpE9+rLwl7xZK0UXLrBJYi4vQLcFfPffmXevkFQuOD0vF1fgtujOjW9IZHZWsoBgaAqSnl2JwDiV6UgfD9Xe58lfLeH+756kEwDeYKI0qDpsNVdgu5XO5oPp//bSaT2TI1NZXJZrPpmZmZZ0kpT9FaSykllHLiEyulYFnWU1rrcSHEcdu2Cz09PdObN2+eQRuxorlcTm/YsOEWpdRbYZTcOYGIxg8cONCya50bNmxYqZQ6FQ2OyyqlvOXgwYOH0SJb8lsR27dvf3J4ePi/4JhKNOz7x8zpJUuWnA/gLtTw/WS8K58YRkZGzgAwYtv2W4QQzwKwGHNbUG04hBBFpdT777jjjqO1rHfpqjQ9dXD6TPK8KiM62Sa4P3gTby8ubokX5pCCWznOqtbMD7x3i/GqXBdkAZ7UgPs+IOCkvfyWlA95bUbEjXNnYnwcWLpCgrVO9BoekV/kfqdS+cWel3LliYBiZ4u1oTBKrkHLIJfLaThxcGe839auXfu4t81PKYe8845HjhxRe/bssdHmk/qtW7c+tX79+h8y82lofgzGlofW2s5kMi075sVi8VwhRMO3KheLxe9fdtllM3v27Gl00+0ErbXeLIT4EzT++/f7g4ODd+fz+ZopuSZO7pxBQ0NDf0REfwRgmJmfz8w9Qog+tPY8yGbm60855ZS7a13xoWmLBNGZ3otUx+i9eJxVhxGMM7ZJjBYF5yN1sAKJX9ak8walmAC0JQL9EyhldOGeJJQwunFGP7F8iBEGAIrH2e0wDAwAE7PKcZoGIFj9getMLcjryye0C8KTk78jwpdXlFEPzruKtHGuXDO08svdwACuA51Od6KjlVL3CyGmYZTcqkilUvft3LmzZdkAIcR5aPxn6odCiHF3ocigAnp7e2+bnp4+jBMPR3aieN7+/ftrSrs2g8k9evToiwcHB3U4fJFt27Asq+TYrPNwTF36AJxLRANa6zVE1MXMXUKInlbwllwNRKS11vdks9mPubudaoqjsxZ1gyzhM0woZeyQyMjOIc5qkN9nCAVphv5dra/DwEUW4GkNIpHIyEbjGOPkGF33vG5vfqEqxgH0CwlmHcgv9LwAgfy8LcvB8xJ+Htzng6LyDs7DV5AJ1Pkz3gbCKLkGBi0AIcRPAUw1ux9tgOOFQmEGrc3evxgNtscF8IMjR47UxOtqp2Pz5s1T69ev387Mb0Bjtyw/c9WqVbR3796a1dkMm1yl1Hc8r85EzhZWLx0/Nus8EaUBCCJKM7Plpv38bYKDQoi/+N73vlcXL3v9haeokM6crt3wPh6SGdto2YgNJ1DC6PpMoMdYAQCzIhL316TzBiWYmADSaRkwspUYxdhvpTbYcygPgKizTSUGEIo/7P4W2CxH5Rc9H6soZAsdyDv0jAUEr/N+MnFyawaj5BoYtACYeZaI2mb21Sww869TqVSrO1Zajca/W+/OZrOtLpeWgdZ6FxH9KRo4TkT0klo7n2oGk0tEz3CPaOUjgHZSaOMoALhi+/btdYsn23vKAM1OPH2mRy+FGTsPVWxso4wuojaL8fIgYigcrNf1LHRks1nMzB4PMeyUYAMaSsfGM84wVi0PQqt7fzxZjANYJOFroeVscj1EGXIqfZ4q2fR65aWA0obKrRWMkmtgYNBOeHRqaqplnU65GEBj361PSCl/s2PHjlaXS8sgk8nsKhQKjZ6jdfX09PTB8TlQE+3L2OR2JGwhxAf6+/vzqKMTxd8WDlIfBX5ck73qAhHGKr6eEmawvB8o+TwAKJLGnKJOmMAEUkJGx0OEFSwEjGLZ85hHeS65XzoNAwAOIhBD2A43brNciQEPzofLR5+VsM2zZZjcmqGz9xoYGBh0Gh7r6+trWWVuw4YNK9Hg8DREtHdycnKmek4DD1NTUw8T0VFuPNW3JpfL1WxmaOLkdhwUEf1boVD4cj3scMM4FfDtAJ1tqOROvONxUhHE9QSiaYqnnR+88uG4ukxCFcTkr+t5TQsZWWRdxTM+XmXitsa20M477iuJyLb1TsQ4AClFefklygsV8ntpisTG1eHygmAXDZNbKxgl18CgRdDGW+saBiHETw8dOtSyCp1t2wNocOggAPdblmW+ivNAPp+3mXkvETWUWfJsQ2uFsPMlg7aHYuaxYrH40Xw+f7zeje1HMPFmQdEJt4hOwlkESqyGlz/4Bz8NaAoUgKA8AcR8ytAfmO3KdcIEJgCSofF0/mlKGs/QePtpit0PjjJWvnznz1cGMAClUOH5IGhXXvDlTWXkG04Hz1PJeAHGJreGMEqugUGLwDAy1cHM+573vOe1LJMLZ5tyQwdSa30/gFaWSUuCiO4BGmtWxszn5/P5mn13bdsMe4dAEdGYUuo9+Xy+Lo6m4jgVAQMVYXSpHKNL82N04wyWEMjlGruotJCQRRYKOjqelDwe/niGFiTC41etvJMWJWGnOg3jGAfSIWUUSQxt8r9EBpeSy4Pghg9yyhWNe+WawSwDGxgYtAuOM/MjN954YyvP7F+IBntWJqKDy5cvN5PHeYKZDyBqMtgIdE1MTNRsZmhscjsCmpnHbNt+Tz6ff7pRje4H0JsY59b9G6jgNdm1Kaxmo+tud3bSnc/8NRMTmADJVMxG2kVo6zIi58PjE/wdKU+hdKi8Zl4QNJlSwWV7YYSSvCTP3yY34byrmhDlsQAAIABJREFU6KbYMLm1wgK4RQ0MDDoEDxYKhWk0XjGZDzKNVjjS6fRPx8bGzNLvPEFE/40GM7kAsHbt2prVZWxy2x6aiDa5DG7DFFzAZXLLMXhIZnRLGCxEy1dhdMW7L3jgtEZe48JCNiJ/lIxHJRvRcuNXvjykgF4IKoSUVeRXTt7lGPCoTW+JTa5hcmsKw+QaGLQIvLiPBmXx476+vpa1xwUAIUTDbatnZ2dbPW5wS0JrXWjCeJ12991315TJbXScXIOaQTPzpkYzuB72A+hGsFU1jGqMLkcYqDkwuk55SnfLMwE8ftKdN0jABIA0dGg8GWHGMfitJO6tP74UyR+cLy3PYEB29nxlAAPYj3HH5hZhecbu/7C8Ys9TxCt1CaPu1htOMpBCdx2uZmFiASzDGBi0B4yCWxX3P/rooy0dC1Zr3fBx7O3tbWh7nQLLso41wbvymatWrarZDWJsctsWCsBNhULhvc1QcIGQTS7mwOiWs+nEHBldhxEmG9oQK/XCoiyU4AqMbCVGcS6MbqmNNXf4+to4xqGFDGxyCb6TqOo2ufNk0N2tyloAU5Z5r9cKRsk1MDBoC2itf3z22We3NJMLoNHM4IPHjh1r+JbbTkBfX99/o45xSJMghKjpJN+yLOOVvf1gE9HfMfM/7Nq160CzOvH4xLSGwAOeEhp4hY172XUn3/4EPzSZj3iNreJ1GUSAMNuV64XjEwAJX/Y6LP8EL8nl03EvwWW8NC8AJteBCt3zVeRFSfKbp7xBSJlNtjWDUXINDAzaAQ9ZlvXE2NhYyyt0DWZyD2UymQ5fT68PxsbGCo1WEGu9tdjY5LYdDgkh3jg1NfXlnTt3NjWcTu9ZK1iDDvqMEhIYXYTSSGB0AZQrHz8yQQB0ZgMvcWFhUdbfqlwi/wjDGGIUEUuXMPCxdNgmV1DjHRo0AzKdbJPs26wn72AIy1WXLZ/AAkugaIIl1AxmucDAoEVgbHIr4sdKqalmd6IaGm3j2eg4r52GRj9vQtR2XdnY5LYNmJl/KYR4V6FQ2LN79+7m70gZfxToWaY1OLAhDNkOInSM2Oi6ipKX3/ktKBBXdP0yzFJLPq8u12KAieMT6LYyDoMbV3Tdv4GYTairgJW1MY2NY7g8A6BOp8kGBqD2P+HbLAcLOWEb2wR5U1TOnoMqr46wogtEny8AhsmtITr9FjUwaBsYBbc8mPlHUsrmTwyroNE2uVrrRbZtmxvnBNEJTK5BW+CQZVlvKxaLP8rn8y3xHrMXL9fM/ABO0stuSRoJjDAB7KzwrG7O1XY+souyUHSC44fS8edq5YXofCZ3fBxIx2xyT9SGeY420CCgmDLv9VrBKLkGBgYtD2b+//r7+1ticlgNDWZyz4HZkXPC6AQm19jktgUWK6W+lEqlXt7sjnh4clGBtaRD3gRb+4pNqU0mIjaDpTaGfnkRbGsttdGFBInzrtz4QLbJl96RmABcG9xk+c/XRjRqU51QHgzU+H3WchgYgFJqbja1orINc2naya9j8tUEmE967dDhd6iBgUG7g4h+prV+vB3scYGGK05p4135xNEJTK7ZAdIWkET0PK3119avX391szsDAOcdWKMhxN5ycT+TGKaKcVPnwFBpcE+3Tp3flAvucGQB1yY3Qf6JDG9ovCh5/HUkf2yrrrfA0ckYH4esEifXV2ATGd05MMCiVL6Gx60djJJrYNAiMIxMMrTWOwEcb3Y/5oJmxMmdnJxsaHudhE5gcg3aA8wsieh0rXVuaGjoY83uz/3LxxjQBz2GyVOGggl7OS+74Yl7GYarXHkhLFvhgmZfeydiAhMgJDOyVb3+Jo5nufF3zmugJH5yx2FgAAqVGNlK8qXyz4cI8pbseIDhcWsJo+QaGLQIDCOTDCHEtv3797e80ymgOXFyhRBr165dm2poox2CTmByDdoLRLSMiK5ev379dy+44IKmbd0dG7tczc7yj8IME1CZ0QWijFOc4apWngkWSbqk8Vfb+cjCs8mNOv8qxzBWthmtVD6wye10l3fj4+NQEkE4JszPJjes0CYxwEkMuxbCMLk1hFFyDQwMWhkPKaV+vXfv3mKzOzJH3MfMDe0rMy879dRTzbu8DWBscg1c9DPzxd3d3V9vpqKLbHaKwY8nMk6owugBlW0O4dnoBuVBJDXjue/e+IiJl1tjODa5IjQeyTaf1RnGwKa3mk0ud7h75YGBAQAVdiwIiso5znhX3PGQsEPCVaSRMmvWtUJn36EGBgbtjh/39vZOAmiXmfwMGtxXIjpHKWV2OLUBjE2uQQjdzDzS3d19S7MU3cLErAaJX5WPA4rKNrqhfHOOIyqoZ0bPvqnxV9v50BH5h8YpwhjGx7e8zagO1ZNkk6s7ncsdHwekTJRPtecjYMTLPR9ILM9SAMV2WdNvfZiJ0XzBTLgWNAiIicdB06eBprBPrOxbTZMKwu4BqeMg1Q2yD0H09kEcmQH1pkE6DerSEBOTU6LL6iFOgbQF0lMQGQvEEqQAwRKUYgi2nd/0rPNbWoA0IFiAJENAg1iB2P0dAmSpYjDjKboD7O99sJFyf0fKOaYQ/GDZwYlU0c3gnk8VUyiiiBRSgA1YbrhqC5FszgJU0QZSgBV6Th2P6MUgX1imRcCCDRtAd1AcxUj/3DosuO0H15Eqhi6omELK75ANy3YLwAKKNlJuz1N+uwiuwwZgFeF7b3erCfpajFwTbO+cHcnr9cbvp7Ynl50y/T+XPnTpLCrAxMlNxP+ZmJhoC3tcAJBSPqm1bqiDLGZew8zmXX4C6ASbXBMnt31BRN0ANriK7pt279490cj2Vy+f0k9OZX4J0Ej4d8820PkbkTiq3m+Vz8cn8uHzlAJZrwbwiVpdh4ELXzENFhiAQJkK/i5VdD3E47dWipMrZIfzZAMD0FMHHZt1F/GFHcQ+IUkLQKXydRj3cP5wDdRjmNxawUyM5osxiJesQfqRh5Hu/z2k1TRSXenV6cPTSFMK6eIxpNLdSHPBTvX2W2m7aKcXZ6y0zSptFWSqoFQ605VJs9JpYpGiGTudskRaASnBIk1Kp0mLlNY6DRJpbeu0sCjNrFOKRZq1SgtNacVIEVGaCSkQpcCcJk1pBSkEAFIaUhBYK5AUINYQENCKISwAGpAEaNYQbAFaQ5MFaAUBCUU2BBPAGgQLNmlISGitICRgK4IEAM0gARAzKAWwZkgpAFvDeeMqp11oEASgGYIAzYBgAOyU11rAAqGonX5rrZGyAGgNAQloBksANkPAUQiFJMD2+u3mg4KGcLR/pKBIgVgCWkNKAVspWABYA0ICSjMkAFYaQhBQdD4OxBpCAKydtUrSDAEBxU5+MEMIp7xgCQinX0qxo+B616kULIi/e/ShUx+ucmdNCiGU2XoYgIgemp6e/umuXbtm20X5LxQKj1qW1WiTmt+zbdt8FU8AjV5YqgeTW2vF2aDh6Gbmpii69+N+dQqdv5uh30dwbdTDE/JQ2jmPqMLjpwnh8t7PjKTyLBk4962v/d1lN31n1eb6X+UCQRbg40gcL3Z/Do8fgcDMvqKWPP7w93sG9QXnVYdPV8bHx7F8WTdYU7J8gJA8o88DKOn5CT0fJeMRKMbFYqEBV7cwYJTceWJwL2hiJaiXIYoaQjIsmpm1kM5YXEQqbSHNtp2REmmtVVoQZTRUWhAySqm0lJRWrDJSptKKdUaQSANIEyHDWqcJyIBVGkKmwZwRRGmwzhAhDdZpgsgwkAbBOQJpaJ0mEmkwZwgQYHYeIM3ep8fpPLufImYQOx8g4f8O53f36D2gfn5yNFPy8hMQ7FTx6mf/QfY+cN6LlMLtu/md86EO6Fh5Zgivfb8f4csJ54N/Ptxv7w0f7rf33mEdLQcdLh+7/lD7HK4vJje/vF8/QUEvfcayGYmny99XS5cufejw4cMVmd6FBmbebFnWISJqm09pPp+3h4eHnwDwDMBZD2kAVqVSqYHR0dHD7RJmqVXQCUyuUsrsAGlzeIxuV1dXQxXdsbHL1VWXPb4LmCnP6PmMU5S18if4MYbQgzM9KFOe0MM2vx6AUXJrhQlAC/KHILxVHAi20npI2nIbjB+VlCllHNHxBo8DAwOYmjpYbkeCz8YCCYw3Ifl5csslMuReOWOTWzN0+C1ae+SRBwAcxVEAwAxmgEwGswCQ9natWrBtBUBCwT0qDQjAmYFKf0Xf4QmFmxZOgG1XMQRCWxu0s6TG0M6LiQNF0XlRuYqpn0bJnv9EW4yEfMEKUygfl89frV6qmo/C+mjVeqmkv3O7rki9idc31/7OoZ+h+gWJZ0/OFjOogLGxsQIR/ZyZpyvlW0iwLGtru3hVjmEc3qPeGFha6/MPHDhgvozzRCd4VzYKbsegm4hGenp6Pt7IRnu71CRD31kuDihQzYssovnL2CCG82uGxRJDb3ztb/6wkdfa0cgCLJAo73JxcvUcxyuajt8fnYvx8XFIIeYln6jTqVL5cklc3CDtjQeMSW7NYJTceWIQgwCAfvQDALrQBczOIgMAhaJvo2m5W2elfxTOlllX5M7/zhbi6NF5aZB7nnwmkty0CJhFcPR8mKkFogwmAoYxwjwm5kNpPirNHzCa8fpijG/VfByrbw71Ruqv3M959bda+zSf+tz8is/Wqe4uVIHWOk9EDbXJamHcPTMzc38beVX2wcw/AdDQ/UZENGJZVsWFFINSdAKTa9BR6GHmK4aHhz/aqAbHcUwxyR/GvcAilg573XXOe16WqbKXZT8d8rIsiBhYLDn93kZdZ8djAs4CQoK8k9Pu+IgK41XOa7CIspidioGBARSgE+QjoEWyfLns/Y+K46GFowBrAEWzXF0zGCV3nvCYXOAo0BtnclM+k+scQkwuNCCEc4S7lUeIgMl1z2t/0wIcBtdnaL20a+uayOB6xxjjCI+hDBhGp/7yTK73h18+xuS6xSP1lxjZk1su4XzkGDQX3cIROp+cDur3z0faQ9n+lq2vzPkIQxucrt5fBphwDtvTVZVcy7JuBfA4ES14TzLM/I1sNnsIsSFpB1iWtY+ZG22Xe4nWehmCu9FgDugEJteg49AP4B0jIyN/3IjGzjtvjW2zvv1EGNn5MbpxxktYGvrSN1/+2GWNuM6ORzYu//KM4Vzi5HKF8Q0Us85WIcbHxwEpSuSjy93/oQWCEgbXZ3jLPT9ufmk+4bWEWQaeJwYx6MQj6+8HJkNMbioDLgApC2DPra4dZXKVBqQAFBSESEHpEIMrhOs8yVNgRYg51CDhHh23S76GFdiKhhjeODOJUsYRkXQZJtezwUUsHdL8Ktfvq+OB7WvS0a8fsfqD8+E0I9bfePux80n9Rez6EGq/fH3x/lTob7T+AS2tc67H7Y++F+U9LG/duvWpoaGhTQDOBLC0XL4FgJ8B2L558+a23LqtlPpvIUSxwQpUj5TyFYODg4/l8/mZRjZsMHd0gk0uM/9YCMHh+9tZQOWSYzPOa60HiOj0Oouh3liqtb5+ZGTkgW3btj1Qz4ZyOdLvecPBX09OTvwaAmd7v3sTdAChBePgPvMm6NHz0brD3mcTyhOIlmi2r71y4wP5r956jtnFdBI4PgGk0iLZJjdhfPzxLRkfCqWj+cN5FwqTO1E8iMBbuCOfcja1pTa6ofs99o6OyDMyEYbRzGoII8p5Io881mIQR48eRV93P2Ywg+5MF2Y1kE4DRQ1YsGDbs7BEBgoFSKShUHSZXABCQitHo9LQELCgtQ1BFjQUhPfBhsdwCsdLMkkw3KPWri0qh46ITQQChTVgYksnCvF8ggDWsYmFLs0Pv1zyBMRjOkXVfE79iPWjXH4RzgcE8iq5vvj1h+rVpe1Hrj+pfe8mKHf9/niF6nf6Y5FWly5e0f9jPIX9FW4vTUQ3ENELtdavdJ2RLDQcl1LmhBCPIVg+aCssWbLk/sOHDx8G0Ghm9S22bX8HTqxegxZEJ3hXzmQyl09NTanu7m5MT0+j1Y5dXV3W1NRUqqurq08pda4Q4lyl1DlCiHMBnNtQYZ04iIhOt2373zdu3HjZrbfeWlcF8Mn7npzpO7v325rwQc9ZJGLfVW8C7i2EI/Yddt50MS/L7sJ72fKAIKKzC5mudwC4rp7X2OlYlAVmimH5e/ORQN6AM0KBl9/QglF4fNw/4vOnQAH2xrfBF9lgjGMc/ehziKvwgk9knhq6nymQP8WeHw6KJ87LffkTjE1uDWGU3HnCY3L70Q9GnMktImWlwECiTa7SGtJncL1gNwk2uex/KhDx7gsdZWzhMbmOYuUwvV5+JDC0joIYMLLlbFHjzG1yfuYqDK33IOtq+ThWXykzXLa/8X5G0qUMddX+VmrfEXiEcY6fL1tO0PrCdOHTQEUlFzt27Di6bt26D0gp+5n5IgALzc7yEwB2bdmypW196I+NjRWGh4d/CmAVGjh+zPyHmUzmxWvXrt25Z88e85mcAzrBJrfRcXJ7e3vHb7/99nbw4i1GR0f3HjhwICOlzADICCGWa63XAxgCMNzk/lUEMwshxIunpqb+BcB76tnWeZevsR/+2W9vFUJ+MMJAEflxV/1+uQwhgLKMlpc/yoA5GUsYQaAbQv7lFX/y6E++8e0z8jA4IRyfAKxuL06u857x2cWE8Ykfg/OhMaoyvg1dwm0CBjCAI/KwT7WW7mwIHUP3dFy+TMF7P7kcRc6T0cxqhs7eUF8HRLwrl7XJBWzgpGxy47a2AAASYHZsckvPBytzbqrkBUWhlbfog+jVH1BnwQpTQn4veyg/Es77K17x83Si9bWWTW7JB6BMfxkAM1anU9al1+P2PlTBRRdd9NvZ2dmrieguAAslrNBxAP9k2/ZNL3nJS46gTVncEO4lokaPXRrAa08//fSq9t8GDoxNbkdDj42NTefz+SM7d+58aseOHY9s27btvlQqdQMR/TkRvYiZPw7gsWZ3tByYuYuIXr9u3bp19WwnlyPd39v/gAZ+mmijiXAaZWwKEeSPl6fS8r7NpwAxYSVLfHLjxkdOq+d1djIWZReF5A1fgSo7PmK+Ntfu+bCTpWZdbIMwjnFAysj1ztnrtDsOvpOupOeFSuUPIkPk1hBGyZ0nIt6VJ+PelRF4V47b5ErHbZoTOFO5Nrgoa5NLrkbm6K8uFRqyyQ3Oe5peKI1SZhZABcbROw9/qwpRLH8sHc4fpJPPc/x8AgPqZaxcH8fqK1N/2etHrL3k9svXN0+b3GjagtZvP6U/uwxVkMvl9Lp1634D4Gpm/gLgxqvqUDDzz4noTVLKL+bz+f25XK7tHW8JIe5l5oYvUBDRn87Ozp6Vy+XMu30O6AQmt9GKeptDb9my5dj27dsfX7x48X2zs7PXMfNFzPxuIvpxszsXh2tjvEQI8ZkLLrggW8+2ZnuXTkPwpnl6SS7xElu5PBLyE5hIMNHv9faIf7vyygfqep2diuM4HnIaRVBR+UbGR1cYX9+pVEl5uB6FQ4pahztJGsAAtFKOfEQ5eTqekRPl6eUrvd+dMonyZxjnyrWDIcXnifz9Y7xmzah9bBLcm4U9PX20cAr3W4c1ZF8vrIkCZG/asianZ63uVMZSgBQCllKQIgVLFWGRFJatIYUUlraVlZJSFm1lWRKWzZAWwSqqomXJlGRoi4SUrLRFApaGtiQJqbS2JAlLQUtJwlLMkgQszSALIGZ2FWgVbHEmgNnZGq2hYbn6sRAAbE8h0xAkwIod9Zs1LMCxMQX55R3NToBZQcBhmB1bXsdJFtuBQur87m1J1kGaXNtVN7/jPVqBWAQ2tVq7Nsk6ZjMbtvllsNIg4XifJgI0MyQ5/SXhXA+TALFy2tFePg2LBLTSkO42nYhCz85/jryEU68AtO3Ig+DUDzuIe+zVJ4hOZeKLCehz1yGeWxDqrZsG7vnU5eMvPVTpPsvlcjqXy/1m69atH8tms99RSl0phLiUmVegQxaniGg3M/+nEGJHsVh89M4775wloo6YsY+Pj//y9NNPf4SZl8Jb22oMskqp3N133/1mdPjiSC3g2Uw1Cp1gk9spGBsbUwAOAzg8ODj4NSnlrUqpVwshPgCgZRxXkXODntPb2/sxAHULufOlL8F+42vxDWHRh5g5G93C6tkG+eu3PjPlLwy72aM2n975CuW9dXqBDEAj07PZ9wO4pl7X2blYBE3Tro+SgC0My9tBko10kAbi4+mVp9B4Ofkj0UA6EOMAFkkJxbrEpjaygy9u0xy+/ymaP/y8eIaHkfJEKAqj5tYKRsmdL8YuV3vHWINRxLUgoB+P3A8aHQXG9ubJY3ozKzM0/cReklgDANBLQRqAvRiE3wF2n3PLr+iXhCcAq1cSNECTICwH5HFJbANYJmBPgnThKEEtwZIlAgenQIuFwKEZUH+/gJ5xLDDUzAQRsu6GaAmNCfQhi2OYQJ/IAphwNjROAF4SADzjKgUgS4QJMLIpAo4Bsk8Cx5zz7NZr4xiAPoCOoU/2wc0ITBwDQvV6rz8b8NWyrHCfdIucfFn3CNcpF9JQNAFIp6Kse0QqCxxzKvamiY7tiVN/X0o4vZLCrRd+vYE8gKyQmMAxZEUfJo4dQ7avDzh2zFfbPTkot899Au7VClduztF7USmv31I6/XUbllYWambqDwDxRwz0uR90i4j+fGbKvuv6Z9+ef+9D5T0tA46iC+DQ4ODgj7PZ7IOzs7MfY+YXAvg9IlrKzG05u9Va/5yI7hdCjBeLxcP5fH4SADeaVasn9u7dWzjttNPuhOPopqfBzW9g5pcY29zq6AQmt9E2uZ2IfD5/HMDxwcHBm7XWd1uW9TYA72p2v0JIa63fsG7duu/dcccdd9SjASLi97znfw4d3i++AaJ3er8730XyJ+nelkrv74jJTtnzYQUqWlfMZjQLxjsvv+Ixvekbp19bs4tbEDjuODUFErwmB7lKxyOcphKvyeHygQ22p9C15RRkzhgAcABwmSAHURO18vL0bG2T5F/JC7OOZjc4SRgl94RAHu3pL2ONjTnH+XpNGK9VlwxaDl9b/sNTtCIr/MJixkom/NOiQ+lHOccPUK56TNx8Pm8DeBrA04ODg09YlrVDa2319fXh2LFjZcu16nnLsmb6+/tnXCalYyGE2K21fisar+R2A/jokiVL9gJ4FKH3lEEUhsk1CCOfzx8fHR395YEDB65JpVI7mPlfAJzT7H4BABEtJqJrN27c+JN6eVv+3Of+s/iGN/zFLVB4p8cwsc8wIYGxcv+IMIYxRkvEGa6gvRKGi0EQtAzA1Zdf8RiMojsfLAJjpgKD6DCOXDIe1Rhc92QCY6k6/MsyjnFkRF+wIyF2v4adspXIsyKDG93x4IHhbK1UqqOnRg2FUXINDOoEmzEggXRkZZQgNON8Epm/+coNOz8I4Kn51OnGQDUhYtoD25n5t0TUh8ZuWQYRvQDAO0dGRj66bdu2yUa2bVAenRAnt9PhLr49PTg4uIWIHhZC5Ijoj5vdL2YWRPTCycnJNwH4Qn1ayemJidfdn+3N3qrBGyPOFwlRxs85JDp5BDzGKokBDjEEIRY3VJ4ALGPQ1aN//gSPfW3lR2p+mR2J42BhwWNjyzG4cS/AASiBYQylCSjPAHcqBgAcC3kJD87oRMY7pOCGdiwE54MV5xIGmABvy6NRzGoHswRsYFAnCIjnaOJST7eENDP/qdSZj9yyaPepTeiaQQOwbdu2SWa+owlelgHnO/nOYrH4squuusoY+LQI6sHkGgW3Psjn8zN33nnnr4QQVzPzvza7PwDAzN1CiHfX0wnVC1949qRi9clIGBQKHEaFvfB6JkNeutSLL0L5yVd6/Qk/xcuTa+sJYqJlDH736J8/9eF6XWtHIbsIGiKi4IaPjnOjYPxKxldExyNaLmn8CdwZLjQqQkkZub89eYS3KofvbxYUeS68+5yFV66M/L3nRRCmm3CdnQqj5BoY1AkMPkcQdfmr1aF/RFgE8OvtLvufb1lhFN1OhWVZX2Pm401qvl9K+W8PPfTQaTBmPonoBJtcg7pCbd++/XEA1xHRB+F7nGgOiIiY+Znd3d1/X682cjnSSnXdp6G/yeW8xorQhL6CF1/PK2+0PFXw4huqXziKrib17j958xPXbLzygPG6XAkTxwHPY285+YqwF9/QkUSJF2D/KKjM+AMQDd2g1Hic4RwiYZNK5BvIQwvv/hbJ9zlRqfyF57XaPQ8gZZalawaj5BoY1AG3YGsvgZYpsOU730DgiMM11VjEwOuV1t/4j1PuPIdz7elIyqA8CoXCAwB+AqDQpC48Rwhx4+DgYH+T2m9pmDi5BnPBzp07D/b29t7AzG9CkxVdOO4j37Zx48a6xZQdG7thSqZTn2CiiWQGDwHTF2MAfWWghMGlMoxvsBU2IT8xiWWa6D0pUl/ecMW+lfW65rZHdpGrsCbLl8vGxaUIM1ktjmswvgIKHe707lEAMi4PJMtDlL+/dbn7OyLfgPk13iJrBzOpNjCoA+jUnmcz0O14H3TeeByjcx338WIRa7wclPr2zV/c/bpbVmztbWrHDWqKfD5vM/N/AU3bgSQAvDyVSl07ODi4qEl9aFl0ApNr4uQ2Bt/73veOTE1NbW0BRZcALJ2amnpP/ZrI6cJk8SEQfTE57m01BtfNL8swwEQJcUfLMcYgJpyimS7rTnd/5zVveeLl9bvu9sXEhLfgEB+PUsYxEpc1xkyGyyfFcfXTgqBlhzO5AJSCf79qn5GNycNnyEWJ/D2WtlR+COLrxhj0lKFyawaj5BoY1AGzjLVM1Jtk41KyYiqQVuBzNePTBd1zy1eW77r409jU3cTuG9QQvb29m5j5YSJqlsvEjNb6LVLKjxpFN4pOYHKNTW7jcO+9904vXbp0K4B3N7MfzCwBvKWetrmbNg3MaLKvB8lfl9gQopSxKmejGC3nKggVyntMcQID3MOEF2lL3HzZW5+6zmxfjiKbTbaR9rbAlo5fgo10Sfn4+CFwXiWAYI9aByMdkiUpFLwpAAAgAElEQVRQwQaXkud3FW1wKVqOAEhC0VC5NYNRcg0M6gDBdC7gOJ2aixdKIggwryDCpQTc1L/8tK/fdOquN9207G7zIW9z3HrrrRNCiC8xc9O8HBNRFsCVRtGNohOYXIPGYmxsbNq27e8C+Kdm9cG1zV3a1dX1pjq2weedNfAUk/6XEhvOBJvcJBvFCGMYK1fCeFUp7+a3mGmVEPQ2SP7BxrcdeF29rr/dMOHZ5MblK2I2oCH56sTxCzOQyTa8WghoEEAdzuSeASjE5ZTE4CbYQPvMb0x+FRhcFgQFAIbIrRmMkmtgUAco4nNYoKuyDVJCmtHFhNOY9CtBdJ0WfNdXVuy66Sun3v32/1h594WG4W1PTE1NfZOInuIm7i0NK7ojIyNmWzw6g8k1aDzy+fxxKeUXtdZfbFYfiMgioqvr2UYuR3a6p3szg74Zt8nlst8zZ8KOsjag5b5/7nmRbAMasgEmTehnQecz+NOXvf3Aba+86sAr6ymHdkA2uyiRIS9nUxuMT5XxiJf3nU5hAdjkjgMoIw+XwS25Pyn0DzH5Je9QCBRmry2DmsEsAxsY1Bi3rNjaO8u0Cox0Upy0uaWpixldBFoG5ucAvFEpzPSdetrUV/hujvjK5Wg9tUwT0T1E6u+vfPKiA5Wv2qASdu/ePTEyMvJZIvo4gL5m9cNVdN+ilMLIyMgHTQzdxsLEye0cbN269dDQ0NC1zHw2Ea1rQhcIwOr169dv3L59+631auSbX/zs0dE3v/cTNhUHQTjN+zhU+n55k/ekuKqVdjQlx9V1oEFxWsaCoJVgnAKi57/qHQd+qQW+bs3g+7d+dXmznYM1HBNw3i8RJ5cheZXIMyTr4DzKyt9TcIPxJ0B0+HblMwagD88AxFF5EPwtyiXPQ0R+QVWO0uv9QNHzseehKDtcrg2EUXINDGoMm7MvINJZAMTsvAc5rDjCSXu/VzkviKiXGb2B4hkrL2Lla3hegwcA+ZMvLL/z61cfeEWzQuF0BLq6ur4+OTn5F0KI57s2dc1CHxG9hZkXXXjhhR+66667niRaAAEPWwD1YHJrrTgbzB07d+7cPzw8/FfM/AMiqpu34wpIA7gCQN2UXCCnMTn6a+pf/peaMUYImd6UfL/I+X6BQURgDo5xhan0+0eh30vLe2xj/PsJQWkGD4DEqdD6hXaG/umStx/YRpbcaU3v/+GtXz1nwSi8GoCg+PgkyZ/Lzj8QkzsRgcHB+CA0b+hwIhePAugXYK0iCm4gnyT5ReVeVn6xcQo/PzAbdGoG83U0MKgxFPEfMtBbacW6mo1uy5wHesH8t2mRPj+HTem5S8EgjltvvXUCwKeZuRUmXX3M/LpMJvPVkZGRtaOjox1uXJUMY5NrcJJg27b/WwhRt7i1VSCZeWj9+vV1VbDHxs4rTE/LbSB8SrvbkcvFuVWE8jagVD6Oq/a2bCaWF34bpe16+TjNglYwcC4EvVWz/lKxa/mPNlx98KYN7z70jpF3Hlg7muPO9kcwFxtpgcQ4rr4H4ST5U4INKeBoup2MMwBAz9MGNyr3iE00zS1OtKEfawcjSgOD2uNFTOj1VuziDG37pWkVoP/fVasHrsjtyz2YQ67T12/rhgMHDvzXihUrXq+1HiaiZruX6AXwCmb+zuHDhz/x5je/+T9uvvnmmSb3qaHwVtobBcPkdh7y+bx9wQUX/J+enp5vMPMVTehClplfC+Bz9Wzk9m8snXj1W5/+NEmsZfBg6Q4kl3EV5KYRYRArf2/IZ8ii+UMMWJkdT55tqZ9fEAHIEpDVwEoInAnGZWSJ6WMHDk1f/O6DhzXoQQiyNav7pBBQWqPaEVYKWisIIUuOrLloCbqvyGzrxf0P5nPU+F1PWUBPuHKiYDwi8gQ7W8JROh4BozhH+RNBdXj4skcfBVYuEe53Au6OgnnIr4TB5YT8XjJgfheC0+pGwSi5BgY1xC0rtvbOgH8PQHclm6X2SrMA6AWFafX5lcte9UY8nXsCBieEX/ziF5MjIyMfIqIXAVjW7P4AyAA4k4iufeyxxy7asGHDdX19fT8fGxtrVrijhqITmFxjk9t87N69+/jw8PC/AHg1gEZ7xJcA3oA6K7lExLkcP/nT3z39PqToW0x4bvx7UcmmlkEJNqKhNMXze2kKhW8pLc+V2nN2f/aC0AsQ4JjmKAg8n8FMJDYqBkhIaGYQCSgQIKTj5TZ0hNbuFlQNIuEevTRxETwNAoujR2fW/fXhgyDxY2L8qMCFH+767PL6fzMnAAjXdpmS5OGOjyvESjahwfl4+JvQ+QXwzul6JnThMCaFCMsPACrb1AIx+cG5H8PjEb53w/k1GNLs0KkZzBKwgUENMcFdL4AQiwEQXA96gS1HwrF9zlskxYVIz37oa6f/6JQTFI8BgNWrV/+CmW8E0DJOn5h5OTO/2rbt7x45cuTDL33pS09l7nw/j53gXdkouC0BPuussx5i5k80oW0B4NyNGzfW3SY4lyPdvWrZr1jrfwBhotSLL/yJfaIXWYTze4qtu0UzplAFcUiTTWy8rZ+lipjnBTioP1JOQGqgx4ljT8uIaBkzLwPRMiZaBsIyBpYxOf8iacDJB17Gfn5apomXg3AmA6uYcDYDL2bwWzXxZyyZuuPlf3PkxnXvm7ykroOTVbYG/Q8ESuVP7pblkAIc9+pbTv4eUx6Ro1euwzWIh96LQspK/48vDyB6P0fkF1JsKdjSHF4giMjPv/8pWk5KFIvGKLdW6PBb1MCgsbAs6w8B7vVeiP6/8IcjfGyn84w0GFdMs/2RzxtF94Rx4403Fi3L+hSA+9BaLia6iWgVM7+3p6fnB+vXr3/fyMjIM3O5XMd+JzqByTVoDdx4443Fnp6eGwE83ui2iahrcnJyfSPaGstRoSdN2zThb8I2msHEHglxbkWJLW5pnNyk8lXiuJax4dXStTlNKi8ooX9e/NcK/RNU9vp0yMbVUcyFZKIsC3qGBp0NgdcrKn7p5e8/eusF7ztaF2V3+qDWJMShyHj4/StjA5pkQ+pdn6vEJslf++FzOvbT4IK4SLOFwFY5Ps7lbaB1/P4P3Uf+eFCp7S5DAynzXq8VOv0ONTBoKJh5EIQsgl1B8P/ujHSWgDdabH/EMLonjq1btx4SQlwD4Fiz+5KAxQBeAOADSqkdu3btum54ePhluVyu4768ncDkGrQONm/efJiIrm90u8wshRCvalR7YzecOpnOWN/WxNcGjFY5BpdcpraUwXWY1dL8XtpTFOYVx9VnlMu0l5ifTj5ubEJ72jlPTKKXSZzBoBEp8O8X/t3RWy7625nn1HJMznzm0mIR/GBy/0oZXL9/7mJCCYNOZeThMeRCdHqUXACAJXiGgV/EGVyIBPn5Cm6Z+5HK309M3sKBhN1Sa9/tDaPkGhjUCF9csftUED1XA5mAAUWMEe2IdBbAGw2je3KQUu4mok8BaMXQTALAKUR0FhH9BYBv7tq1a9vQ0NCHhoeHN1x11VXNdprVlqgHk9toRd2gIlSxWLwJjWdzJTMPNrA9/t5nFx8laX9BM38kzEjFGdI44xVmSLWMM15BeSVK80frS24vzuDG2yvtn9teGQa3UntO/5PbC/ofUm4EMgw6g0m8Vsvid1/2D8ffUqsBOXAMRWFZ90euz5dvpf5RVB4CIYZcROURul4GFoQGUZRdMxB0f/x+iN4vpfdTifzKMLhxr81MgGWY3JphAdyiBgaNAaXEy5hoMbygo96HoMwKcJufz4LojdIwuieMLVu2zBaLxRuI6AcAZpvdnwroA3AGEb2MiP4awE0PP/zwL4aHh/9z3bp1H1y/fv2bh4aGXjIyMnIGzDelIoxNbudj+fLlh1FnJ1BlsGhwcPAPG9cc8ZbPrXy6p7frCwx8OvH74U7gyzKkXj7Evi+hfOUYyPI2pNFyUQay9PvmKxyx/kVsTxP65zHX5W2Mk6+PJRGDexi0hpmvveADk/8ymNt/0qGN8tdAqSI/zIKe9BnFSPuh66vUP6KYfENyiDOQJ9vpNkB2KaYV9J6KNriIyi86fwotchASng8qub9sY5NbM5jlAgOD2uF8EBaFA9uHjx6SFMg2PZ8F0RunWZ31hYF73nNgfNvDJrzQ/JDP54+sX7/+H4noNGY+H639Tk4BWOL+AzOvEkJcwswFIppVShWHh4cL7rkniOgxImrp+4GZuxrZXj2Y3ForzgYnh7GxMT00NLSJiP4RDfS0zMzSsqwLAfy0UW0C4P/65KID695x8NNC8nMJ4lXRib97v4fWYcIT/yAd/b6Ey3GsvI6VC5dnr56YgusrvgnlnH4Ez2VccU3sPzxFXJT0L7z7Ke7l2KmPvLQA0wATXzVb6Dl9MLf/6nzu1BPf1UPEInd0ShWtn5Cgy4LrpMT+edfl9y/yu4j1P1l+JDp/gS31KKaxKPMjVqpUHnORX/h+Rez+8wYmcv8zWnsa0F4wkjQwqAGuW7G1l4mHtEY29J1tkTi3dU1nIfAKMN+w4swN1+YeWfOTHC4vzFlwBrjgggt+s3v37g8T0Ve11mdQm1BzRNQNoDuUDp9+NhEVvbh/LXy0TJxcgxqDf/e73z32zGc+cwczv6ZRjQohhNb6QgCfaVSbDojv+Hd+/NL3HXn3rK3/L0F8GHC/D94fKP1+wH0OvQm+c55jcW9j5REosn7+sGJb5nvFBNQ9bmzoehlU0j8nP8fzE4iWMvGrp+1enKyiW3h8cia1YvEORbgsaD+pf6XyACFhPOAvEJTIjzo/Ti4A5HNkr/nE9CMsU/cy4yWBPOcov3nCGSfD5NYK5utoYFADdGf6X8qMU4mCZ6pkhbdD0wxkSNBFrPjLy8847TWfHrinGwZzRi6X05Zl3a2UuoaIWtER1bxBRClm7gHQ08rHRi8oGJvchYErrriiqJTa3Mg2mVkQ0e83ss0AxLd/avEjaZ3+PAMfqYtNrefhOJY/2Eqb3F6iDSQFXofL94/K9A+x89H+aZcdjvdPEUptXJ36iIn6ALx6xu79/JqT2Lq850srp2e4uIWJjjv1z9cmtLwNbjy/53xqISCd6TqmmXdG76/o/ZS8423+bTGMTW4tsTDuUAODeoPxCibRF92qlWCj1KnnGRkW4mxAfCYjxIc/3r9rST3F3WnYsmXLrNb620R0DYCJZvfHoD4wNrkLA7lcThPRrczcyGeZACxvRLzcMs3zls9ln5Yp6wuaHEU3ycYVSTaubrqsF+aYIhH5/vi2p1Gm0lM0Axvd2Pcr5nU4Ynua0D9/a3OSF+Y59Y9K+sdB/4iJ+hTh1Yt40cdPfAiIly3q2w/WY3PtX9x2t5wNbvyovPFaAPjZURyT0voumOse255gbHJrCaPkGhicJK5bsbWXwMMA97W4DW1dzzufRVoJxjv6+qz//MKqe16aW7MpXUF0BiHk8/njlmX9BzPfAGCq2f0xqD1MnNyFgyNHjhwjoh81uFlramrqzAa3GQZv++SiA6JLXs9aX8FEE/E4ooFX2hhDKlAah5RCcVkD5jPmFTlazi8vouloHN1Sxrg0jmxp/8rF0S3bP5/BTahfUKw+EIj6GfiTF334xL0u2zP5SS3oRiY6XsLgxuLgRuMMJ8iBonILy4GJwQvAJhcAkCM9q48/BqLv1rspY5NbWxgl18DgJNGd6X8pg1eAIEpWeBdkmhczYR1DfPmUY2e8/aaz726Y85V2x5YtW44BuI6ZxwDMNLs/BrWFiZO7cHDWWWdpZt7VyDaZWQJ4SSPbLAXxzo/3HUxbS76nSP0ZEz0Y9oqcxOBG07Hvibc1NiG/Fx4n6XvE5eqvV9zYMgxu0H68fyjtH4E00amaxAde9LHCCW09z+deYc+i+CAEj4XbSpRfUv9E1Dt0iVdpXx4CGgvHVGJx36LDNun/IKCubK5jzW3e67WCUXINDE4er4IQi70PG/wPwoJOZwCcQ1J8aHo69ZXPnXXP83K40yxPzgE7d+48qJT6ADP/bxhFt6NgbHIXDsbGxpiZ72tkm0QErXVPI9ssh22fpEm56OhO0sU/Z6IfxuPGzsmmtpxNKAHKZX7nZfN7InFjCTgRm1Xlp8v1LyYPnyGFYCFXK1v//+ydeZxdRZn3f7+nzjm3b6/ZN9kJURNlxKCOG+kggoKMOk4igmxujDrjhvs4ctVxXFFft1EUURb1Td6ZERUcNNAdURmXRhaJCGGRhCwk6aST3u6559Tz/nHOuVvf3kJnga7v59Of6rpV9dRy1uc89VR9fH/Hfi7a94LmCiupb+5k28fR21e73ZKZwjPm8KbnEpaMendb2G8cyHoU6nxypxCn5Docj4PPzf/1PBCnqKJVgfJ3zUbhNEwXhc5V6tmIeN3sY5vf+pk5zqo7Ebq7u7flcjmn6D7JcD650wobhuGvDnKdYox59kGuc1S6C8cOo33WHyLYN5L8UiMf18o+oVUW0kyxzPJhpEVxNB/X+nLVFlxbUz9qfVDrLLgj28dR2ldn8RzHB7dh+1jfP/VBvuBZHx+6aP/GnZEf+Rti4FOTbl95XMZoXyYP02v7svv60WvU+y6Auw9UHc4nd2o51J8LuGqNyj0bYDraYTbu3WHamuaaMIBpGoYJPJjIg/FCmLgFJirBeCWYWEPPCwKJIxjx4CkgEkaeFRghjLUw4sNYSyOEUcLQJqHQGGtjozSGiD0CRjXNpxALeEoYAYwqDAlDK0ZpEzma1EeKUbWGgIHCgElIglK+7hW0gGj6g02+KlABsYkaQAtAbfK1wVoIBExDlMtpWsYmi9lZpHK1LJcYRU6ahVYBRVV6Wk4ByVQSa2EAIE4XzbMWtFLVfoUBYGNAxFb6Y5HWo6P2ByoQWGT3RKOalE/lVMvI2oWq/ooFCAvR5IekHi33A7BJnqo+QpH0Jx1rsRZE1h9J5KdyWDUuZRlpmWR8a8ePaX8iY2ZE1ONJlj8YjaYITtd0AHmQy6D2X5tavZO+2nb7x3Y+dNKmAg7vPVQPNTfeeOO2zs7ODxpjSHI1gIO6p6tj6nH75E4vli5d2v/AAw/8heRTD0Z96bZYh4UlN6O7wAiqD77gff2fkoC/t1YvA7kkU5QANljjoT6sSieQPLFZky9LQ105BcqLRSXya8uVlbqa+llVD4DK432U9lXqrSiQtQo1quthbT3pG0alfQAVOkNF/nFpQf/fhgInva3Qby/DvpM+aa8rQU6h8IyR7Uv6tV/tS48HZfpYcgEABdp9X9AHWiD/hth+B0TLVFfhfHKnlkM7kqpY+7Fudh7dKVsfgzevfa4/ODTgz0aLVyR8zcHXYXixgR8VS37O871IIz/ni1+MIt83nmfj2CfhW0PPePBtBE+M8W1kfRr4sbW+Ec+zsD4JP7bWA+hTrQcY36r1ReDbWH0Y40HVNwpfAU9gfVV4EPVV1RfQV7W+0HjWxr5QPIV6IHyo+qR4UBVlolQm9wFNbghpXG2yg1qqZkHVQtL9toRSlZ5ozNZaGKZiRKA2rqxKTpTlQivyhYRam0xdShVOpUKUSXpaH4lkqluqXCblFJLJQaJQKglm8qxNNgDX9IGa/q6poqhakS+Qcjzx3SCAOPkdCkn1+KQ/Wu4Pyv1Nxy27vab1C5IbgSBrJ8r72ana8pNO0rgkAwOKAFar+pOMC7NxFELjSj8IwmomJ2uehUlbkKjd1hCSy3pX/bB08Zq4EJxL1VWK0kkzjv31OYUL9f5CwSm6Y9Hd3b3tzDPP/ECxWNxI8gPA1D9UHQcPt0/u9KKnpwczZ87cAeCgKLnWWhGRg1LXpCD1N8Bjy9+y5Uf52S0PWJh3kThnxD6u6YNUmVi0Gu1rmylo1fmTKirvARV5Wrfvbl196T9Jem19yN6PauRhjH1jk/xan79a8W7UPjZuH0hjFSf4XngWgP+7P2P+x4I++qwg+kREHk/qYtuoP/vfvmnpKrH53Rhe/Kn+Li9ovlyBj061/OS8dJbcqeKQfy7oXNGJ4o83M+44gozBvN/CeHBIYpMXGYb4PqQUlcTQFzsMIwJjbWxEPGOj2CPhEfCswLMRPJI+baLQwsI3FB/W+kQSF8KzCh+AD7W+AD4UPkR8WE3yET4ITxVpOfUp9FXhg5IqtPRU1SfhKeBD6KuqT0DKO0BnFsIG8cwyWFZQs3iqFlQUrfqQZXlalpcOZnb/KYeVdKaKbKW+Sqioq6cuPpH+lOPV8tFIHqviqGl/fbwiF6PLzxTi/exPfZjJR438iqJdkafJEvpGyg+10SyaLl4VJ1tVcaLA//KsK3veVkDhoQIKTtEdgxtvvHHbWWed9dVisdgP4GMA3JTvJygHwpIbx7GbsnyY0tbWptba34vIiw5GfSRprZ1zMOraH3quWDTYWdAeKeG9xXjgp2pwGcATgFqFs9qSmFFjWc2eyFUKmq2OZ/JGWHDr5dXlr1ZwgZEWXEGVvJH5laO3ryY+gfaBAIi2WHkx9kfJBYACo53v1ttnzAvfb1WuVmHrlLQvDXQ63ndIfX1Bd/2QuEo9u5DEm6dSvMLtkzuVHPJPwN3rARx5BIBeoB0YxACQzwMoAjkgDAH4PiKUAD9dc8wzACLAA2LEyZxUC8BUxdPQZnNq0zm91iINNd2vLbMc2vQGZiuf+AhY1dTkaitf9jJDnlR9ecwUz6ovjZUbSeVTY+Mb+Tg3+DrfkpFhOpiTkDuxcKLyxpdb0w/spzxMff/HHN9x2mlFyj46Wf0unEAoECVWqB9f2n7E6TPgGJcbbrhhN4DvqOq5JDfrdPyE/iTA+eROL+bOnasicsD31qxG5PCeQ9pdYHTLJ/norKaW/0YJr1TwSwr0g4ni2XBfWwLa6P0kzV+7T26VD259/qpyo/qejrVvbIN6an1UJ15uQu0jPAqfuawwvHh/x3vTFzBckmCdGn2ngv0Tat9o41AVVs2xm3YUCrTPPB6bLOVLBNdNpWznkzu1HHIlt3MFgE0AMAvYCzSjBRgCgBxQBIIAQAnw4KchMk0XiACTaLZJT+KqeBpK+Q6Y3DklVVBFmPqUplcsJdWDy3NRknxkTXlmcSLJn+ZjKieztCavHaNZPjHBsL7caGE6mJOQO7FwovLGl1vTD+ynPEx9/8cc3zHaCRKxqTzYKtsBuHBCIZBT4Dxp4ou+vPjGHBzjsm7dur4gCH4hIueKyO/h9hl4wuH2yXUcaJ4o379+UuDg/36m9d7Qxv8OT14eg/+30X6uNav6NtgPN66L16yiXP69qtwo+8Ym+/TWlxsrnFj7GparaR9Gbx9JS23TJv/v9necSepf3o/+wcGB/yLtOy3Zn9UzavvGM3wAABRVS5FMO9auZnxEP+6LyPdPpaLrfHKnlkN+hnav7waOBGotuUDFkhsCQJ0lN/mlbMkF9sOSiwlYcqViycU4llxkoVYshPVfukazPAK1NxBW8qMmfXTLKBqWH03+yPKN5Y/Xvvr08do3SnvH6H/t43ri8iYWJ1AXr389GK18tnF9WU725+KTibdby0tsPMtZcyfIz372s+LRRx/9v6VS6Y0kfwigeKjb5Jg4bp/c6cXatWsVwB8OZp1PKMs+qX/8VNuO37Lpf72m/KUUPVuFNzTal7ViMUWNBXfEvrYySn5W/j8Q+8ZOpn22Jj/Ha18Oqise7zg/dNmMvsHBgf9SkXcq0Q9gxPvOJIUma6BMY7oLjI7Yh7tVS5cS+MFUyHT75E4th1zJ7UQnNm3ajFEtuUhMuWNachOT7SQtuZiAJddOwpKbhUSNT2d1Z0ezPKK6fHV65RbEmvJ1Fsiy/Pryo8kfWb6x/PHaV58+XvtGae8Y/a99XE9c3sTidbf4EfWNXj42puaLZ/nPxScVJ2UlVI8pdLo9dCfKFVdcUers7NwgIu8n+WEA2/B431ccBwW3T+70Q1UHD3J9B7O6qaHA6LaP8NHZu5p/oTr0Niv8O0vckOzzmjw36veZjavjrOyDW7sPb9W+trUW0infN/YAts9Xj898vENMUh++bEYfIqyF2FUKPPD4ZT5eCU98uguMTjw6uIdWLiPxBSgel3uC2yd3ajnkSm43gCNH+OQCZUsu0MAnF6j1yTUH3id3XEuuVoWZRXA0309MMKwvN/oUEkxS7sTCicobX25NP7Cf8jD1/R9zfOvbmWKNIJaRcmu+GDeo16U3TM/D84/Cw25+zmQoFAr2pptu2qqqV5I8R1W7AZQOdbscY+N8cqcfxhxcF9kn8vnws6+w2POxWY/s3bnp5+LpWy29l0HMF5XYWm8hrX+eZ8qichSf2hHPn0zBbWzBrSlXk15lwa2pf+LtG/GeVdM+1rePFtq29LPhsx73AJP6lw9wn9nr3WKM/AMVVz8ecU/E7ykHgrWrGT/jGDyokVxOkXcDeHB/ZTmf3KnlkCu5zid3rLC+nPPJner+jzm+9e1MiUzliy6k8mBD9gCt+92lj5eu3tE4Bo7Js27dur7e3t7fkLwIwCcBbEflinAcZjif3OlFoVBAHMcHtc4npCW3jo1fOaH4+480b5phvd8y9v+d5EsUep4KboiJ/ka+sfUW0oY+sRxZrrY8G/vG1llwR/ruyggL7oTbJ/Xtq5JfUXglhJ03VeO7ocBwQx/uEl/+FRq/E/tl1Z3ePrn1rF3N+C/vx1Zpwg8Ucg6A64jJW3WdT+7UcsjP0PF9cpFacDNLbtTAkouDYMlN4hP1ya23PCINJ2ZpxIhyNeVRSW9oycRIeY3TJ2hpxcjyjeOcZHyS8vB45Y2Uj7p4/etBfXlLwJr0iy6yqbdEtjm9i08+DpHt4cO7Du6b4JOInp6e0rp16x7J5XJfJvlaAN2q6qy6hyHOJ3d6USgUnCX3cdBdYNRT4M7b/zV3r7FNP7KR/UdDvhAavxeCn1pga9k6WmORRfl5X/GprbWoYoQFt9Yi29CCi4oiPLYP7sj6Rm0fJvBVUtX36C+Z0sEt0G54FzbFOf+7FHk1BZ+GYtvEBXDa++SOgNQNb2f/fTdw6+IAACAASURBVEfhdp/yIYVeBPDmSYkA4Hxyp45DruR2rugERvjkDqHWklvtk+sBUYyDbslN46NacjM9MdGE0xN16iy5NeVRb5FMf6yyONbLa5w+QUsrRpZvHB/PZ3ayPrSHn09u7Jv0AVd5kCF7YLn4pOMk7xouhg++BcvdXf1xcsMNN+zu7e39DYCLAFysqvchvfs5Dg+cT+70w1lypwTtKXDwrkLz5tv/Jbjb8/PfVhO/1QpOs6rnQHi5JdarSFnptWS6inGthTTzwR3NgltWSOstuERlVWRihAV3pA8vasrXGBSQxSfYewpAHIBdCKgb38G95+zFPRiWz1uVl4P4JMg7J1R6ou2fbqxm/KdLsXlAzA3W8C2k/AOAa6B4bLyiCrdP7lRyaEeS1G4gLhTUFoDiqsXg2g3g8oV5/mnrBi6etZQxgCNm+ty4G5w/E9y8dxdnN89nb/9Ozp4zB9EmsGMhuGvrHrbNm8Hdj+1lxxHt0MdAG4BxCDb74L5wgHm/hYMA8j5ow0Gq38y4NMQmL8/B0jCbmpowFIE5AyIapvWaqKUim5pyGIrAwAOLA0X6zTnqYMhcW4DhwZCBCVgshfRNQCAEGEBLIbwgQCkM4WchkpudTyAsEYEPhKUSgjS/HwQIwxBBFiIAGCb5QyAIWA4RluDTRxiWEASVEGEJoA8tleAFQCkk/ABAGEIZQKMQgR8gLCXyQ4ZJ/WEIv0p+GIYN24Uw6R/CEH4AhCGR/RyAAEN4rO93AEQh1Ae0hLTfRAAALMFnXb+zsNwu1PQ7658f1PWffvJBJPBRCkvwAZTAZNyjEH7W7yxkANT0L+0/Wfd7EiIInlES/RyJI6q+g7hw/8MHreK9xze3byH4pHwzO9j09PSUADyyfPny/54zZ85v4zh+FclLVPU4HAYfNac7B8KSO9WKs2NqMcZM+XEfiyeTJbcx1J4Pog9AHwA+/wv60K69+25uaW1rGQjDfD4I5kRh6ekUWa7QRSp4ilpdIpRWVQVJlGfcZfHUUFGewZbFU8NGMoOvOr9WpVeeawcOxYG8fRcKtAB2oaC7lx0hjwz14nuBx6epjZ5LeqfYOH4qhfNHtMo9tceAuvk9GFLVh479GLbkO+Q3Ngo/LwyeZa3thMjJUDtiQTHnkzu1HA6fC7RQSF5w16Y/9KThxrpwcxpuT8OdowjcPMrvDsfj4XNP/cOFANuqDOMu3M+QwIMa820yXPzV6vuXhXBMKT09PYMANp522mnfAnA9gFcCuITkcarqtKJDxIGw5B5MBcoxOQqFAm699daDqng+SS25o6G3vYdDSFZy2QkAq9aouWeDfwf9gR8br8UfiotBoGyKfOOZOH5KJFhglFSwA4ITMgtrNiHQAkgn+lWFhE01YK0JK4reAR71YoxoQtbVx0WB9h6gF9Ddi7+MR3KR92tr8W31TbPGmCsan6DkDCqOV9rICA58m57gkFQAwwC2QnXb/M9vf2C2zv95GKPFk3iGqhxPQQcsn6LAPIX2mpb89vHkOibG4aDkOhyHPZ9e/LtlJM+wqm017yv1n3BdfNw4iV+o8tNm7rzb3nPbkUNwHDDWrVvXB6DvtNNO+xbJ61X1lSTPU9VnIl29wHHwcJbc6UWhUMDpp5/uLLkHkbWrGQPoT/9qKei9J7bABwE/hrfH9Oda0IoBAC2twEB/gxA45OmDJWjHbHlcW9NMDurGd6CIZB/2XgDo7NL7//wH03NEG7w9e5FrUaA/3O32aZ8MpG4HBraXF6RSPv8L2NC3F4btCIZjeIawf76rp+/QNvTJg1NyHY4JIJ5cZKFHgZCaL7b17xMuPlZ8AMQ3bFy68li//YHVtx3pLLgHiWplN47j/zbGPF9VzwbwElWdxen+ZnyQOBCW3DiOp71iczhzsI/PNLPkTo4Cw7vSnSkdk6N7JSMAkTMxTiXU294D96H/AOKUXIdjHD699I5l1kZnkNKGdPGrWt+c1GcnfZFx6SPTobgLxL9jKF7//ov+9jEmPkCOg0ym7C5fvnzrrFmzbrHWPkVEVqrqqQBOBeAf4iY+qXGW3OmH88l1OByOQ4NTch2OcRAbX6TkUWDiy5j58NSHGS695vcBtfoNUV5t+ov3v3vz84dZcItMHWpSn93BVatWbd+xY8f9nuf9EMAiVX02gJUkn4NkczenQU0hzid3euF8ch0Oh+PQ4ZRch2MMPr30d8sscAYUbdmqwBkuPnYc4DqlXu4F/u0Dd524swDa98BxOLF27doYwB4Ae1atWvXoli1b7snlctdba1t93z/KWruc5NNU9akAToZ7ZjwunCV3euF8ch0Oh+PQ4V5YHI4xUHrvA3DcCF9cjFxN0cWzf/RuUr6isF1FbXrkQ3e51ZOfCKQK7770D8uXL3+wra3t93Ec5/P5fBOAFmvtEgAdAE5CMrX5bwB4qrqQ5CI4y++YOJ/c6YfzyXU4HI5Dg1NyHY5R+Mzf3LHSRvaFJJsTn1NUVgt2YaPwbqt6lfHNz4dLu/962T2dA+ny+Y4nIOmeu3vSPwBAZ2fnxiAITH9//w35fJ7GmOY4jmmt9Y0xAYDKvtIpLl6JW2sHbrzxxnAKlZ4eksurfzjQ/VmzZo11SvWEsbNmzbpt9+7dJ2Y/HOjjIzLie6zD4XBMS9yTyuFowHtPvLNlZhz9QMjTFcgd6vYc5gwAuJY2/ibzfHC456f7Cig4R0GHw+FwOBwOxyHBWXIdjgbMQPx3FPMsqxpkn4KyVYPrVxGe5vEBAu+ziH66ZNlztqxey3i/B93hcDgcDofD4ZgCnCXX4aijcOKv5/lo+U9A/xbuQ9DYKP6JpfCHH7r3ub2Em5rscDgcDofD4Tj0uEVCHI46Aml9k6p9OgAv09pcODJU4AeqpR9/6M9OwXU4HA6Hw+FwHD44K5XDUcXH/+aOZbHaVRSZkTmVHg4K5eEYWuWVC3KyzS0u5XA4HA6Hw+E4nHBKrsNRg76X5AkKmCSK2kn9Lg4QUMWD0oQHL/ndySU4HA6Hw+FwOByHEU7JdThSPv7sO1ZD0WkVzWXFrt5r3cUBAEr22uEhp+A6HA6Hw+FwOA47nE+uwwHgQyfdPlfBf1bgCJTn3xIubBxCEXstM900ZYfD4XA4HA7HYYez5DocAJrovxNqlynpHWoF8okQkjhueGA4aDiYDofD4XA4HA7HIcRZch3Tno8tv/sspf0HFXYASKbkZn8u3jCuxCwvJy989xG/ycPhcDgcDofD4TiMMIe6AQ7HoeTfX3z73KgknyT4bAV8sFqjI1x81Lio1bmtea97xbaFe7rR7aYuOxwOh8PhcDgOC5wl1zGtGR4y71TieTEQgOn2OC6cUEgjzyl55p3Bc187cz+H3+FwOBwOh8PhmHI4fhaH48nJR06+60whLodiCeg++Owf2meJz5Xi0lc/03Ny36FujcPhcDgcDofD4V7sHdOSD510+1wavt0Cx6pQlMlUXAWgJFx8onF2EPIu3+SXf/Mt6h/kw+hwOBwOh8PhcIzAKbmOaYnx/XdC+VxQAkUy/dYiVeBcfLLxOYR++K89PXOm5ug4HA6Hw+FwOBz7j1NyHdOOjzxvw5mWeI0lZimUmYXShfsfWuKF4re84r0n3tky+SPicDgcDofD4XBMHW6fXMe04oN/++djVO0HSB4PQA4HBfFJEQJNVuO3SR4/AzAwmWPicDgcDofD4XBMJc6S65g2fO70O1uI0qUQfZYSfrZKsDL5c/HHGRcsE/JpzjfX4XA4HA6Hw3EocZZcx7Sht99bTfIsq9pavR1Ohos/vjgAX+g/5093/vZ3AEpwOBwOh8PhcDgOAc6S65gWfPA5f3oOgLda2iMhkExBc+HUhjHieYv8hWYSh8bhcDgcDofD4ZhSnCXX8aTnQyfdP9f64YdBPgOAd6gVwSdzSMjOYimMJ350HA6Hw+FwOByOqcUpuY4nPbY1+iAsT1GyCaoAkzm2BKAuPnVxYiC2pV8i//TBSRweh8PhcDgcDodjSnFKruNJzftetOECC321CGdk2wVlJBZIF5+qOMArrN/050I3IzgcDofD4XA4HIcIp+ROHkKVWA12vg3sXg9ZPAuMesGFS8EH/wqZYSHxUC87mmZx1zDYNg8s7YG0BGBfADYXwb0DA5LvaKENwTgP0dIQcybPwSFIrhW0EZgz4OBwUQKTYzECWwLIcBwykIA2DMUzAcMY9HJgWCqJJz6BElRADJbg+z5QKsGHj1JUgu8BiAAfQKkE+Ok/PnyUkITlhMFSOb0S91EqldAMH6XSYFm+Bx8RkhClpFypFMGHB5QiwPeAwSj9Pa13EOV4sw+USpX6s3qAtL0egChtZ5peac9g0h5UpSc9BL1gbmztOwQ40kKFIBQKF05xSPwJlt9FU7D2kXU9uw/RdelwOBwOh8PhcABIZhw6JsGqNWpu24ygyYPv9cNnHgGL8BkgCEvwAw9BRPjUKIBFQMKPLX0jCKyFD0FgCZ8wPmADQnyoDUDxNbYBBAESPTQg4IPwVbPfNMlP+FAEIHyqDVTpQ+BD4RMU2phUgKqgAmKz/zVZcckqCEBsEqe1yYkQJ78bBWiT/AQAVZi4Io+a5Jc4iychUvmSlVVU8pd/R8N2ME0TBVAlXzL5SPNbTdqnte2p9DFtOwAr9AksUiA4yKfJdOIWJT4ScfjPM7qv31tAwR7qBjkcDofD4XA4pjfOkjtJ1m7o5vKFnQx7+4w2d3hDMbymAEHRIgg85EJbCnzjB2qRQ+AFcRjmYEwQKwIIcgADKnLUKIDnBTaKckIvsDbKiUhggUCQ5AORU2sD0gSqcY4igdo4R0iARHHLWUVAIlDVgGSg1hpSEkWRBKwCSKaWCgm1CiFBm/hSappPrUIkzZ99+sh+13RRoar8KJdPFMpMfvZ74vua+GwKsniav6odte1L89e0L1O0AZZrKv+Qti/9PZVLAJYAMvFpfxIfUhefwvifNLYfbvWW9rgpyg6Hw+FwOByOwwWn5E6STnRiHwB0dAC7gXwToMUicn4OGgK+5ycZPQBRDAODOI5hJEBsYxgBYsSAGMBaCASAhYgAMSACJAqbAKogBICCgtTCmeQHTZqeKJAkK4pgjWKYkFlksxA1cdSE5bWEUoURqIvX6pljyK/Ik7r0xvJRJ7+SXh0v61mZ/Lr6lYQKoQSqBWSrALv41MQB+WFrm/fnws+cgutwOBzThS50edvaeLbCvhwAQClZ4Kev39v5s0PcNIfD4Sjj9smdJN3oBgD09fUBLcAQAORyKAJAAJSQ+JJGUQzAJAqtScNEjwXEILYWgMAiDa0FBLBA2YIJAAoLILFQApLEKVXpqQUzs2yW40jj1SFHCWvzZYbYmnw6ev7x5LJRvobyJyaXjdqbpROwhoklFzX6uAunOIyN/rJ7aLNbSdnhcDimCV2dXd6mVvtqS3xJwXOUco6qfT1Vv3ht880vP9Ttczgcjgyn5E6STnQCADrQAQwMIA8AxSJyABBmix4BHgyAxJKLOIYBAGthUk3WZBbc6tBqEmYWWaBiyU0m4SKZilydXm/BrbPkZjN5gXSqMGotqqik14QN89Xm13L+OgvtpPNpXb4G+UdrL2vzqxCWhNKFBzy0+lh390pnxXU4HI5pQBe6vC1/sK82Yj4P1SMBRLT4WTL1jCfQyBevbXeKrsPhODxwSu4kKVty0Qe0tNRZcv2KJRcAvGpLLgARxImtNgmlypILCwjTeGaRrVhyAaQW3Pr0Wo1PkVl4k2I1PpSZxbScXrG4Isuf/ltjaa3Pn2Wvyp/9oDUZKpbWcvoo8keVN2YcNfUlCm7an+qpyi5+QOIUb8X5J97ZAofD4XA8qcksuEgVXII7bRS9Oef577dW307oY6p6gqj5grPoOhyOwwHnkztJMp/cDnRAB0b3yfXG8ck14/jkss4nF3U+uazzyc00xGxxpnqLJ4CKJRT1ltIsPbW8IlkEalSfXNTmr8Qbp4+w5DaSR1R8ckeVN7pPLojEF7emAOoEuvjUxqNL58zK3d7Z2XWHs+g6HA7Hk5cd3TvUa5u7Nbb2kyCtAe7JDbXc8ZqhFwyvmdv1X+GweYCIlsVQa8QrHur2OhwOR/0rrGM8Cl3e8oWdwY7evlx7viMYihE0EbmiRRAQuVK6unIpLuY8yQWxDXMQEyDZBihZNRnIWbWBkXRVZXqB1SgnrKyurGBAIKdqAxoTaBzlalZZVqTp6arKSEJYNQKC1iZm+liT0GoyZboqLkCSTyvxUfOV47aSr67c/uVLw9imU7qrfleAdfFkynd1Oc2W4gKlavVmFx7wEJQY0B/50v62z/98wWNTe6E5GnFN280v8MR7uo3tSUL6NvHR3w7E99Pmbvf6t9y7Gqvj+nLXttx8unj+UXEcG5N4UGAiYRTqHUc+jz0r048Y17Z1XSiCpjgGDPxfjVZfNdfN6HoWYiynwItjoNkL/ufuPb/YtKR9xelW7ZEiIhNtT3XoUbbu3Xfvz2bOXTI7HNYzReiPl79UDO8/PzztLwQntdXVmpauBbHR5TbGEjFmidVYBAKr8R1C79FtpveX79rzqj4mm6ntFz/oWP/GKLbeeP2m8HYThY+eM/jSrROp7/sdv3zTZI97HAOeQc/r+lb2oG6CzUT5YdutS2ItddJwiVptEwhi6D4R3K8l/cN5g6f2TFTWNblbnmqa2KkxFgi5yMKCwn0a633i8b7X7VnZPY4I/qCja3kUY7lvREtRtO/8gZf8YD+6xe+3dT01VqwwBoBFfO6+ld/OEgsoyPFtK18BtQvHGl9rraXwdlsKt5w/+LKtjSoqQGVx883LxTfPnsxxEyNqS/GjXpO5KwrtmZM97lVhXCpFPUc917t7c4+eacQstGrzImJsbCHkUGw1LucXGquaFyOwsYUR7o0i3XT+wMr/AYBvLv+D33zf3pcb4UJYxADuPXffyl+NNdgFFOSZM1585GAkLzMGUIsIBj3n7Vl5x1jlVmGNeXXroqcpolMoWKxqWwmqhfYZY/7CoWj9OcWXPFBfbg3WBKUZC15uo3hBWl/Rb8L/rN6xctvY7VwTPLVjwYujOF5sDBBbG/rS9Mtz+l44oo6JsgZrzHDH/KM82NMne/ysxgOv33vatQDwh+Xq37Ph5pP9wJxoLa0Y3XHunpU/mnR7lt4TDD20Y7kf6ImxtbGIPHxe38p15fQjfpMv9hXPMIL547VPLYowuCOOwi0X9J/R8N3hxsU35nY9mltuAnnmWPJ8j2EpjjbmxN+8um/FQ5Pu18xfdBRL3jnl60fQd97elT8ct9zcrtZw2L5UROaNdZ1DZDci+YttHX7wgu1nDDSUha7WeAZfGkU6Lzl+ui9o9n6xetspOwDgKnQ15dpwcqxYZgwQqw4Zi55z+0+9Z7L9nW44S+4kqbXkDiDf1FJlyS1VLLlVPrnJAwCIrYURHzHs6D65kjw5k68PqeXWVvnk1vjsWpR9cqstufU+uTazqGqthXaM1ZVH5KuJV+WrkdM43/g+tlonb7z8qOmfBQFWLdrlwoMSAmoIvKxo9x1X6OzqLThr7gHha3O7WtuL8veEfR3B42Ibt0KkNYYyneIRgjKkUuovtc277fte13f27W777SU4uVQWIua1sUanUehbBSiAtWk4Rtz4/PqO7txdSD0wQLzPKmYlSwOUHh2afcSrdJduGUvZii1eKMSlatFEAYZ0+KEVWPHoo4pzIHKqVXgTbU91PNb4d4sWLV+3t3/wKGX8YWvRPGZ+xKE0+YPX5bp2XMuuNcMo/uCNe8/YPVbbr2tffwJg3xESL4aygwb5GLYZFMRQgObsGHE4V2fsua69+ydrzK3fWrX7RZv2R9mN1f4LBU3j9Z/Avtj3w+vauh++RrpvHJTS9y/Z/dK+0eRajT/CZJ/2SY1vZPnFAgq3F1CYVF+ubet6hRJviTQ+HsKZqsiDYuLkzhFbxRA92Xd1W9d9HnjFufs6fzKarGtauzpVcCmB463FDAiCGBoAAlWNIRyKLAavbevapKo/OL//1CsayVEorrXdnRS8J1ILGpaubeva9/p9K386mb4V0GVi6NcofHqydiRLAMpK7gqskC3QC1Xw/DHHl0at2n7xm4avab/l16B++/y+l9xeW1u3qG9OtYp3Tub6UGtj8fir0JauMGIum8z1XhNXhPTMF/7YvePe+W1zL7bWPg9EskgmAatalz95MFelR2LYDeB/AAA98NnGN1jFcyGwUP3rNe1dF56/d+XG0cZ7BVbIZuUSil5mE8+tYVhcDqChkrsGa4Kwde7fqfBii9JxADsUmgfFKBSERHFsB9Eku68Juu4V6rfP23vqTVn5cFZrE0rRGyh8Tlrf3rDIewCMqeSe0LGwJbbRJyg4Jjm+EkZx+FMA/zTmCTUGGwBzvMRLbczLJnv8AG8rgGsB4MFHunPimzOsxVtIaBzrzu+1dW+/cF/nbRNti0J51aM3HxH45nNWcZxQimr1JgBlJbd/z57WQPJvtIrl47Yv8dDrF8kNXNve9TsY+frrd6+4u7rOTbv8plbfvMyqvmkseVGsljRDRRsPXtve9WcCP5qIkgoAV8+/qaU06P0DBZeV5QPbrm6/5aEL9p7627HKxgOldnrBm6zqSaO2j0ZVbURjBznk936/vfsmePY/z+2tVU7DWZjBEt5EwUnJ8ePm0nC8AcAOAJC2uMVCzqTwouT84q6IuByAU3LHwSm5k6Qb3ViOTgB9QEsHhmKgKZdD0QJB4KNkK4tPwTOIwzD5JKqo8ckFLCAerI0g8GARQVIf3bKjdOqDS5jUt1WgGlemMFdb1tDI4gZopuCisk9uohBXl6+a8VxWcFFJR5ZeyY+q/OUpxCPkV3yCa8vXtbfcvko7Mmfe8j65qMTLpPlVatuf+fZm7UZ9e136lKVbRQvJUx4pLbwHSHbXckwd3+24+XgvlE8q9fkAF1pVn5LdIeouXBJKHKGWL87P2Pv1Na2/+cbqzS8YAgAIZgrMAlUbJBcYUHVhVy788gWYpFvY9vyigNhSbtJ8kHPS/+cxKn71O3N+fQF2jn7sSbQCXAAiD1WImBygoOEstboQpDda/WO1j8LZu7fsojczCGCxAGTLmOVTFxCILFHVJXnmz7665eb364D+qZFl97pZ3atsbP+F4LFQtIGgVstPxr8tlXs0ySOLcXzadbNuuWxV75qb145j4R4xTiIL1Nr8eP1XYiFAQLgEqsub1T/3qhldl1/0rs4fs9DAQk1ZCLXBZMdXBG2Taf+Vc37V5ofxZ0F9GRQLIciVF2WoPU9nKLBQKMdY6DOu6Vj/itA3733jzhftq8i6vi1XmnGZqn2VkEdCdWT7k/GfweSBcYwYs+Tq9u4VQWA+ds7OF983YhgM25CcbwCoEPzbZ3D9+g/glRO6b2lB5Zov3PI60rwIQJBUr6XqPOsBLBbMAbhwrPFN7p8CqwqhOcaqdn6/Y/115/at+GQma0VnJzb9sbuN5MLJXB8UxlYx2xeTsxYLx7q+x7z+wVARt7YsylP7ORvEwkmWj6zaWVl/jpnv87EhzCa5MHmgmLmAfnPN3K5Xrt6xsr/RmK8HcJygiTEWJi8mGKKwtUFWfn/e/84bKg5/yoAvoeoCkMGI+2PSzpkKfQqFi63imdd2dH+nr0+//nas7B/o9dnabmYrdWF6fPM0NhjrvPjy4htz0WPRWZ7I8vL9VaE0OOtbLes+8eaB07aPVX40Vi1dhtsf3d6ESR7/5PzS8n0gjPMCDLZDZKGqQkRmE3jfTfPvPP+M7X/T0LJYz1p0t+TEO0djPAdEoIphisyoztPUPEvs8NAckAvHa19VuoI8QWP7rGtn//Ijr991ys2ZvNa2Jon3lDqEMnb/099FjCr0BAWec037+r/V/Ix/uWCc/g3t0/YWX1ZB7cLy9UNphdrXARhTyUVTzmikc8Y6PumMNyQGJomtYgliefk1Hbd88fy+U9dkooYHrcnnvDnQ7P6kIYwpn3exhmJMc0eWrgpPPHXroUwAp+ROklVLO/X3G2Bz+Y7Is2DeAEP9Q5CWvI1DxJ74pVARBsYrRqUoEAReHEW+JwxiwifVtxa+kD7j2IeID7WBMZ5nrfUJBAB8kL5a64P0AeszuWH7gPhIXnR91USOqvUp4kHhE5lGjIoFN1UokSqgauNEYU6nFCfXZ6KgCjJFMpncw6q+qyoEWrlvWWTqdvL8iTNLqwW0ogihrHBX0rP6k8d9mh5n+ZGU1Np3xFqFV6GWc1VkIQg/NWijHFaJQfXvLn3K0xW6sKM1Tr/sOKaK73bcfLyB+brCvpCQZoWybEkHHgDYB1IBnQ9yEZLLsRXAYqp8YHigtP3LuPE/34Ezi8iutPILKO4EGCUP1PR6BFCOI4lb8tGdW/aVX5iqykMBQ/CMoFj6l28u+snHL9ly9ujbSTH7YMLEJNzZCXv7+o2g9ADWq6lfbSvIEwBI+sK4jZQtmt0o0vbFir80HdFmhwaKyf2rrFBhG8ma/BAugGJRciOEAbnAQmcZz/s/17T+/LXarzuqra/fa+/+ZxvjXQCPVSBbzB4k+y1wv4DpB3eclLVTgVkgnqOx+Y+/65jz/lV9a3403lTualS1PL4E+hW8Lzm+leND8gSFtqclglTxmOeBX7r6S7ewAL2+UKew1yjmSXg7Qa053g2Of6x2CybIlXN+1eaXoitInqlAe+V+QUCxNT1+qXxdXm4/cAygr8uF8SCAdyeyrm8LSh3fVujpqUJc+bAB2aKwW5PzU9tALkn7ZVR1EclXRaX4uO/NufXCCxsoulXnL6FYuqhjxiXow+cn0sf/+OINHW1s/ZAmz+jq8SyzAsDmqjhJVcV9pPRX9YOAPjsrb6HtJNti2H++rqNr23l9K68EAHR3QzqqxjE5n+8DtD+7PhsdP02+jN8PsE/JnhHpUBHgBAVa0/PWCuWPI69/LQllK7YA2p68SaTtsADuu/EszwAAIABJREFUB9g/9v1DY0DKVtrt2Aam3z3SN5MAihcUQ34ZwBsajfkKAJuiGComG8/EUlwLr5rbNT8uDn9dgJcqtLXy3BIL2K2kbFMoleggcHx6P2wC5QRA/6m93QxiL746c+ZMFOMqvYhEFGl9fTW07cznhXyjhVZ/QKQCc/Ne8AYAnxpTwCjcswFA1fEnEIPcqtDtYx3/dPyrpgD3AtJcuT8CgYIvfKy46zUArh6vHWuwxgzNkBOM1Xcok3OfledQhYF+qFejUvSD/D4AiGFq6aSnlgtIHKnQZ6b34zaSJ9vIfuLq1l/ffUH/C5O29wEiUtVujZP7uj6W9Z+E0eS+Pk+TFVnyAI4F9TwZ2k0A7xytXzfixtyOIHiuqr6o9v6oLaCcfvXMrmdcsHvln0YrPwTAY/qKlNznhkG5p/r5SaBJgWXpdWZAzAEwAzAf+N6MdTsu3HNaF5Cu7aOouv8TUany/ay1tRXFIVujQE/K32Ya45TcSbJ2NW2hoGFhCOGqY8G1G8DlC/Mc2gqGs8BiL7hwKfjXDeCc4zxufRCclfdYGuhlx8JZ3LUVbJsH7n5sL1vntFOH97ElaOPeYj/zfiv7wwHm/RbacJDwm2lLQ2zy8hwsDTPnNXGYQM6AGoGBBw6VwJxnOBQVGZgcweQuVCwK/BxQLBaRa8oBxSJ8k0MxLCIX5JNQkgsxMEBYDBHkAoTFEG0MUCyF8HI5FIshcrkcUAyRA1AsGuQyucwBLCKHTG4TEBYBNgOlIoJcEpUcEBaLCCRtR64pKY8mgMXkkR8CQQAUQ8DLAQiT/GGxCJPLpeWb0vJAKUQLjH4jfbEZacl14UELIRjePRy6e+4U8jWsaaXxP61qXwxIPpsBYVWvNSrXlyL9i5c3oS2q5jwJwrh4FGjeDuI0EoG1emfeNt3Wi64SAMRMP2RlciJ9ay4nu4pFIJcTJCFQHx8cHtj9CF4eZu1Spi84Wp6JkYdn3tw00LHxxsU3XnPmxjNHLjjjSTp1K1G4PBis7+7GsbNzlyMc/EYul6upXzxZrhp/i2SLqgJGfhIV9Sv5vBSr2xf4uaENm28sLpn5EkSIKz75hj8uFcOv5vNN5fxDQ8M54+dmqdrVFL4Zqj7JwCpegCB/3hXo+SqQLI1/zcxfvVg1uhTkUarKdIbKNgi+HFv7c+MH/XFRNZcDhkulNkM5U5XvonCmqjUkj1OVy4dmLri/sLvwpwIKE7o2VNKZOySs4s+gfYNGXlh9PIaGomY/8I6w1p5F4nUK7SDFqOrRQv+Lx3Z07yu8W28pVFt0TUWuJiaAC0olLTU63tVxv832Fvom1nYThR+jmLNVtaXssw+uh8UVYnB3MYrDlpyvxSIgBotU49dB+BaogpCtJWv/q3y6YOY/qugrCDSXzzOr3RB+KwrDu7Pjanz1bMkeD0/Ohto3p/U2gzxZo/jTV8751YWZdZgArpZkDmFlTQH6AN7zvTm3/riRQlxNAQVplbZLVXVJ9flvtYECJDXpsRF+Iork9+XzO0dqqdQG8ulQvouCZ1tVkmZepPYj18z55Y3n7zxlKzo7Ye/8ZZXBS0qI40/4gff70a7XLNw3EA3m2mft1tLec+vTfU+bIrVXkjw5tTQNxxHPrZeHHFAKB3Zi0ULo4ED1uIWI448Hgf+H8e4fxYGwrDHOxwJsM7vLH9LT53aOxKuumtn1l4t3r/xM/VCuB3CcZ9LnDZMJZqb2tfXq+Xc2a9j3WYi+TFXzqdwSqDfbOP5qk8n9tRjZUHIkhks+jT7NQs6h4DWadGi7teHPAWA3dqPZ5KrbB2+Mt+QCujwxOFktn5ccJyiJAVVtBSWvsBeumdv1ldEs1WOyFMCjlfMJ5LAFrssZ852xj78gLqHKdWgWYgzDVORQVWeT5t3fall303iW5tJRC9t1b/QOFZlfPq8BVL6Ap7S0wpaGq4/vnrBY/FhzczMGBwfR3NyMcKBIBl4Qx3GzeN5zoPoZCuZZVY/kEsvw5QC+BwDoAKK9qGq3DFir1+R873tZf0vFEj1jmkO1S0TMq1TtOUz7p8Kzr+5Yf/0FfStuadSvPYvybTooZ0PQogpLYii9f4kqFlDkLACjKrl5ACFZfq5BuFUjqbnehoqR+MbMho1fbCmXAHoMSc+qLgOD93wON/3ufThjYAhAYFg2RFlVeF7FbtDf3w/fb6m571RmdDnGwim5k0cLheSL/9r0h/rVMx5Ow+wz+I6D0appxttf/sBHoXoMmKxrNcLS6MKDFgK4c+bcIbea5hTSOnv+a2BtJyhNiS8Z+xV8n4X9H9sXb7sYnUUMVCyPa7DmvuGO+X+GyBtijZ/hCT+K3X99pKxgpTN1VdKpks3+A+dsT7+YZ5M1RwurEY7wfQd0FgwK2/fkN3ah61crUeubnSm4WblIYqwAsHLXCx5tVN+VM7vmeSIVS6NqL+ba+895eMVwo3Z9DysAqbYEo3f+wmPuO3PjCcXq/GuwxhTnLLhPY92i5L8qkQMRgHr+okX4JragtGZuV+tQHH8a5JEKpG8w+KMSl5bi4TtrfHhTud9rW/cw/eB3VvXzEFmqUAF5tCo+uHTpqouwoRBiAiiTN+REOIfyu+fdtxrLwvrxWTNwz4binF09No6vI8w3LHUpSCr0aBjz+SO+cNOpAHrL4w9NXpTT8dnX23TfJTi5NO5xn6Dzwbfm3LKc1lxogZbsvKDKF2njrw+2tm25ZMvJg3XH4YF9cxbdJ3G4Xui9B3H09n37hu8AgO/OuWU5rV6qRHPV8bzCwv9scXfv1ktw9iCqDG1fXnzjA3P3tPeEsfYo8DkI2xTwSJ4usT0PwDeA5F51DSrnf2YRIbDAWvthABeN3kPlsbNvPVmt/UcITVa+Wk6FTlj8snq8tWSw6aLdL76vflw/N/+mPz+l1HJ7pPZqFTw7nanxlEjtaQCuQXc3MFPSbfEIVVXN2U3n70gV8vGOW+KoMKLeq47pajJ9MpTJJdReuO+UEfmy8JutP2kGZ8CybEmyNiebzploO1ISS24ello1fqACMwh5+1Wzuu68uDdZpCpjBYCHDSA2m+Jda8n95vI/+PGDfWcb6qstkE/lDhH8BCx+2HzE/EdXb1gW1vQfXRu9dnsHYG4HeXpso0ub9/U+AAAzMRNDGKw6fsBYhtzFs/LNsRbfqkReFQrBdrX8OgQfT842WThg438A8N3RpYzCBiCehbKlUAFLYEd5Kv6Er9teiDTX37eNAicEueD9GMClozVhzdJ7gqGtO/6WIn9fXZ4A6k25AwP9CHJ+pR7V+I2Dp29BNr8nC4cAhfKq1lsfMz6WKfHeNL8R8cpToPv6gFZTed5AEcPwsRH9h3LNEbfdOzho/0QqFXgtSBKYC8HfAxih5BbQ5RWHsdgI/j71zBu0am8G2a7EShDt1mL11a03XTXawlhDSNbaKbcPGl64b+R1XkBBjm17+b00w/dB5D8sdB4pgaoumzOr5Znoxf+WhzN7PlMQocoTorUVtlh1H0diGXeMj/sU4HjC8bazHvh7Vfs6COYoQGViYcoULxc/eHGr+JPx2PPFtc8fPgCHelrytbldrbHiLSoyI4ZSSVjq51qbc2sv3rPyrxdj5TDqFjZajdXhBX0rHorCfV/21X9XsHv7huqpsgrApgqqkhgYmLxhAUhWn0rawySsxJ9CeF98sE2PL0BrnysCxFX5AYP1Y9TheR5iopLfQ+XLYeMCsFX51RNs3Hj/iGyrsTo+f+cpW5ti/z+s8BEl1QJQcNlj4aMGAPojdCp5ogUk6Re2KeQdD+157Ndv2vuy3kYLSl2477RdTb3bumjkwwr0KkUtCQjOHtq662kFFCb0nLUiVeOpiSWnAauxLDx/5ylb86d13hbH9mIlNymoSf/1GZ7X8srqOlWk5ngtXz6R1kwcD96bLDgzk2/J9XEp/uz5e1duLCu4Ne1fHb9x54u2zMm3/yiKovOa9q78QzKlHrDWvNmS88vtJbt9Yz52Ud8LH7gEI6fDv2PjmcXX7XzRlj4O/EDJb5bHD2iBsHaqYs34JvLj5EPGq74785dnjda/NasgVu27VWR2ffn698z16IYSVenEaLaE920/Y+C/e7fcC+F3quSJgicDADo7EUlVfYaISo/fLnEMjqm5vuwIRb2ehYhpa/PvxxKD87EAUSan9v5BBZ9Cep+/YkbXs6rLJPcJU8lPZPssAgC8nkebIHhzTLam8kIVXhfGg9+8oG/FQ2UFt4qLsXL49Xs7H8i1eN8I4/hNzX0r78julbuxu+74AfAbj7kWVIZ16CglT7ckrGEYK36ugfm+JbYn55e2EOYtX8OaRn7EY7MUiOFVjZfs5xTVWZX7NmrO32YLvPp78379/NFK7npk8wwV+VdLtleXj0moqc3b0tIKCy3Lt2IaygSSbxtey9BgDD5Ybo8IoqoednQAESvyVEZeb6k0Xb35BUPPOLbpvji23y7XT2mOyRc1KnFsW9wBMRfGwEwlEQF7xPMvj0X+Ky1vYHhU5De9etRONKFmPMHG/S2gYC/c97ze2M//xqr+KBk/UI20EPGyLJ+yIi8GAL/KA6wfgFdVn8CZKCeIU3IdTyjedtZ9T1eLdyvleKuUxPKR/FkQLn5Q4wOk+XezK9hcr3Q59p/WyHsWRE6wpJcoKHgAnn/dXY/+bDdGfD+v5Q39Z+44b88L/1rvC2qNJMctVXhaWib/zgUgURQqL5zbILLXMlOw8EzmvM8e3dKd+UcBAEoQoOpFJkayqM5oRBEASiW/FeCY0ZsURVUvbpJMjV68+IRR86/e+4JeJf9qCZuORwDMThKN/9oYaMrGyVK+uWu36Slg9ZjW2NVYHTY1mXUqvN4Ccdqe1tjgNQuxcPS3vSoUFYUUYoANY+dfvZZxy97Hbo+gX7fCOO2/iUVftaJzRfnZXvNiK4KeCW/cMz5Xzrm+TRWrVMhMvkZ4z8UDY2+5AgBnbzl58I37Tv3LarB8rlJkdZWCC4j96Ot2vmhc3+B39J65V018uSW3ltsBHP/dObeWVfoIdQp/mg9ku3ryb1fOuX7EQlsKZf8tt75CxZxVPr+qy7P2FWoFgFiq08dWIJdhlZZszYs+lTwOANDdDaD6AwXhTcHKBw8//HClH9n5NiZboWLK+ZUcew7vKGwHAKlWWGlVsDFVYMRSn+Z53peumtu1ICuzAgAQN/ywUEBB/IUzjlDy+ZqkqQp2xIg+/6a9L+sd2YIKTBSj3jftXbmx+vybiZk1xw8iiEqNZVzzH3flRbw32VTBVsUgRb+6g/3bNPtwIWIssKR57sKGytaYbAAMUH2/RbwfU1R70Vu5b9eev1Thoii277t6/p0jFjH62tyuVj/XfLEFl6f5VYUDiUKXKmJVDABQVo7veC8EEfPNMDyzqj0liilvAdTXB1R/4FAwMZ2Owsk9J5ci33ukarxEGyxSVkBB1G9aoOArVAQxUYSwZ/aO+b+LNOpS4iElYZUdMGb11bip8QJPw+mH47S+eOzLSAcx0A8jPZXzWMWSeQBAvinpY/k4EaXq864ViCBVx08QO0vuhHDfAhxPGApv2dK8ZdPgR4V8duJTh8PCJ3XahtD/s8/uvflrvzlx+IvjvSc5Jkzk4W8Abcp8wgTyk+1252MT9e1shAKAqRy/YmzP/9a8W/fBZtubAeUNp9PQ86Kf/3Xb+keq61VJtjNLjr9sUouvweArqtpGwqjypbbF/+gVA/+fve+Os6q69v+utc+5ZQrD0GfoMICC0SgoRo2OiSkaW9TBaCygCJZYQ0x7Sa6/VGPXWBA1mjxfIhiTaMrTFAYrIGB7IFKHNvQ2TLv3nr3W749zzp07wzRMVHzvfD8fPpszu5y991p737P2XmXxDAQKaqFKV45v2MG86k7CmiYByWrOmRQZ7vwmNwloNq99Q+3e5ObDEnqxb8Tra5oFIxSSzzKzyXmdz2R+eSM+03xTlzMMTNp4XNOjfaqfJGO+qgqHCIBi4uCKzzA6DJLSAs3ZcgKi4t/kdiXoYpJ9IrHgES+b+X+EkL588rzqLXnXXRR4vffzuV966ix5yYZ0bo/+ns38+aqdn93UVZ8zTumhMeHScB5VMM+rKHhnPxuebmBW2UvjxdPSnI8FYPG+7Y0Lu1t/8vbKrY/1ffkZEK7x+QyOFZwEYDEBeKy1F34F8BSAr8D3mj0O3GsagDvy23y8Z3WJOO6PSLSYiBSiSwIV26PC+czHPACDieE7ewzyO/3KugXsnpKUvH4ReCcA3znb0pdzTltBMFmY02f1e+mQ/HWaTz8SFcScxVNrj3ujozcOGzYMqxs25rfbBcoAavI1eRQgIseDnDGr30uHdrh/qFgn5iyesun4VqF+fJv+8L3UKNbOYMP/CUURiAygExXOrfdj7jXX4OT6eQAGGYNQU1oBUKAoclLlSbxyGQ1xGMmgvawIze1x8smrcrZkB4jd2I0YJxDSQxS+8eXu/YqSpca+anAxIQiXxLR43bZtb42tqrJ75879HVPsWkCLwNTDKq5BGEqpuxgLZHb47BPwrauKibP6vTStI/pDyRrWdZdt/XQutE+vXr3QXJfJORkFIQ3VJUT0KVXEiHF8RuvOga/RH0CpB14bkDZ2GoCYAhlSvAOQAeGT4u//rbpbCKCRW5wMgxGb1eel8XDheztwAVI1EJSL0lAR+hKRHBfaUBOw1LF1uR+GkhKguSlwqqUADLpU0VXOWKDFqba0I2mXjTi92KtrPJeZyoL9cq9I9renYVT6AftSrePo71QxAwxXVQ/N9C88C1vxX/s1lACQQc4UiLo4LCoo7OlI474BCH4/AxVtP7OpGYjlOQMHWl9B1gMoCPifENoodz4ZEQBEQm6EjxFqNzV/nYk+A2gyCBecU6GN0g871V+oNbNGHnf4DqLoFvffCSUeq6QOkPuhXpQsGZvBjvffppBvXgoKnbdghioEBn54MwOfsHlpVsy6svGnb8LiFiFXwh9WX6LKOOw975HzEyL+nkALiJBU1Qu5f/OKe4tXPnjdqlFpawANLnaJAAsPJ1UC6EDO9QAwEyxCk1iBGYZOBV1flY1ytr8VFaPQkWD5aN+XThDCCCHlwJnOljRlfR5mLgpUWAHFm1JQsp32dJ+/ixOx+XuzknNLT0z9tnobu3UEZAk5py4E6lLADXHppok7Z/V/eQmAieTHQioeO3Zcrr4AOVtq/wNJvkeGNKRze/SPxWPLAK1FFxoacThJS9LSb0den7Z4vDe9e11vDUWxcAt/Eem8UI25OyAQHuWXX7DANSCfRcnRYgRDe9QXAgIbOijUzgF4NIiOAsGF4qaHB7703LRNvs1fCim2idh0VTkUTBBVMYZ/aIEb0cE91UmVlVi17BXkbH6pc83esvGnG29D0wXELf0ilWUAMK+6GoP6O7l1AJ86U6CUyadXPv3UkAdr7wDQoZBbgxoouQG/dTSSfGyGpdKAJoACLsBToMh0xD/KJmOt7hfPNqdy7O8fNsP0D1dxPTM96stfFFfVM2P9YxuxFd89qRJY/S5aqaoS+/+rqYFDzMfYUKABLJhXTJpDBxS6qzVK4aE5J2AQoV2j3NmDXk3UedlJIO4V2GQ2WbW/TmFSBnOARwb991rJuP9NROcBcEA4Zla/lz93xbYT/tbtriwDTJmBDQ6oBIgT4QtQHN8R/YmR8RR/Q1782l27dqHA7QGLHP0aiPQxUSoixidU0VuZbry73/wXbth27FYAmFn69x5NSHyNiYYGk7nHEP1QgG+GBzht5c0GAODghtc/4OsDB0/Cwpc0LKBMRIQYExIK9AJxTBRZYiy0kr3xsl2n1YXt7d0LuAkG8vZ14o659f6+c4uY3DNy74emQbSf4yhvT0MP45oq63s79gBdk5TkXwCgz97NdfvKyp9SwVUKFBKhFIpzgf2F3KZmIOZSS/86WUgpKGvzS+VCdK6Gm5NqxjXBzXUy4R9UkAb7P5DNX5lF8INC5fZxgv4rbP5/CNFRQISPBaZ/afU5RLhQmXqDiTRQmVGgRTUmP43yP8j8X4jo3Z8pHrYh1V5czgj/EsShPsrEYP+DUAyadq164186SFDDUBM4sfFVrAbAULkSyjVI0Sqlcscxiba6rRrU91UWDbZ6XhO55mGBPAvmjBAAwyVC+GayccfZKcyOSU4FN/jANQ7mdXKR6wCtyksnKmoh2pZv7yZ39ti5RQ8MeKnKM+Z2ZS72VfgAJX52+/YaL78dJQIM72uozRzQvE/aeFwTmFWDdixwSCZT3K3f2UA13a9nqEOb3Pbr0j4wa1g/X0DOb1cIIMNlSlTeKf2txttzHNwWnmpZfvseuOMwUt0ZRx5/KfOBxt1Wj7CvpT7lBExCYPOcz78c22VJb1Ym/72GysTyt8PGhpSfNlCAG5XZCJGA+Ddq9Z+aqx/YxuVhXnU1xOTld3y7Q4+VLxyMjc23wvAXcv1iiOfGnwd8gdky+wIe+QKCEvqE67MD+pWJw13ENx4GNS3rRbmrM5iytuVJifp0xj9glIlp04/+gDV58++wXrP95IbCZMnvrerPg/bJ3z90yiMDX7s03Cfy6RYehBR6cRJoUd78wLJ2y8lbx9jteyPPp2+bqyCF0m6xfS2bacF7BcC6kqLCP4Zl7MY++5Sdx4QAYSJl6qEOn39AXRkLWGtz9AcTCaFHZ/QXRhmMKc1vplevXrCMlv2XyRLxajh0l79fklHo6AJjbwZ8Z1OaSHwKDl8iBKNM9aL6uHXMYhvuI0yAaWuU6x/Uteyf5CowRg2NUWAM/HS0Mg0TogFgivm/B+QIYTg58WPymyspAYSRz//w2tlJU1Ce2efFMteNXSOEm1vWN9cDeC6/7G39ny90484XlWl0MB/7QO7TF+06tg7wNWNcofUCejZYv3ExdNTMAS+f3Pa9yUQSSi3rE6b9dfTLYXMTA/q98lmPnZ8L8yFB/0QNb1ebWQwAzWjOpzOECG6eSUA9AHFa7+PgKGpjdxDd5EY46DH1SzWHwsgNqhgJBN6UgZzghSBtJYhF+R9IPhHNJsIvdicrav61E/MIHUEg64jZ5sI0WFt0TMWR1B2V1w7bDG9hjK8CQYS3/TAbHdCfgLTYvYdgdCtRRw1BlEDsn1yXlgJT1xy3a2b5om9CMwOE+QQADjENsKrf71dWtsojNWw4sOEiiAY2uZ3c5Krxb3IR6kh2Ag8uYCQ/rMUX4uUlfWbSqxYABAIGY9ceHW8M9VWgHCAjAKC6ReE9BEzOAFNyN0bkq1gPKCyPEbodLRa4f+zcIrsHlLuZU1oej+3r1kGQLzAF9On+K/26hspIQMqBikueqnPYbjg/JFgSasx1RH/jOvs6ls9aoAa7FABxzinO+zT2BjzH8aP3ajj/WnaATRAxii18/vRVHP2vYgUwk+E3rAAYYFJthPNqgZVHyfDlgUbs2Q8MfOXpPsdt+u+dr3o/JEP9A1XsOlL+yYatzU1lA+MAKJ/fcjipshLvrXi1xQu5wljo12cOfPXCkA99e3UelYHXhxwabJWKA815q6S/7bWp6F0Avk3uwFiw3giqUCWsIKX6Fo2a/ejniWJz59NUA6FYULfr9bUZmzGAegdDJV+1gnSl34+O9g/KqGpru+ytAIJ1HZIBgF64/hN7Hi5/+X6rOAKGvwAFEXN/D/rd/gOcdR77hM0tokC5oMFJK7x4vRD8+UFA338FpaWwzRmE65dAyGrr5XtfxV9jsabelVA7TA0Bqs3E5reT1kzYG5aZhvHeQ/rqYjL0N4A+R36A4FMeGDT/8Ks3Hvt2d7tjYwYkOfpbEDar0taO6K+ErMKuyW9j165diCd75vZfUoUSpy3jBQL+CNBZxFQA4KyZg159fPeebZvBiZsEWkoKq9DVFOeHvYzNsEMIb861zbygAYBLsJqjbwZC7+T3L5cyjEDLwdwPCiKi/kKYMXPQK4npG4+/FwD2wqc7IRg/tEDBkx4c+PKh3HI/R4rXSgFnjCr6q6H+1l/fWai8LXF9Jr+LPZ2SUgu5knwVbJCijrTh6fwya5KZugHpxNNgvQA+1/cHMB3A3PxyTWiCMW6wXxEU2n/mwFcfCtc5ACg01pyhCnJRLtCBIIoF5XfD6pOF27dvB4AEEoEAz7n9r41JLjL+AXLufZ5Gn1/dQSTkRjioccYZtQVEme+J0ngiuHnxOaP0Q0+xzWbtXWUTK1Y/mIoE3A8KYngdRG3ONtF1Prl278ZnALzvME2Wgzi5oiAGrGSvSlDBzjTy41zHkXtGGn1Ke206ecu4VnS2QE7AJQPsCWzVptdOWP/wwFduFNBviWiUqDIxxqjyHYbNGyKWcjbGjuncJtdxIdYGH1IAmLGuU+/KgGdbbMGIaZwIKvz6CiKGVQUxF/nxSAPVMqItEPnGsMLyZVfB10iwhC1EKBK/2lCrmXJVXd1dlXypcyYwg0ObPkA393cGdauuhuuMAdsNJdIQM4cuKhMvM1TZlxGJsXnZsqUtfWJqZZMbc9xLMzadDencHv09oQ3ohjO5ZpWdMeP4cRv9ef3MLSkQUgcwgHD8rt2sGf+D1p8/6tDra7v1oZhJr52sAX0DQTcXJ/eBoFwoADMc3LTxmKbHyhfe0ozsaURUpooSJvOjbfMHOoZwjvj8J6q4ve/xx67YNKeaJOQz8t+Zj3nV1eg/KJ6z6VQoE/EpVsXm+JAIqlJARCbvwEiY8awV+x+TEHgErqyEt/JVcLjemLJq9Udxcl/PX6dt6VdIbheGDcMgXBtoTPofzJ2hDGWwnG6xxWdkxOoPExRb1BH/NGWaFfHYzlYN9Qe8nf46FfVTnzakqdrUxrJBn/+GBUYSoUJUmQgj1Dg/ZdBTFhLMJxAqIGZ6F1tvc/MKZg7nx1HR4zofexfYDWhRftgzBZnWN2ZOprjAwvsaMxltETgKHxgyf1oo4NyP12DIiYln08G6IDD1gcjZALot5AKABvQHU7NSIXpvAAAgAElEQVSK/a8EJR7riP6WmtVwYWvX+b16wWvywIFtKzHBqqrbP74ts7XpbgPnFKgWgjAIqj+CU/AMrD2BCBCiOiZzz983rK/5zMgxvaW5IZTDfKdt+SgEJNPy+wDCDpB8td39BVli4xaLeKeA6btWtZAIIywwddbQBc9dsW7iWiAw8Q75nzimkPEE/kTLOgKCuLPJcF2TQVZFFyjRTdesPyFnTf2XipXxNY3bxhvDh4kfj9azqvUaLzr1FwNfFTYMgcCIITG2Pym2KdCPiBIKjH94yMJx09Yf07KxJpOQ5mzefsU9VOXC1uuciBhJUZhcfw3VieivC415LHQQ2YxmGEqG68tvL29q6wG4zC2/36qgtjfpEdpFJORGOKjR3zR/XZU+C6KkBldQ+6nWRumHkkLw+3giuTKVovcRQCJCdyFKi8hQJnDeAQW+zIU978V2beiO4NEuiKDk35AqAI47qy5ffXS78f9yaO8GM1T5BIDgJjd0ytJz06Z3dpQPvlkMZhKovygMMX3KQg8Fm5hC/XBCsF3e5PrxAMl3pgNgaCc2uWF53/bUNymFoZg/f8GVZX4KgEFPZ6z3gOP1fv20VaNyKo5qaKEqhoPhqCImRqfPGbfsu/BdjHQJZneKqDqhMxIQFm9Ytbd7N7mhqh8AKHfXJBdZZC4iDrx0+u+df1JlXwnnN0f3gJ9sX3rv6sUndOAz9sCQoOS7Hmf3AVQSzO+hvR9deBSARQfalmfqaowprVWgHAAUOvqeIfPHX7/+2G65sbqvYkGxydDZ4bMq1HWcf/ptAQ+y7xBKgz94xt/GptQevfGBoa99T4UeAYOgehgR3y1Ase9DShc1SXrmpDlkU5VzHV1N0Bx997/JXbb6tbZ8VwDmVvyHFoFRRbGcSB7RLD9zzZaTNoRtzauuRv/BiTy+VlUX6y9fe/R7Bzq3rVEDUNwPbxSOo1NsBqh3fnmxDtZfvuHA+rF1K1AQa9k/8g9yUkhJauNJ7/YZEr+SQP8JYICqGjDGe6qDEAgIoTkjAExfPN67v/z1V4VsPRhFUDhq+Jh7hy844rq1E986kL7lUApolqAmpC+36ufM8Yvc7Lb0iWz4CAn3Z0UCbC4TiCWQf9ENgqglGCoI1x0USTi4cNbw+TOvWOvbvnYFzxj/xMzfB4XJ3Xag845dAApNCx+pAsbB9MUTsg8MeektVTwEpq+TIgbmU1TlSBhKAsio6oI97r5n5mCS/Uz9K0Dc+II/ALThm4YGIBbP+32AZq/ZeEKHfU0hxb0GfnGzIe0LphtVYYi4PCtaCcC3VXUYefNMII4rEA/XT45/c+sNdar6sCHz8D82rm91o72ibmfPWMJcJtAYDAEKA4dHWLHfI0OQkG6wUCbDQE9F+F70z6idAmBGrsGmJsC4+euCwVycv75b+geoajMzvaIijxvH/uPSdce1HAIlElAv2FeCP3n5Rr5FgKQBGMrtX5GdWPcQ2eRGOGgx9cs156jSBQrqHYYk0bx/0fOH+0xMi+oadkbxcD9g9IO+LUQbxZAE8V8HZzVz7eyxy9oPZZCHVN+5RfcPWzigbWxW4RabRGVC/fsLkwuPKbAdIohD2J3ndXQSJtnmWv2bGr7TEprVECwhpkz9hMFqQtulrm5yg9vHoLwwY11nnWpTXonfVKLHwDRLgFlgmqXAXDVkw/FnGT2KirDomu3j6pH3uSaqT6uBF8YlBWjKznTj0fvF/m0H9w1fUGUJp6lhE9ZPK+ZMw/huHQrl+s8EMd0zyb136KtHKvN1ymRy9Q3Nnlc9L/cNZMMwF+H8/xsxvXZCIww9qUQatB+H0dvu7TW/R3fq3zFwwejw/9etOi1tSX8f8pcyx4n0tlvHLO/CxhQAQPBwixAG59nwLXmnZse7fmZr/hcmhGf8BNIMpX+nRC8G8+cI0bCAf4XI/HBG7cn+7Wj1PFjDHc7nvOrqwPY9zCeB4eeEfD4UYBaIZin0YbCZ4QFnGaLz0ibz2FVbPtXqGOekME6uCefD+OG1/mUMgzXcit86R1nr8h3YHnaF/v19jZIW+ra+iUrhZG+1bHxVGd8SoD7wIeCqoUF585lnB02KbMNuZX4xiFNLQtSLFDen+s7tUm1+dpWanw9+ZWT+33bvBsRps17yLnLTa72kGmeyJYrlzQcrUX8wlwuhXJnLhahcmcuEUJKjnyG2RIOalad0d84sbB79CVl+HwpUvQBhzaOfQegObdv6f+x1jPuIAO+IIbKkBWposD/PtMez2R9+a83nfDXsoiJ4lEe/NjeJhYWFPr+2rN9Ou5VCSjySnXD4zVwcaBKjBv7eUVICizz+N5wW6GsgmtWynvRXwvw/+etNDe+6cuOxK+fkhdFLYa7DBRjukX429/tliISQDOmVTz8l6i+BzbDfLheqoc/f1v/5frkBJJNBvOAcffeG6zt/vSvzfUq4Asb5cpM0X1mULfr99HUntjIpaAYg+ft/G77z4+Tm/z4Q4ETiW3cQzVKEgxJTv1xzqKreoIQKJZj8OHnhv+j5w31WRlOfkl7RAeIHjEkbj2sC6D5hqhfDsExGDSbXNtf/x93D3+kPaLtfmT8f/MrI0h6Fd2VZn+o94tSjZkNbvkKMgWXfKZMlQtH7tJz0P/yDH3ZwcJXbgptwXFNdZt9jyjTLMqXD96khX9gy3HKT2wGyyLYqLwwM7SRQbha+kJtrn/UVBf0obeWWrOgtaSu3kKvTLNE7wizW/2D81N6sc97M8Yta6SI2Fsg/LPEiYZKgvd5ptff2qlhwymzM7lA/7O6KBVVK+AmYelsCqSEI43EAq6ibt++WKEcfUNc3uXdWLJykjnlAgIFiiCwTlPmNjCcv5Id9Cg8Awvl5P+F9OkMW5l5hqmuhF31KSvHwfYOXlHdU59YxLxffM3Lh90wcz9w9YsHp4d8ddu+zhH1hf9WY4+LZPQ//YkSLMLxfW32WF98zYsH3QXSpGDY+v7FayF33Bd6ZFcFBTzC/wgTPaZEYb6ip3KusPxCm+rwPVxXm37Jn/pkrWHmSvxfmz2ceTqqsbMPvEMvyuBP3+TDkR00mbsmQ++iAoh7PX7n+2GU31py8p+245qEa4Jb1Iww/bMm/jBoo5a2XLrQeN2MzlLilPBGQPHCnN1u3wo97Hc5PO7vYXRurmlkKnwWb+/Lfl+MHDvadANvHodkS3dfCL+QK4bTS4oJ77h4+v3/7PVF6cORb/TYvfv2OuOv+153D538+zCktBQScR78W52WpyrmO9pSjhfWUQGC0SrzUF2h4lhDPUjaz9n+mX6uhessEMCUsy7m/OnxLlweWAPx9OxQAmd63syExJm9/BLKuf8CTQkrSzra1YsyP8udbmBqE8MTunn1aaWSE9JN26NeAhtb82r2zkGQWekILfU0Lfffu9W24W/i/WZn/O23llnA9WSf2PVX5jjJt8+uj2BKdf/eo1ybmv6TPIQUlynSJGi4Mx2cJf2yfXv6zZfxSDM8N3s9CGOgW9vxq2GYz2vweMu0I13f+es8i/VMq7PHb7QU1/7xp48mrLtl6REPbSUjAj1yQz++tzrOCA4ZcPvN+cYojtI9IXTnCQYdp02oLstsy/0FE46FwA3f0iNKPNhVov73phmjP+BDQUFf3dKJ3z0pVrSJGXFV7gegK1aYT7qp4/c+CxXPZ4+WZ+gab7FUwIutlv2iYqgQ6GkTJjOpDW8e8ceXs92a/MQmTrCX1dSNVQExoltjh94xcvDuLLFzXRTabhQsXbZ9VpL58woRVoZMxodCG0LcNguwfQPI7m07ZedfQF38GJzmSSD8PwJU8227DsS5ucpOw1ubZgjPWSSdGuY4DERvYDCqYeZ+aHbU3rWsdfubeioXft6qPEnEfVSkG8831u+wSTek7FHgJ/+Z7J+z7xfCF382yPh2UIyI+wgIPbKwY9s/bMP/PCXbe27niTyv6jjtjRHNTdjSxuUxVxgvTUFUlIoKIrjJKd9dtfKHbdtS+SrGCmJBVFPXKNB91+8j52Xx6WJsuIsc9UlROIuiRQhhIhimwia23Vr9VN/VTe5DKa5cZopKbz6ZROOp2me+1R+/854Sb2Pe15Z9cibyb7vZQPmHCqk2LFtxBzLcE44+r4gwvYQ+9c8TC3xHTixmTXvHN906ovati0VHCMh5WvyqEcQD6ENO9d4xagK+vnPinPmvXrqqtGPoDUdwZ9DdOxGdmVD9xd8XC2eJ58wqTsRXT352w+Z6Ri8db8k4kqjtbhMYSo9SfP1Yr8puSRK+cZ1UCcHdosxeoNpq8zx8C6Z3eqwsoTv9FRNMCft3rZeUn19dOaPEYXQ1oRWgjSC1xLgPMq65Gz4pC5PgdpETOjqtWHNVlzOG2OAmVeJMXgojC9thTZ/Q9hyxu6Gi9hs9ek0iisGDlNcvG7a+zMWwY7IZteeurcym3rKwMjXvy1iMTW9HR94xc3NjV/pG21t5cc8ybgH+Tu7MBLeNp96aP9Kp1uufOgS8+aAoSA1VxiW/zqEE9wOSdGaWqT/Zmjlj0WpPa22DoG6JKxFyiqucp04g7Ryx8noz733v37Fl10jg0v1VTPB7O4somlTOIcRipFhGb239eMX/GzauOfWE3gEQunrjPJwi83Pbd1i+Rxr5z2LftBzE3qrV3J9zkX5saG5EsAJoagWRBAfKfE4VuUTorSWI6z7fN5JHbGtaeB+CJrnjAAjAmGD/IKHTgPYcsHt8l/dOe17d46KpL3h7Q4LcjYDa5/TRf2fXaladm7hmxYB6IfqPABcRkVXSVYWdmatm4VmYalvP4vi35CgvhNTWCA/rmjK7bQQpLYz1HNx0j1jsbzOf6YZIIqsgyka+qXFICr7GlPSIWgd1708bjWq2lX37yjbq9dZk7wfSzYH4PsYr/uO3wt77yjbePaEhVznWaNkmFy/yVYP17KrosEYvf0FTflG1Lr/DZSTBZTyrIMceIamHAV1998PBXnrzq7eO3JQBkDALVdAWBvLZ96y6aAbghnQMbXzgtBxr1qEcBJ3K/D74Kd7fOTv/PI/pgjXDQIbM9cyUznayKZG4jpSj9qFNRGi2mKIYIHzi+tftze+8uXfRdNcQCPZeY4qroRaTHCngUkVwqrjQ6veOaVZuEMb0ttA8RcWArWJHxMsV9K6sI1YCwgZKCEDhpMfSAR2IJBp4IyBh4EOz3zLRk7duvXAn4DnzEt2XyBQUBgNJ2+3/juhM33zZ8/neMY8oAHAEmEziHgcdd2+SyyTmTAbTzm1wP8D+Yg/IWCkdG7VduV+PWfxQXDngYhG8QOKaqozTGP7zrkdfOB9AUltuRLJxfkmm82pI+SMy9/Q8njFRoPwZ/LqPaUDz6S43NGUnCMQWqKFfmRPh+EawixtR4CS9LrU11W/PBUr7TJRySIXmcYLQ1PWJGSIsBLhXVePjhT8SbRb2bKSsvtQ3rZRktdPfn5wkyRtuld95zRrKva0onU6rzm+hJc8jePnrRgyTWkOHv+067qEAVh8Ohcihd5Gii8fbRCzMCLQZQDKIBAjLBeIcD6AP4Ku8/zbz0eDyR7Cmq3w/yC8A0ziquJTd2Ub1F4x2jX894kGIolSrQh0zIX6wq+ieG+fbl7x2SC0GkAO5i3zAycIoDNa2HddPG45ruH7nwR2k/3EmhCD05ZOLE97A+r1AlYDeRbwMe8mceTqqsxJJNr/vepn06+nFM3wfmVVejZEwRrOQEc4dA3/NEGjtcr8Ez4pSut/VT0Z5tdA2gLvkWiDkb4Y6xeTPQo7ClvChiIP6eB2nqav8whvYBOAbwnStznnfYjmyBiUhTSG0qHnHqj4l5pBCOz1sXyLaxHJi2ZnzdHcNfvZ/JHQnmcwInTz0AHA+msQrvkuJeRU1LalUopsWqWkqE3iH/KTDMgekF+LtZAwgwLe/z4IepSWdeH6oOf8UqAUQCxboicudMX/HJvfuPogUzxy9yZZ/+EsrnBV6bixXmCnQh5C4DUBwzsBbhvCdA+CpETu2K/hTj3Vua1l+NME6x4/hekYN5z7+9JyKdW6k739y48D4QDxQoKfPjA1etaXWyWA/A5HwfUDuBchsAhwPv2QQoBtwx+vWFCt+otXXaSBboQcb0sYpe5NuaZqFY2mD3zAOAvXv3Ih6P59rz48PufzCy7s0/1pWM+tIcgZ5AzKf7+yJ/ipoz1wP4SWJ9cSE7eqoFSgOv+fuYMPuq5Ud25s4QAPDgyLcyTZR+DsxfEYUBY3B92v08gP9sBkBkAm/8Xa+jTpEArB8gPnQy1uomtwhF8NgDcvs4oBI5nuoOInXlCAcVLj5r7RfAfKkA/cC+np9ScJWQn1LLc5T/4eSToRM1m+6emlWEfxk3rJmwPmPxbTAetEyNgUqXUYN+lmiMGjpSgKOU6VBh7efbfAHKtMaqzEgWFLx5crV/A2sNAlUzBKp4GKVMhwjhkPZTOkSZDrGsQ3sWJXK/E6GNkiWCOoTd2P8mN8TQCROXphVfF0PbJLDZ9FXcurbJzVdpFCas68jrVFBeGHnl2/9ZS9We0SiSuVeJFgrBqmGjRJ+1RfHLp6FFbTm1bFxmb+OWvxCbi61ivjCJP69cHNhqjhOio9XQYUIYoYYSOdst4K/EfFndqprXpi+ecEDOncL+B3QuANOYtnSxrKOUaYAQxdVwGJfyL57KBX0Lkr+/aeNxTW3bFc5r1y8/JqRvZ/S3zEMmpebQ/j3dHzNWTNihbH7hqd6sTHXh+4TQRwxGCekRYD7ab58HCrMJ+rOPmG9W4j+FbX17/ad3C3AfsblKgM15to99/PHjCCE6WpkOEab+athYAsRgnwXuck3s+hvWTMgXTUHw+SLXrzyb3Hxcs/qYjcZ1rxB4FyeT8Sf2C5MW2OR2pHLr2+RS6/z3eZVwUmVlSzgtgm9DyBiSvz47pp+OcY2TbLfhYfDj73axXkKUlbUuH6huDu3O/iFEOTXz/ujfav+QTmwKU0jJ4PHHrPasfFuZVuftW61tFeHfwtev/dsGxMw3RfQHarg+sGF1hbSfMh3q75M8wRLGqOF+ltmoYbHAahBuaG7Y+zfA96GnDrVSkQYAlC9OeC5/RYh6qSGIQbMa89T0vLBBHWHa4vGezTQtEYPXgv3ZAfGY2w9943Od1RsLwFq0mXfq1x36W2BUPv29vP3RtmNTfXI1eQa9lmStnapGp2aFfjcpz6YVAIoKA5vqwAYVblvvyoXwiFvoayguhKODdd8mpQnKNNoSegX9yijxXM3gptAGuKSkJPe+YP/tIE5uSvaurF8Px/zYEtb6+yKVgunSW8e8fma8gMo9wsUt7VCd9Zw5XdENALbaXXVizJyW/Yx7KvHFtx3+fCGSyVbzKl3atneM5uaQ71r2Jzdv36hHfaCq3LJ+2q6DCO0jEnIjHDS4uKp2CLvON5T0EGUyobMFDVLJT6nlOcr/kPKBCkrGB1ZWzo00QD4kfGvNhPXW6K1KpkpBv1TD6yyRtLJx9W0QIaDXlOhnIJqkpuSpq9/5xB4E5xZKrW1y26vfrg2cMa2cS7WyqWNGaQc3uYB/w5eOFbzqiX5LDDWG7WcMOrXJ9eD5Nl9BeY+BocM6v8lVbum/dPKr9o3Vx2/zhL8rhnf6NpdUYEm/M2IsJlbl2dymas9orDOJfwpjiiW6Upj/IQTb3vx5RPVi+K+AmcwuX7d8hc5PYVK3vDHnQ2j/+W+PPh5RvTC9IYR7wHyOtbju6EFHv3LJ2/vbeoXtdkTfzuivRKg6gP7PWDFhh02kHxWSM5X5Lgus6Kh9YawQorsMmTPSTY2PzFgxYUfbtups5r8I5lSr+KEwreio/0JUC+ZZILrAjcV/fu17R6xt2zdFOza5brtenPT6d49cOWPFccuvfufw/U9w2tjk7ueEqbISljgvn+Hh/XmLam2Te2D0E8MdvnVdDdrU77wfmzdvfl/8Y5laffhvxdbgoKF7NpuT5pB1snaRGkqJ4frA5hxeO5+tKaTkxqVHrQbzA5bkHGW63xJWt9c/IVhl+h9LehsbvihhCmZ/Z9MpvqfbUsCCW9FXjKVET/QR4KsBv6kw71CYJzsfgQ8CaSOG7bHAE3nzU+KRXNtZvWUAbAzvi/5qGF4gBO0CAMofPwHu/hLSdatGpW9ec+zKry+fuOJb7Qjv9QCUW2yELVoTsAENrQ94uuAPYcoK01ILPK3MN2W89DWD163NhVfai71t6sOPJ9QOUjjZE9d5R9ncFtrQWqZhyvzNZqvnEfPQYD02WKIXhkw4cmPnVPPxg5rKdBa8RA3PDW2+lXGooO+xQFPefHS9jjpDIpGERZ5NLlPrOLnFRbBoZTMNG4lv3UL0sRrhoMAZZywqAHk3qOp4Ij/8B1FoGxOlB0kaU2S/OHr0Ecuqq9HlCXaEfw9uXnbMltTYpX9Put7bXrrpbtdNDLFiy5kNiwjYMLxs9h0Tx46mhsxuXHzcjrYqq2mkv5mk+E+tegRyocjCPwrOAuRCvWxgAxQ8B/leprm+YvzEegTBGLLQLzjkOIosYpzY9+qadzv105xaNi5z65iXf28luZTZGCCLuOusCG+Y2wOV9nxLdjZUhuUdk9g8pfqJDoVGKi16K7Njb6Vr4gxkYVg3X7fqyQ5vUUe4R85fmX39C44biwFZELloaty9YjaqWn13B/Zo7906ZnmtZBvmuglTmoYd5TD3sAIwM1RsPRlaLmm7i5PO1pvePrJdQbM7UEMnQix3RR/HYWubM41we+xen4ntvm/VqDRWddyuYT7BZj1qj76d0t/wvkmYdECO5r79zqd3z67Sl5e9/vp7hUl6zCPqx2xGWxEwM0QE7GKll5WtLsmOQe/WbG97YxQiterYOgBv3T7+vU3pxrrZDpwCgRzFhpFrT+2KGNHOpmzzjh7Sd8d1745q1waaQHqn++bD2Wz2zyAX4qlyr8LlBzI2AEhVn2xvPWzxVRApBlxYL6Ot88neetjiKzUvn/v2OOD3AMAP5lban49a8BBiiWc7Wp8d0Q9WRPsUtB++ZfKwjD65azpcUwxkYZx45z5spp3erE8uyZU/kP1D1ObannHO4U0/f3LJNLimWJGFMV27Cr5p43HNtx6//I+yc8+7zAmjIhIrSrRr90ggxQrsmDl+UfWORv2fpBOb2eTZAY6hkS38Z4XZWWnTstUtcHbMf/u9nfleeBcvXlM/cVzFNKtSBLiw0my5d88Vya1rMg3J/lVkxSi5UC+dHnrEUevRzWA+qZph6Qc+sW/2Ppt+A+TCeqrkUGNndX6wdGz2lsNem5ukgokHSv+sel5Pm1gBAGOPnNiwZvHiuynh/BbIglzyGry6Fd3reQt6uNndOy1PNWqK1Iq4jrZyltYn7uza2UyXG+Wi7vCHIUcbM9lGt8htoLodu78denEOkO7t7XO2pu90qfBJ9bKgRMzLCndo8zrjrcMbbxn+5m+SBbxYQxHRmrRraI+19nk4LqxYG3Ni2/bT0OgABNKZhYs2bWv0pscoUarIwoGbzezZVzO4qFfDek5PsWqK1MuCY/y+I0/UU3xzAtnLCNlCf3+StEnEcrv6rjf27o5/sudtnPGeALnwtMkrNEXvy/73/xr+hbOHCBH+fbi4auPFIPk+ASM00jA4iEHvZJm/9NvfDtzQddkIHwRSY5fGktbEm+ye3P79g1UT93XXi2+E94/U+EUFyfoiE859WckQb/ri8k4/Vv8vY3aVmmVvLGgxcegNjB0ysaG7H5ltkZo4vwdaokti7JHvv60I//uRqlQHGxcUhM9J01MXHf5245w57R+sRIgQ4X8XIiE3wkeOS6vWjffA9zFjgqq6Plu2dVYQ/rXlf1H+R5KfMTCTG1X+MGfO4P3s/yJEiBAhQoQIESJE+KgRqStH+EgxbVptQf1ebwYDRyjggsJzFwq81YUpcs9R/keaH/PInp1wY/9AnkfaCBEiRIgQIUKECBEOFkRqoRE+UtTv8aYT80kKSoICgSpKD+4U/AVpbuifSmm0f0SIECFChAgRIkQ46BDd5Eb4yHDBBbUnAHKx5oUL+sgFuCjtMgVQQo77+SVL3qtBED81QoQIESJEiBAhQoSDBdFNTISPBBdcUNsHhBsEOESJzH4CFVHuWdsTuKL8jzRfQCf061eac+gRIUKECBEiRIgQIcLBgkjIjfCRgAxdpaSfBlNC/QDdfqD4MCXknqP8gzCfzcn70to3UlmOECFChAgRIkSIcLAh+kCN8KHjgotrT7Cw54KotwIECpwaRenHKNUSghy5dOnGePtUjhAhQoQIESJEiBDho0FkkxvhQ8UZ02oLbKNeC/BoJZgWFdiDQXCL0gMUdA9zXfkTIi/LESJEiBAhQoQIEQ4iRDe5ET5UxJswDYZPUEKilcBEyAlQ2p5AFeUfdPnEPL6ZNXGALBAhQoQIESJEiBAhwgeK6CY3woeGcyfXHgKhr4hqfzBRK0EKLQIV8v8e5R+0+QIcFnPikbpyhAgRIkSIECFChIMK0U1uhA8NTOY6JYwFh96UDwaV2yh9v6kS9Wn0vOigLEKECBEiRIgQIcJBBeq6SIQI/zrOnVx7toJ/DqACEd/9r4EyHbd7zbLXq6tP9j7qvvxvxBVnrT6FgcEKMrAWMAbdSRmJtwfUD1qSqibPb2fdKVBvCBGxNtvX9vSoWD5nDtkD70/Nl1WkFzOILd4eUL9uSaoT2l915obDPU0fRczOgfQ/P90da/pVebpPaRP2fRHE7oHWdyDP3/+HkRspUB5pi6qqpUWlTYlPKmM0oEdCiQECEbaI0iq43kuznqnYRNi//rQz114K8VwYAwi9XD5+2IpUiqSzObz6tLUDrCunqhUDY0BZfbPsmBFLuqo39UtrPg3GaAZVKKQHABChXqGrHPCLDz47fAXa6WM+rjyz5khP5ShmEKxFjON/+cWzQ2o7q9MVpp++ehSIThToKICKAQUp6gFaqUQrZz03fN77affqqpVv2sEAACAASURBVG1FNt18lIo3WglHBkYSYJXNCt1C4Hkz/zRyZfu1laadue40kJTBWggZfeS5EY929U6F0vQ29dht/svDz4zd3P2eK131xbWjvZicSKAKVRT5/KRKSm8IuNZNFLz0wJx+9d1tsapqtunZPP5UYhoAa6FE3qznKh4P81Mp5c0L1xylLn1SBArG3kf+OOLp7vc5v50NR6nrfVLEKrGzcdYfhz+fy69UZ1Px+i8S2wEHsg7JsIWlJTP/NOItAEhVLY3VNsUu6ayeCJQJdZ5gxb5k0+o5c8Z1OV9VVWp61a8fo072BAUNAKh/wDcWkJVgs0JV33zk2RFbW427Up0tRWuPEoPDYS3EUIaN8zcXEstm7Ody+ypz00PPjnyyu/NZVbU0VtIcP4GZR/h0M2klvLDf+1PKW96sGSKqp/jz5VjxZMOsP4/8e3ffBShd8uVNvWJe9gQmrVDVEcGnlmXSzaK0UcEvP/LcsLXdbzNChI83oluYCB84zphW20eyPJmBwaqgViKu/92yfxrlfzzyRQYNG1b5BoBIyP0AIEqTlPmzUImR40JVAOMCEHT2bDU7s3b05v9BtU8XFXs+MX9WoC4S7nuF2ZrzAOw5kL5M/fK6z6mVH4JRIgDg8kNL0/F30AntM5o5gZhvVCBxIP3Pfx4QGzC7sXnPEGXzbUALD7R+hp01kybNqQXQSqi/umpbUTrdcC6yuFAYQ0AoBLQHEZGogpnSqtpI1tl92VlrFlxJGx576A+DFgEtwqiQfgfGLQAEMLSh5s2aC1V1XUcCNQB4LoZa5f9gx8RUBRzj+6qrq98E0K6QO/WstVMEej6BhyqkSIECUXKYCAJ4RNSYFdl9xVk1q7NY89iwI4f/uSOBOQs9kZluEiiT46LRyy5X1c2d9bcjTD235jTN2sstcQWgvYhMgYg4TJzrl4o2TD177XpVnf3IH4Y/2p33+HSpvyGdafgMAeUwXKgqPZgYogolkwZpmkC7Lj9z7So45p5HnxnyYtt2lDBZgWNhXEBFAHQp5E46ZU2PHuAfE9CbHBcQEbXJIQB+0FVdVaUpZ66ZYLjmO1lgJJFTKqoFRHB8fjIqKmcBaE5nGnZefvbaf6bFPvafz1as6qptYJwBm8kCmRiMpxlATsitrgaP7ul8RtRe6+vnUcMVZ69dNesPw9/suu2W/l922qreJu48AEUZGceK1RcB5ITcpenX3JKe5VNUccyBrWdNw6W7ALwFACvrY4mCuPuDTusbhhXx2HBDj0xB3dQza/6ezWafeOKvo1a37XtV1WxTik+N9dI1X7MxPQ7gnkQUF9E4E0OhSnAaRKWRmHZdduaal9l1n3jkd4Pf9se10S0t5c+JyJUwLhRap+B3G5p1g+M6MwAtJMeFJ7p36rlr3nnkdyPe7s6c9qjrUYSEd7tA+8I4CtX1Gnf/3Lbc6le3JhNJTFHgsmD8Cpc3X/zlVW//+vcV27qi24Vnre1XxDWXqei5MFwqggJiKhBVMJFaIE1EzVDdMfXsmmVZ2Mef+MPIf3RnDBEifJwRCbkRPnA4njkPhPGiiO+nIE8dpFH+xySfYg37NkY38x8QxHBvAIOITcw/YDBQKIgMOntmdkqamjhHF3Gc3oAOBBBTaD8mnjx58tqHHn98eHN3+nHxxVsKpSF9PRwarUouEUFUS0r7DOuc9o5TbKEDiSh5IP3Pf97XUMeccOLwMBBA0YHWt+Qlx23vS3PyujXt/PUjm7zG++DQOABlROSGeX59hg0OdAQ6FHBGZEhOnHzO+p/W7Jr7m1BzwRozEKqFRAaqKGOm2y89Z/l0QHd1dKuaNho3agZaIB70t0dlZSWqq1uXm1y1dgCJ+bFVOYWUyy3UAUzr/vn97UWOGQTV0UR0+Lq3N5w6+ey133n8D8P3O8RQh3p4SgOJYKAAYkjQAa7eqqptRUW2+adW9YtkzGAB4kTsz7cx8KAgIkDRC4YAYCQYh15+7voTLzl/9Y9+9dTIFR21PeWcmqOabOPtcPgwUipVwAnpGY5XgvFDMQjQMaoybsq563/9y98N+XHYTioFWv8W+gJmUFC/S62FFFK8rsS9UEQOI2J/fgwDwBVXV227rbOb11RKefK5G05n1/xMFSOUOO7zH7XhJ1OiUBB4pJKOcDjmAfh+V30bUB+jhgTlxgMyrTzajx4N8rZrCSgcL1kAPwJweldth5g+HQ6SsalW9ShiNqqw7KJ3fpnSPsPIIttXjRl0QOsZlPZv+X24cYct0aAu6xsDgQJgJWAUO+7nLz17zfef+MOIF8K2KivnOsUYcWzW2tthaKwFFQf8BxgE/MiAogQwEKiSQ8OtWAHwDX9chjxICTicP96TQSZmHK9BOL4AZC6BAupQbxK9CMDNXc3ntaeujDck7KkCOpyIjUKbCfTcPgza27qkkimo6WuZL4JiUG78QA8X5jTkHWbsD6WLzt00MOmauz3RTxNxP4WCnGA9otX4ocBgQA9hckZc/Pkt83/9woCGrsYRIcLHGZFNboQPFKdfXDtEmS4UwgAwWjubitKPfWphgUGDEOGDgWcAcRgeA9YhZA3eEYeXWMIS69ASy1jS3nOGdFOf5qzkt2MdCtuLeUxXO000HEh16zdAGpvOs4aP9ZidsD+eQ9iMzjVdMyRbxdCbbfvnQVdYh204PsvYag3ebG883KvIZj3AOpw3H1RvDbdbvu2zMcm9S/tuzwmc087fOrJZdKYwfdYyDRHDbm5+WN/Kq1/rGag4DGvQwxo6VJh+NLT/yM9UVc02AGCZcvQRh4wlOpWdou9VVS1zO5oTx3Fg8+jhOYzqNhLu5Kq1AxTOf1rCJDE8xDNwwvFbw6s80jesQ0s8phViWH3+4LhlGiEGXxXHPDD57LU99+Mnbs1PHhzoAdzhVlUtLUpS04Me68ViqMIzFM+1Z2hljr6EleH4rEOOxxhkDZ+j4vzyivO3j26v7UsnrT/RMv9KjPm0ZeprHXJy/JFPX8Mrc/333z/Gkl538aQNp4VtpVK3wGvNL12ObWnVD8gSLhOHTV77sI7pt4+aLuionqrS8jdWD1SH/p9lOtQ6HA/q13lG5ynzo0L6mBqa7TFWid8vEkM9LdlXujPvq7Ayf/3Ctlm1ixcvhrj544WxzCdeMmndpd1pH1BK790wxDJdF45f/P2mFTajFp5LyJsf2539yGN+wxrKqejuwZ5W4/GYbNv64vBbufEakHWoj2U6Gq5720Xn1RwXNEUjBozs5wF3i+EJ1lBxMD9Z6/BcYX0Uhh+zhN9ZptVBe+QxJ9Vx3m4ZFyAO8uaXACeJNXWbmxAzT4bjtYyEdfjLF5y5pn9XM7qvf59k1lCOn8RwozX0WFszkWnTNifFpSpraGir/Z650DIum3HxlsKO3nHmme8VOY5eb4lOFYf7eQYQYzyP8D/C9Ggw/l95RG9bhxqsAYnDLIxVZ5T079YBZ4QIH2dEN7kRPlBw3ExR1bEgcgQ4KASzKP33pczO0nElSOffkkX490GMgQAgMBQKFroWIjsAICOKWKs0jRhigCjiscSOkjH90ggII46BqgQn+gqARjSBr6+qunrGnDmpTm3dLrhga3/SzAyrKAUx+fUZgEUZyjvtvxeP/8lpzixgJs7vHxxzpCV6CDCFgIJAf9KsfcAQpSG+1BWOa9++uY0JZyI8puCGRwHQCvJkOgNN7Y0/v34CzrrH5lQJAFx99dKivTuzD4H50wBiBIJC6wl4hjx5Cg6vJ88X+1RMDEbGWcLXQHy0qjIr3pWsfWfOM3574oTz6dOHiApU9ZI4St6rrJw7qz1b9SYAbEIphUEA2t7kZo1zGxSfJnAsWGlQtU8bY56SNFYaVi8jChdslOxIy+ZaIjopKNgDwFkemy1VVfqN/I9qcZxgARsACibFgdzkxrjH9y3obDIossiN+0VH5V61vJKg1p9/NgqMFMOTFDifAFJoIcE5pgnpnwBahbyb7osu2l6WzWbuYKPj/A4aKLSeQU+JyFMGqA3pq0qGHarwFJeD+TSFgsELHTGvh+2lUsCq5QQoA1B0PUglh2pPE+ZPhPOdm3eAAb6uqmrpb9qzC73lFpBJxj5nFYeRY6AKJchyzso1jpFazXqN/huMkbhbwmJHiUNVqhhXWBp/qXszPyrgf5/ftI1KzfjxQOMeAI7J8SMIhYBzfVXV2ufnzBm+pbPWr70WsV3b+XvkYEALP2M/xZ2ysnI01tm8eUWzzcolna2/jCgcx5UsY3vYTk/0DA4ewnmmRus1XZJfX0XARL0s9GQ1fIkCI4mYVTGW4HwLwJnTpqnTULe5EiyfBNQQsYXoO0Z1hjJt4IzXBAAScxwS7QmHR1vFaQAdyunscy3jAhr3ss8n/v4CVQ/V1ZV2eNWWN5Szf7dEpxAxASjjpDsFwM86ms9USp2VyzeNJ2OODdZJGqp/rdDB77Qt27xdkhIzFypgWvZnhkIdAh+yOSPHA3hhv5cA6BXvVehxegqICwINgT2AfoNA86k5sxcAvBgRjNuDsuilDp0txF9kYM6kpw7cJ0OECB83REJuhA8M507bcUhW5Etg6hn+LGv4y6ktvyehZlGU//HKB6HBs1rXlcOcCO8f1hB8QQwgImQymffm/K7zD9b24BFAhqHqq66pqiGi8yGNs1MpfTGVoo5tqtl+yypVgIjz6oPI6fIm9ze/Kd8BYEfbv1ddsK7UZUckaE9EdspQ8+6cuwY3tdMMLrhgHcCU6z8UjV7vxPI5D3TfeQ8A7Nxb+jVy9DgoYkQEFdQbpus9m/lnj97DNj38MGXzy59xRu17PQuw2CP9MRuOSSZ786jDh27FM76A5jGC+fj/7d13nJ1FvT/wz/c785yzZ3t6IUiAgBQBYUP1ookFQQVBDVeRDgZ/FNsFkWYOegFRvHoJokaqcGkLKKBEUC576W0TCCWEhBBM2WQ3ye4mW06Zme/vj1N3s7upVL/vP/K8Tp7nPM/MPGXPPDPfmdz5yadvmEAuGrvdR1dOm3bX/Y2Nx/b9MWkBByrfvk8F9+sntJzsvT+SiGKF9RzwMxsqrnt75WvLm5qm9mmBOeechQtaW+2r1tA3vchFRGxEpJKIT4Ysu0NEni/EwpbSm3vhkZFQvMc35usnLt/XOzmFiKoL6SIvlwuZW2o7Um/NnD0x3TddsqBt6ZK5pjJa5EAXERGJiCWiw//9+BWn3Xkrritsmw2Zn7Chjxe6VkpAlyX5drY7/dhunUtb+g9udsQRCxeMGFE3z/vUXCKzc8b7i29pnFCsRCWTwDeOMxAUXuwMnbdp0xpZok+c7wRxAkNEVhjQzZ5wQS7dtIuN1U8F8MAAX+fA5kgQjOQGnfDkw8VHfX2Hx449dsOKxMknv7Ugk8ILFdbWzJo1vmfjJZ8j1sDnz5v0a35vbgY+urtFCKHs/iQWkd3ZxL4P4PzB8y6mdW3Lp9jwMSJ9vo/cBOklLS0rUF07HqXt4O+4Z/tXNzUPBR0AEpbL7mfxt9+5ywD7ETpl2srX0yb7rMDeLQjVBLIADjzppFU7v5FZsnysje+GQCbfRTnFkGt75CNNjf0qcSJCxx779OsVFROfdj3ZmlvLuvO3tADVdQwJ+fQAYFgAJF2QzoiWXi+WP5svlwoR+uoJ566cectVA3f3nTNndaKqhk8QCZX5/fVapjuTt1CmfLsjjlgYd1V8eAhhj9zzAF0MniUIx4N4tIjUEeP/YYBK7vTpEnV0Ld3HkBmRf/6kEOQviUTFnTfcMGp9/+2TSeF58+YvrI7X3NTR3a2DT6l/CVrJVe+YdPDHMdNOAWKAUgsg8ss+LYO6/gO3ngRvWnF9KgVq2/L57oLFGLOqQXuuDSlEpRNaqDBDUA8Tm/HikiVfxiCDUH31xKV7O8FXCJyfD7n0fQkCjBu6JXdQNkKWAJL8/piBZYO/K3GJCLnqJ5VamNraBt1+INOmvVodGNMBShTKkwgXd3el7/3znyd2YoAY2gceGN8DYP5xx606N0MZ3nPPGxcnk8nSwFMm3+JVePFTKp/tBJTkik8uBOTV8n2nIsAKF7fPteSiWNH1CKeR5ZrieqFrjLFX33z7yJXAmA3SOHPmLmkAb0yb1nINx2XnQPhGrgaCYQB/d+rUppOQHxwsFFr6ChU/spvckusIp1EuRjx3/QS5y1B09e23j1k10PYzZ1IawJJp01qu5gqp9sB3CUQCVBEwHZDrAZKvHL9knBBPy8Uc58qTBd8mE/35jvu2H7ASMXv2LmkAi044YdHV2aypvPPOHZeUr08mZ+C1N5ej2CI5dCYp1EzdFy4zmYQBIBDhXgqxmQHZc4RQTUBMgB9ggEpuUxMwenseVnoVCEGUWDVQBRcA8nHwSwZaN6hJgGsHwIUW1v4tuQ3oSC0HiMvvbwgoTiTHTzt52e2NN00YYBAqoS4sGl7NVRcLUNunvAZ6MTBuPFwvNunFwZDqAe8JfZ5HAyK5sRFt3/zmmqcd0n8D89fy91tVt/cHjUrbe0OFxGGL6RXP1Nl4x4Zln3/R0wvgnxtkaxzQ2QNI2f2czt+yjY3ITjuRHmfheQLZWyCGgJ17VmYPB3BP/30lk8Lz31y1g4N8OdcDB56EXu+ObFP/bYcNG1WZpe5TyXJMBMJCrQiZ33iORoBwkoAiAAd9/aSVn7nj5rF9BopaunQRV49K1Dih/ItoIWbigSq4uXRRQK5n9maMFK7UB5vG5Kp3xGHTV+xGlg8PoPrc4BuALj9cy8B4PMXVOnDFO8gZRjC5mEJvGVta2M5wPqaVijGK3jK8oQOZEydPOfmtioG+J2x/HCyPc4ao//dDjLf455JDroJY2h+AIUK7XRYbpB+jRm3WMUPd8E96w2NyMXkEb/ilYO2df/rTwBXccrfdNmZx463bLyqv4AK5lvY+5cm0MhcjSwhMe2Yt/uuYs9YPL/+Otba4vTMEFyu15B51fOukYMzejokL+yOLX95666iVG0tjY+O4NmeyV3jLvrD/YPhLo3ber7ZYjgx4a0rHBzYpJnfKtNZqYXOsN0SF/FJMLr/99jFDjvxaSFdWMj8Xwy3F82do738/ZfW+AMCxxOecQV3x/Bp6sH11259vuWXjg+Lccsuk1jvu2HGDCmMuJtf0vV4GkUwKheC/F4yJO0PwufP3m3R6ZGtg3JFPLwXL+3/5+BWH9v/+mWdCHMuisuvTOA6XHP2t1o9vLP2bbBHgY4Pnp7m5Gc7age5v8saMCWR/OtBuGxqabWV1zTe8oQNy6WcJlrvy9wec6fcTsSX3oqS0/y38CdnR/34eej+LMz3ZEKO3y/LHiGhcW5WTYGxX2f2U8JH97lEnL//c5iSnpQVwsb7pscU2IJJU+6p2x/hzbr2BN6YaUXTqQPtasQIVWSPHBmvq8/vr9SS339+v8jl9ukQp290QrDnI5WL7ex3jnl13/cg/nXE3FM5fsFSfYRzb/zgHHjjJZ5hXFZ/HbGJZ5k9+9eSV3zpsiDhepf6VaEuuekdEJvblIGEimMz7oUKmy3dgKf7vXFmrldx3UK6LogD5lps4y3FHn97aCQPAh9zorx4o/8w2+sfeo+qXlncj94ZBhVgzwsskFAewM0BxEP7fMI4/hKQsQNl3jjp11TcDYYoAlkAgwf8Epq8SUAFQrnI0bgvDuiLAEZVapNjCLMsMub3nsu6TTGN8Vk48+ozWdP/8l3+OOtfc0ti4ZwYAPLgBNj+qcK6Lwj28ftTaLZk+p8AZzucg/y/R+QL5LxAPB2BA+KSkUz+bNu3VswrpSAFgW8hLvgymAGgCTIUc4oUShf2JoUeW8NLl2MR2szVvL15Qv/Mej4FoKgQMUK0LXbtB5GkQCWxhVOZ8l8xNbMmtHU67eUfDUerK8XhYt3b+pqbr3lsnthx92qq/Azgptw+Kpyk7GcAcx/g0qFDJIZCXex5+eJ+teq4kk8CcZZQbkze/38HMW7Z8fDDRkQJAQALIg51vLljU1DQuHHOquUEIpwMEEBJkzHQAfeJoj30NcrShh0F0GkAIAAvoUxC55cunt74OhMddxHOFsPDBa0dvdqgBgFxLbg+BCpXKfgNCNTQ0oC2syk3xDABgLxKeIeZP5Foe+ZPHnNZ60p+uH31z6VtCOx3cOSHTmz6TQHEAnkBPBqAKkIZcsfUrt3GAC4R8izcEEjv69NbThnoekcD5hPzt/v8ua/Gvz9/PQ5yXchMmTEB2XVu8eLkRSfAhhSVLnJu42+Mw3AWgGiADyGQiO/Oo01tfIoS5jmiuEbx4/3UD9zgo5YvLsktIodRJqaGhITXnnytuY7JnABgDwArQcMypqw7+0w1jni4VqdCy01tGxQx/E6Dc9SSyOjjc1v+Q7Wiv9LHoDBKpzJWD9EZibksmyU07pWV+lvEIwJ8RSBxEn/vyySv3uu+mscWY3mQS/iunh7d84FfA/LFcYfI4gfw4YemEo05f1SSEl2yIFvzp+uGvbFJBK/Uho5Vctc0dOX3dSC/pLxKbYRJC7g9lPsanEOtT+NkuxaBPXf9BWh9EmuIUf+nPM2mImonaWlkGuDhtDEFE/oMMe4gA1ubOh82dn8JnlrD8gRXNK1A276o3ACE3+BSA9RC6lgg/F0gNgXYOwHentbad2wh0AcBRpy8eI5bOdgH1+VjKpw2ZB7z4I3MxaQImwooVW1bJzVqgPPZPJCAaoiU3ay04d90VyuEjRHShAKF//ss/t9WYuwBkACBYs1cIwRSuY8P8Sltb01bFk3um/FhcuXS5jJsdi8z2ATQDhEhE4kR0bPew0cunT5fLZs2iLKyFE5TuJ2Yg35KbZRqfL28QEeD9ozu1N4TmTUxPU9NUd+Ruq59HkCmg3P0rxu6DS/EMAEkzg/P/T0TIhk2LyQ2QncVyKV2C5z6+5x6ucTNGnBOL//XCJxbyxxyNAQDHvB1K1zdiiG31/J3JJHDk9D7TGQ22Jae54tuEUJuPiQxMcm1hwDDXtuIljLOzBTgiF+OKLxz17dZ97//d6LmlXVDIHvf230114poAnJ3PRwURfUxEJhGbQyhgHRN1ffGM1lcMcbPjcPdmVXgXAfIRgs9fN/2b35vRjPF2IiSEQjk6Q3aWD2EMmCdBUA3Gd79w8lsPPXhTLqZ/WhJR74r0f5DhSQIIQdbCyWUU8cWhcH0OcHeIKU8HYmCaMdTziBg96OHXAJSNrgzU2PLY38HflYgIffmc1cPE0hFlse/eUGxOU9NUf/TJ7S8GzlwrzD/Mx/jGRLArATsE8KeIaF0QdHzpjDWLgdDEFeFPfSrcxXxZePHF64W49PM4maRwwrmyrL2zrZGYzhYRIqI6F8JJAIqV3CO+sCgW22HYJ10IO+SfaykjdPcDubEJSpLCmdXtH/EZfD7/HEwz8d+6Vjw/HwC6qrvWRan6GwPJZ4iYRGQMVZjjAFxQ2glJ7/KFbfEJdT91kBuIuSo31gJPgGA8iHYXkfUu8uu/eEbrUiJ6IQSa/eCskc8OWthKfchod2W1zXmT/poQTQoQK0wQAoQJoXxJKH7W9R+49d1g/t2qRNcqbGJLjtoyYkyxS6xnQjA83hG294a294TtA9P2/T9nSBI7jW+gvvspfh/BMEDmwcD4azCccYaMWHvsOtD+U5JiAcDFak/xRHsGw8YB3YH4ynQUVvlCV9x8F+Px47YsX87aYnpyXe0Yy5YNtT2QLd8+N13OdgPlv/xzbdWoYjlkIVXB5LoqB8tIm5AeNWrKVl2/PqJCeuCZ4B31ZLJ+ljd0vTfk8umthaUzl5o1X5w2TUzKovx85oJlp+T2Fwxs+f6ycW5p3HPz7jEH6fGGivsX5tHTXs01mRWPm186u/EKLgAI80RvyssfPUlcullllbZmuS+dPzjOtUcGQyaUXZ9r33xx+abs7/Nnte13+Jlrnjz8zNVPHnHWmieOOKd138K6ZHIGvEGpq/8g3Wq/9O0fjgtGpue7fEpgzE31hGJL7QP3j+v1FG4pnS+qdwN0Hf3rbR/pyIbMlWL4Is9YWXZ+KxzR+GBoN08yORialmVcIOD7v/D/Vp+1yYU3CXBUHrrQ96Q1oAGBSvkNhsUZWQpDV+XyT+wIu0tVzfdy5SPc2do62RtznDNkgmUXDO4wtbHnCtNMeSZItGG5OebS9Z7b75DPI0eYkI0KMf059fX1fe5/bwc+P9OmiTni7NaDnNCvPdPE/HUSxPLyQOkXAcifb/rvdVbsTAH+Ixial7u+iLyhimB4jGfaJRiaHIwcFZguzmTNvV84s+2ME86Vsi694+A49ElPtl8TUOptpEKMb3VAd/56iUvEh33m9FXF6YR44qjKNMtZwbLJlY/pySL7hw3y1dpWmQ3+lGC4ptBVOQB3zp79hTQAPHj1pEwg83iw5uX8+gpHcsxh314/unw/s2dPygRPs9nycYHokbLrgz3TyGB4R0fYOxg+LBDOEkuzjjhz9cwjz+7YccACV+pDRiu5aps6cvqKSmHzBSEMf190qdXltl8CNwa3/rGn/muCzrP3DsuafOxaIeaM6eVgeG4WmOsNz80S5pY+Y26WMFeM6Vi8orlPxShbFgPqLaGrktYhVnGZN7QqP8/qMGGTtCvaq77w/a69HNOpwZoqZwghZu5J96aeQDCuPAY1WN7I2MqDc+gbk5e1Q0+37GALsZzl8+S+NFD+y8und+XK0iBREXc5Q1KMaTRb35HJ53/wl/9Qn33juDbJpi7zhpq8oZBfPypYc1XnuPbdDUfkuCxGOlZqyS3NY5uPqSU7cdoem9ins5hPU+XLY7ANLWlsvFQK+/d90ms2KSbXwS315THUxFVJzNissgomGtX3+smVv8/HzhbSW73/fpv0A9waWxcYh4jhQzxwiEhUV1jXPybXmw2LUEQoFfUcE6wZlb+exVnc+XB5LDCRVFUmHnJUjLllb+yJU85sHdt3bySzr5uwLNWd+j0MjvRCp3pDjb4wLy4TvDXwko+YLQAAIABJREFUzFXB8HjPNNlbPv/z56wddNTjcgsXAT5Gg8fkojk/L3Ax5hkSWe/S7l4x9FDuOjBxT3TCl87p2qdpyZIYTPSf3tCwYFgchaXBmp+voq50MWbbMLL9jrMChfmkizG5fqj7L0uYG5hfcsH16X7e0dHRPyY38fnvrL3mc+esvqawPOy7a6/tHNMxO5joekf0RW/Z5K+TXhdw+QPFkamT4d7rhi8Xjm70IZwYmL4ViG72lueVlQd5wwlnaDsYPijLfMGqTHuylK+WXKxxn/LtO9V1YyN5n4oWSsRP5K8XcsyjbSI6GQCm/16ijJFDg7Efz5/vdGA8VPW57d7sf92t4jDKG3tCPsbXeaL5XIfiwFREJDR+2GoHua0QgxwMb4co22/eY5L7bxi1Pms7HmKLsx3JUTB0lSd62lvqLsYQM0XempGesZc3fHwG4dfHnNu3wqzUh5F2V1bblE8kJgcXdgVT7H1RIdPltl0yfstBZta279C6NbGMatOINfAAirGo4r/Dzq+mWAySyWCgJUv4Z/PvGxxmlfbjTT7eTHLzuQJAZUv1/I5x7dcI048hVAXgQKrCyWlxB5M1HwkiDOJVcOGqQ3farv3J1e0itjQqcIBgPIBN7Urbh7W5aY3y71mJDIZoyM1Nu1O2PYjeEPHfNsy9g5WDZDKYsucePU35LrWe+Y18snPpJzkEe+IfaMQWzxcZymJrAYDzbTqzr5uw7NNndZzPVm4WyJ4EJgA7C2GWC/gtm+KNBRAVY3Iliq30IlKIVSaSvRf/ozk3KfEmyjJN5sK8UyAEkTchMwSURCkmN7d/qdjE0ZUrEot8CFL8nqHJyY18pT/P4SAqi711Iitz/y+LAJ5a+P/urDsUwMKN7S8FFGNUhQnBl2YZSiZn4LGOdrAM/h7/c2e016LSnlke8w6O7Ge+33Fa+Xbt5BjWrAJoUm47GWtN/Axgw6bsR/44YQ2ANYedK/OR6mwillrvpYZjdGgIsp8wH45c7CgJMAGEsz///c57HvpV3aKh8rrLJCBDBMpX1mWD9okGOG4v3R9gpEOQQ3cYu+bxtrWXkuVP5I87ppfcFVRXf0cADsnnO0OBfjp75ohl074vibWmA1SKfe9zlPHjgZ4OKq2HpDidOXGo55ETCZXZUX0HB6uv73sdAjEQjifkn3e5ly8EgyqADEovKVIM+pmJ6L6++Sf562/RDpGOKWe1vVlt7cOpkKljEx/mA/YjQ58MkMMArsrHTH8EkK9/5nvr7n3k17VPj8c49HI7iu0+BIjb8M/bDqZ2/RJq/01g+nx+wwoQvnbYuXLN4ubFVhLDTxYgnp/ntpcJNzT2G2V78hktiWGJyq95yMj8fMYBxqzvzuLYz3y/NMh977q1jDhVIRSeL5IA4auHnbvy2of7TV00OzfC+uvTkq8u7m4d9byPJW4glx3OzLsHwmSBHAZgx9zDRuoBOnS9y5wI4KoNMqnUh4hWctU2lfXhU2xohAShPjGeuvwwLH/rQvh17adGvtn/D7d6Z2SJwGUxn5KV15t+N3bjsXwz+370hsDECBJyP4RDQGMj+SnTV9zA1dWHB4RDiSguIucRoU6AWG7+WncljRy+MJmkMPW8dRAf+lwXW9OSS9aUx3hjggzelOsigKQ8Nhk9qM3OfyQ5csh5cssnl/QxfhpeHArzzzJ/cfnKrqsh0oYtfGHjmPuUR2tZpF8YVTfPt6/9AVt7u4iMyKd7fzJU6UVsIWaWyyoSaReeNTETymKwv1I3as8rkJv2ZKNpnPK99o+L4QYnwvnvd9WH+lcK+cswg4FSOYbsJsXkyureV/3oxHoRqc/vt2FKT+d+Tbl3HBtN16HfaxsXDH89H8sIEUEc0dMA4G30ouRjIXNjANjTAdywsX2iAnCuNN+wjcpjKC/F1B/8AA6563XDFAq5mvVTIbJL2fljETkzVw+Q8vSAjNShsB2YQPjGlKT8silJA15/D19F3QCKc5F+5qxl8xGrrgvBXwdjrxHIpHxs8thAfBiAISu5CwF8pDhPLhVi68s0I9hdIYX1AAxbJJMUpn1fXlwtnTNh6IJczCZNFcEenigOEQ/g/3oC3QsAy7AMCa6DR9hgmiIAWLECqKs2ufW5cvL/+N3YLRjUqAPeDi//+0JEVDfY3x+IBCJ+RbKZHyei2JMP/HLYugF3SyRNuXEF8udF6Ojvdcxb5+kBWLkxgC4gpoNzx+NhElwDgKdXoAX1UTV8MaYZoMSG+Z81i9xnLux6zqfcM0R0UL48d3LSdQRGjn4dKf/ZQkw0ETd3rE893XcPQnU1qVEO6W/l52MGgSKBHEBkd+87BoZFIBjmQgw9GwEmAYljANw6UPYbk3tmAKwEsFJE6N9OWzCvduSov/U6exMDxwXIOfn5jWuIzdHQSq76kNPuymqbaZi+ohJEnw5A/QYxnrr8IC+XwPAPRDK/GN6qFdx3k0Tct8tlVeUW7ydr8rF2FkB9PQCgadb41Q5yVYi4O9+VdDtnuTpYJs/0tBDubkoiDeSn/SnrYhgMgC2cJjebsHCmtD9EuR/Yg25vLXxU2l4sARudvKavnpR7wjOvcAzJxxTuTnXy3T0u7dcvcQBTkq3V+5/XNRZSbMICkGvJLT8/Y8eU1jUlyVWG4Y85ph+FiDO58iXrDfb0lrjUdbf0nSoa9oYzeNxbDvn1ozLZ9IyG6bLRF9JTkq3VLm4ud4ZqC+kRa/7SUd9UqojZXHfTwnoX37SW3IdvGdvtGH/xliWf3ypH5oojkmtqNv5tAPH4pd7Q6OL1wzQ3XVu1AADShLuD5fW+eF3Rfv92wfrvbGyXqX5d2FNlJZRMzoC3obi+f8xnMglyBv8RLNny8xcsb+8Nbd9/6S3XFs+XBXnDE31q/dc3Ke8AHvnNhDWP/Kp+cUVY2+QMri07HrwNwzf2/V2APvdLsBsMrwxn+96fLl8ejb9CysTD7wLRS/n1FcHyDt6QeMPtnuSyZ2eOyFcaJxT34+2Gsb8Yj9J6Q3ADxOxumvrS9Fu585MJLDeI4Rt8cYn/Kax3kUHWIJFJ8NwHflm7euP7LyD586+HdfzvzPo3O+uGPSLW3FTqwgySmK0EgPHjx5VCBXL3KdzAOxS/oq3TW9xclv4aZ+Rs5+WUYLnGGUKIKOWZ/9Rc7FKdc8Q5iGVs5lPB8E6l64koWK4f6LoTQ+P7XJ+G6hzT6ZuUcyJ58obd1s/++YhlU2prn5OIfx8MvZXPn3U8xFtFpT4ktJKrtpkRicRkYUwAkX1fdK3V5dYtQW0iuMYAJ2QINx4ycszbjY1awX03ZanPD8Etnic3Q1SMOXOW0dFR6hZXV1vb5IG7veF0MUaWuVvYXNndNbw0P2uF7RPz5yxji5ty4frMk5vdhD9F5TGhWSZgMyPKnp05Yp2L+A9iTSZfnnFh+la967nw4O93Dpd+FdiCQy5O7ZzOJK63FrcfclHXnslkqQ+sN6bP+enfxD57JqWrq2rucoKZ3rLLb2fLY1BDWQVs9kxKI7K/9oZdYb1Y81U7cv1lU5Lt9YPlbf/zusams5XXBOZPBcucm+/VdGU9fvvojCnFezbDXCzHQsVvU2JyAYDY/NwzrSu+aGA6tD0dv/YTSRn0VceUZGv1wRd3Xe6YjvWWqfiChPDrpiSlAOCpq2paHeP2Usw4xwPo/E9c1H3hUOmxFegbQ2n7tuQ6M3BMrojQg+n1XxDD++diVVmcoTnB8g2BcQPll/0/i+WbChVMx4h5Q6cU9nfgD3smHHxh1537X9g15Ny4s1dOciEyFeXn37MZsjcCkGvJ3WCe6HLNzQhc9sKFCbCFdzck/1g8bHmI2Z+V37/esPNG7qjaob5stN1lpetjoHlyV5TS4QvH2QId6BuT6w2lJBZLis8mK/LLYOknjuV/cvkBe8vbBYp+0G9XNCXZNfbgC9f/z4EXdg05N+7o4fBpy1L+oiCbz96KFS19Ypq9JWDAmcOBR2+cmE4HPOQNr8pfPzYYPkAMn5j/fvBEb3OV3LlBvu26KjHmTGfI5PPfO9j1VvgMw7c4plfy21uJePcDfrT+0wDwiR+21Xziwq4LDvrRutMP+4UMOjduMgmRRJTOv8CEN+zFmDVDniSlPgS0u7LaZjzhUwDVvy8qaLrcoiWB2oLgGSJ+XCQ8TRJfXLOyctXfGskXR8VQ75oQMXyx46BAEmavyT/J5MY0zqLv2Cj9PleH6OWmJDkA8JFBEAD56Yjq60v1pQeS1HPQxelfCtxhAE8AhJjl3rT3TzTPKjVoZF1ulOYchiBs8fDKziaKdWdAIIZhhpiMytmoz/bEXNXlq/eZ/JNMqaVkkPKIh+yqJ2dUtoBIDOTGjOVPQ+izAAzAowRyJqqj/fb/cc9fDkh2zyGk3giIV7KESST2Ey6ErxGbPQFEQpj1F3RNR1JeQ5JCrhIgAArLDc1O0rpDL+z+ZQbYGYaPBMSUtmc4lj5/iDsz65uqKmpu9MDpABtAakE4rcfZhgMvST2QhX88UV35Rqa3u0o8jTPgz4PkmBCwB4zkm/oZBP/f2ZrqF8pj54NlhGI3VAGZaNLkS7NrJ/8kI0NdT/F45yLufX5+cAf8KoB+TAADEhfQ0cH37nbAj3v/JIzHK6KwcE22cn0lZ3ehtDu019ORgrAvGa4L+fwSwl3VXNsnptIa+59pkskA75crFxoPku/uf0nPfgDuksgu7AkdC4FRqOTsLpQNh6ZC+EZufGYBmBHKw5aTM+Bcdz5GNfdkK6BLQQdE9kQXpBA7KcbTT5moGfnrm4vz0ZY+ZzwZWD9WQIeDiQS0z/7J1OF0bOPf99/tyOMhdBQTdt//4u4XiGm24+zcOclCrK3QwRf1jg/c88Us6MzcPLMCEAeG/N+AF06ZXQCsYS5FsHK/ymdDA7LLukBi8vulslleATSSd9/vfFiq+F4BfQVgEZGllVF05ezvULq43fYTkG3vzd9qgtL8xXnjxyHry9aDzeSfZHKjWm/keRSC+DnJ+DwAQH09nCMU7wOi8NRPK5f2OVZS+CDXdZmA9gJ4b0ASMPTv+1/S9cLzP62+FQCmJSVa6nqOFOZjQNjvgEt654Qg91LEc59PViwu7OcTkprQ1tp1pLH2DCehcFxHQV4u5Mu5buQm+M3lmwZpyiUi2fvcla1sqm8SmPNzQfmUACSR32+K2dzZlKzq0+K8R/LVWAj2UB/o45Q7SpoR7oNwcqDrrfDZZTIxH0WfAuP6/PVaj4jPxrS7/s9V1u4I574nxqY6O3uOOfCSnkdh8ERv1bqX552Xi9uddM7C+KgR6am9zn8LxgzP3w8ZEj9n4Bwq9eGhlVy17RDvLwi1hTFPCEDfGJOyWBtd/26sfzuIdBBRQJDcfJ5BwKD5QpIi5D6TQY9IeEuIFoo3qyKLtd0pWfPZMcM6k0naqnlE1dbJGoCL55UhIldTCE4gIEMQnz//ZZ9z51/QE4umAFgDFObJ5WLMXke/4zyzIPbGgR+TK72EbxKMCz575Rcvr2l/7oqyWNVEBOcciHOtf4YssKJli/LlkAXbWC5GOL9Ds/0QMbkAyBbSzxDBR0E0C96HwfJf+Jwmun6PS1+79jUg8/gVNW0HJbsvdIFqyfABuXlzeZQEHEZM+3qgE1TZRQLj2VaJhOHENLoYSxqwh2FTU5iB2DFAzMXzM5jHL69qOeSnqXPTTiYR0Z6525QG/N68q8Z273/RmssoqhrrJRxJxCwiw4n4kxLC7szmtFRvbzeRMcKo8IRRAhpNDMo9DggS5MrKOP/mmYuot085MhfPXz4W+nxG6Mo9BwYuPxAh1VV1+hM/mfLcPud1/TZeZa0XuYiYSUSqiKhBRLYn0PHdWepOUMpJQBUiGu4Eo4nYFvMZwuwKthf84z+pszxdj11WufTAZM9ZLtAfiWmXfPpGS5AvEdF+Enx3gmq6RXqBwFWBZbgQjy5eD0EQcfnPmUsR7PkDlS8dyNl9ndBhZAkSIMQ0J5Xq/Pu8foP59JdMCv8l9P4RTIfnH7uVEsIPGz477ZHQkjpVwBUishcR7xgkTGHEOxuSPd2553MKGeIKiIwmYEI+f0ECGkePTLw21HGBXEtuvS27XjYIyW0Gxu8JV1gvAPcbPfzzdbUd92V7rjAR7QhBloh/25RM9IkRWLp0GcbUjcx9nyj/YqzMihb47YYBAYW/NwmE8Meh7r/C/cnE6wEcAgDoAHw9lz/XBihwCs9Mf2HRAeP3muFDuJWYqkRkNIgv2CuZeurlZMXiuWvWVtSPqDxdRBJE/FEJYQeK6KAAdE6+tLcnF/OaohRJBawd44OMhWFA4EA0p2ONe7JwOLE2H/OcS0+UGPx8zKse03uQydzssuHsfLoK16EQ8Wrn07f1/06iYo9Etqf3JLYUz5//3uDk9mcu61e570+EGpKpLBFeEZGPEXEEwf4H7XX05Kz4T5Pl0bnjm7EiYT+AT4m669ZNvrTXF2LNMxJGkjXbiQSTCz3HqiiY64Y8rlIfAlrJVdvE1B+u+6g4P1GEouJAsED+DxwG6Aqr6zdnPYF6AuQtYsr4gLeZqQO5n2jzEUKK2SDAv02EjiASLCw8Qq8hyTovEotFyGQAxIDgXJcNEgABAQi9wddWjOhe2o3uXMtdrmLzBNR7TayFg5S3SO0mxc8AkP9BWdYyWPiclu7i891bkz+rJnddVfc7UCP5np07brMViUfJZWTnvavfSFLfFxwpZEFRfvAnEDwEZksnyk1EyAqB8i3LEEK0dIjxlROAK9ueQJUA9hgq/4XygYQxO9TvQYWaxDN4bt6BfMjpGZJzYM1pAonIUByQCQBNKOQvx5T2J3iJ4C+n0PsqkpUBAEJk+h5/DAb11CUVb348mT2D2N0PohGF1kUBNhg7+fnLRizdL5k6V5jmgfgckNQDsDBmnEDGEfIxmQyU0iuA0EoSuobi7obHL6pcWdh9QYgYhU3zJrqNlF9+kKrq3KOopnXv5PqZ1kYrg+BCEI3PvVDj0YCMBhihT/nl0yfcBfE3xiIz84lL8i1sG5ziZ19YT/92quNwDlF+LlqDuEB2LOYPXHY/IJ9erGdDN2S7euYW9pXEDNxn0qX8FJ6zSaFeyvy7sVwHALmxzOTOjVVwASCZpHDABesezlbEFsHQJEAIhvd3q3r2jox50AtOI+JqgVQTTP4OM33PT7F8KUDkL3HIxX1aUgezyyT4zmy+NAXUP1a2oQGZVZlcfTp/vCB9myKTSQoNv5eX0JI5kQyEQ2yDytX2209AqjsNFIch7x+TOw6BswAXLyAWyMc2ev3kPpdebNSjOHdx3+37mTU5m0lKE9v0zYFwJsAswCRDdMnev5Czh3cj08GZ+4hkTwBVMCYhkJ1y5U399i+FllJHQk9LwHmLirHIQMaUP18MUjJIUy4AJCmYK2VZGpl7BXJCYf9iOUOC/5u0Z92S8lHnpzwqtvOx1GSJzGdz9wc8Ar1eWVP56OAHKRQhSW9S1sYodR8Z8zGBEIFGZIFTjPBDnvAKGXwMkBhgxgpkbHl5ludfwEKCZRA6d/Xaf7640WMr9QGnlVy1TYj3u4O4RqCjKm/pEqD5kLCWid8KEjrImLe88x0R27e8y/SaeLzHZyRw3Pem0z6bSADpdby+ohYB7R6TGob1zDqDHAbrN6k+cDwDoMKown1bPspbAgdaoixEyxODTK7ln4nQtx0t5+Wf1bcDaAeAAfux2Qgeua58heO0+i1rye0FYG15egMwREtuLwBruF85DJ3/wnpmi4ULywavTU51zwKvHXilXJbKZh4Woq8J8Elis11+1NW+3wc/6UP4m2H6S1t7YsGyX1UWW0edoT7HxaoBEl/mxaYnntv3s4ec44iuIcJwAUBk0DRApPucZMWivZPrr7Fc0eTIf4MMHxoEuxIxbZD/EBYxmbsl4/4eVcfnNZ8bH3BwHmdzoyuHzSg/IoYLrtjrd16ypnWn89feWltd82pA+CwZmuaBXQf8vg8rmXm293Sbjcdee/Z8GjSKuyk51SH56DMH0JTlKfQ2wkanSMC+xBg3UPqYsFA8zTZCD3T7zGsLrhxevKqTyUux9+UXFa+Xgn1s7zgx0UlOchVBkdBSE4v/ceizVvJcvKZ9n8jdHCA/zaejEhSd7L37GcAPepIjmfnfPPDxgcsXgYHHEKSRrTz8zAWJJRs/KoCFi+DHT8y3wPMGgdTNzc3Ye+I+ZfcHQDa2wW6az6AsgEFHQ166FBg+2uTLlzdoyW1BC0baUcWeAJt6/RQ+F3QAqC2//zdoMi45Glh3J+HXkeF9BTiYiKIQ5EvswvNNSf7tIb+IXdeVcnPIYGoQOZSYDx7o+EzsRcLrBL7L+9C4+x6xNwpvRVoAjCxLDwTgjYxHl6pHyrfKbbDmhLLj9EQG1/YfnLFl9upErH7YMUCoyee3lwi3P3k+rR/yIHmvAT37xCtu9yH7LSIeLYI4kXwulc7+riIeO9n5MJXYHBYg++TW980/cqNoLyWRv5KYu1a5thdW5KYdUupDTSu5apsQ0K5CqNygRVKXAyxpPghLIVgMkkUSaDlZ0wLvOkxkMy7jepl8NtNNPZay2UdG1/dAuw3/SxKKXSTsfmk5oqxziGyETV2aOqwt7seGi0T4KmsictnM+pHFKTY2XVdm3cuViZrDvYeJbAT41PLpGJfa3PlSAaDGVczrjbKHGYpM1jlEFJY/vQ6D/ujKuIp5JuYOMzbizS0HYixbNGJStv8+nz2flk26Wtpsd2puBDMiCO1AzOOC9wyDXNdLQy+5EFZXuHRrc7JmDdB/qiH6nBdw4XjTqsf0zhsq401Tnf/iyvs5DH/TeYoia5HOpJZhRoXHAAU5L1nTOiX56GOr7YELQ+ARkaExATxJyLN4AQxAAS8yU5cP6RUjUbWm6dzBogkBidmbXNr97+aUX9Y5xLKpV0GJYt4XXzm8c0pSnlhbhdeymezdMaIqD9lXGFRMl2ChgFZn2beOzlSsaDp/8HQVJae654C3jrhaVizpTL9kiOuCyERiGlfYL4TFWJ6byWa741HUWteL1rnJqN++k0HcBeeYilht1pVWDXOJNW3svlLIFzOlnjqPNn2c7iQFf5n8wUZ4NOscIhC8hDUvXVy5fEpSVrXb3leDo+Ec47oQZBdhVBfTDQlG6EWPsKayNrbi2e/QwNPgDGDRiEnZvShztjG5/DD6/T34fYPLXpaaFY9VPJjNhRRIb8/gldnBnF6H9D0UziocJwbbXr5+Osal7iGcZQxqN/c+DJlsseI3EfVdbeL+rbDe2MHngU4mKUy7Sxa/tihzemRjw7LOgQxJ1mWWAwl56jy0NvxeHult6X4xHqu62ZEbCeadgwvVhfsYBs6F7DyKEuujbFfLS5fUtJUXzgogNRr2Wljcl3UOxojv6l0/ZDfy5jPI7ZGUJ8iU5QNw6xLRBi2ke08e2TNvQXpmIh6/vZDfVG805LRRfQuBgv29vJFaiy9BEIusRUay2QSq3mhOX5raKz5jMVz6AY5xnfd+NJh3LFx3QcQTSQsH9zakctWkXbFy7rHjdQBJ9S9hy4bGU6qfQ8/rvJqJTpQgde91i+j7bDmfCC+KxwI2tDxkw2ITt2uy2dBrre1x69u6fQWnnv7VhNSGP6CVUu+WI66W+ILl7RXDhg1DO9oxDMPQ/CNah/dTz4jko7ahYkpVIX3t7e1YXNaC+V5q+JnUtbe3o1B+HzlwWHfT1E2o2G7EpKslHnraKwr5HTZsGJp/NFBfhPeXvf8oVV2vttt+19P7Pt0feCK091WojDxs4XrpTK2VRckRm/xS4YOs4fcStbe3Vxbul1HbDZM1CxelF2nLrfoXpJVctU0cet66RwEcimKw2L8gwWoCXg6CNwzRSyJYEAytsWQ6Pbnu4FOpJytHdmurrFJKKaWUUu8c7a6stolAUs3E5n3QcvruLUGrA+RlJrwo4ucymzezDmvjxnb19vauO2LE8C4dnVgppZRSSql3l7bkqq3WkFxRmUjXPi4i+73XaXnHCV4H6EkGNQf4lwNjtSXTWR+r7HwgiV7tcqyUUkoppdR7S1ty1VarTNdMDEAFyls68b6YJ3ar1weRHgJeEJFma+2T2UzmLcPx1Zmeng5tqVVKKaWUUur9Ryu5aqtlxCcMW/N+nmd2s9YLekjwgjA9LoImCbI8sqajel1i7eyZiUyhtfbZzS0opZRSSiml1DtOK7lq60URvM/Nv/m+iJXdwiUIcxDkCSJ6MHj5J1dUrXnmVaxBI+lw+0oppZRSSn1AaCVXbTUTeHWgkA2E98k8tJu1XC3Ag8T814CwIIq4LUJla9PlWz/1hVJKKaWUUurdp5VctdW2iypa3va96UKM63vdIrspSwieIMjfnMs8aSsqllRg5cpHZ0xME+nAUUoppZRSSn2Q6ejKaps44Mc9zwsw+b1Ox5CEegjyEET+CpIX4KqW7bAIHY3aHVkppZRSSqkPDW3JVduEBxYw0R4iUvl+aKntF2u7Gh6zjZX7Je3mVcZrVjQl0Q2QPPdeF5xSSimllFJqm9JKrtomiGlJEEmBqfJ9EmsLEawm5nsQ3D3WmoUrUbFyyeVIQ7skK6WUUkop9aGllVy1TXiExcSmtzjfLN7LeW6xWgT3MNM9qUz36yOj4S1NyfxAUsn3qICUUkoppZRS7wqt5KptghG9KBS65L2d57aHSB72Qf4QWXq5ylW0vHBZhY6SrJRSSiml1L8QreSqbWJVZzR/1Ij0P0WwE4Gi9yD29u/EdKN33Lwr4ksaL6bMe10mSimllFJKqXefjq6stpl9/jN9KYHOEsiId/GwCyC4kYX+xmH1wuYZ43o15lYppZRSSql/XfxeJ0B9eDDz3wLJmndlUClCDxFuEwlnVlbF/jA3RC83J8f3aAVXKaWUUkqpf23aXVltMxUV9sXutJsfRHYAUfwdrOjOJTG/5qx7yoyrePvpMyj7buZGHlUVAAADFklEQVRTKaWUUkop9f6l3ZXVNvWxKzKnEvgnImG7dyD2tkfE384wN2OtnTPvF9CWW6WUUkoppVQf2l1ZbVNOovsCZAGYsoEAYcI2WRIv9SQ/gsUV0ZKXnpl3FXVrBVcppZRSSinVn1Zy1Tb1+oW0BpbuCERt26qLMjH9Iwi+HYtHt7zyw5+91TxrsnZPVkoppZRSSg1IY3LVNuezPfeSrT5KEEZsVWyuoAdEtwcX/pCtjl6c/x1Kvxf5UUoppZRSSn1waEuu2uZev7B2TaBwHZhbtrwFV9YQyWXi3c8TI6I5i7SCq5RSSimllNoEWslV74xg/jeI3A2m9i2IwV0qROf1ZtPXfz0TX9SsoycrpZRSSimlNpGOrqzeMbtdI7tKyl8N0BQA8U35jgBLQXJxZv36+9+aUd9JOriUUkoppZRSajNoS656x7w+Gm8S5FcCLAIQNv4NeoqZzyJn/rREK7hKKaWUUkqpLaCVXPXOOZb8uq62x5nxOwCrht5YnmJDM1Lrlvx9wfm0XqcHUkoppZRSSm0J7a6s3nG7XSMjkAoXCXAygGEDbPKGgL+X6cKjS5KUerfTp5RSSimllPrw0JZc9Y57/Wxak6X0r4hwt0DWla/Lx+D+tL2r7XGt4CqllFJKKaW2lrbkqnfNblfIxGDlv4jl8xBUAlgqkEsyxty35Hvo1C7KSimllFJKqa2llVz1rvrolamPUhRvEJ8dSTaa5zrXzlk0Y7jG4CqllFJKKaW2Ca3kqnfd+KRUjhuHqHkYunAs+fc6PUoppZRSSimllFJKKaWUUkoppZRSSimllFJKKaWUUkoppZRSSimllFJKKaWUUkoppZRSSimllFJKKaWUUkoppZRSSimllFJKKaWUUkoppZRSSimllFJKKaWUUkoppZRSSimllFJKKaWUUkoppZRSSimllFJKKaWUUkoppZRSSimllFJKKaWUUkoppZRSSimllFJKKaWUUkoppZRSSimllFJKKaWUUkoppZRSSimllFJKKaWUUkoppZRSSimllFJKKaWUUkoppZRSSm2S/w8If4zr4w3nTwAAAABJRU5ErkJgggAAoQsYAAAAUGhvdG9FZGl0b3JfUmVfRWRpdF9EYXRheyJvcmlnaW5hbFBhdGgiOiJcL2RhdGFcL3NlY1wvcGhvdG9lZGl0b3JcLzBcLzliYTA1ZGU3OTEyNjc0Zjk4YTQ3YmYxZjkzNjUwODk4MzlhNzdlY2U4NWE3ZmQ1YzRlMWNiMjJhNTkzYzFlYzRfMzczMTUucG5nIiwiY2xpcEluZm9WYWx1ZSI6IntcIm1DZW50ZXJYXCI6MC40NjM3NzU1MTU1NTYzMzU0NSxcIm1DZW50ZXJZXCI6MC40OTY5NTU0ODQxNTE4NDAyLFwibVdpZHRoXCI6MC41NDM2MDU2ODUyMzQwNjk4LFwibUhlaWdodFwiOjAuNjMzNzgxOTA5OTQyNjI3LFwibVJvdGF0aW9uXCI6MCxcIm1Sb3RhdGVcIjowLFwibUhGbGlwXCI6MCxcIm1WRmxpcFwiOjAsXCJtUm90YXRpb25FZmZlY3RcIjowLFwibVJvdGF0ZUVmZmVjdFwiOjAsXCJtSEZsaXBFZmZlY3RcIjowLFwibVZGbGlwRWZmZWN0XCI6MCxcIm1Ib3pQZXJzcGVjdGl2ZVwiOjAsXCJtVmVyUGVyc3BlY3RpdmVcIjowfSIsInRvbmVWYWx1ZSI6IntcImJyaWdodG5lc3NcIjoxMDAsXCJleHBvc3VyZVwiOjEwMCxcImNvbnRyYXN0XCI6MTAwLFwic2F0dXJhdGlvblwiOjEwMCxcImh1ZVwiOjEwMCxcIndiTW9kZVwiOi0xLFwid2JUZW1wZXJhdHVyZVwiOjEwMCxcInRpbnRcIjoxMDAsXCJzaGFkb3dcIjoxMDAsXCJoaWdobGlnaHRcIjoxMDAsXCJsaWdodGJhbGFuY2VcIjoxMDAsXCJzaGFycG5lc3NcIjoxMDAsXCJkZWZpbml0aW9uXCI6MTAwfSIsImVmZmVjdFZhbHVlIjoie1wiZmlsdGVySW5kaWNhdGlvblwiOjQwOTcsXCJmaWx0ZXJUeXBlXCI6MCxcImFscGhhVmFsdWVcIjoxMDB9IiwiaXNCbGVuZGluZyI6dHJ1ZSwiaXNOb3RSZUVkaXQiOmZhbHNlLCJzZXBWZXJzaW9uIjoiMTQwNTAwIiwibmRlVmVyc2lvbiI6MSwicmVTaXplIjo0LCJyb3RhdGlvbiI6MSwiYWRqdXN0bWVudFZhbHVlIjoie1wibUNyb3BTdGF0ZVwiOjEzMTA3Nn0iLCJpc0FwcGx5U2hhcGVDb3JyZWN0aW9uIjpmYWxzZSwiaXNOZXdSZUVkaXRPbmx5IjpmYWxzZX0AAKELFgAAAE9yaWdpbmFsX1BhdGhfSGFzaF9LZXkzOTQyNWE5MTdhYTA3YjliMDdlNWNiYTRlMTdmODliZDdjNmU5MTA0NmI5NDY3NWEwYTk0ODM5NjkxOWY0YThhLzM3MzE1U0VGSGsAAAACAAAAAAChC0kEAADlAwAAAAChC2QAAABkAAAAJAAAAFNFRlQ=)\n",
        "\n",
        "\n",
        "# Identificação\n",
        "\n",
        "**Microcurso:** Resolução de problemas com Processamento de Linguagem Natural\n",
        "\n",
        "**Docente:** Manoel Veríssimo dos Santos Neto"
      ],
      "metadata": {
        "id": "a_bguvWHyu4U"
      }
    },
    {
      "cell_type": "markdown",
      "source": [
        "# Processamento de Linguagem Natural utilizando a biblioteca Hugging Face Transformers\n",
        "\n",
        "## 1- Objetivos de Aprendizagem\n",
        "\n",
        "Neste Notebook, vamos explorar exemplos reais de soluções para tarefas de Processamento de Linguagem Natural (NLP) utilizando a biblioteca Hugging Face Transformers. Nosso primeiro exemplo será o *fine-tuning* do modelo BERT para a análise de sentimentos em português. Em seguida, apresentaremos dois exemplos utilizando apenas modelos pré-treinados com os *pipelines* da Hugging Face. O segundo exemplo demonstrará o uso de* Named Entity Recognition* (NER), e o terceiro exemplo abordará a tradução automática. Estes exemplos práticos fornecerão uma visão abrangente de como aplicar técnicas avançadas de NLP para resolver problemas do mundo real.\n",
        "\n"
      ],
      "metadata": {
        "id": "gfevqw7Eyf76"
      }
    },
    {
      "cell_type": "markdown",
      "source": [
        "# 2- *Fine-Tuning* do BERT para Análise de Sentimentos\n",
        "\n",
        "Neste tópico, vamos realizar o *fine-tunin*g do modelo BERT para a tarefa de análise de sentimentos utilizando a biblioteca Hugging Face Transformers. Vamos usar um *dataset* de comentários sobre compras em português.\n",
        "\n",
        "**Importante:** Para o treinamento deve ser usada a rumtime com **GPU**.\n"
      ],
      "metadata": {
        "id": "OJA5knmZwYFH"
      }
    },
    {
      "cell_type": "markdown",
      "source": [
        "## 2.1- Instalação das Dependências\n",
        "\n",
        "Vamos começar instalando as bibliotecas necessárias."
      ],
      "metadata": {
        "id": "ZW11YlHyzkX6"
      }
    },
    {
      "cell_type": "code",
      "source": [
        "!pip install transformers\n",
        "!pip install datasets\n",
        "!pip install torch"
      ],
      "metadata": {
        "id": "hvZsiZ_9xRbd",
        "colab": {
          "base_uri": "https://localhost:8080/"
        },
        "outputId": "9b757a3c-cbc7-49fd-f984-a735c89bb3d9",
        "collapsed": true
      },
      "execution_count": null,
      "outputs": [
        {
          "output_type": "stream",
          "name": "stdout",
          "text": [
            "Requirement already satisfied: transformers in /usr/local/lib/python3.10/dist-packages (4.44.2)\n",
            "Requirement already satisfied: filelock in /usr/local/lib/python3.10/dist-packages (from transformers) (3.15.4)\n",
            "Requirement already satisfied: huggingface-hub<1.0,>=0.23.2 in /usr/local/lib/python3.10/dist-packages (from transformers) (0.24.6)\n",
            "Requirement already satisfied: numpy>=1.17 in /usr/local/lib/python3.10/dist-packages (from transformers) (1.26.4)\n",
            "Requirement already satisfied: packaging>=20.0 in /usr/local/lib/python3.10/dist-packages (from transformers) (24.1)\n",
            "Requirement already satisfied: pyyaml>=5.1 in /usr/local/lib/python3.10/dist-packages (from transformers) (6.0.2)\n",
            "Requirement already satisfied: regex!=2019.12.17 in /usr/local/lib/python3.10/dist-packages (from transformers) (2024.5.15)\n",
            "Requirement already satisfied: requests in /usr/local/lib/python3.10/dist-packages (from transformers) (2.32.3)\n",
            "Requirement already satisfied: safetensors>=0.4.1 in /usr/local/lib/python3.10/dist-packages (from transformers) (0.4.4)\n",
            "Requirement already satisfied: tokenizers<0.20,>=0.19 in /usr/local/lib/python3.10/dist-packages (from transformers) (0.19.1)\n",
            "Requirement already satisfied: tqdm>=4.27 in /usr/local/lib/python3.10/dist-packages (from transformers) (4.66.5)\n",
            "Requirement already satisfied: fsspec>=2023.5.0 in /usr/local/lib/python3.10/dist-packages (from huggingface-hub<1.0,>=0.23.2->transformers) (2024.6.1)\n",
            "Requirement already satisfied: typing-extensions>=3.7.4.3 in /usr/local/lib/python3.10/dist-packages (from huggingface-hub<1.0,>=0.23.2->transformers) (4.12.2)\n",
            "Requirement already satisfied: charset-normalizer<4,>=2 in /usr/local/lib/python3.10/dist-packages (from requests->transformers) (3.3.2)\n",
            "Requirement already satisfied: idna<4,>=2.5 in /usr/local/lib/python3.10/dist-packages (from requests->transformers) (3.8)\n",
            "Requirement already satisfied: urllib3<3,>=1.21.1 in /usr/local/lib/python3.10/dist-packages (from requests->transformers) (2.0.7)\n",
            "Requirement already satisfied: certifi>=2017.4.17 in /usr/local/lib/python3.10/dist-packages (from requests->transformers) (2024.8.30)\n",
            "Collecting datasets\n",
            "  Downloading datasets-2.21.0-py3-none-any.whl.metadata (21 kB)\n",
            "Requirement already satisfied: filelock in /usr/local/lib/python3.10/dist-packages (from datasets) (3.15.4)\n",
            "Requirement already satisfied: numpy>=1.17 in /usr/local/lib/python3.10/dist-packages (from datasets) (1.26.4)\n",
            "Collecting pyarrow>=15.0.0 (from datasets)\n",
            "  Downloading pyarrow-17.0.0-cp310-cp310-manylinux_2_28_x86_64.whl.metadata (3.3 kB)\n",
            "Collecting dill<0.3.9,>=0.3.0 (from datasets)\n",
            "  Downloading dill-0.3.8-py3-none-any.whl.metadata (10 kB)\n",
            "Requirement already satisfied: pandas in /usr/local/lib/python3.10/dist-packages (from datasets) (2.1.4)\n",
            "Requirement already satisfied: requests>=2.32.2 in /usr/local/lib/python3.10/dist-packages (from datasets) (2.32.3)\n",
            "Requirement already satisfied: tqdm>=4.66.3 in /usr/local/lib/python3.10/dist-packages (from datasets) (4.66.5)\n",
            "Collecting xxhash (from datasets)\n",
            "  Downloading xxhash-3.5.0-cp310-cp310-manylinux_2_17_x86_64.manylinux2014_x86_64.whl.metadata (12 kB)\n",
            "Collecting multiprocess (from datasets)\n",
            "  Downloading multiprocess-0.70.16-py310-none-any.whl.metadata (7.2 kB)\n",
            "Requirement already satisfied: fsspec<=2024.6.1,>=2023.1.0 in /usr/local/lib/python3.10/dist-packages (from fsspec[http]<=2024.6.1,>=2023.1.0->datasets) (2024.6.1)\n",
            "Requirement already satisfied: aiohttp in /usr/local/lib/python3.10/dist-packages (from datasets) (3.10.5)\n",
            "Requirement already satisfied: huggingface-hub>=0.21.2 in /usr/local/lib/python3.10/dist-packages (from datasets) (0.24.6)\n",
            "Requirement already satisfied: packaging in /usr/local/lib/python3.10/dist-packages (from datasets) (24.1)\n",
            "Requirement already satisfied: pyyaml>=5.1 in /usr/local/lib/python3.10/dist-packages (from datasets) (6.0.2)\n",
            "Requirement already satisfied: aiohappyeyeballs>=2.3.0 in /usr/local/lib/python3.10/dist-packages (from aiohttp->datasets) (2.4.0)\n",
            "Requirement already satisfied: aiosignal>=1.1.2 in /usr/local/lib/python3.10/dist-packages (from aiohttp->datasets) (1.3.1)\n",
            "Requirement already satisfied: attrs>=17.3.0 in /usr/local/lib/python3.10/dist-packages (from aiohttp->datasets) (24.2.0)\n",
            "Requirement already satisfied: frozenlist>=1.1.1 in /usr/local/lib/python3.10/dist-packages (from aiohttp->datasets) (1.4.1)\n",
            "Requirement already satisfied: multidict<7.0,>=4.5 in /usr/local/lib/python3.10/dist-packages (from aiohttp->datasets) (6.0.5)\n",
            "Requirement already satisfied: yarl<2.0,>=1.0 in /usr/local/lib/python3.10/dist-packages (from aiohttp->datasets) (1.9.4)\n",
            "Requirement already satisfied: async-timeout<5.0,>=4.0 in /usr/local/lib/python3.10/dist-packages (from aiohttp->datasets) (4.0.3)\n",
            "Requirement already satisfied: typing-extensions>=3.7.4.3 in /usr/local/lib/python3.10/dist-packages (from huggingface-hub>=0.21.2->datasets) (4.12.2)\n",
            "Requirement already satisfied: charset-normalizer<4,>=2 in /usr/local/lib/python3.10/dist-packages (from requests>=2.32.2->datasets) (3.3.2)\n",
            "Requirement already satisfied: idna<4,>=2.5 in /usr/local/lib/python3.10/dist-packages (from requests>=2.32.2->datasets) (3.8)\n",
            "Requirement already satisfied: urllib3<3,>=1.21.1 in /usr/local/lib/python3.10/dist-packages (from requests>=2.32.2->datasets) (2.0.7)\n",
            "Requirement already satisfied: certifi>=2017.4.17 in /usr/local/lib/python3.10/dist-packages (from requests>=2.32.2->datasets) (2024.8.30)\n",
            "Requirement already satisfied: python-dateutil>=2.8.2 in /usr/local/lib/python3.10/dist-packages (from pandas->datasets) (2.8.2)\n",
            "Requirement already satisfied: pytz>=2020.1 in /usr/local/lib/python3.10/dist-packages (from pandas->datasets) (2024.1)\n",
            "Requirement already satisfied: tzdata>=2022.1 in /usr/local/lib/python3.10/dist-packages (from pandas->datasets) (2024.1)\n",
            "Requirement already satisfied: six>=1.5 in /usr/local/lib/python3.10/dist-packages (from python-dateutil>=2.8.2->pandas->datasets) (1.16.0)\n",
            "Downloading datasets-2.21.0-py3-none-any.whl (527 kB)\n",
            "\u001b[2K   \u001b[90m━━━━━━━━━━━━━━━━━━━━━━━━━━━━━━━━━━━━━━━━\u001b[0m \u001b[32m527.3/527.3 kB\u001b[0m \u001b[31m7.1 MB/s\u001b[0m eta \u001b[36m0:00:00\u001b[0m\n",
            "\u001b[?25hDownloading dill-0.3.8-py3-none-any.whl (116 kB)\n",
            "\u001b[2K   \u001b[90m━━━━━━━━━━━━━━━━━━━━━━━━━━━━━━━━━━━━━━━━\u001b[0m \u001b[32m116.3/116.3 kB\u001b[0m \u001b[31m5.7 MB/s\u001b[0m eta \u001b[36m0:00:00\u001b[0m\n",
            "\u001b[?25hDownloading pyarrow-17.0.0-cp310-cp310-manylinux_2_28_x86_64.whl (39.9 MB)\n",
            "\u001b[2K   \u001b[90m━━━━━━━━━━━━━━━━━━━━━━━━━━━━━━━━━━━━━━━━\u001b[0m \u001b[32m39.9/39.9 MB\u001b[0m \u001b[31m10.8 MB/s\u001b[0m eta \u001b[36m0:00:00\u001b[0m\n",
            "\u001b[?25hDownloading multiprocess-0.70.16-py310-none-any.whl (134 kB)\n",
            "\u001b[2K   \u001b[90m━━━━━━━━━━━━━━━━━━━━━━━━━━━━━━━━━━━━━━━━\u001b[0m \u001b[32m134.8/134.8 kB\u001b[0m \u001b[31m6.3 MB/s\u001b[0m eta \u001b[36m0:00:00\u001b[0m\n",
            "\u001b[?25hDownloading xxhash-3.5.0-cp310-cp310-manylinux_2_17_x86_64.manylinux2014_x86_64.whl (194 kB)\n",
            "\u001b[2K   \u001b[90m━━━━━━━━━━━━━━━━━━━━━━━━━━━━━━━━━━━━━━━━\u001b[0m \u001b[32m194.1/194.1 kB\u001b[0m \u001b[31m8.6 MB/s\u001b[0m eta \u001b[36m0:00:00\u001b[0m\n",
            "\u001b[?25hInstalling collected packages: xxhash, pyarrow, dill, multiprocess, datasets\n",
            "  Attempting uninstall: pyarrow\n",
            "    Found existing installation: pyarrow 14.0.2\n",
            "    Uninstalling pyarrow-14.0.2:\n",
            "      Successfully uninstalled pyarrow-14.0.2\n",
            "\u001b[31mERROR: pip's dependency resolver does not currently take into account all the packages that are installed. This behaviour is the source of the following dependency conflicts.\n",
            "cudf-cu12 24.4.1 requires pyarrow<15.0.0a0,>=14.0.1, but you have pyarrow 17.0.0 which is incompatible.\n",
            "ibis-framework 8.0.0 requires pyarrow<16,>=2, but you have pyarrow 17.0.0 which is incompatible.\u001b[0m\u001b[31m\n",
            "\u001b[0mSuccessfully installed datasets-2.21.0 dill-0.3.8 multiprocess-0.70.16 pyarrow-17.0.0 xxhash-3.5.0\n",
            "Requirement already satisfied: torch in /usr/local/lib/python3.10/dist-packages (2.4.0+cu121)\n",
            "Requirement already satisfied: filelock in /usr/local/lib/python3.10/dist-packages (from torch) (3.15.4)\n",
            "Requirement already satisfied: typing-extensions>=4.8.0 in /usr/local/lib/python3.10/dist-packages (from torch) (4.12.2)\n",
            "Requirement already satisfied: sympy in /usr/local/lib/python3.10/dist-packages (from torch) (1.13.2)\n",
            "Requirement already satisfied: networkx in /usr/local/lib/python3.10/dist-packages (from torch) (3.3)\n",
            "Requirement already satisfied: jinja2 in /usr/local/lib/python3.10/dist-packages (from torch) (3.1.4)\n",
            "Requirement already satisfied: fsspec in /usr/local/lib/python3.10/dist-packages (from torch) (2024.6.1)\n",
            "Requirement already satisfied: MarkupSafe>=2.0 in /usr/local/lib/python3.10/dist-packages (from jinja2->torch) (2.1.5)\n",
            "Requirement already satisfied: mpmath<1.4,>=1.1.0 in /usr/local/lib/python3.10/dist-packages (from sympy->torch) (1.3.0)\n"
          ]
        }
      ]
    },
    {
      "cell_type": "markdown",
      "source": [
        "## 2.2- Configuração de variáveis globais\n",
        "\n",
        "Vamos configurar as variáveis de parâmetros para serem utilizadas durante o código."
      ],
      "metadata": {
        "id": "cyIq7wB3uRTl"
      }
    },
    {
      "cell_type": "code",
      "source": [
        "# model_id = \"neuralmind/bert-base-portuguese-cased\"\n",
        "model_id = \"adalbertojunior/distilbert-portuguese-cased\"\n",
        "max_length= 512\n",
        "num_labels = 3\n",
        "batch_size = 28\n",
        "results_path = \"./results\"\n",
        "pretrained_path = \"./sentiment-analysis-bert-portuguese\""
      ],
      "metadata": {
        "id": "Ee6ne-tIuQj6"
      },
      "execution_count": null,
      "outputs": []
    },
    {
      "cell_type": "markdown",
      "source": [
        "##2.3- Importação das Bibliotecas\n",
        "\n",
        "Vamos importar as bibliotecas necessárias para carregar o *dataset*, tokenizar os textos, configurar o modelo BERT, e realizar o treinamento e avaliação."
      ],
      "metadata": {
        "id": "TO9J2RgG0Wga"
      }
    },
    {
      "cell_type": "code",
      "source": [
        "from transformers import BertTokenizer, BertForSequenceClassification, Trainer, TrainingArguments, DataCollatorWithPadding\n",
        "from datasets import load_dataset, load_metric, DatasetDict\n",
        "from torch.utils.data import DataLoader, SequentialSampler\n",
        "import torch\n",
        "import numpy as np\n",
        "import matplotlib.pyplot as plt\n",
        "from sklearn.metrics import confusion_matrix, ConfusionMatrixDisplay, classification_report"
      ],
      "metadata": {
        "id": "r4NW3Bfk0Rwg"
      },
      "execution_count": null,
      "outputs": []
    },
    {
      "cell_type": "markdown",
      "source": [
        "## 2.4- Carregar o *Dataset*\n",
        "\n",
        "Vamos carregar um *dataset* de comentários de pedidos em português.\n",
        "Para este exemplo, vamos utilizar o *dataset* `verissimomanoel/olist_customers_review` da Hugging Face, que contém comentários rotulados para análise de sentimentos.\n",
        "No dataset já tem uma parte de treino `train` e outra de para teste `test`. Contudo precisamos dividir o treino mais uma vez para ter uma parte para validação `val` que será usada durante o treino."
      ],
      "metadata": {
        "id": "2-j83Sjz0h-a"
      }
    },
    {
      "cell_type": "code",
      "source": [
        "# Carrega o dataset que tem train e test\n",
        "dataset = load_dataset(\"verissimomanoel/olist_customers_review\", trust_remote_code=True)\n",
        "\n",
        "# Divide o treino em 80% e 20%, sendo os 80 para treino e os 20 para validação\n",
        "ds_train_split = dataset[\"train\"].train_test_split(test_size=0.2)\n",
        "\n",
        "# Monta o dataset com todas as partes train, test e val\n",
        "dataset = DatasetDict({\n",
        "    \"train\": ds_train_split[\"train\"],\n",
        "    \"test\": dataset[\"test\"],\n",
        "    \"val\": ds_train_split[\"test\"],\n",
        "})\n",
        "\n",
        "# Separa as partes do dataset\n",
        "train_dataset = dataset['train']\n",
        "test_dataset = dataset['test']\n",
        "val_dataset = dataset['val']"
      ],
      "metadata": {
        "id": "L3ue_4LH0eVw",
        "colab": {
          "base_uri": "https://localhost:8080/",
          "height": 307,
          "referenced_widgets": [
            "3734fa13ed0e48ada22ad723614b5352",
            "90f521022c0b46798be9d1addb077d46",
            "6620d2a01b9b4f789ac1cdaed57ca971",
            "225fe95ef9ea447f85ae1cc30f280386",
            "b0a2bcc87df3421e8cb14725a5332f1d",
            "c9419f18d5204193805e0fd674a52bff",
            "f4b9b93ba3d4447d8557cf7255e14235",
            "238b7478e54544978fe1210e5029a9be",
            "2c00a236beb44a1ebb7dc9bbeee33acd",
            "741af09776c14e988025ca48b2eb2e71",
            "f4e42b88f24b4bfaa3657ebdbe4c8b01",
            "da82c5634f2d495a829f8059e40caff6",
            "7bb5ea46311242ee83bf9b66c1aa3e23",
            "baf8a41acde84e44bfd0093b23cf8c1c",
            "f3b15b71dc174f95b87d655ebe2e47ea",
            "21394a0bd3af4194921f4304ac11dbb6",
            "54f55f644bec4c8888c42390617c2a57",
            "a2988c508bc4406081ec2b2dcfb33f53",
            "0ed22630dfd442bd81d816c6b468b0f7",
            "0f3d39d1c89745dda4b6944ef1bbba08",
            "686c66e4b3414cbba7a4e3a02d49525c",
            "40fbfe97194847a9bc5b4eabd3f21377",
            "7185c8f7edc64fd9901b21e0b0318f49",
            "6c4cf62fbc0b4c2ab851c4f0ea4199bb",
            "e1c18f2a183443aaad10406439a3f929",
            "b86f12ec1bcc4c77b82fa2cc8b03bbbd",
            "ae61fb5c621042a3b0721b38a352bfa9",
            "197ebe3c9cb34159862dc14195ec0258",
            "1265c76ad3e04cedbac5f141b966e1e3",
            "9174f392e2564febbdc9db03dacd5195",
            "ee2ddaffe9ab42dca64a238700f671d3",
            "1ae709c653754a759ee9290b488a6470",
            "b555c5e2e5f5416f9ec788a1dbcdddf2",
            "4a0975a43b554bf7afbb493dc6f11cc4",
            "e3a4821c665b4115b9cee40a3b27ef6f",
            "06fc57f00e884eab817de9046eb526ed",
            "dc17e8d3d48e46a4842ed33236a79bc7",
            "582f69f771104b8cad2867371feb1a08",
            "9e07d1e2f9ec4766bd34126ef86f35f8",
            "4ace85dd429e48fe83ae109e710eeece",
            "5a4f2158d09049a78a355ff8b2d7a9c6",
            "1238e8f15a964577ab1b1c6a90df829a",
            "231ae48ad7854ee4b26df5eef89e9f4a",
            "5b566c9256c44099a1ac8fc490bd9e59",
            "828a7b321422436bb1eca224653d47cf",
            "6ccbfeaf640c4b3891d998b13456e62e",
            "fe936a62c94043ce9fa9067681bdacb6",
            "524d4aa21d294e53bc45f248ba69fbfe",
            "ac814aeae3c848d8adae0f0e200c0e0e",
            "3cb8d4edf8844fdf8a8cef0c0fdf4e8a",
            "8f02b0b9930244a7a0c45ae986ab85bc",
            "4b99409a87c4494e9ebe72d0f434f22a",
            "00d38cdd57ce4d32810af0ce38d57f3f",
            "a78a77702a9f40238041986f1b649834",
            "00ed917f074d444aa6de48920c06e8d0"
          ]
        },
        "outputId": "9e3a79a7-f69e-4328-ff1f-5ea8e94cf336"
      },
      "execution_count": null,
      "outputs": [
        {
          "output_type": "stream",
          "name": "stderr",
          "text": [
            "/usr/local/lib/python3.10/dist-packages/huggingface_hub/utils/_token.py:89: UserWarning: \n",
            "The secret `HF_TOKEN` does not exist in your Colab secrets.\n",
            "To authenticate with the Hugging Face Hub, create a token in your settings tab (https://huggingface.co/settings/tokens), set it as secret in your Google Colab and restart your session.\n",
            "You will be able to reuse this secret in all of your notebooks.\n",
            "Please note that authentication is recommended but still optional to access public models or datasets.\n",
            "  warnings.warn(\n"
          ]
        },
        {
          "output_type": "display_data",
          "data": {
            "text/plain": [
              "Downloading readme:   0%|          | 0.00/579 [00:00<?, ?B/s]"
            ],
            "application/vnd.jupyter.widget-view+json": {
              "version_major": 2,
              "version_minor": 0,
              "model_id": "3734fa13ed0e48ada22ad723614b5352"
            }
          },
          "metadata": {}
        },
        {
          "output_type": "display_data",
          "data": {
            "text/plain": [
              "Downloading data:   0%|          | 0.00/1.56M [00:00<?, ?B/s]"
            ],
            "application/vnd.jupyter.widget-view+json": {
              "version_major": 2,
              "version_minor": 0,
              "model_id": "da82c5634f2d495a829f8059e40caff6"
            }
          },
          "metadata": {}
        },
        {
          "output_type": "display_data",
          "data": {
            "text/plain": [
              "Downloading data:   0%|          | 0.00/397k [00:00<?, ?B/s]"
            ],
            "application/vnd.jupyter.widget-view+json": {
              "version_major": 2,
              "version_minor": 0,
              "model_id": "7185c8f7edc64fd9901b21e0b0318f49"
            }
          },
          "metadata": {}
        },
        {
          "output_type": "display_data",
          "data": {
            "text/plain": [
              "Generating train split:   0%|          | 0/33395 [00:00<?, ? examples/s]"
            ],
            "application/vnd.jupyter.widget-view+json": {
              "version_major": 2,
              "version_minor": 0,
              "model_id": "4a0975a43b554bf7afbb493dc6f11cc4"
            }
          },
          "metadata": {}
        },
        {
          "output_type": "display_data",
          "data": {
            "text/plain": [
              "Generating test split:   0%|          | 0/8349 [00:00<?, ? examples/s]"
            ],
            "application/vnd.jupyter.widget-view+json": {
              "version_major": 2,
              "version_minor": 0,
              "model_id": "828a7b321422436bb1eca224653d47cf"
            }
          },
          "metadata": {}
        }
      ]
    },
    {
      "cell_type": "markdown",
      "source": [
        "## 2.5- Visualização do *Dataset*\n",
        "\n",
        "Vamos visualizar a estrutura do *dataset* carregado. Para tal, as sequências de código [6] e [7] abaixo mostrarão, na forma de gráfico, os conjuntos de dados para treino, teste e validação."
      ],
      "metadata": {
        "id": "BYfC-Ebb0tLc"
      }
    },
    {
      "cell_type": "code",
      "source": [
        "print(dataset)"
      ],
      "metadata": {
        "id": "eWJaKskM0oIc",
        "colab": {
          "base_uri": "https://localhost:8080/"
        },
        "outputId": "e056b9a8-dcd2-412d-d24f-dd72e41676e0"
      },
      "execution_count": null,
      "outputs": [
        {
          "output_type": "stream",
          "name": "stdout",
          "text": [
            "DatasetDict({\n",
            "    train: Dataset({\n",
            "        features: ['text', 'label'],\n",
            "        num_rows: 26716\n",
            "    })\n",
            "    test: Dataset({\n",
            "        features: ['text', 'label'],\n",
            "        num_rows: 8349\n",
            "    })\n",
            "    val: Dataset({\n",
            "        features: ['text', 'label'],\n",
            "        num_rows: 6679\n",
            "    })\n",
            "})\n"
          ]
        }
      ]
    },
    {
      "cell_type": "code",
      "source": [
        "def show_info_dataset(dataset, title):\n",
        "    # Converter o dataset para um DataFrame do pandas\n",
        "    df = dataset.to_pandas()\n",
        "\n",
        "    # Contar as ocorrências na coluna 'label'\n",
        "    label_counts = df['label'].value_counts()\n",
        "\n",
        "    # Mapeamento dos labels para nomes\n",
        "    label_names = {0: 'Negativo', 1: 'Positivo', 2: 'Neutro'}\n",
        "\n",
        "    # Obter os nomes das labels\n",
        "    labels = [label_names[label] for label in label_counts.index]\n",
        "\n",
        "    # Definir as cores para cada label\n",
        "    colors = ['green', 'red', 'blue']\n",
        "\n",
        "    # Plotar o gráfico de barras\n",
        "    plt.figure(figsize=(10, 6))\n",
        "    bars = plt.bar(labels, label_counts, color=colors)\n",
        "\n",
        "    # Adicionar os totais em cima das barras\n",
        "    for bar in bars:\n",
        "        yval = bar.get_height()\n",
        "        plt.text(bar.get_x() + bar.get_width()/2, yval, int(yval), va='bottom')  # va: vertical alignment\n",
        "\n",
        "    # Configurar o título e os rótulos dos eixos\n",
        "    plt.title(title)\n",
        "    plt.xlabel('Label')\n",
        "    plt.ylabel('Total')\n",
        "    plt.show()"
      ],
      "metadata": {
        "id": "6-2MGVJct4Oo"
      },
      "execution_count": null,
      "outputs": []
    },
    {
      "cell_type": "code",
      "source": [
        "show_info_dataset(train_dataset, 'Distribuição por Classe - Treino')\n",
        "show_info_dataset(val_dataset, 'Distribuição por Classe - Validação')\n",
        "show_info_dataset(test_dataset, 'Distribuição por Classe - Teste')"
      ],
      "metadata": {
        "id": "R2C-42X2t5BH",
        "colab": {
          "base_uri": "https://localhost:8080/",
          "height": 1000
        },
        "outputId": "f420a1e5-1d94-4781-ecd5-aa7fe14aad9e"
      },
      "execution_count": null,
      "outputs": [
        {
          "output_type": "display_data",
          "data": {
            "text/plain": [
              "<Figure size 1000x600 with 1 Axes>"
            ],
            "image/png": "[encoded data removed]"
          },
          "metadata": {}
        },
        {
          "output_type": "display_data",
          "data": {
            "text/plain": [
              "<Figure size 1000x600 with 1 Axes>"
            ],
            "image/png": "[encoded data removed]"
          },
          "metadata": {}
        },
        {
          "output_type": "display_data",
          "data": {
            "text/plain": [
              "<Figure size 1000x600 with 1 Axes>"
            ],
            "image/png": "[encoded data removed]"
          },
          "metadata": {}
        }
      ]
    },
    {
      "cell_type": "markdown",
      "source": [
        "## 2.6- Tokenização do *Dataset*\n",
        "\n",
        "Vamos carregar o tokenizer do BERT e usá-lo para tokenizar os textos no *dataset.* Vamos usar o modelo `neuralmind/bert-base-portuguese-cased`, que é um BERT treinado em português.\n",
        "\n",
        "O comando train_dataset.shuffle().select(range(5000)) é responsaável pelo\n",
        "embaralhamento e seleção de amostras. Neste caso está selecionando as primeiras 5000 amostras do conjunto de dados embaralhado.\n",
        "\n",
        "O comando train_dataset.map(tokenize_function, batched=True) realiza a tokenização no conjunto de dados de treinamento (train_dataset) e usa a função map() para aplicar a função de tokenização a cada lote de amostras do conjunto de dados. Com batched=True, a função é aplicada em lotes de amostrase não em uma amostra por vez, isso torna o processo mais eficiente."
      ],
      "metadata": {
        "id": "MozQLcDL01Ir"
      }
    },
    {
      "cell_type": "code",
      "source": [
        "tokenizer = BertTokenizer.from_pretrained(model_id)\n",
        "data_collator = DataCollatorWithPadding(tokenizer=tokenizer)\n",
        "\n",
        "def tokenize_function(examples):\n",
        "    return tokenizer(examples['text'], padding='max_length', truncation=True, max_length=max_length)\n",
        "\n",
        "# Reduz o tamanho dos datasets apenas para conseguir rodar no Google Colab por menos tempo, para rodar com o dataset completo só comentar as próximas 3 linhas\n",
        "train_dataset = train_dataset.shuffle().select(range(5000))\n",
        "test_dataset = test_dataset.shuffle().select(range(1000))\n",
        "val_dataset = test_dataset.shuffle().select(range(800))\n",
        "\n",
        "train_dataset = train_dataset.map(tokenize_function, batched=True)\n",
        "test_dataset = test_dataset.map(tokenize_function, batched=True)\n",
        "val_dataset = val_dataset.map(tokenize_function, batched=True)"
      ],
      "metadata": {
        "id": "Lv0J4FuF0r19"
      },
      "execution_count": null,
      "outputs": []
    },
    {
      "cell_type": "markdown",
      "source": [
        "## 2.7- Formatando o Dataset\n",
        "\n",
        "Vamos definir o formato dos datasets para que o *Trainer* da Hugging Face possa processá-los corretamente.\n",
        "\n",
        "*   **set_format(type='torch', columns=['input_ids', 'attention_mask', 'label']):** Este método converte os datasets para o formato do **PyTorch** (tensors) para que possam ser usados diretamente em redes neurais. A função especifica que apenas as colunas input_ids, attention_mask e label serão mantidas no formato final.\n",
        "\n",
        "  *   **input_ids:** Contém os identificadores numéricos que representam as palavras ou tokens da entrada.\n",
        "\n",
        "  *   **attention_mask:** Indica quais tokens são relevantes (1) e quais são padding (0), para que o modelo saiba onde prestar atenção.\n",
        "\n",
        "  *   **label:** São as etiquetas associadas a cada exemplo, que o modelo deve prever (por exemplo, para uma tarefa de classificação)."
      ],
      "metadata": {
        "id": "II6ToPVi6L3r"
      }
    },
    {
      "cell_type": "code",
      "source": [
        "train_dataset.set_format(type='torch', columns=['input_ids', 'attention_mask', 'label'])\n",
        "test_dataset.set_format(type='torch', columns=['input_ids', 'attention_mask', 'label'])\n",
        "val_dataset.set_format(type='torch', columns=['input_ids', 'attention_mask', 'label'])"
      ],
      "metadata": {
        "id": "Vl1_Y6kc6NBB"
      },
      "execution_count": null,
      "outputs": []
    },
    {
      "cell_type": "markdown",
      "source": [
        "## 2.8- Configuração do Modelo BERT\n",
        "\n",
        "Vamos configurar o modelo BERT para a tarefa de classificação de sequência. Neste caso, estamos utilizando a versão `neuralmind/bert-base-portuguese-cased` do modelo."
      ],
      "metadata": {
        "id": "h84dMysP07gu"
      }
    },
    {
      "cell_type": "code",
      "source": [
        "model = BertForSequenceClassification.from_pretrained(model_id, num_labels=num_labels)"
      ],
      "metadata": {
        "id": "BvrAz-oJ0zfI"
      },
      "execution_count": null,
      "outputs": []
    },
    {
      "cell_type": "markdown",
      "source": [
        "## 2.9- Função de Avaliação\n",
        "\n",
        "Vamos definir uma função de avaliação para calcular a precisão do modelo durante a avaliação. Utilizaremos a métrica de precisão (`accuracy`) fornecida pela biblioteca `datasets`."
      ],
      "metadata": {
        "id": "dETjnEzR1D3z"
      }
    },
    {
      "cell_type": "code",
      "source": [
        "metric = load_metric(\"accuracy\", trust_remote_code=True)\n",
        "\n",
        "def compute_metrics(eval_pred):\n",
        "    logits, labels = eval_pred\n",
        "    # Transforma os logits (saída do modelo) em previsões de classe, atribuindo a cada exemplo a classe com a\n",
        "    # maior probabilidade, ou seja, a que tem o maior valor de logit.\n",
        "    predictions = torch.argmax(torch.tensor(logits), dim=-1)\n",
        "\n",
        "    return metric.compute(predictions=predictions, references=torch.tensor(labels))"
      ],
      "metadata": {
        "id": "ENyx3BvE1BK-"
      },
      "execution_count": null,
      "outputs": []
    },
    {
      "cell_type": "markdown",
      "source": [
        "## 2.10- Configuração dos Argumentos de Treinamento\n",
        "\n",
        "Vamos definir os parâmetros de treinamento, incluindo a taxa de aprendizado, tamanho do batch, número de épocas, e a estratégia de avaliação."
      ],
      "metadata": {
        "id": "ptvexshA14Jq"
      }
    },
    {
      "cell_type": "code",
      "source": [
        "training_args = TrainingArguments(\n",
        "    output_dir=results_path,                  # Diretório de saída para os resultados\n",
        "    evaluation_strategy=\"epoch\",              # Estratégia de avaliação (avaliar a cada época)\n",
        "    learning_rate=3e-5,                       # Taxa de aprendizado\n",
        "    per_device_train_batch_size=batch_size,   # Tamanho do batch de treino\n",
        "    per_device_eval_batch_size=batch_size,    # Tamanho do batch de avaliação\n",
        "    num_train_epochs=3,                       # Número de épocas de treinamento\n",
        "    weight_decay=0.01,                        # Decaimento de peso\n",
        ")"
      ],
      "metadata": {
        "id": "6-eN47ng1GQw"
      },
      "execution_count": null,
      "outputs": []
    },
    {
      "cell_type": "markdown",
      "source": [
        "## 2.11- Treinamento do Modelo\n",
        "\n",
        "Vamos criar um objeto `Trainer` com o modelo, dados de treino e validação, e os argumentos de treinamento definidos nos comando acima. Em seguida, vamos iniciar o treinamento do modelo."
      ],
      "metadata": {
        "id": "UKnYBv_y18vC"
      }
    },
    {
      "cell_type": "code",
      "source": [
        "trainer = Trainer(\n",
        "    model=model,\n",
        "    args=training_args,\n",
        "    train_dataset=train_dataset,\n",
        "    eval_dataset=val_dataset,\n",
        "    data_collator=data_collator,\n",
        "    compute_metrics=compute_metrics,\n",
        ")\n",
        "\n",
        "trainer.train()"
      ],
      "metadata": {
        "id": "3u98LZ_T16Ql"
      },
      "execution_count": null,
      "outputs": []
    },
    {
      "cell_type": "markdown",
      "source": [
        "## 2.12- Avaliação do Modelo - *Evaluate*\n",
        "\n",
        "Vamos avaliar o modelo no conjunto de teste ( com o comando trainer.evaluate) e exibir a precisão com a função show_info logo abaixo."
      ],
      "metadata": {
        "id": "wVZP3Vs_7zlI"
      }
    },
    {
      "cell_type": "code",
      "source": [
        "results = trainer.evaluate(eval_dataset=test_dataset)\n",
        "print(f\"Acurácia no conjunto de teste: {results['eval_accuracy']}\")"
      ],
      "metadata": {
        "id": "pGMs6gqg2iPU"
      },
      "execution_count": null,
      "outputs": []
    },
    {
      "cell_type": "markdown",
      "source": [
        "## 2.13- Avaliação do Modelo - *Predict*\n",
        "\n",
        "Vamos avaliar o modelo no conjunto de teste e exibir a matriz de confusão."
      ],
      "metadata": {
        "id": "mo6dKps6umDv"
      }
    },
    {
      "cell_type": "code",
      "source": [
        "raw_pred, _, _ = trainer.predict(test_dataset=test_dataset)"
      ],
      "metadata": {
        "id": "3e5RvhcWun1A"
      },
      "execution_count": null,
      "outputs": []
    },
    {
      "cell_type": "code",
      "source": [
        "def show_info(y_true, y_pred, title='Confusion matrix', cmap='Blues'):\n",
        "    target_names = ['Negativo', 'Positivo', 'Neutro']\n",
        "    print(classification_report(y_true, y_pred, target_names=target_names))\n",
        "\n",
        "    plt.figure(figsize=(16, 10))\n",
        "    cm = confusion_matrix(y_true, y_pred)\n",
        "    disp = ConfusionMatrixDisplay(confusion_matrix=cm, display_labels=target_names)\n",
        "    fig, ax = plt.subplots(figsize=(10,10))\n",
        "    disp.plot(ax=ax, xticks_rotation='vertical', cmap=plt.cm.Blues,values_format='g')\n",
        "    plt.show()"
      ],
      "metadata": {
        "id": "r59x4Cggupsz"
      },
      "execution_count": null,
      "outputs": []
    },
    {
      "cell_type": "code",
      "source": [
        "# Pré-processar previsões brutas\n",
        "y_pred = np.argmax(raw_pred, axis=1)\n",
        "y_true = test_dataset[\"label\"]\n",
        "\n",
        "show_info(y_true, y_pred)"
      ],
      "metadata": {
        "id": "3-7yNnLXuqxx"
      },
      "execution_count": null,
      "outputs": []
    },
    {
      "cell_type": "markdown",
      "source": [
        "## 2.14- Salvar o Modelo\n",
        "\n",
        "Vamos salvar o modelo treinado e o tokenizer para uso futuro."
      ],
      "metadata": {
        "id": "Zbnha-EL78sr"
      }
    },
    {
      "cell_type": "code",
      "source": [
        "model.save_pretrained(pretrained_path)\n",
        "tokenizer.save_pretrained(pretrained_path)"
      ],
      "metadata": {
        "id": "Treod7WH1EWh"
      },
      "execution_count": null,
      "outputs": []
    },
    {
      "cell_type": "markdown",
      "source": [
        "## 2.15- Predição de Novos Exemplos\n",
        "\n",
        "Vamos definir uma função para prever o sentimento de novas frases usando o modelo treinado. Em seguida, vamos testar o modelo com uma nova frase e exibir o resultado."
      ],
      "metadata": {
        "id": "Fe0UgAUe8GlQ"
      }
    },
    {
      "cell_type": "code",
      "source": [
        "def predict_sentiment(text):\n",
        "    # Certificar que o modelo e os inputs estão no mesmo dispositivo (CPU ou GPU)\n",
        "    device = torch.device(\"cuda\" if torch.cuda.is_available() else \"cpu\")\n",
        "    model.to(device)\n",
        "\n",
        "    # Tokeniza o texto, aplica padding e truncamento, converte para tensor PyTorch e move os dados para o dispositivo especificado.\n",
        "    inputs = tokenizer(text, return_tensors=\"pt\", padding=True, truncation=True, max_length=512).to(device)\n",
        "    model.eval()\n",
        "    with torch.no_grad():\n",
        "        # Executa o modelo com as entradas fornecidas, passando os tensores de input como argumentos para gerar as previsões ou saídas do modelo.\n",
        "        outputs = model(**inputs)\n",
        "\n",
        "    # Aplica a função softmax as saídas do modelo para converter os valores em probabilidades, normalizadas ao longo da última dimensão.\n",
        "    probs = torch.nn.functional.softmax(outputs.logits, dim=-1)\n",
        "\n",
        "    # Retorna a maior probabilidade\n",
        "    return probs.argmax().item()\n",
        "\n",
        "example_text = \"Eu adorei esse filme! Foi fantástico.\"\n",
        "predicted_label = predict_sentiment(example_text)\n",
        "sentiment = ['Negativo', 'Positivo', 'Neutro']\n",
        "print(f\"Sentimento previsto: {sentiment[predicted_label]}\")"
      ],
      "metadata": {
        "id": "AmHP2jYB8DcB"
      },
      "execution_count": null,
      "outputs": []
    },
    {
      "cell_type": "markdown",
      "source": [
        "## 2.16- F1 *Score* - Importância em Datasets Desbalanceados\n",
        "\n",
        "O F1 *Score* é uma métrica usada para avaliar a performance de um modelo de classificação, especialmente quando lidamos com datasets desbalanceados. Para entender o F1 Score, é importante conhecer alguns conceitos básicos:\n",
        "\n",
        "1. **Acurácia (*Accuracy*)**: Métrica de avaliação utilizada para medir a proporção de previsões corretas em relação ao total de previsões feitas por um modelo de classificação. Ela é definida pela fórmula:\n",
        "    $$\n",
        "    \\text{Acurácia} = \\frac{TP + TN}{TP + TN + FP + FN}\n",
        "    $$\n",
        "\n",
        "Onde:\n",
        "- **TP** (*True Positives*): Verdadeiros Positivos\n",
        "- **TN** (*True Negatives*): Verdadeiros Negativos\n",
        "- **FP** (*False Positives*): Falsos Positivos\n",
        "- **FN** (*False Negatives*): Falsos Negativos\n",
        "\n",
        "2. **Precisão (*Precision*)**: É a proporção de verdadeiros positivos (TP) entre todas as instâncias que o modelo previu como positivas. Em outras palavras, é a quantidade de previsões corretas de uma classe específica em relação ao total de previsões feitas para essa classe.\n",
        "   $$\n",
        "   \\text{Precisão} = \\frac{TP}{TP + FP}\n",
        "   $$\n",
        "   onde FP são os falsos positivos.\n",
        "\n",
        "3. **Revocação (*Recall*)**: É a proporção de verdadeiros positivos entre todas as instâncias que são realmente positivas. Ou seja, é a quantidade de previsões corretas de uma classe específica em relação ao total de instâncias reais dessa classe.\n",
        "   $$\n",
        "   \\text{Revocação} = \\frac{TP}{TP + FN}\n",
        "   $$\n",
        "   onde FN são os falsos negativos.\n",
        "\n",
        "4. **F1 Score**: É a média harmônica entre a Precisão e a Revocação. A média harmônica é usada aqui porque penaliza valores extremos, garantindo que o F1* Score* será baixo se um dos dois (Precisão ou Revocação) estiver baixo.\n",
        "   $$\n",
        "   \\text{F1 Score} = 2 \\times \\frac{\\text{Precisão} \\times \\text{Revocação}}{\\text{Precisão} + \\text{Revocação}}\n",
        "   $$\n",
        "\n",
        "### Por que usar o F1 Score em datasets desbalanceados?\n",
        "\n",
        "Em datasets desbalanceados, onde uma classe é muito mais frequente do que outra, métricas como a acurácia podem ser enganosas. Por exemplo, se temos 95% das instâncias de uma classe e apenas 5% de outra, um modelo que sempre prevê a classe majoritária terá alta acurácia, mas não será útil para detectar a classe minoritária.\n",
        "\n",
        "O F1 Score é importante porque leva em consideração tanto a Precisão quanto a Revocação. Em um cenário desbalanceado, isso ajuda a fornecer uma visão mais equilibrada da performance do modelo, destacando se ele é capaz de identificar a classe minoritária com precisão e frequência suficientes.\n",
        "\n",
        "Assim, o F1 Score é particularmente útil quando a prioridade é garantir que tanto a taxa de detecção dos positivos (revocação) quanto a qualidade das detecções positivas (precisão) são importantes, o que é frequentemente o caso em situações desbalanceadas."
      ],
      "metadata": {
        "id": "HzLgLltmu5Gc"
      }
    },
    {
      "cell_type": "markdown",
      "source": [
        "## 2.17- Exercícios *Fine-Tuning*\n",
        "\n",
        "\n",
        "1.   Alterar alguns parâmetros de treinamento, como: batch_size, learning rate e número de épocas. Avaliar qual o impacto negativo ou positivo na alteração desses parâmetros.\n",
        "2.   Utilizar alguma técnica de balanceamento de *dataset* e avaliar os resultados, Ex.: *Oversampling* e *Undersampling*\n",
        "\n"
      ],
      "metadata": {
        "id": "cmgLgoLyzKLA"
      }
    },
    {
      "cell_type": "markdown",
      "source": [
        "# 3- BERT para NER\n",
        "\n",
        "Neste tópico, vamos demonstrar como usar a biblioteca Hugging Face Transformers e *pipelines* de um modelo já treinado para realizar *Named Entity Recognition *(NER) em textos em português. Utilizaremos um modelo pré-treinado adequado para a tarefa de NER."
      ],
      "metadata": {
        "id": "2ka8TyLD0Eun"
      }
    },
    {
      "cell_type": "markdown",
      "source": [
        "## 3.1- Configuração de variáveis globais\n",
        "\n",
        "Vamos configurar as variáveis de parâmetros para serem utilizadas durante o código."
      ],
      "metadata": {
        "id": "hQsqxzNZ2cBq"
      }
    },
    {
      "cell_type": "code",
      "source": [
        "# Seleciona a versão do modelo que será utilizada\n",
        "model_id = \"lfcc/bert-portuguese-ner\""
      ],
      "metadata": {
        "id": "5Tt9jZOW2dUL"
      },
      "execution_count": null,
      "outputs": []
    },
    {
      "cell_type": "markdown",
      "source": [
        "## 3.2- Importação das Bibliotecas\n",
        "\n",
        "Vamos importar as bibliotecas necessárias para carregar o pipeline de NER e o *dataset* em português."
      ],
      "metadata": {
        "id": "QhpLV3pq0_6J"
      }
    },
    {
      "cell_type": "code",
      "source": [
        "from transformers import pipeline, AutoModelForTokenClassification, AutoTokenizer"
      ],
      "metadata": {
        "id": "i16vHS_v8KUr"
      },
      "execution_count": null,
      "outputs": []
    },
    {
      "cell_type": "markdown",
      "source": [
        "## 3.3- Carregar o Modelo BERT para NER\n",
        "\n",
        "Vamos carregar o *pipeline* de NER usando um modelo pré-treinado disponível na Hugging Face. Utilizaremos o modelo `xlm-roberta-base`, que é adequado para NER em português.\n",
        "\n",
        "Ao carregar o *pipeline* NER, usando o  aggregation_strategy=\"simple\" o modelo adotará a estratégia de agregaçao para unir tokens que pertençam a uma mesma entidade nomeada."
      ],
      "metadata": {
        "id": "PedrcaYN1FkY"
      }
    },
    {
      "cell_type": "code",
      "source": [
        "# Carregando o modelo e tokenizer\n",
        "model = AutoModelForTokenClassification.from_pretrained(model_id)\n",
        "tokenizer = AutoTokenizer.from_pretrained(model_id)\n",
        "\n",
        "# Carregando o pipeline de NER\n",
        "ner_pipeline = pipeline(\"ner\", model=model, tokenizer=tokenizer, aggregation_strategy=\"simple\")"
      ],
      "metadata": {
        "id": "0d7LDxAJ1CzG"
      },
      "execution_count": null,
      "outputs": []
    },
    {
      "cell_type": "markdown",
      "source": [
        "## 3.4- Extraindo Entidades de Texto\n",
        "\n",
        "Vamos utilizar o pipeline de NER para identificar entidades nomeadas em alguns exemplos de texto em português."
      ],
      "metadata": {
        "id": "ChW-E1B4299C"
      }
    },
    {
      "cell_type": "code",
      "source": [
        "# Definindo alguns exemplos de texto em português\n",
        "examples = [\n",
        "    \"Paulo viajou para o Estados Unidos.\",\n",
        "    \"Marie Curie foi uma cientista polonesa que realizou pesquisas pioneiras sobre radioatividade.\",\n",
        "    \"Fernando Henrique Cardoso foi o primeiro presidente eleito após a ditadura no Brasil.\",\n",
        "    \"Petrobras foi fundada em 3 de outubro de 1953\"\n",
        "]\n",
        "\n",
        "# Realizando NER nos exemplos de texto\n",
        "for example in examples:\n",
        "    ner_results = ner_pipeline(example)\n",
        "    print(f\"Texto: {example}\")\n",
        "    print(\"Entidades Nomeadas:\")\n",
        "    for entity in ner_results:\n",
        "        print(f\" - {entity['word']}: {entity['entity_group']} ({entity['score']*100:.2f}%)\")\n",
        "    print()"
      ],
      "metadata": {
        "id": "TdaCWW8M24w7"
      },
      "execution_count": null,
      "outputs": []
    },
    {
      "cell_type": "markdown",
      "source": [
        "# 4- **Tradução** Automática usando Hugging Face Transformers\n",
        "\n",
        "Neste tópico, vamos demonstrar como usar a biblioteca Hugging Face Transformers e *pipelines* de um modelo já treinado para realizar a tradução automática de textos em português para o inglês. Utilizaremos um modelo pré-treinado adequado para a tarefa de tradução."
      ],
      "metadata": {
        "id": "wFEOSozf75KJ"
      }
    },
    {
      "cell_type": "markdown",
      "source": [
        "## 4.1- Importação das Bibliotecas\n",
        "\n",
        "Vamos importar as bibliotecas necessárias para carregar o pipeline de tradução."
      ],
      "metadata": {
        "id": "hGQoHTzC8CT3"
      }
    },
    {
      "cell_type": "code",
      "source": [
        "from transformers import pipeline"
      ],
      "metadata": {
        "id": "5IEKNzDL7Vcl"
      },
      "execution_count": null,
      "outputs": []
    },
    {
      "cell_type": "markdown",
      "source": [
        "## 4.2- Carregar o Modelo de Tradução\n",
        "\n",
        "Vamos carregar o *pipeline* de tradução usando um modelo pré-treinado disponível na Hugging Face. Utilizaremos o modelo `Helsinki-NLP/opus-mt-pt-en`, que é adequado para tradução do português para o inglês."
      ],
      "metadata": {
        "id": "xEuOo40L8KPH"
      }
    },
    {
      "cell_type": "code",
      "source": [
        "# Carregando o pipeline de tradução\n",
        "translation_pipeline = pipeline(\"translation_en_to_pt\", model=\"Helsinki-NLP/opus-mt-tc-big-en-pt\")"
      ],
      "metadata": {
        "id": "-nsxw_xj8ILi"
      },
      "execution_count": null,
      "outputs": []
    },
    {
      "cell_type": "markdown",
      "source": [
        "## 4.3- Exemplos de Tradução\n",
        "\n",
        "Vamos utilizar o* pipeline* de tradução para traduzir alguns exemplos de texto em português para o inglês."
      ],
      "metadata": {
        "id": "2DYAI2on9HOG"
      }
    },
    {
      "cell_type": "code",
      "source": [
        "# Definindo alguns exemplos de texto em português\n",
        "examples = [\n",
        "    \"I love learning about natural language processing.\",\n",
        "    \"The BERT model was developed by Google AI Research.\",\n",
        "    \"Machine translation is a challenging and interesting task.\"\n",
        "]\n",
        "\n",
        "# Realizando a tradução dos exemplos de texto\n",
        "for example in examples:\n",
        "    translation = translation_pipeline(example)\n",
        "    print(f\"Texto original: {example}\")\n",
        "    print(f\"Tradução: {translation[0]['translation_text']}\\n\")"
      ],
      "metadata": {
        "id": "4C7IPrgl8Q01"
      },
      "execution_count": null,
      "outputs": []
    },
    {
      "cell_type": "markdown",
      "source": [
        "# 4.4- Exercício - Desafio\n",
        "Para finalizar a seção do **BERT** do nosso curso fica o exercício desafio que será divido em três partes:\n",
        "\n",
        "\n",
        "1.   Utilizar o *dataset *`hate-speech-portuguese/hate_speech_portuguese` e dividi-lo em 3 partes `train`, `test` e `val`\n",
        "2.   Usar o *dataset* dividido e avaliar somente a parte do `val`, rodar a predição no modelo `adalbertojunior/distilbert-portuguese-cased` e avaliar a métrica **F1 Score** que deve ser calculada usando o `load_metric` (https://huggingface.co/docs/evaluate/choosing_a_metric) do Hugging Face.\n",
        "3.  Realizar um *fine-tunning* para esse *dataset* e avaliar a métrica **F1 Score** comparando. Compare o resuldado desse modelo com o do passo anterior e veja qual ficou melhor."
      ],
      "metadata": {
        "id": "IUU03r1dbyNm"
      }
    },
    {
      "cell_type": "code",
      "source": [],
      "metadata": {
        "id": "_udDxu-BbN9N"
      },
      "execution_count": null,
      "outputs": []
    }
  ]
}