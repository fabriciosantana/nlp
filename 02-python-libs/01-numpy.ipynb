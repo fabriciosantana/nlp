{
  "cells": [
    {
      "cell_type": "markdown",
      "metadata": {
        "colab_type": "text",
        "id": "view-in-github"
      },
      "source": [
        "<a href=\"https://colab.research.google.com/github/fabriciosantana/nlp/blob/main/02-python-libs/01-numpy.ipynb\" target=\"_parent\"><img src=\"https://colab.research.google.com/assets/colab-badge.svg\" alt=\"Open In Colab\"/></a>"
      ]
    },
    {
      "cell_type": "markdown",
      "metadata": {
        "id": "gfevqw7Eyf76"
      },
      "source": [
        "# Objetivos de Aprendizagem\n",
        "\n",
        "* Compreender a estrutura e as principais funcionalidades do *NumPy*, incluindo sua eficácia em manipular *arrays* multidimensionais e realizar operações matemáticas complexas.\n",
        "\n",
        "* Instalar e configurar o ambiente de desenvolvimento necessário para trabalhar com *NumPy*.\n",
        "\n",
        "* Criar, manipular e operar *arrays* *NumPy* para realizar cálculos matemáticos e estatísticos.\n",
        "\n",
        "* Utilizar técnicas de vetorização para melhorar a eficiência e performance de *scripts* *Python*.\n",
        "\n",
        "* Aplicar funções avançadas do *NumPy* para processamento de dados, como operações de álgebra linear.\n",
        "\n",
        "* Resolver problemas práticos de ciência de dados, como limpeza e normalização de *datasets*, utilizando as funcionalidades do *NumPy*.\n",
        "\n",
        "* Desenvolver uma compreensão crítica de como e quando utilizar o *NumPy* em contraposição a outras estruturas de dados *Python* como listas, tuplas e conjuntos.\n",
        "\n",
        "* Trabalhar efetivamente em ambientes colaborativos, usando plataformas como *Jupyter Notebooks* e *Google Colab* para compartilhar e documentar análises de dados.\n",
        "\n",
        "* Comunicar resultados de análises por meio de visualizações de dados simples usando o *NumPy* em conjunto com bibliotecas de visualização como *Matplotlib*."
      ]
    },
    {
      "cell_type": "markdown",
      "metadata": {
        "id": "OJA5knmZwYFH"
      },
      "source": [
        "\n",
        "# Introdução ao NumPy\n",
        "\n",
        "*NumPy* é uma biblioteca essencial para a computação numérica em *Python*. Destaca-se sua eficiência em operações matemáticas graças à vetorização que elimina a necessidade de *loops* explícitos (estruturas de repetição explícitas). Desenvolvida inicialmente em 2005 por Travis Oliphant, a biblioteca é crucial não apenas para a ciência de dados, mas também em campos como engenharia e física devido à sua capacidade de realizar operações complexas de forma eficiente. *NumPy* é a base para outras ferramentas de ciência de dados e se integra bem com linguagens de baixo nível como C e Fortran, o que melhora significativamente o desempenho das operações computacionais.\n",
        "\n",
        "Sempre que precisar, consulte a documentação oficial do *NumPy*: https://numpy.org/doc/stable/reference/index.html\n",
        "\n",
        "O *NumPy* já vem instalado nesse *Google Colab*. Mas, para instalá-lo em seu ambiente local, você pode usar o comando a seguir:"
      ]
    },
    {
      "cell_type": "code",
      "execution_count": null,
      "metadata": {
        "colab": {
          "base_uri": "https://localhost:8080/"
        },
        "id": "hvZsiZ_9xRbd",
        "outputId": "6a3eda73-c49d-4a80-cd24-b22cb5457609"
      },
      "outputs": [
        {
          "name": "stdout",
          "output_type": "stream",
          "text": [
            "Requirement already satisfied: numpy in /usr/local/lib/python3.10/dist-packages (1.26.4)\n"
          ]
        }
      ],
      "source": [
        "!pip install numpy"
      ]
    },
    {
      "cell_type": "markdown",
      "metadata": {
        "id": "eXvc4FnIxogm"
      },
      "source": [
        "Verificando Instalação do *NumPy*:"
      ]
    },
    {
      "cell_type": "code",
      "execution_count": null,
      "metadata": {
        "colab": {
          "base_uri": "https://localhost:8080/"
        },
        "id": "FrvizKHAxxjF",
        "outputId": "56f2433e-1f8f-4677-c29f-9e021773183a"
      },
      "outputs": [
        {
          "name": "stdout",
          "output_type": "stream",
          "text": [
            "Versão do NumPy: 1.26.4\n"
          ]
        }
      ],
      "source": [
        "import numpy as np\n",
        "print(\"Versão do NumPy:\", np.__version__)"
      ]
    },
    {
      "cell_type": "markdown",
      "metadata": {
        "id": "-UnMBp0kx90Z"
      },
      "source": [
        "A seguir, são apresentados exemplos de utilização da biblioteca *NumPy* com *arrays* unidimensionais."
      ]
    },
    {
      "cell_type": "code",
      "execution_count": null,
      "metadata": {
        "colab": {
          "base_uri": "https://localhost:8080/"
        },
        "id": "tBVvZqphx4zV",
        "outputId": "06665ba8-0aa7-4bf8-8372-c4fb4d2045ea"
      },
      "outputs": [
        {
          "name": "stdout",
          "output_type": "stream",
          "text": [
            "Array a: [1 2 3 4 5]\n"
          ]
        }
      ],
      "source": [
        "# Criando um array de uma dimensão\n",
        "a = np.array([1, 2, 3, 4, 5])\n",
        "print(\"Array a:\", a)"
      ]
    },
    {
      "cell_type": "code",
      "execution_count": null,
      "metadata": {
        "colab": {
          "base_uri": "https://localhost:8080/"
        },
        "id": "-ZYAyGh9yK3d",
        "outputId": "b1653657-4ec3-456e-b5a1-e3dccfd98f33"
      },
      "outputs": [
        {
          "name": "stdout",
          "output_type": "stream",
          "text": [
            "Array b (a multiplicado por 2): [ 2  4  6  8 10]\n"
          ]
        }
      ],
      "source": [
        "# Realizando operações matemáticas simples\n",
        "b = a * 2\n",
        "print(\"Array b (a multiplicado por 2):\", b)"
      ]
    },
    {
      "cell_type": "markdown",
      "metadata": {
        "id": "bExhT5HAyMj4"
      },
      "source": [
        "Também pode-se trabalhar com *arrays* multidimensionais com *NumPy*. Veja alguns exemplos a seguir:"
      ]
    },
    {
      "cell_type": "code",
      "execution_count": null,
      "metadata": {
        "colab": {
          "base_uri": "https://localhost:8080/"
        },
        "id": "8SUT7GjkyfPh",
        "outputId": "0f788499-d8dc-4483-8551-cac2551c40df"
      },
      "outputs": [
        {
          "name": "stdout",
          "output_type": "stream",
          "text": [
            "Matriz c:\n",
            " [[1 2]\n",
            " [3 4]]\n"
          ]
        }
      ],
      "source": [
        "# Criando um array bidimensional (matriz)\n",
        "c = np.array([[1, 2], [3, 4]])\n",
        "print(\"Matriz c:\\n\", c)"
      ]
    },
    {
      "cell_type": "code",
      "execution_count": null,
      "metadata": {
        "colab": {
          "base_uri": "https://localhost:8080/"
        },
        "id": "wo3g4n9MyiZv",
        "outputId": "4c5925fc-f289-43e8-955c-2c42552f103a"
      },
      "outputs": [
        {
          "name": "stdout",
          "output_type": "stream",
          "text": [
            "Matriz d (c mais 3):\n",
            " [[4 5]\n",
            " [6 7]]\n"
          ]
        }
      ],
      "source": [
        "# Somando um número a cada elemento da matriz\n",
        "d = c + 3\n",
        "print(\"Matriz d (c mais 3):\\n\", d)"
      ]
    },
    {
      "cell_type": "code",
      "execution_count": null,
      "metadata": {
        "colab": {
          "base_uri": "https://localhost:8080/"
        },
        "id": "ahTIPM3ryiPY",
        "outputId": "91b001fb-f9a3-46ca-d913-ebe3fa3d554a"
      },
      "outputs": [
        {
          "name": "stdout",
          "output_type": "stream",
          "text": [
            "Média dos elementos de a: 3.0\n"
          ]
        }
      ],
      "source": [
        "# Calculando a média dos elementos do array a\n",
        "media = np.mean(a)\n",
        "print(\"Média dos elementos de a:\", media)"
      ]
    },
    {
      "cell_type": "markdown",
      "metadata": {
        "id": "ClpV7Jw5y6Rm"
      },
      "source": [
        "# *Arrays* e Matrizes\n",
        "\n",
        "Nesta seção, é explorada a importância central dos *arrays* no *NumPy*, uma estrutura de dados que armazena valores de forma eficiente e que é essencial para operações matemáticas. É detalhado como criar *arrays* utilizando várias funções do *NumPy*, como `np.array()` para conversões diretas de listas e `np.zeros()`, `np.ones()`, `np.arange()`, e `np.linspace()` para geração rápida de *arrays* com características específicas. Também abordamos atributos críticos de *arrays* como `shape` e `ndim`, que revelam as dimensões e a quantidade de dimensões do *array*, respectivamente, permitindo aos/às usuários/as manipularem e entenderem mais profundamente suas estruturas de dados."
      ]
    },
    {
      "cell_type": "markdown",
      "metadata": {
        "id": "eRRigdG3u68l"
      },
      "source": [
        "Podem ser utilizadas algumas funções interessantes para criação de *arrays*, como zeros, *arange* e *linspace*."
      ]
    },
    {
      "cell_type": "code",
      "execution_count": null,
      "metadata": {
        "colab": {
          "base_uri": "https://localhost:8080/"
        },
        "id": "0CeFb4uszKeV",
        "outputId": "c004924e-6431-422d-d854-a7e76deead3b"
      },
      "outputs": [
        {
          "name": "stdout",
          "output_type": "stream",
          "text": [
            "Matriz de zeros:\n",
            " [[0. 0. 0.]\n",
            " [0. 0. 0.]\n",
            " [0. 0. 0.]]\n"
          ]
        }
      ],
      "source": [
        "zeros_array = np.zeros((3, 3))\n",
        "print(\"Matriz de zeros:\\n\", zeros_array)"
      ]
    },
    {
      "cell_type": "code",
      "execution_count": null,
      "metadata": {
        "colab": {
          "base_uri": "https://localhost:8080/"
        },
        "id": "zAm-9k03zONK",
        "outputId": "0a8bdbf1-15df-4581-d5a9-0d709742c32b"
      },
      "outputs": [
        {
          "name": "stdout",
          "output_type": "stream",
          "text": [
            "Array com np.arange: [0 2 4 6 8]\n"
          ]
        }
      ],
      "source": [
        "range_array = np.arange(0, 10, 2)\n",
        "print(\"Array com np.arange:\", range_array)"
      ]
    },
    {
      "cell_type": "code",
      "execution_count": null,
      "metadata": {
        "colab": {
          "base_uri": "https://localhost:8080/"
        },
        "id": "Fs3LlD3vzShK",
        "outputId": "dd4194af-2c4b-41c5-9af3-929d0fb27beb"
      },
      "outputs": [
        {
          "name": "stdout",
          "output_type": "stream",
          "text": [
            "Array com np.linspace: [0.   0.25 0.5  0.75 1.  ]\n"
          ]
        }
      ],
      "source": [
        "linspace_array = np.linspace(0, 1, 5)\n",
        "print(\"Array com np.linspace:\", linspace_array)"
      ]
    },
    {
      "cell_type": "markdown",
      "metadata": {
        "id": "dnXHz2oxze_1"
      },
      "source": [
        "Para saber a forma e dimensões do *array*, pode-se usar os atributos *shape* e *ndim*:"
      ]
    },
    {
      "cell_type": "code",
      "execution_count": null,
      "metadata": {
        "colab": {
          "base_uri": "https://localhost:8080/"
        },
        "id": "q85bENOGzWAH",
        "outputId": "fc09f719-625d-4d5e-fd39-ef82bbdb3545"
      },
      "outputs": [
        {
          "name": "stdout",
          "output_type": "stream",
          "text": [
            "Forma do array: (5,)\n",
            "Número de dimensões: 1\n"
          ]
        }
      ],
      "source": [
        "print(\"Forma do array:\", linspace_array.shape)\n",
        "print(\"Número de dimensões:\", linspace_array.ndim)"
      ]
    },
    {
      "cell_type": "markdown",
      "metadata": {
        "id": "XBhkStzkzuu-"
      },
      "source": [
        "É possivel definir *arrays* com listas de listas:"
      ]
    },
    {
      "cell_type": "code",
      "execution_count": null,
      "metadata": {
        "colab": {
          "base_uri": "https://localhost:8080/"
        },
        "id": "xNB6yHvHzoNY",
        "outputId": "fddb3ef0-f987-4415-87d5-9aabf3998451"
      },
      "outputs": [
        {
          "name": "stdout",
          "output_type": "stream",
          "text": [
            "Matriz:\n",
            " [[1 2 3]\n",
            " [4 5 6]]\n"
          ]
        }
      ],
      "source": [
        "matriz = np.array([[1, 2, 3], [4, 5, 6]])\n",
        "print(\"Matriz:\\n\", matriz)"
      ]
    },
    {
      "cell_type": "markdown",
      "metadata": {
        "id": "W1YjtzW4z5Qf"
      },
      "source": [
        "Os elementos do *array* em *NumPy* devem ter o mesmo tipo de dados. Para saber qual o tipo de dados de um *array*, utiliza-se o atributo *dtype*:"
      ]
    },
    {
      "cell_type": "code",
      "execution_count": null,
      "metadata": {
        "colab": {
          "base_uri": "https://localhost:8080/"
        },
        "id": "LUCAh_pj0Ax-",
        "outputId": "25888567-5235-46ea-c6b3-454794631880"
      },
      "outputs": [
        {
          "name": "stdout",
          "output_type": "stream",
          "text": [
            "Tipo de dados de 'a': int64\n"
          ]
        }
      ],
      "source": [
        "print(\"Tipo de dados de 'a':\", a.dtype)"
      ]
    },
    {
      "cell_type": "markdown",
      "metadata": {
        "id": "0bmhFMdI0QA8"
      },
      "source": [
        "Para acessar uma posição do *array*, utiliza-se colchetes (`[]`):"
      ]
    },
    {
      "cell_type": "code",
      "execution_count": null,
      "metadata": {
        "colab": {
          "base_uri": "https://localhost:8080/"
        },
        "id": "1Dl2s3DhvQRj",
        "outputId": "0a83fb9e-0821-4b28-d2d8-2b4516f44559"
      },
      "outputs": [
        {
          "name": "stdout",
          "output_type": "stream",
          "text": [
            "Array 'a' modificado: [10  2  3  4  5]\n",
            "Matriz 'matriz' modificada: [[ 1 10  3]\n",
            " [ 4  5  6]]\n"
          ]
        }
      ],
      "source": [
        "a[0] = 10\n",
        "print(\"Array 'a' modificado:\", a)\n",
        "\n",
        "matriz[0][1] = 10\n",
        "print(\"Matriz 'matriz' modificada:\", matriz)"
      ]
    },
    {
      "cell_type": "markdown",
      "metadata": {
        "id": "XGgNVpSlvpPx"
      },
      "source": [
        "## *Arrays* do *NumPy* vs. Estruturas de Dados Nativas do *Python*\n",
        "\n",
        "Os *arrays* do *NumPy* podem ser comparados com as estruturas de dados nativas do *Python*, como listas, tuplas e conjuntos. Ao contrário dessas estruturas, os *arrays* do *NumPy* são homogêneos e permitem operações matemáticas eficientes ao nível do *hardware*, o que os torna ideais para computação numérica e científica. As listas são flexiveis para operações que requerem alterações frequentes de tamanho, as tuplas são imutáveis, o que as torna úteis como chaves de dicionários e a unicidade dos conjuntos elimina duplicatas. Contrastando, os *arrays* do *NumPy*, com sua capacidade de realizar operações complexas de forma vetorizada e manter a ordem dos elementos, apresentam-se como a escolha preferida para análises numéricas e manipulações de grandes volumes de dados."
      ]
    },
    {
      "cell_type": "markdown",
      "metadata": {
        "id": "FGeFVCeOwhZe"
      },
      "source": [
        "**Lista**: mutável, pode conter elementos de diferentes tipos:"
      ]
    },
    {
      "cell_type": "code",
      "execution_count": null,
      "metadata": {
        "colab": {
          "base_uri": "https://localhost:8080/"
        },
        "id": "o-IbP4OtwnxH",
        "outputId": "31b5d538-afd4-4e31-83f6-a0de941c8147"
      },
      "outputs": [
        {
          "name": "stdout",
          "output_type": "stream",
          "text": [
            "Lista modificada: [1, 'dois', 3.0, 4]\n"
          ]
        }
      ],
      "source": [
        "lista = [1, 'dois', 3.0]\n",
        "lista.append(4)  # Adiciona um elemento ao final\n",
        "print(\"Lista modificada:\", lista)"
      ]
    },
    {
      "cell_type": "markdown",
      "metadata": {
        "id": "7ti8YiAawobk"
      },
      "source": [
        "**Tupla**: imutável, pode conter elementos de diferentes tipos:"
      ]
    },
    {
      "cell_type": "code",
      "execution_count": null,
      "metadata": {
        "colab": {
          "base_uri": "https://localhost:8080/",
          "height": 159
        },
        "id": "fElbdsYXwo5R",
        "outputId": "a39a84ec-255d-420f-fb39-8a67b556e2cf"
      },
      "outputs": [
        {
          "ename": "TypeError",
          "evalue": "'tuple' object does not support item assignment",
          "output_type": "error",
          "traceback": [
            "\u001b[0;31m---------------------------------------------------------------------------\u001b[0m",
            "\u001b[0;31mTypeError\u001b[0m                                 Traceback (most recent call last)",
            "\u001b[0;32m<ipython-input-3-795970560b0c>\u001b[0m in \u001b[0;36m<cell line: 2>\u001b[0;34m()\u001b[0m\n\u001b[1;32m      1\u001b[0m \u001b[0mtupla\u001b[0m \u001b[0;34m=\u001b[0m \u001b[0;34m(\u001b[0m\u001b[0;36m1\u001b[0m\u001b[0;34m,\u001b[0m \u001b[0;34m'dois'\u001b[0m\u001b[0;34m,\u001b[0m \u001b[0;36m3.0\u001b[0m\u001b[0;34m)\u001b[0m\u001b[0;34m\u001b[0m\u001b[0;34m\u001b[0m\u001b[0m\n\u001b[0;32m----> 2\u001b[0;31m \u001b[0mtupla\u001b[0m\u001b[0;34m[\u001b[0m\u001b[0;36m0\u001b[0m\u001b[0;34m]\u001b[0m \u001b[0;34m=\u001b[0m \u001b[0;36m2\u001b[0m  \u001b[0;31m# Isto resultaria em um erro\u001b[0m\u001b[0;34m\u001b[0m\u001b[0;34m\u001b[0m\u001b[0m\n\u001b[0m",
            "\u001b[0;31mTypeError\u001b[0m: 'tuple' object does not support item assignment"
          ]
        }
      ],
      "source": [
        "tupla = (1, 'dois', 3.0)\n",
        "tupla[0] = 2  # Isto resultaria em um erro, uma vez que as tuplas são imutáveis.\n"
      ]
    },
    {
      "cell_type": "code",
      "execution_count": null,
      "metadata": {
        "colab": {
          "base_uri": "https://localhost:8080/"
        },
        "id": "MOxuZKQexMsY",
        "outputId": "0ad4a548-ced6-48ae-d2fe-237355bfa8b0"
      },
      "outputs": [
        {
          "name": "stdout",
          "output_type": "stream",
          "text": [
            "Tupla: (1, 'dois', 3.0)\n"
          ]
        }
      ],
      "source": [
        "print(\"Tupla:\", tupla)"
      ]
    },
    {
      "cell_type": "markdown",
      "metadata": {
        "id": "MD20KsvXw-2l"
      },
      "source": [
        "**Conjunto**: não ordenado, sem duplicatas:"
      ]
    },
    {
      "cell_type": "code",
      "execution_count": null,
      "metadata": {
        "colab": {
          "base_uri": "https://localhost:8080/"
        },
        "id": "9hEAChxrw8q-",
        "outputId": "c91073a4-0363-4fab-eabc-03bd6444aa9b"
      },
      "outputs": [
        {
          "name": "stdout",
          "output_type": "stream",
          "text": [
            "Conjunto (sem duplicatas): {1, 2, 3, 4, 5}\n"
          ]
        }
      ],
      "source": [
        "conjunto = {1, 2, 2, 3, 4, 5}\n",
        "print(\"Conjunto (sem duplicatas):\", conjunto)"
      ]
    },
    {
      "cell_type": "markdown",
      "metadata": {
        "id": "Ug3gHcX6w8c6"
      },
      "source": [
        "A execução com *NumPy* geralmente será significativamente mais rápida:"
      ]
    },
    {
      "cell_type": "code",
      "execution_count": null,
      "metadata": {
        "colab": {
          "base_uri": "https://localhost:8080/"
        },
        "id": "buqbYfF0xSbe",
        "outputId": "90aeca84-8ed3-4a07-f0b9-f4c2b5e81763"
      },
      "outputs": [
        {
          "name": "stdout",
          "output_type": "stream",
          "text": [
            "Tempo com lista: 0.08141207695007324\n",
            "Tempo com array NumPy: 0.0006694793701171875\n"
          ]
        }
      ],
      "source": [
        "import time\n",
        "\n",
        "\n",
        "lista = list(range(1000000))\n",
        "inicio = time.time()\n",
        "lista = [x + 1 for x in lista]\n",
        "fim = time.time()\n",
        "print(\"Tempo com lista:\", fim - inicio)\n",
        "\n",
        "\n",
        "array = np.arange(1000000)\n",
        "inicio = time.time()\n",
        "array += 1\n",
        "fim = time.time()\n",
        "print(\"Tempo com array NumPy:\", fim - inicio)"
      ]
    },
    {
      "cell_type": "markdown",
      "metadata": {
        "id": "H26wjdwm28o4"
      },
      "source": [
        "## Exercício Prático\n",
        "\n",
        "Crie um *array* com o formato e valores a seguir, utilizando as funções aprendidas nesta seção.\n",
        "\n",
        "*Array*:\n",
        "```\n",
        " [[ 0  2  4  6  8]\n",
        " [10 12 14 16 18]]\n",
        "```"
      ]
    },
    {
      "cell_type": "code",
      "execution_count": null,
      "metadata": {
        "colab": {
          "base_uri": "https://localhost:8080/"
        },
        "id": "ue8aT2823Aiv",
        "outputId": "d11e19d0-58ca-4abc-fe25-2185350d48c2"
      },
      "outputs": [
        {
          "name": "stdout",
          "output_type": "stream",
          "text": [
            "Array:\n",
            " [[ 0  2  4  6  8]\n",
            " [10 12 14 16 18]]\n"
          ]
        }
      ],
      "source": [
        "array = # SEU CÓDIGO AQUI\n",
        "print(\"Array:\\n\", array)"
      ]
    },
    {
      "cell_type": "markdown",
      "metadata": {
        "id": "jRDZdLyExpTf"
      },
      "source": [
        "# Operações com *Arrays*\n",
        "\n",
        "\n",
        "Nessa seção, discuti-se como os *arrays* do *NumPy* facilitam a realização de operações numéricas complexas por meio de uma interface intuitiva e eficiente. As operações básicas como adição, subtração, multiplicação e divisão são aplicadas elemento a elemento entre *arrays*. Introduzimos conceitos avançados como *broadcasting*, que permitem operações entre *arrays* de diferentes tamanhos, sem replicação manual de dados, e exploramos técnicas de indexação e *slicing*, que são fundamentais para acessar e manipular partes específicas de *arrays*. Também abordamos operações mais sofisticadas, incluindo funções universais (`ufuncs`) que operam em um nível de vetorização, oferecendo desempenho substancialmente melhorado em comparação com *loops* tradicionais em *Python*."
      ]
    },
    {
      "cell_type": "code",
      "execution_count": null,
      "metadata": {
        "colab": {
          "base_uri": "https://localhost:8080/"
        },
        "id": "m7bnGKRwyVYv",
        "outputId": "0578e344-c4b0-40b0-f425-cff70687da5d"
      },
      "outputs": [
        {
          "name": "stdout",
          "output_type": "stream",
          "text": [
            "Adição: [5 7 9]\n",
            "Subtração: [3 3 3]\n",
            "Multiplicação: [ 4 10 18]\n",
            "Divisão: [4.  2.5 2. ]\n"
          ]
        }
      ],
      "source": [
        "a = np.array([1, 2, 3])\n",
        "b = np.array([4, 5, 6])\n",
        "\n",
        "\n",
        "# Adição\n",
        "c = a + b\n",
        "print(\"Adição:\", c)\n",
        "\n",
        "# Subtração\n",
        "d = b - a\n",
        "print(\"Subtração:\", d)\n",
        "\n",
        "# Multiplicação\n",
        "e = a * b\n",
        "print(\"Multiplicação:\", e)\n",
        "\n",
        "# Divisão\n",
        "f = b / a\n",
        "print(\"Divisão:\", f)"
      ]
    },
    {
      "cell_type": "code",
      "execution_count": null,
      "metadata": {
        "colab": {
          "base_uri": "https://localhost:8080/"
        },
        "id": "6rlY1ke9yntv",
        "outputId": "2eaa2783-bb07-47fa-c0f4-985203857cb0"
      },
      "outputs": [
        {
          "name": "stdout",
          "output_type": "stream",
          "text": [
            "Broadcasting entre diferentes tamanhos:\n",
            " [[1 2 3]\n",
            " [2 3 4]\n",
            " [3 4 5]]\n"
          ]
        }
      ],
      "source": [
        "h = np.array([1, 2, 3])\n",
        "i = np.array([[0], [1], [2]])\n",
        "\n",
        "\n",
        "# Broadcasting entre diferentes tamanhos\n",
        "j = h + i\n",
        "print(\"Broadcasting entre diferentes tamanhos:\\n\", j)"
      ]
    },
    {
      "cell_type": "code",
      "execution_count": null,
      "metadata": {
        "colab": {
          "base_uri": "https://localhost:8080/"
        },
        "id": "WYj0sh5ByvVq",
        "outputId": "e930a453-47e0-461f-fbff-25e80a847c42"
      },
      "outputs": [
        {
          "name": "stdout",
          "output_type": "stream",
          "text": [
            "Elemento no índice 1: 2\n",
            "Primeiros dois elementos: [1 2]\n"
          ]
        }
      ],
      "source": [
        "# Indexação simples\n",
        "k = a[1]\n",
        "print(\"Elemento no índice 1:\", k)\n",
        "\n",
        "# Slicing\n",
        "l = a[0:2]\n",
        "print(\"Primeiros dois elementos:\", l)"
      ]
    },
    {
      "cell_type": "code",
      "execution_count": null,
      "metadata": {
        "colab": {
          "base_uri": "https://localhost:8080/"
        },
        "id": "-ctJP43ly3AV",
        "outputId": "de3fc27b-2385-4e37-9afb-27d3e21d5219"
      },
      "outputs": [
        {
          "name": "stdout",
          "output_type": "stream",
          "text": [
            "Array após zeroing: [1 0 0 0 5]\n"
          ]
        }
      ],
      "source": [
        "m = np.array([1, 2, 3, 4, 5])\n",
        "m[1:4] = 0\n",
        "print(\"Array após zeroing:\", m)"
      ]
    },
    {
      "cell_type": "code",
      "execution_count": null,
      "metadata": {
        "colab": {
          "base_uri": "https://localhost:8080/"
        },
        "id": "iQ2xYm4vy83d",
        "outputId": "98b0fee5-a5ab-42b5-e6ce-3a4221e7b641"
      },
      "outputs": [
        {
          "name": "stdout",
          "output_type": "stream",
          "text": [
            "Elementos selecionados com step de 2: [1 3 5 7]\n",
            "Array invertido: [9 8 7 6 5 4 3 2 1 0]\n"
          ]
        }
      ],
      "source": [
        "# Slicing com step\n",
        "m = np.array([0, 1, 2, 3, 4, 5, 6, 7, 8, 9])\n",
        "step_slice = m[1:8:2]\n",
        "print(\"Elementos selecionados com step de 2:\", step_slice)\n",
        "\n",
        "# Usando step negativo para inverter o array\n",
        "reverse_slice = m[::-1]\n",
        "print(\"Array invertido:\", reverse_slice)"
      ]
    },
    {
      "cell_type": "code",
      "execution_count": null,
      "metadata": {
        "colab": {
          "base_uri": "https://localhost:8080/"
        },
        "id": "XR72dSAQzB08",
        "outputId": "469d0d68-329d-4771-d961-dbf209af6f9e"
      },
      "outputs": [
        {
          "name": "stdout",
          "output_type": "stream",
          "text": [
            "Elementos selecionados: [20 40 50]\n"
          ]
        }
      ],
      "source": [
        "n = np.array([10, 20, 30, 40, 50])\n",
        "indices = [1, 3, 4]\n",
        "o = n[indices]\n",
        "print(\"Elementos selecionados:\", o)"
      ]
    },
    {
      "cell_type": "code",
      "execution_count": null,
      "metadata": {
        "colab": {
          "base_uri": "https://localhost:8080/"
        },
        "id": "Hp0zN2fkzGSL",
        "outputId": "93954b3e-b88b-4a15-cef3-22fed269d2c6"
      },
      "outputs": [
        {
          "name": "stdout",
          "output_type": "stream",
          "text": [
            "Elementos maiores que 3: [4 5]\n",
            "Elementos maiores que 3 (usando mascara diretamente): [4 5]\n"
          ]
        }
      ],
      "source": [
        "p = np.array([1, 2, 3, 4, 5])\n",
        "mask = p > 3\n",
        "q = p[mask]\n",
        "print(\"Elementos maiores que 3:\", q)\n",
        "\n",
        "# Também é possível usar a mascara diretamente entre os colchetes:\n",
        "print(\"Elementos maiores que 3 (usando mascara diretamente):\", p[p > 3])"
      ]
    },
    {
      "cell_type": "markdown",
      "metadata": {
        "id": "YtL_i2Ue4BU2"
      },
      "source": [
        "## Exercício Prático\n",
        "\n",
        "Substitua os valores pares por zero e retorne apenas os valores a partir da posição 50."
      ]
    },
    {
      "cell_type": "code",
      "execution_count": null,
      "metadata": {
        "colab": {
          "base_uri": "https://localhost:8080/"
        },
        "id": "M8fYYn5D4I6M",
        "outputId": "24164e4a-49d7-4543-d8aa-6fc605be1fc0"
      },
      "outputs": [
        {
          "name": "stdout",
          "output_type": "stream",
          "text": [
            "Array modificado: [ 0 51  0 53  0 55  0 57  0 59  0 61  0 63  0 65  0 67  0 69  0 71  0 73\n",
            "  0 75  0 77  0 79  0 81  0 83  0 85  0 87  0 89  0 91  0 93  0 95  0 97\n",
            "  0 99]\n"
          ]
        }
      ],
      "source": [
        "array = np.arange(0, 100, 1)\n",
        "# SEU CÓDIGO AQUI\n",
        "print(\"Array modificado:\", array)"
      ]
    },
    {
      "cell_type": "markdown",
      "metadata": {
        "id": "MuII1AMyzmZU"
      },
      "source": [
        "# Funções Universais (*ufunc*)\n",
        "\n",
        "Esta seção destaca o papel central das `ufuncs` no *NumPy*: funções otimizadas para operar sobre *arrays* elemento a elemento, proporcionando execução rápida e eficiente. As `ufuncs` podem ser unárias, operando sobre um único array, ou binárias, envolvendo dois *arrays*, e incluem operações como adição, multiplicação, raiz quadrada e exponencial. Essas funções são implementadas em C para desempenho máximo e são cruciais para a realização de cálculos matemáticos e científicos complexos, como operações de álgebra linear e estatísticas. A *ufunc* `np.where`, por exemplo, é versátil para substituições condicionais dentro de *arrays*, demonstrando a capacidade do *NumPy* de facilitar manipulações complexas de dados de forma eficaz e direta."
      ]
    },
    {
      "cell_type": "code",
      "execution_count": null,
      "metadata": {
        "colab": {
          "base_uri": "https://localhost:8080/"
        },
        "id": "XLgRxvPSzfds",
        "outputId": "ffea8087-18ed-40ad-d656-ab31738c32ae"
      },
      "outputs": [
        {
          "name": "stdout",
          "output_type": "stream",
          "text": [
            "Substituição condicional: [0 0 3 4 5]\n"
          ]
        }
      ],
      "source": [
        "r = np.array([1, 2, 3, 4, 5])\n",
        "s = np.where(r < 3, 0, r)\n",
        "print(\"Substituição condicional:\", s)"
      ]
    },
    {
      "cell_type": "code",
      "execution_count": null,
      "metadata": {
        "colab": {
          "base_uri": "https://localhost:8080/"
        },
        "id": "ePVrSynUzjtH",
        "outputId": "80cbe2eb-99e4-40cd-e822-d6b5ab8e50c3"
      },
      "outputs": [
        {
          "name": "stdout",
          "output_type": "stream",
          "text": [
            "Produto das matrizes:\n",
            " [[ 4  4]\n",
            " [10  8]]\n"
          ]
        }
      ],
      "source": [
        "A = np.array([[1, 2], [3, 4]])\n",
        "B = np.array([[2, 0], [1, 2]])\n",
        "\n",
        "\n",
        "# Produto de matrizes\n",
        "produto = np.dot(A, B)\n",
        "print(\"Produto das matrizes:\\n\", produto)"
      ]
    },
    {
      "cell_type": "code",
      "execution_count": null,
      "metadata": {
        "colab": {
          "base_uri": "https://localhost:8080/"
        },
        "id": "NmdDa9HL0LvK",
        "outputId": "8726c90d-61d3-45fd-ce5f-522982546beb"
      },
      "outputs": [
        {
          "name": "stdout",
          "output_type": "stream",
          "text": [
            "Determinante: -2.0000000000000004\n"
          ]
        }
      ],
      "source": [
        "# Determinante\n",
        "determinante = np.linalg.det(A)\n",
        "print(\"Determinante:\", determinante)"
      ]
    },
    {
      "cell_type": "code",
      "execution_count": null,
      "metadata": {
        "colab": {
          "base_uri": "https://localhost:8080/"
        },
        "id": "8qRPKuQy0OMO",
        "outputId": "d9d32707-2d43-49dd-84d1-1ec03a9aa60b"
      },
      "outputs": [
        {
          "name": "stdout",
          "output_type": "stream",
          "text": [
            "Autovalores: [-0.37228132  5.37228132]\n"
          ]
        }
      ],
      "source": [
        "# Autovalores\n",
        "autovalores = np.linalg.eigvals(A)\n",
        "print(\"Autovalores:\", autovalores)"
      ]
    },
    {
      "cell_type": "markdown",
      "metadata": {
        "id": "25XykOox0WSx"
      },
      "source": [
        "**Operações Estatísticas:**"
      ]
    },
    {
      "cell_type": "code",
      "execution_count": null,
      "metadata": {
        "colab": {
          "base_uri": "https://localhost:8080/"
        },
        "id": "k7GDlkcT0Q1Q",
        "outputId": "18fbe751-5cb0-4f00-915f-4ec3cabc67f6"
      },
      "outputs": [
        {
          "name": "stdout",
          "output_type": "stream",
          "text": [
            "Média: 3.0\n"
          ]
        }
      ],
      "source": [
        "dados = np.array([1, 2, 3, 4, 5])\n",
        "\n",
        "# Média\n",
        "media = np.mean(dados)\n",
        "print(\"Média:\", media)"
      ]
    },
    {
      "cell_type": "code",
      "execution_count": null,
      "metadata": {
        "colab": {
          "base_uri": "https://localhost:8080/"
        },
        "id": "hZZnlEpJ0daa",
        "outputId": "5fbc545f-92b3-40fa-8f33-64086583cfb9"
      },
      "outputs": [
        {
          "name": "stdout",
          "output_type": "stream",
          "text": [
            "Mediana: 3.0\n"
          ]
        }
      ],
      "source": [
        "# Mediana\n",
        "mediana = np.median(dados)\n",
        "print(\"Mediana:\", mediana)"
      ]
    },
    {
      "cell_type": "code",
      "execution_count": null,
      "metadata": {
        "colab": {
          "base_uri": "https://localhost:8080/"
        },
        "id": "ZAO2VNOh0g-X",
        "outputId": "e3033f4f-e624-425c-c601-2f4b0f07cb4d"
      },
      "outputs": [
        {
          "name": "stdout",
          "output_type": "stream",
          "text": [
            "Desvio padrão: 1.4142135623730951\n"
          ]
        }
      ],
      "source": [
        "# Desvio padrão\n",
        "desvio_padrao = np.std(dados)\n",
        "print(\"Desvio padrão:\", desvio_padrao)"
      ]
    },
    {
      "cell_type": "markdown",
      "metadata": {
        "id": "PLsZI6345kbW"
      },
      "source": [
        "## Exercício Prático\n",
        "\n",
        "São dadas notas de 20 alunos para dois bimestres (`notasB1` e `notasB2`). Calcule a média das notas de cada aluno em um novo *array*. Supondo que a média para aprovação seja 6.0, gere um *array* de valores booleanos com `True`, caso aprovado, e `False`, caso reprovado. Utilize a função `np.where`."
      ]
    },
    {
      "cell_type": "code",
      "execution_count": null,
      "metadata": {
        "id": "ha4NP44c5kAE"
      },
      "outputs": [],
      "source": [
        "notasB1 = np.random.uniform(1, 10, 20)\n",
        "notasB2 = np.random.uniform(1, 10, 20)\n",
        "\n",
        "# Calcule a média das notas\n",
        "media_notas = # SEU CÓDIGO AQUI\n",
        "print(\"Média das notas:\", media_notas)\n",
        "\n",
        "aprovados = # SEU CÓDIGO AQUI\n",
        "print(\"Alunos aprovados:\", aprovados)\n"
      ]
    },
    {
      "cell_type": "markdown",
      "metadata": {
        "id": "ONQ5E7ua0uio"
      },
      "source": [
        "# Visualização de Dados com *NumPy* e *Matplotlib*\n",
        "\n",
        "Nesta seção, exploramos como combinar o *NumPy* com a biblioteca de plotagem *Matplotlib* para criar visualizações de dados eficazes e informativas. Demonstramos o uso de *NumPy* para gerar dados numéricos que são visualizados utilizando as funcionalidades de plotagem do *Matplotlib*. Um exemplo prático envolve a criação de um gráfico de linha para visualizar a função seno usando *arrays* gerados pelo *NumPy* e plotados com *Matplotlib*, destacando a simplicidade e eficácia dessa abordagem. Também introduzimos técnicas para a visualização de distribuições de dados, como histogramas, que são essenciais para análises estatísticas iniciais e para verificar a normalidade dos dados. Esta seção serve como uma introdução essencial à interação entre *NumPy* e *Matplotlib*, preparando o terreno para explorações mais profundas na visualização de dados avançada, apresentada na **Unidade III**."
      ]
    },
    {
      "cell_type": "code",
      "execution_count": null,
      "metadata": {
        "colab": {
          "base_uri": "https://localhost:8080/",
          "height": 411
        },
        "id": "y97hwCBMxFV3",
        "outputId": "16fe5743-a1d4-4149-db48-745fa8770a2f"
      },
      "outputs": [
        {
          "data": {
            "image/png": "[encoded data removed]",
            "text/plain": [
              "<Figure size 800x400 with 1 Axes>"
            ]
          },
          "metadata": {},
          "output_type": "display_data"
        }
      ],
      "source": [
        "import numpy as np\n",
        "import matplotlib.pyplot as plt\n",
        "\n",
        "\n",
        "# Dados\n",
        "x = np.linspace(0, 10, 100)\n",
        "y = np.sin(x)\n",
        "\n",
        "\n",
        "# Plotando\n",
        "plt.figure(figsize=(8, 4))\n",
        "plt.plot(x, y, label='sin(x)')\n",
        "plt.title('Gráfico de Linha Simples')\n",
        "plt.xlabel('x')\n",
        "plt.ylabel('sin(x)')\n",
        "plt.legend()\n",
        "plt.grid(True)\n",
        "plt.show()"
      ]
    },
    {
      "cell_type": "code",
      "execution_count": null,
      "metadata": {
        "colab": {
          "base_uri": "https://localhost:8080/",
          "height": 411
        },
        "id": "Xhxm7O7Az-c0",
        "outputId": "494c0486-92c6-42e3-ea06-ccb99f31c88f"
      },
      "outputs": [
        {
          "data": {
            "image/png": "[encoded data removed]",
            "text/plain": [
              "<Figure size 800x400 with 1 Axes>"
            ]
          },
          "metadata": {},
          "output_type": "display_data"
        }
      ],
      "source": [
        "# Dados aleatórios\n",
        "data = np.random.normal(size=1000)\n",
        "\n",
        "\n",
        "# Histograma\n",
        "plt.figure(figsize=(8, 4))\n",
        "plt.hist(data, bins=30, alpha=0.75, color='blue', edgecolor='black')\n",
        "plt.title('Histograma de Dados Aleatórios')\n",
        "plt.xlabel('Valores')\n",
        "plt.ylabel('Frequência')\n",
        "plt.grid(True)\n",
        "plt.show()"
      ]
    }
  ],
  "metadata": {
    "colab": {
      "include_colab_link": true,
      "provenance": []
    },
    "kernelspec": {
      "display_name": "Python 3",
      "name": "python3"
    },
    "language_info": {
      "name": "python"
    }
  },
  "nbformat": 4,
  "nbformat_minor": 0
}
