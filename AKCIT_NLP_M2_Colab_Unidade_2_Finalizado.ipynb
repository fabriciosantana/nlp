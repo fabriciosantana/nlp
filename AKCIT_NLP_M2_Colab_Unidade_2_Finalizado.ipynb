{
  "cells": [
    {
      "cell_type": "markdown",
      "metadata": {
        "colab_type": "text",
        "id": "view-in-github"
      },
      "source": [
        "<a href=\"https://colab.research.google.com/github/fabriciosantana/nlp/blob/main/AKCIT_NLP_M2_Colab_Unidade_2_Finalizado.ipynb\" target=\"_parent\"><img src=\"https://colab.research.google.com/assets/colab-badge.svg\" alt=\"Open In Colab\"/></a>"
      ]
    },
    {
      "cell_type": "markdown",
      "id": "AIBWQhLqGeae",
      "metadata": {
        "id": "AIBWQhLqGeae"
      },
      "source": [
        "# Objetivos de Aprendizagem\n",
        "\n",
        "*  Entender e aplicar os conceitos fundamentais da sintaxe do Python, incluindo a correta utilização de indentação, comentários, variáveis, tipos de dados e operadores;\n",
        "* Manipular *strings* utilizando métodos como concatenação, formatação e f-strings, além de compreender como trabalhar com listas de caracteres e outras estruturas de dados básicas em Python;\n",
        "* Realizar operações aritméticas e lógicas, utilizando operadores adequados para realizar cálculos matemáticos, comparações e combinar expressões booleanas, aplicando esses conhecimentos em exemplos práticos e exercícios.\n"
      ]
    },
    {
      "cell_type": "markdown",
      "id": "w8CnJTqLGHeu",
      "metadata": {
        "id": "w8CnJTqLGHeu"
      },
      "source": [
        "# 2.1 Sintaxe Básica do Python\n",
        " Este *notebook* aborda a sintaxe básica do Python, incluindo comandos de entrada e saída, comentários, variáveis, tipagem de dados, *casting*, operadores aritméticos, operadores relacionais e lógicos, concatenação de *strings*, *strings* como lista de caracteres, método format, f-strings, comandos Python dentro de *strings*, objeto None e principais funções built-in.\n",
        "\n",
        " Nas próximas Unidades, discutiremos outros tópicos essenciais para compreender a linguagem Python e os recursos que facilitam a implementação de projetos. Para saber mais, acesse a documentação da versão mais recente da linguagem em https://docs.python.org/."
      ]
    },
    {
      "cell_type": "markdown",
      "id": "bY3oSxJza3Ov",
      "metadata": {
        "id": "bY3oSxJza3Ov"
      },
      "source": [
        "## 2.1.1 Comandos Gerais\n",
        "\n",
        "### Codificação guiada\n",
        "\n",
        "O Python é uma linguagem que, a cada ano, vem ganhando mais adeptos e ampliando suas funcionalidades. Essas funcionalidades, tanto padrão quanto as estendidas por meio de bibliotecas de terceiros, são bem documentadas e nos auxiliam na escrita e entendimento dos recursos oferecidos por cada uma delas.\n",
        "\n",
        "O Colab possui funcionalidades de autocompletar código e mostrar a documentação da função, similares a outras IDEs.\n",
        "\n",
        "Para ativar esse recurso:\n",
        "\n",
        "* Acesse o menu `Ferramentas`, selecione `Configurações`, clique na aba `Editor`e marque a opção `Acionar preenchimento de código automaticamente` se ela estiver desmarcada;\n",
        "* No canto superior direito da tela principal, clique em `Conectar` ou `Reconectar` para ativar o ambiente de execução.\n",
        "\n",
        "### Auto completar o código\n",
        "Antes de testar a função de auto completar, certifique-se de clicar em `Conectar` no canto superior direto do Colab. Isso fará com que o ambiente de execução seja iniciado e o *notebook* tenha acesso a todos os recursos.\n",
        "\n",
        "Utilize `Ctrl + Espaço` para abrir o *menu* de autocompletar enquanto digita. Será exibida uma lista de comandos; continue digitando ou selecione o comando desejado e aperte `Enter` ou clique sobre o comando.\n",
        "\n",
        "**O código abaixo está incompleto intencionalmente para que você explore o recurso de autocompletar.** Escreva apenas `prin` e posicione o cursor após a letra i, por exemplo, `pri|`, e aperte `Ctrl + Espaço`. Em seguida escolha a opção `print` (clique sobre ou use a tecla direcional para selecionar e aperte `Enter`) e complete o código com `print('Mensagem')`. Em seguida, clique no ícone ![hi3yS.png](data:image/png;base64,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) para executar a célula de código"
      ]
    },
    {
      "cell_type": "code",
      "execution_count": 17,
      "id": "UBDE-8HRbicf",
      "metadata": {
        "id": "UBDE-8HRbicf"
      },
      "outputs": [
        {
          "name": "stdout",
          "output_type": "stream",
          "text": [
            "Mensagem\n"
          ]
        }
      ],
      "source": [
        "print(\"Mensagem\")"
      ]
    },
    {
      "cell_type": "markdown",
      "id": "YGltiC2kuizq",
      "metadata": {
        "id": "YGltiC2kuizq"
      },
      "source": [
        "### Mostrar o *help* das funções\n",
        "A documentação das funções e comandos podem ser acessados de diversas formas:\n",
        "\n",
        "* *Docstring*: ao abrir os parênteses de uma função, abrirá uma janela *pop-up* com a *docstring* da função, fornecendo informações sobre seus parâmetros e uso.\n",
        "\n",
        "**O código abaixo também está incompleto intencionalmente para que você explore este recurso.** Escreva apenas `math.cos` na segunda linha de código e posicione o cursor após a letra s, por exemplo, `math.cos|`, e acrescente um parêntese. O Colab autocompletará o outro parêntese e abrirá um pop-up com a help da função."
      ]
    },
    {
      "cell_type": "code",
      "execution_count": 18,
      "id": "rlUKee7huh0x",
      "metadata": {
        "id": "rlUKee7huh0x"
      },
      "outputs": [
        {
          "data": {
            "text/plain": [
              "<function math.cos(x, /)>"
            ]
          },
          "execution_count": 18,
          "metadata": {},
          "output_type": "execute_result"
        }
      ],
      "source": [
        "import math\n",
        "\n",
        "math.cos"
      ]
    },
    {
      "cell_type": "markdown",
      "id": "y9Cg843Ou7kf",
      "metadata": {
        "id": "y9Cg843Ou7kf"
      },
      "source": [
        "* Função `help()`: Use a função `help()` para exibir a documentação completa de uma função ou módulo.\n"
      ]
    },
    {
      "cell_type": "code",
      "execution_count": 19,
      "id": "TcAb9tszvzHq",
      "metadata": {
        "colab": {
          "base_uri": "https://localhost:8080/"
        },
        "id": "TcAb9tszvzHq",
        "outputId": "9b2505c5-a603-4928-d4ea-6e1a5558a039"
      },
      "outputs": [
        {
          "name": "stdout",
          "output_type": "stream",
          "text": [
            "Help on built-in function print in module builtins:\n",
            "\n",
            "print(*args, sep=' ', end='\\n', file=None, flush=False)\n",
            "    Prints the values to a stream, or to sys.stdout by default.\n",
            "\n",
            "    sep\n",
            "      string inserted between values, default a space.\n",
            "    end\n",
            "      string appended after the last value, default a newline.\n",
            "    file\n",
            "      a file-like object (stream); defaults to the current sys.stdout.\n",
            "    flush\n",
            "      whether to forcibly flush the stream.\n",
            "\n"
          ]
        }
      ],
      "source": [
        "help(print)"
      ]
    },
    {
      "cell_type": "markdown",
      "id": "C8vK1lB3vzjK",
      "metadata": {
        "id": "C8vK1lB3vzjK"
      },
      "source": [
        "* Interrogação: coloque um ponto de interrogação antes ou depois do nome da função para exibir sua documentação. As informações serão exibidas no lado direito da tela em abas separadas."
      ]
    },
    {
      "cell_type": "code",
      "execution_count": 20,
      "id": "0eYPG4oawCxM",
      "metadata": {
        "id": "0eYPG4oawCxM"
      },
      "outputs": [
        {
          "name": "stdout",
          "output_type": "stream",
          "text": [
            "\u001b[31mSignature:\u001b[39m print(*args, sep=\u001b[33m' '\u001b[39m, end=\u001b[33m'\\n'\u001b[39m, file=\u001b[38;5;28;01mNone\u001b[39;00m, flush=\u001b[38;5;28;01mFalse\u001b[39;00m)\n",
            "\u001b[31mDocstring:\u001b[39m\n",
            "Prints the values to a stream, or to sys.stdout by default.\n",
            "\n",
            "sep\n",
            "  string inserted between values, default a space.\n",
            "end\n",
            "  string appended after the last value, default a newline.\n",
            "file\n",
            "  a file-like object (stream); defaults to the current sys.stdout.\n",
            "flush\n",
            "  whether to forcibly flush the stream.\n",
            "\u001b[31mType:\u001b[39m      builtin_function_or_method"
          ]
        }
      ],
      "source": [
        "print?"
      ]
    },
    {
      "cell_type": "code",
      "execution_count": 21,
      "id": "D-y7C5o-wHLY",
      "metadata": {
        "id": "D-y7C5o-wHLY"
      },
      "outputs": [
        {
          "name": "stdout",
          "output_type": "stream",
          "text": [
            "\u001b[31mSignature:\u001b[39m print(*args, sep=\u001b[33m' '\u001b[39m, end=\u001b[33m'\\n'\u001b[39m, file=\u001b[38;5;28;01mNone\u001b[39;00m, flush=\u001b[38;5;28;01mFalse\u001b[39;00m)\n",
            "\u001b[31mDocstring:\u001b[39m\n",
            "Prints the values to a stream, or to sys.stdout by default.\n",
            "\n",
            "sep\n",
            "  string inserted between values, default a space.\n",
            "end\n",
            "  string appended after the last value, default a newline.\n",
            "file\n",
            "  a file-like object (stream); defaults to the current sys.stdout.\n",
            "flush\n",
            "  whether to forcibly flush the stream.\n",
            "\u001b[31mType:\u001b[39m      builtin_function_or_method"
          ]
        }
      ],
      "source": [
        "?print"
      ]
    },
    {
      "cell_type": "markdown",
      "id": "99jpYu9PqSXD",
      "metadata": {
        "id": "99jpYu9PqSXD"
      },
      "source": [
        "## Indentação\n",
        "\n",
        "O Python é famoso por não ter o sinal de ponto-e-vírgula (;) ao final das linhas de comando como nas demais linguagens. O interpretador Python \"entende\" a hierarquia do código, bem como o início e fim de blocos de código, baseado na indentação.\n",
        "\n",
        "É fundamental que os códigos escritos respeitem a indentação, observando, inclusive, que a presença de um único espaço em branco indevido no início da linha irá resultar em um `IndentationError`, como nos exemplos a seguir."
      ]
    },
    {
      "cell_type": "code",
      "execution_count": 22,
      "id": "9-zi1hy2qTRa",
      "metadata": {
        "colab": {
          "base_uri": "https://localhost:8080/"
        },
        "id": "9-zi1hy2qTRa",
        "outputId": "bf89a8eb-b12d-46b7-80ea-e3338bc227ed"
      },
      "outputs": [
        {
          "name": "stdout",
          "output_type": "stream",
          "text": [
            "Dia perfeito para um passeio!\n"
          ]
        }
      ],
      "source": [
        "tempo = 'ensolarado'\n",
        "if (tempo == 'ensolarado'):\n",
        "  print('Dia perfeito para um passeio!') # Será exibido 'Dia perfeito para um passeio!'"
      ]
    },
    {
      "cell_type": "markdown",
      "id": "P5-4xWKZrZbS",
      "metadata": {
        "id": "P5-4xWKZrZbS"
      },
      "source": [
        "O código acima será executado sem erros."
      ]
    },
    {
      "cell_type": "code",
      "execution_count": 23,
      "id": "1u3h3dcAreTh",
      "metadata": {
        "colab": {
          "base_uri": "https://localhost:8080/",
          "height": 106
        },
        "id": "1u3h3dcAreTh",
        "outputId": "410fa9b2-738f-4fd6-d0a4-b36783de737a"
      },
      "outputs": [
        {
          "name": "stdout",
          "output_type": "stream",
          "text": [
            "Dia perfeito para um passeio!\n"
          ]
        }
      ],
      "source": [
        "tempo = 'ensolarado'\n",
        "if (tempo == 'ensolarado'): # Um espaço em branco inserido no início da linha resulta no erro 'IndentationError: unexpected indent'\n",
        "  print('Dia perfeito para um passeio!')"
      ]
    },
    {
      "cell_type": "markdown",
      "id": "RM2pH1hFrrtd",
      "metadata": {
        "id": "RM2pH1hFrrtd"
      },
      "source": [
        "O código acima acusará um `IndentationError` em razão de apenas um espaço extra no início da segunda linha.\n",
        "\n",
        "O `IndentationError` ocorre quando a indentação do código está incorreta. Para corrigi-lo:\n",
        "\n",
        "* Certifique-se de que todos os blocos de código estão devidamente indentados.\n",
        "* Use um editor de código que destaque a indentação e ajude a mantê-la consistente.\n",
        "\n",
        "Perceba que o alinhamento dos códigos é realizado com base no espaçamento a partir do lado esquerdo do editor. Isso significa que códigos mais avançados para a direita indicam que esses pertencem (estão dentro) do bloco de código anterior (linha anterior); ao passo que linhas de código que estão no mesmo bloco se iniciam na mesma coluna. No exemplo anterior, `tempo...` e `if...` pertencem ao mesmo bloco de código, pois estão no mesmo alinhamento e `print(...` pertence ao `if...` está avançado em relação ao recuo esquerdo."
      ]
    },
    {
      "cell_type": "markdown",
      "id": "nzLXFWL4GHe2",
      "metadata": {
        "id": "nzLXFWL4GHe2"
      },
      "source": [
        "## Comentários\n",
        "Comentários são usados para explicar o código e são ignorados pelo interpretador Python. Comentários de uma linha começam com `#` e comentários de múltiplas linhas são delimitados por `'''` ou `\"\"\"`."
      ]
    },
    {
      "cell_type": "code",
      "execution_count": 24,
      "id": "FX3H42KJGHe3",
      "metadata": {
        "colab": {
          "base_uri": "https://localhost:8080/",
          "height": 35
        },
        "id": "FX3H42KJGHe3",
        "outputId": "977d4b06-ce7e-4569-fa84-c9b9feda146a"
      },
      "outputs": [
        {
          "data": {
            "text/plain": [
              "'\\nEste também é um comentário\\nde múltiplas linhas\\n'"
            ]
          },
          "execution_count": 24,
          "metadata": {},
          "output_type": "execute_result"
        }
      ],
      "source": [
        "# Este é um comentário de uma linha\n",
        "\n",
        "'''\n",
        "Este é um comentário\n",
        "de múltiplas linhas\n",
        "'''\n",
        "\n",
        "\"\"\"\n",
        "Este também é um comentário\n",
        "de múltiplas linhas\n",
        "\"\"\""
      ]
    },
    {
      "cell_type": "markdown",
      "id": "zognpAiwILLP",
      "metadata": {
        "id": "zognpAiwILLP"
      },
      "source": [
        "Comentários de múltiplas linhas são úteis para documentar o código."
      ]
    },
    {
      "cell_type": "markdown",
      "id": "GmEgS_WFGHe0",
      "metadata": {
        "id": "GmEgS_WFGHe0"
      },
      "source": [
        "## 2.1.2 Comandos de Entrada e Saída\n",
        "Em Python, usamos a função `input()` para entrada de dados e `print()` para saída de dados."
      ]
    },
    {
      "cell_type": "code",
      "execution_count": 25,
      "id": "8g8uhq_AGHe1",
      "metadata": {
        "colab": {
          "base_uri": "https://localhost:8080/"
        },
        "id": "8g8uhq_AGHe1",
        "outputId": "2f820d1a-6dfe-4927-e7db-83aa32aee06c"
      },
      "outputs": [
        {
          "name": "stdout",
          "output_type": "stream",
          "text": [
            "Fabricio\n"
          ]
        }
      ],
      "source": [
        "# Exemplo de comando de entrada e saída\n",
        "nome = input(\"Digite seu nome: \")  # Solicita que o usuário digite seu nome\n",
        "print(nome)  # Exibe o nome digitado pelo usuário"
      ]
    },
    {
      "cell_type": "markdown",
      "id": "f43CPf-MHFh4",
      "metadata": {
        "id": "f43CPf-MHFh4"
      },
      "source": [
        "A função `input()` em Python é usada para exibir uma mensagem na tela e coletar o valor digitado pelo usuário. Esse valor é retornado como uma *string* e pode ser atribuído a uma variável para uso posterior no programa. Essa função executa, ao mesmo tempo, os comandos de entrada e saída.\n",
        "\n",
        "Usamos o operador de atribuição `=` para receber o valor informado pelo usuário e armazená-lo na variável `nome`. O comando de atribuição é utilizado para armazenar valores em variáveis. A atribuição usando o operador de igual `=` atribui o valor do lado direito à variável do lado esquerdo.\n",
        "\n",
        "Variáveis são espaços de memória usados para armazenar valores digitados pelo usuário (por meio do uso do comando de entrada `input()`, juntamente com o comando de atribuição `=`) ou processados pelo algoritmo (por meio do uso do comando de atribuição `=`).\n",
        "\n",
        "No Google Colab, o `print()` não é obrigatório para mostrar um texto ou o valor de uma variável. Entretanto, ao não utilizá-lo, será mostrada apenas a última saída, caso haja mais de uma."
      ]
    },
    {
      "cell_type": "markdown",
      "id": "kXwtAOswHhsB",
      "metadata": {
        "id": "kXwtAOswHhsB"
      },
      "source": [
        "O comando `print()` aceita tanto aspas (\") quanto apóstrofos (') para receber o texto a ser mostrado na tela, embora o apóstrofo seja o mais recomendado."
      ]
    },
    {
      "cell_type": "code",
      "execution_count": 26,
      "id": "Rrm5wWbAHH1G",
      "metadata": {
        "colab": {
          "base_uri": "https://localhost:8080/"
        },
        "id": "Rrm5wWbAHH1G",
        "outputId": "6a4e28c1-69fe-4c01-da22-b7e8780e1df1"
      },
      "outputs": [
        {
          "name": "stdout",
          "output_type": "stream",
          "text": [
            "Olá\n",
            "Bem-vindo ao curso de Python!\n"
          ]
        }
      ],
      "source": [
        "# Exibe 2 mensagens de boas-vindas escritas em duas linhas\n",
        "print(\"Olá\")\n",
        "print(\"Bem-vindo ao curso de Python!\")"
      ]
    },
    {
      "cell_type": "code",
      "execution_count": 27,
      "id": "Ev-At9x8HKtP",
      "metadata": {
        "colab": {
          "base_uri": "https://localhost:8080/",
          "height": 35
        },
        "id": "Ev-At9x8HKtP",
        "outputId": "33ac0b71-d684-4e3e-be92-448de8614776"
      },
      "outputs": [
        {
          "data": {
            "text/plain": [
              "'Bem-vindo ao curso de Python!'"
            ]
          },
          "execution_count": 27,
          "metadata": {},
          "output_type": "execute_result"
        }
      ],
      "source": [
        "\"Olá\"\n",
        "\"Bem-vindo ao curso de Python!\" # Exibe apenas a última saída"
      ]
    },
    {
      "cell_type": "markdown",
      "id": "T6qbnm6yGHe4",
      "metadata": {
        "id": "T6qbnm6yGHe4"
      },
      "source": [
        "## 2.1.3 Variáveis\n",
        "Em Python, você não precisa declarar o tipo da variável, pois o Python faz isso automaticamente."
      ]
    },
    {
      "cell_type": "code",
      "execution_count": 28,
      "id": "oH2vX-CJGHe4",
      "metadata": {
        "id": "oH2vX-CJGHe4"
      },
      "outputs": [],
      "source": [
        "# Exemplo de variáveis\n",
        "idade = 25  # Variável inteira\n",
        "nome = 'João'  # Variável string\n",
        "altura = 1.75  # Variável float"
      ]
    },
    {
      "cell_type": "markdown",
      "id": "HxBxq-5jTx7c",
      "metadata": {
        "id": "HxBxq-5jTx7c"
      },
      "source": [
        "O Python também permite a atribuição simultânea de mais de um valor para mais de uma variável."
      ]
    },
    {
      "cell_type": "markdown",
      "id": "_KDZOhbnIWpS",
      "metadata": {
        "id": "_KDZOhbnIWpS"
      },
      "source": [
        "Para exibir textos e variáveis utilizando o comando `print()` são utilizadas vírgulas (,) para separá-los."
      ]
    },
    {
      "cell_type": "code",
      "execution_count": 29,
      "id": "ffJ-dT-wItAl",
      "metadata": {
        "colab": {
          "base_uri": "https://localhost:8080/"
        },
        "id": "ffJ-dT-wItAl",
        "outputId": "1c882088-bffb-4dac-bfc5-90498614834c"
      },
      "outputs": [
        {
          "name": "stdout",
          "output_type": "stream",
          "text": [
            "João tem 25 anos e 1.75 m de altura.\n"
          ]
        }
      ],
      "source": [
        "print(nome, 'tem', idade, 'anos e', altura, 'm de altura.')  # Exibe as informações armazenadas nas variáveis declaradas acima"
      ]
    },
    {
      "cell_type": "markdown",
      "id": "C5K5L0YiGHe5",
      "metadata": {
        "id": "C5K5L0YiGHe5"
      },
      "source": [
        "## Tipagem de dados e *casting*\n",
        "\n",
        "Python é uma linguagem de programação de alto nível que suporta diversos tipos de dados. Conhecer esses tipos é essencial para manipular e armazenar dados de maneira eficiente. Vamos explorar os principais tipos de dados em Python, incluindo `int`, `float`, `str`, `bool`:\n",
        "\n",
        "* `int` (inteiro):\n",
        " - Números inteiros, positivos ou negativos, sem parte decimal.\n",
        "* `float` (ponto flutuante):\n",
        " - Números reais com parte decimal.\n",
        "* `str` (*string*):\n",
        " - Sequência de caracteres, usada para representar texto.\n",
        "* `bool` (booleano):\n",
        " - Representa valores verdadeiros (*True*) ou falsos (*False*).\n"
      ]
    },
    {
      "cell_type": "code",
      "execution_count": 30,
      "id": "JXPRpE0VGHe5",
      "metadata": {
        "colab": {
          "base_uri": "https://localhost:8080/"
        },
        "id": "JXPRpE0VGHe5",
        "outputId": "decbd351-fa16-46c4-bd73-19c7dbc8c82c"
      },
      "outputs": [
        {
          "name": "stdout",
          "output_type": "stream",
          "text": [
            "<class 'int'>\n",
            "<class 'float'>\n",
            "<class 'str'>\n",
            "<class 'bool'>\n"
          ]
        }
      ],
      "source": [
        "numero = 10     # Inteiro\n",
        "decimal = 3.14  # Float\n",
        "texto = \"Olá\"   # String\n",
        "verdadeiro = True  # Booleano\n",
        "\n",
        "print(type(numero)) # Será exibido <class 'int'>\n",
        "print(type(decimal)) # Será exibido <class 'float'>\n",
        "print(type(texto)) # Será exibido <class 'str'>\n",
        "print(type(verdadeiro)) # Será exibido <class 'bool'>"
      ]
    },
    {
      "cell_type": "markdown",
      "id": "83OidJh3JfRr",
      "metadata": {
        "id": "83OidJh3JfRr"
      },
      "source": [
        "A função `type()` serve para mostrar o tipo da variável e será discutida mais adiante.\n",
        "\n",
        "\n",
        "\n",
        "\n",
        "Podemos converter entre diferentes tipos de dados usando funções de *casting*. Elas consistem em passar a variável a ser convertida entre parênteses para uma função com o mesmo nome do tipo desejado. Operações de *casting* realizam a troca do tipo de dado armazenado na memória. Isso é útil quando precisamos realizar operações entre tipos diferentes de dados, como a concatenação de *strings* que será abordada adiante.\n",
        "\n",
        "Por exemplo, se temos uma variável `a` que contém um valor real, e desejamos converter esse valor e armazená-lo em uma outra variável `b`, que é do tipo inteiro, usando o *casting* teremos `b = int(a)`. Nesse caso, o valor da variável `a` atribuído à `b` terá a parte fracionária suprimida antes dessa atribuição."
      ]
    },
    {
      "cell_type": "code",
      "execution_count": 31,
      "id": "aQ7P0fMgTLIC",
      "metadata": {
        "colab": {
          "base_uri": "https://localhost:8080/"
        },
        "id": "aQ7P0fMgTLIC",
        "outputId": "a0009dca-64ef-4ce0-c8a5-071d96c9c0b3"
      },
      "outputs": [
        {
          "name": "stdout",
          "output_type": "stream",
          "text": [
            "123 <class 'int'>\n",
            "123 <class 'str'>\n"
          ]
        }
      ],
      "source": [
        "# Convertendo string para inteiro\n",
        "numero_str = \"123\"\n",
        "numero_int = int(numero_str)\n",
        "\n",
        "# Convertendo inteiro para string\n",
        "numero_str_convertido = str(numero_int)\n",
        "\n",
        "print(numero_int, type(numero_int)) # Será exibido 123 <class 'int'>\n",
        "print(numero_str_convertido, type(numero_str_convertido)) # Será exibido 123 <class 'str'>"
      ]
    },
    {
      "cell_type": "markdown",
      "id": "Btme4bxSDlgM",
      "metadata": {
        "id": "Btme4bxSDlgM"
      },
      "source": [
        "Também podemos alterar o comportamento do comando `print()` entre os parâmetros passados para exibição."
      ]
    },
    {
      "cell_type": "code",
      "execution_count": 32,
      "id": "1Gjm1cziDxNO",
      "metadata": {
        "colab": {
          "base_uri": "https://localhost:8080/"
        },
        "id": "1Gjm1cziDxNO",
        "outputId": "9795a2cb-35e2-4bd4-ec57-39e7ebe36e2e"
      },
      "outputs": [
        {
          "name": "stdout",
          "output_type": "stream",
          "text": [
            "5\n",
            "7.8\n",
            "8.1\n"
          ]
        }
      ],
      "source": [
        "nota1, nota2, nota3 = 5, 7.8, 8.1\n",
        "print(nota1, nota2, nota3, sep='\\n')"
      ]
    },
    {
      "cell_type": "markdown",
      "id": "dvjrGUDLER-C",
      "metadata": {
        "id": "dvjrGUDLER-C"
      },
      "source": [
        "No exemplo acima, também apresentamos o parâmetro `sep` para informar ao `print()` o comportamento da saída para cada valor separado por vírgula. Nesse caso, entre o `print` de cada nota é acrescentada uma quebra de linha representada pelo `\\n` (o padrão, com já vimos, é um espaço em branco). O `\\n` é um caractere de escape. Para conhecer outros caracteres, acesse https://www.w3schools.com/python/gloss_python_escape_characters.asp\n",
        "\n",
        "Entre dois comandos `print()` o comportamento padrão é a quebra de linha, mas podemos alterar usando o parâmetro `end`."
      ]
    },
    {
      "cell_type": "code",
      "execution_count": 33,
      "id": "9pGVFD4oFdPr",
      "metadata": {
        "colab": {
          "base_uri": "https://localhost:8080/"
        },
        "id": "9pGVFD4oFdPr",
        "outputId": "8e0cd1e3-5f02-4b5e-9e70-8d3cc47f876a"
      },
      "outputs": [
        {
          "name": "stdout",
          "output_type": "stream",
          "text": [
            "Olá, seja bem vindo(a)!\n"
          ]
        }
      ],
      "source": [
        "print('Olá', end=', ')\n",
        "print('seja bem vindo(a)!') # Será mostrado 'Olá, seja bem vindo(a)!', substituindo a nova linha padrão por uma vírgula seguida de um espaço (, )"
      ]
    },
    {
      "cell_type": "markdown",
      "id": "_lqRnfKIGHe6",
      "metadata": {
        "id": "_lqRnfKIGHe6"
      },
      "source": [
        "## 2.1.4 Operadores\n",
        "\n",
        "## Operadores aritméticos\n",
        "Os operadores aritméticos são usados para realizar operações matemáticas:\n",
        "- Soma: `+`\n",
        "- Subtração: `-`\n",
        "- Multiplicação: `*`\n",
        "- Divisão: `/`\n",
        "- Divisão Inteira: `//`\n",
        "- Resto: `%`\n",
        "- Exponenciação: `**`"
      ]
    },
    {
      "cell_type": "code",
      "execution_count": 34,
      "id": "Woh_MmeiGHe6",
      "metadata": {
        "colab": {
          "base_uri": "https://localhost:8080/"
        },
        "id": "Woh_MmeiGHe6",
        "outputId": "94e90ba2-529b-4b11-fb33-c6ecf00776af"
      },
      "outputs": [
        {
          "name": "stdout",
          "output_type": "stream",
          "text": [
            "Soma: 13\n",
            "Subtração: 7\n",
            "Multiplicação: 30\n",
            "Divisão: 3.3333333333333335\n",
            "Divisão Inteira: 3\n",
            "Resto: 1\n",
            "Exponenciação: 1000\n"
          ]
        }
      ],
      "source": [
        "# Exemplo de operadores aritméticos\n",
        "a = 10\n",
        "b = 3\n",
        "print('Soma:', a + b)  # Soma resultando em 13\n",
        "print('Subtração:', a - b)  # Subtração resultando em 7\n",
        "print('Multiplicação:', a * b)  # Multiplicação resultando em 30\n",
        "print('Divisão:', a / b)  # Divisão resultando em 3.3333333333333335\n",
        "print('Divisão Inteira:', a // b)  # Divisão inteira obtém o quociente de uma divisão inteira resultando em 3\n",
        "print('Resto:', a % b)  # Resto de uma divisão inteira resultando em 1\n",
        "print('Exponenciação:', a ** b)  # Exponenciação resultando em 1000"
      ]
    },
    {
      "cell_type": "markdown",
      "id": "zCULX9OtD9SL",
      "metadata": {
        "id": "zCULX9OtD9SL"
      },
      "source": [
        "**Atenção:** Até o `Python 2.8`, a divisão de dois números inteiros sempre resulta em um inteiro, ou seja, caso o resultado seja um número decimal (`float`), esse será truncado e será mostrada apenas a parte inteira. Por exemplo, `5/2` no `Python 3+` resulta `2.5` enquanto no `Python 2.8` resulta `2`. No Python `2.8` para que se obtenha o resultado correto, pelo menos um dos operandos deve ser do tipo `float`, podendo isso ser realizado por meio de uma operação de *casting*, por exemplo, `float(5)/2`."
      ]
    },
    {
      "cell_type": "markdown",
      "id": "RPNqinPFL1UO",
      "metadata": {
        "id": "RPNqinPFL1UO"
      },
      "source": [
        "Podemos utilizar a forma abreviada para as expressões aritméticas quando o primeiro operando e a variável que receberá o resultado são os mesmos objetos¹. Ou seja, acontece o que chamamos de operação *in place*, quando uma varíável tem seu valor alterado - subtraído, somado etc. - a partir do seu valor atual.\n",
        "\n",
        "Por exemplo, `cont = cont + 1` pode ser escrito como `cont += 1`, `cont` é uma variável contadora que tem seu valor somado a 1 e, portanto, dizemos que \"*`cont` recebe ela mesma mais um*\".\n",
        "\n",
        "Isso é particularmente útil quando temos variáveis contadoras e acumuladoras, comuns em algoritmos, e é aplicável a todos os operadores aritméticos apresentados anteriormente. A seguir, temos alguns exemplos.\n",
        "\n",
        "¹ Em programação, um objeto é uma entidade que combina dados e comportamentos. Esse conceito é bem amplo e requer mais experiência de programação para compreendê-lo na íntegra. Entretanto, por hora, entenda que objetos em Python e outras linguagens são peças (que armazenam dados) que podem ser manipuladas para montar quebra-cabeças e resolver um problema."
      ]
    },
    {
      "cell_type": "code",
      "execution_count": 35,
      "id": "-11J8ALqMJ29",
      "metadata": {
        "colab": {
          "base_uri": "https://localhost:8080/"
        },
        "id": "-11J8ALqMJ29",
        "outputId": "ea515d8a-caea-45d9-ef5f-60405dec4be3"
      },
      "outputs": [
        {
          "name": "stdout",
          "output_type": "stream",
          "text": [
            "10\n",
            "2\n",
            "5.0\n"
          ]
        }
      ],
      "source": [
        "num1 = 9\n",
        "num2 = 4\n",
        "num1 += 1 # Equivalente a num1 = num1 + 1\n",
        "print(num1) # Exibe 10\n",
        "num2 -= 2 # Equivalente a num2 = num2 - 2 e resulta em\n",
        "print(num2) # Exibe 2\n",
        "num1 /= num2 # Equivalente a num1 = num1 / num2 e resulta em\n",
        "print(num1) # Exibe 5.0, lembrando que toda operação de divisão em Python 3+, mesmo que entre 2 números inteiros, resulta em um número decimal ou ponto flutuante (float)"
      ]
    },
    {
      "cell_type": "markdown",
      "id": "a0QIjVPtGHe7",
      "metadata": {
        "id": "a0QIjVPtGHe7"
      },
      "source": [
        "## Operadores relacionais e lógicos\n",
        "Operadores relacionais comparam valores e retornam um valor lógico, também conhecido como booleano (`True` ou `False`):\n",
        "- Igual a: `==`\n",
        "- Diferente de: `!=`\n",
        "- Maior que: `>`\n",
        "- Menor que: `<`\n",
        "- Maior ou igual a: `>=`\n",
        "- Menor ou igual a: `<=`\n",
        "\n",
        "Operadores lógicos combinam expressões booleanas:\n",
        "- `and`: retorna `True` se ambas as expressões forem verdadeiras\n",
        "- `or`: retorna `True` se pelo menos uma das expressões for verdadeira\n",
        "- `not`: inverte o valor booleano da expressão"
      ]
    },
    {
      "cell_type": "code",
      "execution_count": 36,
      "id": "Tif-zdbyGHe7",
      "metadata": {
        "colab": {
          "base_uri": "https://localhost:8080/"
        },
        "id": "Tif-zdbyGHe7",
        "outputId": "5d819ea7-ee48-4451-fbed-ae5169603fdf"
      },
      "outputs": [
        {
          "name": "stdout",
          "output_type": "stream",
          "text": [
            "x é igual a y: False\n",
            "x é diferente de y: True\n",
            "x é menor que y: True\n",
            "x é maior que y: False\n",
            "x é menor ou igual a y: True\n",
            "x é maior ou igual a y: False\n",
            "x é menor que 10 E y é maior que 5: True\n",
            "x é menor que 10 OU y é menor que 5: True\n",
            "NÃO x é menor que 10: False\n"
          ]
        }
      ],
      "source": [
        "# Exemplo de operadores relacionais e lógicos\n",
        "x = 5\n",
        "y = 10\n",
        "print('x é igual a y:', x == y)  # Operador relacional de igualdade com resultado False\n",
        "print('x é diferente de y:', x != y)  # Operador relacional de diferença com resultado True\n",
        "print('x é menor que y:', x < y)  # Operador relacional de menor com resultado True\n",
        "print('x é maior que y:', x > y)  # Operador relacional de maior com resultado False\n",
        "print('x é menor ou igual a y:', x <= y)  # Operador relacional de menor ou igual com resultado True\n",
        "print('x é maior ou igual a y:', x >= y)  # Operador relacional de maior ou igual com resultado False\n",
        "print('x é menor que 10 E y é maior que 5:', x < 10 and y > 5)  # Operador lógico and com resultado True\n",
        "print('x é menor que 10 OU y é menor que 5:', x < 10 or y < 5)  # Operador lógico or com resultado True\n",
        "print('NÃO x é menor que 10:', not x < 10)  # Operador lógico not com resultado False"
      ]
    },
    {
      "cell_type": "markdown",
      "id": "_mjAnUBhKLQ8",
      "metadata": {
        "id": "_mjAnUBhKLQ8"
      },
      "source": [
        "O operador `not` aguarda a solução da operação relacional para, em seguida, inverter seu valor. Por exemplo, `x < 10` é `True`, mas após passar pelo `not`, se torna `False`.\n",
        "\n",
        "Não confunda: o operador relacional de comparação de igualdade é composto por dois sinais de igual `==`, enquanto o comando de atribuição de valores a variáveis é apenas um sinal de igual `=`."
      ]
    },
    {
      "cell_type": "markdown",
      "id": "W22UYvwmGHe8",
      "metadata": {
        "id": "W22UYvwmGHe8"
      },
      "source": [
        "## Diferença entre os operadores `==` e `is`\n",
        "O operador `==` verifica se os valores de duas variáveis são iguais, enquanto o operador `is` verifica se duas variáveis referem-se ao mesmo objeto."
      ]
    },
    {
      "cell_type": "code",
      "execution_count": 37,
      "id": "jz3hzjBGGHe8",
      "metadata": {
        "colab": {
          "base_uri": "https://localhost:8080/"
        },
        "id": "jz3hzjBGGHe8",
        "outputId": "3df6def1-0d3d-43c4-d230-490234f94019"
      },
      "outputs": [
        {
          "name": "stdout",
          "output_type": "stream",
          "text": [
            "True\n",
            "False\n",
            "True\n"
          ]
        }
      ],
      "source": [
        "# Exemplo de diferença entre `==` e `is`\n",
        "a = [1, 2, 3]\n",
        "b = [1, 2, 3]\n",
        "c = a\n",
        "print(a == b)  # True, porque os valores são iguais\n",
        "print(a is b)  # False, porque são objetos diferentes, ou seja, estão alocados em lugares diferentes da memória\n",
        "print(a is c)  # True, porque c refere-se ao mesmo objeto que a, ou seja, apontam para o mesmo espaço de memória. Na prática, temos dois identificadores para um mesmo valor armazenado na memória."
      ]
    },
    {
      "cell_type": "markdown",
      "id": "ZpH5tykCLH8f",
      "metadata": {
        "id": "ZpH5tykCLH8f"
      },
      "source": [
        "No exemplo acima, criamos duas listas `a` e `b` (um tipo de vetor que será discutido mais adiante) ambas com valores `[1, 2, 3]` e uma terceira lista `c` recebendo a lista `a`. Apesar de possuírem o mesmo valor, `a` e `b` são objetos diferentes, pois foram criadas de forma independente.\n",
        "\n",
        "Ao atribuir `c = a` não estamos fazendo uma cópia mas apenas apontando `c` para o mesmo dado apontado por `a`. Para fazer cópias de listas, precisamos realizar uma `deep copy` que será discutido adiante."
      ]
    },
    {
      "cell_type": "markdown",
      "id": "fNARX3HOGHe9",
      "metadata": {
        "id": "fNARX3HOGHe9"
      },
      "source": [
        "## 2.1.5 *Strings*\n",
        "\n",
        "### Concatenação de *strings*\n",
        "Em Python, você pode concatenar *strings* usando o operador `+`."
      ]
    },
    {
      "cell_type": "code",
      "execution_count": 38,
      "id": "M-0KJIz8GHe9",
      "metadata": {
        "colab": {
          "base_uri": "https://localhost:8080/"
        },
        "id": "M-0KJIz8GHe9",
        "outputId": "50cb1c87-5300-4d27-9959-121f823dc977"
      },
      "outputs": [
        {
          "name": "stdout",
          "output_type": "stream",
          "text": [
            "Hello World\n"
          ]
        }
      ],
      "source": [
        "str1 = 'Hello'\n",
        "str2 = 'World'\n",
        "concatenated_str = str1 + ' ' + str2  # Concatena str1 e str2 com um espaço no meio\n",
        "print(concatenated_str)  # Exibe 'Hello World'"
      ]
    },
    {
      "cell_type": "markdown",
      "id": "qYn_VpRAcvV9",
      "metadata": {
        "id": "qYn_VpRAcvV9"
      },
      "source": [
        "Caso precise concatenar uma `string` com um valor de outro tipo, deve ser realizado um *casting* para `string` utilizando a função `str()`."
      ]
    },
    {
      "cell_type": "code",
      "execution_count": 39,
      "id": "VUsHXDgCdhMc",
      "metadata": {
        "colab": {
          "base_uri": "https://localhost:8080/"
        },
        "id": "VUsHXDgCdhMc",
        "outputId": "3dbc69a9-3bec-4111-dc0d-76727cb882c5"
      },
      "outputs": [
        {
          "name": "stdout",
          "output_type": "stream",
          "text": [
            "Henrique tem 1 ano(s).\n"
          ]
        }
      ],
      "source": [
        "texto1 = 'Henrique tem '\n",
        "idade = 1\n",
        "texto2 = ' ano(s).'\n",
        "frase = texto1 + str(idade) + texto2  # Concatena as strings com um número convertido para string\n",
        "print(frase)  # Exibe 'Henrique tem 1 ano(s).'"
      ]
    },
    {
      "cell_type": "markdown",
      "id": "uZ1mz3uxGHe9",
      "metadata": {
        "id": "uZ1mz3uxGHe9"
      },
      "source": [
        "## *Strings* como lista de caracteres\n",
        "Em Python, *strings* são tratadas como listas de caracteres, o que significa que você pode acessar caracteres individuais usando índices entre `[` e `]`. Esses índices são os mesmos utilizados em vetores (que serão apresentados mais adiante) e iniciam em `0` (zero) para a primeira posição da lista."
      ]
    },
    {
      "cell_type": "code",
      "execution_count": 40,
      "id": "SLx9VwsMGHe9",
      "metadata": {
        "colab": {
          "base_uri": "https://localhost:8080/"
        },
        "id": "SLx9VwsMGHe9",
        "outputId": "5a277229-2a5c-4f51-a96b-a78505d32a59"
      },
      "outputs": [
        {
          "name": "stdout",
          "output_type": "stream",
          "text": [
            "P\n",
            "y\n",
            "n\n"
          ]
        }
      ],
      "source": [
        "s = 'Python'\n",
        "print(s[0])  # Exibe 'P'. Em Python, o primeiro índice de uma cadeia de caracteres (ou string) e vetores é o O (zero).\n",
        "print(s[1])  # Exibe 'y'\n",
        "print(s[-1])  # Exibe 'n', o último caractere. Nesse exemplo podemos ver que índices com valores negativos começam a ser contados de forma invertida (de trás para a frente) a partir do final da string."
      ]
    },
    {
      "cell_type": "markdown",
      "id": "RXeD-XkrGHe-",
      "metadata": {
        "id": "RXeD-XkrGHe-"
      },
      "source": [
        "## Método `format`\n",
        "O método `format` é usado para formatar *strings*, podendo passar argumentos por posição ou por palavras-chave usando as chaves `{` e `}`."
      ]
    },
    {
      "cell_type": "code",
      "execution_count": 41,
      "id": "Npj1yebwGHe-",
      "metadata": {
        "colab": {
          "base_uri": "https://localhost:8080/"
        },
        "id": "Npj1yebwGHe-",
        "outputId": "026caab2-2de7-4695-e454-5561a047bf99"
      },
      "outputs": [
        {
          "name": "stdout",
          "output_type": "stream",
          "text": [
            "Olá, Maria! Você tem 30 anos.\n",
            "Olá, José! Você tem 25 anos.\n"
          ]
        }
      ],
      "source": [
        "# Usando argumentos por posição\n",
        "print('Olá, {}! Você tem {} anos.'.format('Maria', 30))  # Exibe 'Olá, Maria. Você tem 30 anos.'\n",
        "\n",
        "# Usando argumentos por palavras-chave\n",
        "print('Olá, {nome}! Você tem {idade} anos.'.format(nome='José', idade=25))  # Exibe 'Olá, José. Você tem 25 anos.'"
      ]
    },
    {
      "cell_type": "markdown",
      "id": "xFhLK4j3NSDq",
      "metadata": {
        "id": "xFhLK4j3NSDq"
      },
      "source": [
        "No primeiro exemplo acima, os parâmetros (ou argumentos) de `.format()` são `Maria` e `30`. Ao escrever um texto seguido de `.format()`, os pares de chaves `{}` serão substituídos pelos parâmetros `Maria` e `30` na mesma ordem que as chaves aparecem.\n",
        "\n",
        "Já no segundo exemplo, podemos nomear os parâmetros, no exemplo `nome` e `idade`, e informá-los entre as chaves para identificar onde esses serão substituídos.\n",
        "\n",
        "Outra forma de fazer esse apontamento é informar os índices dos parâmetros, também iniciando com 0, sem a necessidade de nomeá-los, conforme a seguir."
      ]
    },
    {
      "cell_type": "code",
      "execution_count": 42,
      "id": "vy94dpDHOk1S",
      "metadata": {
        "id": "vy94dpDHOk1S"
      },
      "outputs": [
        {
          "name": "stdout",
          "output_type": "stream",
          "text": [
            "Olá, José. Você tem 25 anos.\n"
          ]
        }
      ],
      "source": [
        "# Usando argumentos por índices\n",
        "print('Olá, {0}. Você tem {1} anos.'.format('José', 25))  # Exibe 'Olá, José. Você tem 25 anos.'"
      ]
    },
    {
      "cell_type": "markdown",
      "id": "tfcUphDhWrwK",
      "metadata": {
        "id": "tfcUphDhWrwK"
      },
      "source": [
        "No exemplo acima, o método `.format()` possui dois parâmetros: \"`José`\" e \"`25`\". \"`José`\", por ser o primeiro, tem índice `0` e \"`25`\" tem índice `1`. Portanto, podemos utilizar esses índices dentros das chaves `{}` para indicar ondes eles serão exibidos."
      ]
    },
    {
      "cell_type": "markdown",
      "id": "KxBDeSPVGHe-",
      "metadata": {
        "id": "KxBDeSPVGHe-"
      },
      "source": [
        "## *f-strings*\n",
        "*f-strings *(*strings* literais formatadas) são usadas para embutir expressões, variáveis e comandos Python dentro de *strings*, precedendo a *string* com `f`."
      ]
    },
    {
      "cell_type": "code",
      "execution_count": 43,
      "id": "TEBoV1JBGHe-",
      "metadata": {
        "colab": {
          "base_uri": "https://localhost:8080/"
        },
        "id": "TEBoV1JBGHe-",
        "outputId": "efc95aff-0183-4707-9dd1-59a3f6e1f0ed"
      },
      "outputs": [
        {
          "name": "stdout",
          "output_type": "stream",
          "text": [
            "Olá, Ana! Você tem 22 anos. Nos próximos 10 anos, você completará 32 anos.\n"
          ]
        }
      ],
      "source": [
        "nome = 'Ana'\n",
        "idade = 22\n",
        "print(f'Olá, {nome}! Você tem {idade} anos. Nos próximos 10 anos, você completará {idade + 10} anos.')  # Exibe 'Olá, Ana. Você tem 22 anos. Nos próximos 10 anos você completará 32 anos.'"
      ]
    },
    {
      "cell_type": "markdown",
      "id": "k1VZGdMSGHe_",
      "metadata": {
        "id": "k1VZGdMSGHe_"
      },
      "source": [
        "No exemplo acima, foi possível efetuar uma operação aritmética `{idade + 10}` dentro do `print()`, pois foi utilizado `f-strings`.\n",
        "\n",
        "Dentro de `f-strings`, você pode incluir qualquer expressão válida de Python."
      ]
    },
    {
      "cell_type": "code",
      "execution_count": 44,
      "id": "D4onO_3QGHe_",
      "metadata": {
        "colab": {
          "base_uri": "https://localhost:8080/"
        },
        "id": "D4onO_3QGHe_",
        "outputId": "5f4e10a3-e8f5-49ae-b690-9d68d9c99685"
      },
      "outputs": [
        {
          "name": "stdout",
          "output_type": "stream",
          "text": [
            "A área de um círculo com raio 5 é 78.54\n"
          ]
        }
      ],
      "source": [
        "import math # Importa a biblioteca math que contém funções matemáticas mais específicas.\n",
        "raio = 5\n",
        "print(f'A área de um círculo com raio {raio} é {math.pi * raio ** 2:.2f}')  # Exibe 'A área de um círculo com raio 5 é 78.54'"
      ]
    },
    {
      "cell_type": "markdown",
      "id": "T85zFIN_YSIy",
      "metadata": {
        "id": "T85zFIN_YSIy"
      },
      "source": [
        "A notação `.2f` utilizada no exemplo acima é usada para formatar números de ponto flutuante (*float*) em uma *string*, garantindo que eles sejam exibidos com duas casas decimais, como no exemplo. Essa notação é parte do mecanismo de formatação de *strings*, que pode ser utilizado de várias maneiras:\n",
        "\n",
        "*  `.2`: especifica o número de casas decimais que devem ser exibidas após o ponto decimal. Esse número pode ser alterado conforme sua necessidade.\n",
        "* `f`: indica que o valor deve ser formatado como um número de ponto flutuante (*float*).\n",
        "\n"
      ]
    },
    {
      "cell_type": "markdown",
      "id": "uDrCK6g3GHe_",
      "metadata": {
        "id": "uDrCK6g3GHe_"
      },
      "source": [
        "## 2.1.6 Objeto `None`\n",
        "`None` é um valor especial em Python que representa a ausência de valor ou um valor nulo e é testado utilizando o operador `is`.\n",
        "\n",
        "Uma curiosidade é que `None` é o único valor do tipo de dado `NoneType`, um tipo especial, e pode ser usado para inicializar variáveis que ainda não possuem valor, evitando assim erros de referência antes que a variável receba um valor válido."
      ]
    },
    {
      "cell_type": "code",
      "execution_count": 45,
      "id": "F5Z_tY77GHe_",
      "metadata": {
        "colab": {
          "base_uri": "https://localhost:8080/"
        },
        "id": "F5Z_tY77GHe_",
        "outputId": "450e1879-e862-44f9-e163-3f441b4b4bd4"
      },
      "outputs": [
        {
          "data": {
            "text/plain": [
              "True"
            ]
          },
          "execution_count": 45,
          "metadata": {},
          "output_type": "execute_result"
        }
      ],
      "source": [
        "x = None\n",
        "x is None # Exibe True"
      ]
    },
    {
      "cell_type": "markdown",
      "id": "lpU0yWpcGHe_",
      "metadata": {
        "id": "lpU0yWpcGHe_"
      },
      "source": [
        "## 2.1.7 Principais Funções *Built-in*\n",
        "Python tem várias funções *built-in* úteis:\n",
        "- `len()`: retorna o comprimento de um objeto;\n",
        "- `type()`: retorna o tipo de um objeto;\n",
        "- `int()`, `float()`, `str()`: convertem para inteiro, *float* e *string*, respectivamente;\n",
        "- `input()`: lê uma entrada do usuário;\n",
        "- `print()`: exibe uma saída.\n",
        "\n",
        "Funções `built-in` são funções nativas que estendem os recursos básicos do Python e que já acompanham a instalação mínima da linguagem. Você pode utilizar mais funções importando bibliotecas externas, que abordaremos adiante."
      ]
    },
    {
      "cell_type": "code",
      "execution_count": 46,
      "id": "8wDge7kfGHfA",
      "metadata": {
        "colab": {
          "base_uri": "https://localhost:8080/"
        },
        "id": "8wDge7kfGHfA",
        "outputId": "37cf8e85-17e6-4ef1-ca08-3b4dd3c3b648"
      },
      "outputs": [
        {
          "name": "stdout",
          "output_type": "stream",
          "text": [
            "Comprimento da lista: 4\n",
            "Tipo da variável lista: <class 'list'>\n",
            "Número inteiro: 123\n",
            "Entrada do usuário: Teste\n"
          ]
        }
      ],
      "source": [
        "# Exemplo de funções built-in\n",
        "lista = [1, 2, 3, 4]\n",
        "print('Comprimento da lista:', len(lista))  # Exibe 'Comprimento da lista: 4'\n",
        "print('Tipo da variável lista:', type(lista))  # Exibe 'Tipo da variável lista: <class 'list'>'\n",
        "num_str = '123'\n",
        "num_int = int(num_str)\n",
        "print('Número inteiro:', num_int)  # Converte string para inteiro e exibe 'Número inteiro: 123'\n",
        "print('Entrada do usuário:', input('Digite algo: '))  # Solicita entrada do usuário e exibe o valor digitado em uma única linha de código"
      ]
    },
    {
      "cell_type": "markdown",
      "id": "yy2FO0_GQcaf",
      "metadata": {
        "id": "yy2FO0_GQcaf"
      },
      "source": [
        "Você pode acessar a lista completa dessas funções nativas em https://docs.python.org/3/library/functions.html.\n",
        "\n",
        "Como o Python é conhecido pelo seu vasto ecossistema de bibliotecas desenvolvidas e mantidas pela comunidade, podemos utilizar o comando `import` para importar esses recursos para ter acesso às suas funcionalidades extendidas, como exemplificado anteriormente com a biblioteca `math`. Essas funcionalidade extendidas cobrem uma ampla gama de aplicações, desde ciência de dados e aprendizado de máquina até desenvolvimento *web* e automação de tarefas.\n",
        "\n",
        "O comando a seguir lista todas as bibliotecas atualmente suportadas pelo Google Colab. Entretanto, existem formas para se instalar outras bibliotecas que não serão discutidas no escopo deste Microcurso."
      ]
    },
    {
      "cell_type": "code",
      "execution_count": 47,
      "id": "r4Rref1xRwXw",
      "metadata": {
        "colab": {
          "base_uri": "https://localhost:8080/"
        },
        "id": "r4Rref1xRwXw",
        "outputId": "3070322e-a15a-4ad0-9b44-13c6dd4a7d31"
      },
      "outputs": [
        {
          "name": "stdout",
          "output_type": "stream",
          "text": [
            "anyio==4.9.0\n",
            "argon2-cffi==25.1.0\n",
            "argon2-cffi-bindings==21.2.0\n",
            "arrow==1.3.0\n",
            "asttokens==3.0.0\n",
            "async-lru==2.0.5\n",
            "attrs==25.3.0\n",
            "babel==2.17.0\n",
            "beautifulsoup4==4.13.4\n",
            "bleach==6.2.0\n",
            "certifi==2025.7.9\n",
            "cffi==1.17.1\n",
            "charset-normalizer==3.4.2\n",
            "colorama==0.4.6\n",
            "comm==0.2.2\n",
            "contourpy==1.3.2\n",
            "cycler==0.12.1\n",
            "debugpy==1.8.14\n",
            "decorator==5.2.1\n",
            "defusedxml==0.7.1\n",
            "executing==2.2.0\n",
            "fastjsonschema==2.21.1\n",
            "filelock==3.13.1\n",
            "fonttools==4.58.5\n",
            "fqdn==1.5.1\n",
            "fsspec==2024.6.1\n",
            "gitdb==4.0.12\n",
            "GitPython==3.1.44\n",
            "h11==0.16.0\n",
            "httpcore==1.0.9\n",
            "httpx==0.28.1\n",
            "idna==3.10\n",
            "ipykernel==6.29.5\n",
            "ipython==9.4.0\n",
            "ipython_pygments_lexers==1.1.1\n",
            "isoduration==20.11.0\n",
            "jedi==0.19.2\n",
            "Jinja2==3.1.6\n",
            "joblib==1.5.1\n",
            "json5==0.12.0\n",
            "jsonpointer==3.0.0\n",
            "jsonschema==4.24.0\n",
            "jsonschema-specifications==2025.4.1\n",
            "jupyter-events==0.12.0\n",
            "jupyter-lsp==2.2.5\n",
            "jupyter-server-mathjax==0.2.6\n",
            "jupyter_client==8.6.3\n",
            "jupyter_core==5.8.1\n",
            "jupyter_server==2.16.0\n",
            "jupyter_server_terminals==0.5.3\n",
            "jupyterlab==4.4.4\n",
            "jupyterlab_git==0.51.2\n",
            "jupyterlab_pygments==0.3.0\n",
            "jupyterlab_server==2.27.3\n",
            "kiwisolver==1.4.8\n",
            "MarkupSafe==3.0.2\n",
            "matplotlib==3.10.3\n",
            "matplotlib-inline==0.1.7\n",
            "mistune==3.1.3\n",
            "mpmath==1.3.0\n",
            "narwhals==1.46.0\n",
            "nbclient==0.10.2\n",
            "nbconvert==7.16.6\n",
            "nbdime==4.0.2\n",
            "nbformat==5.10.4\n",
            "nest-asyncio==1.6.0\n",
            "networkx==3.3\n",
            "notebook_shim==0.2.4\n",
            "numpy==2.3.1\n",
            "overrides==7.7.0\n",
            "packaging==25.0\n",
            "pandas==2.3.1\n",
            "pandocfilters==1.5.1\n",
            "parso==0.8.4\n",
            "pexpect==4.9.0\n",
            "pillow==11.3.0\n",
            "platformdirs==4.3.8\n",
            "plotly==6.2.0\n",
            "prometheus_client==0.22.1\n",
            "prompt_toolkit==3.0.51\n",
            "psutil==7.0.0\n",
            "ptyprocess==0.7.0\n",
            "pure_eval==0.2.3\n",
            "pycparser==2.22\n",
            "Pygments==2.19.2\n",
            "pyparsing==3.2.3\n",
            "python-dateutil==2.9.0.post0\n",
            "python-json-logger==3.3.0\n",
            "pytz==2025.2\n",
            "PyYAML==6.0.2\n",
            "pyzmq==27.0.0\n",
            "referencing==0.36.2\n",
            "requests==2.32.4\n",
            "rfc3339-validator==0.1.4\n",
            "rfc3986-validator==0.1.1\n",
            "rpds-py==0.26.0\n",
            "scikit-learn==1.7.0\n",
            "scipy==1.16.0\n",
            "seaborn==0.13.2\n",
            "Send2Trash==1.8.3\n",
            "setuptools==80.9.0\n",
            "six==1.17.0\n",
            "smmap==5.0.2\n",
            "sniffio==1.3.1\n",
            "soupsieve==2.7\n",
            "stack-data==0.6.3\n",
            "sympy==1.13.3\n",
            "terminado==0.18.1\n",
            "threadpoolctl==3.6.0\n",
            "tinycss2==1.4.0\n",
            "torch==2.7.1+cpu\n",
            "tornado==6.5.1\n",
            "traitlets==5.14.3\n",
            "types-python-dateutil==2.9.0.20250708\n",
            "typing_extensions==4.14.1\n",
            "tzdata==2025.2\n",
            "uri-template==1.3.0\n",
            "urllib3==2.5.0\n",
            "wcwidth==0.2.13\n",
            "webcolors==24.11.1\n",
            "webencodings==0.5.1\n",
            "websocket-client==1.8.0\n"
          ]
        }
      ],
      "source": [
        "!pip freeze # Exibe todas as bibliotecas Python disponíveis no Google Colab"
      ]
    }
  ],
  "metadata": {
    "colab": {
      "include_colab_link": true,
      "provenance": []
    },
    "kernelspec": {
      "display_name": "Python 3",
      "language": "python",
      "name": "python3"
    },
    "language_info": {
      "codemirror_mode": {
        "name": "ipython",
        "version": 3
      },
      "file_extension": ".py",
      "mimetype": "text/x-python",
      "name": "python",
      "nbconvert_exporter": "python",
      "pygments_lexer": "ipython3",
      "version": "3.12.1"
    }
  },
  "nbformat": 4,
  "nbformat_minor": 5
}
