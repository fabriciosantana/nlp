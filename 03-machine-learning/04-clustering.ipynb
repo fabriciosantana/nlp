{
  "cells": [
    {
      "cell_type": "markdown",
      "metadata": {
        "colab_type": "text",
        "id": "view-in-github"
      },
      "source": [
        "<a href=\"https://colab.research.google.com/github/fabriciosantana/nlp/blob/main/AKCIT_NLP_M4_Colab_Unidade_10_Finalizado.ipynb\" target=\"_parent\"><img src=\"https://colab.research.google.com/assets/colab-badge.svg\" alt=\"Open In Colab\"/></a>"
      ]
    },
    {
      "cell_type": "markdown",
      "metadata": {
        "id": "Zp-30Rhyz2oR"
      },
      "source": [
        "# Objetivos de Aprendizagem\n",
        "\n",
        "*   Compreender os conceitos fundamentais de clusterização e o funcionamento do algoritmo k-means;\n",
        "* Aplicar técnicas de redução de dimensionalidade e visualização de dados para interpretar resultados de clusterização;\n",
        "* Desenvolver competências na análise comparativa de resultados de clusterização com dados rotulados e não rotulados.\n"
      ]
    },
    {
      "cell_type": "markdown",
      "metadata": {
        "id": "6RbMqBUTlOIV"
      },
      "source": [
        "# Clusterização com o K-Means\n",
        "Neste notebook, vamos explorar o algoritmo de clusterização k-means aplicado ao famoso dataset Iris. Este conjunto de dados contém informações sobre 150 amostras de flores de íris, divididas em três espécies diferentes. Embora o dataset seja rotulado, vamos utilizá-lo para aplicar o algoritmo k-means, que é um método não supervisionado, para comparar os resultados obtidos com as classes originais."
      ]
    },
    {
      "cell_type": "markdown",
      "metadata": {
        "id": "nCnXKod-lOIV"
      },
      "source": [
        "## O que vamos fazer?\n",
        "O objetivo aqui é aplicar o k-means para identificar possíveis agrupamentos nas amostras do dataset Iris, mesmo sabendo que os dados já possuem rótulos. Inicialmente, usaremos os rótulos para exibir um gráfico de dispersão dos dados originais. Em seguida, retiraremos a coluna que identifica as classes e aplicaremos o k-means, gerando um gráfico para comparar visualmente os resultados."
      ]
    },
    {
      "cell_type": "markdown",
      "metadata": {
        "id": "X-bc4DqMlOIW"
      },
      "source": [
        "## Montagem do Google Drive\n",
        "Primeiro, precisamos acessar os arquivos armazenados no Google Drive. Usaremos o comando `drive.mount` para montar o Google Drive no ambiente Colab, permitindo acessar os arquivos diretamente."
      ]
    },
    {
      "cell_type": "code",
      "execution_count": null,
      "metadata": {
        "colab": {
          "base_uri": "https://localhost:8080/"
        },
        "id": "k6lvX4LnlOIW",
        "outputId": "4313725e-d6f6-4410-b966-702f9767c228"
      },
      "outputs": [
        {
          "name": "stdout",
          "output_type": "stream",
          "text": [
            "Mounted at /content/drive\n"
          ]
        }
      ],
      "source": [
        "from google.colab import drive\n",
        "drive.mount('/content/drive') # Monta o drive do Google Drive"
      ]
    },
    {
      "cell_type": "markdown",
      "metadata": {
        "id": "a0BA2UyklOIW"
      },
      "source": [
        "O código acima monta o Google Drive no diretório `/content/drive`, permitindo que você acesse seus arquivos diretamente no ambiente Colab."
      ]
    },
    {
      "cell_type": "markdown",
      "metadata": {
        "id": "X1YLBHt_lOIX"
      },
      "source": [
        "## Introdução à biblioteca Pandas\n",
        "Pandas é uma poderosa biblioteca de Python para análise e manipulação de dados. Ela fornece estruturas de dados flexíveis, como DataFrames e Series, que facilitam o tratamento de dados tabulares (similar a tabelas em bancos de dados ou planilhas). Pandas é particularmente útil para carregar, limpar, transformar e analisar dados. Ele pode manipular vários tipos de dados, incluindo arquivos CSV, planilhas Excel, tabelas SQL, e muito mais.\n",
        "\n",
        "Abaixo você encontras uma explicação detalhada cada uma delas:\n",
        "\n",
        "DataFrame\n",
        "* O que é: Um DataFrame é uma estrutura de dados bidimensional (tabular), similar a uma tabela em uma base de dados ou a uma planilha em Excel. Ele é composto por linhas e colunas, onde cada coluna pode conter diferentes tipos de dados (números, strings, booleanos, etc.).\n",
        "* Características:\n",
        " * Etiquetado: As linhas e colunas de um DataFrame são etiquetadas, o que significa que você pode acessar os dados através de rótulos (ou índices) em vez de apenas por posição.\n",
        " * Flexível: Pode armazenar diferentes tipos de dados em colunas diferentes, por exemplo, inteiros em uma coluna, strings em outra, e assim por diante.\n",
        " * Manipulação e análise: É amplamente utilizado para operações de filtragem, agregação, pivotamento, e outras formas de manipulação de dados.\n",
        "* Exemplo: Imagine um DataFrame com as colunas \"Nome\", \"Idade\", e \"Cidade\". Cada linha desse DataFrame representa uma pessoa diferente, com os valores dessas três características.\n",
        "\n",
        "Series\n",
        "* O que é: Uma Series é uma estrutura de dados unidimensional, similar a uma coluna de uma tabela ou a uma lista. É essencialmente uma lista de elementos com rótulos (índices), o que a torna uma versão mais poderosa de um array do NumPy.\n",
        "* Características:\n",
        " * Etiquetado: Cada elemento de uma Series tem um rótulo de índice associado, o que facilita o acesso a dados específicos.\n",
        "Homogênea: Todos os elementos de uma Series são do mesmo tipo de dados (inteiros, strings, etc.).\n",
        " * Parte de um DataFrame: Uma Series pode ser vista como uma coluna individual em um DataFrame, mas também pode existir independentemente.\n",
        "* Exemplo: A coluna \"Nome\" desse DataFrame pode ser extraída como uma Series, contendo apenas os nomes das pessoas, etiquetados pelos índices das linhas.\n",
        "\n",
        "Antes de executar o código a seguir, [clique aqui](https://drive.google.com/file/d/1p3IEjwzthh3iXh4O2LUEvF8ySJd1Kjrq/view?usp=drive_link) para baixar o arquivo `iris-dataset.csv` e salve-o na pasta raiz (fora que qualquer diretório) do Google Drive vinculado à conta que você está utilizando para acessar esse *notebook*."
      ]
    },
    {
      "cell_type": "code",
      "execution_count": null,
      "metadata": {
        "id": "LsmaF8eYlOIX"
      },
      "outputs": [],
      "source": [
        "import pandas as pd\n",
        "filename = '/content/drive/My Drive/Colab Notebooks/iris-dataset.csv'\n",
        "data = pd.read_csv(filename) # Lê o arquivo do dataset iris em um dataframe"
      ]
    },
    {
      "cell_type": "markdown",
      "metadata": {
        "id": "rZz8XOxtlOIX"
      },
      "source": [
        "O comando `pd.read_csv(filename)` lê o arquivo CSV e cria um DataFrame `data` contendo todas as amostras e características do dataset Iris. Esse DataFrame é essencial para manipulação e análise dos dados."
      ]
    },
    {
      "cell_type": "markdown",
      "metadata": {
        "id": "6ccrX6c5lOIX"
      },
      "source": [
        "## Explorando o dataset\n",
        "Vamos explorar rapidamente o dataset visualizando os primeiros registros e listando as colunas do DataFrame. Isso nos ajuda a entender a estrutura dos dados que estamos manipulando."
      ]
    },
    {
      "cell_type": "code",
      "execution_count": null,
      "metadata": {
        "colab": {
          "base_uri": "https://localhost:8080/",
          "height": 206
        },
        "id": "DIGKEx1xlOIX",
        "outputId": "c2d36ee9-8343-45ae-ea02-5065b9dca772"
      },
      "outputs": [
        {
          "data": {
            "application/vnd.google.colaboratory.intrinsic+json": {
              "summary": "{\n  \"name\": \"data\",\n  \"rows\": 150,\n  \"fields\": [\n    {\n      \"column\": \"sepal.length\",\n      \"properties\": {\n        \"dtype\": \"number\",\n        \"std\": 0.828066127977863,\n        \"min\": 4.3,\n        \"max\": 7.9,\n        \"num_unique_values\": 35,\n        \"samples\": [\n          6.2,\n          4.5,\n          5.6\n        ],\n        \"semantic_type\": \"\",\n        \"description\": \"\"\n      }\n    },\n    {\n      \"column\": \"sepal.width\",\n      \"properties\": {\n        \"dtype\": \"number\",\n        \"std\": 0.4358662849366982,\n        \"min\": 2.0,\n        \"max\": 4.4,\n        \"num_unique_values\": 23,\n        \"samples\": [\n          2.3,\n          4.0,\n          3.5\n        ],\n        \"semantic_type\": \"\",\n        \"description\": \"\"\n      }\n    },\n    {\n      \"column\": \"petal.length\",\n      \"properties\": {\n        \"dtype\": \"number\",\n        \"std\": 1.7652982332594662,\n        \"min\": 1.0,\n        \"max\": 6.9,\n        \"num_unique_values\": 43,\n        \"samples\": [\n          6.7,\n          3.8,\n          3.7\n        ],\n        \"semantic_type\": \"\",\n        \"description\": \"\"\n      }\n    },\n    {\n      \"column\": \"petal.width\",\n      \"properties\": {\n        \"dtype\": \"number\",\n        \"std\": 0.7622376689603465,\n        \"min\": 0.1,\n        \"max\": 2.5,\n        \"num_unique_values\": 22,\n        \"samples\": [\n          0.2,\n          1.2,\n          1.3\n        ],\n        \"semantic_type\": \"\",\n        \"description\": \"\"\n      }\n    },\n    {\n      \"column\": \"variety\",\n      \"properties\": {\n        \"dtype\": \"category\",\n        \"num_unique_values\": 3,\n        \"samples\": [\n          \"Setosa\",\n          \"Versicolor\",\n          \"Virginica\"\n        ],\n        \"semantic_type\": \"\",\n        \"description\": \"\"\n      }\n    }\n  ]\n}",
              "type": "dataframe",
              "variable_name": "data"
            },
            "text/html": [
              "\n",
              "  <div id=\"df-d05883f5-037f-47c9-abd0-5f782612a508\" class=\"colab-df-container\">\n",
              "    <div>\n",
              "<style scoped>\n",
              "    .dataframe tbody tr th:only-of-type {\n",
              "        vertical-align: middle;\n",
              "    }\n",
              "\n",
              "    .dataframe tbody tr th {\n",
              "        vertical-align: top;\n",
              "    }\n",
              "\n",
              "    .dataframe thead th {\n",
              "        text-align: right;\n",
              "    }\n",
              "</style>\n",
              "<table border=\"1\" class=\"dataframe\">\n",
              "  <thead>\n",
              "    <tr style=\"text-align: right;\">\n",
              "      <th></th>\n",
              "      <th>sepal.length</th>\n",
              "      <th>sepal.width</th>\n",
              "      <th>petal.length</th>\n",
              "      <th>petal.width</th>\n",
              "      <th>variety</th>\n",
              "    </tr>\n",
              "  </thead>\n",
              "  <tbody>\n",
              "    <tr>\n",
              "      <th>0</th>\n",
              "      <td>5.1</td>\n",
              "      <td>3.5</td>\n",
              "      <td>1.4</td>\n",
              "      <td>0.2</td>\n",
              "      <td>Setosa</td>\n",
              "    </tr>\n",
              "    <tr>\n",
              "      <th>1</th>\n",
              "      <td>4.9</td>\n",
              "      <td>3.0</td>\n",
              "      <td>1.4</td>\n",
              "      <td>0.2</td>\n",
              "      <td>Setosa</td>\n",
              "    </tr>\n",
              "    <tr>\n",
              "      <th>2</th>\n",
              "      <td>4.7</td>\n",
              "      <td>3.2</td>\n",
              "      <td>1.3</td>\n",
              "      <td>0.2</td>\n",
              "      <td>Setosa</td>\n",
              "    </tr>\n",
              "    <tr>\n",
              "      <th>3</th>\n",
              "      <td>4.6</td>\n",
              "      <td>3.1</td>\n",
              "      <td>1.5</td>\n",
              "      <td>0.2</td>\n",
              "      <td>Setosa</td>\n",
              "    </tr>\n",
              "    <tr>\n",
              "      <th>4</th>\n",
              "      <td>5.0</td>\n",
              "      <td>3.6</td>\n",
              "      <td>1.4</td>\n",
              "      <td>0.2</td>\n",
              "      <td>Setosa</td>\n",
              "    </tr>\n",
              "  </tbody>\n",
              "</table>\n",
              "</div>\n",
              "    <div class=\"colab-df-buttons\">\n",
              "\n",
              "  <div class=\"colab-df-container\">\n",
              "    <button class=\"colab-df-convert\" onclick=\"convertToInteractive('df-d05883f5-037f-47c9-abd0-5f782612a508')\"\n",
              "            title=\"Convert this dataframe to an interactive table.\"\n",
              "            style=\"display:none;\">\n",
              "\n",
              "  <svg xmlns=\"http://www.w3.org/2000/svg\" height=\"24px\" viewBox=\"0 -960 960 960\">\n",
              "    <path d=\"M120-120v-720h720v720H120Zm60-500h600v-160H180v160Zm220 220h160v-160H400v160Zm0 220h160v-160H400v160ZM180-400h160v-160H180v160Zm440 0h160v-160H620v160ZM180-180h160v-160H180v160Zm440 0h160v-160H620v160Z\"/>\n",
              "  </svg>\n",
              "    </button>\n",
              "\n",
              "  <style>\n",
              "    .colab-df-container {\n",
              "      display:flex;\n",
              "      gap: 12px;\n",
              "    }\n",
              "\n",
              "    .colab-df-convert {\n",
              "      background-color: #E8F0FE;\n",
              "      border: none;\n",
              "      border-radius: 50%;\n",
              "      cursor: pointer;\n",
              "      display: none;\n",
              "      fill: #1967D2;\n",
              "      height: 32px;\n",
              "      padding: 0 0 0 0;\n",
              "      width: 32px;\n",
              "    }\n",
              "\n",
              "    .colab-df-convert:hover {\n",
              "      background-color: #E2EBFA;\n",
              "      box-shadow: 0px 1px 2px rgba(60, 64, 67, 0.3), 0px 1px 3px 1px rgba(60, 64, 67, 0.15);\n",
              "      fill: #174EA6;\n",
              "    }\n",
              "\n",
              "    .colab-df-buttons div {\n",
              "      margin-bottom: 4px;\n",
              "    }\n",
              "\n",
              "    [theme=dark] .colab-df-convert {\n",
              "      background-color: #3B4455;\n",
              "      fill: #D2E3FC;\n",
              "    }\n",
              "\n",
              "    [theme=dark] .colab-df-convert:hover {\n",
              "      background-color: #434B5C;\n",
              "      box-shadow: 0px 1px 3px 1px rgba(0, 0, 0, 0.15);\n",
              "      filter: drop-shadow(0px 1px 2px rgba(0, 0, 0, 0.3));\n",
              "      fill: #FFFFFF;\n",
              "    }\n",
              "  </style>\n",
              "\n",
              "    <script>\n",
              "      const buttonEl =\n",
              "        document.querySelector('#df-d05883f5-037f-47c9-abd0-5f782612a508 button.colab-df-convert');\n",
              "      buttonEl.style.display =\n",
              "        google.colab.kernel.accessAllowed ? 'block' : 'none';\n",
              "\n",
              "      async function convertToInteractive(key) {\n",
              "        const element = document.querySelector('#df-d05883f5-037f-47c9-abd0-5f782612a508');\n",
              "        const dataTable =\n",
              "          await google.colab.kernel.invokeFunction('convertToInteractive',\n",
              "                                                    [key], {});\n",
              "        if (!dataTable) return;\n",
              "\n",
              "        const docLinkHtml = 'Like what you see? Visit the ' +\n",
              "          '<a target=\"_blank\" href=https://colab.research.google.com/notebooks/data_table.ipynb>data table notebook</a>'\n",
              "          + ' to learn more about interactive tables.';\n",
              "        element.innerHTML = '';\n",
              "        dataTable['output_type'] = 'display_data';\n",
              "        await google.colab.output.renderOutput(dataTable, element);\n",
              "        const docLink = document.createElement('div');\n",
              "        docLink.innerHTML = docLinkHtml;\n",
              "        element.appendChild(docLink);\n",
              "      }\n",
              "    </script>\n",
              "  </div>\n",
              "\n",
              "\n",
              "<div id=\"df-7391b304-e542-4918-ab99-e47a2023216a\">\n",
              "  <button class=\"colab-df-quickchart\" onclick=\"quickchart('df-7391b304-e542-4918-ab99-e47a2023216a')\"\n",
              "            title=\"Suggest charts\"\n",
              "            style=\"display:none;\">\n",
              "\n",
              "<svg xmlns=\"http://www.w3.org/2000/svg\" height=\"24px\"viewBox=\"0 0 24 24\"\n",
              "     width=\"24px\">\n",
              "    <g>\n",
              "        <path d=\"M19 3H5c-1.1 0-2 .9-2 2v14c0 1.1.9 2 2 2h14c1.1 0 2-.9 2-2V5c0-1.1-.9-2-2-2zM9 17H7v-7h2v7zm4 0h-2V7h2v10zm4 0h-2v-4h2v4z\"/>\n",
              "    </g>\n",
              "</svg>\n",
              "  </button>\n",
              "\n",
              "<style>\n",
              "  .colab-df-quickchart {\n",
              "      --bg-color: #E8F0FE;\n",
              "      --fill-color: #1967D2;\n",
              "      --hover-bg-color: #E2EBFA;\n",
              "      --hover-fill-color: #174EA6;\n",
              "      --disabled-fill-color: #AAA;\n",
              "      --disabled-bg-color: #DDD;\n",
              "  }\n",
              "\n",
              "  [theme=dark] .colab-df-quickchart {\n",
              "      --bg-color: #3B4455;\n",
              "      --fill-color: #D2E3FC;\n",
              "      --hover-bg-color: #434B5C;\n",
              "      --hover-fill-color: #FFFFFF;\n",
              "      --disabled-bg-color: #3B4455;\n",
              "      --disabled-fill-color: #666;\n",
              "  }\n",
              "\n",
              "  .colab-df-quickchart {\n",
              "    background-color: var(--bg-color);\n",
              "    border: none;\n",
              "    border-radius: 50%;\n",
              "    cursor: pointer;\n",
              "    display: none;\n",
              "    fill: var(--fill-color);\n",
              "    height: 32px;\n",
              "    padding: 0;\n",
              "    width: 32px;\n",
              "  }\n",
              "\n",
              "  .colab-df-quickchart:hover {\n",
              "    background-color: var(--hover-bg-color);\n",
              "    box-shadow: 0 1px 2px rgba(60, 64, 67, 0.3), 0 1px 3px 1px rgba(60, 64, 67, 0.15);\n",
              "    fill: var(--button-hover-fill-color);\n",
              "  }\n",
              "\n",
              "  .colab-df-quickchart-complete:disabled,\n",
              "  .colab-df-quickchart-complete:disabled:hover {\n",
              "    background-color: var(--disabled-bg-color);\n",
              "    fill: var(--disabled-fill-color);\n",
              "    box-shadow: none;\n",
              "  }\n",
              "\n",
              "  .colab-df-spinner {\n",
              "    border: 2px solid var(--fill-color);\n",
              "    border-color: transparent;\n",
              "    border-bottom-color: var(--fill-color);\n",
              "    animation:\n",
              "      spin 1s steps(1) infinite;\n",
              "  }\n",
              "\n",
              "  @keyframes spin {\n",
              "    0% {\n",
              "      border-color: transparent;\n",
              "      border-bottom-color: var(--fill-color);\n",
              "      border-left-color: var(--fill-color);\n",
              "    }\n",
              "    20% {\n",
              "      border-color: transparent;\n",
              "      border-left-color: var(--fill-color);\n",
              "      border-top-color: var(--fill-color);\n",
              "    }\n",
              "    30% {\n",
              "      border-color: transparent;\n",
              "      border-left-color: var(--fill-color);\n",
              "      border-top-color: var(--fill-color);\n",
              "      border-right-color: var(--fill-color);\n",
              "    }\n",
              "    40% {\n",
              "      border-color: transparent;\n",
              "      border-right-color: var(--fill-color);\n",
              "      border-top-color: var(--fill-color);\n",
              "    }\n",
              "    60% {\n",
              "      border-color: transparent;\n",
              "      border-right-color: var(--fill-color);\n",
              "    }\n",
              "    80% {\n",
              "      border-color: transparent;\n",
              "      border-right-color: var(--fill-color);\n",
              "      border-bottom-color: var(--fill-color);\n",
              "    }\n",
              "    90% {\n",
              "      border-color: transparent;\n",
              "      border-bottom-color: var(--fill-color);\n",
              "    }\n",
              "  }\n",
              "</style>\n",
              "\n",
              "  <script>\n",
              "    async function quickchart(key) {\n",
              "      const quickchartButtonEl =\n",
              "        document.querySelector('#' + key + ' button');\n",
              "      quickchartButtonEl.disabled = true;  // To prevent multiple clicks.\n",
              "      quickchartButtonEl.classList.add('colab-df-spinner');\n",
              "      try {\n",
              "        const charts = await google.colab.kernel.invokeFunction(\n",
              "            'suggestCharts', [key], {});\n",
              "      } catch (error) {\n",
              "        console.error('Error during call to suggestCharts:', error);\n",
              "      }\n",
              "      quickchartButtonEl.classList.remove('colab-df-spinner');\n",
              "      quickchartButtonEl.classList.add('colab-df-quickchart-complete');\n",
              "    }\n",
              "    (() => {\n",
              "      let quickchartButtonEl =\n",
              "        document.querySelector('#df-7391b304-e542-4918-ab99-e47a2023216a button');\n",
              "      quickchartButtonEl.style.display =\n",
              "        google.colab.kernel.accessAllowed ? 'block' : 'none';\n",
              "    })();\n",
              "  </script>\n",
              "</div>\n",
              "\n",
              "    </div>\n",
              "  </div>\n"
            ],
            "text/plain": [
              "   sepal.length  sepal.width  petal.length  petal.width variety\n",
              "0           5.1          3.5           1.4          0.2  Setosa\n",
              "1           4.9          3.0           1.4          0.2  Setosa\n",
              "2           4.7          3.2           1.3          0.2  Setosa\n",
              "3           4.6          3.1           1.5          0.2  Setosa\n",
              "4           5.0          3.6           1.4          0.2  Setosa"
            ]
          },
          "execution_count": 4,
          "metadata": {},
          "output_type": "execute_result"
        }
      ],
      "source": [
        "data.head() # Mostra os primeiros registros do dataframe"
      ]
    },
    {
      "cell_type": "code",
      "execution_count": null,
      "metadata": {
        "colab": {
          "base_uri": "https://localhost:8080/"
        },
        "id": "E_5F1WEnr2iG",
        "outputId": "62a7caa4-0fd8-4f7d-a550-91ead8372766"
      },
      "outputs": [
        {
          "data": {
            "text/plain": [
              "['sepal.length', 'sepal.width', 'petal.length', 'petal.width', 'variety']"
            ]
          },
          "execution_count": 5,
          "metadata": {},
          "output_type": "execute_result"
        }
      ],
      "source": [
        "list(data.columns) # Mostra os nomes das colunas do dataframe"
      ]
    },
    {
      "cell_type": "markdown",
      "metadata": {
        "id": "sFEch96ilOIX"
      },
      "source": [
        "Os primeiros registros do DataFrame e a lista de colunas nos permitem verificar se os dados foram carregados corretamente. As colunas do dataset Iris geralmente incluem medidas como comprimento e largura das sépalas e pétalas, além da espécie da flor."
      ]
    },
    {
      "cell_type": "markdown",
      "metadata": {
        "id": "FM8CHegtlOIX"
      },
      "source": [
        "## Preparação dos dados\n",
        "Agora, vamos separar as características (atributos) que serão usadas para a clusterização. Neste exemplo, vamos utilizar as quatro primeiras colunas do DataFrame, que representam as medidas das flores."
      ]
    },
    {
      "cell_type": "code",
      "execution_count": null,
      "metadata": {
        "id": "9SlzPyjalOIX"
      },
      "outputs": [],
      "source": [
        "X = data.iloc[: , 0:4].values # Separa somente as colunas das características"
      ]
    },
    {
      "cell_type": "markdown",
      "metadata": {
        "id": "uOmDtI6ElOIY"
      },
      "source": [
        "O código acima utiliza `iloc` para selecionar as quatro primeiras colunas do DataFrame `data` e armazena essas colunas na matriz `X`. Essa matriz será usada como entrada para o algoritmo de clusterização."
      ]
    },
    {
      "cell_type": "markdown",
      "metadata": {
        "id": "frNSzoY8lOIY"
      },
      "source": [
        "## Redução de dimensionalidade com t-SNE\n",
        "Antes de aplicar o algoritmo k-means, vamos reduzir a dimensionalidade dos dados usando t-SNE (t-Distributed Stochastic Neighbor Embedding). O t-SNE é uma técnica de redução de dimensionalidade particularmente útil para visualizar dados de alta dimensão. Ele transforma os dados de um espaço de características de alta dimensão para um espaço de 2 ou 3 dimensões, mantendo as relações de proximidade entre as amostras, o que é ideal para visualizar agrupamentos em um gráfico."
      ]
    },
    {
      "cell_type": "code",
      "execution_count": null,
      "metadata": {
        "id": "sDfiTBWwlOIY"
      },
      "outputs": [],
      "source": [
        "from sklearn.manifold import TSNE # Classe para redução da dimensionalidade\n",
        "X_tsne = TSNE(n_components = 2).fit_transform(X) # Reduz de 4 para 2 características"
      ]
    },
    {
      "cell_type": "markdown",
      "metadata": {
        "id": "iMcA0Ih1lOIY"
      },
      "source": [
        "O código aplica t-SNE para reduzir as quatro dimensões das características do dataset Iris para duas. A redução de dimensionalidade é especialmente útil quando queremos visualizar dados em um espaço 2D ou 3D sem perder muita informação sobre as relações entre as amostras."
      ]
    },
    {
      "cell_type": "markdown",
      "metadata": {
        "id": "DOscLyXmlOIY"
      },
      "source": [
        "## Preparação para visualização\n",
        "Agora que os dados foram reduzidos para duas dimensões, vamos organizá-los em um novo DataFrame, juntamente com as classes originais (espécies de íris) para facilitar a visualização."
      ]
    },
    {
      "cell_type": "code",
      "execution_count": null,
      "metadata": {
        "id": "sM0vyiiHlOIY"
      },
      "outputs": [],
      "source": [
        "data_tsne = pd.DataFrame(X_tsne) # Transforma as amostras obtidas pelo TSNE em dataframe\n",
        "classes = data.iloc[: , 4] # Extrai a coluna dos rótulos das classes\n",
        "data_tsne.insert(2, 'classe', classes) # Reúne as amostras e os rótulos das classes\n",
        "data_tsne = data_tsne.rename(columns = {0: \"carac_tsne_0\", 1: \"carac_tsne_1\"}) # Altera os nomes das colunas"
      ]
    },
    {
      "cell_type": "markdown",
      "metadata": {
        "id": "GO7578N4lOIY"
      },
      "source": [
        "Aqui, criamos um novo DataFrame `data_tsne` que contém as duas dimensões resultantes do t-SNE e as classes das amostras. As colunas são renomeadas para refletir as novas características derivadas do t-SNE, facilitando a interpretação. Resta plotar esses dados em um gráfico de dispersão."
      ]
    },
    {
      "cell_type": "markdown",
      "metadata": {
        "id": "0RXq8XjjlOIY"
      },
      "source": [
        "## Introdução à biblioteca Seaborn\n",
        "Seaborn é uma biblioteca Python baseada no Matplotlib que facilita a criação de gráficos estatísticos. Ela fornece uma interface de alto nível para desenhar gráficos atraentes e informativos. Seaborn integra bem com Pandas DataFrames, tornando muito simples a criação de gráficos a partir de dados tabulares. Seus recursos incluem gráficos de dispersão, gráficos de linha, gráficos de distribuição, gráficos de boxplot, entre outros."
      ]
    },
    {
      "cell_type": "code",
      "execution_count": null,
      "metadata": {
        "colab": {
          "base_uri": "https://localhost:8080/",
          "height": 469
        },
        "id": "3FLHCHEhlOIY",
        "outputId": "e632cbc9-fcb3-432c-839a-94b7c5d56b80"
      },
      "outputs": [
        {
          "data": {
            "text/plain": [
              "<Axes: xlabel='carac_tsne_0', ylabel='carac_tsne_1'>"
            ]
          },
          "execution_count": 12,
          "metadata": {},
          "output_type": "execute_result"
        },
        {
          "data": {
            "image/png": "[encoded data removed]",
            "text/plain": [
              "<Figure size 640x480 with 1 Axes>"
            ]
          },
          "metadata": {},
          "output_type": "display_data"
        }
      ],
      "source": [
        "import seaborn as sns\n",
        "sns.scatterplot(x = data_tsne['carac_tsne_0'], y = data_tsne['carac_tsne_1'], hue = data_tsne.classe, style = data_tsne.classe)"
      ]
    },
    {
      "cell_type": "markdown",
      "metadata": {
        "id": "UAVCEQ8blOIZ"
      },
      "source": [
        "Utilizamos a função `scatterplot` para gerar o gráficos com os seguinte parâmetros:\n",
        "\n",
        "* `x = data_tsne['carac_tsne_0']`: Define os valores para o eixo x do gráfico, que correspondem à primeira característica reduzida pelo t-SNE.\n",
        "* `y = data_tsne['carac_tsne_1']`: Define os valores para o eixo y do gráfico, que correspondem à segunda característica reduzida pelo t-SNE.\n",
        "* `hue = data_tsne.classe`: Determina a coloração dos pontos no gráfico com base na classe de cada amostra. Isso permite distinguir visualmente as diferentes classes (ou clusters) no gráfico.\n",
        "* `style = data_tsne.classe`: Diferencia as classes usando diferentes estilos de marcadores (como círculos, quadrados, etc.), proporcionando uma camada adicional de distinção visual entre as classes.\n",
        "\n",
        "O gráfico de dispersão mostra como as amostras são distribuídas em um espaço bidimensional após a redução de dimensionalidade. As cores e os estilos indicam as diferentes classes, facilitando a visualização de possíveis agrupamentos naturais nos dados."
      ]
    },
    {
      "cell_type": "markdown",
      "metadata": {
        "id": "AtrqajJZlOIZ"
      },
      "source": [
        "## Aplicando o algoritmo K-Means\n",
        "Agora que temos uma visualização inicial dos dados rotulados, vamos aplicar o algoritmo de clusterização k-means sem os rótulos das classes, ou seja, um aprendizado não supervisionado e verificar o resultado. Assim podemos comparar os 2 agrupamentos e, visualmente, checar a acurácia o k-means. K-means tenta dividir os dados em 'k' clusters, onde cada amostra pertence ao cluster mais próximo de seu centro (centroide). Após a aplicação do k-means, vamos visualizar os clusters obtidos e compará-los com as classes originais."
      ]
    },
    {
      "cell_type": "code",
      "execution_count": null,
      "metadata": {
        "colab": {
          "base_uri": "https://localhost:8080/",
          "height": 75
        },
        "id": "DTEOmSm4lOIZ",
        "outputId": "3d59428b-0e50-4725-d84b-fb97913b9447"
      },
      "outputs": [
        {
          "data": {
            "text/html": [
              "<style>#sk-container-id-1 {color: black;}#sk-container-id-1 pre{padding: 0;}#sk-container-id-1 div.sk-toggleable {background-color: white;}#sk-container-id-1 label.sk-toggleable__label {cursor: pointer;display: block;width: 100%;margin-bottom: 0;padding: 0.3em;box-sizing: border-box;text-align: center;}#sk-container-id-1 label.sk-toggleable__label-arrow:before {content: \"▸\";float: left;margin-right: 0.25em;color: #696969;}#sk-container-id-1 label.sk-toggleable__label-arrow:hover:before {color: black;}#sk-container-id-1 div.sk-estimator:hover label.sk-toggleable__label-arrow:before {color: black;}#sk-container-id-1 div.sk-toggleable__content {max-height: 0;max-width: 0;overflow: hidden;text-align: left;background-color: #f0f8ff;}#sk-container-id-1 div.sk-toggleable__content pre {margin: 0.2em;color: black;border-radius: 0.25em;background-color: #f0f8ff;}#sk-container-id-1 input.sk-toggleable__control:checked~div.sk-toggleable__content {max-height: 200px;max-width: 100%;overflow: auto;}#sk-container-id-1 input.sk-toggleable__control:checked~label.sk-toggleable__label-arrow:before {content: \"▾\";}#sk-container-id-1 div.sk-estimator input.sk-toggleable__control:checked~label.sk-toggleable__label {background-color: #d4ebff;}#sk-container-id-1 div.sk-label input.sk-toggleable__control:checked~label.sk-toggleable__label {background-color: #d4ebff;}#sk-container-id-1 input.sk-hidden--visually {border: 0;clip: rect(1px 1px 1px 1px);clip: rect(1px, 1px, 1px, 1px);height: 1px;margin: -1px;overflow: hidden;padding: 0;position: absolute;width: 1px;}#sk-container-id-1 div.sk-estimator {font-family: monospace;background-color: #f0f8ff;border: 1px dotted black;border-radius: 0.25em;box-sizing: border-box;margin-bottom: 0.5em;}#sk-container-id-1 div.sk-estimator:hover {background-color: #d4ebff;}#sk-container-id-1 div.sk-parallel-item::after {content: \"\";width: 100%;border-bottom: 1px solid gray;flex-grow: 1;}#sk-container-id-1 div.sk-label:hover label.sk-toggleable__label {background-color: #d4ebff;}#sk-container-id-1 div.sk-serial::before {content: \"\";position: absolute;border-left: 1px solid gray;box-sizing: border-box;top: 0;bottom: 0;left: 50%;z-index: 0;}#sk-container-id-1 div.sk-serial {display: flex;flex-direction: column;align-items: center;background-color: white;padding-right: 0.2em;padding-left: 0.2em;position: relative;}#sk-container-id-1 div.sk-item {position: relative;z-index: 1;}#sk-container-id-1 div.sk-parallel {display: flex;align-items: stretch;justify-content: center;background-color: white;position: relative;}#sk-container-id-1 div.sk-item::before, #sk-container-id-1 div.sk-parallel-item::before {content: \"\";position: absolute;border-left: 1px solid gray;box-sizing: border-box;top: 0;bottom: 0;left: 50%;z-index: -1;}#sk-container-id-1 div.sk-parallel-item {display: flex;flex-direction: column;z-index: 1;position: relative;background-color: white;}#sk-container-id-1 div.sk-parallel-item:first-child::after {align-self: flex-end;width: 50%;}#sk-container-id-1 div.sk-parallel-item:last-child::after {align-self: flex-start;width: 50%;}#sk-container-id-1 div.sk-parallel-item:only-child::after {width: 0;}#sk-container-id-1 div.sk-dashed-wrapped {border: 1px dashed gray;margin: 0 0.4em 0.5em 0.4em;box-sizing: border-box;padding-bottom: 0.4em;background-color: white;}#sk-container-id-1 div.sk-label label {font-family: monospace;font-weight: bold;display: inline-block;line-height: 1.2em;}#sk-container-id-1 div.sk-label-container {text-align: center;}#sk-container-id-1 div.sk-container {/* jupyter's `normalize.less` sets `[hidden] { display: none; }` but bootstrap.min.css set `[hidden] { display: none !important; }` so we also need the `!important` here to be able to override the default hidden behavior on the sphinx rendered scikit-learn.org. See: https://github.com/scikit-learn/scikit-learn/issues/21755 */display: inline-block !important;position: relative;}#sk-container-id-1 div.sk-text-repr-fallback {display: none;}</style><div id=\"sk-container-id-1\" class=\"sk-top-container\"><div class=\"sk-text-repr-fallback\"><pre>KMeans(init=&#x27;random&#x27;, n_clusters=3, n_init=10, random_state=0)</pre><b>In a Jupyter environment, please rerun this cell to show the HTML representation or trust the notebook. <br />On GitHub, the HTML representation is unable to render, please try loading this page with nbviewer.org.</b></div><div class=\"sk-container\" hidden><div class=\"sk-item\"><div class=\"sk-estimator sk-toggleable\"><input class=\"sk-toggleable__control sk-hidden--visually\" id=\"sk-estimator-id-1\" type=\"checkbox\" checked><label for=\"sk-estimator-id-1\" class=\"sk-toggleable__label sk-toggleable__label-arrow\">KMeans</label><div class=\"sk-toggleable__content\"><pre>KMeans(init=&#x27;random&#x27;, n_clusters=3, n_init=10, random_state=0)</pre></div></div></div></div></div>"
            ],
            "text/plain": [
              "KMeans(init='random', n_clusters=3, n_init=10, random_state=0)"
            ]
          },
          "execution_count": 13,
          "metadata": {},
          "output_type": "execute_result"
        }
      ],
      "source": [
        "from sklearn.cluster import KMeans # Importação do algoritmo k - means\n",
        "km = KMeans(n_clusters = 3, init = 'random', n_init = 10, max_iter = 300,  tol = 1e-04, random_state = 0) # Parametrização do modelo\n",
        "km.fit(X_tsne) # Computa os centroides dos clusters"
      ]
    },
    {
      "cell_type": "markdown",
      "metadata": {
        "id": "LEz9bCyslOIZ"
      },
      "source": [
        "No código acima, criamos um modelo k-means com os seguintes parâmetros:\n",
        "\n",
        "- **n_clusters**: Define o número de clusters a serem formados. Como sabemos que o dataset Iris tem três classes, usamos `n_clusters=3`. EM uma aplicação no mundo real esse número poderia ser escolhido com base no objetivo do agrupamento ou no deliamento experimental realizado por um especialista.\n",
        "- **init**: Método para inicialização dos centroides. Usamos `random` para escolher centroides iniciais aleatoriamente.\n",
        "- **n_init**: Número de vezes que o algoritmo k-means será executado com diferentes centroides iniciais. O melhor resultado (com menor inércia) é retornado.\n",
        "- **max_iter**: Número máximo de iterações para uma única execução do k-means.\n",
        "- **tol**: Tolerância para declarar convergência, ou seja, o critério de parada baseado em pequenas variações na inércia.\n",
        "- **random_state**: Define a semente do gerador de números aleatórios para garantir reprodutibilidade."
      ]
    },
    {
      "cell_type": "markdown",
      "metadata": {
        "id": "IP_0JEuylOIZ"
      },
      "source": [
        "### Predição e atribuição aos Clusters\n",
        "Após ajustar o modelo aos dados com `fit`, podemos prever a qual cluster cada amostra pertence usando `predict`. Essa etapa associa cada amostra ao cluster mais próximo, com base na distância ao centroide do cluster."
      ]
    },
    {
      "cell_type": "code",
      "execution_count": null,
      "metadata": {
        "id": "9T2OLpo5lOIZ"
      },
      "outputs": [],
      "source": [
        "predicao = km.predict(X_tsne) # Associa os objetos aos índices da classe"
      ]
    },
    {
      "cell_type": "markdown",
      "metadata": {
        "id": "QhPkYCj6lOIZ"
      },
      "source": [
        "O método `predict` retorna uma lista de rótulos de cluster, onde cada elemento indica o cluster ao qual a amostra correspondente pertence. Essa lista é usada para visualizar os clusters no espaço bidimensional."
      ]
    },
    {
      "cell_type": "markdown",
      "metadata": {
        "id": "YxKgZ5CHlOIZ"
      },
      "source": [
        "## Visualizando os clusters\n",
        "Vamos agora visualizar os clusters encontrados pelo k-means, colorindo cada um com uma cor diferente. Também vamos destacar os centroides dos clusters, que são os pontos centrais ao redor dos quais os clusters foram formados."
      ]
    },
    {
      "cell_type": "code",
      "execution_count": null,
      "metadata": {
        "colab": {
          "base_uri": "https://localhost:8080/",
          "height": 433
        },
        "id": "6GlbCMZElOIa",
        "outputId": "22238f70-4455-4980-947e-afe52d9c5463"
      },
      "outputs": [
        {
          "data": {
            "image/png": "[encoded data removed]",
            "text/plain": [
              "<Figure size 640x480 with 1 Axes>"
            ]
          },
          "metadata": {},
          "output_type": "display_data"
        }
      ],
      "source": [
        "from matplotlib import pyplot as plt\n",
        "plt.scatter(X_tsne[predicao == 0, 0], X_tsne[predicao == 0, 1], s = 50, c = 'lightgreen', marker = 's', edgecolor = 'black', label = 'cluster 0')\n",
        "plt.scatter(X_tsne[predicao == 1, 0], X_tsne[predicao == 1, 1], s = 50,  c = 'orange', marker = 'o', edgecolor = 'black',  label = 'cluster 1')\n",
        "plt.scatter(X_tsne[predicao == 2, 0], X_tsne[predicao == 2, 1], s = 50, c = 'lightblue', marker = 'v', edgecolor = 'black', label = 'cluster 2')\n",
        "\n",
        "# Plota os centroides de cada cluster\n",
        "plt.scatter(km.cluster_centers_[: , 0], km.cluster_centers_[: , 1], s = 250, marker = '*', c = 'red', edgecolor = 'black', label = 'centroids')\n",
        "plt.legend(scatterpoints = 1)\n",
        "plt.grid()"
      ]
    },
    {
      "cell_type": "markdown",
      "metadata": {
        "id": "EyeWVUNdlOIa"
      },
      "source": [
        "No código acima, usamos a função `scatter` nativa do `matplotlib` para gerar o gráfico. Ao utilizar diretamente o `matplotlib` , apesar de serem necessários mais parâmetros, temos um controle maior da renderização. Nessa função:\n",
        "\n",
        "* `X_tsne[predicao == 0, 0]`: Combina a matriz `X_tsne` com a máscara booleana para selecionar todas as amostras (linhas) que pertencem ao cluster `0`. O `, 0` no final do índice indica que estamos interessados apenas na primeira coluna (a primeira dimensão) dessas amostras. Já `X_tsne[predicao == 0, 1]` fornece os valores das características da segunda coluna.\n",
        "* `s = 50`: Define o tamanho dos marcadores (pontos) no gráfico. Aqui, `s = 50` significa que cada ponto terá um tamanho moderado.\n",
        "* `c = 'lightgreen'`: Define a cor dos marcadores como verde claro (lightgreen), o que facilita a visualização e a distinção dos pontos pertencentes ao cluster 0.\n",
        "* `marker = 's'`: Define o formato dos marcadores como quadrados (`s`), diferenciando visualmente os pontos deste cluster dos de outros clusters que podem usar formatos diferentes.\n",
        "* `edgecolor = 'black'`: Define a cor da borda dos marcadores como preta, o que pode ajudar a destacar os marcadores no gráfico, especialmente se a cor de preenchimento for clara.\n",
        "* `label = 'cluster 0'`: Define o rótulo (label) deste conjunto de pontos como \"cluster 0\". Esse rótulo será utilizado na legenda do gráfico, permitindo identificar visualmente quais pontos pertencem ao cluster 0.\n",
        "\n",
        "O gráfico resultante mostra os três clusters encontrados pelo k-means em diferentes cores, com os centroides destacados em vermelho. Essa visualização nos permite avaliar a separação dos clusters e a proximidade das amostras aos seus centroides."
      ]
    }
  ],
  "metadata": {
    "colab": {
      "include_colab_link": true,
      "provenance": []
    },
    "kernelspec": {
      "display_name": "Python 3",
      "language": "python",
      "name": "python3"
    },
    "language_info": {
      "codemirror_mode": {
        "name": "ipython",
        "version": 3
      },
      "file_extension": ".py",
      "mimetype": "text/x-python",
      "name": "python",
      "nbconvert_exporter": "python",
      "version": "3.7.0"
    }
  },
  "nbformat": 4,
  "nbformat_minor": 0
}
