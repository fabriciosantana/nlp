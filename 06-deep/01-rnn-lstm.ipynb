{
  "cells": [
    {
      "cell_type": "markdown",
      "metadata": {
        "colab_type": "text",
        "id": "view-in-github"
      },
      "source": [
        "<a href=\"https://colab.research.google.com/github/fabriciosantana/nlp/blob/main/AKCIT_NLP_M7_Colab_Unidade_1.ipynb\" target=\"_parent\"><img src=\"https://colab.research.google.com/assets/colab-badge.svg\" alt=\"Open In Colab\"/></a>"
      ]
    },
    {
      "cell_type": "markdown",
      "metadata": {
        "id": "gfevqw7Eyf76"
      },
      "source": [
        "# 1 - Objetivo:\n",
        "\n",
        "*  Neste notebook iremos ver como uma RNN e LSTM podem ser implementadas em um problema de classificação de texto. Iremos explorar suas qualidades e defeitos a partir de um conjunto de dados real."
      ]
    },
    {
      "cell_type": "markdown",
      "metadata": {
        "id": "IVMG17BbHcfs"
      },
      "source": [
        "## 2 - Organização do ambiente\n",
        "\n",
        "Primeiro iremos instalar um pacote usado para baixar conjuntos de dados do site HuggingFace.\n",
        "Após instalação e necessário reiniciar o ambiente"
      ]
    },
    {
      "cell_type": "code",
      "execution_count": null,
      "metadata": {
        "colab": {
          "base_uri": "https://localhost:8080/"
        },
        "collapsed": true,
        "id": "Bn21LFtTl_fZ",
        "outputId": "c7e04123-753b-4035-89a4-ed92bce00df5"
      },
      "outputs": [
        {
          "name": "stdout",
          "output_type": "stream",
          "text": [
            "Collecting datasets\n",
            "  Downloading datasets-2.21.0-py3-none-any.whl.metadata (21 kB)\n",
            "Collecting keras==2.15.0\n",
            "  Downloading keras-2.15.0-py3-none-any.whl.metadata (2.4 kB)\n",
            "Collecting tensorflow==2.15.0\n",
            "  Downloading tensorflow-2.15.0-cp310-cp310-manylinux_2_17_x86_64.manylinux2014_x86_64.whl.metadata (4.4 kB)\n",
            "Requirement already satisfied: absl-py>=1.0.0 in /usr/local/lib/python3.10/dist-packages (from tensorflow==2.15.0) (1.4.0)\n",
            "Requirement already satisfied: astunparse>=1.6.0 in /usr/local/lib/python3.10/dist-packages (from tensorflow==2.15.0) (1.6.3)\n",
            "Requirement already satisfied: flatbuffers>=23.5.26 in /usr/local/lib/python3.10/dist-packages (from tensorflow==2.15.0) (24.3.25)\n",
            "Requirement already satisfied: gast!=0.5.0,!=0.5.1,!=0.5.2,>=0.2.1 in /usr/local/lib/python3.10/dist-packages (from tensorflow==2.15.0) (0.6.0)\n",
            "Requirement already satisfied: google-pasta>=0.1.1 in /usr/local/lib/python3.10/dist-packages (from tensorflow==2.15.0) (0.2.0)\n",
            "Requirement already satisfied: h5py>=2.9.0 in /usr/local/lib/python3.10/dist-packages (from tensorflow==2.15.0) (3.11.0)\n",
            "Requirement already satisfied: libclang>=13.0.0 in /usr/local/lib/python3.10/dist-packages (from tensorflow==2.15.0) (18.1.1)\n",
            "Collecting ml-dtypes~=0.2.0 (from tensorflow==2.15.0)\n",
            "  Downloading ml_dtypes-0.2.0-cp310-cp310-manylinux_2_17_x86_64.manylinux2014_x86_64.whl.metadata (20 kB)\n",
            "Requirement already satisfied: numpy<2.0.0,>=1.23.5 in /usr/local/lib/python3.10/dist-packages (from tensorflow==2.15.0) (1.26.4)\n",
            "Requirement already satisfied: opt-einsum>=2.3.2 in /usr/local/lib/python3.10/dist-packages (from tensorflow==2.15.0) (3.3.0)\n",
            "Requirement already satisfied: packaging in /usr/local/lib/python3.10/dist-packages (from tensorflow==2.15.0) (24.1)\n",
            "Requirement already satisfied: protobuf!=4.21.0,!=4.21.1,!=4.21.2,!=4.21.3,!=4.21.4,!=4.21.5,<5.0.0dev,>=3.20.3 in /usr/local/lib/python3.10/dist-packages (from tensorflow==2.15.0) (3.20.3)\n",
            "Requirement already satisfied: setuptools in /usr/local/lib/python3.10/dist-packages (from tensorflow==2.15.0) (71.0.4)\n",
            "Requirement already satisfied: six>=1.12.0 in /usr/local/lib/python3.10/dist-packages (from tensorflow==2.15.0) (1.16.0)\n",
            "Requirement already satisfied: termcolor>=1.1.0 in /usr/local/lib/python3.10/dist-packages (from tensorflow==2.15.0) (2.4.0)\n",
            "Requirement already satisfied: typing-extensions>=3.6.6 in /usr/local/lib/python3.10/dist-packages (from tensorflow==2.15.0) (4.12.2)\n",
            "Collecting wrapt<1.15,>=1.11.0 (from tensorflow==2.15.0)\n",
            "  Downloading wrapt-1.14.1-cp310-cp310-manylinux_2_5_x86_64.manylinux1_x86_64.manylinux_2_17_x86_64.manylinux2014_x86_64.whl.metadata (6.7 kB)\n",
            "Requirement already satisfied: tensorflow-io-gcs-filesystem>=0.23.1 in /usr/local/lib/python3.10/dist-packages (from tensorflow==2.15.0) (0.37.1)\n",
            "Requirement already satisfied: grpcio<2.0,>=1.24.3 in /usr/local/lib/python3.10/dist-packages (from tensorflow==2.15.0) (1.64.1)\n",
            "Collecting tensorboard<2.16,>=2.15 (from tensorflow==2.15.0)\n",
            "  Downloading tensorboard-2.15.2-py3-none-any.whl.metadata (1.7 kB)\n",
            "Collecting tensorflow-estimator<2.16,>=2.15.0 (from tensorflow==2.15.0)\n",
            "  Downloading tensorflow_estimator-2.15.0-py2.py3-none-any.whl.metadata (1.3 kB)\n",
            "Requirement already satisfied: filelock in /usr/local/lib/python3.10/dist-packages (from datasets) (3.15.4)\n",
            "Collecting pyarrow>=15.0.0 (from datasets)\n",
            "  Downloading pyarrow-17.0.0-cp310-cp310-manylinux_2_28_x86_64.whl.metadata (3.3 kB)\n",
            "Collecting dill<0.3.9,>=0.3.0 (from datasets)\n",
            "  Downloading dill-0.3.8-py3-none-any.whl.metadata (10 kB)\n",
            "Requirement already satisfied: pandas in /usr/local/lib/python3.10/dist-packages (from datasets) (2.1.4)\n",
            "Requirement already satisfied: requests>=2.32.2 in /usr/local/lib/python3.10/dist-packages (from datasets) (2.32.3)\n",
            "Requirement already satisfied: tqdm>=4.66.3 in /usr/local/lib/python3.10/dist-packages (from datasets) (4.66.5)\n",
            "Collecting xxhash (from datasets)\n",
            "  Downloading xxhash-3.5.0-cp310-cp310-manylinux_2_17_x86_64.manylinux2014_x86_64.whl.metadata (12 kB)\n",
            "Collecting multiprocess (from datasets)\n",
            "  Downloading multiprocess-0.70.16-py310-none-any.whl.metadata (7.2 kB)\n",
            "Requirement already satisfied: fsspec<=2024.6.1,>=2023.1.0 in /usr/local/lib/python3.10/dist-packages (from fsspec[http]<=2024.6.1,>=2023.1.0->datasets) (2024.6.1)\n",
            "Requirement already satisfied: aiohttp in /usr/local/lib/python3.10/dist-packages (from datasets) (3.10.3)\n",
            "Requirement already satisfied: huggingface-hub>=0.21.2 in /usr/local/lib/python3.10/dist-packages (from datasets) (0.23.5)\n",
            "Requirement already satisfied: pyyaml>=5.1 in /usr/local/lib/python3.10/dist-packages (from datasets) (6.0.2)\n",
            "Requirement already satisfied: wheel<1.0,>=0.23.0 in /usr/local/lib/python3.10/dist-packages (from astunparse>=1.6.0->tensorflow==2.15.0) (0.44.0)\n",
            "Requirement already satisfied: aiohappyeyeballs>=2.3.0 in /usr/local/lib/python3.10/dist-packages (from aiohttp->datasets) (2.3.5)\n",
            "Requirement already satisfied: aiosignal>=1.1.2 in /usr/local/lib/python3.10/dist-packages (from aiohttp->datasets) (1.3.1)\n",
            "Requirement already satisfied: attrs>=17.3.0 in /usr/local/lib/python3.10/dist-packages (from aiohttp->datasets) (24.2.0)\n",
            "Requirement already satisfied: frozenlist>=1.1.1 in /usr/local/lib/python3.10/dist-packages (from aiohttp->datasets) (1.4.1)\n",
            "Requirement already satisfied: multidict<7.0,>=4.5 in /usr/local/lib/python3.10/dist-packages (from aiohttp->datasets) (6.0.5)\n",
            "Requirement already satisfied: yarl<2.0,>=1.0 in /usr/local/lib/python3.10/dist-packages (from aiohttp->datasets) (1.9.4)\n",
            "Requirement already satisfied: async-timeout<5.0,>=4.0 in /usr/local/lib/python3.10/dist-packages (from aiohttp->datasets) (4.0.3)\n",
            "Requirement already satisfied: charset-normalizer<4,>=2 in /usr/local/lib/python3.10/dist-packages (from requests>=2.32.2->datasets) (3.3.2)\n",
            "Requirement already satisfied: idna<4,>=2.5 in /usr/local/lib/python3.10/dist-packages (from requests>=2.32.2->datasets) (3.7)\n",
            "Requirement already satisfied: urllib3<3,>=1.21.1 in /usr/local/lib/python3.10/dist-packages (from requests>=2.32.2->datasets) (2.0.7)\n",
            "Requirement already satisfied: certifi>=2017.4.17 in /usr/local/lib/python3.10/dist-packages (from requests>=2.32.2->datasets) (2024.7.4)\n",
            "Requirement already satisfied: google-auth<3,>=1.6.3 in /usr/local/lib/python3.10/dist-packages (from tensorboard<2.16,>=2.15->tensorflow==2.15.0) (2.27.0)\n",
            "Requirement already satisfied: google-auth-oauthlib<2,>=0.5 in /usr/local/lib/python3.10/dist-packages (from tensorboard<2.16,>=2.15->tensorflow==2.15.0) (1.2.1)\n",
            "Requirement already satisfied: markdown>=2.6.8 in /usr/local/lib/python3.10/dist-packages (from tensorboard<2.16,>=2.15->tensorflow==2.15.0) (3.6)\n",
            "Requirement already satisfied: tensorboard-data-server<0.8.0,>=0.7.0 in /usr/local/lib/python3.10/dist-packages (from tensorboard<2.16,>=2.15->tensorflow==2.15.0) (0.7.2)\n",
            "Requirement already satisfied: werkzeug>=1.0.1 in /usr/local/lib/python3.10/dist-packages (from tensorboard<2.16,>=2.15->tensorflow==2.15.0) (3.0.3)\n",
            "Requirement already satisfied: python-dateutil>=2.8.2 in /usr/local/lib/python3.10/dist-packages (from pandas->datasets) (2.8.2)\n",
            "Requirement already satisfied: pytz>=2020.1 in /usr/local/lib/python3.10/dist-packages (from pandas->datasets) (2024.1)\n",
            "Requirement already satisfied: tzdata>=2022.1 in /usr/local/lib/python3.10/dist-packages (from pandas->datasets) (2024.1)\n",
            "Requirement already satisfied: cachetools<6.0,>=2.0.0 in /usr/local/lib/python3.10/dist-packages (from google-auth<3,>=1.6.3->tensorboard<2.16,>=2.15->tensorflow==2.15.0) (5.4.0)\n",
            "Requirement already satisfied: pyasn1-modules>=0.2.1 in /usr/local/lib/python3.10/dist-packages (from google-auth<3,>=1.6.3->tensorboard<2.16,>=2.15->tensorflow==2.15.0) (0.4.0)\n",
            "Requirement already satisfied: rsa<5,>=3.1.4 in /usr/local/lib/python3.10/dist-packages (from google-auth<3,>=1.6.3->tensorboard<2.16,>=2.15->tensorflow==2.15.0) (4.9)\n",
            "Requirement already satisfied: requests-oauthlib>=0.7.0 in /usr/local/lib/python3.10/dist-packages (from google-auth-oauthlib<2,>=0.5->tensorboard<2.16,>=2.15->tensorflow==2.15.0) (1.3.1)\n",
            "Requirement already satisfied: MarkupSafe>=2.1.1 in /usr/local/lib/python3.10/dist-packages (from werkzeug>=1.0.1->tensorboard<2.16,>=2.15->tensorflow==2.15.0) (2.1.5)\n",
            "Requirement already satisfied: pyasn1<0.7.0,>=0.4.6 in /usr/local/lib/python3.10/dist-packages (from pyasn1-modules>=0.2.1->google-auth<3,>=1.6.3->tensorboard<2.16,>=2.15->tensorflow==2.15.0) (0.6.0)\n",
            "Requirement already satisfied: oauthlib>=3.0.0 in /usr/local/lib/python3.10/dist-packages (from requests-oauthlib>=0.7.0->google-auth-oauthlib<2,>=0.5->tensorboard<2.16,>=2.15->tensorflow==2.15.0) (3.2.2)\n",
            "Downloading keras-2.15.0-py3-none-any.whl (1.7 MB)\n",
            "\u001b[2K   \u001b[90m━━━━━━━━━━━━━━━━━━━━━━━━━━━━━━━━━━━━━━━━\u001b[0m \u001b[32m1.7/1.7 MB\u001b[0m \u001b[31m17.0 MB/s\u001b[0m eta \u001b[36m0:00:00\u001b[0m\n",
            "\u001b[?25hDownloading tensorflow-2.15.0-cp310-cp310-manylinux_2_17_x86_64.manylinux2014_x86_64.whl (475.2 MB)\n",
            "\u001b[2K   \u001b[90m━━━━━━━━━━━━━━━━━━━━━━━━━━━━━━━━━━━━━━━━\u001b[0m \u001b[32m475.2/475.2 MB\u001b[0m \u001b[31m2.9 MB/s\u001b[0m eta \u001b[36m0:00:00\u001b[0m\n",
            "\u001b[?25hDownloading datasets-2.21.0-py3-none-any.whl (527 kB)\n",
            "\u001b[2K   \u001b[90m━━━━━━━━━━━━━━━━━━━━━━━━━━━━━━━━━━━━━━━━\u001b[0m \u001b[32m527.3/527.3 kB\u001b[0m \u001b[31m14.7 MB/s\u001b[0m eta \u001b[36m0:00:00\u001b[0m\n",
            "\u001b[?25hDownloading dill-0.3.8-py3-none-any.whl (116 kB)\n",
            "\u001b[2K   \u001b[90m━━━━━━━━━━━━━━━━━━━━━━━━━━━━━━━━━━━━━━━━\u001b[0m \u001b[32m116.3/116.3 kB\u001b[0m \u001b[31m8.3 MB/s\u001b[0m eta \u001b[36m0:00:00\u001b[0m\n",
            "\u001b[?25hDownloading ml_dtypes-0.2.0-cp310-cp310-manylinux_2_17_x86_64.manylinux2014_x86_64.whl (1.0 MB)\n",
            "\u001b[2K   \u001b[90m━━━━━━━━━━━━━━━━━━━━━━━━━━━━━━━━━━━━━━━━\u001b[0m \u001b[32m1.0/1.0 MB\u001b[0m \u001b[31m17.5 MB/s\u001b[0m eta \u001b[36m0:00:00\u001b[0m\n",
            "\u001b[?25hDownloading pyarrow-17.0.0-cp310-cp310-manylinux_2_28_x86_64.whl (39.9 MB)\n",
            "\u001b[2K   \u001b[90m━━━━━━━━━━━━━━━━━━━━━━━━━━━━━━━━━━━━━━━━\u001b[0m \u001b[32m39.9/39.9 MB\u001b[0m \u001b[31m14.6 MB/s\u001b[0m eta \u001b[36m0:00:00\u001b[0m\n",
            "\u001b[?25hDownloading tensorboard-2.15.2-py3-none-any.whl (5.5 MB)\n",
            "\u001b[2K   \u001b[90m━━━━━━━━━━━━━━━━━━━━━━━━━━━━━━━━━━━━━━━━\u001b[0m \u001b[32m5.5/5.5 MB\u001b[0m \u001b[31m69.8 MB/s\u001b[0m eta \u001b[36m0:00:00\u001b[0m\n",
            "\u001b[?25hDownloading tensorflow_estimator-2.15.0-py2.py3-none-any.whl (441 kB)\n",
            "\u001b[2K   \u001b[90m━━━━━━━━━━━━━━━━━━━━━━━━━━━━━━━━━━━━━━━━\u001b[0m \u001b[32m442.0/442.0 kB\u001b[0m \u001b[31m31.0 MB/s\u001b[0m eta \u001b[36m0:00:00\u001b[0m\n",
            "\u001b[?25hDownloading wrapt-1.14.1-cp310-cp310-manylinux_2_5_x86_64.manylinux1_x86_64.manylinux_2_17_x86_64.manylinux2014_x86_64.whl (77 kB)\n",
            "\u001b[2K   \u001b[90m━━━━━━━━━━━━━━━━━━━━━━━━━━━━━━━━━━━━━━━━\u001b[0m \u001b[32m77.9/77.9 kB\u001b[0m \u001b[31m6.9 MB/s\u001b[0m eta \u001b[36m0:00:00\u001b[0m\n",
            "\u001b[?25hDownloading multiprocess-0.70.16-py310-none-any.whl (134 kB)\n",
            "\u001b[2K   \u001b[90m━━━━━━━━━━━━━━━━━━━━━━━━━━━━━━━━━━━━━━━━\u001b[0m \u001b[32m134.8/134.8 kB\u001b[0m \u001b[31m7.6 MB/s\u001b[0m eta \u001b[36m0:00:00\u001b[0m\n",
            "\u001b[?25hDownloading xxhash-3.5.0-cp310-cp310-manylinux_2_17_x86_64.manylinux2014_x86_64.whl (194 kB)\n",
            "\u001b[2K   \u001b[90m━━━━━━━━━━━━━━━━━━━━━━━━━━━━━━━━━━━━━━━━\u001b[0m \u001b[32m194.1/194.1 kB\u001b[0m \u001b[31m15.4 MB/s\u001b[0m eta \u001b[36m0:00:00\u001b[0m\n",
            "\u001b[?25hInstalling collected packages: xxhash, wrapt, tensorflow-estimator, pyarrow, ml-dtypes, keras, dill, multiprocess, tensorboard, datasets, tensorflow\n",
            "  Attempting uninstall: wrapt\n",
            "    Found existing installation: wrapt 1.16.0\n",
            "    Uninstalling wrapt-1.16.0:\n",
            "      Successfully uninstalled wrapt-1.16.0\n",
            "  Attempting uninstall: pyarrow\n",
            "    Found existing installation: pyarrow 14.0.2\n",
            "    Uninstalling pyarrow-14.0.2:\n",
            "      Successfully uninstalled pyarrow-14.0.2\n",
            "  Attempting uninstall: ml-dtypes\n",
            "    Found existing installation: ml-dtypes 0.4.0\n",
            "    Uninstalling ml-dtypes-0.4.0:\n",
            "      Successfully uninstalled ml-dtypes-0.4.0\n",
            "  Attempting uninstall: keras\n",
            "    Found existing installation: keras 3.4.1\n",
            "    Uninstalling keras-3.4.1:\n",
            "      Successfully uninstalled keras-3.4.1\n",
            "  Attempting uninstall: tensorboard\n",
            "    Found existing installation: tensorboard 2.17.0\n",
            "    Uninstalling tensorboard-2.17.0:\n",
            "      Successfully uninstalled tensorboard-2.17.0\n",
            "  Attempting uninstall: tensorflow\n",
            "    Found existing installation: tensorflow 2.17.0\n",
            "    Uninstalling tensorflow-2.17.0:\n",
            "      Successfully uninstalled tensorflow-2.17.0\n",
            "\u001b[31mERROR: pip's dependency resolver does not currently take into account all the packages that are installed. This behaviour is the source of the following dependency conflicts.\n",
            "cudf-cu12 24.4.1 requires pyarrow<15.0.0a0,>=14.0.1, but you have pyarrow 17.0.0 which is incompatible.\n",
            "ibis-framework 8.0.0 requires pyarrow<16,>=2, but you have pyarrow 17.0.0 which is incompatible.\n",
            "tensorstore 0.1.64 requires ml-dtypes>=0.3.1, but you have ml-dtypes 0.2.0 which is incompatible.\n",
            "tf-keras 2.17.0 requires tensorflow<2.18,>=2.17, but you have tensorflow 2.15.0 which is incompatible.\u001b[0m\u001b[31m\n",
            "\u001b[0mSuccessfully installed datasets-2.21.0 dill-0.3.8 keras-2.15.0 ml-dtypes-0.2.0 multiprocess-0.70.16 pyarrow-17.0.0 tensorboard-2.15.2 tensorflow-2.15.0 tensorflow-estimator-2.15.0 wrapt-1.14.1 xxhash-3.5.0\n"
          ]
        }
      ],
      "source": [
        "!pip install datasets keras==2.15.0 tensorflow==2.15.0"
      ]
    },
    {
      "cell_type": "markdown",
      "metadata": {
        "id": "W6mFBIvIHprK"
      },
      "source": [
        "Neste notebook usaremos o [Keras](https://keras.io/about/), que é uma biblioteca integrada ao Tensorflow ou Pytorch e que nos permite implementar novas redes neurais de forma bastante simplificada.\n",
        "\n",
        "Seu uso é principalmente recomendado para prototipação de novas arquiteturas."
      ]
    },
    {
      "cell_type": "markdown",
      "metadata": {
        "id": "nPPEGZzPU1FC"
      },
      "source": [
        "### 3 - Imports\n",
        "Para iniciar vamos importar as bibliotecas que iremos usar no notebook\n",
        "- NLTK: Vamos usar o tokenizador de texto da biblioteca chamado punkt\n",
        "- Keras: Implementar a rede recorrente\n",
        "- gensim: Carregar Word2Vec\n",
        "\n",
        "Por fim vamos definir o seed do keras. Seed é uma forma de controlar as funções aletórias. Como ao criar uma nova rede neural ele é iniciada com pesos aleatórios o seed fixo vai garantir que todas as vezes que executarmos o notebook teremos o mesmo ponto de partida."
      ]
    },
    {
      "cell_type": "code",
      "execution_count": null,
      "metadata": {
        "colab": {
          "base_uri": "https://localhost:8080/"
        },
        "collapsed": true,
        "id": "hvZsiZ_9xRbd",
        "outputId": "47022116-9106-4661-fc3d-adcd0587b6c9"
      },
      "outputs": [
        {
          "name": "stderr",
          "output_type": "stream",
          "text": [
            "[nltk_data] Downloading package punkt to /root/nltk_data...\n",
            "[nltk_data]   Unzipping tokenizers/punkt.zip.\n"
          ]
        }
      ],
      "source": [
        "import collections\n",
        "\n",
        "import datasets\n",
        "import matplotlib.pyplot as plt\n",
        "import numpy as np\n",
        "import tqdm\n",
        "import string\n",
        "import pandas as pd\n",
        "\n",
        "from gensim.models import *\n",
        "\n",
        "import nltk\n",
        "from nltk.tokenize import word_tokenize\n",
        "nltk.download('punkt')\n",
        "\n",
        "import keras\n",
        "from keras.preprocessing.text import Tokenizer\n",
        "from keras.preprocessing.sequence import pad_sequences\n",
        "\n",
        "from gensim.models import KeyedVectors\n",
        "\n",
        "# Define a seed para garantir o mesmo resultado a cada execução\n",
        "keras.utils.set_random_seed(812)"
      ]
    },
    {
      "cell_type": "markdown",
      "metadata": {
        "id": "HJ1uT0TifVxH"
      },
      "source": [
        "## 4 - Word2Vec\n",
        "\n",
        "Aqui faremos o download do Word2Vec treinado em português.\n",
        "\n",
        "Os *embeddings* foram treinados pelo NILC (Núcleo Interinstitucional de Linguística Computacional do ICMC - USP) em um conjunto de diversos textos em português e também estão disponíveis no [link](http://nilc.icmc.usp.br/nilc/index.php/repositorio-de-word-embeddings-do-nilc).\n",
        "\n",
        "No bloco de código abaixo é feito o *download*, extração do arquivo zip e carregamento dos *embeddings* usando a biblioteca gensim."
      ]
    },
    {
      "cell_type": "code",
      "execution_count": null,
      "metadata": {
        "colab": {
          "base_uri": "https://localhost:8080/"
        },
        "collapsed": true,
        "id": "ljdFP0UzyyYh",
        "outputId": "1d0b17a1-9da2-456e-8790-d177d1b00121"
      },
      "outputs": [
        {
          "name": "stdout",
          "output_type": "stream",
          "text": [
            "--2024-08-20 12:22:32--  http://143.107.183.175:22980/download.php?file=embeddings/word2vec/skip_s100.zip\n",
            "Connecting to 143.107.183.175:22980... connected.\n",
            "HTTP request sent, awaiting response... 200 OK\n",
            "Length: 337179242 (322M) [application/octet-stream]\n",
            "Saving to: ‘w2v.zip’\n",
            "\n",
            "w2v.zip             100%[===================>] 321.56M  11.2MB/s    in 30s     \n",
            "\n",
            "2024-08-20 12:23:02 (10.7 MB/s) - ‘w2v.zip’ saved [337179242/337179242]\n",
            "\n",
            "Archive:  w2v.zip\n",
            "  inflating: skip_s100.txt           \n"
          ]
        }
      ],
      "source": [
        "# Download do arquivo\n",
        "!wget -O \"w2v.zip\" \"http://143.107.183.175:22980/download.php?file=embeddings/word2vec/skip_s100.zip\"\n",
        "# Extração do zip\n",
        "!unzip \"w2v.zip\"\n",
        "# Aqui os pesos são carregado com a biblioteca gensim\n",
        "word2vec = KeyedVectors.load_word2vec_format(\"skip_s100.txt\")\n",
        "\n",
        "# Definição do tamando dos embeddings. É necessário manter apenas 100 dimensões pois o arquivo baixado possui 100 dimensões\n",
        "EMB_DIM = 100"
      ]
    },
    {
      "cell_type": "markdown",
      "metadata": {
        "id": "GKjjbBZcgErF"
      },
      "source": [
        "## 5 - Dataset - [HateBR - Offensive Language and Hate Speech Dataset in Brazilian Portuguese](https://huggingface.co/datasets/ruanchaves/hatebr)\n",
        "\n",
        "Como conjunto de dados iremos usar um *dataset* brasileiro de classificação de discurso de ódio. O *dataset* está disponível abertamente e inclui 7000 exemplos anotados extraídos da rede social Twitter(atual X).\n",
        "\n",
        "Aqui é feito o *download* dos 2 arquivos principais, conjunto de treino e de teste."
      ]
    },
    {
      "cell_type": "code",
      "execution_count": null,
      "metadata": {
        "colab": {
          "base_uri": "https://localhost:8080/",
          "height": 313,
          "referenced_widgets": [
            "64a15caa46934c8782ff183d478238e1",
            "0cfe728a5b6d45a5a358e4d45652127a",
            "95020747aa1b47129f8df21f3e9e56c5",
            "9afa9151fb1c40d2bb8bba1be348446c",
            "3c6a629f031640c99b36260fff1caf98",
            "127ef4e6739e4695ab015c4695c906d6",
            "0f281a1262ee4c178b8859cdc3b9b316",
            "1ff687a1273e456c8209189b295c85fa",
            "1c00265477b348d5911f972fe2537562",
            "05a92f779735495ebcf577152d7ff14b",
            "99e8500b06864a2c9717ad9503e73906",
            "be2c349be8f843028665f9ee3600f2fb",
            "83af25af9fcc434596d7195798c41a5b",
            "1bc1ae0c1cc7403192d0d5dd27ae0625",
            "6dcd60c2a24f4a5e8fe5d3318bf6df58",
            "bf4d57005c6a4f65a1cff207a43d3301",
            "99f306af634a45d98ef83ff8ac7f2e83",
            "c9f03d70600c4d9491fc0d301dd2e33a",
            "08eda76a80d64d3ebbd625f6107cdb02",
            "39d69577aa274fc0a3b01fdf92e25098",
            "07feebd2a3df4f6c90940d207228bf0d",
            "4eb0566a68fd497ebb45f289069d2f23",
            "86d4cabd682a49858dc2f17092098654",
            "f9638ea21c394ab886a26133eaf118c7",
            "8844ebd3723449f8840298bb551be18c",
            "73e06dfe6c284d00b7088bd5f32c073b",
            "7db5b91795294cf8bbdcfb0c21abd9cd",
            "1e55190db4fe49d0b4b2431c955412b1",
            "107c90152ab64d678634fbf70fc04ad2",
            "ff9678c4567848e4b7e7c588b282e852",
            "d0a5ca6a18214405ac48663d70e01e5a",
            "09dc36e9a0084d0fafd650107e2120be",
            "748dbf187b0f4b25a8039b16e003da18",
            "c46c9d9a88754890965c0b04760ea97e",
            "d1ab6ade6ca546e991b2380da11b5e01",
            "10829f7f201c40f3bd95aae1477d24de",
            "430934fbcb3b46458892b02e1887a206",
            "d6666591ce6341228f0c79cdeb1dbb9e",
            "ecf1262f76b94c779a6b89d6107c5de3",
            "12874e9564b843a88d0c402942c62c9e",
            "9da19b93893a4610b204b560372d25f6",
            "a07e63d1113c4e2a98c5853bf9d21c4c",
            "bdaac038fcfb481d8fd2221200ffd11f",
            "0af1a35952744a5590aea5c55b2c0ba8",
            "cb19060b1ac9478e8f3e52a99ad6b420",
            "7dbe63ef83974a67b8a5e5e2aea72306",
            "9de899d751784765a8448f4ff5a24526",
            "0d8b268d9a5b4c90ace776fe6cdf08f4",
            "1ebab10704ea4a12afd2d02b4d7064a4",
            "f142b9885dc14d199853587dd7540572",
            "05a6cb15f51546e59c71ef51ad313c15",
            "a06a4c9f225246f49f8b185d833eb44c",
            "d5562a92e1df4da3832822bbef306c9d",
            "a0446eee158445fdb7ce78dfba65add5",
            "8de787a63e6a4b39bd5885d427d0ed17",
            "3b8da62df6934841ba4a429460df2f31",
            "9e215b19abdc44819e3394db375eed5c",
            "a92d159ce9ff4674822a01fb00628d48",
            "24b7a74c66764fa4be87e310f8212c56",
            "474ea26821d848c6af6dbee9d96cf0bb",
            "982b6fb0f4da4ce9ad19bf4f8ce3cdb7",
            "9b78b82ae91f4da580c896f98197dacc",
            "9c07a22d382c44f9a179bc0a1e318142",
            "fc20d89582524dd29ee762e9275dfeb7",
            "621d7d14bdc34ff499a53b6f04773d89",
            "42f58e5c67904b3c859134e25606c9a7"
          ]
        },
        "collapsed": true,
        "id": "MLcxNQa2lrk_",
        "outputId": "1b789661-caf4-4a68-acc0-f890c00a5884"
      },
      "outputs": [
        {
          "name": "stderr",
          "output_type": "stream",
          "text": [
            "/usr/local/lib/python3.10/dist-packages/huggingface_hub/utils/_token.py:89: UserWarning: \n",
            "The secret `HF_TOKEN` does not exist in your Colab secrets.\n",
            "To authenticate with the Hugging Face Hub, create a token in your settings tab (https://huggingface.co/settings/tokens), set it as secret in your Google Colab and restart your session.\n",
            "You will be able to reuse this secret in all of your notebooks.\n",
            "Please note that authentication is recommended but still optional to access public models or datasets.\n",
            "  warnings.warn(\n"
          ]
        },
        {
          "data": {
            "application/vnd.jupyter.widget-view+json": {
              "model_id": "64a15caa46934c8782ff183d478238e1",
              "version_major": 2,
              "version_minor": 0
            },
            "text/plain": [
              "Downloading data:   0%|          | 0.00/264k [00:00<?, ?B/s]"
            ]
          },
          "metadata": {},
          "output_type": "display_data"
        },
        {
          "data": {
            "application/vnd.jupyter.widget-view+json": {
              "model_id": "be2c349be8f843028665f9ee3600f2fb",
              "version_major": 2,
              "version_minor": 0
            },
            "text/plain": [
              "Downloading data:   0%|          | 0.00/68.2k [00:00<?, ?B/s]"
            ]
          },
          "metadata": {},
          "output_type": "display_data"
        },
        {
          "data": {
            "application/vnd.jupyter.widget-view+json": {
              "model_id": "86d4cabd682a49858dc2f17092098654",
              "version_major": 2,
              "version_minor": 0
            },
            "text/plain": [
              "Downloading data:   0%|          | 0.00/81.0k [00:00<?, ?B/s]"
            ]
          },
          "metadata": {},
          "output_type": "display_data"
        },
        {
          "data": {
            "application/vnd.jupyter.widget-view+json": {
              "model_id": "c46c9d9a88754890965c0b04760ea97e",
              "version_major": 2,
              "version_minor": 0
            },
            "text/plain": [
              "Generating train split:   0%|          | 0/4480 [00:00<?, ? examples/s]"
            ]
          },
          "metadata": {},
          "output_type": "display_data"
        },
        {
          "data": {
            "application/vnd.jupyter.widget-view+json": {
              "model_id": "cb19060b1ac9478e8f3e52a99ad6b420",
              "version_major": 2,
              "version_minor": 0
            },
            "text/plain": [
              "Generating validation split:   0%|          | 0/1120 [00:00<?, ? examples/s]"
            ]
          },
          "metadata": {},
          "output_type": "display_data"
        },
        {
          "data": {
            "application/vnd.jupyter.widget-view+json": {
              "model_id": "3b8da62df6934841ba4a429460df2f31",
              "version_major": 2,
              "version_minor": 0
            },
            "text/plain": [
              "Generating test split:   0%|          | 0/1400 [00:00<?, ? examples/s]"
            ]
          },
          "metadata": {},
          "output_type": "display_data"
        }
      ],
      "source": [
        "train_dataset, test_dataset = datasets.load_dataset(\"ruanchaves/hatebr\", split=[\"train\", \"test\"])"
      ]
    },
    {
      "cell_type": "markdown",
      "metadata": {
        "id": "9GjotBsOGYbU"
      },
      "source": [
        "O dataset possui a variável 'instagram_comments' contendo o texto, 'offensive_language' com o rótulo sobre ser ou não conteúdo ofensivo.\n",
        "As outras variáveis são rótulos mais espeçificos, como 'offensiveness_levels' que indica o nível de ofensa, e categorias de ofensas como 'homophobia', 'racism', e 'sexsim'\n",
        "\n",
        "Iremos usar nessa demonstração apenas o rótulo principal que indica linguagem ofensiva ou não."
      ]
    },
    {
      "cell_type": "code",
      "execution_count": null,
      "metadata": {
        "id": "6wObdaqTGaEs"
      },
      "outputs": [],
      "source": [
        "pd.DataFrame(train_dataset)"
      ]
    },
    {
      "cell_type": "markdown",
      "metadata": {
        "id": "3_zokq-5gu-r"
      },
      "source": [
        "## 6 - Pré-processamento\n",
        "\n",
        "Para preparar os dados para o treino é feito um pré-processamento simples.\n",
        "\n",
        "- Conversão dos textos para caixa baixa.\n",
        "- Remoção da pontuação.\n",
        "- Tokenização convertendo em uma lista de palavras.\n",
        "\n"
      ]
    },
    {
      "cell_type": "code",
      "execution_count": null,
      "metadata": {
        "id": "2O24WIyEvPaR"
      },
      "outputs": [],
      "source": [
        "train_data = []\n",
        "test_data = []\n",
        "\n",
        "# Trata conjunto de treino\n",
        "for data in train_dataset:\n",
        "  # Separa entrada (text) do rótulo (y) com base na variável 'offensive_language'\n",
        "  text = data['instagram_comments']\n",
        "  y = data['offensive_language']\n",
        "\n",
        "  # Transforma em caixa baixa\n",
        "  s = str(text).lower()\n",
        "\n",
        "  # Remove pontuação\n",
        "  table = str.maketrans({key: None for key in string.punctuation.replace(\"'\", \"\")})\n",
        "  s = s.translate(table)\n",
        "  s = s.translate(str.maketrans({\"'\" : \" \"}))\n",
        "\n",
        "  # Adiciona ao vetor de entradas tratadas\n",
        "  train_data.append([s, y])\n",
        "\n",
        "# Trata conjunto de teste\n",
        "for data in test_dataset:\n",
        "  # Separa entrada (text) do rótulo (y)\n",
        "  text = data['instagram_comments']\n",
        "  y = data['offensive_language']\n",
        "\n",
        "  # Transforma em caixa baixa\n",
        "  s = str(text).lower()\n",
        "\n",
        "  # Remove pontuação\n",
        "  table = str.maketrans({key: None for key in string.punctuation.replace(\"'\", \"\")})\n",
        "  s = s.translate(table)\n",
        "  s = s.translate(str.maketrans({\"'\" : \" \"}))\n",
        "\n",
        "  # Adiciona ao vetor de entradas tratadas\n",
        "  test_data.append([s, y])\n",
        "\n",
        "# Transforma os vetores em DataFrames\n",
        "train_data = pd.DataFrame(train_data, columns=['input', 'label'])\n",
        "test_data = pd.DataFrame(test_data, columns=['input', 'label'])\n",
        "\n",
        "# Aplica o tokenizador nas entradas (input)\n",
        "train_data['input'] = train_data['input'].apply(lambda x: word_tokenize(x))\n",
        "test_data['input'] = test_data['input'].apply(lambda x: word_tokenize(x))"
      ]
    },
    {
      "cell_type": "markdown",
      "metadata": {
        "id": "g0ohldTiIdr0"
      },
      "source": [
        "Podemos visualizar o dataframe com os dados já pré-processados em amostras. A coluna *input* possui a lista de tokens, ainda em linguagem natural, e a coluna *label* armazena a resposta de cada amostra em um tipo lógico."
      ]
    },
    {
      "cell_type": "code",
      "execution_count": null,
      "metadata": {
        "colab": {
          "base_uri": "https://localhost:8080/",
          "height": 206
        },
        "collapsed": true,
        "id": "1wabsycP4Lda",
        "outputId": "2959aea0-eef2-4685-d3cb-b99390c7abf1"
      },
      "outputs": [
        {
          "data": {
            "application/vnd.google.colaboratory.intrinsic+json": {
              "summary": "{\n  \"name\": \"train_data\",\n  \"rows\": 4480,\n  \"fields\": [\n    {\n      \"column\": \"input\",\n      \"properties\": {\n        \"dtype\": \"object\",\n        \"semantic_type\": \"\",\n        \"description\": \"\"\n      }\n    },\n    {\n      \"column\": \"label\",\n      \"properties\": {\n        \"dtype\": \"boolean\",\n        \"num_unique_values\": 2,\n        \"samples\": [\n          false,\n          true\n        ],\n        \"semantic_type\": \"\",\n        \"description\": \"\"\n      }\n    }\n  ]\n}",
              "type": "dataframe",
              "variable_name": "train_data"
            },
            "text/html": [
              "\n",
              "  <div id=\"df-14cce708-0e9b-4aaf-a6d3-c31a1770f93a\" class=\"colab-df-container\">\n",
              "    <div>\n",
              "<style scoped>\n",
              "    .dataframe tbody tr th:only-of-type {\n",
              "        vertical-align: middle;\n",
              "    }\n",
              "\n",
              "    .dataframe tbody tr th {\n",
              "        vertical-align: top;\n",
              "    }\n",
              "\n",
              "    .dataframe thead th {\n",
              "        text-align: right;\n",
              "    }\n",
              "</style>\n",
              "<table border=\"1\" class=\"dataframe\">\n",
              "  <thead>\n",
              "    <tr style=\"text-align: right;\">\n",
              "      <th></th>\n",
              "      <th>input</th>\n",
              "      <th>label</th>\n",
              "    </tr>\n",
              "  </thead>\n",
              "  <tbody>\n",
              "    <tr>\n",
              "      <th>0</th>\n",
              "      <td>[este, lixo]</td>\n",
              "      <td>True</td>\n",
              "    </tr>\n",
              "    <tr>\n",
              "      <th>1</th>\n",
              "      <td>[comunista, safada]</td>\n",
              "      <td>True</td>\n",
              "    </tr>\n",
              "    <tr>\n",
              "      <th>2</th>\n",
              "      <td>[comunista, lixo]</td>\n",
              "      <td>True</td>\n",
              "    </tr>\n",
              "    <tr>\n",
              "      <th>3</th>\n",
              "      <td>[esquerdista]</td>\n",
              "      <td>True</td>\n",
              "    </tr>\n",
              "    <tr>\n",
              "      <th>4</th>\n",
              "      <td>[oportunista, essa, corruptaagora, todos, os, ...</td>\n",
              "      <td>True</td>\n",
              "    </tr>\n",
              "  </tbody>\n",
              "</table>\n",
              "</div>\n",
              "    <div class=\"colab-df-buttons\">\n",
              "\n",
              "  <div class=\"colab-df-container\">\n",
              "    <button class=\"colab-df-convert\" onclick=\"convertToInteractive('df-14cce708-0e9b-4aaf-a6d3-c31a1770f93a')\"\n",
              "            title=\"Convert this dataframe to an interactive table.\"\n",
              "            style=\"display:none;\">\n",
              "\n",
              "  <svg xmlns=\"http://www.w3.org/2000/svg\" height=\"24px\" viewBox=\"0 -960 960 960\">\n",
              "    <path d=\"M120-120v-720h720v720H120Zm60-500h600v-160H180v160Zm220 220h160v-160H400v160Zm0 220h160v-160H400v160ZM180-400h160v-160H180v160Zm440 0h160v-160H620v160ZM180-180h160v-160H180v160Zm440 0h160v-160H620v160Z\"/>\n",
              "  </svg>\n",
              "    </button>\n",
              "\n",
              "  <style>\n",
              "    .colab-df-container {\n",
              "      display:flex;\n",
              "      gap: 12px;\n",
              "    }\n",
              "\n",
              "    .colab-df-convert {\n",
              "      background-color: #E8F0FE;\n",
              "      border: none;\n",
              "      border-radius: 50%;\n",
              "      cursor: pointer;\n",
              "      display: none;\n",
              "      fill: #1967D2;\n",
              "      height: 32px;\n",
              "      padding: 0 0 0 0;\n",
              "      width: 32px;\n",
              "    }\n",
              "\n",
              "    .colab-df-convert:hover {\n",
              "      background-color: #E2EBFA;\n",
              "      box-shadow: 0px 1px 2px rgba(60, 64, 67, 0.3), 0px 1px 3px 1px rgba(60, 64, 67, 0.15);\n",
              "      fill: #174EA6;\n",
              "    }\n",
              "\n",
              "    .colab-df-buttons div {\n",
              "      margin-bottom: 4px;\n",
              "    }\n",
              "\n",
              "    [theme=dark] .colab-df-convert {\n",
              "      background-color: #3B4455;\n",
              "      fill: #D2E3FC;\n",
              "    }\n",
              "\n",
              "    [theme=dark] .colab-df-convert:hover {\n",
              "      background-color: #434B5C;\n",
              "      box-shadow: 0px 1px 3px 1px rgba(0, 0, 0, 0.15);\n",
              "      filter: drop-shadow(0px 1px 2px rgba(0, 0, 0, 0.3));\n",
              "      fill: #FFFFFF;\n",
              "    }\n",
              "  </style>\n",
              "\n",
              "    <script>\n",
              "      const buttonEl =\n",
              "        document.querySelector('#df-14cce708-0e9b-4aaf-a6d3-c31a1770f93a button.colab-df-convert');\n",
              "      buttonEl.style.display =\n",
              "        google.colab.kernel.accessAllowed ? 'block' : 'none';\n",
              "\n",
              "      async function convertToInteractive(key) {\n",
              "        const element = document.querySelector('#df-14cce708-0e9b-4aaf-a6d3-c31a1770f93a');\n",
              "        const dataTable =\n",
              "          await google.colab.kernel.invokeFunction('convertToInteractive',\n",
              "                                                    [key], {});\n",
              "        if (!dataTable) return;\n",
              "\n",
              "        const docLinkHtml = 'Like what you see? Visit the ' +\n",
              "          '<a target=\"_blank\" href=https://colab.research.google.com/notebooks/data_table.ipynb>data table notebook</a>'\n",
              "          + ' to learn more about interactive tables.';\n",
              "        element.innerHTML = '';\n",
              "        dataTable['output_type'] = 'display_data';\n",
              "        await google.colab.output.renderOutput(dataTable, element);\n",
              "        const docLink = document.createElement('div');\n",
              "        docLink.innerHTML = docLinkHtml;\n",
              "        element.appendChild(docLink);\n",
              "      }\n",
              "    </script>\n",
              "  </div>\n",
              "\n",
              "\n",
              "<div id=\"df-1dbbbc16-fdbf-4641-b112-2b314084a04b\">\n",
              "  <button class=\"colab-df-quickchart\" onclick=\"quickchart('df-1dbbbc16-fdbf-4641-b112-2b314084a04b')\"\n",
              "            title=\"Suggest charts\"\n",
              "            style=\"display:none;\">\n",
              "\n",
              "<svg xmlns=\"http://www.w3.org/2000/svg\" height=\"24px\"viewBox=\"0 0 24 24\"\n",
              "     width=\"24px\">\n",
              "    <g>\n",
              "        <path d=\"M19 3H5c-1.1 0-2 .9-2 2v14c0 1.1.9 2 2 2h14c1.1 0 2-.9 2-2V5c0-1.1-.9-2-2-2zM9 17H7v-7h2v7zm4 0h-2V7h2v10zm4 0h-2v-4h2v4z\"/>\n",
              "    </g>\n",
              "</svg>\n",
              "  </button>\n",
              "\n",
              "<style>\n",
              "  .colab-df-quickchart {\n",
              "      --bg-color: #E8F0FE;\n",
              "      --fill-color: #1967D2;\n",
              "      --hover-bg-color: #E2EBFA;\n",
              "      --hover-fill-color: #174EA6;\n",
              "      --disabled-fill-color: #AAA;\n",
              "      --disabled-bg-color: #DDD;\n",
              "  }\n",
              "\n",
              "  [theme=dark] .colab-df-quickchart {\n",
              "      --bg-color: #3B4455;\n",
              "      --fill-color: #D2E3FC;\n",
              "      --hover-bg-color: #434B5C;\n",
              "      --hover-fill-color: #FFFFFF;\n",
              "      --disabled-bg-color: #3B4455;\n",
              "      --disabled-fill-color: #666;\n",
              "  }\n",
              "\n",
              "  .colab-df-quickchart {\n",
              "    background-color: var(--bg-color);\n",
              "    border: none;\n",
              "    border-radius: 50%;\n",
              "    cursor: pointer;\n",
              "    display: none;\n",
              "    fill: var(--fill-color);\n",
              "    height: 32px;\n",
              "    padding: 0;\n",
              "    width: 32px;\n",
              "  }\n",
              "\n",
              "  .colab-df-quickchart:hover {\n",
              "    background-color: var(--hover-bg-color);\n",
              "    box-shadow: 0 1px 2px rgba(60, 64, 67, 0.3), 0 1px 3px 1px rgba(60, 64, 67, 0.15);\n",
              "    fill: var(--button-hover-fill-color);\n",
              "  }\n",
              "\n",
              "  .colab-df-quickchart-complete:disabled,\n",
              "  .colab-df-quickchart-complete:disabled:hover {\n",
              "    background-color: var(--disabled-bg-color);\n",
              "    fill: var(--disabled-fill-color);\n",
              "    box-shadow: none;\n",
              "  }\n",
              "\n",
              "  .colab-df-spinner {\n",
              "    border: 2px solid var(--fill-color);\n",
              "    border-color: transparent;\n",
              "    border-bottom-color: var(--fill-color);\n",
              "    animation:\n",
              "      spin 1s steps(1) infinite;\n",
              "  }\n",
              "\n",
              "  @keyframes spin {\n",
              "    0% {\n",
              "      border-color: transparent;\n",
              "      border-bottom-color: var(--fill-color);\n",
              "      border-left-color: var(--fill-color);\n",
              "    }\n",
              "    20% {\n",
              "      border-color: transparent;\n",
              "      border-left-color: var(--fill-color);\n",
              "      border-top-color: var(--fill-color);\n",
              "    }\n",
              "    30% {\n",
              "      border-color: transparent;\n",
              "      border-left-color: var(--fill-color);\n",
              "      border-top-color: var(--fill-color);\n",
              "      border-right-color: var(--fill-color);\n",
              "    }\n",
              "    40% {\n",
              "      border-color: transparent;\n",
              "      border-right-color: var(--fill-color);\n",
              "      border-top-color: var(--fill-color);\n",
              "    }\n",
              "    60% {\n",
              "      border-color: transparent;\n",
              "      border-right-color: var(--fill-color);\n",
              "    }\n",
              "    80% {\n",
              "      border-color: transparent;\n",
              "      border-right-color: var(--fill-color);\n",
              "      border-bottom-color: var(--fill-color);\n",
              "    }\n",
              "    90% {\n",
              "      border-color: transparent;\n",
              "      border-bottom-color: var(--fill-color);\n",
              "    }\n",
              "  }\n",
              "</style>\n",
              "\n",
              "  <script>\n",
              "    async function quickchart(key) {\n",
              "      const quickchartButtonEl =\n",
              "        document.querySelector('#' + key + ' button');\n",
              "      quickchartButtonEl.disabled = true;  // To prevent multiple clicks.\n",
              "      quickchartButtonEl.classList.add('colab-df-spinner');\n",
              "      try {\n",
              "        const charts = await google.colab.kernel.invokeFunction(\n",
              "            'suggestCharts', [key], {});\n",
              "      } catch (error) {\n",
              "        console.error('Error during call to suggestCharts:', error);\n",
              "      }\n",
              "      quickchartButtonEl.classList.remove('colab-df-spinner');\n",
              "      quickchartButtonEl.classList.add('colab-df-quickchart-complete');\n",
              "    }\n",
              "    (() => {\n",
              "      let quickchartButtonEl =\n",
              "        document.querySelector('#df-1dbbbc16-fdbf-4641-b112-2b314084a04b button');\n",
              "      quickchartButtonEl.style.display =\n",
              "        google.colab.kernel.accessAllowed ? 'block' : 'none';\n",
              "    })();\n",
              "  </script>\n",
              "</div>\n",
              "\n",
              "    </div>\n",
              "  </div>\n"
            ],
            "text/plain": [
              "                                               input  label\n",
              "0                                       [este, lixo]   True\n",
              "1                                [comunista, safada]   True\n",
              "2                                  [comunista, lixo]   True\n",
              "3                                      [esquerdista]   True\n",
              "4  [oportunista, essa, corruptaagora, todos, os, ...   True"
            ]
          },
          "execution_count": 6,
          "metadata": {},
          "output_type": "execute_result"
        }
      ],
      "source": [
        "train_data.head()"
      ]
    },
    {
      "cell_type": "markdown",
      "metadata": {
        "id": "CuoOF-ICiLZs"
      },
      "source": [
        "## 7 - Preparo dos dados\n",
        "\n",
        "Agora precisamos converter as palavras em identificadores inteiros, pois as bibliotecas de redes neurais possuem implementadas camadas que fazem o mapeamento dos *embeddings* a partir de inteiros. Essa formatação torna o código mais eficiente pois representamos a palavra da menor forma possível e apenas no momento do *feedfoward* da rede que ela será substítuida por um vetor denso como o de um Word2Vec."
      ]
    },
    {
      "cell_type": "code",
      "execution_count": null,
      "metadata": {
        "id": "HhF1m9fi8zDL"
      },
      "outputs": [],
      "source": [
        "# Identifica todas as palavras únicas do dataset de treino\n",
        "all_training_words = [word for tokens in train_data[\"input\"] for word in tokens]\n",
        "TRAINING_VOCAB = sorted(list(set(all_training_words)))"
      ]
    },
    {
      "cell_type": "code",
      "execution_count": null,
      "metadata": {
        "colab": {
          "base_uri": "https://localhost:8080/"
        },
        "id": "Bm6IgkTH8vf8",
        "outputId": "48eb5d6c-44e1-48d3-9946-58314df38db0"
      },
      "outputs": [
        {
          "name": "stdout",
          "output_type": "stream",
          "text": [
            "Número de palavras únicas 9221.\n"
          ]
        }
      ],
      "source": [
        "# Definir o tamanho máximo das sentenças\n",
        "MAX_LEN = 30\n",
        "\n",
        "# Aqui iremos ensinar o Tokenizer a mapear as palavras do dataset para que ele aprenda a quebrar as palavras em tokens\n",
        "tokenizer = Tokenizer(num_words=len(TRAINING_VOCAB), lower=True, char_level=False)\n",
        "tokenizer.fit_on_texts(train_data[\"input\"].tolist())\n",
        "\n",
        "# Aqui convertemos o conjunto de treino e teste para inteiros\n",
        "training_sequences = tokenizer.texts_to_sequences(train_data[\"input\"].tolist())\n",
        "test_sequences = tokenizer.texts_to_sequences(test_data[\"input\"].tolist())\n",
        "\n",
        "# Por fim vamos fazer o padding que é o processo de adicionar 0s na frase para torna todas em uma lista do mesmo tamanho.\n",
        "# A referência usada é o MAX_LEN, frases maiores que MAX_LEN são cortadas e assim terão no máximo 30 tokens, enquanto frases menores também ficaram com 30 por conta do padding.\n",
        "train_hate_data = pad_sequences(training_sequences, maxlen=MAX_LEN)\n",
        "test_hate_data = pad_sequences(test_sequences, maxlen=MAX_LEN)\n",
        "\n",
        "# Agora precisamos ver qual inteiro está sendo usado para cada palavra e  usar isto para ajustar o mapeamento do Word2vec\n",
        "train_word_index = tokenizer.word_index\n",
        "print('Número de palavras únicas %s.' % len(train_word_index))"
      ]
    },
    {
      "cell_type": "markdown",
      "metadata": {
        "id": "d0Q0DFocjUTv"
      },
      "source": [
        "Após definir o mapeamento das palavras precisamos criar a matriz de pesos a partir do Word2Vec treinado. Para isso vamos pegar cada uma das palavras do vocabulário e usar o objeto do Word2Vec para identificar o vetor denso que a representa.\n",
        "\n",
        "Caso a palavra não tenha vetor referente será adicionado um vetor aleatório. Isso é necessário porque o *dataset* possui alguns emojis, neologismos e termos usados no Twitter conforme exemplos apresentados pelo *print*."
      ]
    },
    {
      "cell_type": "code",
      "execution_count": null,
      "metadata": {
        "colab": {
          "base_uri": "https://localhost:8080/"
        },
        "collapsed": true,
        "id": "vhs5yc0-96Y7",
        "outputId": "8e10a81e-1bf3-44c1-8491-3b4eced01635"
      },
      "outputs": [
        {
          "name": "stdout",
          "output_type": "stream",
          "text": [
            "Palavra não encontrada:  joicehasselmannoficial\n",
            "Palavra não encontrada:  globolixo\n",
            "Palavra não encontrada:  “\n",
            "Palavra não encontrada:  ”\n",
            "Palavra não encontrada:  à\n",
            "Palavra não encontrada:  👏👏👏\n",
            "Palavra não encontrada:  👏👏👏👏\n",
            "Palavra não encontrada:  🇧🇷\n",
            "Palavra não encontrada:  😂😂😂\n",
            "Palavra não encontrada:  2022\n",
            "Palavra não encontrada:  👏👏\n",
            "Palavra não encontrada:  🤮\n",
            "Palavra não encontrada:  👏👏👏👏👏\n",
            "Palavra não encontrada:  bolsonarosp\n",
            "(9222, 100)\n"
          ]
        }
      ],
      "source": [
        "# Cria matriz numpy para receber os pesos com base no total de palavras no dicionário e tamanho dos embeddings (dicionario, embs)\n",
        "train_embedding_weights = np.zeros((len(train_word_index)+1, EMB_DIM))\n",
        "\n",
        "# Para cada palavra no dicionário pega o vetor correspondente\n",
        "for word,index in train_word_index.items():\n",
        "  if word in word2vec:\n",
        "    # Se houver vetor pré-treinado o capturamos do objeto word2vec\n",
        "    train_embedding_weights[index,:] = word2vec[word]\n",
        "  else:\n",
        "    # Aqui é para caso a palavra não existe nos vetores pré-treinados. isso ocorre com neologismos e emojis\n",
        "    if(index < 500):\n",
        "      # Dentre as 500 primeiras palavras avaliadas imprimimos as inexistentes para demonstração\n",
        "      print(\"Palavra não encontrada: \", word)\n",
        "\n",
        "    # Caso não tenhamos vetor pré-treinado será usado um vetor aleatório\n",
        "    train_embedding_weights[index,:] = np.random.rand(EMB_DIM)\n",
        "print(train_embedding_weights.shape)"
      ]
    },
    {
      "cell_type": "markdown",
      "metadata": {
        "id": "3Lm_7f1JzHNr"
      },
      "source": [
        "Checando o *dataset* podemos ver os estágios de pré-processamento. Inicialmente a lista de tokens conhecidos, depois uma sequência de identificadores dos tokens e por fim uma sequência de inteiros com comprimento fixo."
      ]
    },
    {
      "cell_type": "code",
      "execution_count": null,
      "metadata": {
        "colab": {
          "base_uri": "https://localhost:8080/"
        },
        "collapsed": true,
        "id": "U1kZxAw0lkMO",
        "outputId": "d72b34dc-b577-4d47-9e89-98f6d792bde0"
      },
      "outputs": [
        {
          "data": {
            "text/plain": [
              "['este', 'lixo']"
            ]
          },
          "execution_count": 10,
          "metadata": {},
          "output_type": "execute_result"
        }
      ],
      "source": [
        "train_data[\"input\"][0]"
      ]
    },
    {
      "cell_type": "code",
      "execution_count": null,
      "metadata": {
        "colab": {
          "base_uri": "https://localhost:8080/"
        },
        "collapsed": true,
        "id": "wdCPCVc6-jUj",
        "outputId": "9a8367f8-3241-49dc-be83-34934dbbe04f"
      },
      "outputs": [
        {
          "data": {
            "text/plain": [
              "[98, 80]"
            ]
          },
          "execution_count": 11,
          "metadata": {},
          "output_type": "execute_result"
        }
      ],
      "source": [
        "training_sequences[0]"
      ]
    },
    {
      "cell_type": "code",
      "execution_count": null,
      "metadata": {
        "colab": {
          "base_uri": "https://localhost:8080/"
        },
        "collapsed": true,
        "id": "Un_jD8h_-oPr",
        "outputId": "b58d4d37-d7c3-40f1-b603-ce61a6588614"
      },
      "outputs": [
        {
          "data": {
            "text/plain": [
              "array([ 0,  0,  0,  0,  0,  0,  0,  0,  0,  0,  0,  0,  0,  0,  0,  0,  0,\n",
              "        0,  0,  0,  0,  0,  0,  0,  0,  0,  0,  0, 98, 80], dtype=int32)"
            ]
          },
          "execution_count": 12,
          "metadata": {},
          "output_type": "execute_result"
        }
      ],
      "source": [
        "train_hate_data[0]"
      ]
    },
    {
      "cell_type": "markdown",
      "metadata": {
        "id": "ESWcZ5jIdqdx"
      },
      "source": [
        "## 8 - RNN\n",
        "\n",
        "Agora iremos implementar um modelo de RNN simples usando o Keras.\n",
        "\n",
        "Neste modelo temos:\n",
        "- Uma camada *Embedding* que é usada para receber a matriz dos vetores do Word2Vec;\n",
        "- Uma camada *Simple*RNN que é uma RNN de Elman simples com estado interno *h* de tamanho 8;\n",
        "- Uma camada Dense com um neurônio que irá pegar o estado interno final após ler a sentença e irá responder um valor entre 0 e 1 para classificar a sentença.\n",
        "O Modelo é compilado e será otimizado usando a entropia cruzada como função de erro e acurácia como métrica a ser acompanhada.\n",
        "\n",
        "Documentação do Keras:\n",
        "- [Modelo Sequential](https://keras.io/guides/sequential_model/)\n",
        "- [Camadas disponíveis](https://keras.io/api/layers/)"
      ]
    },
    {
      "cell_type": "code",
      "execution_count": null,
      "metadata": {
        "id": "UIKPTiTw-4Mr"
      },
      "outputs": [],
      "source": [
        "from keras.models import Sequential\n",
        "from keras.layers import Embedding, SimpleRNN, Dense\n",
        "\n",
        "# O objeto Sequential do keras permite alinhar uma sequência de camadas que são incluídas com o método .add()\n",
        "# Link para documentação do modelo Sequential: keras.io/guides/sequential_model/\n",
        "model = Sequential()\n",
        "# Aqui adicionamos uma camada Embedding. Ela irá transformar índices (como 1, 34 ou 182) em vetores densos.\n",
        "model.add(Embedding(input_dim=len(train_word_index)+1,  # Total de palavras únicas\n",
        "                    output_dim=EMB_DIM,                 # Dimensões do vetor\n",
        "                    input_length=MAX_LEN,               # Tamanho máximo\n",
        "                    weights=[train_embedding_weights],  # Pesos para inicialização (matriz que baixamos do word2vec treinado)\n",
        "                    trainable=False))                   # Define se a camada será treinada junto com a rede.\n",
        "                                                        # Aqui definimos falso para manter a representação incial, mas é interessante também permitir que seja retreinada\n",
        "\n",
        "model.add(SimpleRNN(8))                                 # Adicionamos uma camada de RNN simples com estado h de tamanho 8\n",
        "model.add(Dense(1, activation='sigmoid'))               # Uma camada Dense, que é uma camada de MLP, com saída 1.\n",
        "                                                        # No Keras não definimos o número de entradas porque ele irá pegar automáticamente que a camada anterior tem 8 saídas e irá construir os 8 pesos para tratar as entradas\n",
        "\n",
        "# Aqui o modelo é compilado. Isso significa pegar as específicações e construir os pesos.\n",
        "# No momento de compilar definimos o otimizador (adam), a função de perda (entropia cruzada para problemas binários, uma função bem comum e muito eficiente) e a métrica a ser acompanhada (acurácia)\n",
        "model.compile(optimizer='adam', loss='binary_crossentropy', metrics=['accuracy'])\n"
      ]
    },
    {
      "cell_type": "markdown",
      "metadata": {
        "id": "zu79pfH3eY8j"
      },
      "source": [
        "Aqui executamos o treino do modelo com 10 épocas e *batch* de 32 sentenças. O treino possui o processo de validação feito com 20% das sentenças de treino que serão separadas para teste a cada época.\n",
        "\n",
        "- Época é o nome que damos a uma volta inteira pelo conjunto de dados. Dessa forma, 10 épocas significam que cada exemplo, ao fim, será usado 10 vezes para ajustar a rede.\n",
        "\n",
        "- *Batchs* são lotes de dados. Ao invés de usarmos o *dataset* todo, nós processamos 32 exemplos, calculamos o erro e já fazemos o ajuste dos pesos com o *backpropagation* e a resposta do *batch*.\n",
        "\n",
        "\n",
        " **Exercício 1**: Tente alterar os parâmetros de *batch* e épocas para ver o comportamento do treinamento mudar."
      ]
    },
    {
      "cell_type": "code",
      "execution_count": null,
      "metadata": {
        "colab": {
          "base_uri": "https://localhost:8080/"
        },
        "collapsed": true,
        "id": "iXz5FEl3AFi9",
        "outputId": "4e357cb7-da01-411a-e325-11f038235f68"
      },
      "outputs": [
        {
          "name": "stdout",
          "output_type": "stream",
          "text": [
            "Epoch 1/10\n",
            "112/112 [==============================] - 6s 30ms/step - loss: 0.6564 - accuracy: 0.6138 - val_loss: 0.8921 - val_accuracy: 0.3471\n",
            "Epoch 2/10\n",
            "112/112 [==============================] - 3s 30ms/step - loss: 0.5705 - accuracy: 0.7104 - val_loss: 0.9703 - val_accuracy: 0.3248\n",
            "Epoch 3/10\n",
            "112/112 [==============================] - 3s 24ms/step - loss: 0.5042 - accuracy: 0.7598 - val_loss: 1.0057 - val_accuracy: 0.3739\n",
            "Epoch 4/10\n",
            "112/112 [==============================] - 2s 17ms/step - loss: 0.4604 - accuracy: 0.7927 - val_loss: 0.8647 - val_accuracy: 0.5424\n",
            "Epoch 5/10\n",
            "112/112 [==============================] - 2s 16ms/step - loss: 0.4333 - accuracy: 0.8069 - val_loss: 1.0125 - val_accuracy: 0.5011\n",
            "Epoch 6/10\n",
            "112/112 [==============================] - 2s 16ms/step - loss: 0.4188 - accuracy: 0.8167 - val_loss: 0.9294 - val_accuracy: 0.5424\n",
            "Epoch 7/10\n",
            "112/112 [==============================] - 2s 15ms/step - loss: 0.4090 - accuracy: 0.8287 - val_loss: 1.0386 - val_accuracy: 0.4844\n",
            "Epoch 8/10\n",
            "112/112 [==============================] - 2s 15ms/step - loss: 0.4016 - accuracy: 0.8253 - val_loss: 0.8261 - val_accuracy: 0.6261\n",
            "Epoch 9/10\n",
            "112/112 [==============================] - 3s 24ms/step - loss: 0.3927 - accuracy: 0.8242 - val_loss: 0.8943 - val_accuracy: 0.5926\n",
            "Epoch 10/10\n",
            "112/112 [==============================] - 3s 27ms/step - loss: 0.3885 - accuracy: 0.8334 - val_loss: 1.0879 - val_accuracy: 0.4788\n"
          ]
        },
        {
          "data": {
            "text/plain": [
              "<keras.src.callbacks.History at 0x7fa5f4d4fc70>"
            ]
          },
          "execution_count": 14,
          "metadata": {},
          "output_type": "execute_result"
        }
      ],
      "source": [
        "model.fit(train_hate_data, train_data['label'], epochs=10, batch_size=32, validation_split=0.2)"
      ]
    },
    {
      "cell_type": "markdown",
      "metadata": {
        "id": "fm0x1756iv0B"
      },
      "source": [
        "Ao fim podemos ver o erro do modelo (loss) e seu desempenho."
      ]
    },
    {
      "cell_type": "markdown",
      "metadata": {
        "id": "PkSfqe2nFRmW"
      },
      "source": [
        "Se pegarmos um exemplo do conjunto de teste podemos testar nossa RNN ao realizar uma predição."
      ]
    },
    {
      "cell_type": "code",
      "execution_count": null,
      "metadata": {
        "colab": {
          "base_uri": "https://localhost:8080/",
          "height": 147
        },
        "collapsed": true,
        "id": "Ywwf1DD6Edk7",
        "outputId": "9bfbc663-083e-48d0-b0d6-9a4b87e8f999"
      },
      "outputs": [
        {
          "data": {
            "text/html": [
              "<div>\n",
              "<style scoped>\n",
              "    .dataframe tbody tr th:only-of-type {\n",
              "        vertical-align: middle;\n",
              "    }\n",
              "\n",
              "    .dataframe tbody tr th {\n",
              "        vertical-align: top;\n",
              "    }\n",
              "\n",
              "    .dataframe thead th {\n",
              "        text-align: right;\n",
              "    }\n",
              "</style>\n",
              "<table border=\"1\" class=\"dataframe\">\n",
              "  <thead>\n",
              "    <tr style=\"text-align: right;\">\n",
              "      <th></th>\n",
              "      <th>30</th>\n",
              "    </tr>\n",
              "  </thead>\n",
              "  <tbody>\n",
              "    <tr>\n",
              "      <th>input</th>\n",
              "      <td>[realmente, uma, verdadeira, hipócrita]</td>\n",
              "    </tr>\n",
              "    <tr>\n",
              "      <th>label</th>\n",
              "      <td>True</td>\n",
              "    </tr>\n",
              "  </tbody>\n",
              "</table>\n",
              "</div><br><label><b>dtype:</b> object</label>"
            ],
            "text/plain": [
              "input    [realmente, uma, verdadeira, hipócrita]\n",
              "label                                       True\n",
              "Name: 30, dtype: object"
            ]
          },
          "execution_count": 15,
          "metadata": {},
          "output_type": "execute_result"
        }
      ],
      "source": [
        "test_data.iloc[30]"
      ]
    },
    {
      "cell_type": "code",
      "execution_count": null,
      "metadata": {
        "colab": {
          "base_uri": "https://localhost:8080/"
        },
        "collapsed": true,
        "id": "JhpNL53XD8eE",
        "outputId": "7718be9a-e3f8-47c9-b9c2-19e1073fdd13"
      },
      "outputs": [
        {
          "name": "stdout",
          "output_type": "stream",
          "text": [
            "1/1 [==============================] - 0s 19ms/step\n"
          ]
        },
        {
          "data": {
            "text/plain": [
              "array([[0.8587818]], dtype=float32)"
            ]
          },
          "execution_count": 17,
          "metadata": {},
          "output_type": "execute_result"
        }
      ],
      "source": [
        "model.predict(test_hate_data[30].reshape(1, -1))"
      ]
    },
    {
      "cell_type": "markdown",
      "metadata": {
        "id": "9mWa_UubFlRF"
      },
      "source": [
        "Nesse caso a saída esperada é um valor maior que 0.5, que representa uma alta probabilidade de ser um caso de discurso de ódio.\n",
        "\n",
        "**Exercício 2**: Tente executar a predição de alguns outros exemplos do conjunto de teste."
      ]
    },
    {
      "cell_type": "markdown",
      "metadata": {
        "id": "j5Hp7Y-l1eiq"
      },
      "source": [
        "## 9 - Visualização do estado interno\n",
        "\n",
        "Agora iremos fazer um experimento, vamos alterar a rede para que a camada RNN retorne todos os estados internos e não apenas o último"
      ]
    },
    {
      "cell_type": "code",
      "execution_count": null,
      "metadata": {
        "id": "qDK2QeNLFv5s"
      },
      "outputs": [],
      "source": [
        "model.layers[1].return_sequences = True"
      ]
    },
    {
      "cell_type": "markdown",
      "metadata": {
        "id": "8o3_tGk_1tik"
      },
      "source": [
        "Aqui criamos uma função com o Keras que irá passar as entradas apenas até a RNN (get_h_state) e outra que irá pegar cada um destes estados internos pela camada Dense final do modelo (get_output).\n",
        "\n",
        "Perceba que aqui não iremos realizar nenhum treinamento. O objetivo é apenas de visualizar a saída das camadas interiores do modelo já treinado anteriormente."
      ]
    },
    {
      "cell_type": "code",
      "execution_count": null,
      "metadata": {
        "id": "E-cOACOrGQON"
      },
      "outputs": [],
      "source": [
        "from keras import backend as K\n",
        "\n",
        "# with a Sequential model\n",
        "get_h_state = K.function([model.layers[0].input],\n",
        "                                  [model.layers[1].output])\n",
        "layer_output = get_h_state(test_hate_data[30].reshape(1, -1))\n",
        "\n",
        "get_output = K.function([model.layers[2].input],\n",
        "                                  [model.layers[-1].output])\n",
        "model_outputs = get_output(layer_output[0][0])[0].reshape(30)"
      ]
    },
    {
      "cell_type": "markdown",
      "metadata": {
        "id": "Sr5RLJeQ2P4r"
      },
      "source": [
        "Agora iremos usar as duas funções para visualizar as mudanças do estado interno ao ler cada uma das entradas de um dos exemplos de teste.\n",
        "\n",
        "Abaixo está também a saída da rede a cada palavra, assim podemos ver como a resposta final é construída ao ler a sentença."
      ]
    },
    {
      "cell_type": "code",
      "execution_count": null,
      "metadata": {
        "colab": {
          "base_uri": "https://localhost:8080/",
          "height": 573
        },
        "collapsed": true,
        "id": "x-0JBpYDHdkH",
        "outputId": "d6254ebc-bb09-4f33-94cf-b2bddb564083"
      },
      "outputs": [
        {
          "data": {
            "image/png": "[encoded data removed]",
            "text/plain": [
              "<Figure size 1500x500 with 2 Axes>"
            ]
          },
          "metadata": {},
          "output_type": "display_data"
        }
      ],
      "source": [
        "def plot_internal_states(states, outputs, inputs):\n",
        "    plt.figure(figsize=(15, 5))\n",
        "    plt.imshow(states[0].T, aspect='auto', cmap='bwr')\n",
        "    plt.colorbar(label='Magnitude do Estado Interno')\n",
        "    plt.xlabel('Entradas')\n",
        "    plt.ylabel('Dimensões de H')\n",
        "    plt.title('Estados internos da RNN a cada entrada')\n",
        "\n",
        "    # Marcar os inputs no eixo x\n",
        "    plt.xticks(ticks=np.arange(len(inputs)), labels=inputs, rotation=90)\n",
        "\n",
        "    for t in range(outputs.shape[0]):\n",
        "        plt.text(t, 10, f'{outputs[t]:.1f}', ha='center', va='center', color='black', fontsize=12, bbox=dict(facecolor='white', edgecolor='none', pad=0.5))\n",
        "\n",
        "    plt.show()\n",
        "\n",
        "plot_internal_states(layer_output[0], model_outputs, tokenizer.sequences_to_texts(test_hate_data[30].reshape(-1, 1)))"
      ]
    },
    {
      "cell_type": "markdown",
      "metadata": {
        "id": "HdVQya7p2uxp"
      },
      "source": [
        "Visualizar estados internos é uma tarefa complexa. Não é possível compreender exatamente como se comporta cada dimensão de um estado de uma rede já treinada, mas como estamos tratando de um problema binário é interessante visualizar a mudança nos estados a cada para inserida.\n",
        "\n",
        "Podemos ver que ao ler a palavra \"hipócrita\" a rede passa a ter significativas mudanças no estado interno e assume uma saída positiva, pois considerando as palavras anteriores realmente ainda não era possível determinar como positivo ou negativo. Fica claro que a palavra se torna um elemento chave para a interpretação da rede.\n",
        "\n",
        "No bloco abaixo temos uma caixa de entrada dinâmica onde podemos avaliar frases originais que não estão do dataset e visualizar o comportamento e saída da RNN ao processar a entrada.\n",
        "\n",
        "No exemplo já inserido podemos ver que a palavra \"safado\" ao ocorrer antes já define um estado positivo e a \"hipócrita\" apenas a reforça."
      ]
    },
    {
      "cell_type": "code",
      "execution_count": null,
      "metadata": {
        "colab": {
          "base_uri": "https://localhost:8080/",
          "height": 573
        },
        "collapsed": true,
        "id": "IdNlhoRRMUUz",
        "outputId": "150d8869-e545-43dc-e19a-0174878a7274"
      },
      "outputs": [
        {
          "data": {
            "image/png": "[encoded data removed]",
            "text/plain": [
              "<Figure size 1500x500 with 2 Axes>"
            ]
          },
          "metadata": {},
          "output_type": "display_data"
        }
      ],
      "source": [
        "# @title Insira algum texto de exemplo para ver a dinâmica dos estados internos\n",
        "input = \"Esse candidato é um safado e hipócrita, não sei por que votam nele\" # @param {type:\"string\"}\n",
        "\n",
        "s = str(input).lower()\n",
        "table = str.maketrans({key: None for key in string.punctuation.replace(\"'\", \"\")})\n",
        "s = s.translate(table)\n",
        "s = s.translate(str.maketrans({\"'\" : \" \"}))\n",
        "input_tokens = word_tokenize(s)\n",
        "input_tokenized = tokenizer.texts_to_sequences([input_tokens])\n",
        "input_padded = pad_sequences(input_tokenized, maxlen=MAX_LEN)\n",
        "\n",
        "layer_output = get_h_state(input_padded.reshape(1, -1))\n",
        "model_outputs = get_output(layer_output[0][0])[0].reshape(30)\n",
        "plot_internal_states(layer_output[0], model_outputs, tokenizer.sequences_to_texts(input_padded.reshape(-1, 1)))"
      ]
    },
    {
      "cell_type": "markdown",
      "metadata": {
        "id": "1-GKQjij3xdv"
      },
      "source": [
        "Agora iremos treinar uma LSTM no mesmo problema em questão.\n",
        "Usando Keras a única diferença é trocar a camada SimpleRNN por LSTM. Assim iremos criar uma camada LSTM com estado interno de tamanho 8."
      ]
    },
    {
      "cell_type": "code",
      "execution_count": null,
      "metadata": {
        "colab": {
          "base_uri": "https://localhost:8080/"
        },
        "collapsed": true,
        "id": "Gm-RhRaSAV5E",
        "outputId": "f1a0796f-7613-4048-cbe2-7b6997c0482b"
      },
      "outputs": [
        {
          "name": "stdout",
          "output_type": "stream",
          "text": [
            "Epoch 1/10\n",
            "112/112 [==============================] - 5s 9ms/step - loss: 0.6411 - accuracy: 0.6172 - val_loss: 0.9026 - val_accuracy: 0.1931\n",
            "Epoch 2/10\n",
            "112/112 [==============================] - 1s 6ms/step - loss: 0.5513 - accuracy: 0.7363 - val_loss: 0.9680 - val_accuracy: 0.4018\n",
            "Epoch 3/10\n",
            "112/112 [==============================] - 1s 5ms/step - loss: 0.4507 - accuracy: 0.8114 - val_loss: 1.0100 - val_accuracy: 0.4609\n",
            "Epoch 4/10\n",
            "112/112 [==============================] - 1s 5ms/step - loss: 0.4008 - accuracy: 0.8354 - val_loss: 1.0376 - val_accuracy: 0.4743\n",
            "Epoch 5/10\n",
            "112/112 [==============================] - 1s 6ms/step - loss: 0.3738 - accuracy: 0.8451 - val_loss: 1.0801 - val_accuracy: 0.5033\n",
            "Epoch 6/10\n",
            "112/112 [==============================] - 1s 5ms/step - loss: 0.3563 - accuracy: 0.8502 - val_loss: 0.9644 - val_accuracy: 0.5580\n",
            "Epoch 7/10\n",
            "112/112 [==============================] - 1s 5ms/step - loss: 0.3402 - accuracy: 0.8599 - val_loss: 1.0217 - val_accuracy: 0.5123\n",
            "Epoch 8/10\n",
            "112/112 [==============================] - 1s 5ms/step - loss: 0.3288 - accuracy: 0.8644 - val_loss: 0.9873 - val_accuracy: 0.5614\n",
            "Epoch 9/10\n",
            "112/112 [==============================] - 1s 6ms/step - loss: 0.3200 - accuracy: 0.8638 - val_loss: 0.7752 - val_accuracy: 0.6719\n",
            "Epoch 10/10\n",
            "112/112 [==============================] - 1s 5ms/step - loss: 0.3068 - accuracy: 0.8783 - val_loss: 1.0290 - val_accuracy: 0.5781\n"
          ]
        },
        {
          "data": {
            "text/plain": [
              "<keras.src.callbacks.History at 0x7fa57ec293f0>"
            ]
          },
          "execution_count": 20,
          "metadata": {},
          "output_type": "execute_result"
        }
      ],
      "source": [
        "from keras.layers import LSTM\n",
        "\n",
        "\n",
        "model_lstm = Sequential()\n",
        "model_lstm.add(Embedding(input_dim=len(train_word_index)+1,\n",
        "                    output_dim=EMB_DIM,\n",
        "                    input_length=MAX_LEN,\n",
        "                    weights=[train_embedding_weights],\n",
        "                    trainable=False))\n",
        "model_lstm.add(LSTM(8))\n",
        "model_lstm.add(Dense(1, activation='sigmoid'))\n",
        "\n",
        "model_lstm.compile(optimizer='adam', loss='binary_crossentropy', metrics=['accuracy'])\n",
        "\n",
        "model_lstm.fit(train_hate_data, train_data['label'], epochs=10, batch_size=32, validation_split=0.2)"
      ]
    },
    {
      "cell_type": "markdown",
      "metadata": {
        "id": "X3V6-QHgwsFU"
      },
      "source": [
        "A LSTM irá provavelmente obter um melhor resultado. Porém, para realmente conseguir um resultado superior o ideal é aumentar o número de épocas e o tamanho do estado interno para fazer com que a rede aprenda melhor sobre os dados.\n",
        "\n",
        "**Exercício 3:** Tente alterar esses parâmetros de treino para alcançar melhores resultados.\n",
        "\n",
        "**Exercício 4:** Para explorar melhor o comportamento das RNNs que tal tentar refazer o todo o processo com algum dos diferentes rótulos que o *dataset* fornece.\n"
      ]
    },
    {
      "cell_type": "markdown",
      "metadata": {
        "id": "MhCiCbxXGt3M"
      },
      "source": [
        "---\n",
        "**Desafio:** Implemente uma arquitetura com múltiplas camadas para alcançar um desempenho superior. Para isso leia a documentação da ferramenta Sequential e tente adicionar mais camadas recorrentes ou Dense.\n",
        "\n",
        "https://keras.io/guides/sequential_model/"
      ]
    },
    {
      "cell_type": "markdown",
      "metadata": {
        "id": "0o9sMlFFojNo"
      },
      "source": [
        "# Referências\n",
        "- Keras: https://keras.io\n",
        "- RNN no Keras: https://keras.io/api/layers/recurrent_layers/simple_rnn/\n",
        "- LSTM no Keras: https://keras.io/api/layers/recurrent_layers/lstm/\n",
        "- Dataset de linguagem ofensiva: https://github.com/franciellevargas/MOL\n"
      ]
    }
  ],
  "metadata": {
    "accelerator": "GPU",
    "colab": {
      "gpuType": "T4",
      "include_colab_link": true,
      "provenance": []
    },
    "kernelspec": {
      "display_name": "Python 3",
      "name": "python3"
    },
    "language_info": {
      "name": "python"
    },
    "widgets": {
      "application/vnd.jupyter.widget-state+json": {
        "05a6cb15f51546e59c71ef51ad313c15": {
          "model_module": "@jupyter-widgets/controls",
          "model_module_version": "1.5.0",
          "model_name": "DescriptionStyleModel",
          "state": {
            "_model_module": "@jupyter-widgets/controls",
            "_model_module_version": "1.5.0",
            "_model_name": "DescriptionStyleModel",
            "_view_count": null,
            "_view_module": "@jupyter-widgets/base",
            "_view_module_version": "1.2.0",
            "_view_name": "StyleView",
            "description_width": ""
          }
        },
        "05a92f779735495ebcf577152d7ff14b": {
          "model_module": "@jupyter-widgets/base",
          "model_module_version": "1.2.0",
          "model_name": "LayoutModel",
          "state": {
            "_model_module": "@jupyter-widgets/base",
            "_model_module_version": "1.2.0",
            "_model_name": "LayoutModel",
            "_view_count": null,
            "_view_module": "@jupyter-widgets/base",
            "_view_module_version": "1.2.0",
            "_view_name": "LayoutView",
            "align_content": null,
            "align_items": null,
            "align_self": null,
            "border": null,
            "bottom": null,
            "display": null,
            "flex": null,
            "flex_flow": null,
            "grid_area": null,
            "grid_auto_columns": null,
            "grid_auto_flow": null,
            "grid_auto_rows": null,
            "grid_column": null,
            "grid_gap": null,
            "grid_row": null,
            "grid_template_areas": null,
            "grid_template_columns": null,
            "grid_template_rows": null,
            "height": null,
            "justify_content": null,
            "justify_items": null,
            "left": null,
            "margin": null,
            "max_height": null,
            "max_width": null,
            "min_height": null,
            "min_width": null,
            "object_fit": null,
            "object_position": null,
            "order": null,
            "overflow": null,
            "overflow_x": null,
            "overflow_y": null,
            "padding": null,
            "right": null,
            "top": null,
            "visibility": null,
            "width": null
          }
        },
        "07feebd2a3df4f6c90940d207228bf0d": {
          "model_module": "@jupyter-widgets/base",
          "model_module_version": "1.2.0",
          "model_name": "LayoutModel",
          "state": {
            "_model_module": "@jupyter-widgets/base",
            "_model_module_version": "1.2.0",
            "_model_name": "LayoutModel",
            "_view_count": null,
            "_view_module": "@jupyter-widgets/base",
            "_view_module_version": "1.2.0",
            "_view_name": "LayoutView",
            "align_content": null,
            "align_items": null,
            "align_self": null,
            "border": null,
            "bottom": null,
            "display": null,
            "flex": null,
            "flex_flow": null,
            "grid_area": null,
            "grid_auto_columns": null,
            "grid_auto_flow": null,
            "grid_auto_rows": null,
            "grid_column": null,
            "grid_gap": null,
            "grid_row": null,
            "grid_template_areas": null,
            "grid_template_columns": null,
            "grid_template_rows": null,
            "height": null,
            "justify_content": null,
            "justify_items": null,
            "left": null,
            "margin": null,
            "max_height": null,
            "max_width": null,
            "min_height": null,
            "min_width": null,
            "object_fit": null,
            "object_position": null,
            "order": null,
            "overflow": null,
            "overflow_x": null,
            "overflow_y": null,
            "padding": null,
            "right": null,
            "top": null,
            "visibility": null,
            "width": null
          }
        },
        "08eda76a80d64d3ebbd625f6107cdb02": {
          "model_module": "@jupyter-widgets/base",
          "model_module_version": "1.2.0",
          "model_name": "LayoutModel",
          "state": {
            "_model_module": "@jupyter-widgets/base",
            "_model_module_version": "1.2.0",
            "_model_name": "LayoutModel",
            "_view_count": null,
            "_view_module": "@jupyter-widgets/base",
            "_view_module_version": "1.2.0",
            "_view_name": "LayoutView",
            "align_content": null,
            "align_items": null,
            "align_self": null,
            "border": null,
            "bottom": null,
            "display": null,
            "flex": null,
            "flex_flow": null,
            "grid_area": null,
            "grid_auto_columns": null,
            "grid_auto_flow": null,
            "grid_auto_rows": null,
            "grid_column": null,
            "grid_gap": null,
            "grid_row": null,
            "grid_template_areas": null,
            "grid_template_columns": null,
            "grid_template_rows": null,
            "height": null,
            "justify_content": null,
            "justify_items": null,
            "left": null,
            "margin": null,
            "max_height": null,
            "max_width": null,
            "min_height": null,
            "min_width": null,
            "object_fit": null,
            "object_position": null,
            "order": null,
            "overflow": null,
            "overflow_x": null,
            "overflow_y": null,
            "padding": null,
            "right": null,
            "top": null,
            "visibility": null,
            "width": null
          }
        },
        "09dc36e9a0084d0fafd650107e2120be": {
          "model_module": "@jupyter-widgets/base",
          "model_module_version": "1.2.0",
          "model_name": "LayoutModel",
          "state": {
            "_model_module": "@jupyter-widgets/base",
            "_model_module_version": "1.2.0",
            "_model_name": "LayoutModel",
            "_view_count": null,
            "_view_module": "@jupyter-widgets/base",
            "_view_module_version": "1.2.0",
            "_view_name": "LayoutView",
            "align_content": null,
            "align_items": null,
            "align_self": null,
            "border": null,
            "bottom": null,
            "display": null,
            "flex": null,
            "flex_flow": null,
            "grid_area": null,
            "grid_auto_columns": null,
            "grid_auto_flow": null,
            "grid_auto_rows": null,
            "grid_column": null,
            "grid_gap": null,
            "grid_row": null,
            "grid_template_areas": null,
            "grid_template_columns": null,
            "grid_template_rows": null,
            "height": null,
            "justify_content": null,
            "justify_items": null,
            "left": null,
            "margin": null,
            "max_height": null,
            "max_width": null,
            "min_height": null,
            "min_width": null,
            "object_fit": null,
            "object_position": null,
            "order": null,
            "overflow": null,
            "overflow_x": null,
            "overflow_y": null,
            "padding": null,
            "right": null,
            "top": null,
            "visibility": null,
            "width": null
          }
        },
        "0af1a35952744a5590aea5c55b2c0ba8": {
          "model_module": "@jupyter-widgets/controls",
          "model_module_version": "1.5.0",
          "model_name": "DescriptionStyleModel",
          "state": {
            "_model_module": "@jupyter-widgets/controls",
            "_model_module_version": "1.5.0",
            "_model_name": "DescriptionStyleModel",
            "_view_count": null,
            "_view_module": "@jupyter-widgets/base",
            "_view_module_version": "1.2.0",
            "_view_name": "StyleView",
            "description_width": ""
          }
        },
        "0cfe728a5b6d45a5a358e4d45652127a": {
          "model_module": "@jupyter-widgets/controls",
          "model_module_version": "1.5.0",
          "model_name": "HTMLModel",
          "state": {
            "_dom_classes": [],
            "_model_module": "@jupyter-widgets/controls",
            "_model_module_version": "1.5.0",
            "_model_name": "HTMLModel",
            "_view_count": null,
            "_view_module": "@jupyter-widgets/controls",
            "_view_module_version": "1.5.0",
            "_view_name": "HTMLView",
            "description": "",
            "description_tooltip": null,
            "layout": "IPY_MODEL_127ef4e6739e4695ab015c4695c906d6",
            "placeholder": "​",
            "style": "IPY_MODEL_0f281a1262ee4c178b8859cdc3b9b316",
            "value": "Downloading data: 100%"
          }
        },
        "0d8b268d9a5b4c90ace776fe6cdf08f4": {
          "model_module": "@jupyter-widgets/controls",
          "model_module_version": "1.5.0",
          "model_name": "HTMLModel",
          "state": {
            "_dom_classes": [],
            "_model_module": "@jupyter-widgets/controls",
            "_model_module_version": "1.5.0",
            "_model_name": "HTMLModel",
            "_view_count": null,
            "_view_module": "@jupyter-widgets/controls",
            "_view_module_version": "1.5.0",
            "_view_name": "HTMLView",
            "description": "",
            "description_tooltip": null,
            "layout": "IPY_MODEL_a0446eee158445fdb7ce78dfba65add5",
            "placeholder": "​",
            "style": "IPY_MODEL_8de787a63e6a4b39bd5885d427d0ed17",
            "value": " 1120/1120 [00:00&lt;00:00, 36347.19 examples/s]"
          }
        },
        "0f281a1262ee4c178b8859cdc3b9b316": {
          "model_module": "@jupyter-widgets/controls",
          "model_module_version": "1.5.0",
          "model_name": "DescriptionStyleModel",
          "state": {
            "_model_module": "@jupyter-widgets/controls",
            "_model_module_version": "1.5.0",
            "_model_name": "DescriptionStyleModel",
            "_view_count": null,
            "_view_module": "@jupyter-widgets/base",
            "_view_module_version": "1.2.0",
            "_view_name": "StyleView",
            "description_width": ""
          }
        },
        "107c90152ab64d678634fbf70fc04ad2": {
          "model_module": "@jupyter-widgets/controls",
          "model_module_version": "1.5.0",
          "model_name": "DescriptionStyleModel",
          "state": {
            "_model_module": "@jupyter-widgets/controls",
            "_model_module_version": "1.5.0",
            "_model_name": "DescriptionStyleModel",
            "_view_count": null,
            "_view_module": "@jupyter-widgets/base",
            "_view_module_version": "1.2.0",
            "_view_name": "StyleView",
            "description_width": ""
          }
        },
        "10829f7f201c40f3bd95aae1477d24de": {
          "model_module": "@jupyter-widgets/controls",
          "model_module_version": "1.5.0",
          "model_name": "FloatProgressModel",
          "state": {
            "_dom_classes": [],
            "_model_module": "@jupyter-widgets/controls",
            "_model_module_version": "1.5.0",
            "_model_name": "FloatProgressModel",
            "_view_count": null,
            "_view_module": "@jupyter-widgets/controls",
            "_view_module_version": "1.5.0",
            "_view_name": "ProgressView",
            "bar_style": "success",
            "description": "",
            "description_tooltip": null,
            "layout": "IPY_MODEL_9da19b93893a4610b204b560372d25f6",
            "max": 4480,
            "min": 0,
            "orientation": "horizontal",
            "style": "IPY_MODEL_a07e63d1113c4e2a98c5853bf9d21c4c",
            "value": 4480
          }
        },
        "127ef4e6739e4695ab015c4695c906d6": {
          "model_module": "@jupyter-widgets/base",
          "model_module_version": "1.2.0",
          "model_name": "LayoutModel",
          "state": {
            "_model_module": "@jupyter-widgets/base",
            "_model_module_version": "1.2.0",
            "_model_name": "LayoutModel",
            "_view_count": null,
            "_view_module": "@jupyter-widgets/base",
            "_view_module_version": "1.2.0",
            "_view_name": "LayoutView",
            "align_content": null,
            "align_items": null,
            "align_self": null,
            "border": null,
            "bottom": null,
            "display": null,
            "flex": null,
            "flex_flow": null,
            "grid_area": null,
            "grid_auto_columns": null,
            "grid_auto_flow": null,
            "grid_auto_rows": null,
            "grid_column": null,
            "grid_gap": null,
            "grid_row": null,
            "grid_template_areas": null,
            "grid_template_columns": null,
            "grid_template_rows": null,
            "height": null,
            "justify_content": null,
            "justify_items": null,
            "left": null,
            "margin": null,
            "max_height": null,
            "max_width": null,
            "min_height": null,
            "min_width": null,
            "object_fit": null,
            "object_position": null,
            "order": null,
            "overflow": null,
            "overflow_x": null,
            "overflow_y": null,
            "padding": null,
            "right": null,
            "top": null,
            "visibility": null,
            "width": null
          }
        },
        "12874e9564b843a88d0c402942c62c9e": {
          "model_module": "@jupyter-widgets/controls",
          "model_module_version": "1.5.0",
          "model_name": "DescriptionStyleModel",
          "state": {
            "_model_module": "@jupyter-widgets/controls",
            "_model_module_version": "1.5.0",
            "_model_name": "DescriptionStyleModel",
            "_view_count": null,
            "_view_module": "@jupyter-widgets/base",
            "_view_module_version": "1.2.0",
            "_view_name": "StyleView",
            "description_width": ""
          }
        },
        "1bc1ae0c1cc7403192d0d5dd27ae0625": {
          "model_module": "@jupyter-widgets/controls",
          "model_module_version": "1.5.0",
          "model_name": "FloatProgressModel",
          "state": {
            "_dom_classes": [],
            "_model_module": "@jupyter-widgets/controls",
            "_model_module_version": "1.5.0",
            "_model_name": "FloatProgressModel",
            "_view_count": null,
            "_view_module": "@jupyter-widgets/controls",
            "_view_module_version": "1.5.0",
            "_view_name": "ProgressView",
            "bar_style": "success",
            "description": "",
            "description_tooltip": null,
            "layout": "IPY_MODEL_08eda76a80d64d3ebbd625f6107cdb02",
            "max": 68206,
            "min": 0,
            "orientation": "horizontal",
            "style": "IPY_MODEL_39d69577aa274fc0a3b01fdf92e25098",
            "value": 68206
          }
        },
        "1c00265477b348d5911f972fe2537562": {
          "model_module": "@jupyter-widgets/controls",
          "model_module_version": "1.5.0",
          "model_name": "ProgressStyleModel",
          "state": {
            "_model_module": "@jupyter-widgets/controls",
            "_model_module_version": "1.5.0",
            "_model_name": "ProgressStyleModel",
            "_view_count": null,
            "_view_module": "@jupyter-widgets/base",
            "_view_module_version": "1.2.0",
            "_view_name": "StyleView",
            "bar_color": null,
            "description_width": ""
          }
        },
        "1e55190db4fe49d0b4b2431c955412b1": {
          "model_module": "@jupyter-widgets/base",
          "model_module_version": "1.2.0",
          "model_name": "LayoutModel",
          "state": {
            "_model_module": "@jupyter-widgets/base",
            "_model_module_version": "1.2.0",
            "_model_name": "LayoutModel",
            "_view_count": null,
            "_view_module": "@jupyter-widgets/base",
            "_view_module_version": "1.2.0",
            "_view_name": "LayoutView",
            "align_content": null,
            "align_items": null,
            "align_self": null,
            "border": null,
            "bottom": null,
            "display": null,
            "flex": null,
            "flex_flow": null,
            "grid_area": null,
            "grid_auto_columns": null,
            "grid_auto_flow": null,
            "grid_auto_rows": null,
            "grid_column": null,
            "grid_gap": null,
            "grid_row": null,
            "grid_template_areas": null,
            "grid_template_columns": null,
            "grid_template_rows": null,
            "height": null,
            "justify_content": null,
            "justify_items": null,
            "left": null,
            "margin": null,
            "max_height": null,
            "max_width": null,
            "min_height": null,
            "min_width": null,
            "object_fit": null,
            "object_position": null,
            "order": null,
            "overflow": null,
            "overflow_x": null,
            "overflow_y": null,
            "padding": null,
            "right": null,
            "top": null,
            "visibility": null,
            "width": null
          }
        },
        "1ebab10704ea4a12afd2d02b4d7064a4": {
          "model_module": "@jupyter-widgets/base",
          "model_module_version": "1.2.0",
          "model_name": "LayoutModel",
          "state": {
            "_model_module": "@jupyter-widgets/base",
            "_model_module_version": "1.2.0",
            "_model_name": "LayoutModel",
            "_view_count": null,
            "_view_module": "@jupyter-widgets/base",
            "_view_module_version": "1.2.0",
            "_view_name": "LayoutView",
            "align_content": null,
            "align_items": null,
            "align_self": null,
            "border": null,
            "bottom": null,
            "display": null,
            "flex": null,
            "flex_flow": null,
            "grid_area": null,
            "grid_auto_columns": null,
            "grid_auto_flow": null,
            "grid_auto_rows": null,
            "grid_column": null,
            "grid_gap": null,
            "grid_row": null,
            "grid_template_areas": null,
            "grid_template_columns": null,
            "grid_template_rows": null,
            "height": null,
            "justify_content": null,
            "justify_items": null,
            "left": null,
            "margin": null,
            "max_height": null,
            "max_width": null,
            "min_height": null,
            "min_width": null,
            "object_fit": null,
            "object_position": null,
            "order": null,
            "overflow": null,
            "overflow_x": null,
            "overflow_y": null,
            "padding": null,
            "right": null,
            "top": null,
            "visibility": null,
            "width": null
          }
        },
        "1ff687a1273e456c8209189b295c85fa": {
          "model_module": "@jupyter-widgets/base",
          "model_module_version": "1.2.0",
          "model_name": "LayoutModel",
          "state": {
            "_model_module": "@jupyter-widgets/base",
            "_model_module_version": "1.2.0",
            "_model_name": "LayoutModel",
            "_view_count": null,
            "_view_module": "@jupyter-widgets/base",
            "_view_module_version": "1.2.0",
            "_view_name": "LayoutView",
            "align_content": null,
            "align_items": null,
            "align_self": null,
            "border": null,
            "bottom": null,
            "display": null,
            "flex": null,
            "flex_flow": null,
            "grid_area": null,
            "grid_auto_columns": null,
            "grid_auto_flow": null,
            "grid_auto_rows": null,
            "grid_column": null,
            "grid_gap": null,
            "grid_row": null,
            "grid_template_areas": null,
            "grid_template_columns": null,
            "grid_template_rows": null,
            "height": null,
            "justify_content": null,
            "justify_items": null,
            "left": null,
            "margin": null,
            "max_height": null,
            "max_width": null,
            "min_height": null,
            "min_width": null,
            "object_fit": null,
            "object_position": null,
            "order": null,
            "overflow": null,
            "overflow_x": null,
            "overflow_y": null,
            "padding": null,
            "right": null,
            "top": null,
            "visibility": null,
            "width": null
          }
        },
        "24b7a74c66764fa4be87e310f8212c56": {
          "model_module": "@jupyter-widgets/controls",
          "model_module_version": "1.5.0",
          "model_name": "HTMLModel",
          "state": {
            "_dom_classes": [],
            "_model_module": "@jupyter-widgets/controls",
            "_model_module_version": "1.5.0",
            "_model_name": "HTMLModel",
            "_view_count": null,
            "_view_module": "@jupyter-widgets/controls",
            "_view_module_version": "1.5.0",
            "_view_name": "HTMLView",
            "description": "",
            "description_tooltip": null,
            "layout": "IPY_MODEL_621d7d14bdc34ff499a53b6f04773d89",
            "placeholder": "​",
            "style": "IPY_MODEL_42f58e5c67904b3c859134e25606c9a7",
            "value": " 1400/1400 [00:00&lt;00:00, 39383.66 examples/s]"
          }
        },
        "39d69577aa274fc0a3b01fdf92e25098": {
          "model_module": "@jupyter-widgets/controls",
          "model_module_version": "1.5.0",
          "model_name": "ProgressStyleModel",
          "state": {
            "_model_module": "@jupyter-widgets/controls",
            "_model_module_version": "1.5.0",
            "_model_name": "ProgressStyleModel",
            "_view_count": null,
            "_view_module": "@jupyter-widgets/base",
            "_view_module_version": "1.2.0",
            "_view_name": "StyleView",
            "bar_color": null,
            "description_width": ""
          }
        },
        "3b8da62df6934841ba4a429460df2f31": {
          "model_module": "@jupyter-widgets/controls",
          "model_module_version": "1.5.0",
          "model_name": "HBoxModel",
          "state": {
            "_dom_classes": [],
            "_model_module": "@jupyter-widgets/controls",
            "_model_module_version": "1.5.0",
            "_model_name": "HBoxModel",
            "_view_count": null,
            "_view_module": "@jupyter-widgets/controls",
            "_view_module_version": "1.5.0",
            "_view_name": "HBoxView",
            "box_style": "",
            "children": [
              "IPY_MODEL_9e215b19abdc44819e3394db375eed5c",
              "IPY_MODEL_a92d159ce9ff4674822a01fb00628d48",
              "IPY_MODEL_24b7a74c66764fa4be87e310f8212c56"
            ],
            "layout": "IPY_MODEL_474ea26821d848c6af6dbee9d96cf0bb"
          }
        },
        "3c6a629f031640c99b36260fff1caf98": {
          "model_module": "@jupyter-widgets/base",
          "model_module_version": "1.2.0",
          "model_name": "LayoutModel",
          "state": {
            "_model_module": "@jupyter-widgets/base",
            "_model_module_version": "1.2.0",
            "_model_name": "LayoutModel",
            "_view_count": null,
            "_view_module": "@jupyter-widgets/base",
            "_view_module_version": "1.2.0",
            "_view_name": "LayoutView",
            "align_content": null,
            "align_items": null,
            "align_self": null,
            "border": null,
            "bottom": null,
            "display": null,
            "flex": null,
            "flex_flow": null,
            "grid_area": null,
            "grid_auto_columns": null,
            "grid_auto_flow": null,
            "grid_auto_rows": null,
            "grid_column": null,
            "grid_gap": null,
            "grid_row": null,
            "grid_template_areas": null,
            "grid_template_columns": null,
            "grid_template_rows": null,
            "height": null,
            "justify_content": null,
            "justify_items": null,
            "left": null,
            "margin": null,
            "max_height": null,
            "max_width": null,
            "min_height": null,
            "min_width": null,
            "object_fit": null,
            "object_position": null,
            "order": null,
            "overflow": null,
            "overflow_x": null,
            "overflow_y": null,
            "padding": null,
            "right": null,
            "top": null,
            "visibility": null,
            "width": null
          }
        },
        "42f58e5c67904b3c859134e25606c9a7": {
          "model_module": "@jupyter-widgets/controls",
          "model_module_version": "1.5.0",
          "model_name": "DescriptionStyleModel",
          "state": {
            "_model_module": "@jupyter-widgets/controls",
            "_model_module_version": "1.5.0",
            "_model_name": "DescriptionStyleModel",
            "_view_count": null,
            "_view_module": "@jupyter-widgets/base",
            "_view_module_version": "1.2.0",
            "_view_name": "StyleView",
            "description_width": ""
          }
        },
        "430934fbcb3b46458892b02e1887a206": {
          "model_module": "@jupyter-widgets/controls",
          "model_module_version": "1.5.0",
          "model_name": "HTMLModel",
          "state": {
            "_dom_classes": [],
            "_model_module": "@jupyter-widgets/controls",
            "_model_module_version": "1.5.0",
            "_model_name": "HTMLModel",
            "_view_count": null,
            "_view_module": "@jupyter-widgets/controls",
            "_view_module_version": "1.5.0",
            "_view_name": "HTMLView",
            "description": "",
            "description_tooltip": null,
            "layout": "IPY_MODEL_bdaac038fcfb481d8fd2221200ffd11f",
            "placeholder": "​",
            "style": "IPY_MODEL_0af1a35952744a5590aea5c55b2c0ba8",
            "value": " 4480/4480 [00:00&lt;00:00, 64197.51 examples/s]"
          }
        },
        "474ea26821d848c6af6dbee9d96cf0bb": {
          "model_module": "@jupyter-widgets/base",
          "model_module_version": "1.2.0",
          "model_name": "LayoutModel",
          "state": {
            "_model_module": "@jupyter-widgets/base",
            "_model_module_version": "1.2.0",
            "_model_name": "LayoutModel",
            "_view_count": null,
            "_view_module": "@jupyter-widgets/base",
            "_view_module_version": "1.2.0",
            "_view_name": "LayoutView",
            "align_content": null,
            "align_items": null,
            "align_self": null,
            "border": null,
            "bottom": null,
            "display": null,
            "flex": null,
            "flex_flow": null,
            "grid_area": null,
            "grid_auto_columns": null,
            "grid_auto_flow": null,
            "grid_auto_rows": null,
            "grid_column": null,
            "grid_gap": null,
            "grid_row": null,
            "grid_template_areas": null,
            "grid_template_columns": null,
            "grid_template_rows": null,
            "height": null,
            "justify_content": null,
            "justify_items": null,
            "left": null,
            "margin": null,
            "max_height": null,
            "max_width": null,
            "min_height": null,
            "min_width": null,
            "object_fit": null,
            "object_position": null,
            "order": null,
            "overflow": null,
            "overflow_x": null,
            "overflow_y": null,
            "padding": null,
            "right": null,
            "top": null,
            "visibility": null,
            "width": null
          }
        },
        "4eb0566a68fd497ebb45f289069d2f23": {
          "model_module": "@jupyter-widgets/controls",
          "model_module_version": "1.5.0",
          "model_name": "DescriptionStyleModel",
          "state": {
            "_model_module": "@jupyter-widgets/controls",
            "_model_module_version": "1.5.0",
            "_model_name": "DescriptionStyleModel",
            "_view_count": null,
            "_view_module": "@jupyter-widgets/base",
            "_view_module_version": "1.2.0",
            "_view_name": "StyleView",
            "description_width": ""
          }
        },
        "621d7d14bdc34ff499a53b6f04773d89": {
          "model_module": "@jupyter-widgets/base",
          "model_module_version": "1.2.0",
          "model_name": "LayoutModel",
          "state": {
            "_model_module": "@jupyter-widgets/base",
            "_model_module_version": "1.2.0",
            "_model_name": "LayoutModel",
            "_view_count": null,
            "_view_module": "@jupyter-widgets/base",
            "_view_module_version": "1.2.0",
            "_view_name": "LayoutView",
            "align_content": null,
            "align_items": null,
            "align_self": null,
            "border": null,
            "bottom": null,
            "display": null,
            "flex": null,
            "flex_flow": null,
            "grid_area": null,
            "grid_auto_columns": null,
            "grid_auto_flow": null,
            "grid_auto_rows": null,
            "grid_column": null,
            "grid_gap": null,
            "grid_row": null,
            "grid_template_areas": null,
            "grid_template_columns": null,
            "grid_template_rows": null,
            "height": null,
            "justify_content": null,
            "justify_items": null,
            "left": null,
            "margin": null,
            "max_height": null,
            "max_width": null,
            "min_height": null,
            "min_width": null,
            "object_fit": null,
            "object_position": null,
            "order": null,
            "overflow": null,
            "overflow_x": null,
            "overflow_y": null,
            "padding": null,
            "right": null,
            "top": null,
            "visibility": null,
            "width": null
          }
        },
        "64a15caa46934c8782ff183d478238e1": {
          "model_module": "@jupyter-widgets/controls",
          "model_module_version": "1.5.0",
          "model_name": "HBoxModel",
          "state": {
            "_dom_classes": [],
            "_model_module": "@jupyter-widgets/controls",
            "_model_module_version": "1.5.0",
            "_model_name": "HBoxModel",
            "_view_count": null,
            "_view_module": "@jupyter-widgets/controls",
            "_view_module_version": "1.5.0",
            "_view_name": "HBoxView",
            "box_style": "",
            "children": [
              "IPY_MODEL_0cfe728a5b6d45a5a358e4d45652127a",
              "IPY_MODEL_95020747aa1b47129f8df21f3e9e56c5",
              "IPY_MODEL_9afa9151fb1c40d2bb8bba1be348446c"
            ],
            "layout": "IPY_MODEL_3c6a629f031640c99b36260fff1caf98"
          }
        },
        "6dcd60c2a24f4a5e8fe5d3318bf6df58": {
          "model_module": "@jupyter-widgets/controls",
          "model_module_version": "1.5.0",
          "model_name": "HTMLModel",
          "state": {
            "_dom_classes": [],
            "_model_module": "@jupyter-widgets/controls",
            "_model_module_version": "1.5.0",
            "_model_name": "HTMLModel",
            "_view_count": null,
            "_view_module": "@jupyter-widgets/controls",
            "_view_module_version": "1.5.0",
            "_view_name": "HTMLView",
            "description": "",
            "description_tooltip": null,
            "layout": "IPY_MODEL_07feebd2a3df4f6c90940d207228bf0d",
            "placeholder": "​",
            "style": "IPY_MODEL_4eb0566a68fd497ebb45f289069d2f23",
            "value": " 68.2k/68.2k [00:00&lt;00:00, 411kB/s]"
          }
        },
        "73e06dfe6c284d00b7088bd5f32c073b": {
          "model_module": "@jupyter-widgets/controls",
          "model_module_version": "1.5.0",
          "model_name": "HTMLModel",
          "state": {
            "_dom_classes": [],
            "_model_module": "@jupyter-widgets/controls",
            "_model_module_version": "1.5.0",
            "_model_name": "HTMLModel",
            "_view_count": null,
            "_view_module": "@jupyter-widgets/controls",
            "_view_module_version": "1.5.0",
            "_view_name": "HTMLView",
            "description": "",
            "description_tooltip": null,
            "layout": "IPY_MODEL_09dc36e9a0084d0fafd650107e2120be",
            "placeholder": "​",
            "style": "IPY_MODEL_748dbf187b0f4b25a8039b16e003da18",
            "value": " 81.0k/81.0k [00:00&lt;00:00, 133kB/s]"
          }
        },
        "748dbf187b0f4b25a8039b16e003da18": {
          "model_module": "@jupyter-widgets/controls",
          "model_module_version": "1.5.0",
          "model_name": "DescriptionStyleModel",
          "state": {
            "_model_module": "@jupyter-widgets/controls",
            "_model_module_version": "1.5.0",
            "_model_name": "DescriptionStyleModel",
            "_view_count": null,
            "_view_module": "@jupyter-widgets/base",
            "_view_module_version": "1.2.0",
            "_view_name": "StyleView",
            "description_width": ""
          }
        },
        "7db5b91795294cf8bbdcfb0c21abd9cd": {
          "model_module": "@jupyter-widgets/base",
          "model_module_version": "1.2.0",
          "model_name": "LayoutModel",
          "state": {
            "_model_module": "@jupyter-widgets/base",
            "_model_module_version": "1.2.0",
            "_model_name": "LayoutModel",
            "_view_count": null,
            "_view_module": "@jupyter-widgets/base",
            "_view_module_version": "1.2.0",
            "_view_name": "LayoutView",
            "align_content": null,
            "align_items": null,
            "align_self": null,
            "border": null,
            "bottom": null,
            "display": null,
            "flex": null,
            "flex_flow": null,
            "grid_area": null,
            "grid_auto_columns": null,
            "grid_auto_flow": null,
            "grid_auto_rows": null,
            "grid_column": null,
            "grid_gap": null,
            "grid_row": null,
            "grid_template_areas": null,
            "grid_template_columns": null,
            "grid_template_rows": null,
            "height": null,
            "justify_content": null,
            "justify_items": null,
            "left": null,
            "margin": null,
            "max_height": null,
            "max_width": null,
            "min_height": null,
            "min_width": null,
            "object_fit": null,
            "object_position": null,
            "order": null,
            "overflow": null,
            "overflow_x": null,
            "overflow_y": null,
            "padding": null,
            "right": null,
            "top": null,
            "visibility": null,
            "width": null
          }
        },
        "7dbe63ef83974a67b8a5e5e2aea72306": {
          "model_module": "@jupyter-widgets/controls",
          "model_module_version": "1.5.0",
          "model_name": "HTMLModel",
          "state": {
            "_dom_classes": [],
            "_model_module": "@jupyter-widgets/controls",
            "_model_module_version": "1.5.0",
            "_model_name": "HTMLModel",
            "_view_count": null,
            "_view_module": "@jupyter-widgets/controls",
            "_view_module_version": "1.5.0",
            "_view_name": "HTMLView",
            "description": "",
            "description_tooltip": null,
            "layout": "IPY_MODEL_f142b9885dc14d199853587dd7540572",
            "placeholder": "​",
            "style": "IPY_MODEL_05a6cb15f51546e59c71ef51ad313c15",
            "value": "Generating validation split: 100%"
          }
        },
        "83af25af9fcc434596d7195798c41a5b": {
          "model_module": "@jupyter-widgets/controls",
          "model_module_version": "1.5.0",
          "model_name": "HTMLModel",
          "state": {
            "_dom_classes": [],
            "_model_module": "@jupyter-widgets/controls",
            "_model_module_version": "1.5.0",
            "_model_name": "HTMLModel",
            "_view_count": null,
            "_view_module": "@jupyter-widgets/controls",
            "_view_module_version": "1.5.0",
            "_view_name": "HTMLView",
            "description": "",
            "description_tooltip": null,
            "layout": "IPY_MODEL_99f306af634a45d98ef83ff8ac7f2e83",
            "placeholder": "​",
            "style": "IPY_MODEL_c9f03d70600c4d9491fc0d301dd2e33a",
            "value": "Downloading data: 100%"
          }
        },
        "86d4cabd682a49858dc2f17092098654": {
          "model_module": "@jupyter-widgets/controls",
          "model_module_version": "1.5.0",
          "model_name": "HBoxModel",
          "state": {
            "_dom_classes": [],
            "_model_module": "@jupyter-widgets/controls",
            "_model_module_version": "1.5.0",
            "_model_name": "HBoxModel",
            "_view_count": null,
            "_view_module": "@jupyter-widgets/controls",
            "_view_module_version": "1.5.0",
            "_view_name": "HBoxView",
            "box_style": "",
            "children": [
              "IPY_MODEL_f9638ea21c394ab886a26133eaf118c7",
              "IPY_MODEL_8844ebd3723449f8840298bb551be18c",
              "IPY_MODEL_73e06dfe6c284d00b7088bd5f32c073b"
            ],
            "layout": "IPY_MODEL_7db5b91795294cf8bbdcfb0c21abd9cd"
          }
        },
        "8844ebd3723449f8840298bb551be18c": {
          "model_module": "@jupyter-widgets/controls",
          "model_module_version": "1.5.0",
          "model_name": "FloatProgressModel",
          "state": {
            "_dom_classes": [],
            "_model_module": "@jupyter-widgets/controls",
            "_model_module_version": "1.5.0",
            "_model_name": "FloatProgressModel",
            "_view_count": null,
            "_view_module": "@jupyter-widgets/controls",
            "_view_module_version": "1.5.0",
            "_view_name": "ProgressView",
            "bar_style": "success",
            "description": "",
            "description_tooltip": null,
            "layout": "IPY_MODEL_ff9678c4567848e4b7e7c588b282e852",
            "max": 81019,
            "min": 0,
            "orientation": "horizontal",
            "style": "IPY_MODEL_d0a5ca6a18214405ac48663d70e01e5a",
            "value": 81019
          }
        },
        "8de787a63e6a4b39bd5885d427d0ed17": {
          "model_module": "@jupyter-widgets/controls",
          "model_module_version": "1.5.0",
          "model_name": "DescriptionStyleModel",
          "state": {
            "_model_module": "@jupyter-widgets/controls",
            "_model_module_version": "1.5.0",
            "_model_name": "DescriptionStyleModel",
            "_view_count": null,
            "_view_module": "@jupyter-widgets/base",
            "_view_module_version": "1.2.0",
            "_view_name": "StyleView",
            "description_width": ""
          }
        },
        "95020747aa1b47129f8df21f3e9e56c5": {
          "model_module": "@jupyter-widgets/controls",
          "model_module_version": "1.5.0",
          "model_name": "FloatProgressModel",
          "state": {
            "_dom_classes": [],
            "_model_module": "@jupyter-widgets/controls",
            "_model_module_version": "1.5.0",
            "_model_name": "FloatProgressModel",
            "_view_count": null,
            "_view_module": "@jupyter-widgets/controls",
            "_view_module_version": "1.5.0",
            "_view_name": "ProgressView",
            "bar_style": "success",
            "description": "",
            "description_tooltip": null,
            "layout": "IPY_MODEL_1ff687a1273e456c8209189b295c85fa",
            "max": 264106,
            "min": 0,
            "orientation": "horizontal",
            "style": "IPY_MODEL_1c00265477b348d5911f972fe2537562",
            "value": 264106
          }
        },
        "982b6fb0f4da4ce9ad19bf4f8ce3cdb7": {
          "model_module": "@jupyter-widgets/base",
          "model_module_version": "1.2.0",
          "model_name": "LayoutModel",
          "state": {
            "_model_module": "@jupyter-widgets/base",
            "_model_module_version": "1.2.0",
            "_model_name": "LayoutModel",
            "_view_count": null,
            "_view_module": "@jupyter-widgets/base",
            "_view_module_version": "1.2.0",
            "_view_name": "LayoutView",
            "align_content": null,
            "align_items": null,
            "align_self": null,
            "border": null,
            "bottom": null,
            "display": null,
            "flex": null,
            "flex_flow": null,
            "grid_area": null,
            "grid_auto_columns": null,
            "grid_auto_flow": null,
            "grid_auto_rows": null,
            "grid_column": null,
            "grid_gap": null,
            "grid_row": null,
            "grid_template_areas": null,
            "grid_template_columns": null,
            "grid_template_rows": null,
            "height": null,
            "justify_content": null,
            "justify_items": null,
            "left": null,
            "margin": null,
            "max_height": null,
            "max_width": null,
            "min_height": null,
            "min_width": null,
            "object_fit": null,
            "object_position": null,
            "order": null,
            "overflow": null,
            "overflow_x": null,
            "overflow_y": null,
            "padding": null,
            "right": null,
            "top": null,
            "visibility": null,
            "width": null
          }
        },
        "99e8500b06864a2c9717ad9503e73906": {
          "model_module": "@jupyter-widgets/controls",
          "model_module_version": "1.5.0",
          "model_name": "DescriptionStyleModel",
          "state": {
            "_model_module": "@jupyter-widgets/controls",
            "_model_module_version": "1.5.0",
            "_model_name": "DescriptionStyleModel",
            "_view_count": null,
            "_view_module": "@jupyter-widgets/base",
            "_view_module_version": "1.2.0",
            "_view_name": "StyleView",
            "description_width": ""
          }
        },
        "99f306af634a45d98ef83ff8ac7f2e83": {
          "model_module": "@jupyter-widgets/base",
          "model_module_version": "1.2.0",
          "model_name": "LayoutModel",
          "state": {
            "_model_module": "@jupyter-widgets/base",
            "_model_module_version": "1.2.0",
            "_model_name": "LayoutModel",
            "_view_count": null,
            "_view_module": "@jupyter-widgets/base",
            "_view_module_version": "1.2.0",
            "_view_name": "LayoutView",
            "align_content": null,
            "align_items": null,
            "align_self": null,
            "border": null,
            "bottom": null,
            "display": null,
            "flex": null,
            "flex_flow": null,
            "grid_area": null,
            "grid_auto_columns": null,
            "grid_auto_flow": null,
            "grid_auto_rows": null,
            "grid_column": null,
            "grid_gap": null,
            "grid_row": null,
            "grid_template_areas": null,
            "grid_template_columns": null,
            "grid_template_rows": null,
            "height": null,
            "justify_content": null,
            "justify_items": null,
            "left": null,
            "margin": null,
            "max_height": null,
            "max_width": null,
            "min_height": null,
            "min_width": null,
            "object_fit": null,
            "object_position": null,
            "order": null,
            "overflow": null,
            "overflow_x": null,
            "overflow_y": null,
            "padding": null,
            "right": null,
            "top": null,
            "visibility": null,
            "width": null
          }
        },
        "9afa9151fb1c40d2bb8bba1be348446c": {
          "model_module": "@jupyter-widgets/controls",
          "model_module_version": "1.5.0",
          "model_name": "HTMLModel",
          "state": {
            "_dom_classes": [],
            "_model_module": "@jupyter-widgets/controls",
            "_model_module_version": "1.5.0",
            "_model_name": "HTMLModel",
            "_view_count": null,
            "_view_module": "@jupyter-widgets/controls",
            "_view_module_version": "1.5.0",
            "_view_name": "HTMLView",
            "description": "",
            "description_tooltip": null,
            "layout": "IPY_MODEL_05a92f779735495ebcf577152d7ff14b",
            "placeholder": "​",
            "style": "IPY_MODEL_99e8500b06864a2c9717ad9503e73906",
            "value": " 264k/264k [00:00&lt;00:00, 389kB/s]"
          }
        },
        "9b78b82ae91f4da580c896f98197dacc": {
          "model_module": "@jupyter-widgets/controls",
          "model_module_version": "1.5.0",
          "model_name": "DescriptionStyleModel",
          "state": {
            "_model_module": "@jupyter-widgets/controls",
            "_model_module_version": "1.5.0",
            "_model_name": "DescriptionStyleModel",
            "_view_count": null,
            "_view_module": "@jupyter-widgets/base",
            "_view_module_version": "1.2.0",
            "_view_name": "StyleView",
            "description_width": ""
          }
        },
        "9c07a22d382c44f9a179bc0a1e318142": {
          "model_module": "@jupyter-widgets/base",
          "model_module_version": "1.2.0",
          "model_name": "LayoutModel",
          "state": {
            "_model_module": "@jupyter-widgets/base",
            "_model_module_version": "1.2.0",
            "_model_name": "LayoutModel",
            "_view_count": null,
            "_view_module": "@jupyter-widgets/base",
            "_view_module_version": "1.2.0",
            "_view_name": "LayoutView",
            "align_content": null,
            "align_items": null,
            "align_self": null,
            "border": null,
            "bottom": null,
            "display": null,
            "flex": null,
            "flex_flow": null,
            "grid_area": null,
            "grid_auto_columns": null,
            "grid_auto_flow": null,
            "grid_auto_rows": null,
            "grid_column": null,
            "grid_gap": null,
            "grid_row": null,
            "grid_template_areas": null,
            "grid_template_columns": null,
            "grid_template_rows": null,
            "height": null,
            "justify_content": null,
            "justify_items": null,
            "left": null,
            "margin": null,
            "max_height": null,
            "max_width": null,
            "min_height": null,
            "min_width": null,
            "object_fit": null,
            "object_position": null,
            "order": null,
            "overflow": null,
            "overflow_x": null,
            "overflow_y": null,
            "padding": null,
            "right": null,
            "top": null,
            "visibility": null,
            "width": null
          }
        },
        "9da19b93893a4610b204b560372d25f6": {
          "model_module": "@jupyter-widgets/base",
          "model_module_version": "1.2.0",
          "model_name": "LayoutModel",
          "state": {
            "_model_module": "@jupyter-widgets/base",
            "_model_module_version": "1.2.0",
            "_model_name": "LayoutModel",
            "_view_count": null,
            "_view_module": "@jupyter-widgets/base",
            "_view_module_version": "1.2.0",
            "_view_name": "LayoutView",
            "align_content": null,
            "align_items": null,
            "align_self": null,
            "border": null,
            "bottom": null,
            "display": null,
            "flex": null,
            "flex_flow": null,
            "grid_area": null,
            "grid_auto_columns": null,
            "grid_auto_flow": null,
            "grid_auto_rows": null,
            "grid_column": null,
            "grid_gap": null,
            "grid_row": null,
            "grid_template_areas": null,
            "grid_template_columns": null,
            "grid_template_rows": null,
            "height": null,
            "justify_content": null,
            "justify_items": null,
            "left": null,
            "margin": null,
            "max_height": null,
            "max_width": null,
            "min_height": null,
            "min_width": null,
            "object_fit": null,
            "object_position": null,
            "order": null,
            "overflow": null,
            "overflow_x": null,
            "overflow_y": null,
            "padding": null,
            "right": null,
            "top": null,
            "visibility": null,
            "width": null
          }
        },
        "9de899d751784765a8448f4ff5a24526": {
          "model_module": "@jupyter-widgets/controls",
          "model_module_version": "1.5.0",
          "model_name": "FloatProgressModel",
          "state": {
            "_dom_classes": [],
            "_model_module": "@jupyter-widgets/controls",
            "_model_module_version": "1.5.0",
            "_model_name": "FloatProgressModel",
            "_view_count": null,
            "_view_module": "@jupyter-widgets/controls",
            "_view_module_version": "1.5.0",
            "_view_name": "ProgressView",
            "bar_style": "success",
            "description": "",
            "description_tooltip": null,
            "layout": "IPY_MODEL_a06a4c9f225246f49f8b185d833eb44c",
            "max": 1120,
            "min": 0,
            "orientation": "horizontal",
            "style": "IPY_MODEL_d5562a92e1df4da3832822bbef306c9d",
            "value": 1120
          }
        },
        "9e215b19abdc44819e3394db375eed5c": {
          "model_module": "@jupyter-widgets/controls",
          "model_module_version": "1.5.0",
          "model_name": "HTMLModel",
          "state": {
            "_dom_classes": [],
            "_model_module": "@jupyter-widgets/controls",
            "_model_module_version": "1.5.0",
            "_model_name": "HTMLModel",
            "_view_count": null,
            "_view_module": "@jupyter-widgets/controls",
            "_view_module_version": "1.5.0",
            "_view_name": "HTMLView",
            "description": "",
            "description_tooltip": null,
            "layout": "IPY_MODEL_982b6fb0f4da4ce9ad19bf4f8ce3cdb7",
            "placeholder": "​",
            "style": "IPY_MODEL_9b78b82ae91f4da580c896f98197dacc",
            "value": "Generating test split: 100%"
          }
        },
        "a0446eee158445fdb7ce78dfba65add5": {
          "model_module": "@jupyter-widgets/base",
          "model_module_version": "1.2.0",
          "model_name": "LayoutModel",
          "state": {
            "_model_module": "@jupyter-widgets/base",
            "_model_module_version": "1.2.0",
            "_model_name": "LayoutModel",
            "_view_count": null,
            "_view_module": "@jupyter-widgets/base",
            "_view_module_version": "1.2.0",
            "_view_name": "LayoutView",
            "align_content": null,
            "align_items": null,
            "align_self": null,
            "border": null,
            "bottom": null,
            "display": null,
            "flex": null,
            "flex_flow": null,
            "grid_area": null,
            "grid_auto_columns": null,
            "grid_auto_flow": null,
            "grid_auto_rows": null,
            "grid_column": null,
            "grid_gap": null,
            "grid_row": null,
            "grid_template_areas": null,
            "grid_template_columns": null,
            "grid_template_rows": null,
            "height": null,
            "justify_content": null,
            "justify_items": null,
            "left": null,
            "margin": null,
            "max_height": null,
            "max_width": null,
            "min_height": null,
            "min_width": null,
            "object_fit": null,
            "object_position": null,
            "order": null,
            "overflow": null,
            "overflow_x": null,
            "overflow_y": null,
            "padding": null,
            "right": null,
            "top": null,
            "visibility": null,
            "width": null
          }
        },
        "a06a4c9f225246f49f8b185d833eb44c": {
          "model_module": "@jupyter-widgets/base",
          "model_module_version": "1.2.0",
          "model_name": "LayoutModel",
          "state": {
            "_model_module": "@jupyter-widgets/base",
            "_model_module_version": "1.2.0",
            "_model_name": "LayoutModel",
            "_view_count": null,
            "_view_module": "@jupyter-widgets/base",
            "_view_module_version": "1.2.0",
            "_view_name": "LayoutView",
            "align_content": null,
            "align_items": null,
            "align_self": null,
            "border": null,
            "bottom": null,
            "display": null,
            "flex": null,
            "flex_flow": null,
            "grid_area": null,
            "grid_auto_columns": null,
            "grid_auto_flow": null,
            "grid_auto_rows": null,
            "grid_column": null,
            "grid_gap": null,
            "grid_row": null,
            "grid_template_areas": null,
            "grid_template_columns": null,
            "grid_template_rows": null,
            "height": null,
            "justify_content": null,
            "justify_items": null,
            "left": null,
            "margin": null,
            "max_height": null,
            "max_width": null,
            "min_height": null,
            "min_width": null,
            "object_fit": null,
            "object_position": null,
            "order": null,
            "overflow": null,
            "overflow_x": null,
            "overflow_y": null,
            "padding": null,
            "right": null,
            "top": null,
            "visibility": null,
            "width": null
          }
        },
        "a07e63d1113c4e2a98c5853bf9d21c4c": {
          "model_module": "@jupyter-widgets/controls",
          "model_module_version": "1.5.0",
          "model_name": "ProgressStyleModel",
          "state": {
            "_model_module": "@jupyter-widgets/controls",
            "_model_module_version": "1.5.0",
            "_model_name": "ProgressStyleModel",
            "_view_count": null,
            "_view_module": "@jupyter-widgets/base",
            "_view_module_version": "1.2.0",
            "_view_name": "StyleView",
            "bar_color": null,
            "description_width": ""
          }
        },
        "a92d159ce9ff4674822a01fb00628d48": {
          "model_module": "@jupyter-widgets/controls",
          "model_module_version": "1.5.0",
          "model_name": "FloatProgressModel",
          "state": {
            "_dom_classes": [],
            "_model_module": "@jupyter-widgets/controls",
            "_model_module_version": "1.5.0",
            "_model_name": "FloatProgressModel",
            "_view_count": null,
            "_view_module": "@jupyter-widgets/controls",
            "_view_module_version": "1.5.0",
            "_view_name": "ProgressView",
            "bar_style": "success",
            "description": "",
            "description_tooltip": null,
            "layout": "IPY_MODEL_9c07a22d382c44f9a179bc0a1e318142",
            "max": 1400,
            "min": 0,
            "orientation": "horizontal",
            "style": "IPY_MODEL_fc20d89582524dd29ee762e9275dfeb7",
            "value": 1400
          }
        },
        "bdaac038fcfb481d8fd2221200ffd11f": {
          "model_module": "@jupyter-widgets/base",
          "model_module_version": "1.2.0",
          "model_name": "LayoutModel",
          "state": {
            "_model_module": "@jupyter-widgets/base",
            "_model_module_version": "1.2.0",
            "_model_name": "LayoutModel",
            "_view_count": null,
            "_view_module": "@jupyter-widgets/base",
            "_view_module_version": "1.2.0",
            "_view_name": "LayoutView",
            "align_content": null,
            "align_items": null,
            "align_self": null,
            "border": null,
            "bottom": null,
            "display": null,
            "flex": null,
            "flex_flow": null,
            "grid_area": null,
            "grid_auto_columns": null,
            "grid_auto_flow": null,
            "grid_auto_rows": null,
            "grid_column": null,
            "grid_gap": null,
            "grid_row": null,
            "grid_template_areas": null,
            "grid_template_columns": null,
            "grid_template_rows": null,
            "height": null,
            "justify_content": null,
            "justify_items": null,
            "left": null,
            "margin": null,
            "max_height": null,
            "max_width": null,
            "min_height": null,
            "min_width": null,
            "object_fit": null,
            "object_position": null,
            "order": null,
            "overflow": null,
            "overflow_x": null,
            "overflow_y": null,
            "padding": null,
            "right": null,
            "top": null,
            "visibility": null,
            "width": null
          }
        },
        "be2c349be8f843028665f9ee3600f2fb": {
          "model_module": "@jupyter-widgets/controls",
          "model_module_version": "1.5.0",
          "model_name": "HBoxModel",
          "state": {
            "_dom_classes": [],
            "_model_module": "@jupyter-widgets/controls",
            "_model_module_version": "1.5.0",
            "_model_name": "HBoxModel",
            "_view_count": null,
            "_view_module": "@jupyter-widgets/controls",
            "_view_module_version": "1.5.0",
            "_view_name": "HBoxView",
            "box_style": "",
            "children": [
              "IPY_MODEL_83af25af9fcc434596d7195798c41a5b",
              "IPY_MODEL_1bc1ae0c1cc7403192d0d5dd27ae0625",
              "IPY_MODEL_6dcd60c2a24f4a5e8fe5d3318bf6df58"
            ],
            "layout": "IPY_MODEL_bf4d57005c6a4f65a1cff207a43d3301"
          }
        },
        "bf4d57005c6a4f65a1cff207a43d3301": {
          "model_module": "@jupyter-widgets/base",
          "model_module_version": "1.2.0",
          "model_name": "LayoutModel",
          "state": {
            "_model_module": "@jupyter-widgets/base",
            "_model_module_version": "1.2.0",
            "_model_name": "LayoutModel",
            "_view_count": null,
            "_view_module": "@jupyter-widgets/base",
            "_view_module_version": "1.2.0",
            "_view_name": "LayoutView",
            "align_content": null,
            "align_items": null,
            "align_self": null,
            "border": null,
            "bottom": null,
            "display": null,
            "flex": null,
            "flex_flow": null,
            "grid_area": null,
            "grid_auto_columns": null,
            "grid_auto_flow": null,
            "grid_auto_rows": null,
            "grid_column": null,
            "grid_gap": null,
            "grid_row": null,
            "grid_template_areas": null,
            "grid_template_columns": null,
            "grid_template_rows": null,
            "height": null,
            "justify_content": null,
            "justify_items": null,
            "left": null,
            "margin": null,
            "max_height": null,
            "max_width": null,
            "min_height": null,
            "min_width": null,
            "object_fit": null,
            "object_position": null,
            "order": null,
            "overflow": null,
            "overflow_x": null,
            "overflow_y": null,
            "padding": null,
            "right": null,
            "top": null,
            "visibility": null,
            "width": null
          }
        },
        "c46c9d9a88754890965c0b04760ea97e": {
          "model_module": "@jupyter-widgets/controls",
          "model_module_version": "1.5.0",
          "model_name": "HBoxModel",
          "state": {
            "_dom_classes": [],
            "_model_module": "@jupyter-widgets/controls",
            "_model_module_version": "1.5.0",
            "_model_name": "HBoxModel",
            "_view_count": null,
            "_view_module": "@jupyter-widgets/controls",
            "_view_module_version": "1.5.0",
            "_view_name": "HBoxView",
            "box_style": "",
            "children": [
              "IPY_MODEL_d1ab6ade6ca546e991b2380da11b5e01",
              "IPY_MODEL_10829f7f201c40f3bd95aae1477d24de",
              "IPY_MODEL_430934fbcb3b46458892b02e1887a206"
            ],
            "layout": "IPY_MODEL_d6666591ce6341228f0c79cdeb1dbb9e"
          }
        },
        "c9f03d70600c4d9491fc0d301dd2e33a": {
          "model_module": "@jupyter-widgets/controls",
          "model_module_version": "1.5.0",
          "model_name": "DescriptionStyleModel",
          "state": {
            "_model_module": "@jupyter-widgets/controls",
            "_model_module_version": "1.5.0",
            "_model_name": "DescriptionStyleModel",
            "_view_count": null,
            "_view_module": "@jupyter-widgets/base",
            "_view_module_version": "1.2.0",
            "_view_name": "StyleView",
            "description_width": ""
          }
        },
        "cb19060b1ac9478e8f3e52a99ad6b420": {
          "model_module": "@jupyter-widgets/controls",
          "model_module_version": "1.5.0",
          "model_name": "HBoxModel",
          "state": {
            "_dom_classes": [],
            "_model_module": "@jupyter-widgets/controls",
            "_model_module_version": "1.5.0",
            "_model_name": "HBoxModel",
            "_view_count": null,
            "_view_module": "@jupyter-widgets/controls",
            "_view_module_version": "1.5.0",
            "_view_name": "HBoxView",
            "box_style": "",
            "children": [
              "IPY_MODEL_7dbe63ef83974a67b8a5e5e2aea72306",
              "IPY_MODEL_9de899d751784765a8448f4ff5a24526",
              "IPY_MODEL_0d8b268d9a5b4c90ace776fe6cdf08f4"
            ],
            "layout": "IPY_MODEL_1ebab10704ea4a12afd2d02b4d7064a4"
          }
        },
        "d0a5ca6a18214405ac48663d70e01e5a": {
          "model_module": "@jupyter-widgets/controls",
          "model_module_version": "1.5.0",
          "model_name": "ProgressStyleModel",
          "state": {
            "_model_module": "@jupyter-widgets/controls",
            "_model_module_version": "1.5.0",
            "_model_name": "ProgressStyleModel",
            "_view_count": null,
            "_view_module": "@jupyter-widgets/base",
            "_view_module_version": "1.2.0",
            "_view_name": "StyleView",
            "bar_color": null,
            "description_width": ""
          }
        },
        "d1ab6ade6ca546e991b2380da11b5e01": {
          "model_module": "@jupyter-widgets/controls",
          "model_module_version": "1.5.0",
          "model_name": "HTMLModel",
          "state": {
            "_dom_classes": [],
            "_model_module": "@jupyter-widgets/controls",
            "_model_module_version": "1.5.0",
            "_model_name": "HTMLModel",
            "_view_count": null,
            "_view_module": "@jupyter-widgets/controls",
            "_view_module_version": "1.5.0",
            "_view_name": "HTMLView",
            "description": "",
            "description_tooltip": null,
            "layout": "IPY_MODEL_ecf1262f76b94c779a6b89d6107c5de3",
            "placeholder": "​",
            "style": "IPY_MODEL_12874e9564b843a88d0c402942c62c9e",
            "value": "Generating train split: 100%"
          }
        },
        "d5562a92e1df4da3832822bbef306c9d": {
          "model_module": "@jupyter-widgets/controls",
          "model_module_version": "1.5.0",
          "model_name": "ProgressStyleModel",
          "state": {
            "_model_module": "@jupyter-widgets/controls",
            "_model_module_version": "1.5.0",
            "_model_name": "ProgressStyleModel",
            "_view_count": null,
            "_view_module": "@jupyter-widgets/base",
            "_view_module_version": "1.2.0",
            "_view_name": "StyleView",
            "bar_color": null,
            "description_width": ""
          }
        },
        "d6666591ce6341228f0c79cdeb1dbb9e": {
          "model_module": "@jupyter-widgets/base",
          "model_module_version": "1.2.0",
          "model_name": "LayoutModel",
          "state": {
            "_model_module": "@jupyter-widgets/base",
            "_model_module_version": "1.2.0",
            "_model_name": "LayoutModel",
            "_view_count": null,
            "_view_module": "@jupyter-widgets/base",
            "_view_module_version": "1.2.0",
            "_view_name": "LayoutView",
            "align_content": null,
            "align_items": null,
            "align_self": null,
            "border": null,
            "bottom": null,
            "display": null,
            "flex": null,
            "flex_flow": null,
            "grid_area": null,
            "grid_auto_columns": null,
            "grid_auto_flow": null,
            "grid_auto_rows": null,
            "grid_column": null,
            "grid_gap": null,
            "grid_row": null,
            "grid_template_areas": null,
            "grid_template_columns": null,
            "grid_template_rows": null,
            "height": null,
            "justify_content": null,
            "justify_items": null,
            "left": null,
            "margin": null,
            "max_height": null,
            "max_width": null,
            "min_height": null,
            "min_width": null,
            "object_fit": null,
            "object_position": null,
            "order": null,
            "overflow": null,
            "overflow_x": null,
            "overflow_y": null,
            "padding": null,
            "right": null,
            "top": null,
            "visibility": null,
            "width": null
          }
        },
        "ecf1262f76b94c779a6b89d6107c5de3": {
          "model_module": "@jupyter-widgets/base",
          "model_module_version": "1.2.0",
          "model_name": "LayoutModel",
          "state": {
            "_model_module": "@jupyter-widgets/base",
            "_model_module_version": "1.2.0",
            "_model_name": "LayoutModel",
            "_view_count": null,
            "_view_module": "@jupyter-widgets/base",
            "_view_module_version": "1.2.0",
            "_view_name": "LayoutView",
            "align_content": null,
            "align_items": null,
            "align_self": null,
            "border": null,
            "bottom": null,
            "display": null,
            "flex": null,
            "flex_flow": null,
            "grid_area": null,
            "grid_auto_columns": null,
            "grid_auto_flow": null,
            "grid_auto_rows": null,
            "grid_column": null,
            "grid_gap": null,
            "grid_row": null,
            "grid_template_areas": null,
            "grid_template_columns": null,
            "grid_template_rows": null,
            "height": null,
            "justify_content": null,
            "justify_items": null,
            "left": null,
            "margin": null,
            "max_height": null,
            "max_width": null,
            "min_height": null,
            "min_width": null,
            "object_fit": null,
            "object_position": null,
            "order": null,
            "overflow": null,
            "overflow_x": null,
            "overflow_y": null,
            "padding": null,
            "right": null,
            "top": null,
            "visibility": null,
            "width": null
          }
        },
        "f142b9885dc14d199853587dd7540572": {
          "model_module": "@jupyter-widgets/base",
          "model_module_version": "1.2.0",
          "model_name": "LayoutModel",
          "state": {
            "_model_module": "@jupyter-widgets/base",
            "_model_module_version": "1.2.0",
            "_model_name": "LayoutModel",
            "_view_count": null,
            "_view_module": "@jupyter-widgets/base",
            "_view_module_version": "1.2.0",
            "_view_name": "LayoutView",
            "align_content": null,
            "align_items": null,
            "align_self": null,
            "border": null,
            "bottom": null,
            "display": null,
            "flex": null,
            "flex_flow": null,
            "grid_area": null,
            "grid_auto_columns": null,
            "grid_auto_flow": null,
            "grid_auto_rows": null,
            "grid_column": null,
            "grid_gap": null,
            "grid_row": null,
            "grid_template_areas": null,
            "grid_template_columns": null,
            "grid_template_rows": null,
            "height": null,
            "justify_content": null,
            "justify_items": null,
            "left": null,
            "margin": null,
            "max_height": null,
            "max_width": null,
            "min_height": null,
            "min_width": null,
            "object_fit": null,
            "object_position": null,
            "order": null,
            "overflow": null,
            "overflow_x": null,
            "overflow_y": null,
            "padding": null,
            "right": null,
            "top": null,
            "visibility": null,
            "width": null
          }
        },
        "f9638ea21c394ab886a26133eaf118c7": {
          "model_module": "@jupyter-widgets/controls",
          "model_module_version": "1.5.0",
          "model_name": "HTMLModel",
          "state": {
            "_dom_classes": [],
            "_model_module": "@jupyter-widgets/controls",
            "_model_module_version": "1.5.0",
            "_model_name": "HTMLModel",
            "_view_count": null,
            "_view_module": "@jupyter-widgets/controls",
            "_view_module_version": "1.5.0",
            "_view_name": "HTMLView",
            "description": "",
            "description_tooltip": null,
            "layout": "IPY_MODEL_1e55190db4fe49d0b4b2431c955412b1",
            "placeholder": "​",
            "style": "IPY_MODEL_107c90152ab64d678634fbf70fc04ad2",
            "value": "Downloading data: 100%"
          }
        },
        "fc20d89582524dd29ee762e9275dfeb7": {
          "model_module": "@jupyter-widgets/controls",
          "model_module_version": "1.5.0",
          "model_name": "ProgressStyleModel",
          "state": {
            "_model_module": "@jupyter-widgets/controls",
            "_model_module_version": "1.5.0",
            "_model_name": "ProgressStyleModel",
            "_view_count": null,
            "_view_module": "@jupyter-widgets/base",
            "_view_module_version": "1.2.0",
            "_view_name": "StyleView",
            "bar_color": null,
            "description_width": ""
          }
        },
        "ff9678c4567848e4b7e7c588b282e852": {
          "model_module": "@jupyter-widgets/base",
          "model_module_version": "1.2.0",
          "model_name": "LayoutModel",
          "state": {
            "_model_module": "@jupyter-widgets/base",
            "_model_module_version": "1.2.0",
            "_model_name": "LayoutModel",
            "_view_count": null,
            "_view_module": "@jupyter-widgets/base",
            "_view_module_version": "1.2.0",
            "_view_name": "LayoutView",
            "align_content": null,
            "align_items": null,
            "align_self": null,
            "border": null,
            "bottom": null,
            "display": null,
            "flex": null,
            "flex_flow": null,
            "grid_area": null,
            "grid_auto_columns": null,
            "grid_auto_flow": null,
            "grid_auto_rows": null,
            "grid_column": null,
            "grid_gap": null,
            "grid_row": null,
            "grid_template_areas": null,
            "grid_template_columns": null,
            "grid_template_rows": null,
            "height": null,
            "justify_content": null,
            "justify_items": null,
            "left": null,
            "margin": null,
            "max_height": null,
            "max_width": null,
            "min_height": null,
            "min_width": null,
            "object_fit": null,
            "object_position": null,
            "order": null,
            "overflow": null,
            "overflow_x": null,
            "overflow_y": null,
            "padding": null,
            "right": null,
            "top": null,
            "visibility": null,
            "width": null
          }
        }
      }
    }
  },
  "nbformat": 4,
  "nbformat_minor": 0
}
