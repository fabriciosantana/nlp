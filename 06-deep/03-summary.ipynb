{
  "cells": [
    {
      "cell_type": "markdown",
      "metadata": {
        "colab_type": "text",
        "id": "view-in-github"
      },
      "source": [
        "<a href=\"https://colab.research.google.com/github/fabriciosantana/nlp/blob/main/AKCIT_NLP_M7_Colab_Unidade_5.ipynb\" target=\"_parent\"><img src=\"https://colab.research.google.com/assets/colab-badge.svg\" alt=\"Open In Colab\"/></a>"
      ]
    },
    {
      "cell_type": "markdown",
      "metadata": {
        "id": "gfevqw7Eyf76"
      },
      "source": [
        "# 1- Objetivos de Aprendizagem\n",
        "\n",
        "Neste notebook, exploraremos técnicas de Processamento de Linguagem Natural (NLP) utilizando modelos avançados de geração e sumarização de texto. O objetivo é aprender a aplicar modelos pré-treinados, como o GPT-2 e o T5, em tarefas de geração e resumo de texto, tanto em inglês quanto em português.\n"
      ]
    },
    {
      "cell_type": "markdown",
      "metadata": {
        "id": "OJA5knmZwYFH"
      },
      "source": [
        "\n",
        "# 2- Geração de Texto usando GPT-2\n",
        "\n",
        "Neste exemplo, vamos demonstrar como integrar o GPT-2 em uma aplicação para gerar texto automaticamente. Este tipo de aplicação pode ser útil para empresas que desejam automatizar a criação de conteúdo, como artigos, descrições de produtos, ou postagens em mídias sociais."
      ]
    },
    {
      "cell_type": "markdown",
      "metadata": {
        "id": "s-tAUY-TuGRj"
      },
      "source": [
        "## 2.1- Instalação das Dependências\n",
        "\n",
        "Vamos começar instalando as bibliotecas necessárias."
      ]
    },
    {
      "cell_type": "code",
      "execution_count": null,
      "metadata": {
        "colab": {
          "base_uri": "https://localhost:8080/"
        },
        "id": "hvZsiZ_9xRbd",
        "outputId": "ef05f4a5-6e79-4eb7-f5e4-087bf0f3952f"
      },
      "outputs": [
        {
          "name": "stdout",
          "output_type": "stream",
          "text": [
            "Requirement already satisfied: transformers in /usr/local/lib/python3.10/dist-packages (4.42.4)\n",
            "Requirement already satisfied: filelock in /usr/local/lib/python3.10/dist-packages (from transformers) (3.15.4)\n",
            "Requirement already satisfied: huggingface-hub<1.0,>=0.23.2 in /usr/local/lib/python3.10/dist-packages (from transformers) (0.23.5)\n",
            "Requirement already satisfied: numpy<2.0,>=1.17 in /usr/local/lib/python3.10/dist-packages (from transformers) (1.25.2)\n",
            "Requirement already satisfied: packaging>=20.0 in /usr/local/lib/python3.10/dist-packages (from transformers) (24.1)\n",
            "Requirement already satisfied: pyyaml>=5.1 in /usr/local/lib/python3.10/dist-packages (from transformers) (6.0.1)\n",
            "Requirement already satisfied: regex!=2019.12.17 in /usr/local/lib/python3.10/dist-packages (from transformers) (2024.5.15)\n",
            "Requirement already satisfied: requests in /usr/local/lib/python3.10/dist-packages (from transformers) (2.31.0)\n",
            "Requirement already satisfied: safetensors>=0.4.1 in /usr/local/lib/python3.10/dist-packages (from transformers) (0.4.3)\n",
            "Requirement already satisfied: tokenizers<0.20,>=0.19 in /usr/local/lib/python3.10/dist-packages (from transformers) (0.19.1)\n",
            "Requirement already satisfied: tqdm>=4.27 in /usr/local/lib/python3.10/dist-packages (from transformers) (4.66.4)\n",
            "Requirement already satisfied: fsspec>=2023.5.0 in /usr/local/lib/python3.10/dist-packages (from huggingface-hub<1.0,>=0.23.2->transformers) (2024.6.1)\n",
            "Requirement already satisfied: typing-extensions>=3.7.4.3 in /usr/local/lib/python3.10/dist-packages (from huggingface-hub<1.0,>=0.23.2->transformers) (4.12.2)\n",
            "Requirement already satisfied: charset-normalizer<4,>=2 in /usr/local/lib/python3.10/dist-packages (from requests->transformers) (3.3.2)\n",
            "Requirement already satisfied: idna<4,>=2.5 in /usr/local/lib/python3.10/dist-packages (from requests->transformers) (3.7)\n",
            "Requirement already satisfied: urllib3<3,>=1.21.1 in /usr/local/lib/python3.10/dist-packages (from requests->transformers) (2.0.7)\n",
            "Requirement already satisfied: certifi>=2017.4.17 in /usr/local/lib/python3.10/dist-packages (from requests->transformers) (2024.7.4)\n",
            "Requirement already satisfied: torch in /usr/local/lib/python3.10/dist-packages (2.3.1+cu121)\n",
            "Requirement already satisfied: filelock in /usr/local/lib/python3.10/dist-packages (from torch) (3.15.4)\n",
            "Requirement already satisfied: typing-extensions>=4.8.0 in /usr/local/lib/python3.10/dist-packages (from torch) (4.12.2)\n",
            "Requirement already satisfied: sympy in /usr/local/lib/python3.10/dist-packages (from torch) (1.13.1)\n",
            "Requirement already satisfied: networkx in /usr/local/lib/python3.10/dist-packages (from torch) (3.3)\n",
            "Requirement already satisfied: jinja2 in /usr/local/lib/python3.10/dist-packages (from torch) (3.1.4)\n",
            "Requirement already satisfied: fsspec in /usr/local/lib/python3.10/dist-packages (from torch) (2024.6.1)\n",
            "Collecting nvidia-cuda-nvrtc-cu12==12.1.105 (from torch)\n",
            "  Using cached nvidia_cuda_nvrtc_cu12-12.1.105-py3-none-manylinux1_x86_64.whl.metadata (1.5 kB)\n",
            "Collecting nvidia-cuda-runtime-cu12==12.1.105 (from torch)\n",
            "  Using cached nvidia_cuda_runtime_cu12-12.1.105-py3-none-manylinux1_x86_64.whl.metadata (1.5 kB)\n",
            "Collecting nvidia-cuda-cupti-cu12==12.1.105 (from torch)\n",
            "  Using cached nvidia_cuda_cupti_cu12-12.1.105-py3-none-manylinux1_x86_64.whl.metadata (1.6 kB)\n",
            "Collecting nvidia-cudnn-cu12==8.9.2.26 (from torch)\n",
            "  Using cached nvidia_cudnn_cu12-8.9.2.26-py3-none-manylinux1_x86_64.whl.metadata (1.6 kB)\n",
            "Collecting nvidia-cublas-cu12==12.1.3.1 (from torch)\n",
            "  Using cached nvidia_cublas_cu12-12.1.3.1-py3-none-manylinux1_x86_64.whl.metadata (1.5 kB)\n",
            "Collecting nvidia-cufft-cu12==11.0.2.54 (from torch)\n",
            "  Using cached nvidia_cufft_cu12-11.0.2.54-py3-none-manylinux1_x86_64.whl.metadata (1.5 kB)\n",
            "Collecting nvidia-curand-cu12==10.3.2.106 (from torch)\n",
            "  Using cached nvidia_curand_cu12-10.3.2.106-py3-none-manylinux1_x86_64.whl.metadata (1.5 kB)\n",
            "Collecting nvidia-cusolver-cu12==11.4.5.107 (from torch)\n",
            "  Using cached nvidia_cusolver_cu12-11.4.5.107-py3-none-manylinux1_x86_64.whl.metadata (1.6 kB)\n",
            "Collecting nvidia-cusparse-cu12==12.1.0.106 (from torch)\n",
            "  Using cached nvidia_cusparse_cu12-12.1.0.106-py3-none-manylinux1_x86_64.whl.metadata (1.6 kB)\n",
            "Collecting nvidia-nccl-cu12==2.20.5 (from torch)\n",
            "  Using cached nvidia_nccl_cu12-2.20.5-py3-none-manylinux2014_x86_64.whl.metadata (1.8 kB)\n",
            "Collecting nvidia-nvtx-cu12==12.1.105 (from torch)\n",
            "  Using cached nvidia_nvtx_cu12-12.1.105-py3-none-manylinux1_x86_64.whl.metadata (1.7 kB)\n",
            "Requirement already satisfied: triton==2.3.1 in /usr/local/lib/python3.10/dist-packages (from torch) (2.3.1)\n",
            "Collecting nvidia-nvjitlink-cu12 (from nvidia-cusolver-cu12==11.4.5.107->torch)\n",
            "  Downloading nvidia_nvjitlink_cu12-12.5.82-py3-none-manylinux2014_x86_64.whl.metadata (1.5 kB)\n",
            "Requirement already satisfied: MarkupSafe>=2.0 in /usr/local/lib/python3.10/dist-packages (from jinja2->torch) (2.1.5)\n",
            "Requirement already satisfied: mpmath<1.4,>=1.1.0 in /usr/local/lib/python3.10/dist-packages (from sympy->torch) (1.3.0)\n",
            "Using cached nvidia_cublas_cu12-12.1.3.1-py3-none-manylinux1_x86_64.whl (410.6 MB)\n",
            "Using cached nvidia_cuda_cupti_cu12-12.1.105-py3-none-manylinux1_x86_64.whl (14.1 MB)\n",
            "Using cached nvidia_cuda_nvrtc_cu12-12.1.105-py3-none-manylinux1_x86_64.whl (23.7 MB)\n",
            "Using cached nvidia_cuda_runtime_cu12-12.1.105-py3-none-manylinux1_x86_64.whl (823 kB)\n",
            "Using cached nvidia_cudnn_cu12-8.9.2.26-py3-none-manylinux1_x86_64.whl (731.7 MB)\n",
            "Using cached nvidia_cufft_cu12-11.0.2.54-py3-none-manylinux1_x86_64.whl (121.6 MB)\n",
            "Using cached nvidia_curand_cu12-10.3.2.106-py3-none-manylinux1_x86_64.whl (56.5 MB)\n",
            "Using cached nvidia_cusolver_cu12-11.4.5.107-py3-none-manylinux1_x86_64.whl (124.2 MB)\n",
            "Using cached nvidia_cusparse_cu12-12.1.0.106-py3-none-manylinux1_x86_64.whl (196.0 MB)\n",
            "Using cached nvidia_nccl_cu12-2.20.5-py3-none-manylinux2014_x86_64.whl (176.2 MB)\n",
            "Using cached nvidia_nvtx_cu12-12.1.105-py3-none-manylinux1_x86_64.whl (99 kB)\n",
            "Downloading nvidia_nvjitlink_cu12-12.5.82-py3-none-manylinux2014_x86_64.whl (21.3 MB)\n",
            "\u001b[2K   \u001b[90m━━━━━━━━━━━━━━━━━━━━━━━━━━━━━━━━━━━━━━━━\u001b[0m \u001b[32m21.3/21.3 MB\u001b[0m \u001b[31m26.2 MB/s\u001b[0m eta \u001b[36m0:00:00\u001b[0m\n",
            "\u001b[?25hInstalling collected packages: nvidia-nvtx-cu12, nvidia-nvjitlink-cu12, nvidia-nccl-cu12, nvidia-curand-cu12, nvidia-cufft-cu12, nvidia-cuda-runtime-cu12, nvidia-cuda-nvrtc-cu12, nvidia-cuda-cupti-cu12, nvidia-cublas-cu12, nvidia-cusparse-cu12, nvidia-cudnn-cu12, nvidia-cusolver-cu12\n",
            "Successfully installed nvidia-cublas-cu12-12.1.3.1 nvidia-cuda-cupti-cu12-12.1.105 nvidia-cuda-nvrtc-cu12-12.1.105 nvidia-cuda-runtime-cu12-12.1.105 nvidia-cudnn-cu12-8.9.2.26 nvidia-cufft-cu12-11.0.2.54 nvidia-curand-cu12-10.3.2.106 nvidia-cusolver-cu12-11.4.5.107 nvidia-cusparse-cu12-12.1.0.106 nvidia-nccl-cu12-2.20.5 nvidia-nvjitlink-cu12-12.5.82 nvidia-nvtx-cu12-12.1.105\n"
          ]
        }
      ],
      "source": [
        "!pip install transformers\n",
        "!pip install torch"
      ]
    },
    {
      "cell_type": "markdown",
      "metadata": {
        "id": "al7M5wqduK1X"
      },
      "source": [
        "## 2.2- Importação das Bibliotecas\n",
        "\n",
        "Vamos importar as bibliotecas necessárias para carregar o *pipeline* de geração de texto.\n",
        "\n",
        "*   pipeline - cria pipelines para processamento simplificando tarefas como análise de sentimentos, classificação e resumo de textos entre outros.\n",
        "*   set_seed -  útil para garantir a reprodutibilidade dos resultados. Em operações que envolvem aleatoriedade (inicialização de pesos de modelos, embaralhamento de dados), há a garantia de ter o mesmo comportamento a cada execução.\n",
        "\n"
      ]
    },
    {
      "cell_type": "code",
      "execution_count": null,
      "metadata": {
        "id": "ev8QKwyXmQc6"
      },
      "outputs": [],
      "source": [
        "from transformers import pipeline, set_seed\n",
        "import torch"
      ]
    },
    {
      "cell_type": "markdown",
      "metadata": {
        "id": "UEIi6TlppOtT"
      },
      "source": []
    },
    {
      "cell_type": "markdown",
      "metadata": {
        "id": "TIdgdnm4uPFE"
      },
      "source": [
        "## 2.3- Carregamento do Pipeline de Geração de Texto\n",
        "\n",
        "Vamos carregar o *pipeline* de geração de texto utilizando o modelo `pierreguillou/gpt2-small-portuguese`.\n",
        "Utilizamos a entrada \"device=0 if torch.cuda.is_available() else -1\"  no comando para informar que o modelo será executado usando a CPU. Há opçoes que podem ser adotadas para uso de GPU caso exista."
      ]
    },
    {
      "cell_type": "code",
      "execution_count": null,
      "metadata": {
        "id": "xVlNtdh3mvRQ"
      },
      "outputs": [],
      "source": [
        "model_name = \"pierreguillou/gpt2-small-portuguese\"\n",
        "\n",
        "# Carregando o pipeline de geração de texto\n",
        "generator = pipeline(\"text-generation\", model=model_name, device=0 if torch.cuda.is_available() else -1)"
      ]
    },
    {
      "cell_type": "markdown",
      "metadata": {
        "id": "NvB3ufkBuiNd"
      },
      "source": [
        "## 2.4- Função para Gerar Texto Automaticamente\n",
        "\n",
        "Vamos definir uma função que utiliza o pipeline do GPT-2 para gerar texto a partir de um *prompt* fornecido. As entradas para generator que é o pipeline de geração de texto:\n",
        "\n",
        "*   *prompt*: Será fornecido a função em comando no próximo bloco de código;\n",
        "*   *max_length*: tamanho máximo da entrada a ser gerada, neste caso foi definido 200 tokens;\n",
        "*   *num_return_sequences*: Define a quantidade de seqências a serem retornadas pelo gerador.\n",
        "*   *no_repeat_ngram_size*: Utilizado para impedir que n-grams sejam repetidos no texto, neste caso foram utilizados como entrada os bigramas.\n",
        "*   *early_stopping*: assim que a sequência for csiderada adequada pelo modelo, ele para a geração de texto."
      ]
    },
    {
      "cell_type": "code",
      "execution_count": null,
      "metadata": {
        "id": "buP98cGymxQC"
      },
      "outputs": [],
      "source": [
        "def generate_text(prompt, generator, max_length=200):\n",
        "    # Gerar o texto utilizando o pipeline GPT-2\n",
        "    responses = generator(prompt, max_length=max_length, num_return_sequences=1, no_repeat_ngram_size=2, early_stopping=True)\n",
        "\n",
        "    # Obter o texto gerado\n",
        "    generated_text = responses[0]['generated_text']\n",
        "    return generated_text"
      ]
    },
    {
      "cell_type": "markdown",
      "metadata": {
        "id": "7UFs38J3uoL9"
      },
      "source": [
        "## 2.5- Exemplos de Geração de Texto\n",
        "\n",
        "Vamos definir alguns prompts e utilizar o GPT-2 para gerar textos automáticos a partir desses prompts."
      ]
    },
    {
      "cell_type": "code",
      "execution_count": null,
      "metadata": {
        "colab": {
          "base_uri": "https://localhost:8080/"
        },
        "id": "l00g26-Mm3ux",
        "outputId": "d0a402c2-008e-46a3-a352-5a4a506ce87d"
      },
      "outputs": [
        {
          "name": "stdout",
          "output_type": "stream",
          "text": [
            "Prompt: A inteligência artificial está transformando o setor de saúde ao\n",
            "Texto Gerado: A inteligência artificial está transformando o setor de saúde ao nível técnico, isto é, se transforma os hospitais de ponta em clínicas, laboratórios e centros de treinamento. A pesquisa nessa área está também presente em outros setores da Saúde, como no setor da educação. Os principais centros estão dentro dos estados da Bahia e do Pará.\n",
            "\n",
            "As agências de pesquisa estão presentes nas mais variadas atividades de produção e pesquisa envolvendo pessoas, empresas e os governos. Para o trabalho de controle dessas agências, é necessário fazer investimentos estratégicos nos setores de Ciência, Tecnologia e Inovação. Estas agências também implementam um projeto de avaliação que visa medir o retorno de um certo estímulo, sendo que esse valor está na relação do fator a respeito do investimento. Tais investimentos tendem a ser metas, por exemplo, de curto prazo, e podem ser de longo prazo. Além disso, são desenvolvidos programas em que os programas sejam seguidos com resultados significativos. O principal programa de monitoramento, em conjunto com várias agências dos Estados-membros, está disponível para o público\n",
            "\n",
            "Prompt: As tendências de tecnologia para 2023 incluem\n",
            "Texto Gerado: As tendências de tecnologia para 2023 incluem a necessidade de uma nova camada central de energia e redução de riscos de proliferação. O governo espera desenvolver essa tecnologia ao redor do mundo, a fim de assegurar que as centrais de transporte de alimentos não precisam ficar no controle destas tecnologias. A adoção de um sistema piloto em todo o mundo está contribuindo para reduzir a pressão sobre importações de combustíveis.\n",
            "\n",
            "A tecnologia é um grande problema para muitas organizações e outras organizações. Como consequência, grandes empresas, como o GE, e grandes companhias emergentes como a Samsung têm o interesse em desenvolver técnicas como \"scale de combustível\", para que não seja necessário deixar de operar as infraestruturas necessárias para garantir sua cadeia de suprimentos. As empresas de origem europeia como Toyota são especialmente famosas por desenvolver tecnologias em larga escala, com potencial para levar à revolução de forma rápida e barata. Isso cria uma grande possibilidade de criação de empresas em grande escala. Esta mudança permitiria que empresas mais rentáveis pudessem usar o investimento de mais de $100 bilhões de dólares\n",
            "\n",
            "Prompt: A sustentabilidade nas empresas é importante porque\n",
            "Texto Gerado: A sustentabilidade nas empresas é importante porque promove, promove e fortalece as condições de sustentabilidade. O processo de criação de um sistema de governança que garante a qualidade de vida dos cidadãos foi desenvolvido e implementado pelo Ministério da Integração Nacional, órgão vinculado ao Ministério do Desenvolvimento Rural e Peshina, em junho de 1987. A partir do segundo trimestre do mesmo ano, a organização lançou um relatório de acompanhamento aos gestores públicos sobre a sustentabilidade dos diferentes níveis de atividade. No mesmo período, foram adotados novos Planos de Acompanhamento Nacional (NAOPS), o qual definiu o sistema que está em fase de implementação.\n",
            "\n",
            "A responsabilidade pela gestão dos resíduos urbanos é fundamental para promover o desenvolvimento econômico e social do município, principalmente através da política de transparência do Poder Legislativo municipal. Embora o Poder Executivo deva ser mantido como o chefe administrativo-administrativo da cidade, todos os prefeitos e vereadores são eleitos para mandatos de quatro anos. Ainda que a Câmara Municipal do Recife seja composta por representantes da classe executiva (ass\n",
            "\n",
            "Prompt: A transformação digital nas pequenas empresas\n",
            "Texto Gerado: A transformação digital nas pequenas empresas pode ser crucial. A tecnologia, aliada à redução da necessidade de mão-de-obra qualificada e às habilidades digitais, é essencial para a qualidade de vida e melhorar a infraestrutura produtiva dessas pequenas cidades.\n",
            "\n",
            "O desenvolvimento de tecnologias digitais na educação, saúde e ambiente urbano são cada vez mais importantes, além da qualificação profissional, como acesso a serviços de consultoria, gestão integrado, políticas públicas e iniciativas de melhoria de qualidade no desempenho das empresas. Atualmente, os grandes desafios da sociedade que envolvem a digitalização em massa são inúmeras, e são, portanto, bastante diversificados. Assim, a globalização gerou mudanças que mudaram o curso da tecnologia na sociedade, trazendo novos desafios à produção e transformação na tecnologia da educação. O desafio de criar e manter tecnologias na produção, de forma acessível à comunidade, não é apenas a questão básica da informação, mas a tecnologia produzida e distribuída de modo que todas possam se identificar com a oferta da demanda. Os desafios do mercado global da Educação, Saúde\n",
            "\n",
            "Prompt: O futuro do trabalho remoto será influenciado por\n",
            "Texto Gerado: O futuro do trabalho remoto será influenciado por um futuro distante.\n",
            "\n",
            "O ponto de partida é um mundo onde os humanos e robôs estão criando suas próprias invenções. A combinação desses dois meios é tão importante como um ponto comum do jogo. O jogo, por trás do próximo produto a ser desenvolvido, tem um \"efeito futuro\", é o conceito da liberdade criativa que os computadores controlam de maneira rápida. Assim, o objetivo das tecnologias de hoje é evitar que a humanidade crie ou descuida os objetos que o computador constrói. Além disso, as pessoas têm liberdade na escolha de qual objeto ele se tornará um computador, de modo que as próximas tecnologias não necessariamente melhoram o nível de segurança de um próximo computador. \n",
            "\n",
            "Uma das principais mudanças no campo de jogos em meados da era 50 a.C. é a introdução do uso do CAD/CES para criar novas tecnologias (e não máquinas). Essa mudança abriu a margem de alguns jogos já terem apresentado alguma falha. Por exemplo, a série\n",
            "\n"
          ]
        }
      ],
      "source": [
        "prompts = [\n",
        "    \"A inteligência artificial está transformando o setor de saúde ao\",\n",
        "    \"As tendências de tecnologia para 2023 incluem\",\n",
        "    \"A sustentabilidade nas empresas é importante porque\",\n",
        "    \"A transformação digital nas pequenas empresas\",\n",
        "    \"O futuro do trabalho remoto será influenciado por\"\n",
        "]\n",
        "\n",
        "# Gerando e exibindo textos para cada prompt\n",
        "for prompt in prompts:\n",
        "    generated_text = generate_text(prompt, generator)\n",
        "    print(f\"Prompt: {prompt}\")\n",
        "    print(f\"Texto Gerado: {generated_text}\\n\")"
      ]
    },
    {
      "cell_type": "markdown",
      "metadata": {
        "id": "3AqRKk-4vade"
      },
      "source": [
        "# 3- Sumarização de Texto usando GPT-2\n",
        "\n",
        "Neste exemplo, vamos demonstrar como integrar o GPT-2 para realizar sumarização de texto. Embora o GPT-2 não seja especificamente treinado para sumarização, podemos adaptá-lo fornecendo um prompt que oriente o modelo a gerar um resumo do texto fornecido."
      ]
    },
    {
      "cell_type": "markdown",
      "metadata": {
        "id": "w8-K9lIRvkA6"
      },
      "source": [
        "## 3.1- Carregamento do Pipeline de Geração de Texto\n",
        "\n",
        "Vamos carregar o *pipeline* de geração de texto utilizando o modelo `pierreguillou/gpt2-small-portuguese`."
      ]
    },
    {
      "cell_type": "code",
      "execution_count": null,
      "metadata": {
        "id": "uNUXOlPlu7vq"
      },
      "outputs": [],
      "source": [
        "# Carregando o pipeline de geração de texto\n",
        "generator = pipeline(\"text-generation\", model=model_name, device=0 if torch.cuda.is_available() else -1)\n",
        "\n",
        "# Definindo uma semente para reprodutibilidade\n",
        "set_seed(42)"
      ]
    },
    {
      "cell_type": "markdown",
      "metadata": {
        "id": "_GWvcIeNv5-s"
      },
      "source": [
        "## 3.2- Função para Sumarizar Texto\n",
        "\n",
        "Vamos definir uma função que utiliza o *pipeline* do GPT-2 para gerar resumos de textos longos. Utilizaremos um *prompt* específico para orientar o modelo a gerar um resumo."
      ]
    },
    {
      "cell_type": "code",
      "execution_count": null,
      "metadata": {
        "id": "OMmGP5Q5vlsg"
      },
      "outputs": [],
      "source": [
        "def summarize_with_gpt2(text, generator, max_length=150):\n",
        "    prompt = f\"Resuma o seguinte texto:\\n\\n{text}\\n\\nResumo:\"\n",
        "    response = generator(prompt, max_length=max_length, num_return_sequences=1, no_repeat_ngram_size=2, early_stopping=True)\n",
        "    summarized_text = response[0]['generated_text'].replace(prompt, '').strip()\n",
        "    return summarized_text"
      ]
    },
    {
      "cell_type": "markdown",
      "metadata": {
        "id": "ORbimdmJv-2q"
      },
      "source": [
        "## 3.3- Exemplos de Textos para Sumarização\n",
        "\n",
        "Vamos definir alguns exemplos de textos longos e utilizar o modelo para gerar seus resumos."
      ]
    },
    {
      "cell_type": "code",
      "execution_count": null,
      "metadata": {
        "colab": {
          "base_uri": "https://localhost:8080/"
        },
        "id": "zPQhE4IOv8bg",
        "outputId": "9403fd72-49e2-4363-e0da-d296812b9c49"
      },
      "outputs": [
        {
          "name": "stderr",
          "output_type": "stream",
          "text": [
            "Truncation was not explicitly activated but `max_length` is provided a specific value, please use `truncation=True` to explicitly truncate examples to max length. Defaulting to 'longest_first' truncation strategy. If you encode pairs of sequences (GLUE-style) with the tokenizer you can select this strategy more precisely by providing a specific strategy to `truncation`.\n",
            "/usr/local/lib/python3.10/dist-packages/transformers/generation/configuration_utils.py:588: UserWarning: `num_beams` is set to 1. However, `early_stopping` is set to `True` -- this flag is only used in beam-based generation modes. You should set `num_beams>1` or unset `early_stopping`.\n",
            "  warnings.warn(\n"
          ]
        },
        {
          "name": "stdout",
          "output_type": "stream",
          "text": [
            "Texto Original: A inteligência artificial (IA) está transformando o setor de saúde de várias maneiras. Desde a análise de grandes volumes de dados de pacientes para prever doenças até a personalização de tratamentos com base em dados genéticos, a IA está revolucionando como os cuidados de saúde são prestados. Além disso, tecnologias como machine learning e deep learning estão sendo usadas para desenvolver novas drogas e identificar potenciais tratamentos para doenças complexas. No entanto, a adoção da IA na saúde também enfrenta desafios, incluindo preocupações com a privacidade dos dados dos pacientes e a necessidade de regulamentações claras para garantir o uso ético da tecnologia.\n",
            "Resumo: como a humanidade evoluiu, cada vez mais novas tecnologias podem ser aplicadas na medicina\n",
            "\n",
            "Texto Original: As tendências de tecnologia para 2023 incluem avanços significativos em várias áreas. A inteligência artificial e o machine learning continuam a ser tendências importantes, com aplicações que vão desde a automação de processos até a criação de novas formas de interatividade com os usuários. A computação quântica, embora ainda em seus estágios iniciais, promete revolucionar a forma como processamos informações. Além disso, a 5G está se expandindo globalmente, proporcionando velocidades de internet mais rápidas e mais estáveis. Outras tendências incluem a realidade aumentada e virtual, que estão sendo cada vez mais utilizadas em setores como educação, entretenimento e saúde.\n",
            "Resumo: Tecnologias Emergentes de TI são empregadas em diversos outros setores para desenvolvimento de aplicações web. Uma\n",
            "\n",
            "Texto Original: A sustentabilidade nas empresas é um tema cada vez mais importante, à medida que as organizações reconhecem a necessidade de minimizar seu impacto ambiental. A implementação de práticas sustentáveis não só ajuda a proteger o meio ambiente, mas também pode resultar em economias significativas de custos e melhorar a imagem da empresa junto aos consumidores. Entre as práticas mais comuns estão a redução do consumo de energia, a reciclagem de materiais e a escolha de fornecedores que adotam práticas sustentáveis. No entanto, a transição para a sustentabilidade pode ser desafiadora e requer um compromisso a longo prazo e a participação de todas as partes interessadas da empresa.\n",
            "Resumo: O ambiente é como qualquer outro meio de ser usado, não é o primeiro mas que deve ser\n",
            "\n"
          ]
        }
      ],
      "source": [
        "texts = [\n",
        "    \"\"\"A inteligência artificial (IA) está transformando o setor de saúde de várias maneiras. Desde a análise de grandes volumes de dados de pacientes para prever doenças até a personalização de tratamentos com base em dados genéticos, a IA está revolucionando como os cuidados de saúde são prestados. Além disso, tecnologias como machine learning e deep learning estão sendo usadas para desenvolver novas drogas e identificar potenciais tratamentos para doenças complexas. No entanto, a adoção da IA na saúde também enfrenta desafios, incluindo preocupações com a privacidade dos dados dos pacientes e a necessidade de regulamentações claras para garantir o uso ético da tecnologia.\"\"\",\n",
        "    \"\"\"As tendências de tecnologia para 2023 incluem avanços significativos em várias áreas. A inteligência artificial e o machine learning continuam a ser tendências importantes, com aplicações que vão desde a automação de processos até a criação de novas formas de interatividade com os usuários. A computação quântica, embora ainda em seus estágios iniciais, promete revolucionar a forma como processamos informações. Além disso, a 5G está se expandindo globalmente, proporcionando velocidades de internet mais rápidas e mais estáveis. Outras tendências incluem a realidade aumentada e virtual, que estão sendo cada vez mais utilizadas em setores como educação, entretenimento e saúde.\"\"\",\n",
        "    \"\"\"A sustentabilidade nas empresas é um tema cada vez mais importante, à medida que as organizações reconhecem a necessidade de minimizar seu impacto ambiental. A implementação de práticas sustentáveis não só ajuda a proteger o meio ambiente, mas também pode resultar em economias significativas de custos e melhorar a imagem da empresa junto aos consumidores. Entre as práticas mais comuns estão a redução do consumo de energia, a reciclagem de materiais e a escolha de fornecedores que adotam práticas sustentáveis. No entanto, a transição para a sustentabilidade pode ser desafiadora e requer um compromisso a longo prazo e a participação de todas as partes interessadas da empresa.\"\"\"\n",
        "]\n",
        "\n",
        "# Gerando e exibindo resumos para cada texto\n",
        "for text in texts:\n",
        "    summary = summarize_with_gpt2(text, generator)\n",
        "    print(f\"Texto Original: {text}\")\n",
        "    print(f\"Resumo: {summary}\")\n",
        "    print()"
      ]
    },
    {
      "cell_type": "markdown",
      "metadata": {
        "id": "qVrW19cxxIBR"
      },
      "source": [
        "# 4- Sumarização de Texto usando o T5 em Português\n",
        "\n",
        "Neste exemplo, vamos demonstrar como integrar o modelo T5 adaptado ao português para realizar sumarização de texto. Este tipo de aplicação pode ser útil para empresas que desejam automatizar a criação de resumos de documentos, artigos ou relatórios."
      ]
    },
    {
      "cell_type": "markdown",
      "metadata": {
        "id": "HxElqrG-xPu5"
      },
      "source": [
        "## 4.1- Carregamento do *Pipeline* de Sumarização\n",
        "\n",
        "Vamos carregar o *pipeline* de sumarização utilizando o modelo `unicamp-dl/ptt5-base-portuguese-vocab`."
      ]
    },
    {
      "cell_type": "code",
      "execution_count": null,
      "metadata": {
        "colab": {
          "base_uri": "https://localhost:8080/",
          "height": 209,
          "referenced_widgets": [
            "1c68c830a09c47a097ee0478cd473969",
            "9c595f1d7d3c46a78e7b1da66dc78d26",
            "4916fc02e1f64755a9479a4468f40592",
            "2f5221c6c9bf4ab7951726d2c997f26c",
            "e014c8f59e6b4008826d0862d36642cb",
            "640fc9f03d63491f886a04c13afb3521",
            "a10ca7637b4c43afac9f76fa094fa5b0",
            "8c728eab747545068f0f6e5154ef68ab",
            "e56540880b8a41519c5806b81b175a70",
            "0777ecdc432846ff8ec41d2fb5f17ffd",
            "0c719e0680fa4e14bf388c8bc2bccf24",
            "ec94e7ddbea746eba5ba6e74df578266",
            "0ef1ca784c414b0cb8f09f4648121cff",
            "7173c62fa7214f5e80c25135fb2ee206",
            "3283e47dc77b443fa0311f89ee00632d",
            "e458c3e780964f5f91e67a4dd9a7529c",
            "9ea8c79ceaf6431cb156136e47342ffb",
            "6fdbf095bd6e42ce8fdabc3e5c4ab5af",
            "51547506870e4b02a479fc87198d16e7",
            "c9302b8065144ffe8b62f1ca5892ffc3",
            "ed3d80f5c9c045e59a01a647904451c8",
            "aaacbc20f1ca41bba797d420a5b87892",
            "3ca5c7908b584a4f94ceea5acba25df8",
            "53859e1d39464f43a88b77a37fbd9dd2",
            "b7e0501adc3b42eb996a6ceaf72c91b1",
            "237f8e6fb82a4b5cb363de736165e621",
            "5f439cd013ba4abf94eabc65beff1d63",
            "93c2b71309294fc5a6b34a8d7f43d458",
            "b1d69c6eed4f4a4191512ce3bf691983",
            "ca327359660b4b9493a2ff8a5bc8df0d",
            "70497d339f8d4f4aa14d3ba2de7edacc",
            "d0061a2455d044eab927a9f34ec7d9eb",
            "a00272ac91e840339c5d3b46b1ce4f92",
            "260bba21d6964f2c916ba93fcd056af4",
            "b435c8a3a2a14975bb029c434edf0048",
            "4c3f434dd8e04259b0119ba107a8e5b8",
            "9c1719518b9e422bae62362e15ff3a52",
            "befdb32694224cb59aac18d4fa04c30a",
            "7448c8feb53441edbbfb405f90af90a8",
            "a57fd6f380b1473390273f339ca56777",
            "75af5b77a7c647d6a8b4c8cff7f4f37b",
            "95df938ae7674b578e96a352d755037c",
            "75fe13a2a6824f74bfdcda45e33e3857",
            "c9f2105fed8749e6ad0001ae23e32669",
            "0ec62c3e717849f7bae897085e4856c0",
            "7e725adb456a46afb0af7626660e160d",
            "278cd93db2334b83b3177688b3843702",
            "c3c8863bde0e4e90800655da68a9cf8f",
            "2bf261446f954c9aa0567a0789893f4e",
            "23dd3784a2f84b299046fc63caa8a6ef",
            "fc2208d88b914d35ab9a3fcdf916a4f2",
            "3ff2073fc11d44c6a95c2685f1dcd988",
            "03a8cb2f011b424d8bf257bb3cc8e951",
            "b580c5b5163f43f1a01860a1d6329afb",
            "2e5925e85ff0481ab599a2a0a4e4dfb4",
            "251bff303871431988701e0ff681fbd8",
            "2317378c61d849d286c9d845a41de8c6",
            "df0cdff3868a4c07aa3f55855ecdf9e6",
            "0980b8e5474c4885b600340eeb73fa6e",
            "45b99919ff074b6a910404b327344053",
            "df81f41bfa444d3db04fef128714cc25",
            "bc74774457fb47a99f39b8fc812bf856",
            "63543ec3683c469b8b86d58be7b08029",
            "5737841c6fb44f2fa11c744f1f4610b5",
            "ff9cadda9db3420bbdbeb90cb75b7a15",
            "aab4b01efe4242e5bd0791aeea9871d2"
          ]
        },
        "id": "m7l1PlLIwBKN",
        "outputId": "6e43c145-aea6-46f8-a600-96f4760cc7f6"
      },
      "outputs": [
        {
          "data": {
            "application/vnd.jupyter.widget-view+json": {
              "model_id": "1c68c830a09c47a097ee0478cd473969",
              "version_major": 2,
              "version_minor": 0
            },
            "text/plain": [
              "config.json:   0%|          | 0.00/1.55k [00:00<?, ?B/s]"
            ]
          },
          "metadata": {},
          "output_type": "display_data"
        },
        {
          "data": {
            "application/vnd.jupyter.widget-view+json": {
              "model_id": "ec94e7ddbea746eba5ba6e74df578266",
              "version_major": 2,
              "version_minor": 0
            },
            "text/plain": [
              "model.safetensors:   0%|          | 0.00/308M [00:00<?, ?B/s]"
            ]
          },
          "metadata": {},
          "output_type": "display_data"
        },
        {
          "data": {
            "application/vnd.jupyter.widget-view+json": {
              "model_id": "3ca5c7908b584a4f94ceea5acba25df8",
              "version_major": 2,
              "version_minor": 0
            },
            "text/plain": [
              "generation_config.json:   0%|          | 0.00/112 [00:00<?, ?B/s]"
            ]
          },
          "metadata": {},
          "output_type": "display_data"
        },
        {
          "data": {
            "application/vnd.jupyter.widget-view+json": {
              "model_id": "260bba21d6964f2c916ba93fcd056af4",
              "version_major": 2,
              "version_minor": 0
            },
            "text/plain": [
              "tokenizer_config.json:   0%|          | 0.00/20.8k [00:00<?, ?B/s]"
            ]
          },
          "metadata": {},
          "output_type": "display_data"
        },
        {
          "data": {
            "application/vnd.jupyter.widget-view+json": {
              "model_id": "0ec62c3e717849f7bae897085e4856c0",
              "version_major": 2,
              "version_minor": 0
            },
            "text/plain": [
              "tokenizer.json:   0%|          | 0.00/2.42M [00:00<?, ?B/s]"
            ]
          },
          "metadata": {},
          "output_type": "display_data"
        },
        {
          "data": {
            "application/vnd.jupyter.widget-view+json": {
              "model_id": "251bff303871431988701e0ff681fbd8",
              "version_major": 2,
              "version_minor": 0
            },
            "text/plain": [
              "special_tokens_map.json:   0%|          | 0.00/2.54k [00:00<?, ?B/s]"
            ]
          },
          "metadata": {},
          "output_type": "display_data"
        }
      ],
      "source": [
        "# Carregando o pipeline de sumarização\n",
        "summarizer = pipeline(\n",
        "    \"summarization\",\n",
        "    model=\"rhaymison/flan-t5-portuguese-small-summarization\",\n",
        "    tokenizer=\"rhaymison/flan-t5-portuguese-small-summarization\",\n",
        "    device=0 if torch.cuda.is_available() else -1\n",
        ")"
      ]
    },
    {
      "cell_type": "code",
      "execution_count": null,
      "metadata": {
        "id": "en6hWr5NwFvJ"
      },
      "outputs": [],
      "source": []
    },
    {
      "cell_type": "markdown",
      "metadata": {
        "id": "8lceAfKwxjmv"
      },
      "source": [
        "## 4.2- Função para Sumarizar Texto\n",
        "\n",
        "Vamos definir uma função que utiliza o *pipeline* de sumarização para gerar resumos de textos longos em português."
      ]
    },
    {
      "cell_type": "code",
      "execution_count": null,
      "metadata": {
        "id": "OohI1ONfxRDz"
      },
      "outputs": [],
      "source": [
        "def summarize_text(text, summarizer, max_length=100, min_length=30):\n",
        "    # Gerar o resumo utilizando o pipeline de sumarização\n",
        "    summary = summarizer(text, max_length=max_length, min_length=min_length, do_sample=False)\n",
        "\n",
        "    # Obter o texto resumido\n",
        "    summarized_text = summary[0]['summary_text']\n",
        "    return summarized_text"
      ]
    },
    {
      "cell_type": "markdown",
      "metadata": {
        "id": "DHwhagllxmbX"
      },
      "source": [
        "## 4.3- Exemplos de Textos para Sumarização\n",
        "\n",
        "Vamos definir alguns exemplos de textos longos em português e utilizar o modelo FLAN-T5 para gerar seus resumos."
      ]
    },
    {
      "cell_type": "code",
      "execution_count": null,
      "metadata": {
        "colab": {
          "base_uri": "https://localhost:8080/"
        },
        "id": "ZSyHWTeKxScB",
        "outputId": "1d49e5a4-2941-4788-9514-55c1ba2bea06"
      },
      "outputs": [
        {
          "name": "stdout",
          "output_type": "stream",
          "text": [
            "Texto Original: A inteligência artificial (IA) está transformando o setor de saúde de várias maneiras. Desde a análise de grandes volumes de dados de pacientes para prever doenças até a personalização de tratamentos com base em dados genéticos, a IA está revolucionando como os cuidados de saúde são prestados. Além disso, tecnologias como machine learning e deep learning estão sendo usadas para desenvolver novas drogas e identificar potenciais tratamentos para doenças complexas. No entanto, a adoção da IA na saúde também enfrenta desafios, incluindo preocupações com a privacidade dos dados dos pacientes e a necessidade de regulamentações claras para garantir o uso ético da tecnologia.\n",
            "Resumo: IA transforma setor de sade de várias maneiras. Desde a análise de grandes volumes de pacientes para prever doenças até a personalizaço de tratamentos com base em dados genéticos, a IA está revolucionando como os cuidados de\n",
            "\n",
            "Texto Original: As tendências de tecnologia para 2023 incluem avanços significativos em várias áreas. A inteligência artificial e o machine learning continuam a ser tendências importantes, com aplicações que vão desde a automação de processos até a criação de novas formas de interatividade com os usuários. A computação quântica, embora ainda em seus estágios iniciais, promete revolucionar a forma como processamos informações. Além disso, a 5G está se expandindo globalmente, proporcionando velocidades de internet mais rápidas e mais estáveis. Outras tendências incluem a realidade aumentada e virtual, que estão sendo cada vez mais utilizadas em setores como educação, entretenimento e saúde.\n",
            "Resumo: 5G: computaço quântica promete revolucionar a forma como processamos alertas. A 5G está se expandindo globalmente, proporcionando velocidades de internet mais rápidas e mais estáveis. Outras tendências incluem a realidade aumentada \n",
            "\n",
            "Texto Original: A sustentabilidade nas empresas é um tema cada vez mais importante, à medida que as organizações reconhecem a necessidade de minimizar seu impacto ambiental. A implementação de práticas sustentáveis não só ajuda a proteger o meio ambiente, mas também pode resultar em economias significativas de custos e melhorar a imagem da empresa junto aos consumidores. Entre as práticas mais comuns estão a redução do consumo de energia, a reciclagem de materiais e a escolha de fornecedores que adotam práticas sustentáveis. No entanto, a transição para a sustentabilidade pode ser desafiadora e requer um compromisso a longo prazo e a participação de todas as partes interessadas da empresa.\n",
            "Resumo: Sustentabilidade nas empresas: entenda o que é a medida que organizaçes reconhecem a necessidade de minimizar seu impacto ambiental. A transiço para a suposta no só ajuda a proteger o meio ambiente, mas também\n",
            "\n"
          ]
        }
      ],
      "source": [
        "texts = [\n",
        "    \"\"\"A inteligência artificial (IA) está transformando o setor de saúde de várias maneiras. Desde a análise de grandes volumes de dados de pacientes para prever doenças até a personalização de tratamentos com base em dados genéticos, a IA está revolucionando como os cuidados de saúde são prestados. Além disso, tecnologias como machine learning e deep learning estão sendo usadas para desenvolver novas drogas e identificar potenciais tratamentos para doenças complexas. No entanto, a adoção da IA na saúde também enfrenta desafios, incluindo preocupações com a privacidade dos dados dos pacientes e a necessidade de regulamentações claras para garantir o uso ético da tecnologia.\"\"\",\n",
        "    \"\"\"As tendências de tecnologia para 2023 incluem avanços significativos em várias áreas. A inteligência artificial e o machine learning continuam a ser tendências importantes, com aplicações que vão desde a automação de processos até a criação de novas formas de interatividade com os usuários. A computação quântica, embora ainda em seus estágios iniciais, promete revolucionar a forma como processamos informações. Além disso, a 5G está se expandindo globalmente, proporcionando velocidades de internet mais rápidas e mais estáveis. Outras tendências incluem a realidade aumentada e virtual, que estão sendo cada vez mais utilizadas em setores como educação, entretenimento e saúde.\"\"\",\n",
        "    \"\"\"A sustentabilidade nas empresas é um tema cada vez mais importante, à medida que as organizações reconhecem a necessidade de minimizar seu impacto ambiental. A implementação de práticas sustentáveis não só ajuda a proteger o meio ambiente, mas também pode resultar em economias significativas de custos e melhorar a imagem da empresa junto aos consumidores. Entre as práticas mais comuns estão a redução do consumo de energia, a reciclagem de materiais e a escolha de fornecedores que adotam práticas sustentáveis. No entanto, a transição para a sustentabilidade pode ser desafiadora e requer um compromisso a longo prazo e a participação de todas as partes interessadas da empresa.\"\"\"\n",
        "]\n",
        "\n",
        "# Gerando e exibindo resumos para cada texto\n",
        "for text in texts:\n",
        "    summary = summarize_text(text, summarizer)\n",
        "    print(f\"Texto Original: {text}\")\n",
        "    print(f\"Resumo: {summary}\")\n",
        "    print()"
      ]
    },
    {
      "cell_type": "markdown",
      "metadata": {
        "id": "DNpYzSmf1MVa"
      },
      "source": [
        "# 5- Exercício\n",
        "Para finalizar a seção do **GPT** e **T5** do nosso curso fica o exercício desafio que será divido em quatro partes:\n",
        "\n",
        "\n",
        "\n",
        "1.   Utilizar algum parágrafo da sua escolha do link (https://pt.wikipedia.org/wiki/GPT-3).\n",
        "2.  Realizar o resumo do parágrafo escolhido com o GPT2.\n",
        "3.  Realizar o resumo do parágrafo escolhido com o T5.\n",
        "4.  Escreva seu comentários de qual foi o modelo que melhor realizou a tarefa de sumarização segundo a sua avaliação."
      ]
    },
    {
      "cell_type": "code",
      "execution_count": null,
      "metadata": {
        "id": "7qo1Eoik2YnD"
      },
      "outputs": [],
      "source": []
    }
  ],
  "metadata": {
    "accelerator": "GPU",
    "colab": {
      "gpuType": "T4",
      "include_colab_link": true,
      "provenance": []
    },
    "kernelspec": {
      "display_name": "Python 3",
      "name": "python3"
    },
    "language_info": {
      "name": "python"
    },
    "widgets": {
      "application/vnd.jupyter.widget-state+json": {
        "03a8cb2f011b424d8bf257bb3cc8e951": {
          "model_module": "@jupyter-widgets/controls",
          "model_module_version": "1.5.0",
          "model_name": "ProgressStyleModel",
          "state": {
            "_model_module": "@jupyter-widgets/controls",
            "_model_module_version": "1.5.0",
            "_model_name": "ProgressStyleModel",
            "_view_count": null,
            "_view_module": "@jupyter-widgets/base",
            "_view_module_version": "1.2.0",
            "_view_name": "StyleView",
            "bar_color": null,
            "description_width": ""
          }
        },
        "0777ecdc432846ff8ec41d2fb5f17ffd": {
          "model_module": "@jupyter-widgets/base",
          "model_module_version": "1.2.0",
          "model_name": "LayoutModel",
          "state": {
            "_model_module": "@jupyter-widgets/base",
            "_model_module_version": "1.2.0",
            "_model_name": "LayoutModel",
            "_view_count": null,
            "_view_module": "@jupyter-widgets/base",
            "_view_module_version": "1.2.0",
            "_view_name": "LayoutView",
            "align_content": null,
            "align_items": null,
            "align_self": null,
            "border": null,
            "bottom": null,
            "display": null,
            "flex": null,
            "flex_flow": null,
            "grid_area": null,
            "grid_auto_columns": null,
            "grid_auto_flow": null,
            "grid_auto_rows": null,
            "grid_column": null,
            "grid_gap": null,
            "grid_row": null,
            "grid_template_areas": null,
            "grid_template_columns": null,
            "grid_template_rows": null,
            "height": null,
            "justify_content": null,
            "justify_items": null,
            "left": null,
            "margin": null,
            "max_height": null,
            "max_width": null,
            "min_height": null,
            "min_width": null,
            "object_fit": null,
            "object_position": null,
            "order": null,
            "overflow": null,
            "overflow_x": null,
            "overflow_y": null,
            "padding": null,
            "right": null,
            "top": null,
            "visibility": null,
            "width": null
          }
        },
        "0980b8e5474c4885b600340eeb73fa6e": {
          "model_module": "@jupyter-widgets/controls",
          "model_module_version": "1.5.0",
          "model_name": "HTMLModel",
          "state": {
            "_dom_classes": [],
            "_model_module": "@jupyter-widgets/controls",
            "_model_module_version": "1.5.0",
            "_model_name": "HTMLModel",
            "_view_count": null,
            "_view_module": "@jupyter-widgets/controls",
            "_view_module_version": "1.5.0",
            "_view_name": "HTMLView",
            "description": "",
            "description_tooltip": null,
            "layout": "IPY_MODEL_ff9cadda9db3420bbdbeb90cb75b7a15",
            "placeholder": "​",
            "style": "IPY_MODEL_aab4b01efe4242e5bd0791aeea9871d2",
            "value": " 2.54k/2.54k [00:00&lt;00:00, 182kB/s]"
          }
        },
        "0c719e0680fa4e14bf388c8bc2bccf24": {
          "model_module": "@jupyter-widgets/controls",
          "model_module_version": "1.5.0",
          "model_name": "DescriptionStyleModel",
          "state": {
            "_model_module": "@jupyter-widgets/controls",
            "_model_module_version": "1.5.0",
            "_model_name": "DescriptionStyleModel",
            "_view_count": null,
            "_view_module": "@jupyter-widgets/base",
            "_view_module_version": "1.2.0",
            "_view_name": "StyleView",
            "description_width": ""
          }
        },
        "0ec62c3e717849f7bae897085e4856c0": {
          "model_module": "@jupyter-widgets/controls",
          "model_module_version": "1.5.0",
          "model_name": "HBoxModel",
          "state": {
            "_dom_classes": [],
            "_model_module": "@jupyter-widgets/controls",
            "_model_module_version": "1.5.0",
            "_model_name": "HBoxModel",
            "_view_count": null,
            "_view_module": "@jupyter-widgets/controls",
            "_view_module_version": "1.5.0",
            "_view_name": "HBoxView",
            "box_style": "",
            "children": [
              "IPY_MODEL_7e725adb456a46afb0af7626660e160d",
              "IPY_MODEL_278cd93db2334b83b3177688b3843702",
              "IPY_MODEL_c3c8863bde0e4e90800655da68a9cf8f"
            ],
            "layout": "IPY_MODEL_2bf261446f954c9aa0567a0789893f4e"
          }
        },
        "0ef1ca784c414b0cb8f09f4648121cff": {
          "model_module": "@jupyter-widgets/controls",
          "model_module_version": "1.5.0",
          "model_name": "HTMLModel",
          "state": {
            "_dom_classes": [],
            "_model_module": "@jupyter-widgets/controls",
            "_model_module_version": "1.5.0",
            "_model_name": "HTMLModel",
            "_view_count": null,
            "_view_module": "@jupyter-widgets/controls",
            "_view_module_version": "1.5.0",
            "_view_name": "HTMLView",
            "description": "",
            "description_tooltip": null,
            "layout": "IPY_MODEL_9ea8c79ceaf6431cb156136e47342ffb",
            "placeholder": "​",
            "style": "IPY_MODEL_6fdbf095bd6e42ce8fdabc3e5c4ab5af",
            "value": "model.safetensors: 100%"
          }
        },
        "1c68c830a09c47a097ee0478cd473969": {
          "model_module": "@jupyter-widgets/controls",
          "model_module_version": "1.5.0",
          "model_name": "HBoxModel",
          "state": {
            "_dom_classes": [],
            "_model_module": "@jupyter-widgets/controls",
            "_model_module_version": "1.5.0",
            "_model_name": "HBoxModel",
            "_view_count": null,
            "_view_module": "@jupyter-widgets/controls",
            "_view_module_version": "1.5.0",
            "_view_name": "HBoxView",
            "box_style": "",
            "children": [
              "IPY_MODEL_9c595f1d7d3c46a78e7b1da66dc78d26",
              "IPY_MODEL_4916fc02e1f64755a9479a4468f40592",
              "IPY_MODEL_2f5221c6c9bf4ab7951726d2c997f26c"
            ],
            "layout": "IPY_MODEL_e014c8f59e6b4008826d0862d36642cb"
          }
        },
        "2317378c61d849d286c9d845a41de8c6": {
          "model_module": "@jupyter-widgets/controls",
          "model_module_version": "1.5.0",
          "model_name": "HTMLModel",
          "state": {
            "_dom_classes": [],
            "_model_module": "@jupyter-widgets/controls",
            "_model_module_version": "1.5.0",
            "_model_name": "HTMLModel",
            "_view_count": null,
            "_view_module": "@jupyter-widgets/controls",
            "_view_module_version": "1.5.0",
            "_view_name": "HTMLView",
            "description": "",
            "description_tooltip": null,
            "layout": "IPY_MODEL_df81f41bfa444d3db04fef128714cc25",
            "placeholder": "​",
            "style": "IPY_MODEL_bc74774457fb47a99f39b8fc812bf856",
            "value": "special_tokens_map.json: 100%"
          }
        },
        "237f8e6fb82a4b5cb363de736165e621": {
          "model_module": "@jupyter-widgets/controls",
          "model_module_version": "1.5.0",
          "model_name": "HTMLModel",
          "state": {
            "_dom_classes": [],
            "_model_module": "@jupyter-widgets/controls",
            "_model_module_version": "1.5.0",
            "_model_name": "HTMLModel",
            "_view_count": null,
            "_view_module": "@jupyter-widgets/controls",
            "_view_module_version": "1.5.0",
            "_view_name": "HTMLView",
            "description": "",
            "description_tooltip": null,
            "layout": "IPY_MODEL_d0061a2455d044eab927a9f34ec7d9eb",
            "placeholder": "​",
            "style": "IPY_MODEL_a00272ac91e840339c5d3b46b1ce4f92",
            "value": " 112/112 [00:00&lt;00:00, 8.77kB/s]"
          }
        },
        "23dd3784a2f84b299046fc63caa8a6ef": {
          "model_module": "@jupyter-widgets/base",
          "model_module_version": "1.2.0",
          "model_name": "LayoutModel",
          "state": {
            "_model_module": "@jupyter-widgets/base",
            "_model_module_version": "1.2.0",
            "_model_name": "LayoutModel",
            "_view_count": null,
            "_view_module": "@jupyter-widgets/base",
            "_view_module_version": "1.2.0",
            "_view_name": "LayoutView",
            "align_content": null,
            "align_items": null,
            "align_self": null,
            "border": null,
            "bottom": null,
            "display": null,
            "flex": null,
            "flex_flow": null,
            "grid_area": null,
            "grid_auto_columns": null,
            "grid_auto_flow": null,
            "grid_auto_rows": null,
            "grid_column": null,
            "grid_gap": null,
            "grid_row": null,
            "grid_template_areas": null,
            "grid_template_columns": null,
            "grid_template_rows": null,
            "height": null,
            "justify_content": null,
            "justify_items": null,
            "left": null,
            "margin": null,
            "max_height": null,
            "max_width": null,
            "min_height": null,
            "min_width": null,
            "object_fit": null,
            "object_position": null,
            "order": null,
            "overflow": null,
            "overflow_x": null,
            "overflow_y": null,
            "padding": null,
            "right": null,
            "top": null,
            "visibility": null,
            "width": null
          }
        },
        "251bff303871431988701e0ff681fbd8": {
          "model_module": "@jupyter-widgets/controls",
          "model_module_version": "1.5.0",
          "model_name": "HBoxModel",
          "state": {
            "_dom_classes": [],
            "_model_module": "@jupyter-widgets/controls",
            "_model_module_version": "1.5.0",
            "_model_name": "HBoxModel",
            "_view_count": null,
            "_view_module": "@jupyter-widgets/controls",
            "_view_module_version": "1.5.0",
            "_view_name": "HBoxView",
            "box_style": "",
            "children": [
              "IPY_MODEL_2317378c61d849d286c9d845a41de8c6",
              "IPY_MODEL_df0cdff3868a4c07aa3f55855ecdf9e6",
              "IPY_MODEL_0980b8e5474c4885b600340eeb73fa6e"
            ],
            "layout": "IPY_MODEL_45b99919ff074b6a910404b327344053"
          }
        },
        "260bba21d6964f2c916ba93fcd056af4": {
          "model_module": "@jupyter-widgets/controls",
          "model_module_version": "1.5.0",
          "model_name": "HBoxModel",
          "state": {
            "_dom_classes": [],
            "_model_module": "@jupyter-widgets/controls",
            "_model_module_version": "1.5.0",
            "_model_name": "HBoxModel",
            "_view_count": null,
            "_view_module": "@jupyter-widgets/controls",
            "_view_module_version": "1.5.0",
            "_view_name": "HBoxView",
            "box_style": "",
            "children": [
              "IPY_MODEL_b435c8a3a2a14975bb029c434edf0048",
              "IPY_MODEL_4c3f434dd8e04259b0119ba107a8e5b8",
              "IPY_MODEL_9c1719518b9e422bae62362e15ff3a52"
            ],
            "layout": "IPY_MODEL_befdb32694224cb59aac18d4fa04c30a"
          }
        },
        "278cd93db2334b83b3177688b3843702": {
          "model_module": "@jupyter-widgets/controls",
          "model_module_version": "1.5.0",
          "model_name": "FloatProgressModel",
          "state": {
            "_dom_classes": [],
            "_model_module": "@jupyter-widgets/controls",
            "_model_module_version": "1.5.0",
            "_model_name": "FloatProgressModel",
            "_view_count": null,
            "_view_module": "@jupyter-widgets/controls",
            "_view_module_version": "1.5.0",
            "_view_name": "ProgressView",
            "bar_style": "success",
            "description": "",
            "description_tooltip": null,
            "layout": "IPY_MODEL_3ff2073fc11d44c6a95c2685f1dcd988",
            "max": 2422521,
            "min": 0,
            "orientation": "horizontal",
            "style": "IPY_MODEL_03a8cb2f011b424d8bf257bb3cc8e951",
            "value": 2422521
          }
        },
        "2bf261446f954c9aa0567a0789893f4e": {
          "model_module": "@jupyter-widgets/base",
          "model_module_version": "1.2.0",
          "model_name": "LayoutModel",
          "state": {
            "_model_module": "@jupyter-widgets/base",
            "_model_module_version": "1.2.0",
            "_model_name": "LayoutModel",
            "_view_count": null,
            "_view_module": "@jupyter-widgets/base",
            "_view_module_version": "1.2.0",
            "_view_name": "LayoutView",
            "align_content": null,
            "align_items": null,
            "align_self": null,
            "border": null,
            "bottom": null,
            "display": null,
            "flex": null,
            "flex_flow": null,
            "grid_area": null,
            "grid_auto_columns": null,
            "grid_auto_flow": null,
            "grid_auto_rows": null,
            "grid_column": null,
            "grid_gap": null,
            "grid_row": null,
            "grid_template_areas": null,
            "grid_template_columns": null,
            "grid_template_rows": null,
            "height": null,
            "justify_content": null,
            "justify_items": null,
            "left": null,
            "margin": null,
            "max_height": null,
            "max_width": null,
            "min_height": null,
            "min_width": null,
            "object_fit": null,
            "object_position": null,
            "order": null,
            "overflow": null,
            "overflow_x": null,
            "overflow_y": null,
            "padding": null,
            "right": null,
            "top": null,
            "visibility": null,
            "width": null
          }
        },
        "2e5925e85ff0481ab599a2a0a4e4dfb4": {
          "model_module": "@jupyter-widgets/controls",
          "model_module_version": "1.5.0",
          "model_name": "DescriptionStyleModel",
          "state": {
            "_model_module": "@jupyter-widgets/controls",
            "_model_module_version": "1.5.0",
            "_model_name": "DescriptionStyleModel",
            "_view_count": null,
            "_view_module": "@jupyter-widgets/base",
            "_view_module_version": "1.2.0",
            "_view_name": "StyleView",
            "description_width": ""
          }
        },
        "2f5221c6c9bf4ab7951726d2c997f26c": {
          "model_module": "@jupyter-widgets/controls",
          "model_module_version": "1.5.0",
          "model_name": "HTMLModel",
          "state": {
            "_dom_classes": [],
            "_model_module": "@jupyter-widgets/controls",
            "_model_module_version": "1.5.0",
            "_model_name": "HTMLModel",
            "_view_count": null,
            "_view_module": "@jupyter-widgets/controls",
            "_view_module_version": "1.5.0",
            "_view_name": "HTMLView",
            "description": "",
            "description_tooltip": null,
            "layout": "IPY_MODEL_0777ecdc432846ff8ec41d2fb5f17ffd",
            "placeholder": "​",
            "style": "IPY_MODEL_0c719e0680fa4e14bf388c8bc2bccf24",
            "value": " 1.55k/1.55k [00:00&lt;00:00, 120kB/s]"
          }
        },
        "3283e47dc77b443fa0311f89ee00632d": {
          "model_module": "@jupyter-widgets/controls",
          "model_module_version": "1.5.0",
          "model_name": "HTMLModel",
          "state": {
            "_dom_classes": [],
            "_model_module": "@jupyter-widgets/controls",
            "_model_module_version": "1.5.0",
            "_model_name": "HTMLModel",
            "_view_count": null,
            "_view_module": "@jupyter-widgets/controls",
            "_view_module_version": "1.5.0",
            "_view_name": "HTMLView",
            "description": "",
            "description_tooltip": null,
            "layout": "IPY_MODEL_ed3d80f5c9c045e59a01a647904451c8",
            "placeholder": "​",
            "style": "IPY_MODEL_aaacbc20f1ca41bba797d420a5b87892",
            "value": " 308M/308M [00:12&lt;00:00, 23.2MB/s]"
          }
        },
        "3ca5c7908b584a4f94ceea5acba25df8": {
          "model_module": "@jupyter-widgets/controls",
          "model_module_version": "1.5.0",
          "model_name": "HBoxModel",
          "state": {
            "_dom_classes": [],
            "_model_module": "@jupyter-widgets/controls",
            "_model_module_version": "1.5.0",
            "_model_name": "HBoxModel",
            "_view_count": null,
            "_view_module": "@jupyter-widgets/controls",
            "_view_module_version": "1.5.0",
            "_view_name": "HBoxView",
            "box_style": "",
            "children": [
              "IPY_MODEL_53859e1d39464f43a88b77a37fbd9dd2",
              "IPY_MODEL_b7e0501adc3b42eb996a6ceaf72c91b1",
              "IPY_MODEL_237f8e6fb82a4b5cb363de736165e621"
            ],
            "layout": "IPY_MODEL_5f439cd013ba4abf94eabc65beff1d63"
          }
        },
        "3ff2073fc11d44c6a95c2685f1dcd988": {
          "model_module": "@jupyter-widgets/base",
          "model_module_version": "1.2.0",
          "model_name": "LayoutModel",
          "state": {
            "_model_module": "@jupyter-widgets/base",
            "_model_module_version": "1.2.0",
            "_model_name": "LayoutModel",
            "_view_count": null,
            "_view_module": "@jupyter-widgets/base",
            "_view_module_version": "1.2.0",
            "_view_name": "LayoutView",
            "align_content": null,
            "align_items": null,
            "align_self": null,
            "border": null,
            "bottom": null,
            "display": null,
            "flex": null,
            "flex_flow": null,
            "grid_area": null,
            "grid_auto_columns": null,
            "grid_auto_flow": null,
            "grid_auto_rows": null,
            "grid_column": null,
            "grid_gap": null,
            "grid_row": null,
            "grid_template_areas": null,
            "grid_template_columns": null,
            "grid_template_rows": null,
            "height": null,
            "justify_content": null,
            "justify_items": null,
            "left": null,
            "margin": null,
            "max_height": null,
            "max_width": null,
            "min_height": null,
            "min_width": null,
            "object_fit": null,
            "object_position": null,
            "order": null,
            "overflow": null,
            "overflow_x": null,
            "overflow_y": null,
            "padding": null,
            "right": null,
            "top": null,
            "visibility": null,
            "width": null
          }
        },
        "45b99919ff074b6a910404b327344053": {
          "model_module": "@jupyter-widgets/base",
          "model_module_version": "1.2.0",
          "model_name": "LayoutModel",
          "state": {
            "_model_module": "@jupyter-widgets/base",
            "_model_module_version": "1.2.0",
            "_model_name": "LayoutModel",
            "_view_count": null,
            "_view_module": "@jupyter-widgets/base",
            "_view_module_version": "1.2.0",
            "_view_name": "LayoutView",
            "align_content": null,
            "align_items": null,
            "align_self": null,
            "border": null,
            "bottom": null,
            "display": null,
            "flex": null,
            "flex_flow": null,
            "grid_area": null,
            "grid_auto_columns": null,
            "grid_auto_flow": null,
            "grid_auto_rows": null,
            "grid_column": null,
            "grid_gap": null,
            "grid_row": null,
            "grid_template_areas": null,
            "grid_template_columns": null,
            "grid_template_rows": null,
            "height": null,
            "justify_content": null,
            "justify_items": null,
            "left": null,
            "margin": null,
            "max_height": null,
            "max_width": null,
            "min_height": null,
            "min_width": null,
            "object_fit": null,
            "object_position": null,
            "order": null,
            "overflow": null,
            "overflow_x": null,
            "overflow_y": null,
            "padding": null,
            "right": null,
            "top": null,
            "visibility": null,
            "width": null
          }
        },
        "4916fc02e1f64755a9479a4468f40592": {
          "model_module": "@jupyter-widgets/controls",
          "model_module_version": "1.5.0",
          "model_name": "FloatProgressModel",
          "state": {
            "_dom_classes": [],
            "_model_module": "@jupyter-widgets/controls",
            "_model_module_version": "1.5.0",
            "_model_name": "FloatProgressModel",
            "_view_count": null,
            "_view_module": "@jupyter-widgets/controls",
            "_view_module_version": "1.5.0",
            "_view_name": "ProgressView",
            "bar_style": "success",
            "description": "",
            "description_tooltip": null,
            "layout": "IPY_MODEL_8c728eab747545068f0f6e5154ef68ab",
            "max": 1555,
            "min": 0,
            "orientation": "horizontal",
            "style": "IPY_MODEL_e56540880b8a41519c5806b81b175a70",
            "value": 1555
          }
        },
        "4c3f434dd8e04259b0119ba107a8e5b8": {
          "model_module": "@jupyter-widgets/controls",
          "model_module_version": "1.5.0",
          "model_name": "FloatProgressModel",
          "state": {
            "_dom_classes": [],
            "_model_module": "@jupyter-widgets/controls",
            "_model_module_version": "1.5.0",
            "_model_name": "FloatProgressModel",
            "_view_count": null,
            "_view_module": "@jupyter-widgets/controls",
            "_view_module_version": "1.5.0",
            "_view_name": "ProgressView",
            "bar_style": "success",
            "description": "",
            "description_tooltip": null,
            "layout": "IPY_MODEL_75af5b77a7c647d6a8b4c8cff7f4f37b",
            "max": 20771,
            "min": 0,
            "orientation": "horizontal",
            "style": "IPY_MODEL_95df938ae7674b578e96a352d755037c",
            "value": 20771
          }
        },
        "51547506870e4b02a479fc87198d16e7": {
          "model_module": "@jupyter-widgets/base",
          "model_module_version": "1.2.0",
          "model_name": "LayoutModel",
          "state": {
            "_model_module": "@jupyter-widgets/base",
            "_model_module_version": "1.2.0",
            "_model_name": "LayoutModel",
            "_view_count": null,
            "_view_module": "@jupyter-widgets/base",
            "_view_module_version": "1.2.0",
            "_view_name": "LayoutView",
            "align_content": null,
            "align_items": null,
            "align_self": null,
            "border": null,
            "bottom": null,
            "display": null,
            "flex": null,
            "flex_flow": null,
            "grid_area": null,
            "grid_auto_columns": null,
            "grid_auto_flow": null,
            "grid_auto_rows": null,
            "grid_column": null,
            "grid_gap": null,
            "grid_row": null,
            "grid_template_areas": null,
            "grid_template_columns": null,
            "grid_template_rows": null,
            "height": null,
            "justify_content": null,
            "justify_items": null,
            "left": null,
            "margin": null,
            "max_height": null,
            "max_width": null,
            "min_height": null,
            "min_width": null,
            "object_fit": null,
            "object_position": null,
            "order": null,
            "overflow": null,
            "overflow_x": null,
            "overflow_y": null,
            "padding": null,
            "right": null,
            "top": null,
            "visibility": null,
            "width": null
          }
        },
        "53859e1d39464f43a88b77a37fbd9dd2": {
          "model_module": "@jupyter-widgets/controls",
          "model_module_version": "1.5.0",
          "model_name": "HTMLModel",
          "state": {
            "_dom_classes": [],
            "_model_module": "@jupyter-widgets/controls",
            "_model_module_version": "1.5.0",
            "_model_name": "HTMLModel",
            "_view_count": null,
            "_view_module": "@jupyter-widgets/controls",
            "_view_module_version": "1.5.0",
            "_view_name": "HTMLView",
            "description": "",
            "description_tooltip": null,
            "layout": "IPY_MODEL_93c2b71309294fc5a6b34a8d7f43d458",
            "placeholder": "​",
            "style": "IPY_MODEL_b1d69c6eed4f4a4191512ce3bf691983",
            "value": "generation_config.json: 100%"
          }
        },
        "5737841c6fb44f2fa11c744f1f4610b5": {
          "model_module": "@jupyter-widgets/controls",
          "model_module_version": "1.5.0",
          "model_name": "ProgressStyleModel",
          "state": {
            "_model_module": "@jupyter-widgets/controls",
            "_model_module_version": "1.5.0",
            "_model_name": "ProgressStyleModel",
            "_view_count": null,
            "_view_module": "@jupyter-widgets/base",
            "_view_module_version": "1.2.0",
            "_view_name": "StyleView",
            "bar_color": null,
            "description_width": ""
          }
        },
        "5f439cd013ba4abf94eabc65beff1d63": {
          "model_module": "@jupyter-widgets/base",
          "model_module_version": "1.2.0",
          "model_name": "LayoutModel",
          "state": {
            "_model_module": "@jupyter-widgets/base",
            "_model_module_version": "1.2.0",
            "_model_name": "LayoutModel",
            "_view_count": null,
            "_view_module": "@jupyter-widgets/base",
            "_view_module_version": "1.2.0",
            "_view_name": "LayoutView",
            "align_content": null,
            "align_items": null,
            "align_self": null,
            "border": null,
            "bottom": null,
            "display": null,
            "flex": null,
            "flex_flow": null,
            "grid_area": null,
            "grid_auto_columns": null,
            "grid_auto_flow": null,
            "grid_auto_rows": null,
            "grid_column": null,
            "grid_gap": null,
            "grid_row": null,
            "grid_template_areas": null,
            "grid_template_columns": null,
            "grid_template_rows": null,
            "height": null,
            "justify_content": null,
            "justify_items": null,
            "left": null,
            "margin": null,
            "max_height": null,
            "max_width": null,
            "min_height": null,
            "min_width": null,
            "object_fit": null,
            "object_position": null,
            "order": null,
            "overflow": null,
            "overflow_x": null,
            "overflow_y": null,
            "padding": null,
            "right": null,
            "top": null,
            "visibility": null,
            "width": null
          }
        },
        "63543ec3683c469b8b86d58be7b08029": {
          "model_module": "@jupyter-widgets/base",
          "model_module_version": "1.2.0",
          "model_name": "LayoutModel",
          "state": {
            "_model_module": "@jupyter-widgets/base",
            "_model_module_version": "1.2.0",
            "_model_name": "LayoutModel",
            "_view_count": null,
            "_view_module": "@jupyter-widgets/base",
            "_view_module_version": "1.2.0",
            "_view_name": "LayoutView",
            "align_content": null,
            "align_items": null,
            "align_self": null,
            "border": null,
            "bottom": null,
            "display": null,
            "flex": null,
            "flex_flow": null,
            "grid_area": null,
            "grid_auto_columns": null,
            "grid_auto_flow": null,
            "grid_auto_rows": null,
            "grid_column": null,
            "grid_gap": null,
            "grid_row": null,
            "grid_template_areas": null,
            "grid_template_columns": null,
            "grid_template_rows": null,
            "height": null,
            "justify_content": null,
            "justify_items": null,
            "left": null,
            "margin": null,
            "max_height": null,
            "max_width": null,
            "min_height": null,
            "min_width": null,
            "object_fit": null,
            "object_position": null,
            "order": null,
            "overflow": null,
            "overflow_x": null,
            "overflow_y": null,
            "padding": null,
            "right": null,
            "top": null,
            "visibility": null,
            "width": null
          }
        },
        "640fc9f03d63491f886a04c13afb3521": {
          "model_module": "@jupyter-widgets/base",
          "model_module_version": "1.2.0",
          "model_name": "LayoutModel",
          "state": {
            "_model_module": "@jupyter-widgets/base",
            "_model_module_version": "1.2.0",
            "_model_name": "LayoutModel",
            "_view_count": null,
            "_view_module": "@jupyter-widgets/base",
            "_view_module_version": "1.2.0",
            "_view_name": "LayoutView",
            "align_content": null,
            "align_items": null,
            "align_self": null,
            "border": null,
            "bottom": null,
            "display": null,
            "flex": null,
            "flex_flow": null,
            "grid_area": null,
            "grid_auto_columns": null,
            "grid_auto_flow": null,
            "grid_auto_rows": null,
            "grid_column": null,
            "grid_gap": null,
            "grid_row": null,
            "grid_template_areas": null,
            "grid_template_columns": null,
            "grid_template_rows": null,
            "height": null,
            "justify_content": null,
            "justify_items": null,
            "left": null,
            "margin": null,
            "max_height": null,
            "max_width": null,
            "min_height": null,
            "min_width": null,
            "object_fit": null,
            "object_position": null,
            "order": null,
            "overflow": null,
            "overflow_x": null,
            "overflow_y": null,
            "padding": null,
            "right": null,
            "top": null,
            "visibility": null,
            "width": null
          }
        },
        "6fdbf095bd6e42ce8fdabc3e5c4ab5af": {
          "model_module": "@jupyter-widgets/controls",
          "model_module_version": "1.5.0",
          "model_name": "DescriptionStyleModel",
          "state": {
            "_model_module": "@jupyter-widgets/controls",
            "_model_module_version": "1.5.0",
            "_model_name": "DescriptionStyleModel",
            "_view_count": null,
            "_view_module": "@jupyter-widgets/base",
            "_view_module_version": "1.2.0",
            "_view_name": "StyleView",
            "description_width": ""
          }
        },
        "70497d339f8d4f4aa14d3ba2de7edacc": {
          "model_module": "@jupyter-widgets/controls",
          "model_module_version": "1.5.0",
          "model_name": "ProgressStyleModel",
          "state": {
            "_model_module": "@jupyter-widgets/controls",
            "_model_module_version": "1.5.0",
            "_model_name": "ProgressStyleModel",
            "_view_count": null,
            "_view_module": "@jupyter-widgets/base",
            "_view_module_version": "1.2.0",
            "_view_name": "StyleView",
            "bar_color": null,
            "description_width": ""
          }
        },
        "7173c62fa7214f5e80c25135fb2ee206": {
          "model_module": "@jupyter-widgets/controls",
          "model_module_version": "1.5.0",
          "model_name": "FloatProgressModel",
          "state": {
            "_dom_classes": [],
            "_model_module": "@jupyter-widgets/controls",
            "_model_module_version": "1.5.0",
            "_model_name": "FloatProgressModel",
            "_view_count": null,
            "_view_module": "@jupyter-widgets/controls",
            "_view_module_version": "1.5.0",
            "_view_name": "ProgressView",
            "bar_style": "success",
            "description": "",
            "description_tooltip": null,
            "layout": "IPY_MODEL_51547506870e4b02a479fc87198d16e7",
            "max": 307867048,
            "min": 0,
            "orientation": "horizontal",
            "style": "IPY_MODEL_c9302b8065144ffe8b62f1ca5892ffc3",
            "value": 307867048
          }
        },
        "7448c8feb53441edbbfb405f90af90a8": {
          "model_module": "@jupyter-widgets/base",
          "model_module_version": "1.2.0",
          "model_name": "LayoutModel",
          "state": {
            "_model_module": "@jupyter-widgets/base",
            "_model_module_version": "1.2.0",
            "_model_name": "LayoutModel",
            "_view_count": null,
            "_view_module": "@jupyter-widgets/base",
            "_view_module_version": "1.2.0",
            "_view_name": "LayoutView",
            "align_content": null,
            "align_items": null,
            "align_self": null,
            "border": null,
            "bottom": null,
            "display": null,
            "flex": null,
            "flex_flow": null,
            "grid_area": null,
            "grid_auto_columns": null,
            "grid_auto_flow": null,
            "grid_auto_rows": null,
            "grid_column": null,
            "grid_gap": null,
            "grid_row": null,
            "grid_template_areas": null,
            "grid_template_columns": null,
            "grid_template_rows": null,
            "height": null,
            "justify_content": null,
            "justify_items": null,
            "left": null,
            "margin": null,
            "max_height": null,
            "max_width": null,
            "min_height": null,
            "min_width": null,
            "object_fit": null,
            "object_position": null,
            "order": null,
            "overflow": null,
            "overflow_x": null,
            "overflow_y": null,
            "padding": null,
            "right": null,
            "top": null,
            "visibility": null,
            "width": null
          }
        },
        "75af5b77a7c647d6a8b4c8cff7f4f37b": {
          "model_module": "@jupyter-widgets/base",
          "model_module_version": "1.2.0",
          "model_name": "LayoutModel",
          "state": {
            "_model_module": "@jupyter-widgets/base",
            "_model_module_version": "1.2.0",
            "_model_name": "LayoutModel",
            "_view_count": null,
            "_view_module": "@jupyter-widgets/base",
            "_view_module_version": "1.2.0",
            "_view_name": "LayoutView",
            "align_content": null,
            "align_items": null,
            "align_self": null,
            "border": null,
            "bottom": null,
            "display": null,
            "flex": null,
            "flex_flow": null,
            "grid_area": null,
            "grid_auto_columns": null,
            "grid_auto_flow": null,
            "grid_auto_rows": null,
            "grid_column": null,
            "grid_gap": null,
            "grid_row": null,
            "grid_template_areas": null,
            "grid_template_columns": null,
            "grid_template_rows": null,
            "height": null,
            "justify_content": null,
            "justify_items": null,
            "left": null,
            "margin": null,
            "max_height": null,
            "max_width": null,
            "min_height": null,
            "min_width": null,
            "object_fit": null,
            "object_position": null,
            "order": null,
            "overflow": null,
            "overflow_x": null,
            "overflow_y": null,
            "padding": null,
            "right": null,
            "top": null,
            "visibility": null,
            "width": null
          }
        },
        "75fe13a2a6824f74bfdcda45e33e3857": {
          "model_module": "@jupyter-widgets/base",
          "model_module_version": "1.2.0",
          "model_name": "LayoutModel",
          "state": {
            "_model_module": "@jupyter-widgets/base",
            "_model_module_version": "1.2.0",
            "_model_name": "LayoutModel",
            "_view_count": null,
            "_view_module": "@jupyter-widgets/base",
            "_view_module_version": "1.2.0",
            "_view_name": "LayoutView",
            "align_content": null,
            "align_items": null,
            "align_self": null,
            "border": null,
            "bottom": null,
            "display": null,
            "flex": null,
            "flex_flow": null,
            "grid_area": null,
            "grid_auto_columns": null,
            "grid_auto_flow": null,
            "grid_auto_rows": null,
            "grid_column": null,
            "grid_gap": null,
            "grid_row": null,
            "grid_template_areas": null,
            "grid_template_columns": null,
            "grid_template_rows": null,
            "height": null,
            "justify_content": null,
            "justify_items": null,
            "left": null,
            "margin": null,
            "max_height": null,
            "max_width": null,
            "min_height": null,
            "min_width": null,
            "object_fit": null,
            "object_position": null,
            "order": null,
            "overflow": null,
            "overflow_x": null,
            "overflow_y": null,
            "padding": null,
            "right": null,
            "top": null,
            "visibility": null,
            "width": null
          }
        },
        "7e725adb456a46afb0af7626660e160d": {
          "model_module": "@jupyter-widgets/controls",
          "model_module_version": "1.5.0",
          "model_name": "HTMLModel",
          "state": {
            "_dom_classes": [],
            "_model_module": "@jupyter-widgets/controls",
            "_model_module_version": "1.5.0",
            "_model_name": "HTMLModel",
            "_view_count": null,
            "_view_module": "@jupyter-widgets/controls",
            "_view_module_version": "1.5.0",
            "_view_name": "HTMLView",
            "description": "",
            "description_tooltip": null,
            "layout": "IPY_MODEL_23dd3784a2f84b299046fc63caa8a6ef",
            "placeholder": "​",
            "style": "IPY_MODEL_fc2208d88b914d35ab9a3fcdf916a4f2",
            "value": "tokenizer.json: 100%"
          }
        },
        "8c728eab747545068f0f6e5154ef68ab": {
          "model_module": "@jupyter-widgets/base",
          "model_module_version": "1.2.0",
          "model_name": "LayoutModel",
          "state": {
            "_model_module": "@jupyter-widgets/base",
            "_model_module_version": "1.2.0",
            "_model_name": "LayoutModel",
            "_view_count": null,
            "_view_module": "@jupyter-widgets/base",
            "_view_module_version": "1.2.0",
            "_view_name": "LayoutView",
            "align_content": null,
            "align_items": null,
            "align_self": null,
            "border": null,
            "bottom": null,
            "display": null,
            "flex": null,
            "flex_flow": null,
            "grid_area": null,
            "grid_auto_columns": null,
            "grid_auto_flow": null,
            "grid_auto_rows": null,
            "grid_column": null,
            "grid_gap": null,
            "grid_row": null,
            "grid_template_areas": null,
            "grid_template_columns": null,
            "grid_template_rows": null,
            "height": null,
            "justify_content": null,
            "justify_items": null,
            "left": null,
            "margin": null,
            "max_height": null,
            "max_width": null,
            "min_height": null,
            "min_width": null,
            "object_fit": null,
            "object_position": null,
            "order": null,
            "overflow": null,
            "overflow_x": null,
            "overflow_y": null,
            "padding": null,
            "right": null,
            "top": null,
            "visibility": null,
            "width": null
          }
        },
        "93c2b71309294fc5a6b34a8d7f43d458": {
          "model_module": "@jupyter-widgets/base",
          "model_module_version": "1.2.0",
          "model_name": "LayoutModel",
          "state": {
            "_model_module": "@jupyter-widgets/base",
            "_model_module_version": "1.2.0",
            "_model_name": "LayoutModel",
            "_view_count": null,
            "_view_module": "@jupyter-widgets/base",
            "_view_module_version": "1.2.0",
            "_view_name": "LayoutView",
            "align_content": null,
            "align_items": null,
            "align_self": null,
            "border": null,
            "bottom": null,
            "display": null,
            "flex": null,
            "flex_flow": null,
            "grid_area": null,
            "grid_auto_columns": null,
            "grid_auto_flow": null,
            "grid_auto_rows": null,
            "grid_column": null,
            "grid_gap": null,
            "grid_row": null,
            "grid_template_areas": null,
            "grid_template_columns": null,
            "grid_template_rows": null,
            "height": null,
            "justify_content": null,
            "justify_items": null,
            "left": null,
            "margin": null,
            "max_height": null,
            "max_width": null,
            "min_height": null,
            "min_width": null,
            "object_fit": null,
            "object_position": null,
            "order": null,
            "overflow": null,
            "overflow_x": null,
            "overflow_y": null,
            "padding": null,
            "right": null,
            "top": null,
            "visibility": null,
            "width": null
          }
        },
        "95df938ae7674b578e96a352d755037c": {
          "model_module": "@jupyter-widgets/controls",
          "model_module_version": "1.5.0",
          "model_name": "ProgressStyleModel",
          "state": {
            "_model_module": "@jupyter-widgets/controls",
            "_model_module_version": "1.5.0",
            "_model_name": "ProgressStyleModel",
            "_view_count": null,
            "_view_module": "@jupyter-widgets/base",
            "_view_module_version": "1.2.0",
            "_view_name": "StyleView",
            "bar_color": null,
            "description_width": ""
          }
        },
        "9c1719518b9e422bae62362e15ff3a52": {
          "model_module": "@jupyter-widgets/controls",
          "model_module_version": "1.5.0",
          "model_name": "HTMLModel",
          "state": {
            "_dom_classes": [],
            "_model_module": "@jupyter-widgets/controls",
            "_model_module_version": "1.5.0",
            "_model_name": "HTMLModel",
            "_view_count": null,
            "_view_module": "@jupyter-widgets/controls",
            "_view_module_version": "1.5.0",
            "_view_name": "HTMLView",
            "description": "",
            "description_tooltip": null,
            "layout": "IPY_MODEL_75fe13a2a6824f74bfdcda45e33e3857",
            "placeholder": "​",
            "style": "IPY_MODEL_c9f2105fed8749e6ad0001ae23e32669",
            "value": " 20.8k/20.8k [00:00&lt;00:00, 1.32MB/s]"
          }
        },
        "9c595f1d7d3c46a78e7b1da66dc78d26": {
          "model_module": "@jupyter-widgets/controls",
          "model_module_version": "1.5.0",
          "model_name": "HTMLModel",
          "state": {
            "_dom_classes": [],
            "_model_module": "@jupyter-widgets/controls",
            "_model_module_version": "1.5.0",
            "_model_name": "HTMLModel",
            "_view_count": null,
            "_view_module": "@jupyter-widgets/controls",
            "_view_module_version": "1.5.0",
            "_view_name": "HTMLView",
            "description": "",
            "description_tooltip": null,
            "layout": "IPY_MODEL_640fc9f03d63491f886a04c13afb3521",
            "placeholder": "​",
            "style": "IPY_MODEL_a10ca7637b4c43afac9f76fa094fa5b0",
            "value": "config.json: 100%"
          }
        },
        "9ea8c79ceaf6431cb156136e47342ffb": {
          "model_module": "@jupyter-widgets/base",
          "model_module_version": "1.2.0",
          "model_name": "LayoutModel",
          "state": {
            "_model_module": "@jupyter-widgets/base",
            "_model_module_version": "1.2.0",
            "_model_name": "LayoutModel",
            "_view_count": null,
            "_view_module": "@jupyter-widgets/base",
            "_view_module_version": "1.2.0",
            "_view_name": "LayoutView",
            "align_content": null,
            "align_items": null,
            "align_self": null,
            "border": null,
            "bottom": null,
            "display": null,
            "flex": null,
            "flex_flow": null,
            "grid_area": null,
            "grid_auto_columns": null,
            "grid_auto_flow": null,
            "grid_auto_rows": null,
            "grid_column": null,
            "grid_gap": null,
            "grid_row": null,
            "grid_template_areas": null,
            "grid_template_columns": null,
            "grid_template_rows": null,
            "height": null,
            "justify_content": null,
            "justify_items": null,
            "left": null,
            "margin": null,
            "max_height": null,
            "max_width": null,
            "min_height": null,
            "min_width": null,
            "object_fit": null,
            "object_position": null,
            "order": null,
            "overflow": null,
            "overflow_x": null,
            "overflow_y": null,
            "padding": null,
            "right": null,
            "top": null,
            "visibility": null,
            "width": null
          }
        },
        "a00272ac91e840339c5d3b46b1ce4f92": {
          "model_module": "@jupyter-widgets/controls",
          "model_module_version": "1.5.0",
          "model_name": "DescriptionStyleModel",
          "state": {
            "_model_module": "@jupyter-widgets/controls",
            "_model_module_version": "1.5.0",
            "_model_name": "DescriptionStyleModel",
            "_view_count": null,
            "_view_module": "@jupyter-widgets/base",
            "_view_module_version": "1.2.0",
            "_view_name": "StyleView",
            "description_width": ""
          }
        },
        "a10ca7637b4c43afac9f76fa094fa5b0": {
          "model_module": "@jupyter-widgets/controls",
          "model_module_version": "1.5.0",
          "model_name": "DescriptionStyleModel",
          "state": {
            "_model_module": "@jupyter-widgets/controls",
            "_model_module_version": "1.5.0",
            "_model_name": "DescriptionStyleModel",
            "_view_count": null,
            "_view_module": "@jupyter-widgets/base",
            "_view_module_version": "1.2.0",
            "_view_name": "StyleView",
            "description_width": ""
          }
        },
        "a57fd6f380b1473390273f339ca56777": {
          "model_module": "@jupyter-widgets/controls",
          "model_module_version": "1.5.0",
          "model_name": "DescriptionStyleModel",
          "state": {
            "_model_module": "@jupyter-widgets/controls",
            "_model_module_version": "1.5.0",
            "_model_name": "DescriptionStyleModel",
            "_view_count": null,
            "_view_module": "@jupyter-widgets/base",
            "_view_module_version": "1.2.0",
            "_view_name": "StyleView",
            "description_width": ""
          }
        },
        "aaacbc20f1ca41bba797d420a5b87892": {
          "model_module": "@jupyter-widgets/controls",
          "model_module_version": "1.5.0",
          "model_name": "DescriptionStyleModel",
          "state": {
            "_model_module": "@jupyter-widgets/controls",
            "_model_module_version": "1.5.0",
            "_model_name": "DescriptionStyleModel",
            "_view_count": null,
            "_view_module": "@jupyter-widgets/base",
            "_view_module_version": "1.2.0",
            "_view_name": "StyleView",
            "description_width": ""
          }
        },
        "aab4b01efe4242e5bd0791aeea9871d2": {
          "model_module": "@jupyter-widgets/controls",
          "model_module_version": "1.5.0",
          "model_name": "DescriptionStyleModel",
          "state": {
            "_model_module": "@jupyter-widgets/controls",
            "_model_module_version": "1.5.0",
            "_model_name": "DescriptionStyleModel",
            "_view_count": null,
            "_view_module": "@jupyter-widgets/base",
            "_view_module_version": "1.2.0",
            "_view_name": "StyleView",
            "description_width": ""
          }
        },
        "b1d69c6eed4f4a4191512ce3bf691983": {
          "model_module": "@jupyter-widgets/controls",
          "model_module_version": "1.5.0",
          "model_name": "DescriptionStyleModel",
          "state": {
            "_model_module": "@jupyter-widgets/controls",
            "_model_module_version": "1.5.0",
            "_model_name": "DescriptionStyleModel",
            "_view_count": null,
            "_view_module": "@jupyter-widgets/base",
            "_view_module_version": "1.2.0",
            "_view_name": "StyleView",
            "description_width": ""
          }
        },
        "b435c8a3a2a14975bb029c434edf0048": {
          "model_module": "@jupyter-widgets/controls",
          "model_module_version": "1.5.0",
          "model_name": "HTMLModel",
          "state": {
            "_dom_classes": [],
            "_model_module": "@jupyter-widgets/controls",
            "_model_module_version": "1.5.0",
            "_model_name": "HTMLModel",
            "_view_count": null,
            "_view_module": "@jupyter-widgets/controls",
            "_view_module_version": "1.5.0",
            "_view_name": "HTMLView",
            "description": "",
            "description_tooltip": null,
            "layout": "IPY_MODEL_7448c8feb53441edbbfb405f90af90a8",
            "placeholder": "​",
            "style": "IPY_MODEL_a57fd6f380b1473390273f339ca56777",
            "value": "tokenizer_config.json: 100%"
          }
        },
        "b580c5b5163f43f1a01860a1d6329afb": {
          "model_module": "@jupyter-widgets/base",
          "model_module_version": "1.2.0",
          "model_name": "LayoutModel",
          "state": {
            "_model_module": "@jupyter-widgets/base",
            "_model_module_version": "1.2.0",
            "_model_name": "LayoutModel",
            "_view_count": null,
            "_view_module": "@jupyter-widgets/base",
            "_view_module_version": "1.2.0",
            "_view_name": "LayoutView",
            "align_content": null,
            "align_items": null,
            "align_self": null,
            "border": null,
            "bottom": null,
            "display": null,
            "flex": null,
            "flex_flow": null,
            "grid_area": null,
            "grid_auto_columns": null,
            "grid_auto_flow": null,
            "grid_auto_rows": null,
            "grid_column": null,
            "grid_gap": null,
            "grid_row": null,
            "grid_template_areas": null,
            "grid_template_columns": null,
            "grid_template_rows": null,
            "height": null,
            "justify_content": null,
            "justify_items": null,
            "left": null,
            "margin": null,
            "max_height": null,
            "max_width": null,
            "min_height": null,
            "min_width": null,
            "object_fit": null,
            "object_position": null,
            "order": null,
            "overflow": null,
            "overflow_x": null,
            "overflow_y": null,
            "padding": null,
            "right": null,
            "top": null,
            "visibility": null,
            "width": null
          }
        },
        "b7e0501adc3b42eb996a6ceaf72c91b1": {
          "model_module": "@jupyter-widgets/controls",
          "model_module_version": "1.5.0",
          "model_name": "FloatProgressModel",
          "state": {
            "_dom_classes": [],
            "_model_module": "@jupyter-widgets/controls",
            "_model_module_version": "1.5.0",
            "_model_name": "FloatProgressModel",
            "_view_count": null,
            "_view_module": "@jupyter-widgets/controls",
            "_view_module_version": "1.5.0",
            "_view_name": "ProgressView",
            "bar_style": "success",
            "description": "",
            "description_tooltip": null,
            "layout": "IPY_MODEL_ca327359660b4b9493a2ff8a5bc8df0d",
            "max": 112,
            "min": 0,
            "orientation": "horizontal",
            "style": "IPY_MODEL_70497d339f8d4f4aa14d3ba2de7edacc",
            "value": 112
          }
        },
        "bc74774457fb47a99f39b8fc812bf856": {
          "model_module": "@jupyter-widgets/controls",
          "model_module_version": "1.5.0",
          "model_name": "DescriptionStyleModel",
          "state": {
            "_model_module": "@jupyter-widgets/controls",
            "_model_module_version": "1.5.0",
            "_model_name": "DescriptionStyleModel",
            "_view_count": null,
            "_view_module": "@jupyter-widgets/base",
            "_view_module_version": "1.2.0",
            "_view_name": "StyleView",
            "description_width": ""
          }
        },
        "befdb32694224cb59aac18d4fa04c30a": {
          "model_module": "@jupyter-widgets/base",
          "model_module_version": "1.2.0",
          "model_name": "LayoutModel",
          "state": {
            "_model_module": "@jupyter-widgets/base",
            "_model_module_version": "1.2.0",
            "_model_name": "LayoutModel",
            "_view_count": null,
            "_view_module": "@jupyter-widgets/base",
            "_view_module_version": "1.2.0",
            "_view_name": "LayoutView",
            "align_content": null,
            "align_items": null,
            "align_self": null,
            "border": null,
            "bottom": null,
            "display": null,
            "flex": null,
            "flex_flow": null,
            "grid_area": null,
            "grid_auto_columns": null,
            "grid_auto_flow": null,
            "grid_auto_rows": null,
            "grid_column": null,
            "grid_gap": null,
            "grid_row": null,
            "grid_template_areas": null,
            "grid_template_columns": null,
            "grid_template_rows": null,
            "height": null,
            "justify_content": null,
            "justify_items": null,
            "left": null,
            "margin": null,
            "max_height": null,
            "max_width": null,
            "min_height": null,
            "min_width": null,
            "object_fit": null,
            "object_position": null,
            "order": null,
            "overflow": null,
            "overflow_x": null,
            "overflow_y": null,
            "padding": null,
            "right": null,
            "top": null,
            "visibility": null,
            "width": null
          }
        },
        "c3c8863bde0e4e90800655da68a9cf8f": {
          "model_module": "@jupyter-widgets/controls",
          "model_module_version": "1.5.0",
          "model_name": "HTMLModel",
          "state": {
            "_dom_classes": [],
            "_model_module": "@jupyter-widgets/controls",
            "_model_module_version": "1.5.0",
            "_model_name": "HTMLModel",
            "_view_count": null,
            "_view_module": "@jupyter-widgets/controls",
            "_view_module_version": "1.5.0",
            "_view_name": "HTMLView",
            "description": "",
            "description_tooltip": null,
            "layout": "IPY_MODEL_b580c5b5163f43f1a01860a1d6329afb",
            "placeholder": "​",
            "style": "IPY_MODEL_2e5925e85ff0481ab599a2a0a4e4dfb4",
            "value": " 2.42M/2.42M [00:01&lt;00:00, 1.82MB/s]"
          }
        },
        "c9302b8065144ffe8b62f1ca5892ffc3": {
          "model_module": "@jupyter-widgets/controls",
          "model_module_version": "1.5.0",
          "model_name": "ProgressStyleModel",
          "state": {
            "_model_module": "@jupyter-widgets/controls",
            "_model_module_version": "1.5.0",
            "_model_name": "ProgressStyleModel",
            "_view_count": null,
            "_view_module": "@jupyter-widgets/base",
            "_view_module_version": "1.2.0",
            "_view_name": "StyleView",
            "bar_color": null,
            "description_width": ""
          }
        },
        "c9f2105fed8749e6ad0001ae23e32669": {
          "model_module": "@jupyter-widgets/controls",
          "model_module_version": "1.5.0",
          "model_name": "DescriptionStyleModel",
          "state": {
            "_model_module": "@jupyter-widgets/controls",
            "_model_module_version": "1.5.0",
            "_model_name": "DescriptionStyleModel",
            "_view_count": null,
            "_view_module": "@jupyter-widgets/base",
            "_view_module_version": "1.2.0",
            "_view_name": "StyleView",
            "description_width": ""
          }
        },
        "ca327359660b4b9493a2ff8a5bc8df0d": {
          "model_module": "@jupyter-widgets/base",
          "model_module_version": "1.2.0",
          "model_name": "LayoutModel",
          "state": {
            "_model_module": "@jupyter-widgets/base",
            "_model_module_version": "1.2.0",
            "_model_name": "LayoutModel",
            "_view_count": null,
            "_view_module": "@jupyter-widgets/base",
            "_view_module_version": "1.2.0",
            "_view_name": "LayoutView",
            "align_content": null,
            "align_items": null,
            "align_self": null,
            "border": null,
            "bottom": null,
            "display": null,
            "flex": null,
            "flex_flow": null,
            "grid_area": null,
            "grid_auto_columns": null,
            "grid_auto_flow": null,
            "grid_auto_rows": null,
            "grid_column": null,
            "grid_gap": null,
            "grid_row": null,
            "grid_template_areas": null,
            "grid_template_columns": null,
            "grid_template_rows": null,
            "height": null,
            "justify_content": null,
            "justify_items": null,
            "left": null,
            "margin": null,
            "max_height": null,
            "max_width": null,
            "min_height": null,
            "min_width": null,
            "object_fit": null,
            "object_position": null,
            "order": null,
            "overflow": null,
            "overflow_x": null,
            "overflow_y": null,
            "padding": null,
            "right": null,
            "top": null,
            "visibility": null,
            "width": null
          }
        },
        "d0061a2455d044eab927a9f34ec7d9eb": {
          "model_module": "@jupyter-widgets/base",
          "model_module_version": "1.2.0",
          "model_name": "LayoutModel",
          "state": {
            "_model_module": "@jupyter-widgets/base",
            "_model_module_version": "1.2.0",
            "_model_name": "LayoutModel",
            "_view_count": null,
            "_view_module": "@jupyter-widgets/base",
            "_view_module_version": "1.2.0",
            "_view_name": "LayoutView",
            "align_content": null,
            "align_items": null,
            "align_self": null,
            "border": null,
            "bottom": null,
            "display": null,
            "flex": null,
            "flex_flow": null,
            "grid_area": null,
            "grid_auto_columns": null,
            "grid_auto_flow": null,
            "grid_auto_rows": null,
            "grid_column": null,
            "grid_gap": null,
            "grid_row": null,
            "grid_template_areas": null,
            "grid_template_columns": null,
            "grid_template_rows": null,
            "height": null,
            "justify_content": null,
            "justify_items": null,
            "left": null,
            "margin": null,
            "max_height": null,
            "max_width": null,
            "min_height": null,
            "min_width": null,
            "object_fit": null,
            "object_position": null,
            "order": null,
            "overflow": null,
            "overflow_x": null,
            "overflow_y": null,
            "padding": null,
            "right": null,
            "top": null,
            "visibility": null,
            "width": null
          }
        },
        "df0cdff3868a4c07aa3f55855ecdf9e6": {
          "model_module": "@jupyter-widgets/controls",
          "model_module_version": "1.5.0",
          "model_name": "FloatProgressModel",
          "state": {
            "_dom_classes": [],
            "_model_module": "@jupyter-widgets/controls",
            "_model_module_version": "1.5.0",
            "_model_name": "FloatProgressModel",
            "_view_count": null,
            "_view_module": "@jupyter-widgets/controls",
            "_view_module_version": "1.5.0",
            "_view_name": "ProgressView",
            "bar_style": "success",
            "description": "",
            "description_tooltip": null,
            "layout": "IPY_MODEL_63543ec3683c469b8b86d58be7b08029",
            "max": 2543,
            "min": 0,
            "orientation": "horizontal",
            "style": "IPY_MODEL_5737841c6fb44f2fa11c744f1f4610b5",
            "value": 2543
          }
        },
        "df81f41bfa444d3db04fef128714cc25": {
          "model_module": "@jupyter-widgets/base",
          "model_module_version": "1.2.0",
          "model_name": "LayoutModel",
          "state": {
            "_model_module": "@jupyter-widgets/base",
            "_model_module_version": "1.2.0",
            "_model_name": "LayoutModel",
            "_view_count": null,
            "_view_module": "@jupyter-widgets/base",
            "_view_module_version": "1.2.0",
            "_view_name": "LayoutView",
            "align_content": null,
            "align_items": null,
            "align_self": null,
            "border": null,
            "bottom": null,
            "display": null,
            "flex": null,
            "flex_flow": null,
            "grid_area": null,
            "grid_auto_columns": null,
            "grid_auto_flow": null,
            "grid_auto_rows": null,
            "grid_column": null,
            "grid_gap": null,
            "grid_row": null,
            "grid_template_areas": null,
            "grid_template_columns": null,
            "grid_template_rows": null,
            "height": null,
            "justify_content": null,
            "justify_items": null,
            "left": null,
            "margin": null,
            "max_height": null,
            "max_width": null,
            "min_height": null,
            "min_width": null,
            "object_fit": null,
            "object_position": null,
            "order": null,
            "overflow": null,
            "overflow_x": null,
            "overflow_y": null,
            "padding": null,
            "right": null,
            "top": null,
            "visibility": null,
            "width": null
          }
        },
        "e014c8f59e6b4008826d0862d36642cb": {
          "model_module": "@jupyter-widgets/base",
          "model_module_version": "1.2.0",
          "model_name": "LayoutModel",
          "state": {
            "_model_module": "@jupyter-widgets/base",
            "_model_module_version": "1.2.0",
            "_model_name": "LayoutModel",
            "_view_count": null,
            "_view_module": "@jupyter-widgets/base",
            "_view_module_version": "1.2.0",
            "_view_name": "LayoutView",
            "align_content": null,
            "align_items": null,
            "align_self": null,
            "border": null,
            "bottom": null,
            "display": null,
            "flex": null,
            "flex_flow": null,
            "grid_area": null,
            "grid_auto_columns": null,
            "grid_auto_flow": null,
            "grid_auto_rows": null,
            "grid_column": null,
            "grid_gap": null,
            "grid_row": null,
            "grid_template_areas": null,
            "grid_template_columns": null,
            "grid_template_rows": null,
            "height": null,
            "justify_content": null,
            "justify_items": null,
            "left": null,
            "margin": null,
            "max_height": null,
            "max_width": null,
            "min_height": null,
            "min_width": null,
            "object_fit": null,
            "object_position": null,
            "order": null,
            "overflow": null,
            "overflow_x": null,
            "overflow_y": null,
            "padding": null,
            "right": null,
            "top": null,
            "visibility": null,
            "width": null
          }
        },
        "e458c3e780964f5f91e67a4dd9a7529c": {
          "model_module": "@jupyter-widgets/base",
          "model_module_version": "1.2.0",
          "model_name": "LayoutModel",
          "state": {
            "_model_module": "@jupyter-widgets/base",
            "_model_module_version": "1.2.0",
            "_model_name": "LayoutModel",
            "_view_count": null,
            "_view_module": "@jupyter-widgets/base",
            "_view_module_version": "1.2.0",
            "_view_name": "LayoutView",
            "align_content": null,
            "align_items": null,
            "align_self": null,
            "border": null,
            "bottom": null,
            "display": null,
            "flex": null,
            "flex_flow": null,
            "grid_area": null,
            "grid_auto_columns": null,
            "grid_auto_flow": null,
            "grid_auto_rows": null,
            "grid_column": null,
            "grid_gap": null,
            "grid_row": null,
            "grid_template_areas": null,
            "grid_template_columns": null,
            "grid_template_rows": null,
            "height": null,
            "justify_content": null,
            "justify_items": null,
            "left": null,
            "margin": null,
            "max_height": null,
            "max_width": null,
            "min_height": null,
            "min_width": null,
            "object_fit": null,
            "object_position": null,
            "order": null,
            "overflow": null,
            "overflow_x": null,
            "overflow_y": null,
            "padding": null,
            "right": null,
            "top": null,
            "visibility": null,
            "width": null
          }
        },
        "e56540880b8a41519c5806b81b175a70": {
          "model_module": "@jupyter-widgets/controls",
          "model_module_version": "1.5.0",
          "model_name": "ProgressStyleModel",
          "state": {
            "_model_module": "@jupyter-widgets/controls",
            "_model_module_version": "1.5.0",
            "_model_name": "ProgressStyleModel",
            "_view_count": null,
            "_view_module": "@jupyter-widgets/base",
            "_view_module_version": "1.2.0",
            "_view_name": "StyleView",
            "bar_color": null,
            "description_width": ""
          }
        },
        "ec94e7ddbea746eba5ba6e74df578266": {
          "model_module": "@jupyter-widgets/controls",
          "model_module_version": "1.5.0",
          "model_name": "HBoxModel",
          "state": {
            "_dom_classes": [],
            "_model_module": "@jupyter-widgets/controls",
            "_model_module_version": "1.5.0",
            "_model_name": "HBoxModel",
            "_view_count": null,
            "_view_module": "@jupyter-widgets/controls",
            "_view_module_version": "1.5.0",
            "_view_name": "HBoxView",
            "box_style": "",
            "children": [
              "IPY_MODEL_0ef1ca784c414b0cb8f09f4648121cff",
              "IPY_MODEL_7173c62fa7214f5e80c25135fb2ee206",
              "IPY_MODEL_3283e47dc77b443fa0311f89ee00632d"
            ],
            "layout": "IPY_MODEL_e458c3e780964f5f91e67a4dd9a7529c"
          }
        },
        "ed3d80f5c9c045e59a01a647904451c8": {
          "model_module": "@jupyter-widgets/base",
          "model_module_version": "1.2.0",
          "model_name": "LayoutModel",
          "state": {
            "_model_module": "@jupyter-widgets/base",
            "_model_module_version": "1.2.0",
            "_model_name": "LayoutModel",
            "_view_count": null,
            "_view_module": "@jupyter-widgets/base",
            "_view_module_version": "1.2.0",
            "_view_name": "LayoutView",
            "align_content": null,
            "align_items": null,
            "align_self": null,
            "border": null,
            "bottom": null,
            "display": null,
            "flex": null,
            "flex_flow": null,
            "grid_area": null,
            "grid_auto_columns": null,
            "grid_auto_flow": null,
            "grid_auto_rows": null,
            "grid_column": null,
            "grid_gap": null,
            "grid_row": null,
            "grid_template_areas": null,
            "grid_template_columns": null,
            "grid_template_rows": null,
            "height": null,
            "justify_content": null,
            "justify_items": null,
            "left": null,
            "margin": null,
            "max_height": null,
            "max_width": null,
            "min_height": null,
            "min_width": null,
            "object_fit": null,
            "object_position": null,
            "order": null,
            "overflow": null,
            "overflow_x": null,
            "overflow_y": null,
            "padding": null,
            "right": null,
            "top": null,
            "visibility": null,
            "width": null
          }
        },
        "fc2208d88b914d35ab9a3fcdf916a4f2": {
          "model_module": "@jupyter-widgets/controls",
          "model_module_version": "1.5.0",
          "model_name": "DescriptionStyleModel",
          "state": {
            "_model_module": "@jupyter-widgets/controls",
            "_model_module_version": "1.5.0",
            "_model_name": "DescriptionStyleModel",
            "_view_count": null,
            "_view_module": "@jupyter-widgets/base",
            "_view_module_version": "1.2.0",
            "_view_name": "StyleView",
            "description_width": ""
          }
        },
        "ff9cadda9db3420bbdbeb90cb75b7a15": {
          "model_module": "@jupyter-widgets/base",
          "model_module_version": "1.2.0",
          "model_name": "LayoutModel",
          "state": {
            "_model_module": "@jupyter-widgets/base",
            "_model_module_version": "1.2.0",
            "_model_name": "LayoutModel",
            "_view_count": null,
            "_view_module": "@jupyter-widgets/base",
            "_view_module_version": "1.2.0",
            "_view_name": "LayoutView",
            "align_content": null,
            "align_items": null,
            "align_self": null,
            "border": null,
            "bottom": null,
            "display": null,
            "flex": null,
            "flex_flow": null,
            "grid_area": null,
            "grid_auto_columns": null,
            "grid_auto_flow": null,
            "grid_auto_rows": null,
            "grid_column": null,
            "grid_gap": null,
            "grid_row": null,
            "grid_template_areas": null,
            "grid_template_columns": null,
            "grid_template_rows": null,
            "height": null,
            "justify_content": null,
            "justify_items": null,
            "left": null,
            "margin": null,
            "max_height": null,
            "max_width": null,
            "min_height": null,
            "min_width": null,
            "object_fit": null,
            "object_position": null,
            "order": null,
            "overflow": null,
            "overflow_x": null,
            "overflow_y": null,
            "padding": null,
            "right": null,
            "top": null,
            "visibility": null,
            "width": null
          }
        }
      }
    }
  },
  "nbformat": 4,
  "nbformat_minor": 0
}
